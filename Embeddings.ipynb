{
 "cells": [
  {
   "cell_type": "markdown",
   "metadata": {},
   "source": [
    "# Word and POS tags embeddings\n",
    "\n",
    "\n",
    "## Description\n",
    "In this notebook, we are trying to parse $*.conllu$ files and extract the word embeddings, as well as the POS tags emeddings.\n",
    "\n",
    "## Work to be done:\n",
    "1. Learn how to parse $*.conllu$ files\n",
    "2. Find a way to get all words and POS tags embeddings.\n",
    "3. Prepare data to be ready to be used by BiLSTM"
   ]
  },
  {
   "cell_type": "markdown",
   "metadata": {},
   "source": [
    "### 1.1 Read $*.conllu$ files"
   ]
  },
  {
   "cell_type": "markdown",
   "metadata": {},
   "source": [
    "#### Word class:"
   ]
  },
  {
   "cell_type": "code",
   "execution_count": 24,
   "metadata": {
    "collapsed": true
   },
   "outputs": [],
   "source": [
    "class Word:\n",
    "    \"\"\"Word class that maps all details for a word from a *.conllu file. \"\"\"\n",
    "    \n",
    "    def __init__(self, ID, FORM, LEMMA, UPOSTAG, XPOSTAG, FEATS, HEAD, DEPREL, DEPS, MISC):\n",
    "        self.ID = ID           # Word idx, int starting at 1 for each new sentence; or a range for multiword tokens\n",
    "        self.FORM = FORM       # Word form or punctuation symbol.\n",
    "        self.LEMMA  = LEMMA    # Lemma or stem of word form.\n",
    "        self.UPOSTAG = UPOSTAG # Universal part-of-speech tag.\n",
    "        self.XPOSTAG = XPOSTAG # Language-specific part-of-speech tag; underscore if not available.\n",
    "        self.FEATS = FEATS     # List of morphological features from the universal feature inventory\n",
    "        self.HEAD = HEAD       # Head of the current word, which is either a value of ID or zero (0).\n",
    "        self.DEPREL = DEPREL   # Univ. dep. rel to the HEAD (root iff HEAD = 0) or a defined lang-specific subtype\n",
    "        self.DEPS = DEPS       # Enhanced dependency graph in the form of a list of head-deprel pairs.\n",
    "        self.MISC = MISC       # Any other annotation.\n",
    "    \n",
    "    def __str__(self):\n",
    "        string = ''\n",
    "        \n",
    "        string += self.ID      if self.ID      != None else '_'\n",
    "        string += \" \"\n",
    "        string += self.FORM    # if self.FORM    != None else '_'\n",
    "        string += \" \"\n",
    "        string += self.LEMMA   # if self.LEMMA   != None else '_'\n",
    "        string += \" \"\n",
    "        string += self.UPOSTAG if self.UPOSTAG != None else '_'\n",
    "        string += \" \"\n",
    "        string += self.XPOSTAG if self.XPOSTAG != None else '_'\n",
    "        string += \" \"\n",
    "        string += self.FEATS   if self.FEATS   != None else '_'\n",
    "        string += \" \"\n",
    "        string += self.HEAD    if self.HEAD    != None else '_'\n",
    "        string += \" \"\n",
    "        string += self.DEPREL  if self.DEPREL  != None else '_'\n",
    "        string += \" \"\n",
    "        string += self.DEPS    if self.DEPS    != None else '_'\n",
    "        string += \" \"\n",
    "        string += self.MISC    if self.MISC    != None else '_'\n",
    "        \n",
    "        return string\n",
    "        \n",
    "    @staticmethod\n",
    "    def from_line(line):\n",
    "        tokens = line.split()\n",
    "        \n",
    "        assert len(tokens) == 10\n",
    "        \n",
    "        ID =      tokens[0] if tokens[0] != '_' else None\n",
    "        FORM =    tokens[1] # if tokens[1] != '_' else None\n",
    "        LEMMA =   tokens[2] # if tokens[2] != '_' else None\n",
    "        UPOSTAG = tokens[3] if tokens[3] != '_' else None\n",
    "        XPOSTAG = tokens[4] if tokens[4] != '_' else None\n",
    "        FEATS =   tokens[5] if tokens[5] != '_' else None\n",
    "        HEAD =    tokens[6] if tokens[6] != '_' else None\n",
    "        DEPREL=   tokens[7] if tokens[7] != '_' else None\n",
    "        DEPS =    tokens[8] if tokens[8] != '_' else None\n",
    "        MISC =    tokens[9] if tokens[9] != '_' else None\n",
    "        \n",
    "        return Word(ID, FORM, LEMMA, UPOSTAG, XPOSTAG, FEATS, HEAD, DEPREL, DEPS, MISC)\n",
    "        "
   ]
  },
  {
   "cell_type": "markdown",
   "metadata": {},
   "source": [
    "#### Test Word class:"
   ]
  },
  {
   "cell_type": "code",
   "execution_count": 25,
   "metadata": {},
   "outputs": [
    {
     "name": "stdout",
     "output_type": "stream",
     "text": [
      "4 proves prove VERB VBZ Mood=Ind|Number=Sing|Person=3|Tense=Pres|VerbForm=Fin 0 root 0:root _\n",
      "proves\n"
     ]
    }
   ],
   "source": [
    "test_text = \"4\tproves\tprove\tVERB\tVBZ\tMood=Ind|Number=Sing|Person=3|Tense=Pres|VerbForm=Fin\t0\troot\t0:root\t_\"\n",
    "test_word = Word.from_line(test_text)\n",
    "print(test_word)\n",
    "print(test_word.FORM)"
   ]
  },
  {
   "cell_type": "markdown",
   "metadata": {},
   "source": [
    "#### Sentence class:"
   ]
  },
  {
   "cell_type": "code",
   "execution_count": 26,
   "metadata": {
    "collapsed": true
   },
   "outputs": [],
   "source": [
    "class Sentence:\n",
    "    \"\"\"Sentence class that maps all details for a sentence from a *.conllu file. \"\"\"\n",
    "    \n",
    "    def __init__(self,newdoc_id, send_id, text, words):\n",
    "        self.newdoc_id = newdoc_id\n",
    "        self.send_id = send_id\n",
    "        self.text = text\n",
    "        self.words = words\n",
    "        \n",
    "    def __str__(self):\n",
    "        string = ''\n",
    "        if self.newdoc_id != None:\n",
    "            string += \"# newdoc id = \"\n",
    "            string += str(self.newdoc_id)\n",
    "            string += \"\\n\"\n",
    "        string += \"# send_id = \"\n",
    "        string += str(self.send_id)\n",
    "        string += \"\\n\"\n",
    "        string += \"# text = \"\n",
    "        string += str(self.text)\n",
    "        string += \"\\n\"\n",
    "        sentence_length = len(self.words)\n",
    "        for index, word in enumerate(self.words):\n",
    "            string += str(word)\n",
    "            if index < sentence_length - 1:\n",
    "                string += \"\\n\"\n",
    "        return string\n",
    "    \n",
    "        \n",
    "    @staticmethod\n",
    "    def from_lines(lines):\n",
    "        newdoc_id=''\n",
    "        send_id = ''\n",
    "        text=''\n",
    "        words = []\n",
    "\n",
    "        \n",
    "        for line in lines:\n",
    "            if line.startswith(\"#\"): #misc properties\n",
    "                prop = line.split(\"=\")[1]\n",
    "                if line.startswith(\"newdoc\", 2):\n",
    "                    newdoc_id = prop\n",
    "                    continue\n",
    "                if line.startswith(\"sent_id\", 2):\n",
    "                    send_id = prop\n",
    "                    continue\n",
    "                if line.startswith(\"text\", 2):\n",
    "                    text = prop\n",
    "                    continue\n",
    "                continue\n",
    "            else:# words\n",
    "                if line.split()[0].isdigit(): #index is an integer\n",
    "                    words.append(Word.from_line(line))\n",
    "\n",
    "        return Sentence(newdoc_id, send_id, text, words)"
   ]
  },
  {
   "cell_type": "markdown",
   "metadata": {},
   "source": [
    "#### Test Sentence class:"
   ]
  },
  {
   "cell_type": "code",
   "execution_count": 27,
   "metadata": {
    "scrolled": false
   },
   "outputs": [
    {
     "name": "stdout",
     "output_type": "stream",
     "text": [
      "# newdoc id = \n",
      "# send_id =  weblog-blogspot.com_gettingpolitical_20030906235000_ENG_20030906_235000-0003\n",
      "# text =  Today's incident proves that Sharon has lost his patience and his hope in peace.\n",
      "1 Today today NOUN NN Number=Sing 3 nmod:poss 3:nmod:poss SpaceAfter=No\n",
      "2 's 's PART POS _ 1 case 1:case _\n",
      "3 incident incident NOUN NN Number=Sing 4 nsubj 4:nsubj _\n",
      "4 proves prove VERB VBZ Mood=Ind|Number=Sing|Person=3|Tense=Pres|VerbForm=Fin 0 root 0:root _\n",
      "5 that that SCONJ IN _ 8 mark 8:mark _\n",
      "6 Sharon Sharon PROPN NNP Number=Sing 8 nsubj 8:nsubj _\n",
      "7 has have AUX VBZ Mood=Ind|Number=Sing|Person=3|Tense=Pres|VerbForm=Fin 8 aux 8:aux _\n",
      "8 lost lose VERB VBN Tense=Past|VerbForm=Part 4 ccomp 4:ccomp _\n",
      "9 his he PRON PRP$ Gender=Masc|Number=Sing|Person=3|Poss=Yes|PronType=Prs 10 nmod:poss 10:nmod:poss _\n",
      "10 patience patience NOUN NN Number=Sing 8 obj 8:obj _\n",
      "11 and and CCONJ CC _ 13 cc 13:cc _\n",
      "12 his he PRON PRP$ Gender=Masc|Number=Sing|Person=3|Poss=Yes|PronType=Prs 13 nmod:poss 13:nmod:poss _\n",
      "13 hope hope NOUN NN Number=Sing 10 conj 10:conj _\n",
      "14 in in ADP IN _ 15 case 15:case _\n",
      "15 peace peace NOUN NN Number=Sing 13 nmod 13:nmod SpaceAfter=No\n",
      "16 . . PUNCT . _ 4 punct 4:punct _ \n",
      "\n",
      " Today's incident proves that Sharon has lost his patience and his hope in peace. \n",
      "\n",
      "1 Today today NOUN NN Number=Sing 3 nmod:poss 3:nmod:poss SpaceAfter=No \n",
      "\n"
     ]
    }
   ],
   "source": [
    "lines = [\"# sent_id = weblog-blogspot.com_gettingpolitical_20030906235000_ENG_20030906_235000-0003\",\n",
    "\"# text = Today's incident proves that Sharon has lost his patience and his hope in peace.\",\n",
    "\"1\tToday\ttoday\tNOUN\tNN\tNumber=Sing\t3\tnmod:poss\t3:nmod:poss\tSpaceAfter=No\",\n",
    "\"2\t's\t's\tPART\tPOS\t_\t1\tcase\t1:case\t_\",\n",
    "\"3\tincident\tincident\tNOUN\tNN\tNumber=Sing\t4\tnsubj\t4:nsubj\t_\",\n",
    "\"4\tproves\tprove\tVERB\tVBZ\tMood=Ind|Number=Sing|Person=3|Tense=Pres|VerbForm=Fin\t0\troot\t0:root\t_\",\n",
    "\"5\tthat\tthat\tSCONJ\tIN\t_\t8\tmark\t8:mark\t_\",\n",
    "\"6\tSharon\tSharon\tPROPN\tNNP\tNumber=Sing\t8\tnsubj\t8:nsubj\t_\",\n",
    "\"7\thas\thave\tAUX\tVBZ\tMood=Ind|Number=Sing|Person=3|Tense=Pres|VerbForm=Fin\t8\taux\t8:aux\t_\",\n",
    "\"8\tlost\tlose\tVERB\tVBN\tTense=Past|VerbForm=Part\t4\tccomp\t4:ccomp\t_\",\n",
    "\"9\this\the\tPRON\tPRP$\tGender=Masc|Number=Sing|Person=3|Poss=Yes|PronType=Prs\t10\tnmod:poss\t10:nmod:poss\t_\",\n",
    "\"10\tpatience\tpatience\tNOUN\tNN\tNumber=Sing\t8\tobj\t8:obj\t_\",\n",
    "\"11\tand\tand\tCCONJ\tCC\t_\t13\tcc\t13:cc\t_\",\n",
    "\"12\this\the\tPRON\tPRP$\tGender=Masc|Number=Sing|Person=3|Poss=Yes|PronType=Prs\t13\tnmod:poss\t13:nmod:poss\t_\",\n",
    "\"13\thope\thope\tNOUN\tNN\tNumber=Sing\t10\tconj\t10:conj\t_\",\n",
    "\"14\tin\tin\tADP\tIN\t_\t15\tcase\t15:case\t_\",\n",
    "\"15\tpeace\tpeace\tNOUN\tNN\tNumber=Sing\t13\tnmod\t13:nmod\tSpaceAfter=No\",\n",
    "\"16\t.\t.\tPUNCT\t.\t_\t4\tpunct\t4:punct\t_\"]\n",
    "sentence = Sentence.from_lines(lines)\n",
    "print(str(sentence), \"\\n\")\n",
    "print(sentence.text, \"\\n\")\n",
    "print(sentence.words[0], \"\\n\")"
   ]
  },
  {
   "cell_type": "code",
   "execution_count": 28,
   "metadata": {
    "collapsed": true
   },
   "outputs": [],
   "source": [
    "en_path = \"Annotated training data/UD_English-master/\"\n",
    "en_dev_filename = \"en-ud-dev.conllu\"\n",
    "en_test_filename = \"en-ud-test.conllu\"\n",
    "en_train_filename = \"en-ud-train.conllu\"\n",
    "\n",
    "ro_path = \"Annotated training data/UD_Romanian-dev/\"\n",
    "ro_dev_filename = \"ro-ud-dev.conllu\"\n",
    "ro_test_filename = \"ro-ud-test.conllu\"\n",
    "ro_train_filename = \"ro-ud-train.conllu\"\n",
    "\n",
    "def read_sentences(path, filename):\n",
    "    sentences = []\n",
    "    sentence_lines = []\n",
    "    file = open(path + filename, 'r')\n",
    "    for line in file:\n",
    "        if line == '\\n':\n",
    "            sentences.append(Sentence.from_lines(sentence_lines))\n",
    "            sentence_lines = []\n",
    "        else:\n",
    "            sentence_lines.append(line)\n",
    "            \n",
    "    return sentences\n",
    "\n",
    "\n",
    "en_train_sentences = read_sentences(en_path,en_train_filename)\n",
    "en_dev_sentences = read_sentences(en_path,en_dev_filename)\n",
    "en_test_sentences = read_sentences(en_path,en_test_filename)\n",
    "\n",
    "ro_train_sentences = read_sentences(ro_path,ro_train_filename)\n",
    "ro_dev_sentences = read_sentences(ro_path,ro_dev_filename)\n",
    "ro_test_sentences = read_sentences(ro_path,ro_test_filename)\n",
    "\n",
    "assert len(en_dev_sentences) == 2002# there are 2002 sentences in the english development dataset.\n"
   ]
  },
  {
   "cell_type": "markdown",
   "metadata": {},
   "source": [
    "### 1.2 Write $*.conllu$ files"
   ]
  },
  {
   "cell_type": "code",
   "execution_count": 29,
   "metadata": {
    "collapsed": true
   },
   "outputs": [],
   "source": [
    "def write_sentences(sentences, path, filename):\n",
    "    with open(path + filename, 'w+') as file:\n",
    "        for sentence in sentences:\n",
    "            file.write(str(sentence) + \"\\n\")"
   ]
  },
  {
   "cell_type": "markdown",
   "metadata": {},
   "source": [
    "### 2. Extract words/POS tags and then extract embeddings"
   ]
  },
  {
   "cell_type": "markdown",
   "metadata": {},
   "source": [
    "#### Function for displaying embedded words using t-SNE:"
   ]
  },
  {
   "cell_type": "code",
   "execution_count": 30,
   "metadata": {},
   "outputs": [
    {
     "data": {
      "text/html": [
       "\n",
       "    <div class=\"bk-root\">\n",
       "        <a href=\"https://bokeh.pydata.org\" target=\"_blank\" class=\"bk-logo bk-logo-small bk-logo-notebook\"></a>\n",
       "        <span id=\"3029c349-58c9-44db-b795-a475220e9429\">Loading BokehJS ...</span>\n",
       "    </div>"
      ]
     },
     "metadata": {},
     "output_type": "display_data"
    },
    {
     "data": {
      "application/javascript": [
       "\n",
       "(function(root) {\n",
       "  function now() {\n",
       "    return new Date();\n",
       "  }\n",
       "\n",
       "  var force = true;\n",
       "\n",
       "  if (typeof (root._bokeh_onload_callbacks) === \"undefined\" || force === true) {\n",
       "    root._bokeh_onload_callbacks = [];\n",
       "    root._bokeh_is_loading = undefined;\n",
       "  }\n",
       "\n",
       "  var JS_MIME_TYPE = 'application/javascript';\n",
       "  var HTML_MIME_TYPE = 'text/html';\n",
       "  var EXEC_MIME_TYPE = 'application/vnd.bokehjs_exec.v0+json';\n",
       "  var CLASS_NAME = 'output_bokeh rendered_html';\n",
       "\n",
       "  /**\n",
       "   * Render data to the DOM node\n",
       "   */\n",
       "  function render(props, node) {\n",
       "    var script = document.createElement(\"script\");\n",
       "    node.appendChild(script);\n",
       "  }\n",
       "\n",
       "  /**\n",
       "   * Handle when an output is cleared or removed\n",
       "   */\n",
       "  function handleClearOutput(event, handle) {\n",
       "    var cell = handle.cell;\n",
       "\n",
       "    var id = cell.output_area._bokeh_element_id;\n",
       "    var server_id = cell.output_area._bokeh_server_id;\n",
       "    // Clean up Bokeh references\n",
       "    if (id !== undefined) {\n",
       "      Bokeh.index[id].model.document.clear();\n",
       "      delete Bokeh.index[id];\n",
       "    }\n",
       "\n",
       "    if (server_id !== undefined) {\n",
       "      // Clean up Bokeh references\n",
       "      var cmd = \"from bokeh.io.state import curstate; print(curstate().uuid_to_server['\" + server_id + \"'].get_sessions()[0].document.roots[0]._id)\";\n",
       "      cell.notebook.kernel.execute(cmd, {\n",
       "        iopub: {\n",
       "          output: function(msg) {\n",
       "            var element_id = msg.content.text.trim();\n",
       "            Bokeh.index[element_id].model.document.clear();\n",
       "            delete Bokeh.index[element_id];\n",
       "          }\n",
       "        }\n",
       "      });\n",
       "      // Destroy server and session\n",
       "      var cmd = \"import bokeh.io.notebook as ion; ion.destroy_server('\" + server_id + \"')\";\n",
       "      cell.notebook.kernel.execute(cmd);\n",
       "    }\n",
       "  }\n",
       "\n",
       "  /**\n",
       "   * Handle when a new output is added\n",
       "   */\n",
       "  function handleAddOutput(event, handle) {\n",
       "    var output_area = handle.output_area;\n",
       "    var output = handle.output;\n",
       "\n",
       "    // limit handleAddOutput to display_data with EXEC_MIME_TYPE content only\n",
       "    if ((output.output_type != \"display_data\") || (!output.data.hasOwnProperty(EXEC_MIME_TYPE))) {\n",
       "      return\n",
       "    }\n",
       "\n",
       "    var toinsert = output_area.element.find(`.${CLASS_NAME.split(' ')[0]}`);\n",
       "\n",
       "    if (output.metadata[EXEC_MIME_TYPE][\"id\"] !== undefined) {\n",
       "      toinsert[0].firstChild.textContent = output.data[JS_MIME_TYPE];\n",
       "      // store reference to embed id on output_area\n",
       "      output_area._bokeh_element_id = output.metadata[EXEC_MIME_TYPE][\"id\"];\n",
       "    }\n",
       "    if (output.metadata[EXEC_MIME_TYPE][\"server_id\"] !== undefined) {\n",
       "      var bk_div = document.createElement(\"div\");\n",
       "      bk_div.innerHTML = output.data[HTML_MIME_TYPE];\n",
       "      var script_attrs = bk_div.children[0].attributes;\n",
       "      for (var i = 0; i < script_attrs.length; i++) {\n",
       "        toinsert[0].firstChild.setAttribute(script_attrs[i].name, script_attrs[i].value);\n",
       "      }\n",
       "      // store reference to server id on output_area\n",
       "      output_area._bokeh_server_id = output.metadata[EXEC_MIME_TYPE][\"server_id\"];\n",
       "    }\n",
       "  }\n",
       "\n",
       "  function register_renderer(events, OutputArea) {\n",
       "\n",
       "    function append_mime(data, metadata, element) {\n",
       "      // create a DOM node to render to\n",
       "      var toinsert = this.create_output_subarea(\n",
       "        metadata,\n",
       "        CLASS_NAME,\n",
       "        EXEC_MIME_TYPE\n",
       "      );\n",
       "      this.keyboard_manager.register_events(toinsert);\n",
       "      // Render to node\n",
       "      var props = {data: data, metadata: metadata[EXEC_MIME_TYPE]};\n",
       "      render(props, toinsert[0]);\n",
       "      element.append(toinsert);\n",
       "      return toinsert\n",
       "    }\n",
       "\n",
       "    /* Handle when an output is cleared or removed */\n",
       "    events.on('clear_output.CodeCell', handleClearOutput);\n",
       "    events.on('delete.Cell', handleClearOutput);\n",
       "\n",
       "    /* Handle when a new output is added */\n",
       "    events.on('output_added.OutputArea', handleAddOutput);\n",
       "\n",
       "    /**\n",
       "     * Register the mime type and append_mime function with output_area\n",
       "     */\n",
       "    OutputArea.prototype.register_mime_type(EXEC_MIME_TYPE, append_mime, {\n",
       "      /* Is output safe? */\n",
       "      safe: true,\n",
       "      /* Index of renderer in `output_area.display_order` */\n",
       "      index: 0\n",
       "    });\n",
       "  }\n",
       "\n",
       "  // register the mime type if in Jupyter Notebook environment and previously unregistered\n",
       "  if (root.Jupyter !== undefined) {\n",
       "    var events = require('base/js/events');\n",
       "    var OutputArea = require('notebook/js/outputarea').OutputArea;\n",
       "\n",
       "    if (OutputArea.prototype.mime_types().indexOf(EXEC_MIME_TYPE) == -1) {\n",
       "      register_renderer(events, OutputArea);\n",
       "    }\n",
       "  }\n",
       "\n",
       "  \n",
       "  if (typeof (root._bokeh_timeout) === \"undefined\" || force === true) {\n",
       "    root._bokeh_timeout = Date.now() + 5000;\n",
       "    root._bokeh_failed_load = false;\n",
       "  }\n",
       "\n",
       "  var NB_LOAD_WARNING = {'data': {'text/html':\n",
       "     \"<div style='background-color: #fdd'>\\n\"+\n",
       "     \"<p>\\n\"+\n",
       "     \"BokehJS does not appear to have successfully loaded. If loading BokehJS from CDN, this \\n\"+\n",
       "     \"may be due to a slow or bad network connection. Possible fixes:\\n\"+\n",
       "     \"</p>\\n\"+\n",
       "     \"<ul>\\n\"+\n",
       "     \"<li>re-rerun `output_notebook()` to attempt to load from CDN again, or</li>\\n\"+\n",
       "     \"<li>use INLINE resources instead, as so:</li>\\n\"+\n",
       "     \"</ul>\\n\"+\n",
       "     \"<code>\\n\"+\n",
       "     \"from bokeh.resources import INLINE\\n\"+\n",
       "     \"output_notebook(resources=INLINE)\\n\"+\n",
       "     \"</code>\\n\"+\n",
       "     \"</div>\"}};\n",
       "\n",
       "  function display_loaded() {\n",
       "    var el = document.getElementById(\"3029c349-58c9-44db-b795-a475220e9429\");\n",
       "    if (el != null) {\n",
       "      el.textContent = \"BokehJS is loading...\";\n",
       "    }\n",
       "    if (root.Bokeh !== undefined) {\n",
       "      if (el != null) {\n",
       "        el.textContent = \"BokehJS \" + root.Bokeh.version + \" successfully loaded.\";\n",
       "      }\n",
       "    } else if (Date.now() < root._bokeh_timeout) {\n",
       "      setTimeout(display_loaded, 100)\n",
       "    }\n",
       "  }\n",
       "\n",
       "\n",
       "  function run_callbacks() {\n",
       "    try {\n",
       "      root._bokeh_onload_callbacks.forEach(function(callback) { callback() });\n",
       "    }\n",
       "    finally {\n",
       "      delete root._bokeh_onload_callbacks\n",
       "    }\n",
       "    console.info(\"Bokeh: all callbacks have finished\");\n",
       "  }\n",
       "\n",
       "  function load_libs(js_urls, callback) {\n",
       "    root._bokeh_onload_callbacks.push(callback);\n",
       "    if (root._bokeh_is_loading > 0) {\n",
       "      console.log(\"Bokeh: BokehJS is being loaded, scheduling callback at\", now());\n",
       "      return null;\n",
       "    }\n",
       "    if (js_urls == null || js_urls.length === 0) {\n",
       "      run_callbacks();\n",
       "      return null;\n",
       "    }\n",
       "    console.log(\"Bokeh: BokehJS not loaded, scheduling load and callback at\", now());\n",
       "    root._bokeh_is_loading = js_urls.length;\n",
       "    for (var i = 0; i < js_urls.length; i++) {\n",
       "      var url = js_urls[i];\n",
       "      var s = document.createElement('script');\n",
       "      s.src = url;\n",
       "      s.async = false;\n",
       "      s.onreadystatechange = s.onload = function() {\n",
       "        root._bokeh_is_loading--;\n",
       "        if (root._bokeh_is_loading === 0) {\n",
       "          console.log(\"Bokeh: all BokehJS libraries loaded\");\n",
       "          run_callbacks()\n",
       "        }\n",
       "      };\n",
       "      s.onerror = function() {\n",
       "        console.warn(\"failed to load library \" + url);\n",
       "      };\n",
       "      console.log(\"Bokeh: injecting script tag for BokehJS library: \", url);\n",
       "      document.getElementsByTagName(\"head\")[0].appendChild(s);\n",
       "    }\n",
       "  };var element = document.getElementById(\"3029c349-58c9-44db-b795-a475220e9429\");\n",
       "  if (element == null) {\n",
       "    console.log(\"Bokeh: ERROR: autoload.js configured with elementid '3029c349-58c9-44db-b795-a475220e9429' but no matching script tag was found. \")\n",
       "    return false;\n",
       "  }\n",
       "\n",
       "  var js_urls = [\"https://cdn.pydata.org/bokeh/release/bokeh-0.12.10.min.js\", \"https://cdn.pydata.org/bokeh/release/bokeh-widgets-0.12.10.min.js\", \"https://cdn.pydata.org/bokeh/release/bokeh-tables-0.12.10.min.js\", \"https://cdn.pydata.org/bokeh/release/bokeh-gl-0.12.10.min.js\"];\n",
       "\n",
       "  var inline_js = [\n",
       "    function(Bokeh) {\n",
       "      Bokeh.set_log_level(\"info\");\n",
       "    },\n",
       "    \n",
       "    function(Bokeh) {\n",
       "      \n",
       "    },\n",
       "    function(Bokeh) {\n",
       "      console.log(\"Bokeh: injecting CSS: https://cdn.pydata.org/bokeh/release/bokeh-0.12.10.min.css\");\n",
       "      Bokeh.embed.inject_css(\"https://cdn.pydata.org/bokeh/release/bokeh-0.12.10.min.css\");\n",
       "      console.log(\"Bokeh: injecting CSS: https://cdn.pydata.org/bokeh/release/bokeh-widgets-0.12.10.min.css\");\n",
       "      Bokeh.embed.inject_css(\"https://cdn.pydata.org/bokeh/release/bokeh-widgets-0.12.10.min.css\");\n",
       "      console.log(\"Bokeh: injecting CSS: https://cdn.pydata.org/bokeh/release/bokeh-tables-0.12.10.min.css\");\n",
       "      Bokeh.embed.inject_css(\"https://cdn.pydata.org/bokeh/release/bokeh-tables-0.12.10.min.css\");\n",
       "    }\n",
       "  ];\n",
       "\n",
       "  function run_inline_js() {\n",
       "    \n",
       "    if ((root.Bokeh !== undefined) || (force === true)) {\n",
       "      for (var i = 0; i < inline_js.length; i++) {\n",
       "        inline_js[i].call(root, root.Bokeh);\n",
       "      }if (force === true) {\n",
       "        display_loaded();\n",
       "      }} else if (Date.now() < root._bokeh_timeout) {\n",
       "      setTimeout(run_inline_js, 100);\n",
       "    } else if (!root._bokeh_failed_load) {\n",
       "      console.log(\"Bokeh: BokehJS failed to load within specified timeout.\");\n",
       "      root._bokeh_failed_load = true;\n",
       "    } else if (force !== true) {\n",
       "      var cell = $(document.getElementById(\"3029c349-58c9-44db-b795-a475220e9429\")).parents('.cell').data().cell;\n",
       "      cell.output_area.append_execute_result(NB_LOAD_WARNING)\n",
       "    }\n",
       "\n",
       "  }\n",
       "\n",
       "  if (root._bokeh_is_loading === 0) {\n",
       "    console.log(\"Bokeh: BokehJS loaded, going straight to plotting\");\n",
       "    run_inline_js();\n",
       "  } else {\n",
       "    load_libs(js_urls, function() {\n",
       "      console.log(\"Bokeh: BokehJS plotting callback run at\", now());\n",
       "      run_inline_js();\n",
       "    });\n",
       "  }\n",
       "}(window));"
      ],
      "application/vnd.bokehjs_load.v0+json": "\n(function(root) {\n  function now() {\n    return new Date();\n  }\n\n  var force = true;\n\n  if (typeof (root._bokeh_onload_callbacks) === \"undefined\" || force === true) {\n    root._bokeh_onload_callbacks = [];\n    root._bokeh_is_loading = undefined;\n  }\n\n  \n\n  \n  if (typeof (root._bokeh_timeout) === \"undefined\" || force === true) {\n    root._bokeh_timeout = Date.now() + 5000;\n    root._bokeh_failed_load = false;\n  }\n\n  var NB_LOAD_WARNING = {'data': {'text/html':\n     \"<div style='background-color: #fdd'>\\n\"+\n     \"<p>\\n\"+\n     \"BokehJS does not appear to have successfully loaded. If loading BokehJS from CDN, this \\n\"+\n     \"may be due to a slow or bad network connection. Possible fixes:\\n\"+\n     \"</p>\\n\"+\n     \"<ul>\\n\"+\n     \"<li>re-rerun `output_notebook()` to attempt to load from CDN again, or</li>\\n\"+\n     \"<li>use INLINE resources instead, as so:</li>\\n\"+\n     \"</ul>\\n\"+\n     \"<code>\\n\"+\n     \"from bokeh.resources import INLINE\\n\"+\n     \"output_notebook(resources=INLINE)\\n\"+\n     \"</code>\\n\"+\n     \"</div>\"}};\n\n  function display_loaded() {\n    var el = document.getElementById(\"3029c349-58c9-44db-b795-a475220e9429\");\n    if (el != null) {\n      el.textContent = \"BokehJS is loading...\";\n    }\n    if (root.Bokeh !== undefined) {\n      if (el != null) {\n        el.textContent = \"BokehJS \" + root.Bokeh.version + \" successfully loaded.\";\n      }\n    } else if (Date.now() < root._bokeh_timeout) {\n      setTimeout(display_loaded, 100)\n    }\n  }\n\n\n  function run_callbacks() {\n    try {\n      root._bokeh_onload_callbacks.forEach(function(callback) { callback() });\n    }\n    finally {\n      delete root._bokeh_onload_callbacks\n    }\n    console.info(\"Bokeh: all callbacks have finished\");\n  }\n\n  function load_libs(js_urls, callback) {\n    root._bokeh_onload_callbacks.push(callback);\n    if (root._bokeh_is_loading > 0) {\n      console.log(\"Bokeh: BokehJS is being loaded, scheduling callback at\", now());\n      return null;\n    }\n    if (js_urls == null || js_urls.length === 0) {\n      run_callbacks();\n      return null;\n    }\n    console.log(\"Bokeh: BokehJS not loaded, scheduling load and callback at\", now());\n    root._bokeh_is_loading = js_urls.length;\n    for (var i = 0; i < js_urls.length; i++) {\n      var url = js_urls[i];\n      var s = document.createElement('script');\n      s.src = url;\n      s.async = false;\n      s.onreadystatechange = s.onload = function() {\n        root._bokeh_is_loading--;\n        if (root._bokeh_is_loading === 0) {\n          console.log(\"Bokeh: all BokehJS libraries loaded\");\n          run_callbacks()\n        }\n      };\n      s.onerror = function() {\n        console.warn(\"failed to load library \" + url);\n      };\n      console.log(\"Bokeh: injecting script tag for BokehJS library: \", url);\n      document.getElementsByTagName(\"head\")[0].appendChild(s);\n    }\n  };var element = document.getElementById(\"3029c349-58c9-44db-b795-a475220e9429\");\n  if (element == null) {\n    console.log(\"Bokeh: ERROR: autoload.js configured with elementid '3029c349-58c9-44db-b795-a475220e9429' but no matching script tag was found. \")\n    return false;\n  }\n\n  var js_urls = [\"https://cdn.pydata.org/bokeh/release/bokeh-0.12.10.min.js\", \"https://cdn.pydata.org/bokeh/release/bokeh-widgets-0.12.10.min.js\", \"https://cdn.pydata.org/bokeh/release/bokeh-tables-0.12.10.min.js\", \"https://cdn.pydata.org/bokeh/release/bokeh-gl-0.12.10.min.js\"];\n\n  var inline_js = [\n    function(Bokeh) {\n      Bokeh.set_log_level(\"info\");\n    },\n    \n    function(Bokeh) {\n      \n    },\n    function(Bokeh) {\n      console.log(\"Bokeh: injecting CSS: https://cdn.pydata.org/bokeh/release/bokeh-0.12.10.min.css\");\n      Bokeh.embed.inject_css(\"https://cdn.pydata.org/bokeh/release/bokeh-0.12.10.min.css\");\n      console.log(\"Bokeh: injecting CSS: https://cdn.pydata.org/bokeh/release/bokeh-widgets-0.12.10.min.css\");\n      Bokeh.embed.inject_css(\"https://cdn.pydata.org/bokeh/release/bokeh-widgets-0.12.10.min.css\");\n      console.log(\"Bokeh: injecting CSS: https://cdn.pydata.org/bokeh/release/bokeh-tables-0.12.10.min.css\");\n      Bokeh.embed.inject_css(\"https://cdn.pydata.org/bokeh/release/bokeh-tables-0.12.10.min.css\");\n    }\n  ];\n\n  function run_inline_js() {\n    \n    if ((root.Bokeh !== undefined) || (force === true)) {\n      for (var i = 0; i < inline_js.length; i++) {\n        inline_js[i].call(root, root.Bokeh);\n      }if (force === true) {\n        display_loaded();\n      }} else if (Date.now() < root._bokeh_timeout) {\n      setTimeout(run_inline_js, 100);\n    } else if (!root._bokeh_failed_load) {\n      console.log(\"Bokeh: BokehJS failed to load within specified timeout.\");\n      root._bokeh_failed_load = true;\n    } else if (force !== true) {\n      var cell = $(document.getElementById(\"3029c349-58c9-44db-b795-a475220e9429\")).parents('.cell').data().cell;\n      cell.output_area.append_execute_result(NB_LOAD_WARNING)\n    }\n\n  }\n\n  if (root._bokeh_is_loading === 0) {\n    console.log(\"Bokeh: BokehJS loaded, going straight to plotting\");\n    run_inline_js();\n  } else {\n    load_libs(js_urls, function() {\n      console.log(\"Bokeh: BokehJS plotting callback run at\", now());\n      run_inline_js();\n    });\n  }\n}(window));"
     },
     "metadata": {},
     "output_type": "display_data"
    }
   ],
   "source": [
    "#### Imports\n",
    "from sklearn.cluster import KMeans\n",
    "from sklearn.manifold import TSNE\n",
    "\n",
    "from bokeh.models import ColumnDataSource, LabelSet\n",
    "from bokeh.plotting import figure, show, output_file\n",
    "from bokeh.palettes import d3\n",
    "from bokeh.io import output_notebook\n",
    "output_notebook()\n",
    "\n",
    "def emb_scatter(data, names, N=20, perplexity=30.0):\n",
    "    \"\"\"\n",
    "    Function for plotting embeddings and words using TSNE.\n",
    "    TSNE finds a way to plot multidimensional data to a \n",
    "    bidimensional plane. It assures that data close in the \n",
    "    multidimensionalspace will also be close in budimensional \n",
    "    place, but not the other way around.\n",
    "    \"\"\"\n",
    "    ## try to find some clusters ##\n",
    "    print(\"finding clusters\")\n",
    "    kmeans = KMeans(n_clusters=N)\n",
    "    kmeans.fit(data)\n",
    "    klabels = kmeans.labels_\n",
    "\n",
    "    ## get a tsne fit ##\n",
    "    print(\"fitting tsne\")\n",
    "    tsne = TSNE(n_components=2, perplexity=perplexity)\n",
    "    emb_tsne = tsne.fit_transform(data)\n",
    "    \n",
    "    ## plot the tsne of the embeddings with bokeh ##\n",
    "    # source: https://github.com/oxford-cs-deepnlp-2017/practical-1\n",
    "    p = figure(tools=\"pan,wheel_zoom,reset,save\",\n",
    "               toolbar_location=\"above\",\n",
    "               title=\"T-SNE for most common words\")\n",
    "\n",
    "    # set colormap as a list\n",
    "    colormap = d3['Category20'][N]\n",
    "    colors = [colormap[i] for i in klabels]\n",
    "\n",
    "    source = ColumnDataSource(data=dict(x1=emb_tsne[:,0],\n",
    "                                        x2=emb_tsne[:,1],\n",
    "                                        names=names,\n",
    "                                        colors=colors))\n",
    "\n",
    "    p.scatter(x=\"x1\", y=\"x2\", size=8, source=source, color='colors')\n",
    "\n",
    "    labels = LabelSet(x=\"x1\", y=\"x2\", text=\"names\", y_offset=6,\n",
    "                      text_font_size=\"8pt\", text_color=\"#555555\",\n",
    "                      source=source, text_align='center')\n",
    "    p.add_layout(labels)\n",
    "\n",
    "    show(p)"
   ]
  },
  {
   "cell_type": "code",
   "execution_count": 31,
   "metadata": {
    "collapsed": true
   },
   "outputs": [],
   "source": [
    "import numpy as np\n",
    "import pickle\n",
    "from collections import defaultdict, Counter\n",
    "from random import random\n",
    "import matplotlib.pyplot as plt\n",
    "from gensim.models import Word2Vec"
   ]
  },
  {
   "cell_type": "code",
   "execution_count": 32,
   "metadata": {
    "collapsed": true
   },
   "outputs": [],
   "source": [
    "def get_Gensim_sentences(sentences):\n",
    "    \"\"\"\n",
    "    This function receives a list of Sencences and return \n",
    "    the word and POS sentences in the format Gensim needs, \n",
    "    as well as Counters for words, POS tags and dependency\n",
    "    relation labels.\n",
    "    Format: [['i', 'like', 'custard'],...]\n",
    "    All words are lower-cased\n",
    "    \"\"\"\n",
    "    gensim_word_sentences = []\n",
    "    word_counts = Counter()\n",
    "    gensim_POS_sentences = []\n",
    "    POS_counts = Counter()\n",
    "    label_counts = Counter()\n",
    "    for sentence in sentences:\n",
    "        gensim_word_sentence = []\n",
    "        gensim_POS_sentence = []\n",
    "        for word in sentence.words:\n",
    "            gensim_word_sentence.append(word.FORM.lower())\n",
    "            word_counts[word.FORM.lower()] += 1\n",
    "            gensim_POS_sentence.append(word.UPOSTAG.lower())\n",
    "            POS_counts[word.UPOSTAG.lower()] += 1\n",
    "            # some labels comprize multiple words(i.e: \"nsubj:poss\"), so we take only the first label\n",
    "            label_counts[word.DEPREL.split(\":\")[0].lower()] += 1      \n",
    "        gensim_word_sentences.append(gensim_word_sentence)\n",
    "        gensim_POS_sentences.append(gensim_POS_sentence)\n",
    "    return gensim_word_sentences, word_counts, gensim_POS_sentences, POS_counts, label_counts"
   ]
  },
  {
   "cell_type": "code",
   "execution_count": 33,
   "metadata": {
    "collapsed": true
   },
   "outputs": [],
   "source": [
    "gensim_word_sentences_train, word_counts_train, gensim_POS_sentences_train, POS_counts_train, label_counts_train = get_Gensim_sentences(en_train_sentences)\n",
    "gensim_word_sentences_dev, word_counts_dev, gensim_POS_sentences_dev, POS_counts_dev, label_counts_dev = get_Gensim_sentences(en_dev_sentences)\n",
    "gensim_word_sentences_test, word_counts_test, gensim_POS_sentences_test, POS_counts_test, label_counts_test = get_Gensim_sentences(en_test_sentences)\n",
    "\n",
    "\n",
    "w2i = defaultdict(lambda: len(w2i))\n",
    "i2w = dict()\n",
    "i2w[w2i[\"<UNK>\"]] = \"<UNK>\" # word with index 0 are the words that are unknown.\n",
    "for word in word_counts_train.keys():\n",
    "    if word_counts_train[word] > 1:\n",
    "        i2w[w2i[word]] = word # trick\n",
    "    else:\n",
    "        w2i[word] = 0  # all unknown words have index 0\n",
    "word_vocabulary = word_counts_train.keys()\n",
    "\n",
    "\n",
    "        \n",
    "t2i = defaultdict(lambda: len(t2i))\n",
    "i2t = dict()\n",
    "for tag in POS_counts_train.keys():\n",
    "    i2t[t2i[tag]] = tag # trick\n",
    "pos_tag_vocabulary = POS_counts_train.keys() \n",
    "\n",
    "\n",
    "        \n",
    "l2i = defaultdict(lambda: len(l2i))\n",
    "i2l = dict()\n",
    "for label in label_counts_train.keys():\n",
    "        i2l[l2i[label]] = label # trick\n",
    "\n"
   ]
  },
  {
   "cell_type": "markdown",
   "metadata": {},
   "source": [
    "### a. Gensim Word2Vector trained on our data:"
   ]
  },
  {
   "cell_type": "code",
   "execution_count": 34,
   "metadata": {
    "collapsed": true
   },
   "outputs": [],
   "source": [
    "# gensim_word_model = Word2Vec([[i2w[w2i[word]] for word in sentence] for sentence in gensim_word_sentences_train], size=50, window=5, min_count=1, workers=4)\n",
    "# gensim_POS_model = Word2Vec(gensim_POS_sentences_train, size=50, window=3, min_count=2, workers=4)"
   ]
  },
  {
   "cell_type": "code",
   "execution_count": 35,
   "metadata": {
    "collapsed": true
   },
   "outputs": [],
   "source": [
    "# top_words = [k for k,v in word_counts_train.most_common(1000)]\n",
    "# top_word_vecs = gensim_word_model[top_words]\n",
    "# emb_scatter(top_word_vecs, top_words, N=20)"
   ]
  },
  {
   "cell_type": "code",
   "execution_count": 36,
   "metadata": {
    "collapsed": true
   },
   "outputs": [],
   "source": [
    "# top_POS = [k for k,v in POS_counts_train.most_common(1000)]\n",
    "# top_POS_vecs = gensim_POS_model[top_POS]\n",
    "# emb_scatter(top_POS_vecs, top_POS, N=17)"
   ]
  },
  {
   "cell_type": "markdown",
   "metadata": {},
   "source": [
    "### b. Gensim Word2Vector trained on Wikipedia data:"
   ]
  },
  {
   "cell_type": "code",
   "execution_count": 37,
   "metadata": {
    "collapsed": true
   },
   "outputs": [],
   "source": [
    "# TODO: implement or delete this section."
   ]
  },
  {
   "cell_type": "markdown",
   "metadata": {},
   "source": [
    "### c. GloVe word embeddings from  spacy library(300d):"
   ]
  },
  {
   "cell_type": "code",
   "execution_count": 38,
   "metadata": {
    "collapsed": true
   },
   "outputs": [],
   "source": [
    "# import spacy\n",
    "# glove = spacy.load('en')\n",
    "\n",
    "# def get_spacy_word_model():\n",
    "#     spacy_word_model = {}\n",
    "#     unknown_representation = []\n",
    "#     for word in word_vocabulary:\n",
    "#         if w2i[word] == 0:\n",
    "#             unknown_representation.append(glove(word).vector)\n",
    "#         else:\n",
    "#             spacy_word_model[word] = glove(word).vector\n",
    "#     return defaultdict(lambda: np.sum(unknown_representation, axis=0)/len(unknown_representation), spacy_word_model)\n",
    "\n",
    "# spacy_word_model = get_spacy_word_model()\n",
    "\n",
    "# def get_spacy_pos_model():\n",
    "    \n",
    "#     spacy_POS_model = {}\n",
    "#     for POS_tag in pos_tag_vocabulary:\n",
    "#         spacy_POS_model[POS_tag] = glove(POS_tag).vector\n",
    "#     return spacy_POS_model\n",
    "\n",
    "# spacy_POS_model=get_spacy_pos_model()"
   ]
  },
  {
   "cell_type": "code",
   "execution_count": 39,
   "metadata": {
    "collapsed": true
   },
   "outputs": [],
   "source": [
    "# most_common_words = word_counts_train.most_common(1000)\n",
    "# most_common_words_vectors = []\n",
    "# for word, count in most_common_words:\n",
    "#     most_common_words_vectors.append(spacy_word_model[word])\n",
    "\n",
    "# emb_scatter(most_common_words_vectors, [word for word, count in most_common_words], N=20)"
   ]
  },
  {
   "cell_type": "code",
   "execution_count": 40,
   "metadata": {
    "collapsed": true
   },
   "outputs": [],
   "source": [
    "# pos_vectors = []\n",
    "# for pos_tag in pos_tag_vocabulary:\n",
    "#     pos_vectors.append(spacy_POS_model[pos_tag])\n",
    "# emb_scatter(pos_vectors, list(pos_tag_vocabulary), N=17)"
   ]
  },
  {
   "cell_type": "markdown",
   "metadata": {},
   "source": [
    "### d. GloVe word embeddings from pre-trained word vectors(50d/100d):"
   ]
  },
  {
   "cell_type": "code",
   "execution_count": 41,
   "metadata": {
    "collapsed": true,
    "scrolled": false
   },
   "outputs": [],
   "source": [
    "# def get_glove_pre_trained_word_model():\n",
    "#     # you need to download the file(s) from https://github.com/stanfordnlp/GloVe\n",
    "#     file = open(\"GloveEmbeddings/glove.6B.50d.txt\")\n",
    "#     pre_trained_tokens = {}\n",
    "#     for line in file:\n",
    "#         tokens = line.split()\n",
    "#         pre_trained_tokens[tokens[0]] = tokens[1:]\n",
    "\n",
    "#     # ~2005 found words appearing >1, ~2500 found words appearing =1, ~400 words not found\n",
    "#     pre_trained_unknown_reprez = []\n",
    "#     pre_trained_dict = {}\n",
    "\n",
    "#     for word in w2i.keys():\n",
    "#         if word.lower() in pre_trained_tokens.keys():\n",
    "#             pre_trained_dict[word] = pre_trained_tokens[word]\n",
    "#             if w2i[word] == 0:\n",
    "#                 pre_trained_unknown_reprez.append(pre_trained_tokens[word])\n",
    "        \n",
    "#     unk_reprez = np.sum(np.array(pre_trained_unknown_reprez).astype(np.float),axis=0)/len(pre_trained_unknown_reprez)\n",
    "\n",
    "#     return defaultdict(lambda: unk_reprez, pre_trained_dict)\n",
    "\n",
    "def get_glove_pre_trained_word_model():\n",
    "    file = open(\"glove50d.txt\")\n",
    "    pre_trained_tokens = {}\n",
    "    for line in file:\n",
    "        tokens = line.split()\n",
    "        if tokens[0] != \"<UNK>\":\n",
    "            pre_trained_tokens[tokens[0]] = tokens[1:]\n",
    "        else:\n",
    "            unknown_reprez = tokens[1:]\n",
    "    return defaultdict(lambda:unknown_reprez, pre_trained_tokens)\n",
    "\n",
    "\n",
    "def get_glove_pre_trained_tag_model():\n",
    "    \"\"\"\n",
    "    PLOT TWIST: we get the pos tag embeddings from training \n",
    "    \"\"\"\n",
    "    model = {}\n",
    "    word2vect = Word2Vec(gensim_POS_sentences_train, size=50, window=3, min_count=2, workers=4)\n",
    "    for key in word2vect.wv.vocab.keys():\n",
    "        model[key] = word2vect.wv[key]\n",
    "    return model\n",
    "    \n",
    "    \n",
    "pre_trained_word_model = get_glove_pre_trained_word_model()\n",
    "pre_trained_POS_model = get_glove_pre_trained_tag_model()"
   ]
  },
  {
   "cell_type": "code",
   "execution_count": 42,
   "metadata": {},
   "outputs": [
    {
     "data": {
      "text/plain": [
       "15062"
      ]
     },
     "execution_count": 42,
     "metadata": {},
     "output_type": "execute_result"
    }
   ],
   "source": [
    "len(pre_trained_word_model.keys())"
   ]
  },
  {
   "cell_type": "code",
   "execution_count": 43,
   "metadata": {},
   "outputs": [
    {
     "name": "stdout",
     "output_type": "stream",
     "text": [
      "finding clusters\n",
      "fitting tsne\n"
     ]
    },
    {
     "data": {
      "text/html": [
       "\n",
       "<div class=\"bk-root\">\n",
       "    <div class=\"bk-plotdiv\" id=\"dd989f13-9011-4802-a667-bc645aef013a\"></div>\n",
       "</div>"
      ]
     },
     "metadata": {},
     "output_type": "display_data"
    },
    {
     "data": {
      "application/javascript": [
       "(function(root) {\n",
       "  function embed_document(root) {\n",
       "    var docs_json = {\"e37e7b0b-089d-4984-be46-8021c293264a\":{\"roots\":{\"references\":[{\"attributes\":{\"callback\":null},\"id\":\"29092e8b-0a7b-46eb-b896-eb81f47629da\",\"type\":\"DataRange1d\"},{\"attributes\":{},\"id\":\"9ae54739-3567-4d67-b6f2-893a9e14fb8b\",\"type\":\"BasicTicker\"},{\"attributes\":{\"formatter\":{\"id\":\"b2ffe9b0-5fff-4fa4-a8d6-5c3538a0fee1\",\"type\":\"BasicTickFormatter\"},\"plot\":{\"id\":\"181328c1-c22b-47f9-ac41-fc84d251de24\",\"subtype\":\"Figure\",\"type\":\"Plot\"},\"ticker\":{\"id\":\"6406cd46-20a4-4526-a6a4-b0cc473a2dc3\",\"type\":\"BasicTicker\"}},\"id\":\"d43b7afd-5432-40f2-80be-e74f7da540e9\",\"type\":\"LinearAxis\"},{\"attributes\":{},\"id\":\"e7be015e-bf71-46b3-a182-ac6d0b870870\",\"type\":\"LinearScale\"},{\"attributes\":{},\"id\":\"b2ffe9b0-5fff-4fa4-a8d6-5c3538a0fee1\",\"type\":\"BasicTickFormatter\"},{\"attributes\":{\"below\":[{\"id\":\"d43b7afd-5432-40f2-80be-e74f7da540e9\",\"type\":\"LinearAxis\"}],\"left\":[{\"id\":\"7d2ef6fd-ef0f-45e6-aba4-53c930e1d7a8\",\"type\":\"LinearAxis\"}],\"renderers\":[{\"id\":\"d43b7afd-5432-40f2-80be-e74f7da540e9\",\"type\":\"LinearAxis\"},{\"id\":\"3ce3c980-b235-49ab-8b59-7af2537dfdda\",\"type\":\"Grid\"},{\"id\":\"7d2ef6fd-ef0f-45e6-aba4-53c930e1d7a8\",\"type\":\"LinearAxis\"},{\"id\":\"016ef68d-b635-46d6-8d7b-f091b3434a21\",\"type\":\"Grid\"},{\"id\":\"905641c8-24ff-4e0c-a5b9-ea931b981084\",\"type\":\"GlyphRenderer\"},{\"id\":\"399b02f0-0659-4999-b317-9052081f4fe0\",\"type\":\"LabelSet\"}],\"title\":{\"id\":\"892457a6-b13a-42f0-a453-d7d7ffe5200e\",\"type\":\"Title\"},\"toolbar\":{\"id\":\"ea4b8595-b6d4-48e8-b381-f7f0d88304ec\",\"type\":\"Toolbar\"},\"toolbar_location\":\"above\",\"x_range\":{\"id\":\"589435aa-ea91-420e-ac26-44c449901eac\",\"type\":\"DataRange1d\"},\"x_scale\":{\"id\":\"e7be015e-bf71-46b3-a182-ac6d0b870870\",\"type\":\"LinearScale\"},\"y_range\":{\"id\":\"29092e8b-0a7b-46eb-b896-eb81f47629da\",\"type\":\"DataRange1d\"},\"y_scale\":{\"id\":\"59f9183d-53be-4d7c-8fbf-8e4da3b2fabb\",\"type\":\"LinearScale\"}},\"id\":\"181328c1-c22b-47f9-ac41-fc84d251de24\",\"subtype\":\"Figure\",\"type\":\"Plot\"},{\"attributes\":{\"active_drag\":\"auto\",\"active_inspect\":\"auto\",\"active_scroll\":\"auto\",\"active_tap\":\"auto\",\"tools\":[{\"id\":\"20a4537c-82b6-4753-b0b3-a0acd92ef1f6\",\"type\":\"PanTool\"},{\"id\":\"47b74eef-8c89-42c5-aa87-c775f6e1bee8\",\"type\":\"WheelZoomTool\"},{\"id\":\"553bc427-205e-4296-a371-e470f94f4fae\",\"type\":\"ResetTool\"},{\"id\":\"df7b514c-acd9-4274-8121-3d706c556509\",\"type\":\"SaveTool\"}]},\"id\":\"ea4b8595-b6d4-48e8-b381-f7f0d88304ec\",\"type\":\"Toolbar\"},{\"attributes\":{\"fill_color\":{\"field\":\"colors\"},\"line_color\":{\"field\":\"colors\"},\"size\":{\"units\":\"screen\",\"value\":8},\"x\":{\"field\":\"x1\"},\"y\":{\"field\":\"x2\"}},\"id\":\"9e362085-9a18-49f5-8bf2-907ea8264052\",\"type\":\"Circle\"},{\"attributes\":{},\"id\":\"59f9183d-53be-4d7c-8fbf-8e4da3b2fabb\",\"type\":\"LinearScale\"},{\"attributes\":{},\"id\":\"47b74eef-8c89-42c5-aa87-c775f6e1bee8\",\"type\":\"WheelZoomTool\"},{\"attributes\":{},\"id\":\"553bc427-205e-4296-a371-e470f94f4fae\",\"type\":\"ResetTool\"},{\"attributes\":{\"plot\":null,\"text\":\"T-SNE for most common words\"},\"id\":\"892457a6-b13a-42f0-a453-d7d7ffe5200e\",\"type\":\"Title\"},{\"attributes\":{\"data_source\":{\"id\":\"37ef7229-a6f5-4f8b-aa25-2ee056e051e7\",\"type\":\"ColumnDataSource\"},\"glyph\":{\"id\":\"9e362085-9a18-49f5-8bf2-907ea8264052\",\"type\":\"Circle\"},\"hover_glyph\":null,\"muted_glyph\":null,\"nonselection_glyph\":{\"id\":\"8d91e7b8-c226-4f13-9a84-ffe210969c44\",\"type\":\"Circle\"},\"selection_glyph\":null,\"view\":{\"id\":\"aa15bc4f-d883-4321-ad3e-e05dc6e5d03f\",\"type\":\"CDSView\"}},\"id\":\"905641c8-24ff-4e0c-a5b9-ea931b981084\",\"type\":\"GlyphRenderer\"},{\"attributes\":{\"source\":{\"id\":\"37ef7229-a6f5-4f8b-aa25-2ee056e051e7\",\"type\":\"ColumnDataSource\"}},\"id\":\"aa15bc4f-d883-4321-ad3e-e05dc6e5d03f\",\"type\":\"CDSView\"},{\"attributes\":{},\"id\":\"6406cd46-20a4-4526-a6a4-b0cc473a2dc3\",\"type\":\"BasicTicker\"},{\"attributes\":{\"plot\":{\"id\":\"181328c1-c22b-47f9-ac41-fc84d251de24\",\"subtype\":\"Figure\",\"type\":\"Plot\"},\"source\":{\"id\":\"37ef7229-a6f5-4f8b-aa25-2ee056e051e7\",\"type\":\"ColumnDataSource\"},\"text\":{\"field\":\"names\"},\"text_align\":\"center\",\"text_color\":{\"value\":\"#555555\"},\"text_font_size\":{\"value\":\"8pt\"},\"x\":{\"field\":\"x1\"},\"y\":{\"field\":\"x2\"},\"y_offset\":{\"value\":6}},\"id\":\"399b02f0-0659-4999-b317-9052081f4fe0\",\"type\":\"LabelSet\"},{\"attributes\":{\"fill_alpha\":{\"value\":0.1},\"fill_color\":{\"value\":\"#1f77b4\"},\"line_alpha\":{\"value\":0.1},\"line_color\":{\"value\":\"#1f77b4\"},\"size\":{\"units\":\"screen\",\"value\":8},\"x\":{\"field\":\"x1\"},\"y\":{\"field\":\"x2\"}},\"id\":\"8d91e7b8-c226-4f13-9a84-ffe210969c44\",\"type\":\"Circle\"},{\"attributes\":{},\"id\":\"df7b514c-acd9-4274-8121-3d706c556509\",\"type\":\"SaveTool\"},{\"attributes\":{\"plot\":{\"id\":\"181328c1-c22b-47f9-ac41-fc84d251de24\",\"subtype\":\"Figure\",\"type\":\"Plot\"},\"ticker\":{\"id\":\"6406cd46-20a4-4526-a6a4-b0cc473a2dc3\",\"type\":\"BasicTicker\"}},\"id\":\"3ce3c980-b235-49ab-8b59-7af2537dfdda\",\"type\":\"Grid\"},{\"attributes\":{},\"id\":\"f25e84e8-f5f0-4c4d-b32e-3a91a4b19134\",\"type\":\"BasicTickFormatter\"},{\"attributes\":{\"formatter\":{\"id\":\"f25e84e8-f5f0-4c4d-b32e-3a91a4b19134\",\"type\":\"BasicTickFormatter\"},\"plot\":{\"id\":\"181328c1-c22b-47f9-ac41-fc84d251de24\",\"subtype\":\"Figure\",\"type\":\"Plot\"},\"ticker\":{\"id\":\"9ae54739-3567-4d67-b6f2-893a9e14fb8b\",\"type\":\"BasicTicker\"}},\"id\":\"7d2ef6fd-ef0f-45e6-aba4-53c930e1d7a8\",\"type\":\"LinearAxis\"},{\"attributes\":{\"callback\":null},\"id\":\"589435aa-ea91-420e-ac26-44c449901eac\",\"type\":\"DataRange1d\"},{\"attributes\":{\"callback\":null,\"column_names\":[\"x1\",\"x2\",\"names\",\"colors\"],\"data\":{\"colors\":[\"#7f7f7f\",\"#c5b0d5\",\"#c49c94\",\"#1f77b4\",\"#c5b0d5\",\"#98df8a\",\"#7f7f7f\",\"#f7b6d2\",\"#7f7f7f\",\"#98df8a\",\"#f7b6d2\",\"#c5b0d5\",\"#c5b0d5\",\"#c49c94\",\"#c49c94\",\"#c5b0d5\",\"#98df8a\",\"#e377c2\",\"#e377c2\",\"#e377c2\",\"#98df8a\",\"#c5b0d5\",\"#c5b0d5\",\"#c5b0d5\",\"#1f77b4\",\"#c5b0d5\",\"#f7b6d2\",\"#c49c94\",\"#f7b6d2\",\"#9edae5\",\"#f7b6d2\",\"#9edae5\",\"#1f77b4\",\"#e377c2\",\"#e377c2\",\"#f7b6d2\",\"#c5b0d5\",\"#1f77b4\",\"#c5b0d5\",\"#f7b6d2\",\"#e377c2\",\"#f7b6d2\",\"#e377c2\",\"#1f77b4\",\"#1f77b4\",\"#f7b6d2\",\"#98df8a\",\"#c5b0d5\",\"#f7b6d2\",\"#f7b6d2\",\"#c5b0d5\",\"#c5b0d5\",\"#98df8a\",\"#e377c2\",\"#c5b0d5\",\"#e377c2\",\"#c5b0d5\",\"#f7b6d2\",\"#c5b0d5\",\"#f7b6d2\",\"#e377c2\",\"#c5b0d5\",\"#e377c2\",\"#e377c2\",\"#f7b6d2\",\"#f7b6d2\",\"#2ca02c\",\"#1f77b4\",\"#2ca02c\",\"#c5b0d5\",\"#1f77b4\",\"#f7b6d2\",\"#c5b0d5\",\"#c5b0d5\",\"#c49c94\",\"#f7b6d2\",\"#c49c94\",\"#c5b0d5\",\"#1f77b4\",\"#c5b0d5\",\"#1f77b4\",\"#f7b6d2\",\"#1f77b4\",\"#1f77b4\",\"#f7b6d2\",\"#c5b0d5\",\"#c49c94\",\"#1f77b4\",\"#2ca02c\",\"#c5b0d5\",\"#8c564b\",\"#ff9896\",\"#f7b6d2\",\"#1f77b4\",\"#c5b0d5\",\"#c5b0d5\",\"#e377c2\",\"#1f77b4\",\"#e377c2\",\"#ff7f0e\",\"#c5b0d5\",\"#c5b0d5\",\"#f7b6d2\",\"#e377c2\",\"#c5b0d5\",\"#d62728\",\"#c5b0d5\",\"#1f77b4\",\"#2ca02c\",\"#98df8a\",\"#8c564b\",\"#c5b0d5\",\"#1f77b4\",\"#1f77b4\",\"#98df8a\",\"#c5b0d5\",\"#e377c2\",\"#c5b0d5\",\"#7f7f7f\",\"#1f77b4\",\"#f7b6d2\",\"#f7b6d2\",\"#e377c2\",\"#17becf\",\"#1f77b4\",\"#e377c2\",\"#1f77b4\",\"#c5b0d5\",\"#e377c2\",\"#e377c2\",\"#c5b0d5\",\"#c49c94\",\"#e377c2\",\"#e377c2\",\"#f7b6d2\",\"#c5b0d5\",\"#aec7e8\",\"#1f77b4\",\"#e377c2\",\"#8c564b\",\"#bcbd22\",\"#1f77b4\",\"#1f77b4\",\"#9edae5\",\"#c49c94\",\"#1f77b4\",\"#e377c2\",\"#c5b0d5\",\"#f7b6d2\",\"#f7b6d2\",\"#f7b6d2\",\"#c5b0d5\",\"#9edae5\",\"#17becf\",\"#e377c2\",\"#c5b0d5\",\"#c5b0d5\",\"#c49c94\",\"#1f77b4\",\"#1f77b4\",\"#f7b6d2\",\"#e377c2\",\"#e377c2\",\"#1f77b4\",\"#e377c2\",\"#e377c2\",\"#9edae5\",\"#f7b6d2\",\"#c5b0d5\",\"#1f77b4\",\"#f7b6d2\",\"#7f7f7f\",\"#7f7f7f\",\"#1f77b4\",\"#e377c2\",\"#9467bd\",\"#f7b6d2\",\"#f7b6d2\",\"#9edae5\",\"#e377c2\",\"#c5b0d5\",\"#9467bd\",\"#1f77b4\",\"#ff9896\",\"#ff7f0e\",\"#c5b0d5\",\"#d62728\",\"#7f7f7f\",\"#e377c2\",\"#e377c2\",\"#c5b0d5\",\"#98df8a\",\"#e377c2\",\"#f7b6d2\",\"#bcbd22\",\"#1f77b4\",\"#e377c2\",\"#9edae5\",\"#f7b6d2\",\"#f7b6d2\",\"#c5b0d5\",\"#9edae5\",\"#c7c7c7\",\"#f7b6d2\",\"#dbdb8d\",\"#9edae5\",\"#c5b0d5\",\"#1f77b4\",\"#98df8a\",\"#c5b0d5\",\"#f7b6d2\",\"#2ca02c\",\"#f7b6d2\",\"#bcbd22\",\"#e377c2\",\"#c5b0d5\",\"#e377c2\",\"#f7b6d2\",\"#c5b0d5\",\"#7f7f7f\",\"#1f77b4\",\"#1f77b4\",\"#c7c7c7\",\"#f7b6d2\",\"#c49c94\",\"#f7b6d2\",\"#1f77b4\",\"#c49c94\",\"#c5b0d5\",\"#bcbd22\",\"#d62728\",\"#f7b6d2\",\"#e377c2\",\"#f7b6d2\",\"#f7b6d2\",\"#9edae5\",\"#f7b6d2\",\"#1f77b4\",\"#f7b6d2\",\"#e377c2\",\"#e377c2\",\"#9467bd\",\"#1f77b4\",\"#d62728\",\"#e377c2\",\"#9edae5\",\"#c5b0d5\",\"#e377c2\",\"#1f77b4\",\"#2ca02c\",\"#dbdb8d\",\"#dbdb8d\",\"#2ca02c\",\"#c49c94\",\"#c49c94\",\"#e377c2\",\"#f7b6d2\",\"#f7b6d2\",\"#e377c2\",\"#c5b0d5\",\"#1f77b4\",\"#f7b6d2\",\"#c5b0d5\",\"#c7c7c7\",\"#c7c7c7\",\"#d62728\",\"#ff9896\",\"#1f77b4\",\"#aec7e8\",\"#e377c2\",\"#c49c94\",\"#e377c2\",\"#c5b0d5\",\"#9467bd\",\"#f7b6d2\",\"#d62728\",\"#1f77b4\",\"#f7b6d2\",\"#c49c94\",\"#17becf\",\"#ff9896\",\"#f7b6d2\",\"#e377c2\",\"#d62728\",\"#c5b0d5\",\"#c7c7c7\",\"#c5b0d5\",\"#bcbd22\",\"#c49c94\",\"#17becf\",\"#8c564b\",\"#2ca02c\",\"#bcbd22\",\"#8c564b\",\"#e377c2\",\"#c5b0d5\",\"#d62728\",\"#f7b6d2\",\"#7f7f7f\",\"#f7b6d2\",\"#17becf\",\"#1f77b4\",\"#f7b6d2\",\"#c5b0d5\",\"#98df8a\",\"#c49c94\",\"#e377c2\",\"#e377c2\",\"#c5b0d5\",\"#7f7f7f\",\"#f7b6d2\",\"#9467bd\",\"#e377c2\",\"#1f77b4\",\"#dbdb8d\",\"#f7b6d2\",\"#ff9896\",\"#ff9896\",\"#1f77b4\",\"#c49c94\",\"#ff7f0e\",\"#7f7f7f\",\"#98df8a\",\"#d62728\",\"#7f7f7f\",\"#1f77b4\",\"#c5b0d5\",\"#1f77b4\",\"#f7b6d2\",\"#d62728\",\"#c5b0d5\",\"#f7b6d2\",\"#9467bd\",\"#98df8a\",\"#ff7f0e\",\"#c49c94\",\"#e377c2\",\"#f7b6d2\",\"#1f77b4\",\"#f7b6d2\",\"#aec7e8\",\"#1f77b4\",\"#ff9896\",\"#ff9896\",\"#ff7f0e\",\"#9edae5\",\"#e377c2\",\"#c49c94\",\"#e377c2\",\"#c5b0d5\",\"#c49c94\",\"#1f77b4\",\"#c7c7c7\",\"#1f77b4\",\"#8c564b\",\"#9edae5\",\"#1f77b4\",\"#c5b0d5\",\"#ff9896\",\"#8c564b\",\"#d62728\",\"#7f7f7f\",\"#d62728\",\"#1f77b4\",\"#1f77b4\",\"#98df8a\",\"#ff7f0e\",\"#f7b6d2\",\"#d62728\",\"#f7b6d2\",\"#e377c2\",\"#f7b6d2\",\"#d62728\",\"#e377c2\",\"#9467bd\",\"#e377c2\",\"#f7b6d2\",\"#e377c2\",\"#c49c94\",\"#1f77b4\",\"#e377c2\",\"#c5b0d5\",\"#98df8a\",\"#f7b6d2\",\"#17becf\",\"#c7c7c7\",\"#ff9896\",\"#ff7f0e\",\"#17becf\",\"#c5b0d5\",\"#7f7f7f\",\"#c7c7c7\",\"#e377c2\",\"#f7b6d2\",\"#17becf\",\"#f7b6d2\",\"#9467bd\",\"#7f7f7f\",\"#ffbb78\",\"#2ca02c\",\"#98df8a\",\"#c49c94\",\"#ffbb78\",\"#dbdb8d\",\"#e377c2\",\"#e377c2\",\"#c5b0d5\",\"#2ca02c\",\"#c5b0d5\",\"#1f77b4\",\"#c5b0d5\",\"#2ca02c\",\"#1f77b4\",\"#1f77b4\",\"#ff9896\",\"#ff7f0e\",\"#8c564b\",\"#dbdb8d\",\"#1f77b4\",\"#e377c2\",\"#e377c2\",\"#e377c2\",\"#c7c7c7\",\"#f7b6d2\",\"#dbdb8d\",\"#1f77b4\",\"#ffbb78\",\"#8c564b\",\"#2ca02c\",\"#98df8a\",\"#c49c94\",\"#d62728\",\"#1f77b4\",\"#d62728\",\"#c49c94\",\"#17becf\",\"#c5b0d5\",\"#f7b6d2\",\"#bcbd22\",\"#c49c94\",\"#c5b0d5\",\"#ffbb78\",\"#c7c7c7\",\"#c5b0d5\",\"#1f77b4\",\"#e377c2\",\"#c7c7c7\",\"#f7b6d2\",\"#f7b6d2\",\"#7f7f7f\",\"#d62728\",\"#ff7f0e\",\"#f7b6d2\",\"#ff9896\",\"#8c564b\",\"#ff9896\",\"#dbdb8d\",\"#7f7f7f\",\"#c5b0d5\",\"#c5b0d5\",\"#ffbb78\",\"#1f77b4\",\"#7f7f7f\",\"#e377c2\",\"#c7c7c7\",\"#ff7f0e\",\"#e377c2\",\"#8c564b\",\"#dbdb8d\",\"#1f77b4\",\"#aec7e8\",\"#c5b0d5\",\"#d62728\",\"#e377c2\",\"#c49c94\",\"#ffbb78\",\"#f7b6d2\",\"#c5b0d5\",\"#9edae5\",\"#ffbb78\",\"#c7c7c7\",\"#7f7f7f\",\"#1f77b4\",\"#aec7e8\",\"#ff9896\",\"#1f77b4\",\"#e377c2\",\"#1f77b4\",\"#ff7f0e\",\"#98df8a\",\"#f7b6d2\",\"#17becf\",\"#c7c7c7\",\"#c49c94\",\"#bcbd22\",\"#c5b0d5\",\"#bcbd22\",\"#7f7f7f\",\"#17becf\",\"#e377c2\",\"#17becf\",\"#8c564b\",\"#7f7f7f\",\"#e377c2\",\"#9467bd\",\"#c49c94\",\"#e377c2\",\"#e377c2\",\"#aec7e8\",\"#1f77b4\",\"#bcbd22\",\"#ff7f0e\",\"#ff7f0e\",\"#8c564b\",\"#aec7e8\",\"#7f7f7f\",\"#7f7f7f\",\"#98df8a\",\"#9467bd\",\"#1f77b4\",\"#1f77b4\",\"#c5b0d5\",\"#98df8a\",\"#c49c94\",\"#98df8a\",\"#ff9896\",\"#2ca02c\",\"#d62728\",\"#d62728\",\"#f7b6d2\",\"#9edae5\",\"#17becf\",\"#9467bd\",\"#ffbb78\",\"#ff9896\",\"#9467bd\",\"#d62728\",\"#c7c7c7\",\"#d62728\",\"#98df8a\",\"#e377c2\",\"#f7b6d2\",\"#d62728\",\"#2ca02c\",\"#aec7e8\",\"#8c564b\",\"#d62728\",\"#dbdb8d\",\"#ff7f0e\",\"#9467bd\",\"#1f77b4\",\"#d62728\",\"#f7b6d2\",\"#d62728\",\"#2ca02c\",\"#c49c94\",\"#f7b6d2\",\"#d62728\",\"#d62728\",\"#1f77b4\",\"#7f7f7f\",\"#e377c2\",\"#c49c94\",\"#bcbd22\",\"#1f77b4\",\"#9edae5\",\"#9edae5\",\"#1f77b4\",\"#1f77b4\",\"#c49c94\",\"#9edae5\",\"#aec7e8\",\"#c7c7c7\",\"#e377c2\",\"#c5b0d5\",\"#e377c2\",\"#e377c2\",\"#c49c94\",\"#dbdb8d\",\"#2ca02c\",\"#bcbd22\",\"#98df8a\",\"#ff7f0e\",\"#c7c7c7\",\"#8c564b\",\"#f7b6d2\",\"#ff7f0e\",\"#c49c94\",\"#e377c2\",\"#2ca02c\",\"#f7b6d2\",\"#f7b6d2\",\"#98df8a\",\"#c49c94\",\"#e377c2\",\"#17becf\",\"#9467bd\",\"#1f77b4\",\"#c5b0d5\",\"#98df8a\",\"#1f77b4\",\"#d62728\",\"#f7b6d2\",\"#aec7e8\",\"#dbdb8d\",\"#17becf\",\"#8c564b\",\"#8c564b\",\"#e377c2\",\"#98df8a\",\"#f7b6d2\",\"#d62728\",\"#c7c7c7\",\"#d62728\",\"#9edae5\",\"#d62728\",\"#7f7f7f\",\"#c5b0d5\",\"#98df8a\",\"#f7b6d2\",\"#dbdb8d\",\"#c5b0d5\",\"#98df8a\",\"#c7c7c7\",\"#9edae5\",\"#8c564b\",\"#9edae5\",\"#f7b6d2\",\"#17becf\",\"#c7c7c7\",\"#bcbd22\",\"#d62728\",\"#1f77b4\",\"#ffbb78\",\"#c5b0d5\",\"#ffbb78\",\"#ff9896\",\"#9edae5\",\"#ff9896\",\"#c49c94\",\"#c5b0d5\",\"#98df8a\",\"#7f7f7f\",\"#98df8a\",\"#e377c2\",\"#ff7f0e\",\"#98df8a\",\"#bcbd22\",\"#aec7e8\",\"#9467bd\",\"#7f7f7f\",\"#d62728\",\"#9467bd\",\"#d62728\",\"#dbdb8d\",\"#1f77b4\",\"#d62728\",\"#f7b6d2\",\"#c5b0d5\",\"#9467bd\",\"#c49c94\",\"#1f77b4\",\"#c49c94\",\"#d62728\",\"#c7c7c7\",\"#e377c2\",\"#17becf\",\"#2ca02c\",\"#ff7f0e\",\"#f7b6d2\",\"#f7b6d2\",\"#f7b6d2\",\"#2ca02c\",\"#ff7f0e\",\"#98df8a\",\"#1f77b4\",\"#d62728\",\"#98df8a\",\"#9467bd\",\"#c7c7c7\",\"#c7c7c7\",\"#ff7f0e\",\"#e377c2\",\"#bcbd22\",\"#1f77b4\",\"#bcbd22\",\"#1f77b4\",\"#c7c7c7\",\"#98df8a\",\"#dbdb8d\",\"#c49c94\",\"#17becf\",\"#ff7f0e\",\"#ff7f0e\",\"#aec7e8\",\"#d62728\",\"#2ca02c\",\"#7f7f7f\",\"#d62728\",\"#c49c94\",\"#c5b0d5\",\"#c49c94\",\"#7f7f7f\",\"#d62728\",\"#c5b0d5\",\"#9467bd\",\"#ff9896\",\"#ff7f0e\",\"#e377c2\",\"#98df8a\",\"#98df8a\",\"#aec7e8\",\"#aec7e8\",\"#17becf\",\"#2ca02c\",\"#bcbd22\",\"#9edae5\",\"#8c564b\",\"#bcbd22\",\"#aec7e8\",\"#9467bd\",\"#d62728\",\"#dbdb8d\",\"#e377c2\",\"#1f77b4\",\"#1f77b4\",\"#17becf\",\"#7f7f7f\",\"#d62728\",\"#f7b6d2\",\"#7f7f7f\",\"#ff9896\",\"#e377c2\",\"#bcbd22\",\"#1f77b4\",\"#ff7f0e\",\"#1f77b4\",\"#c7c7c7\",\"#98df8a\",\"#f7b6d2\",\"#8c564b\",\"#f7b6d2\",\"#7f7f7f\",\"#2ca02c\",\"#e377c2\",\"#c49c94\",\"#1f77b4\",\"#e377c2\",\"#9467bd\",\"#ffbb78\",\"#d62728\",\"#7f7f7f\",\"#7f7f7f\",\"#1f77b4\",\"#f7b6d2\",\"#c49c94\",\"#9467bd\",\"#c49c94\",\"#98df8a\",\"#1f77b4\",\"#c49c94\",\"#d62728\",\"#aec7e8\",\"#ff9896\",\"#dbdb8d\",\"#17becf\",\"#dbdb8d\",\"#8c564b\",\"#17becf\",\"#98df8a\",\"#c7c7c7\",\"#f7b6d2\",\"#9edae5\",\"#e377c2\",\"#e377c2\",\"#17becf\",\"#c5b0d5\",\"#1f77b4\",\"#d62728\",\"#d62728\",\"#aec7e8\",\"#c7c7c7\",\"#8c564b\",\"#dbdb8d\",\"#8c564b\",\"#c49c94\",\"#1f77b4\",\"#e377c2\",\"#c5b0d5\",\"#1f77b4\",\"#98df8a\",\"#d62728\",\"#bcbd22\",\"#f7b6d2\",\"#17becf\",\"#1f77b4\",\"#bcbd22\",\"#1f77b4\",\"#ff9896\",\"#d62728\",\"#e377c2\",\"#98df8a\",\"#ff7f0e\",\"#e377c2\",\"#aec7e8\",\"#c5b0d5\",\"#7f7f7f\",\"#9467bd\",\"#ff9896\",\"#9edae5\",\"#ff9896\",\"#aec7e8\",\"#c5b0d5\",\"#7f7f7f\",\"#e377c2\",\"#bcbd22\",\"#f7b6d2\",\"#d62728\",\"#98df8a\",\"#e377c2\",\"#c7c7c7\",\"#9467bd\",\"#1f77b4\",\"#aec7e8\",\"#2ca02c\",\"#e377c2\",\"#c5b0d5\",\"#98df8a\",\"#1f77b4\",\"#7f7f7f\",\"#bcbd22\",\"#f7b6d2\",\"#7f7f7f\",\"#7f7f7f\",\"#1f77b4\",\"#c49c94\",\"#c49c94\",\"#17becf\",\"#bcbd22\",\"#dbdb8d\",\"#c5b0d5\",\"#e377c2\",\"#ff9896\",\"#e377c2\",\"#dbdb8d\",\"#aec7e8\",\"#ff7f0e\",\"#c5b0d5\",\"#17becf\",\"#9467bd\",\"#2ca02c\",\"#7f7f7f\",\"#c49c94\",\"#bcbd22\",\"#7f7f7f\",\"#ff7f0e\",\"#d62728\",\"#98df8a\",\"#c5b0d5\",\"#ffbb78\",\"#f7b6d2\",\"#1f77b4\",\"#f7b6d2\",\"#f7b6d2\",\"#e377c2\",\"#f7b6d2\",\"#f7b6d2\",\"#ff7f0e\",\"#2ca02c\",\"#d62728\",\"#ff7f0e\",\"#f7b6d2\",\"#7f7f7f\",\"#7f7f7f\",\"#98df8a\",\"#c7c7c7\",\"#ff9896\",\"#f7b6d2\",\"#bcbd22\",\"#dbdb8d\",\"#c49c94\",\"#7f7f7f\",\"#ff7f0e\",\"#9467bd\",\"#c5b0d5\",\"#9467bd\",\"#d62728\",\"#c5b0d5\",\"#bcbd22\",\"#c7c7c7\",\"#ff9896\",\"#17becf\",\"#1f77b4\",\"#1f77b4\",\"#9467bd\",\"#e377c2\",\"#bcbd22\",\"#1f77b4\",\"#98df8a\",\"#ff7f0e\",\"#f7b6d2\",\"#dbdb8d\",\"#98df8a\",\"#98df8a\",\"#8c564b\",\"#ffbb78\",\"#ff7f0e\",\"#c7c7c7\",\"#c7c7c7\",\"#2ca02c\",\"#1f77b4\",\"#1f77b4\",\"#c7c7c7\",\"#f7b6d2\",\"#c7c7c7\",\"#bcbd22\",\"#ff7f0e\",\"#ff7f0e\",\"#aec7e8\",\"#c7c7c7\",\"#d62728\",\"#1f77b4\",\"#f7b6d2\",\"#9467bd\",\"#f7b6d2\",\"#1f77b4\",\"#ff9896\",\"#9467bd\",\"#9467bd\",\"#aec7e8\",\"#c5b0d5\",\"#7f7f7f\",\"#17becf\",\"#f7b6d2\",\"#17becf\",\"#17becf\",\"#e377c2\",\"#1f77b4\",\"#17becf\",\"#ff7f0e\",\"#bcbd22\",\"#aec7e8\",\"#c7c7c7\",\"#7f7f7f\",\"#8c564b\",\"#dbdb8d\",\"#8c564b\",\"#e377c2\",\"#aec7e8\",\"#c7c7c7\",\"#bcbd22\",\"#d62728\",\"#dbdb8d\",\"#17becf\",\"#f7b6d2\",\"#dbdb8d\",\"#e377c2\",\"#9467bd\",\"#9467bd\",\"#d62728\",\"#7f7f7f\",\"#ff9896\",\"#2ca02c\",\"#2ca02c\",\"#2ca02c\",\"#9467bd\",\"#1f77b4\",\"#1f77b4\",\"#7f7f7f\",\"#c5b0d5\",\"#e377c2\",\"#ff9896\",\"#c5b0d5\",\"#17becf\",\"#c7c7c7\",\"#e377c2\",\"#98df8a\",\"#e377c2\",\"#e377c2\",\"#aec7e8\",\"#1f77b4\",\"#9edae5\",\"#98df8a\",\"#7f7f7f\",\"#17becf\",\"#ff9896\",\"#98df8a\",\"#c7c7c7\",\"#dbdb8d\",\"#dbdb8d\",\"#98df8a\",\"#ff7f0e\",\"#dbdb8d\",\"#aec7e8\",\"#1f77b4\",\"#c49c94\",\"#bcbd22\",\"#1f77b4\",\"#ff9896\",\"#e377c2\"],\"names\":[\"the\",\".\",\",\",\"to\",\"and\",\"a\",\"of\",\"i\",\"in\",\"is\",\"you\",\"that\",\"it\",\"for\",\"-\",\"have\",\"\\\"\",\"on\",\"was\",\"with\",\"this\",\"be\",\"are\",\"they\",\"not\",\"as\",\"we\",\"'s\",\"my\",\")\",\"do\",\"(\",\"will\",\"he\",\"at\",\"?\",\"but\",\"if\",\"or\",\"your\",\"from\",\"n't\",\"by\",\"can\",\"would\",\"me\",\":\",\"there\",\"so\",\"!\",\"all\",\"has\",\"an\",\"had\",\"one\",\"out\",\"about\",\"what\",\"their\",\"like\",\"time\",\"were\",\"when\",\"up\",\"get\",\"just\",\"his\",\"our\",\"who\",\"some\",\"them\",\"know\",\"which\",\"been\",\"also\",\"am\",\"us\",\"very\",\"any\",\"more\",\"no\",\"good\",\"did\",\"could\",\"him\",\"other\",\"new\",\"go\",\"she\",\"only\",\"please\",\"$\",\"how\",\"should\",\"people\",\"may\",\"then\",\"'\",\"back\",\"said\",\"now\",\"even\",\"...\",\"after\",\"work\",\"bush\",\"well\",\"want\",\"her\",\"great\",\"/\",\"because\",\"way\",\"see\",\"best\",\"than\",\"place\",\"these\",\"into\",\"take\",\"'m\",\"going\",\"over\",\"service\",\"need\",\"thanks\",\"make\",\"many\",\"before\",\"year\",\"number\",\"here\",\"day\",\"two\",\"think\",\"much\",\"food\",\"let\",\"first\",\"s\",\"its\",\"call\",\"does\",\"2\",\"--\",\"help\",\"years\",\"being\",\"never\",\"really\",\"'ll\",\"most\",\"pm\",\"use\",\"made\",\"still\",\"same\",\"world\",\"right\",\"say\",\"got\",\"another\",\"last\",\"give\",\"off\",\"since\",\"3\",\"'ve\",\"those\",\"find\",\"too\",\"where\",\"around\",\"put\",\"again\",\"iraq\",\"sure\",\"little\",\"1\",\"down\",\"long\",\"al\",\"better\",\"price\",\"&\",\"both\",\"told\",\"through\",\"next\",\"while\",\"few\",\"called\",\"days\",\"look\",\"enron\",\"come\",\"home\",\"4\",\"feel\",\"always\",\"used\",\";\",\"business\",\"'re\",\"car\",\"5\",\"such\",\"change\",\"name\",\"own\",\"every\",\"family\",\"lot\",\"money\",\"week\",\"however\",\"took\",\"ca\",\"ever\",\"between\",\"done\",\"keep\",\"experience\",\"something\",\"states\",\"love\",\"try\",\"united\",\"already\",\"company\",\"office\",\"anyone\",\"night\",\"things\",\"doing\",\"10\",\"looking\",\"job\",\"thing\",\"under\",\"end\",\"iran\",\"recommend\",\"staff\",\"went\",\"m\",\"each\",\"came\",\"might\",\"life\",\"attached\",\"room\",\"old\",\"group\",\"china\",\"away\",\"anything\",\"nice\",\"against\",\"found\",\"order\",\"getting\",\"once\",\"power\",\"problem\",\"questions\",\"nt\",\"hope\",\"water\",\"point\",\"american\",\"during\",\"though\",\"military\",\"thank\",\"state\",\"able\",\"bad\",\"meeting\",\"phone\",\"amount\",\"nothing\",\"times\",\"president\",\"having\",\"care\",\"far\",\"deal\",\"today\",\"email\",\"!!\",\"person\",\"agreement\",\"..\",\"left\",\"actually\",\"asked\",\"yes\",\"high\",\"big\",\"information\",\"without\",\"else\",\"live\",\"excellent\",\"country\",\"three\",\"sent\",\"working\",\"small\",\"someone\",\"war\",\"until\",\"trying\",\"house\",\"why\",\"per\",\"gas\",\"must\",\"india\",\"john\",\"part\",\"date\",\"government\",\"area\",\"believe\",\"least\",\"enough\",\"ok\",\"review\",\"probably\",\"hard\",\"qaeda\",\"read\",\"says\",\"list\",\"later\",\"tell\",\"wanted\",\"everything\",\"horse\",\"send\",\"oil\",\"percentage\",\"school\",\"6\",\"months\",\"national\",\"start\",\"different\",\"international\",\"forward\",\"due\",\"leave\",\"....\",\"20\",\"free\",\"yet\",\"below\",\"!!!\",\"case\",\"line\",\"received\",\"possible\",\"stay\",\"real\",\"george\",\"thought\",\"letter\",\"bit\",\"friday\",\"talk\",\"report\",\"taking\",\"security\",\"second\",\"pretty\",\"month\",\"friendly\",\"needs\",\"set\",\"fact\",\"full\",\"'d\",\"check\",\"system\",\"pay\",\"dr.\",\"customer\",\"highly\",\"within\",\"energy\",\"hours\",\"everyone\",\"using\",\"understand\",\"pakistan\",\"places\",\"2005\",\"couple\",\"show\",\"open\",\"september\",\"space\",\"soon\",\"run\",\"several\",\"friend\",\"less\",\"question\",\"making\",\"friends\",\"return\",\"ask\",\"cost\",\"mark\",\"<<\",\"hotel\",\"wo\",\"following\",\"early\",\"close\",\"process\",\"mind\",\"front\",\"wait\",\"2003\",\">>\",\"children\",\"whole\",\"based\",\"issue\",\"means\",\"comments\",\"visit\",\"services\",\"either\",\"guys\",\"plan\",\"including\",\"americans\",\"april\",\"problems\",\"almost\",\"hand\",\"gave\",\"global\",\"happy\",\"quite\",\"along\",\"message\",\"mr.\",\"kind\",\"buy\",\"fax\",\"prices\",\"store\",\"town\",\"become\",\"together\",\"2004\",\"whether\",\"outside\",\"monday\",\"issues\",\"jeff\",\"game\",\"*\",\"restaurant\",\"helpful\",\"eat\",\"although\",\"legal\",\"ago\",\"top\",\"2001\",\"remember\",\"others\",\"minutes\",\"july\",\"important\",\"above\",\"clean\",\"cat\",\"market\",\"likely\",\"weeks\",\"add\",\"texas\",\"fine\",\"maybe\",\"file\",\"quality\",\"members\",\"program\",\"given\",\"credit\",\"large\",\"provide\",\"morning\",\"available\",\">\",\"air\",\"earlier\",\"zawahiri\",\"indian\",\"test\",\"late\",\"dog\",\"tried\",\"draft\",\"sara\",\"houston\",\"<\",\"hair\",\"south\",\"north\",\"form\",\"peace\",\"answer\",\"reason\",\"especially\",\"\\u2019s\",\"meet\",\"note\",\"worth\",\"death\",\"discuss\",\"regards\",\"fun\",\"b\",\"nasa\",\"iraqi\",\"2000\",\"rate\",\"afghanistan\",\"general\",\"further\",\"support\",\"word\",\"coming\",\"kids\",\"law\",\"doctor\",\"anthrax\",\"etc\",\"request\",\"tank\",\"former\",\"israel\",\"stop\",\"charge\",\"guy\",\"according\",\"young\",\"canada\",\"easy\",\"regarding\",\"news\",\"continue\",\"city\",\"started\",\"local\",\"bill\",\"needed\",\"11\",\"points\",\"mean\",\"move\",\"professional\",\"#\",\"cage\",\"level\",\"past\",\"ones\",\"finally\",\"four\",\"recently\",\"door\",\"man\",\"options\",\"upon\",\"mike\",\"changes\",\":)\",\"wonderful\",\"head\",\"leaders\",\"team\",\"living\",\"seems\",\"course\",\"language\",\"countries\",\"period\",\"contact\",\"weapons\",\"position\",\"seen\",\"known\",\"instead\",\"address\",\"wrong\",\"feed\",\"walk\",\"customers\",\"[\",\"]\",\"half\",\"makes\",\"sorry\",\"political\",\"control\",\"response\",\"12\",\"campaign\",\"entire\",\"extremely\",\"comes\",\"definitely\",\"lots\",\"usually\",\"works\",\"poor\",\"%\",\"vet\",\"15\",\"hear\",\"website\",\"natural\",\"project\",\"administration\",\"bring\",\"june\",\"often\",\"march\",\"million\",\"30\",\"100\",\"conference\",\"taken\",\"book\",\"sea\",\"light\",\"short\",\"manager\",\"subject\",\"board\",\"pet\",\"forces\",\"side\",\"party\",\"attack\",\"elections\",\"street\",\"expect\",\"public\",\"guess\",\"interested\",\"taliban\",\"major\",\"idea\",\"currently\",\"special\",\"human\",\"trip\",\"e-mail\",\"girl\",\"paul\",\"amazing\",\"yourself\",\"heard\",\"baby\",\"owner\",\"type\",\"situation\",\"saying\",\"mentioned\",\"force\",\"health\",\"strong\",\"worked\",\"thursday\",\"offer\",\"notice\",\"federal\",\"unless\",\"risk\",\"god\",\"metal\",\"include\",\"access\",\"st.\",\"chris\",\"eggs\",\"officials\",\"wife\",\"main\",\"rights\",\"key\",\"among\",\"america\",\"region\",\"press\",\"certain\",\"intelligence\",\"50\",\"david\",\"kept\",\"\\u201c\",\"\\u201d\",\"white\",\"animals\",\"site\",\"parents\",\"tax\",\"7\",\"@\",\"contract\",\"cats\",\"army\",\"reports\",\"inside\",\"final\",\"simply\",\"clear\",\"media\",\"across\",\"policy\",\"looks\",\"huge\",\"dollars\",\"weekend\",\"trust\",\"shall\",\"kay\",\"tomorrow\",\"management\",\"perfect\",\"anyway\",\".?\",\"felt\",\"near\",\"dead\",\"behind\",\"recent\",\"future\",\"spent\",\"musharraf\",\"2002\",\"religious\",\"west\",\"moving\",\"quickly\",\"talking\",\"u.s.\",\"suicide\",\"groups\",\"piece\",\"face\",\"london\",\"planning\",\"black\",\"value\",\"lunch\",\"copy\",\"dinner\",\"counterparty\",\"application\",\"reviews\",\"activities\",\"gone\",\"25\",\"worst\",\"six\",\"provided\",\"perhaps\",\"reasonable\",\"cia\",\"act\",\"fish\",\"product\",\"hi\",\"cruise\",\"rude\",\"member\",\"turn\",\"running\",\"rest\",\"chance\",\"history\",\"post\",\"settlement\",\"play\",\"daily\",\"ready\",\"option\",\"save\",\"cut\",\"department\",\"saw\",\"example\",\"vince\",\"brought\",\"red\",\"sometimes\",\"gulf\",\"egyptian\",\"total\",\"8\",\"paid\",\"winter\",\"longer\",\"areas\",\"yesterday\",\"signed\",\"learn\",\"committee\",\"true\",\"summer\",\"lack\",\"threat\",\"willing\",\"hot\",\"body\",\"fall\",\"themselves\",\"itself\",\"follow\",\"island\",\"basis\",\"enjoy\",\"islands\",\"western\",\"sign\",\"attend\",\"europe\",\"personal\",\"additional\",\"drive\",\"expensive\",\"sunday\",\"fixed\",\"afternoon\",\"bus\",\"snake\",\"university\",\"except\",\"tv\",\"islamic\",\"treated\",\"middle\",\"held\",\"current\",\"east\",\"york\",\"action\",\"shows\",\"rather\",\"january\",\"seem\",\"hold\",\"comfortable\",\"thinking\",\"moved\",\"goes\",\"seeing\",\"richard\",\"marriage\",\"attention\",\"executive\",\"horrible\",\"circle\",\"location\",\"takes\",\"waste\",\"delivery\",\"myself\",\"initial\",\"shop\",\"vietnam\",\"population\",\"center\",\"arab\",\"involved\",\"arms\",\"washington\",\"alone\",\"interest\",\"related\",\"nearly\",\"search\",\"necessary\",\"pick\",\"leader\",\"lost\",\"term\",\"decided\",\"version\",\"guard\",\"knew\",\"desk\",\"cover\",\"single\",\"info\",\"august\",\"born\",\"result\",\"overall\",\"hospital\",\"quick\",\"wants\",\"social\",\"absolutely\",\"financial\",\"approved\",\"san\",\"carol\",\"species\",\"education\",\"commission\",\"putting\",\"playing\",\"attacks\",\"certainly\",\"giving\",\"trading\",\"ltte\",\"delhi\",\"fresh\",\"numbers\",\"parts\",\"connection\",\"stuff\",\"advice\",\"link\",\"hands\",\"matter\",\"computer\",\"lopez\",\"employees\",\"sun\",\"treatment\",\"range\",\"k\",\"box\",\"eb\",\"schedule\",\"warm\",\"cause\",\"budget\",\"ordered\",\"menu\",\"visa\",\"awesome\",\"pizza\",\"third\",\"jihad\",\"terror\",\"court\",\"road\",\"increase\",\"birth\",\"families\",\"child\",\"pakistani\",\"whatever\",\"apply\",\"territory\",\"dangerous\",\"twice\",\"sales\",\"considered\",\"online\",\"development\",\"lead\",\"paper\",\"five\",\"record\",\"dogs\",\"step\",\"14\",\"beautiful\",\"andaman\",\"travel\",\"cash\",\"changed\",\"research\",\"train\",\"waiting\",\"simple\",\"california\",\"station\",\"eating\",\"safe\",\"paris\",\"payment\",\"handle\",\"stock\",\"hour\"],\"x1\":{\"__ndarray__\":\"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\",\"dtype\":\"float32\",\"shape\":[1000]},\"x2\":{\"__ndarray__\":\"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\",\"dtype\":\"float32\",\"shape\":[1000]}}},\"id\":\"37ef7229-a6f5-4f8b-aa25-2ee056e051e7\",\"type\":\"ColumnDataSource\"},{\"attributes\":{},\"id\":\"20a4537c-82b6-4753-b0b3-a0acd92ef1f6\",\"type\":\"PanTool\"},{\"attributes\":{\"dimension\":1,\"plot\":{\"id\":\"181328c1-c22b-47f9-ac41-fc84d251de24\",\"subtype\":\"Figure\",\"type\":\"Plot\"},\"ticker\":{\"id\":\"9ae54739-3567-4d67-b6f2-893a9e14fb8b\",\"type\":\"BasicTicker\"}},\"id\":\"016ef68d-b635-46d6-8d7b-f091b3434a21\",\"type\":\"Grid\"}],\"root_ids\":[\"181328c1-c22b-47f9-ac41-fc84d251de24\"]},\"title\":\"Bokeh Application\",\"version\":\"0.12.10\"}};\n",
       "    var render_items = [{\"docid\":\"e37e7b0b-089d-4984-be46-8021c293264a\",\"elementid\":\"dd989f13-9011-4802-a667-bc645aef013a\",\"modelid\":\"181328c1-c22b-47f9-ac41-fc84d251de24\"}];\n",
       "\n",
       "    root.Bokeh.embed.embed_items(docs_json, render_items);\n",
       "  }\n",
       "\n",
       "  if (root.Bokeh !== undefined) {\n",
       "    embed_document(root);\n",
       "  } else {\n",
       "    var attempts = 0;\n",
       "    var timer = setInterval(function(root) {\n",
       "      if (root.Bokeh !== undefined) {\n",
       "        embed_document(root);\n",
       "        clearInterval(timer);\n",
       "      }\n",
       "      attempts++;\n",
       "      if (attempts > 100) {\n",
       "        console.log(\"Bokeh: ERROR: Unable to embed document because BokehJS library is missing\")\n",
       "        clearInterval(timer);\n",
       "      }\n",
       "    }, 10, root)\n",
       "  }\n",
       "})(window);"
      ],
      "application/vnd.bokehjs_exec.v0+json": ""
     },
     "metadata": {
      "application/vnd.bokehjs_exec.v0+json": {
       "id": "181328c1-c22b-47f9-ac41-fc84d251de24"
      }
     },
     "output_type": "display_data"
    }
   ],
   "source": [
    "word_vector = []\n",
    "word_list = []\n",
    "for word, count in word_counts_train.most_common(1000):\n",
    "    word_list.append(word)\n",
    "    word_vector.append(pre_trained_word_model[word])\n",
    "emb_scatter(word_vector, word_list, N=20)"
   ]
  },
  {
   "cell_type": "code",
   "execution_count": 44,
   "metadata": {},
   "outputs": [
    {
     "name": "stdout",
     "output_type": "stream",
     "text": [
      "finding clusters\n",
      "fitting tsne\n"
     ]
    },
    {
     "data": {
      "text/html": [
       "\n",
       "<div class=\"bk-root\">\n",
       "    <div class=\"bk-plotdiv\" id=\"e4281d6f-3371-4e13-9001-090b50a09b71\"></div>\n",
       "</div>"
      ]
     },
     "metadata": {},
     "output_type": "display_data"
    },
    {
     "data": {
      "application/javascript": [
       "(function(root) {\n",
       "  function embed_document(root) {\n",
       "    var docs_json = {\"1d9bcd46-438e-42b1-bc6a-eedbb0004fd4\":{\"roots\":{\"references\":[{\"attributes\":{},\"id\":\"b6e36974-ae6d-4e2d-a2c2-bc40b82fca2a\",\"type\":\"BasicTicker\"},{\"attributes\":{\"plot\":null,\"text\":\"T-SNE for most common words\"},\"id\":\"8e9398d5-58bf-4f57-b75d-ca0701043870\",\"type\":\"Title\"},{\"attributes\":{},\"id\":\"22a2b7a2-e60b-4170-8164-1f917f3c73c4\",\"type\":\"ResetTool\"},{\"attributes\":{},\"id\":\"4f07a42b-e686-4601-b25f-98c42bd6db10\",\"type\":\"BasicTicker\"},{\"attributes\":{\"source\":{\"id\":\"570652f4-03b4-419c-b452-db4bc9868f29\",\"type\":\"ColumnDataSource\"}},\"id\":\"e306b56b-088d-4685-8db6-917a1e7166e7\",\"type\":\"CDSView\"},{\"attributes\":{\"formatter\":{\"id\":\"5af4c8ba-aa63-41be-900e-485d0df60450\",\"type\":\"BasicTickFormatter\"},\"plot\":{\"id\":\"4e5efd59-460f-42e6-956c-d8a85e324032\",\"subtype\":\"Figure\",\"type\":\"Plot\"},\"ticker\":{\"id\":\"4f07a42b-e686-4601-b25f-98c42bd6db10\",\"type\":\"BasicTicker\"}},\"id\":\"5b7c486f-90d9-4f5a-bc98-f16b314b6e3d\",\"type\":\"LinearAxis\"},{\"attributes\":{\"dimension\":1,\"plot\":{\"id\":\"4e5efd59-460f-42e6-956c-d8a85e324032\",\"subtype\":\"Figure\",\"type\":\"Plot\"},\"ticker\":{\"id\":\"4f07a42b-e686-4601-b25f-98c42bd6db10\",\"type\":\"BasicTicker\"}},\"id\":\"6eb65cc1-1f6e-43c8-9168-8060d7cd1030\",\"type\":\"Grid\"},{\"attributes\":{\"below\":[{\"id\":\"d7bf1b95-fb18-4416-8c80-76d0086937f9\",\"type\":\"LinearAxis\"}],\"left\":[{\"id\":\"5b7c486f-90d9-4f5a-bc98-f16b314b6e3d\",\"type\":\"LinearAxis\"}],\"renderers\":[{\"id\":\"d7bf1b95-fb18-4416-8c80-76d0086937f9\",\"type\":\"LinearAxis\"},{\"id\":\"9a02f96b-263b-4bcc-8e2f-fed305d53543\",\"type\":\"Grid\"},{\"id\":\"5b7c486f-90d9-4f5a-bc98-f16b314b6e3d\",\"type\":\"LinearAxis\"},{\"id\":\"6eb65cc1-1f6e-43c8-9168-8060d7cd1030\",\"type\":\"Grid\"},{\"id\":\"df87d742-97f1-4134-a331-d283766e7bae\",\"type\":\"GlyphRenderer\"},{\"id\":\"48638bad-8406-4b41-95f0-3275f7c03867\",\"type\":\"LabelSet\"}],\"title\":{\"id\":\"8e9398d5-58bf-4f57-b75d-ca0701043870\",\"type\":\"Title\"},\"toolbar\":{\"id\":\"80c890ac-d755-4596-b824-b26db73de2ad\",\"type\":\"Toolbar\"},\"toolbar_location\":\"above\",\"x_range\":{\"id\":\"3a7be15e-17f5-4b0a-9c90-9c34fb19a6a7\",\"type\":\"DataRange1d\"},\"x_scale\":{\"id\":\"c6f7a56b-8aaa-45f1-8cba-877de657a3ad\",\"type\":\"LinearScale\"},\"y_range\":{\"id\":\"a66e2e3c-7f41-475f-bfb7-26938c0847f0\",\"type\":\"DataRange1d\"},\"y_scale\":{\"id\":\"b518f5e2-04e1-4e38-af20-60b589c18095\",\"type\":\"LinearScale\"}},\"id\":\"4e5efd59-460f-42e6-956c-d8a85e324032\",\"subtype\":\"Figure\",\"type\":\"Plot\"},{\"attributes\":{\"data_source\":{\"id\":\"570652f4-03b4-419c-b452-db4bc9868f29\",\"type\":\"ColumnDataSource\"},\"glyph\":{\"id\":\"997f2fbc-3661-497e-9212-791ffcce88be\",\"type\":\"Circle\"},\"hover_glyph\":null,\"muted_glyph\":null,\"nonselection_glyph\":{\"id\":\"07a04855-6c8b-4135-a237-4dcf17c656f6\",\"type\":\"Circle\"},\"selection_glyph\":null,\"view\":{\"id\":\"e306b56b-088d-4685-8db6-917a1e7166e7\",\"type\":\"CDSView\"}},\"id\":\"df87d742-97f1-4134-a331-d283766e7bae\",\"type\":\"GlyphRenderer\"},{\"attributes\":{\"plot\":{\"id\":\"4e5efd59-460f-42e6-956c-d8a85e324032\",\"subtype\":\"Figure\",\"type\":\"Plot\"},\"source\":{\"id\":\"570652f4-03b4-419c-b452-db4bc9868f29\",\"type\":\"ColumnDataSource\"},\"text\":{\"field\":\"names\"},\"text_align\":\"center\",\"text_color\":{\"value\":\"#555555\"},\"text_font_size\":{\"value\":\"8pt\"},\"x\":{\"field\":\"x1\"},\"y\":{\"field\":\"x2\"},\"y_offset\":{\"value\":6}},\"id\":\"48638bad-8406-4b41-95f0-3275f7c03867\",\"type\":\"LabelSet\"},{\"attributes\":{},\"id\":\"5af4c8ba-aa63-41be-900e-485d0df60450\",\"type\":\"BasicTickFormatter\"},{\"attributes\":{\"fill_color\":{\"field\":\"colors\"},\"line_color\":{\"field\":\"colors\"},\"size\":{\"units\":\"screen\",\"value\":8},\"x\":{\"field\":\"x1\"},\"y\":{\"field\":\"x2\"}},\"id\":\"997f2fbc-3661-497e-9212-791ffcce88be\",\"type\":\"Circle\"},{\"attributes\":{},\"id\":\"fb582af2-a4e8-42bc-9a93-d7039a72a582\",\"type\":\"PanTool\"},{\"attributes\":{},\"id\":\"5af63a77-1fe2-44b8-8fb6-23a3403e5a3b\",\"type\":\"WheelZoomTool\"},{\"attributes\":{},\"id\":\"84acd9f2-d65b-42a0-aea3-9d2902956967\",\"type\":\"SaveTool\"},{\"attributes\":{\"callback\":null},\"id\":\"3a7be15e-17f5-4b0a-9c90-9c34fb19a6a7\",\"type\":\"DataRange1d\"},{\"attributes\":{},\"id\":\"c6f7a56b-8aaa-45f1-8cba-877de657a3ad\",\"type\":\"LinearScale\"},{\"attributes\":{\"callback\":null,\"column_names\":[\"x1\",\"x2\",\"names\",\"colors\"],\"data\":{\"colors\":[\"#98df8a\",\"#1f77b4\",\"#c5b0d5\",\"#f7b6d2\",\"#7f7f7f\",\"#c49c94\",\"#2ca02c\",\"#d62728\",\"#c7c7c7\",\"#aec7e8\",\"#e377c2\",\"#8c564b\",\"#ff7f0e\",\"#bcbd22\",\"#ffbb78\",\"#9467bd\",\"#ff9896\"],\"names\":[\"noun\",\"punct\",\"verb\",\"pron\",\"adp\",\"det\",\"propn\",\"adj\",\"aux\",\"adv\",\"cconj\",\"part\",\"num\",\"sconj\",\"x\",\"intj\",\"sym\"],\"x1\":{\"__ndarray__\":\"q6vtw0foAcS4ty9DwmXbQ42xh0M9eTNDC6uVwBHhiMJBGFLDfzuUwwIvh8MNm4ZDIpLPQZPQUED4JtNDVDwuwsbSjsM=\",\"dtype\":\"float32\",\"shape\":[17]},\"x2\":{\"__ndarray__\":\"3TZrQwFt98KuQSJCi4gtwzj+pUO4djvDNg7tw2ev7kB2pJhDI2FjQiP/OcPC8NTDK51dQ/at8EOWQslC4F9fw2oR2sM=\",\"dtype\":\"float32\",\"shape\":[17]}}},\"id\":\"570652f4-03b4-419c-b452-db4bc9868f29\",\"type\":\"ColumnDataSource\"},{\"attributes\":{\"fill_alpha\":{\"value\":0.1},\"fill_color\":{\"value\":\"#1f77b4\"},\"line_alpha\":{\"value\":0.1},\"line_color\":{\"value\":\"#1f77b4\"},\"size\":{\"units\":\"screen\",\"value\":8},\"x\":{\"field\":\"x1\"},\"y\":{\"field\":\"x2\"}},\"id\":\"07a04855-6c8b-4135-a237-4dcf17c656f6\",\"type\":\"Circle\"},{\"attributes\":{\"active_drag\":\"auto\",\"active_inspect\":\"auto\",\"active_scroll\":\"auto\",\"active_tap\":\"auto\",\"tools\":[{\"id\":\"fb582af2-a4e8-42bc-9a93-d7039a72a582\",\"type\":\"PanTool\"},{\"id\":\"5af63a77-1fe2-44b8-8fb6-23a3403e5a3b\",\"type\":\"WheelZoomTool\"},{\"id\":\"22a2b7a2-e60b-4170-8164-1f917f3c73c4\",\"type\":\"ResetTool\"},{\"id\":\"84acd9f2-d65b-42a0-aea3-9d2902956967\",\"type\":\"SaveTool\"}]},\"id\":\"80c890ac-d755-4596-b824-b26db73de2ad\",\"type\":\"Toolbar\"},{\"attributes\":{},\"id\":\"0df5a03e-6193-43d5-923a-f59e37e16bf2\",\"type\":\"BasicTickFormatter\"},{\"attributes\":{\"callback\":null},\"id\":\"a66e2e3c-7f41-475f-bfb7-26938c0847f0\",\"type\":\"DataRange1d\"},{\"attributes\":{},\"id\":\"b518f5e2-04e1-4e38-af20-60b589c18095\",\"type\":\"LinearScale\"},{\"attributes\":{\"plot\":{\"id\":\"4e5efd59-460f-42e6-956c-d8a85e324032\",\"subtype\":\"Figure\",\"type\":\"Plot\"},\"ticker\":{\"id\":\"b6e36974-ae6d-4e2d-a2c2-bc40b82fca2a\",\"type\":\"BasicTicker\"}},\"id\":\"9a02f96b-263b-4bcc-8e2f-fed305d53543\",\"type\":\"Grid\"},{\"attributes\":{\"formatter\":{\"id\":\"0df5a03e-6193-43d5-923a-f59e37e16bf2\",\"type\":\"BasicTickFormatter\"},\"plot\":{\"id\":\"4e5efd59-460f-42e6-956c-d8a85e324032\",\"subtype\":\"Figure\",\"type\":\"Plot\"},\"ticker\":{\"id\":\"b6e36974-ae6d-4e2d-a2c2-bc40b82fca2a\",\"type\":\"BasicTicker\"}},\"id\":\"d7bf1b95-fb18-4416-8c80-76d0086937f9\",\"type\":\"LinearAxis\"}],\"root_ids\":[\"4e5efd59-460f-42e6-956c-d8a85e324032\"]},\"title\":\"Bokeh Application\",\"version\":\"0.12.10\"}};\n",
       "    var render_items = [{\"docid\":\"1d9bcd46-438e-42b1-bc6a-eedbb0004fd4\",\"elementid\":\"e4281d6f-3371-4e13-9001-090b50a09b71\",\"modelid\":\"4e5efd59-460f-42e6-956c-d8a85e324032\"}];\n",
       "\n",
       "    root.Bokeh.embed.embed_items(docs_json, render_items);\n",
       "  }\n",
       "\n",
       "  if (root.Bokeh !== undefined) {\n",
       "    embed_document(root);\n",
       "  } else {\n",
       "    var attempts = 0;\n",
       "    var timer = setInterval(function(root) {\n",
       "      if (root.Bokeh !== undefined) {\n",
       "        embed_document(root);\n",
       "        clearInterval(timer);\n",
       "      }\n",
       "      attempts++;\n",
       "      if (attempts > 100) {\n",
       "        console.log(\"Bokeh: ERROR: Unable to embed document because BokehJS library is missing\")\n",
       "        clearInterval(timer);\n",
       "      }\n",
       "    }, 10, root)\n",
       "  }\n",
       "})(window);"
      ],
      "application/vnd.bokehjs_exec.v0+json": ""
     },
     "metadata": {
      "application/vnd.bokehjs_exec.v0+json": {
       "id": "4e5efd59-460f-42e6-956c-d8a85e324032"
      }
     },
     "output_type": "display_data"
    }
   ],
   "source": [
    "top_POS = [k for k,v in POS_counts_train.most_common(1000)]\n",
    "\n",
    "top_POS_vecs = []\n",
    "for pos in top_POS:\n",
    "    top_POS_vecs.append(pre_trained_POS_model[pos])\n",
    "emb_scatter(top_POS_vecs, top_POS, N=17)"
   ]
  },
  {
   "cell_type": "markdown",
   "metadata": {},
   "source": [
    "### e. GloVe word embeddings trained from our corpus:"
   ]
  },
  {
   "cell_type": "code",
   "execution_count": 45,
   "metadata": {
    "collapsed": true
   },
   "outputs": [],
   "source": [
    "# Copy the \"text8\"  into the GloVe folder and run \"./demo.sh\". \n",
    "# Copy the \"vector.txt\" back to the notebook folder and run\n",
    "# the second part of this cell.\n",
    "\n",
    "\n",
    "\n",
    "# with open('text8', 'w+') as file:\n",
    "#     for sentence in gensim_word_sentences_train:\n",
    "#         for word in sentence:\n",
    "#             if w2i[word] == 0:\n",
    "#                 file.write(\"<UNK> \")\n",
    "#             else:\n",
    "#                 file.write(word + \" \")\n",
    "    \n",
    "    \n",
    "    \n",
    "    \n",
    "    \n",
    "    \n",
    "\n",
    "# trained_glove_word_model = {}\n",
    "\n",
    "# with open('vectors.txt', 'r') as gloVe_corpus_file:\n",
    "#     for line in gloVe_corpus_file:\n",
    "#         l = line.split()\n",
    "#         trained_glove_word_model[l.pop(0)] = l\n",
    "        \n",
    "        \n",
    "# most_common_words = word_counts_train.most_common(1000)\n",
    "# trained_word_vectors = []\n",
    "# most_common_words = [ word for word, count in most_common_words]\n",
    "# for word in most_common_words:\n",
    "#     trained_word_vectors.append(trained_glove_word_model[i2w[w2i[word]]])\n",
    "# emb_scatter(trained_word_vectors, most_common_words, N=20)"
   ]
  },
  {
   "cell_type": "markdown",
   "metadata": {},
   "source": [
    "### 3. Prepare data to be used by BiLSTM"
   ]
  },
  {
   "cell_type": "code",
   "execution_count": 46,
   "metadata": {
    "collapsed": true
   },
   "outputs": [],
   "source": [
    "def get_word_embeddings(word_model, i2t):\n",
    "    embeddings = []\n",
    "    for index in i2w.keys():\n",
    "        embeddings.append(word_model[i2w[index]])\n",
    "    return embeddings\n",
    "\n",
    "def get_tags_embeddings(tag_model, i2t):\n",
    "    embeddings = []\n",
    "    for index in i2t.keys():\n",
    "        embeddings.append(tag_model[i2t[index]])\n",
    "    return embeddings"
   ]
  }
 ],
 "metadata": {
  "kernelspec": {
   "display_name": "Python 3",
   "language": "python",
   "name": "python3"
  },
  "language_info": {
   "codemirror_mode": {
    "name": "ipython",
    "version": 3
   },
   "file_extension": ".py",
   "mimetype": "text/x-python",
   "name": "python",
   "nbconvert_exporter": "python",
   "pygments_lexer": "ipython3",
   "version": "3.6.3"
  }
 },
 "nbformat": 4,
 "nbformat_minor": 2
}
