{
 "cells": [
  {
   "cell_type": "markdown",
   "metadata": {},
   "source": [
    "# Word and POS tags embeddings\n",
    "\n",
    "\n",
    "## Description\n",
    "In this notebook, we are trying to parse $*.conllu$ files and extract the word embeddings, as well as the POS tags emeddings.\n",
    "\n",
    "## Work to be done:\n",
    "1. Learn how to parse $*.conllu$ files\n",
    "2. Find a way to get all words embeddings.\n",
    "3. Find a way to get all POS tags embeddings."
   ]
  },
  {
   "cell_type": "markdown",
   "metadata": {},
   "source": [
    "### 1.1 Read $*.conllu$ files"
   ]
  },
  {
   "cell_type": "markdown",
   "metadata": {},
   "source": [
    "#### Word class:"
   ]
  },
  {
   "cell_type": "code",
   "execution_count": 12,
   "metadata": {
    "collapsed": true
   },
   "outputs": [],
   "source": [
    "class Word:\n",
    "    \"\"\"Word class that maps all details for a word from a *.conllu file. \"\"\"\n",
    "    \n",
    "    def __init__(self, ID, FORM, LEMMA, UPOSTAG, XPOSTAG, FEATS, HEAD, DEPREL, DEPS, MISC):\n",
    "        self.ID = ID           # Word index, integer starting at 1 for each new sentence; may be a range for multiword tokens; may be a decimal number for empty nodes.\n",
    "        self.FORM = FORM       # Word form or punctuation symbol.\n",
    "        self.LEMMA  = LEMMA    # Lemma or stem of word form.\n",
    "        self.UPOSTAG = UPOSTAG # Universal part-of-speech tag.\n",
    "        self.XPOSTAG = XPOSTAG # Language-specific part-of-speech tag; underscore if not available.\n",
    "        self.FEATS = FEATS     # List of morphological features from the universal feature inventory or from a defined language-specific extension; underscore if not available.\n",
    "        self.HEAD = HEAD       # Head of the current word, which is either a value of ID or zero (0).\n",
    "        self.DEPREL = DEPREL   # Universal dependency relation to the HEAD (root iff HEAD = 0) or a defined language-specific subtype of one.\n",
    "        self.DEPS = DEPS       # Enhanced dependency graph in the form of a list of head-deprel pairs.\n",
    "        self.MISC = MISC       # Any other annotation.\n",
    "    \n",
    "    def __str__(self):\n",
    "        string = ''\n",
    "        \n",
    "        string += self.ID      if self.ID      != None else '_'\n",
    "        string += \" \"\n",
    "        string += self.FORM    if self.FORM    != None else '_'\n",
    "        string += \" \"\n",
    "        string += self.LEMMA   if self.LEMMA   != None else '_'\n",
    "        string += \" \"\n",
    "        string += self.UPOSTAG if self.UPOSTAG != None else '_'\n",
    "        string += \" \"\n",
    "        string += self.XPOSTAG if self.XPOSTAG != None else '_'\n",
    "        string += \" \"\n",
    "        string += self.FEATS   if self.FEATS   != None else '_'\n",
    "        string += \" \"\n",
    "        string += self.HEAD    if self.HEAD    != None else '_'\n",
    "        string += \" \"\n",
    "        string += self.DEPREL  if self.DEPREL  != None else '_'\n",
    "        string += \" \"\n",
    "        string += self.DEPS    if self.DEPS    != None else '_'\n",
    "        string += \" \"\n",
    "        string += self.MISC    if self.MISC    != None else '_'\n",
    "        \n",
    "        return string\n",
    "        \n",
    "    @staticmethod\n",
    "    def from_line(line):\n",
    "        tokens = line.split()\n",
    "        \n",
    "        assert len(tokens) == 10\n",
    "        \n",
    "        ID =      tokens[0] if tokens[0] != '_' else None\n",
    "        FORM =    tokens[1] if tokens[1] != '_' else None\n",
    "        LEMMA =   tokens[2] if tokens[2] != '_' else None\n",
    "        UPOSTAG = tokens[3] if tokens[3] != '_' else None\n",
    "        XPOSTAG = tokens[4] if tokens[4] != '_' else None\n",
    "        FEATS =   tokens[5] if tokens[5] != '_' else None\n",
    "        HEAD =    tokens[6] if tokens[6] != '_' else None\n",
    "        DEPREL=   tokens[7] if tokens[7] != '_' else None\n",
    "        DEPS =    tokens[8] if tokens[8] != '_' else None\n",
    "        MISC =    tokens[9] if tokens[9] != '_' else None\n",
    "        \n",
    "        return Word(ID, FORM, LEMMA, UPOSTAG, XPOSTAG, FEATS, HEAD, DEPREL, DEPS, MISC)\n",
    "        "
   ]
  },
  {
   "cell_type": "markdown",
   "metadata": {},
   "source": [
    "#### Test Word class:"
   ]
  },
  {
   "cell_type": "code",
   "execution_count": 13,
   "metadata": {},
   "outputs": [
    {
     "name": "stdout",
     "output_type": "stream",
     "text": [
      "4 proves prove VERB VBZ Mood=Ind|Number=Sing|Person=3|Tense=Pres|VerbForm=Fin 0 root 0:root _\n",
      "proves\n"
     ]
    }
   ],
   "source": [
    "test_text = \"4\tproves\tprove\tVERB\tVBZ\tMood=Ind|Number=Sing|Person=3|Tense=Pres|VerbForm=Fin\t0\troot\t0:root\t_\"\n",
    "test_word = Word.from_line(test_text)\n",
    "print(test_word)\n",
    "print(test_word.FORM)"
   ]
  },
  {
   "cell_type": "markdown",
   "metadata": {},
   "source": [
    "#### Sentence class:"
   ]
  },
  {
   "cell_type": "code",
   "execution_count": 14,
   "metadata": {
    "collapsed": true
   },
   "outputs": [],
   "source": [
    "class Sentence:\n",
    "    \"\"\"Sentence class that maps all details for a sentence from a *.conllu file. \"\"\"\n",
    "    \n",
    "    def __init__(self,newdoc_id, send_id, text, words):\n",
    "        self.newdoc_id = newdoc_id\n",
    "        self.send_id = send_id\n",
    "        self.text = text\n",
    "        self.words = words\n",
    "        \n",
    "    def __str__(self):\n",
    "        string = ''\n",
    "        if self.newdoc_id != None:\n",
    "            string += \"# newdoc id = \"\n",
    "            string += str(self.newdoc_id)\n",
    "            string += \"\\n\"\n",
    "        string += \"# send_id = \"\n",
    "        string += str(self.send_id)\n",
    "        string += \"\\n\"\n",
    "        string += \"# text = \"\n",
    "        string += str(self.text)\n",
    "        string += \"\\n\"\n",
    "        sentence_length = len(self.words)\n",
    "        for index, word in enumerate(self.words):\n",
    "            string += str(word)\n",
    "            if index < sentence_length - 1:\n",
    "                string += \"\\n\"\n",
    "        return string\n",
    "    \n",
    "        \n",
    "    @staticmethod\n",
    "    def from_lines(lines):\n",
    "        newdoc_id=''\n",
    "        send_id = ''\n",
    "        text=''\n",
    "        words = []\n",
    "\n",
    "        \n",
    "        for line in lines:\n",
    "            if line.startswith(\"#\"): #misc properties\n",
    "                prop = line.split(\"=\")[1]\n",
    "                if line.startswith(\"newdoc\", 2):\n",
    "                    newdoc_id = prop\n",
    "                    continue\n",
    "                if line.startswith(\"sent_id\", 2):\n",
    "                    send_id = prop\n",
    "                    continue\n",
    "                if line.startswith(\"text\", 2):\n",
    "                    text = prop\n",
    "                    continue\n",
    "                continue\n",
    "            else:# words\n",
    "                if line.split()[0].isdigit(): #index is an integer\n",
    "                    words.append(Word.from_line(line))\n",
    "\n",
    "        return Sentence(newdoc_id, send_id, text, words)"
   ]
  },
  {
   "cell_type": "markdown",
   "metadata": {},
   "source": [
    "#### Test Sentence class:"
   ]
  },
  {
   "cell_type": "code",
   "execution_count": 15,
   "metadata": {
    "scrolled": false
   },
   "outputs": [
    {
     "name": "stdout",
     "output_type": "stream",
     "text": [
      "# newdoc id = \n",
      "# send_id =  weblog-blogspot.com_gettingpolitical_20030906235000_ENG_20030906_235000-0003\n",
      "# text =  Today's incident proves that Sharon has lost his patience and his hope in peace.\n",
      "1 Today today NOUN NN Number=Sing 3 nmod:poss 3:nmod:poss SpaceAfter=No\n",
      "2 's 's PART POS _ 1 case 1:case _\n",
      "3 incident incident NOUN NN Number=Sing 4 nsubj 4:nsubj _\n",
      "4 proves prove VERB VBZ Mood=Ind|Number=Sing|Person=3|Tense=Pres|VerbForm=Fin 0 root 0:root _\n",
      "5 that that SCONJ IN _ 8 mark 8:mark _\n",
      "6 Sharon Sharon PROPN NNP Number=Sing 8 nsubj 8:nsubj _\n",
      "7 has have AUX VBZ Mood=Ind|Number=Sing|Person=3|Tense=Pres|VerbForm=Fin 8 aux 8:aux _\n",
      "8 lost lose VERB VBN Tense=Past|VerbForm=Part 4 ccomp 4:ccomp _\n",
      "9 his he PRON PRP$ Gender=Masc|Number=Sing|Person=3|Poss=Yes|PronType=Prs 10 nmod:poss 10:nmod:poss _\n",
      "10 patience patience NOUN NN Number=Sing 8 obj 8:obj _\n",
      "11 and and CCONJ CC _ 13 cc 13:cc _\n",
      "12 his he PRON PRP$ Gender=Masc|Number=Sing|Person=3|Poss=Yes|PronType=Prs 13 nmod:poss 13:nmod:poss _\n",
      "13 hope hope NOUN NN Number=Sing 10 conj 10:conj _\n",
      "14 in in ADP IN _ 15 case 15:case _\n",
      "15 peace peace NOUN NN Number=Sing 13 nmod 13:nmod SpaceAfter=No\n",
      "16 . . PUNCT . _ 4 punct 4:punct _ \n",
      "\n",
      " Today's incident proves that Sharon has lost his patience and his hope in peace. \n",
      "\n",
      "1 Today today NOUN NN Number=Sing 3 nmod:poss 3:nmod:poss SpaceAfter=No \n",
      "\n"
     ]
    }
   ],
   "source": [
    "lines = [\"# sent_id = weblog-blogspot.com_gettingpolitical_20030906235000_ENG_20030906_235000-0003\",\n",
    "\"# text = Today's incident proves that Sharon has lost his patience and his hope in peace.\",\n",
    "\"1\tToday\ttoday\tNOUN\tNN\tNumber=Sing\t3\tnmod:poss\t3:nmod:poss\tSpaceAfter=No\",\n",
    "\"2\t's\t's\tPART\tPOS\t_\t1\tcase\t1:case\t_\",\n",
    "\"3\tincident\tincident\tNOUN\tNN\tNumber=Sing\t4\tnsubj\t4:nsubj\t_\",\n",
    "\"4\tproves\tprove\tVERB\tVBZ\tMood=Ind|Number=Sing|Person=3|Tense=Pres|VerbForm=Fin\t0\troot\t0:root\t_\",\n",
    "\"5\tthat\tthat\tSCONJ\tIN\t_\t8\tmark\t8:mark\t_\",\n",
    "\"6\tSharon\tSharon\tPROPN\tNNP\tNumber=Sing\t8\tnsubj\t8:nsubj\t_\",\n",
    "\"7\thas\thave\tAUX\tVBZ\tMood=Ind|Number=Sing|Person=3|Tense=Pres|VerbForm=Fin\t8\taux\t8:aux\t_\",\n",
    "\"8\tlost\tlose\tVERB\tVBN\tTense=Past|VerbForm=Part\t4\tccomp\t4:ccomp\t_\",\n",
    "\"9\this\the\tPRON\tPRP$\tGender=Masc|Number=Sing|Person=3|Poss=Yes|PronType=Prs\t10\tnmod:poss\t10:nmod:poss\t_\",\n",
    "\"10\tpatience\tpatience\tNOUN\tNN\tNumber=Sing\t8\tobj\t8:obj\t_\",\n",
    "\"11\tand\tand\tCCONJ\tCC\t_\t13\tcc\t13:cc\t_\",\n",
    "\"12\this\the\tPRON\tPRP$\tGender=Masc|Number=Sing|Person=3|Poss=Yes|PronType=Prs\t13\tnmod:poss\t13:nmod:poss\t_\",\n",
    "\"13\thope\thope\tNOUN\tNN\tNumber=Sing\t10\tconj\t10:conj\t_\",\n",
    "\"14\tin\tin\tADP\tIN\t_\t15\tcase\t15:case\t_\",\n",
    "\"15\tpeace\tpeace\tNOUN\tNN\tNumber=Sing\t13\tnmod\t13:nmod\tSpaceAfter=No\",\n",
    "\"16\t.\t.\tPUNCT\t.\t_\t4\tpunct\t4:punct\t_\"]\n",
    "sentence = Sentence.from_lines(lines)\n",
    "print(str(sentence), \"\\n\")\n",
    "print(sentence.text, \"\\n\")\n",
    "print(sentence.words[0], \"\\n\")"
   ]
  },
  {
   "cell_type": "code",
   "execution_count": 16,
   "metadata": {
    "collapsed": true
   },
   "outputs": [],
   "source": [
    "en_path = \"Annotated training data/UD_English-master/\"\n",
    "en_dev_filename = \"en-ud-dev.conllu\"\n",
    "en_test_filename = \"en-ud-test.conllu\"\n",
    "en_train_filename = \"en-ud-train.conllu\"\n",
    "\n",
    "ro_path = \"Annotated training data/UD_Romanian-dev/\"\n",
    "ro_dev_filename = \"ro-ud-dev.conllu\"\n",
    "ro_test_filename = \"ro-ud-test.conllu\"\n",
    "ro_train_filename = \"ro-ud-train.conllu\"\n",
    "\n",
    "def read_sentences(path, filename):\n",
    "    sentences = []\n",
    "    sentence_lines = []\n",
    "    file = open(path + filename, 'r')\n",
    "    for line in file:\n",
    "        if line == '\\n':\n",
    "            sentences.append(Sentence.from_lines(sentence_lines))\n",
    "            sentence_lines = []\n",
    "        else:\n",
    "            sentence_lines.append(line)\n",
    "            \n",
    "    return sentences\n",
    "\n",
    "\n",
    "en_train_sentences = read_sentences(en_path,en_train_filename)\n",
    "en_dev_sentences = read_sentences(en_path,en_dev_filename)\n",
    "en_test_sentences = read_sentences(en_path,en_test_filename)\n",
    "\n",
    "ro_train_sentences = read_sentences(ro_path,ro_train_filename)\n",
    "ro_dev_sentences = read_sentences(ro_path,ro_dev_filename)\n",
    "ro_test_sentences = read_sentences(ro_path,ro_test_filename)\n",
    "\n",
    "assert len(en_dev_sentences) == 2002# there are 2002 sentences in the english development dataset.\n"
   ]
  },
  {
   "cell_type": "markdown",
   "metadata": {},
   "source": [
    "### 1.2 Write $*.conllu$ files"
   ]
  },
  {
   "cell_type": "code",
   "execution_count": 71,
   "metadata": {
    "collapsed": true
   },
   "outputs": [],
   "source": [
    "def write_sentences(sentences, path, filename):\n",
    "    with open(path + filename, 'w+') as file:\n",
    "        for sentence in sentences:\n",
    "            file.write(str(sentence) + \"\\n\")\n"
   ]
  },
  {
   "cell_type": "markdown",
   "metadata": {},
   "source": [
    "### 2. Extract words/POS tags and then extract embeddings"
   ]
  },
  {
   "cell_type": "markdown",
   "metadata": {},
   "source": [
    "#### Imports"
   ]
  },
  {
   "cell_type": "code",
   "execution_count": 17,
   "metadata": {
    "collapsed": true
   },
   "outputs": [],
   "source": [
    "import numpy as np\n",
    "import pickle\n",
    "from collections import defaultdict, Counter\n",
    "from random import random\n",
    "import matplotlib.pyplot as plt\n",
    "from gensim.models import Word2Vec"
   ]
  },
  {
   "cell_type": "code",
   "execution_count": 43,
   "metadata": {
    "collapsed": true
   },
   "outputs": [],
   "source": [
    "def get_Gensim_sentences(sentences):\n",
    "    \"\"\"\n",
    "    This function receives a list of Sencences and return \n",
    "    the word and POS sentences in the format Gensim needs, \n",
    "    as well as Counters for both words and POS tags\n",
    "    Format: [['I', 'like', 'custard'],...]\n",
    "    \"\"\"\n",
    "    gensim_word_sentences = []\n",
    "    word_counts = Counter()\n",
    "    gensim_POS_sentences = []\n",
    "    POS_counts = Counter()\n",
    "    label_counts = Counter()\n",
    "    for sentence in sentences:\n",
    "        gensim_word_sentence = []\n",
    "        gensim_POS_sentence = []\n",
    "        for word in sentence.words:\n",
    "            gensim_word_sentence.append(word.FORM)\n",
    "            word_counts[word.FORM] += 1\n",
    "            gensim_POS_sentence.append(word.UPOSTAG)\n",
    "            POS_counts[word.UPOSTAG] += 1\n",
    "            label_counts[word.DEPREL.split(\":\")[0]] += 1      # some labels comprize multimple words(i.e: \"nsubj:poss\")\n",
    "        gensim_word_sentences.append(gensim_word_sentence)\n",
    "        gensim_POS_sentences.append(gensim_POS_sentence)\n",
    "    return gensim_word_sentences, word_counts, gensim_POS_sentences, POS_counts, label_counts"
   ]
  },
  {
   "cell_type": "code",
   "execution_count": 44,
   "metadata": {},
   "outputs": [],
   "source": [
    "gensim_word_sentences_train, word_counts_train, gensim_POS_sentences_train, POS_counts_train, label_counts_train = get_Gensim_sentences(en_test_sentences)\n",
    "gensim_word_sentences_dev, word_counts_dev, gensim_POS_sentences_dev, POS_counts_dev, label_counts_dev = get_Gensim_sentences(en_dev_sentences)\n",
    "gensim_word_sentences_test, word_counts_test, gensim_POS_sentences_test, POS_counts_test, label_counts_test = get_Gensim_sentences(en_test_sentences)\n",
    "\n",
    "\n",
    "w2i = defaultdict(lambda: len(w2i))\n",
    "i2w = dict()\n",
    "i2w[w2i[\"<UNK>\"]] = \"<UNK>\" # word with index 0 are the words that are unknown.\n",
    "for word in word_counts_train.keys():\n",
    "    if word_counts_train[word] > 1:\n",
    "        i2w[w2i[word]] = word # trick\n",
    "    else:\n",
    "        w2i[word] = 0  # all unknown words have index 0\n",
    "word_vocabulary = word_counts_train.keys()\n",
    "\n",
    "\n",
    "        \n",
    "t2i = defaultdict(lambda: len(t2i))\n",
    "i2t = dict()\n",
    "for tag in POS_counts_train.keys():\n",
    "    i2t[t2i[tag]] = tag # trick\n",
    "pos_tag_vocabulary = POS_counts_train.keys() \n",
    "\n",
    "\n",
    "        \n",
    "l2i = defaultdict(lambda: len(l2i))\n",
    "i2l = dict()\n",
    "for label in label_counts_train.keys():\n",
    "        i2l[l2i[label]] = label # trick\n",
    "\n",
    "\n",
    "\n"
   ]
  },
  {
   "cell_type": "markdown",
   "metadata": {},
   "source": [
    "### a. Gensim Word2Vector trained on our data:"
   ]
  },
  {
   "cell_type": "code",
   "execution_count": 48,
   "metadata": {
    "collapsed": true
   },
   "outputs": [],
   "source": [
    "gensim_word_model = Word2Vec(gensim_word_sentences_train, size=100, window=5, min_count=1, workers=4)\n",
    "gensim_POS_model = Word2Vec(gensim_POS_sentences_train, size=100, window=3, min_count=1, workers=4)"
   ]
  },
  {
   "cell_type": "code",
   "execution_count": 49,
   "metadata": {},
   "outputs": [
    {
     "data": {
      "text/html": [
       "\n",
       "    <div class=\"bk-root\">\n",
       "        <a href=\"https://bokeh.pydata.org\" target=\"_blank\" class=\"bk-logo bk-logo-small bk-logo-notebook\"></a>\n",
       "        <span id=\"4d6662a8-50bb-4c72-93f4-9bebf0b2ee1c\">Loading BokehJS ...</span>\n",
       "    </div>"
      ]
     },
     "metadata": {},
     "output_type": "display_data"
    },
    {
     "data": {
      "application/javascript": [
       "\n",
       "(function(root) {\n",
       "  function now() {\n",
       "    return new Date();\n",
       "  }\n",
       "\n",
       "  var force = true;\n",
       "\n",
       "  if (typeof (root._bokeh_onload_callbacks) === \"undefined\" || force === true) {\n",
       "    root._bokeh_onload_callbacks = [];\n",
       "    root._bokeh_is_loading = undefined;\n",
       "  }\n",
       "\n",
       "  var JS_MIME_TYPE = 'application/javascript';\n",
       "  var HTML_MIME_TYPE = 'text/html';\n",
       "  var EXEC_MIME_TYPE = 'application/vnd.bokehjs_exec.v0+json';\n",
       "  var CLASS_NAME = 'output_bokeh rendered_html';\n",
       "\n",
       "  /**\n",
       "   * Render data to the DOM node\n",
       "   */\n",
       "  function render(props, node) {\n",
       "    var script = document.createElement(\"script\");\n",
       "    node.appendChild(script);\n",
       "  }\n",
       "\n",
       "  /**\n",
       "   * Handle when an output is cleared or removed\n",
       "   */\n",
       "  function handleClearOutput(event, handle) {\n",
       "    var cell = handle.cell;\n",
       "\n",
       "    var id = cell.output_area._bokeh_element_id;\n",
       "    var server_id = cell.output_area._bokeh_server_id;\n",
       "    // Clean up Bokeh references\n",
       "    if (id !== undefined) {\n",
       "      Bokeh.index[id].model.document.clear();\n",
       "      delete Bokeh.index[id];\n",
       "    }\n",
       "\n",
       "    if (server_id !== undefined) {\n",
       "      // Clean up Bokeh references\n",
       "      var cmd = \"from bokeh.io.state import curstate; print(curstate().uuid_to_server['\" + server_id + \"'].get_sessions()[0].document.roots[0]._id)\";\n",
       "      cell.notebook.kernel.execute(cmd, {\n",
       "        iopub: {\n",
       "          output: function(msg) {\n",
       "            var element_id = msg.content.text.trim();\n",
       "            Bokeh.index[element_id].model.document.clear();\n",
       "            delete Bokeh.index[element_id];\n",
       "          }\n",
       "        }\n",
       "      });\n",
       "      // Destroy server and session\n",
       "      var cmd = \"import bokeh.io.notebook as ion; ion.destroy_server('\" + server_id + \"')\";\n",
       "      cell.notebook.kernel.execute(cmd);\n",
       "    }\n",
       "  }\n",
       "\n",
       "  /**\n",
       "   * Handle when a new output is added\n",
       "   */\n",
       "  function handleAddOutput(event, handle) {\n",
       "    var output_area = handle.output_area;\n",
       "    var output = handle.output;\n",
       "\n",
       "    // limit handleAddOutput to display_data with EXEC_MIME_TYPE content only\n",
       "    if ((output.output_type != \"display_data\") || (!output.data.hasOwnProperty(EXEC_MIME_TYPE))) {\n",
       "      return\n",
       "    }\n",
       "\n",
       "    var toinsert = output_area.element.find(`.${CLASS_NAME.split(' ')[0]}`);\n",
       "\n",
       "    if (output.metadata[EXEC_MIME_TYPE][\"id\"] !== undefined) {\n",
       "      toinsert[0].firstChild.textContent = output.data[JS_MIME_TYPE];\n",
       "      // store reference to embed id on output_area\n",
       "      output_area._bokeh_element_id = output.metadata[EXEC_MIME_TYPE][\"id\"];\n",
       "    }\n",
       "    if (output.metadata[EXEC_MIME_TYPE][\"server_id\"] !== undefined) {\n",
       "      var bk_div = document.createElement(\"div\");\n",
       "      bk_div.innerHTML = output.data[HTML_MIME_TYPE];\n",
       "      var script_attrs = bk_div.children[0].attributes;\n",
       "      for (var i = 0; i < script_attrs.length; i++) {\n",
       "        toinsert[0].firstChild.setAttribute(script_attrs[i].name, script_attrs[i].value);\n",
       "      }\n",
       "      // store reference to server id on output_area\n",
       "      output_area._bokeh_server_id = output.metadata[EXEC_MIME_TYPE][\"server_id\"];\n",
       "    }\n",
       "  }\n",
       "\n",
       "  function register_renderer(events, OutputArea) {\n",
       "\n",
       "    function append_mime(data, metadata, element) {\n",
       "      // create a DOM node to render to\n",
       "      var toinsert = this.create_output_subarea(\n",
       "        metadata,\n",
       "        CLASS_NAME,\n",
       "        EXEC_MIME_TYPE\n",
       "      );\n",
       "      this.keyboard_manager.register_events(toinsert);\n",
       "      // Render to node\n",
       "      var props = {data: data, metadata: metadata[EXEC_MIME_TYPE]};\n",
       "      render(props, toinsert[0]);\n",
       "      element.append(toinsert);\n",
       "      return toinsert\n",
       "    }\n",
       "\n",
       "    /* Handle when an output is cleared or removed */\n",
       "    events.on('clear_output.CodeCell', handleClearOutput);\n",
       "    events.on('delete.Cell', handleClearOutput);\n",
       "\n",
       "    /* Handle when a new output is added */\n",
       "    events.on('output_added.OutputArea', handleAddOutput);\n",
       "\n",
       "    /**\n",
       "     * Register the mime type and append_mime function with output_area\n",
       "     */\n",
       "    OutputArea.prototype.register_mime_type(EXEC_MIME_TYPE, append_mime, {\n",
       "      /* Is output safe? */\n",
       "      safe: true,\n",
       "      /* Index of renderer in `output_area.display_order` */\n",
       "      index: 0\n",
       "    });\n",
       "  }\n",
       "\n",
       "  // register the mime type if in Jupyter Notebook environment and previously unregistered\n",
       "  if (root.Jupyter !== undefined) {\n",
       "    var events = require('base/js/events');\n",
       "    var OutputArea = require('notebook/js/outputarea').OutputArea;\n",
       "\n",
       "    if (OutputArea.prototype.mime_types().indexOf(EXEC_MIME_TYPE) == -1) {\n",
       "      register_renderer(events, OutputArea);\n",
       "    }\n",
       "  }\n",
       "\n",
       "  \n",
       "  if (typeof (root._bokeh_timeout) === \"undefined\" || force === true) {\n",
       "    root._bokeh_timeout = Date.now() + 5000;\n",
       "    root._bokeh_failed_load = false;\n",
       "  }\n",
       "\n",
       "  var NB_LOAD_WARNING = {'data': {'text/html':\n",
       "     \"<div style='background-color: #fdd'>\\n\"+\n",
       "     \"<p>\\n\"+\n",
       "     \"BokehJS does not appear to have successfully loaded. If loading BokehJS from CDN, this \\n\"+\n",
       "     \"may be due to a slow or bad network connection. Possible fixes:\\n\"+\n",
       "     \"</p>\\n\"+\n",
       "     \"<ul>\\n\"+\n",
       "     \"<li>re-rerun `output_notebook()` to attempt to load from CDN again, or</li>\\n\"+\n",
       "     \"<li>use INLINE resources instead, as so:</li>\\n\"+\n",
       "     \"</ul>\\n\"+\n",
       "     \"<code>\\n\"+\n",
       "     \"from bokeh.resources import INLINE\\n\"+\n",
       "     \"output_notebook(resources=INLINE)\\n\"+\n",
       "     \"</code>\\n\"+\n",
       "     \"</div>\"}};\n",
       "\n",
       "  function display_loaded() {\n",
       "    var el = document.getElementById(\"4d6662a8-50bb-4c72-93f4-9bebf0b2ee1c\");\n",
       "    if (el != null) {\n",
       "      el.textContent = \"BokehJS is loading...\";\n",
       "    }\n",
       "    if (root.Bokeh !== undefined) {\n",
       "      if (el != null) {\n",
       "        el.textContent = \"BokehJS \" + root.Bokeh.version + \" successfully loaded.\";\n",
       "      }\n",
       "    } else if (Date.now() < root._bokeh_timeout) {\n",
       "      setTimeout(display_loaded, 100)\n",
       "    }\n",
       "  }\n",
       "\n",
       "\n",
       "  function run_callbacks() {\n",
       "    try {\n",
       "      root._bokeh_onload_callbacks.forEach(function(callback) { callback() });\n",
       "    }\n",
       "    finally {\n",
       "      delete root._bokeh_onload_callbacks\n",
       "    }\n",
       "    console.info(\"Bokeh: all callbacks have finished\");\n",
       "  }\n",
       "\n",
       "  function load_libs(js_urls, callback) {\n",
       "    root._bokeh_onload_callbacks.push(callback);\n",
       "    if (root._bokeh_is_loading > 0) {\n",
       "      console.log(\"Bokeh: BokehJS is being loaded, scheduling callback at\", now());\n",
       "      return null;\n",
       "    }\n",
       "    if (js_urls == null || js_urls.length === 0) {\n",
       "      run_callbacks();\n",
       "      return null;\n",
       "    }\n",
       "    console.log(\"Bokeh: BokehJS not loaded, scheduling load and callback at\", now());\n",
       "    root._bokeh_is_loading = js_urls.length;\n",
       "    for (var i = 0; i < js_urls.length; i++) {\n",
       "      var url = js_urls[i];\n",
       "      var s = document.createElement('script');\n",
       "      s.src = url;\n",
       "      s.async = false;\n",
       "      s.onreadystatechange = s.onload = function() {\n",
       "        root._bokeh_is_loading--;\n",
       "        if (root._bokeh_is_loading === 0) {\n",
       "          console.log(\"Bokeh: all BokehJS libraries loaded\");\n",
       "          run_callbacks()\n",
       "        }\n",
       "      };\n",
       "      s.onerror = function() {\n",
       "        console.warn(\"failed to load library \" + url);\n",
       "      };\n",
       "      console.log(\"Bokeh: injecting script tag for BokehJS library: \", url);\n",
       "      document.getElementsByTagName(\"head\")[0].appendChild(s);\n",
       "    }\n",
       "  };var element = document.getElementById(\"4d6662a8-50bb-4c72-93f4-9bebf0b2ee1c\");\n",
       "  if (element == null) {\n",
       "    console.log(\"Bokeh: ERROR: autoload.js configured with elementid '4d6662a8-50bb-4c72-93f4-9bebf0b2ee1c' but no matching script tag was found. \")\n",
       "    return false;\n",
       "  }\n",
       "\n",
       "  var js_urls = [\"https://cdn.pydata.org/bokeh/release/bokeh-0.12.10.min.js\", \"https://cdn.pydata.org/bokeh/release/bokeh-widgets-0.12.10.min.js\", \"https://cdn.pydata.org/bokeh/release/bokeh-tables-0.12.10.min.js\", \"https://cdn.pydata.org/bokeh/release/bokeh-gl-0.12.10.min.js\"];\n",
       "\n",
       "  var inline_js = [\n",
       "    function(Bokeh) {\n",
       "      Bokeh.set_log_level(\"info\");\n",
       "    },\n",
       "    \n",
       "    function(Bokeh) {\n",
       "      \n",
       "    },\n",
       "    function(Bokeh) {\n",
       "      console.log(\"Bokeh: injecting CSS: https://cdn.pydata.org/bokeh/release/bokeh-0.12.10.min.css\");\n",
       "      Bokeh.embed.inject_css(\"https://cdn.pydata.org/bokeh/release/bokeh-0.12.10.min.css\");\n",
       "      console.log(\"Bokeh: injecting CSS: https://cdn.pydata.org/bokeh/release/bokeh-widgets-0.12.10.min.css\");\n",
       "      Bokeh.embed.inject_css(\"https://cdn.pydata.org/bokeh/release/bokeh-widgets-0.12.10.min.css\");\n",
       "      console.log(\"Bokeh: injecting CSS: https://cdn.pydata.org/bokeh/release/bokeh-tables-0.12.10.min.css\");\n",
       "      Bokeh.embed.inject_css(\"https://cdn.pydata.org/bokeh/release/bokeh-tables-0.12.10.min.css\");\n",
       "    }\n",
       "  ];\n",
       "\n",
       "  function run_inline_js() {\n",
       "    \n",
       "    if ((root.Bokeh !== undefined) || (force === true)) {\n",
       "      for (var i = 0; i < inline_js.length; i++) {\n",
       "        inline_js[i].call(root, root.Bokeh);\n",
       "      }if (force === true) {\n",
       "        display_loaded();\n",
       "      }} else if (Date.now() < root._bokeh_timeout) {\n",
       "      setTimeout(run_inline_js, 100);\n",
       "    } else if (!root._bokeh_failed_load) {\n",
       "      console.log(\"Bokeh: BokehJS failed to load within specified timeout.\");\n",
       "      root._bokeh_failed_load = true;\n",
       "    } else if (force !== true) {\n",
       "      var cell = $(document.getElementById(\"4d6662a8-50bb-4c72-93f4-9bebf0b2ee1c\")).parents('.cell').data().cell;\n",
       "      cell.output_area.append_execute_result(NB_LOAD_WARNING)\n",
       "    }\n",
       "\n",
       "  }\n",
       "\n",
       "  if (root._bokeh_is_loading === 0) {\n",
       "    console.log(\"Bokeh: BokehJS loaded, going straight to plotting\");\n",
       "    run_inline_js();\n",
       "  } else {\n",
       "    load_libs(js_urls, function() {\n",
       "      console.log(\"Bokeh: BokehJS plotting callback run at\", now());\n",
       "      run_inline_js();\n",
       "    });\n",
       "  }\n",
       "}(window));"
      ],
      "application/vnd.bokehjs_load.v0+json": "\n(function(root) {\n  function now() {\n    return new Date();\n  }\n\n  var force = true;\n\n  if (typeof (root._bokeh_onload_callbacks) === \"undefined\" || force === true) {\n    root._bokeh_onload_callbacks = [];\n    root._bokeh_is_loading = undefined;\n  }\n\n  \n\n  \n  if (typeof (root._bokeh_timeout) === \"undefined\" || force === true) {\n    root._bokeh_timeout = Date.now() + 5000;\n    root._bokeh_failed_load = false;\n  }\n\n  var NB_LOAD_WARNING = {'data': {'text/html':\n     \"<div style='background-color: #fdd'>\\n\"+\n     \"<p>\\n\"+\n     \"BokehJS does not appear to have successfully loaded. If loading BokehJS from CDN, this \\n\"+\n     \"may be due to a slow or bad network connection. Possible fixes:\\n\"+\n     \"</p>\\n\"+\n     \"<ul>\\n\"+\n     \"<li>re-rerun `output_notebook()` to attempt to load from CDN again, or</li>\\n\"+\n     \"<li>use INLINE resources instead, as so:</li>\\n\"+\n     \"</ul>\\n\"+\n     \"<code>\\n\"+\n     \"from bokeh.resources import INLINE\\n\"+\n     \"output_notebook(resources=INLINE)\\n\"+\n     \"</code>\\n\"+\n     \"</div>\"}};\n\n  function display_loaded() {\n    var el = document.getElementById(\"4d6662a8-50bb-4c72-93f4-9bebf0b2ee1c\");\n    if (el != null) {\n      el.textContent = \"BokehJS is loading...\";\n    }\n    if (root.Bokeh !== undefined) {\n      if (el != null) {\n        el.textContent = \"BokehJS \" + root.Bokeh.version + \" successfully loaded.\";\n      }\n    } else if (Date.now() < root._bokeh_timeout) {\n      setTimeout(display_loaded, 100)\n    }\n  }\n\n\n  function run_callbacks() {\n    try {\n      root._bokeh_onload_callbacks.forEach(function(callback) { callback() });\n    }\n    finally {\n      delete root._bokeh_onload_callbacks\n    }\n    console.info(\"Bokeh: all callbacks have finished\");\n  }\n\n  function load_libs(js_urls, callback) {\n    root._bokeh_onload_callbacks.push(callback);\n    if (root._bokeh_is_loading > 0) {\n      console.log(\"Bokeh: BokehJS is being loaded, scheduling callback at\", now());\n      return null;\n    }\n    if (js_urls == null || js_urls.length === 0) {\n      run_callbacks();\n      return null;\n    }\n    console.log(\"Bokeh: BokehJS not loaded, scheduling load and callback at\", now());\n    root._bokeh_is_loading = js_urls.length;\n    for (var i = 0; i < js_urls.length; i++) {\n      var url = js_urls[i];\n      var s = document.createElement('script');\n      s.src = url;\n      s.async = false;\n      s.onreadystatechange = s.onload = function() {\n        root._bokeh_is_loading--;\n        if (root._bokeh_is_loading === 0) {\n          console.log(\"Bokeh: all BokehJS libraries loaded\");\n          run_callbacks()\n        }\n      };\n      s.onerror = function() {\n        console.warn(\"failed to load library \" + url);\n      };\n      console.log(\"Bokeh: injecting script tag for BokehJS library: \", url);\n      document.getElementsByTagName(\"head\")[0].appendChild(s);\n    }\n  };var element = document.getElementById(\"4d6662a8-50bb-4c72-93f4-9bebf0b2ee1c\");\n  if (element == null) {\n    console.log(\"Bokeh: ERROR: autoload.js configured with elementid '4d6662a8-50bb-4c72-93f4-9bebf0b2ee1c' but no matching script tag was found. \")\n    return false;\n  }\n\n  var js_urls = [\"https://cdn.pydata.org/bokeh/release/bokeh-0.12.10.min.js\", \"https://cdn.pydata.org/bokeh/release/bokeh-widgets-0.12.10.min.js\", \"https://cdn.pydata.org/bokeh/release/bokeh-tables-0.12.10.min.js\", \"https://cdn.pydata.org/bokeh/release/bokeh-gl-0.12.10.min.js\"];\n\n  var inline_js = [\n    function(Bokeh) {\n      Bokeh.set_log_level(\"info\");\n    },\n    \n    function(Bokeh) {\n      \n    },\n    function(Bokeh) {\n      console.log(\"Bokeh: injecting CSS: https://cdn.pydata.org/bokeh/release/bokeh-0.12.10.min.css\");\n      Bokeh.embed.inject_css(\"https://cdn.pydata.org/bokeh/release/bokeh-0.12.10.min.css\");\n      console.log(\"Bokeh: injecting CSS: https://cdn.pydata.org/bokeh/release/bokeh-widgets-0.12.10.min.css\");\n      Bokeh.embed.inject_css(\"https://cdn.pydata.org/bokeh/release/bokeh-widgets-0.12.10.min.css\");\n      console.log(\"Bokeh: injecting CSS: https://cdn.pydata.org/bokeh/release/bokeh-tables-0.12.10.min.css\");\n      Bokeh.embed.inject_css(\"https://cdn.pydata.org/bokeh/release/bokeh-tables-0.12.10.min.css\");\n    }\n  ];\n\n  function run_inline_js() {\n    \n    if ((root.Bokeh !== undefined) || (force === true)) {\n      for (var i = 0; i < inline_js.length; i++) {\n        inline_js[i].call(root, root.Bokeh);\n      }if (force === true) {\n        display_loaded();\n      }} else if (Date.now() < root._bokeh_timeout) {\n      setTimeout(run_inline_js, 100);\n    } else if (!root._bokeh_failed_load) {\n      console.log(\"Bokeh: BokehJS failed to load within specified timeout.\");\n      root._bokeh_failed_load = true;\n    } else if (force !== true) {\n      var cell = $(document.getElementById(\"4d6662a8-50bb-4c72-93f4-9bebf0b2ee1c\")).parents('.cell').data().cell;\n      cell.output_area.append_execute_result(NB_LOAD_WARNING)\n    }\n\n  }\n\n  if (root._bokeh_is_loading === 0) {\n    console.log(\"Bokeh: BokehJS loaded, going straight to plotting\");\n    run_inline_js();\n  } else {\n    load_libs(js_urls, function() {\n      console.log(\"Bokeh: BokehJS plotting callback run at\", now());\n      run_inline_js();\n    });\n  }\n}(window));"
     },
     "metadata": {},
     "output_type": "display_data"
    }
   ],
   "source": [
    "from sklearn.cluster import KMeans\n",
    "from sklearn.manifold import TSNE\n",
    "\n",
    "from bokeh.models import ColumnDataSource, LabelSet\n",
    "from bokeh.plotting import figure, show, output_file\n",
    "from bokeh.palettes import d3\n",
    "from bokeh.io import output_notebook\n",
    "output_notebook()\n",
    "\n",
    "def emb_scatter(data, names, N=20, perplexity=30.0):\n",
    "    \"\"\"\n",
    "    Function for plotting embeddings and words using TSNE.\n",
    "    TSNE finds a way to plot multidimensional data to a \n",
    "    bidimensional plane. It assures that data close in the \n",
    "    multidimensionalspace will also be close in budimensional \n",
    "    place, but not the other way around.\n",
    "    \"\"\"\n",
    "    ## try to find some clusters ##\n",
    "    print(\"finding clusters\")\n",
    "    kmeans = KMeans(n_clusters=N)\n",
    "    kmeans.fit(data)\n",
    "    klabels = kmeans.labels_\n",
    "\n",
    "    ## get a tsne fit ##\n",
    "    print(\"fitting tsne\")\n",
    "    tsne = TSNE(n_components=2, perplexity=perplexity)\n",
    "    emb_tsne = tsne.fit_transform(data)\n",
    "    \n",
    "    ## plot the tsne of the embeddings with bokeh ##\n",
    "    # source: https://github.com/oxford-cs-deepnlp-2017/practical-1\n",
    "    p = figure(tools=\"pan,wheel_zoom,reset,save\",\n",
    "               toolbar_location=\"above\",\n",
    "               title=\"T-SNE for most common words\")\n",
    "\n",
    "    # set colormap as a list\n",
    "    colormap = d3['Category20'][N]\n",
    "    colors = [colormap[i] for i in klabels]\n",
    "\n",
    "    source = ColumnDataSource(data=dict(x1=emb_tsne[:,0],\n",
    "                                        x2=emb_tsne[:,1],\n",
    "                                        names=names,\n",
    "                                        colors=colors))\n",
    "\n",
    "    p.scatter(x=\"x1\", y=\"x2\", size=8, source=source, color='colors')\n",
    "\n",
    "    labels = LabelSet(x=\"x1\", y=\"x2\", text=\"names\", y_offset=6,\n",
    "                      text_font_size=\"8pt\", text_color=\"#555555\",\n",
    "                      source=source, text_align='center')\n",
    "    p.add_layout(labels)\n",
    "\n",
    "    show(p)"
   ]
  },
  {
   "cell_type": "code",
   "execution_count": 50,
   "metadata": {},
   "outputs": [
    {
     "name": "stdout",
     "output_type": "stream",
     "text": [
      "finding clusters\n",
      "fitting tsne\n"
     ]
    },
    {
     "data": {
      "text/html": [
       "\n",
       "<div class=\"bk-root\">\n",
       "    <div class=\"bk-plotdiv\" id=\"039e7d4b-9cf5-49df-b8ed-987ae6566449\"></div>\n",
       "</div>"
      ]
     },
     "metadata": {},
     "output_type": "display_data"
    },
    {
     "data": {
      "application/javascript": [
       "(function(root) {\n",
       "  function embed_document(root) {\n",
       "    var docs_json = {\"b689ffd4-5285-402f-89d7-d6fed09a9e90\":{\"roots\":{\"references\":[{\"attributes\":{},\"id\":\"2fb9ecb1-c33f-4e47-a580-f34b61edfdf3\",\"type\":\"LinearScale\"},{\"attributes\":{\"plot\":{\"id\":\"d45656e0-a21c-44ce-8f21-f2e2030cff9d\",\"subtype\":\"Figure\",\"type\":\"Plot\"},\"source\":{\"id\":\"2110fd2d-f01e-4423-b838-722f909466eb\",\"type\":\"ColumnDataSource\"},\"text\":{\"field\":\"names\"},\"text_align\":\"center\",\"text_color\":{\"value\":\"#555555\"},\"text_font_size\":{\"value\":\"8pt\"},\"x\":{\"field\":\"x1\"},\"y\":{\"field\":\"x2\"},\"y_offset\":{\"value\":6}},\"id\":\"df19d4bc-3157-4722-857a-8cd44e9a0207\",\"type\":\"LabelSet\"},{\"attributes\":{\"dimension\":1,\"plot\":{\"id\":\"d45656e0-a21c-44ce-8f21-f2e2030cff9d\",\"subtype\":\"Figure\",\"type\":\"Plot\"},\"ticker\":{\"id\":\"ae756b50-c66f-457e-8b94-15bbabc32180\",\"type\":\"BasicTicker\"}},\"id\":\"1154e9bf-4b8f-4df6-9d15-96457c60759a\",\"type\":\"Grid\"},{\"attributes\":{\"source\":{\"id\":\"2110fd2d-f01e-4423-b838-722f909466eb\",\"type\":\"ColumnDataSource\"}},\"id\":\"617dec85-0cee-44f8-abd7-9759052d06c4\",\"type\":\"CDSView\"},{\"attributes\":{},\"id\":\"3c424201-8cff-4c19-b03c-657f0ccaa0a8\",\"type\":\"PanTool\"},{\"attributes\":{\"data_source\":{\"id\":\"2110fd2d-f01e-4423-b838-722f909466eb\",\"type\":\"ColumnDataSource\"},\"glyph\":{\"id\":\"d742c6fc-bfb0-48ba-b1a5-7855237ede7a\",\"type\":\"Circle\"},\"hover_glyph\":null,\"muted_glyph\":null,\"nonselection_glyph\":{\"id\":\"e3aec4be-27b1-41bc-b551-a0b8f23db2a2\",\"type\":\"Circle\"},\"selection_glyph\":null,\"view\":{\"id\":\"617dec85-0cee-44f8-abd7-9759052d06c4\",\"type\":\"CDSView\"}},\"id\":\"5c0810f0-b9c2-44a3-ae05-e4480643c821\",\"type\":\"GlyphRenderer\"},{\"attributes\":{\"formatter\":{\"id\":\"b540d95f-90fc-4d94-8a76-89785cf611fc\",\"type\":\"BasicTickFormatter\"},\"plot\":{\"id\":\"d45656e0-a21c-44ce-8f21-f2e2030cff9d\",\"subtype\":\"Figure\",\"type\":\"Plot\"},\"ticker\":{\"id\":\"cefdf127-6146-43ac-9381-7b2a95d42e92\",\"type\":\"BasicTicker\"}},\"id\":\"5b1a6dd7-e7ab-4b04-9197-b96ad2885031\",\"type\":\"LinearAxis\"},{\"attributes\":{},\"id\":\"f797c598-99fa-482b-95ab-88c20cc8695e\",\"type\":\"BasicTickFormatter\"},{\"attributes\":{},\"id\":\"cefdf127-6146-43ac-9381-7b2a95d42e92\",\"type\":\"BasicTicker\"},{\"attributes\":{\"plot\":{\"id\":\"d45656e0-a21c-44ce-8f21-f2e2030cff9d\",\"subtype\":\"Figure\",\"type\":\"Plot\"},\"ticker\":{\"id\":\"cefdf127-6146-43ac-9381-7b2a95d42e92\",\"type\":\"BasicTicker\"}},\"id\":\"22bd7810-ff21-4fa2-aca1-e22fa3df1197\",\"type\":\"Grid\"},{\"attributes\":{},\"id\":\"079e256c-d822-48f3-b7b5-851d435866a6\",\"type\":\"SaveTool\"},{\"attributes\":{},\"id\":\"ae756b50-c66f-457e-8b94-15bbabc32180\",\"type\":\"BasicTicker\"},{\"attributes\":{\"plot\":null,\"text\":\"T-SNE for most common words\"},\"id\":\"c03759d1-49c9-4d7f-a223-67dc37d533c1\",\"type\":\"Title\"},{\"attributes\":{\"callback\":null,\"column_names\":[\"x1\",\"x2\",\"names\",\"colors\"],\"data\":{\"colors\":[\"#c7c7c7\",\"#ffbb78\",\"#ffbb78\",\"#ffbb78\",\"#ffbb78\",\"#8c564b\",\"#9467bd\",\"#8c564b\",\"#8c564b\",\"#9467bd\",\"#9467bd\",\"#9467bd\",\"#9467bd\",\"#c7c7c7\",\"#f7b6d2\",\"#f7b6d2\",\"#98df8a\",\"#9467bd\",\"#9467bd\",\"#aec7e8\",\"#f7b6d2\",\"#aec7e8\",\"#f7b6d2\",\"#9467bd\",\"#f7b6d2\",\"#98df8a\",\"#dbdb8d\",\"#9467bd\",\"#f7b6d2\",\"#9467bd\",\"#9467bd\",\"#aec7e8\",\"#98df8a\",\"#98df8a\",\"#aec7e8\",\"#98df8a\",\"#98df8a\",\"#98df8a\",\"#aec7e8\",\"#aec7e8\",\"#ff7f0e\",\"#aec7e8\",\"#98df8a\",\"#dbdb8d\",\"#dbdb8d\",\"#98df8a\",\"#f7b6d2\",\"#98df8a\",\"#aec7e8\",\"#dbdb8d\",\"#98df8a\",\"#98df8a\",\"#98df8a\",\"#f7b6d2\",\"#98df8a\",\"#dbdb8d\",\"#dbdb8d\",\"#ff7f0e\",\"#c49c94\",\"#98df8a\",\"#c49c94\",\"#dbdb8d\",\"#c49c94\",\"#dbdb8d\",\"#c49c94\",\"#ff7f0e\",\"#ff7f0e\",\"#dbdb8d\",\"#ff7f0e\",\"#c49c94\",\"#c49c94\",\"#c5b0d5\",\"#c5b0d5\",\"#ff7f0e\",\"#ff7f0e\",\"#c49c94\",\"#c5b0d5\",\"#dbdb8d\",\"#7f7f7f\",\"#7f7f7f\",\"#ff7f0e\",\"#ff7f0e\",\"#c49c94\",\"#ff7f0e\",\"#dbdb8d\",\"#c49c94\",\"#7f7f7f\",\"#ff7f0e\",\"#9edae5\",\"#c49c94\",\"#c5b0d5\",\"#ff7f0e\",\"#c49c94\",\"#ff7f0e\",\"#c5b0d5\",\"#c49c94\",\"#c5b0d5\",\"#c49c94\",\"#c49c94\",\"#c5b0d5\",\"#7f7f7f\",\"#c5b0d5\",\"#c5b0d5\",\"#c49c94\",\"#2ca02c\",\"#17becf\",\"#c5b0d5\",\"#c5b0d5\",\"#c5b0d5\",\"#2ca02c\",\"#c5b0d5\",\"#2ca02c\",\"#7f7f7f\",\"#7f7f7f\",\"#c5b0d5\",\"#7f7f7f\",\"#17becf\",\"#7f7f7f\",\"#c5b0d5\",\"#7f7f7f\",\"#7f7f7f\",\"#d62728\",\"#2ca02c\",\"#c5b0d5\",\"#c5b0d5\",\"#c5b0d5\",\"#c49c94\",\"#7f7f7f\",\"#7f7f7f\",\"#2ca02c\",\"#2ca02c\",\"#17becf\",\"#7f7f7f\",\"#17becf\",\"#7f7f7f\",\"#d62728\",\"#7f7f7f\",\"#2ca02c\",\"#2ca02c\",\"#17becf\",\"#2ca02c\",\"#7f7f7f\",\"#7f7f7f\",\"#2ca02c\",\"#7f7f7f\",\"#17becf\",\"#7f7f7f\",\"#7f7f7f\",\"#c5b0d5\",\"#7f7f7f\",\"#17becf\",\"#17becf\",\"#7f7f7f\",\"#2ca02c\",\"#17becf\",\"#7f7f7f\",\"#2ca02c\",\"#17becf\",\"#17becf\",\"#7f7f7f\",\"#2ca02c\",\"#7f7f7f\",\"#2ca02c\",\"#c5b0d5\",\"#2ca02c\",\"#17becf\",\"#2ca02c\",\"#7f7f7f\",\"#17becf\",\"#7f7f7f\",\"#7f7f7f\",\"#7f7f7f\",\"#2ca02c\",\"#17becf\",\"#d62728\",\"#e377c2\",\"#17becf\",\"#d62728\",\"#d62728\",\"#17becf\",\"#2ca02c\",\"#2ca02c\",\"#17becf\",\"#2ca02c\",\"#7f7f7f\",\"#2ca02c\",\"#7f7f7f\",\"#2ca02c\",\"#ff9896\",\"#2ca02c\",\"#d62728\",\"#d62728\",\"#d62728\",\"#e377c2\",\"#d62728\",\"#d62728\",\"#e377c2\",\"#17becf\",\"#17becf\",\"#17becf\",\"#17becf\",\"#17becf\",\"#17becf\",\"#17becf\",\"#e377c2\",\"#e377c2\",\"#d62728\",\"#bcbd22\",\"#1f77b4\",\"#1f77b4\",\"#d62728\",\"#17becf\",\"#17becf\",\"#2ca02c\",\"#d62728\",\"#17becf\",\"#bcbd22\",\"#1f77b4\",\"#1f77b4\",\"#17becf\",\"#1f77b4\",\"#d62728\",\"#e377c2\",\"#d62728\",\"#17becf\",\"#2ca02c\",\"#2ca02c\",\"#17becf\",\"#d62728\",\"#d62728\",\"#7f7f7f\",\"#d62728\",\"#d62728\",\"#bcbd22\",\"#d62728\",\"#17becf\",\"#d62728\",\"#d62728\",\"#d62728\",\"#1f77b4\",\"#e377c2\",\"#d62728\",\"#e377c2\",\"#2ca02c\",\"#d62728\",\"#d62728\",\"#2ca02c\",\"#1f77b4\",\"#17becf\",\"#17becf\",\"#e377c2\",\"#d62728\",\"#d62728\",\"#1f77b4\",\"#d62728\",\"#17becf\",\"#d62728\",\"#d62728\",\"#17becf\",\"#ff9896\",\"#ff9896\",\"#17becf\",\"#d62728\",\"#e377c2\",\"#1f77b4\",\"#e377c2\",\"#d62728\",\"#d62728\",\"#2ca02c\",\"#e377c2\",\"#17becf\",\"#17becf\",\"#e377c2\",\"#d62728\",\"#e377c2\",\"#1f77b4\",\"#1f77b4\",\"#d62728\",\"#e377c2\",\"#17becf\",\"#1f77b4\",\"#1f77b4\",\"#1f77b4\",\"#e377c2\",\"#e377c2\",\"#d62728\",\"#e377c2\",\"#d62728\",\"#17becf\",\"#e377c2\",\"#e377c2\",\"#d62728\",\"#d62728\",\"#d62728\",\"#d62728\",\"#e377c2\",\"#1f77b4\",\"#17becf\",\"#e377c2\",\"#d62728\",\"#ff9896\",\"#d62728\",\"#e377c2\",\"#e377c2\",\"#e377c2\",\"#ff9896\",\"#d62728\",\"#d62728\",\"#e377c2\",\"#e377c2\",\"#1f77b4\",\"#e377c2\",\"#e377c2\",\"#e377c2\",\"#e377c2\",\"#1f77b4\",\"#e377c2\",\"#e377c2\",\"#ff9896\",\"#e377c2\",\"#e377c2\",\"#e377c2\",\"#ff9896\",\"#1f77b4\",\"#ff9896\",\"#e377c2\",\"#d62728\",\"#ff9896\",\"#e377c2\",\"#e377c2\",\"#1f77b4\",\"#1f77b4\",\"#d62728\",\"#e377c2\",\"#e377c2\",\"#1f77b4\",\"#e377c2\",\"#1f77b4\",\"#e377c2\",\"#ff9896\",\"#e377c2\",\"#1f77b4\",\"#e377c2\",\"#d62728\",\"#d62728\",\"#ff9896\",\"#d62728\",\"#1f77b4\",\"#e377c2\",\"#e377c2\",\"#ff9896\",\"#d62728\",\"#d62728\",\"#e377c2\",\"#d62728\",\"#1f77b4\",\"#d62728\",\"#1f77b4\",\"#d62728\",\"#d62728\",\"#d62728\",\"#e377c2\",\"#1f77b4\",\"#e377c2\",\"#bcbd22\",\"#e377c2\",\"#ff9896\",\"#1f77b4\",\"#e377c2\",\"#bcbd22\",\"#e377c2\",\"#9edae5\",\"#9edae5\",\"#1f77b4\",\"#9edae5\",\"#1f77b4\",\"#ff9896\",\"#d62728\",\"#e377c2\",\"#ff9896\",\"#d62728\",\"#e377c2\",\"#e377c2\",\"#9edae5\",\"#9edae5\",\"#ff9896\",\"#ff9896\",\"#1f77b4\",\"#d62728\",\"#d62728\",\"#1f77b4\",\"#e377c2\",\"#1f77b4\",\"#1f77b4\",\"#ff9896\",\"#9edae5\",\"#ff9896\",\"#9edae5\",\"#9edae5\",\"#1f77b4\",\"#e377c2\",\"#1f77b4\",\"#e377c2\",\"#1f77b4\",\"#e377c2\",\"#ff9896\",\"#e377c2\",\"#ff9896\",\"#e377c2\",\"#1f77b4\",\"#1f77b4\",\"#1f77b4\",\"#ff9896\",\"#ff9896\",\"#9edae5\",\"#e377c2\",\"#ff9896\",\"#ff9896\",\"#e377c2\",\"#d62728\",\"#1f77b4\",\"#e377c2\",\"#ff9896\",\"#e377c2\",\"#d62728\",\"#e377c2\",\"#e377c2\",\"#d62728\",\"#d62728\",\"#d62728\",\"#1f77b4\",\"#e377c2\",\"#1f77b4\",\"#ff9896\",\"#e377c2\",\"#1f77b4\",\"#e377c2\",\"#ff9896\",\"#d62728\",\"#ff9896\",\"#bcbd22\",\"#e377c2\",\"#9edae5\",\"#1f77b4\",\"#1f77b4\",\"#e377c2\",\"#e377c2\",\"#e377c2\",\"#ff9896\",\"#1f77b4\",\"#ff9896\",\"#ff9896\",\"#e377c2\",\"#e377c2\",\"#1f77b4\",\"#1f77b4\",\"#e377c2\",\"#9edae5\",\"#1f77b4\",\"#9edae5\",\"#1f77b4\",\"#e377c2\",\"#1f77b4\",\"#ff9896\",\"#1f77b4\",\"#ff9896\",\"#1f77b4\",\"#ff9896\",\"#9edae5\",\"#1f77b4\",\"#1f77b4\",\"#1f77b4\",\"#e377c2\",\"#ff9896\",\"#9edae5\",\"#e377c2\",\"#e377c2\",\"#ff9896\",\"#1f77b4\",\"#ff9896\",\"#ff9896\",\"#e377c2\",\"#1f77b4\",\"#ff9896\",\"#ff9896\",\"#ff9896\",\"#ff9896\",\"#1f77b4\",\"#e377c2\",\"#1f77b4\",\"#e377c2\",\"#9edae5\",\"#e377c2\",\"#ff9896\",\"#e377c2\",\"#1f77b4\",\"#1f77b4\",\"#e377c2\",\"#ff9896\",\"#9edae5\",\"#9edae5\",\"#1f77b4\",\"#ff9896\",\"#9edae5\",\"#9edae5\",\"#e377c2\",\"#bcbd22\",\"#ff9896\",\"#1f77b4\",\"#ff9896\",\"#e377c2\",\"#e377c2\",\"#1f77b4\",\"#1f77b4\",\"#ff9896\",\"#9edae5\",\"#e377c2\",\"#ff9896\",\"#ff9896\",\"#ff9896\",\"#9edae5\",\"#ff9896\",\"#ff9896\",\"#e377c2\",\"#1f77b4\",\"#ff9896\",\"#ff9896\",\"#bcbd22\",\"#1f77b4\",\"#ff9896\",\"#9edae5\",\"#1f77b4\",\"#ff9896\",\"#ff9896\",\"#1f77b4\",\"#9edae5\",\"#9edae5\",\"#ff9896\",\"#ff9896\",\"#bcbd22\",\"#e377c2\",\"#1f77b4\",\"#1f77b4\",\"#ff9896\",\"#9edae5\",\"#9edae5\",\"#ff9896\",\"#ff9896\",\"#1f77b4\",\"#1f77b4\",\"#1f77b4\",\"#9edae5\",\"#1f77b4\",\"#9edae5\",\"#9edae5\",\"#ff9896\",\"#1f77b4\",\"#9edae5\",\"#ff9896\",\"#ff9896\",\"#ff9896\",\"#9edae5\",\"#1f77b4\",\"#ff9896\",\"#ff9896\",\"#1f77b4\",\"#9edae5\",\"#bcbd22\",\"#9edae5\",\"#1f77b4\",\"#1f77b4\",\"#ff9896\",\"#ff9896\",\"#ff9896\",\"#1f77b4\",\"#ff9896\",\"#1f77b4\",\"#1f77b4\",\"#9edae5\",\"#ff9896\",\"#ff9896\",\"#e377c2\",\"#ff9896\",\"#1f77b4\",\"#1f77b4\",\"#9edae5\",\"#1f77b4\",\"#e377c2\",\"#1f77b4\",\"#9edae5\",\"#ff9896\",\"#e377c2\",\"#bcbd22\",\"#1f77b4\",\"#1f77b4\",\"#d62728\",\"#ff9896\",\"#9edae5\",\"#bcbd22\",\"#ff9896\",\"#9edae5\",\"#1f77b4\",\"#9edae5\",\"#ff9896\",\"#1f77b4\",\"#ff9896\",\"#1f77b4\",\"#1f77b4\",\"#ff9896\",\"#ff9896\",\"#9edae5\",\"#ff9896\",\"#ff9896\",\"#9edae5\",\"#ff9896\",\"#bcbd22\",\"#9edae5\",\"#ff9896\",\"#e377c2\",\"#9edae5\",\"#1f77b4\",\"#bcbd22\",\"#bcbd22\",\"#9edae5\",\"#9edae5\",\"#9edae5\",\"#e377c2\",\"#1f77b4\",\"#ff9896\",\"#ff9896\",\"#ff9896\",\"#ff9896\",\"#9edae5\",\"#ff9896\",\"#1f77b4\",\"#ff9896\",\"#bcbd22\",\"#ff9896\",\"#9edae5\",\"#ff9896\",\"#e377c2\",\"#1f77b4\",\"#ff9896\",\"#ff9896\",\"#1f77b4\",\"#1f77b4\",\"#9edae5\",\"#9edae5\",\"#bcbd22\",\"#ff9896\",\"#bcbd22\",\"#9edae5\",\"#9edae5\",\"#bcbd22\",\"#1f77b4\",\"#9edae5\",\"#1f77b4\",\"#9edae5\",\"#9edae5\",\"#e377c2\",\"#9edae5\",\"#1f77b4\",\"#9edae5\",\"#1f77b4\",\"#9edae5\",\"#ff9896\",\"#ff9896\",\"#1f77b4\",\"#9edae5\",\"#ff9896\",\"#ff9896\",\"#ff9896\",\"#9edae5\",\"#ff9896\",\"#ff9896\",\"#bcbd22\",\"#bcbd22\",\"#9edae5\",\"#bcbd22\",\"#ff9896\",\"#9edae5\",\"#bcbd22\",\"#9edae5\",\"#ff9896\",\"#ff9896\",\"#ff9896\",\"#9edae5\",\"#ff9896\",\"#9edae5\",\"#ff9896\",\"#9edae5\",\"#9edae5\",\"#ff9896\",\"#ff9896\",\"#1f77b4\",\"#ff9896\",\"#ff9896\",\"#ff9896\",\"#9edae5\",\"#ff9896\",\"#1f77b4\",\"#9edae5\",\"#bcbd22\",\"#bcbd22\",\"#ff9896\",\"#bcbd22\",\"#1f77b4\",\"#bcbd22\",\"#ff9896\",\"#bcbd22\",\"#9edae5\",\"#9edae5\",\"#ff9896\",\"#ff9896\",\"#1f77b4\",\"#9edae5\",\"#1f77b4\",\"#9edae5\",\"#9edae5\",\"#bcbd22\",\"#bcbd22\",\"#ff9896\",\"#1f77b4\",\"#9edae5\",\"#bcbd22\",\"#bcbd22\",\"#9edae5\",\"#9edae5\",\"#9edae5\",\"#ff9896\",\"#1f77b4\",\"#1f77b4\",\"#9edae5\",\"#9edae5\",\"#1f77b4\",\"#bcbd22\",\"#9edae5\",\"#ff9896\",\"#ff9896\",\"#ff9896\",\"#1f77b4\",\"#ff9896\",\"#ff9896\",\"#bcbd22\",\"#ff9896\",\"#9edae5\",\"#ff9896\",\"#ff9896\",\"#1f77b4\",\"#ff9896\",\"#ff9896\",\"#ff9896\",\"#ff9896\",\"#ff9896\",\"#1f77b4\",\"#9edae5\",\"#ff9896\",\"#9edae5\",\"#bcbd22\",\"#ff9896\",\"#ff9896\",\"#ff9896\",\"#bcbd22\",\"#ff9896\",\"#ff9896\",\"#9edae5\",\"#ff9896\",\"#ff9896\",\"#ff9896\",\"#9edae5\",\"#ff9896\",\"#ff9896\",\"#ff9896\",\"#ff9896\",\"#9edae5\",\"#ff9896\",\"#ff9896\",\"#ff9896\",\"#9edae5\",\"#9edae5\",\"#bcbd22\",\"#ff9896\",\"#ff9896\",\"#9edae5\",\"#ff9896\",\"#ff9896\",\"#9edae5\",\"#bcbd22\",\"#9edae5\",\"#9edae5\",\"#bcbd22\",\"#ff9896\",\"#ff9896\",\"#9edae5\",\"#bcbd22\",\"#9edae5\",\"#1f77b4\",\"#ff9896\",\"#bcbd22\",\"#9edae5\",\"#9edae5\",\"#1f77b4\",\"#1f77b4\",\"#9edae5\",\"#bcbd22\",\"#9edae5\",\"#ff9896\",\"#ff9896\",\"#9edae5\",\"#9edae5\",\"#ff9896\",\"#bcbd22\",\"#9edae5\",\"#1f77b4\",\"#ff9896\",\"#bcbd22\",\"#bcbd22\",\"#ff9896\",\"#ff9896\",\"#9edae5\",\"#bcbd22\",\"#1f77b4\",\"#bcbd22\",\"#1f77b4\",\"#bcbd22\",\"#ff9896\",\"#1f77b4\",\"#9edae5\",\"#bcbd22\",\"#ff9896\",\"#ff9896\",\"#9edae5\",\"#1f77b4\",\"#ff9896\",\"#9edae5\",\"#ff9896\",\"#ff9896\",\"#ff9896\",\"#ff9896\",\"#bcbd22\",\"#9edae5\",\"#9edae5\",\"#1f77b4\",\"#9edae5\",\"#9edae5\",\"#9edae5\",\"#9edae5\",\"#9edae5\",\"#9edae5\",\"#ff9896\",\"#ff9896\",\"#e377c2\",\"#e377c2\",\"#ff9896\",\"#9edae5\",\"#9edae5\",\"#bcbd22\",\"#9edae5\",\"#9edae5\",\"#9edae5\",\"#9edae5\",\"#ff9896\",\"#ff9896\",\"#1f77b4\",\"#9edae5\",\"#9edae5\",\"#1f77b4\",\"#9edae5\",\"#ff9896\",\"#ff9896\",\"#9edae5\",\"#ff9896\",\"#ff9896\",\"#ff9896\",\"#9edae5\",\"#9edae5\",\"#ff9896\",\"#9edae5\",\"#9edae5\",\"#bcbd22\",\"#ff9896\",\"#bcbd22\",\"#e377c2\",\"#9edae5\",\"#9edae5\",\"#9edae5\",\"#bcbd22\",\"#9edae5\",\"#bcbd22\",\"#bcbd22\",\"#bcbd22\",\"#9edae5\",\"#9edae5\",\"#9edae5\",\"#9edae5\",\"#ff9896\",\"#9edae5\",\"#bcbd22\",\"#bcbd22\",\"#ff9896\",\"#ff9896\",\"#bcbd22\",\"#9edae5\",\"#ff9896\",\"#9edae5\",\"#9edae5\",\"#1f77b4\",\"#9edae5\",\"#9edae5\",\"#9edae5\",\"#bcbd22\",\"#9edae5\",\"#9edae5\",\"#bcbd22\",\"#9edae5\",\"#9edae5\",\"#1f77b4\",\"#9edae5\",\"#9edae5\",\"#9edae5\",\"#ff9896\",\"#9edae5\",\"#9edae5\",\"#bcbd22\",\"#bcbd22\",\"#bcbd22\",\"#9edae5\",\"#bcbd22\",\"#bcbd22\",\"#bcbd22\",\"#ff9896\",\"#bcbd22\",\"#9edae5\",\"#bcbd22\",\"#9edae5\",\"#bcbd22\",\"#9edae5\",\"#9edae5\",\"#ff9896\",\"#9edae5\",\"#ff9896\",\"#ff9896\",\"#9edae5\",\"#9edae5\",\"#9edae5\",\"#9edae5\",\"#9edae5\",\"#9edae5\",\"#9edae5\",\"#ff9896\",\"#9edae5\",\"#9edae5\",\"#9edae5\",\"#9edae5\",\"#9edae5\",\"#9edae5\",\"#9edae5\",\"#ff9896\",\"#ff9896\",\"#9edae5\",\"#bcbd22\",\"#ff9896\",\"#9edae5\",\"#9edae5\",\"#9edae5\",\"#9edae5\",\"#ff9896\",\"#9edae5\",\"#9edae5\",\"#bcbd22\",\"#9edae5\",\"#1f77b4\",\"#9edae5\",\"#9edae5\",\"#9edae5\",\"#bcbd22\",\"#ff9896\",\"#ff9896\",\"#bcbd22\",\"#9edae5\",\"#ff9896\",\"#9edae5\",\"#9edae5\",\"#9edae5\",\"#9edae5\",\"#9edae5\",\"#9edae5\",\"#9edae5\",\"#ff9896\",\"#bcbd22\",\"#bcbd22\",\"#9edae5\",\"#bcbd22\",\"#9edae5\",\"#ff9896\",\"#9edae5\",\"#9edae5\",\"#9edae5\",\"#ff9896\",\"#9edae5\"],\"names\":[\".\",\"the\",\",\",\"to\",\"and\",\"a\",\"I\",\"of\",\"in\",\"you\",\"is\",\"for\",\"that\",\"-\",\"it\",\"have\",\"?\",\"with\",\"on\",\"\\\"\",\"be\",\"are\",\"was\",\"'s\",\"this\",\"The\",\"!\",\"at\",\"not\",\"(\",\")\",\"my\",\"n't\",\"will\",\":\",\"i\",\"do\",\"would\",\"from\",\"as\",\"good\",\"or\",\"we\",\"there\",\"me\",\"but\",\"by\",\"they\",\"an\",\"if\",\"like\",\"your\",\"had\",\"has\",\"can\",\"up\",\"so\",\"just\",\"know\",\"he\",\"service\",\"all\",\"great\",\"out\",\"best\",\"one\",\"them\",\"our\",\"very\",\"what\",\"get\",\"place\",\"go\",\"could\",\"...\",\"time\",\"We\",\"some\",\"'m\",\"want\",\"been\",\"any\",\"need\",\"his\",\"/\",\"no\",\"It\",\"were\",\"Thanks\",\"food\",\"people\",\"about\",\"which\",\"$\",\"should\",\"now\",\"s\",\"who\",\"more\",\"They\",\"here\",\"new\",\"see\",\";\",\"think\",\"This\",\"use\",\"their\",\"'\",\"Please\",\"when\",\"too\",\"really\",\"work\",\"only\",\"much\",\"going\",\"how\",\"al\",\"did\",\"back\",\"What\",\"'ve\",\"two\",\"over\",\"other\",\"than\",\"take\",\"her\",\"way\",\"little\",\"well\",\"few\",\"You\",\"does\",\"If\",\"may\",\"help\",\"better\",\"Great\",\"nice\",\"said\",\"even\",\"make\",\"last\",\"am\",\"find\",\"Enron\",\"US\",\"also\",\"friendly\",\"'ll\",\"A\",\"area\",\"sure\",\"many\",\"give\",\"My\",\"today\",\"after\",\"group\",\"made\",\"call\",\"&\",\"free\",\"again\",\"Google\",\"into\",\"put\",\"these\",\"then\",\"Bush\",\"ever\",\"In\",\"love\",\"He\",\"him\",\"still\",\"years\",\"day\",\"Qaeda\",\"deal\",\"guys\",\"staff\",\"<\",\">\",\"its\",\"anything\",\"But\",\"year\",\"never\",\"look\",\"us\",\"Do\",\"recommend\",\"--\",\"Fallujah\",\"since\",\"anyone\",\"try\",\"where\",\"got\",\"around\",\"looking\",\"Best\",\"job\",\"PM\",\"------\",\"quality\",\"And\",\"send\",\"off\",\"because\",\"buy\",\"she\",\"always\",\"Vince\",\"able\",\"No\",\"713\",\"thanks\",\"eat\",\"!!!\",\"days\",\"took\",\"most\",\"every\",\"number\",\"London\",\"let\",\"space\",\"those\",\"discussed\",\"Thank\",\":)\",\"..\",\"system\",\"before\",\"come\",\"end\",\"site\",\"'re\",\"something\",\"President\",\"ask\",\"such\",\"through\",\"world\",\"between\",\"Islamic\",\"why\",\"school\",\"working\",\"house\",\"down\",\"phone\",\"Email\",\"PERFORMANCE\",\"01-Feb-02\",\"*\",\"**\",\"nt\",\"e-mail\",\"money\",\"John\",\"amazing\",\"someone\",\"local\",\"5\",\"opinion\",\"1\",\"%\",\"company\",\"using\",\"told\",\"By\",\"though\",\"10\",\"went\",\"email\",\"Good\",\"pay\",\"AM\",\"list\",\"getting\",\"Dow\",\"business\",\"P\",\"NASA\",\"helpful\",\"Very\",\"might\",\"makes\",\"next\",\"done\",\"war\",\"bad\",\"being\",\"seem\",\"against\",\"joined\",\"part\",\"weeks\",\"ago\",\"needs\",\"So\",\"under\",\"already\",\"message\",\"project\",\"called\",\"say\",\"E17\",\"must\",\"Iraq\",\"These\",\"tried\",\"February\",\"As\",\"used\",\"making\",\"week\",\"wanted\",\"price\",\"questions\",\"firm\",\"times\",\"shop\",\"man\",\"everything\",\"lot\",\"deals\",\"Hidden\",\"restaurant\",\"professional\",\"post\",\"away\",\"read\",\"found\",\"On\",\"join\",\"store\",\"looks\",\"pretty\",\"without\",\"city\",\"Sunni\",\"American\",\"country\",\"2\",\"fast\",\"24\",\"same\",\"support\",\"groups\",\"issue\",\"New\",\"21\",\"20\",\"Laden\",\"form\",\"thought\",\"order\",\"came\",\"Yes\",\"please\",\"dinner\",\"doing\",\"left\",\"fine\",\"old\",\"Not\",\"There\",\"David\",\"Well\",\"game\",\"below\",\"#\",\"car\",\"Are\",\"gas\",\"friends\",\"started\",\"Here\",\"Any\",\"quick\",\"happy\",\"page\",\"Nook\",\"different\",\"Chicago\",\"services\",\"search\",\"else\",\"thing\",\"course\",\"excellent\",\"One\",\"pictures\",\"....\",\"stuff\",\"forward\",\"far\",\"believe\",\"start\",\"certainly\",\"rather\",\"ca\",\"behind\",\"long\",\"D\",\"while\",\"section\",\"BBC\",\"later\",\"high\",\"possible\",\"Which\",\"enough\",\"each\",\"until\",\"terrorist\",\"set\",\"another\",\"among\",\"Muslim\",\"check\",\"War\",\"Bin\",\"probably\",\"experience\",\"team\",\"things\",\"wait\",\"girl\",\"wo\",\"month\",\"Mike\",\"Risk\",\"Call\",\"interested\",\"credit\",\"wondering\",\"issues\",\"life\",\"draft\",\"address\",\"results\",\"kind\",\"stay\",\"first\",\"Green\",\"awesome\",\"News\",\"Will\",\"Service\",\"art\",\"Winston\",\"friend\",\"pleased\",\"restaurants\",\"burger\",\"places\",\"busy\",\"computer\",\"camera\",\"customer\",\"care\",\"Highly\",\"[\",\"]\",\"actually\",\"operation\",\"information\",\"hand\",\"nuclear\",\"United\",\"power\",\"police\",\"town\",\"3\",\"term\",\"sounds\",\"market\",\"medical\",\"idea\",\"word\",\"whether\",\"involved\",\"Iraqi\",\"government\",\"question\",\"several\",\"Mississauga\",\"early\",\"small\",\"September\",\"11\",\"Clinton\",\"Of\",\"fall\",\"night\",\"weekend\",\"risk\",\"When\",\"Fax\",\"Hi\",\"suggestions\",\"copy\",\"feel\",\"20.000\",\"HPL\",\"big\",\"bar\",\"extremely\",\"Mark\",\"clean\",\"PPA\",\".?\",\"guaranty\",\"couple\",\"book\",\"name\",\"K\",\"Posted\",\"Wei\",\"often\",\"tragedy\",\"highway\",\"style\",\"prices\",\"rude\",\"employees\",\"fresh\",\"Microsoft\",\"Does\",\"own\",\"across\",\"yet\",\"Let\",\"online\",\"account\",\"worried\",\"hands\",\"However\",\"cool\",\"says\",\"three\",\"either\",\"become\",\"received\",\"enjoyed\",\"along\",\"respect\",\"Parts\",\"filed\",\"whole\",\"finished\",\"short\",\"once\",\"Most\",\"fact\",\"taken\",\"within\",\"according\",\"Bill\",\"point\",\"soon\",\"reason\",\"change\",\"added\",\"statement\",\"wife\",\"Hezbollah\",\"scheduled\",\"process\",\"light\",\"Abdul\",\"That\",\"attack\",\"forces\",\"radical\",\"seen\",\"during\",\"sound\",\"travel\",\"Monotheism\",\"Holy\",\"obviously\",\"Al\",\"Afghanistan\",\"especially\",\"After\",\"Street\",\"case\",\"6\",\"known\",\"coming\",\"wrong\",\"real\",\"worked\",\"Pakistani\",\"bet\",\"remember\",\"regarding\",\"trying\",\"daily\",\"Have\",\"enron\",\"ticket\",\"action\",\"Can\",\"morning\",\"Michael\",\"Elizabeth\",\"Sara\",\"sorry\",\"attached\",\"THE\",\"mind\",\"Web\",\"Debra\",\"Perlingiere\",\"Also\",\"extra\",\"Would\",\"'d\",\"Janette\",\"Elbertson\",\"highly\",\"December\",\"MMBTU\",\"Job\",\"offer\",\"room\",\"4\",\"wish\",\"capital\",\"longer\",\"top\",\"Indian\",\"paper\",\"16\",\"Sheridan\",\"01/24/2001\",\"gave\",\"Darrell\",\"Dr.\",\"Kam\",\"needed\",\"All\",\"data\",\"estate\",\"four\",\"Chinese\",\"home\",\"children\",\"Wonderful\",\"moon\",\"private\",\"White\",\"shuttle\",\"slow\",\"right\",\"Or\",\"lol\",\"How\",\"dog\",\"NZ\",\"vet\",\"family\",\"ice\",\"cream\",\"reasonable\",\"Excellent\",\"location\",\"recommended\",\"easy\",\"tmobile\",\"Mary\",\"heard\",\"Is\",\"To\",\"view\",\"important\",\"besides\",\"news\",\"energy\",\"Government\",\"connection\",\"wants\",\"Americans\",\"calling\",\"Friday\",\"Saddam\",\"share\",\"due\",\"level\",\"pages\",\"Paul\",\"VI\",\"SOUTER\",\"GINSBURG\",\"BREYER\",\"II\",\"agree\",\"hour\",\"however\",\"political\",\"seems\",\"UN\",\"Union\",\"keeping\",\"given\",\"giving\",\"move\",\"rate\",\"gifts\",\"mean\",\"hard\",\"charity\",\"worth\",\"knows\",\"research\",\"means\",\"Because\",\"gone\",\"having\",\"spot\",\"starting\",\"inside\",\"legitimate\",\"simple\",\"pull\",\"January\",\"opposed\",\"U.S.\",\"plot\",\"High\",\"Wycombe\",\"months\",\"Toronto\",\"everyone\",\"true\",\"key\",\"stop\",\"administration\",\"2001\",\"threat\",\"chance\",\"40\",\"plan\",\"playing\",\"white\",\"based\",\"refer\",\"king\",\"whatever\",\"thinking\",\"talking\",\"planning\",\"waiting\",\"Hello\",\"ideas\",\"details\",\"Lay\",\"additional\",\"ride\",\"class\",\"hoping\",\"play\",\"currently\",\"fixed\",\"Houston\",\"model\",\"Inc.\",\"asked\",\"comes\",\"pass\",\"advise\",\"Attached\",\"discuss\",\"+\",\"cell\",\"Wholesale\",\"@\",\"While\",\"Just\",\"understand\",\"leave\",\"regards\",\"Telephone\",\"Facsimile\",\"weather\",\"2000\",\"12\",\"web\",\"lunch\",\"Comets\",\"Tuesday\",\"matters\",\"EWS\",\"Legal\",\"Sent\",\"changes\",\"correct\",\"memo\",\"!!!!!!\",\"revised\",\"values\",\"felt\",\"Did\",\"person\",\"USA\",\"healthy\",\"plenty\",\"touch\",\"traders\",\"close\",\"favor\",\"Guaranty.doc\",\"meeting\",\"looked\",\"design\",\"problem\",\"run\",\"DPR\",\"live\",\"financial\",\"taking\",\"above\",\"visit\",\"Delhi\",\"arrested\",\"wonderful\",\"quite\",\"Systems\",\"water\",\"future\",\"Santiago\",\"China\",\"table\",\"it's\",\"Action\",\"Network\",\"website\",\"together\",\"boy\",\"Earth\",\"flight\",\"launch\",\"rockets\",\"rocket\",\"expensive\",\"Irish\",\"coffee\",\"Argentina\",\"prefer\",\"cost\",\"meal\",\"chain\",\"least\",\"websites\",\"fish\",\"bacon\",\"breakfast\",\"Air\",\"fixing\",\"charge\",\"MAD\",\"cheap\",\"San\",\"Francisco\",\"200\",\"Food\",\"nothing\",\"Kodak\",\"pause\",\"recording\",\"Fast\",\"statues\",\"fun\",\"enjoy\",\"tank\",\"!!\",\"wow\",\"Quality\",\"management\",\"She\",\"stock\",\"doubt\",\"show\",\"shows\",\"article\",\"sin\",\"States\",\"Iranian\",\"suspect\",\"proof\",\"willing\",\"Nations\",\"Many\",\"military\",\"frequently\",\"Falluja\",\"security\",\"fire\",\"troops\",\"clerics\",\"general\",\"leaders\",\"soldiers\",\"remain\",\"special\",\"treatment\",\"Shiites\",\"Court\",\"Rumsfeld\",\"divided\",\"D.C.\",\"Anthony\",\"decision\",\"actual\",\"vote\",\"KENNEDY\",\"SCALIA\",\"dissenting\",\"THOMAS\",\"ALITO\",\"B\",\"marriage\",\"update\",\"upon\",\"front\",\"Washington\",\"report\",\"quickly\",\"Secretary\",\"General\",\"Annan\",\"Darfur\",\"Two\",\"African\",\"300\",\"half\",\"situation\",\"basically\",\"Melinda\",\"Foundation\",\"value\",\"assume\",\"grow\",\"notes\",\"major\",\"shares\",\"guy\",\"happens\",\"mainly\",\"saying\",\"Syria\",\"indicated\",\"participate\",\"elections\",\"agreed\",\"media\",\"despite\",\"terrorism\",\"avoid\",\"bring\",\"organization\",\"force\",\"Arabs\",\"raises\",\"Iraqis\",\"AMS\",\"assault\",\"movement\",\"direct\",\"whom\",\"views\",\"militant\",\"Thursday\",\"Islam\",\"terrorists\",\"Dick\",\"Hussain\",\"22\",\"Ali\",\"confused\",\"Canada\",\"19\",\"Jihad\",\"Zarqawi\",\"allowed\",\"sign\",\"million\",\"modern\",\"original\",\"members\",\"met\"],\"x1\":{\"__ndarray__\":\"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\",\"dtype\":\"float32\",\"shape\":[1000]},\"x2\":{\"__ndarray__\":\"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\",\"dtype\":\"float32\",\"shape\":[1000]}}},\"id\":\"2110fd2d-f01e-4423-b838-722f909466eb\",\"type\":\"ColumnDataSource\"},{\"attributes\":{},\"id\":\"dd6831aa-4c2d-4ef0-8dd4-fce4d384ad8b\",\"type\":\"ResetTool\"},{\"attributes\":{\"below\":[{\"id\":\"5b1a6dd7-e7ab-4b04-9197-b96ad2885031\",\"type\":\"LinearAxis\"}],\"left\":[{\"id\":\"7312376d-c9b8-4906-b9df-deab00ec739d\",\"type\":\"LinearAxis\"}],\"renderers\":[{\"id\":\"5b1a6dd7-e7ab-4b04-9197-b96ad2885031\",\"type\":\"LinearAxis\"},{\"id\":\"22bd7810-ff21-4fa2-aca1-e22fa3df1197\",\"type\":\"Grid\"},{\"id\":\"7312376d-c9b8-4906-b9df-deab00ec739d\",\"type\":\"LinearAxis\"},{\"id\":\"1154e9bf-4b8f-4df6-9d15-96457c60759a\",\"type\":\"Grid\"},{\"id\":\"5c0810f0-b9c2-44a3-ae05-e4480643c821\",\"type\":\"GlyphRenderer\"},{\"id\":\"df19d4bc-3157-4722-857a-8cd44e9a0207\",\"type\":\"LabelSet\"}],\"title\":{\"id\":\"c03759d1-49c9-4d7f-a223-67dc37d533c1\",\"type\":\"Title\"},\"toolbar\":{\"id\":\"b635b373-9a50-4b41-a692-a4a7857b2b8c\",\"type\":\"Toolbar\"},\"toolbar_location\":\"above\",\"x_range\":{\"id\":\"a02833fd-aa4a-4b65-b5dd-7f408156ddba\",\"type\":\"DataRange1d\"},\"x_scale\":{\"id\":\"5adb8a38-852e-495c-881f-697e13bfcd34\",\"type\":\"LinearScale\"},\"y_range\":{\"id\":\"3687d213-b15a-4270-b735-3728af7bedfc\",\"type\":\"DataRange1d\"},\"y_scale\":{\"id\":\"2fb9ecb1-c33f-4e47-a580-f34b61edfdf3\",\"type\":\"LinearScale\"}},\"id\":\"d45656e0-a21c-44ce-8f21-f2e2030cff9d\",\"subtype\":\"Figure\",\"type\":\"Plot\"},{\"attributes\":{\"formatter\":{\"id\":\"f797c598-99fa-482b-95ab-88c20cc8695e\",\"type\":\"BasicTickFormatter\"},\"plot\":{\"id\":\"d45656e0-a21c-44ce-8f21-f2e2030cff9d\",\"subtype\":\"Figure\",\"type\":\"Plot\"},\"ticker\":{\"id\":\"ae756b50-c66f-457e-8b94-15bbabc32180\",\"type\":\"BasicTicker\"}},\"id\":\"7312376d-c9b8-4906-b9df-deab00ec739d\",\"type\":\"LinearAxis\"},{\"attributes\":{\"fill_alpha\":{\"value\":0.1},\"fill_color\":{\"value\":\"#1f77b4\"},\"line_alpha\":{\"value\":0.1},\"line_color\":{\"value\":\"#1f77b4\"},\"size\":{\"units\":\"screen\",\"value\":8},\"x\":{\"field\":\"x1\"},\"y\":{\"field\":\"x2\"}},\"id\":\"e3aec4be-27b1-41bc-b551-a0b8f23db2a2\",\"type\":\"Circle\"},{\"attributes\":{},\"id\":\"40be71fc-648f-4123-b03d-f9ff27e8be70\",\"type\":\"WheelZoomTool\"},{\"attributes\":{\"callback\":null},\"id\":\"a02833fd-aa4a-4b65-b5dd-7f408156ddba\",\"type\":\"DataRange1d\"},{\"attributes\":{\"callback\":null},\"id\":\"3687d213-b15a-4270-b735-3728af7bedfc\",\"type\":\"DataRange1d\"},{\"attributes\":{\"fill_color\":{\"field\":\"colors\"},\"line_color\":{\"field\":\"colors\"},\"size\":{\"units\":\"screen\",\"value\":8},\"x\":{\"field\":\"x1\"},\"y\":{\"field\":\"x2\"}},\"id\":\"d742c6fc-bfb0-48ba-b1a5-7855237ede7a\",\"type\":\"Circle\"},{\"attributes\":{\"active_drag\":\"auto\",\"active_inspect\":\"auto\",\"active_scroll\":\"auto\",\"active_tap\":\"auto\",\"tools\":[{\"id\":\"3c424201-8cff-4c19-b03c-657f0ccaa0a8\",\"type\":\"PanTool\"},{\"id\":\"40be71fc-648f-4123-b03d-f9ff27e8be70\",\"type\":\"WheelZoomTool\"},{\"id\":\"dd6831aa-4c2d-4ef0-8dd4-fce4d384ad8b\",\"type\":\"ResetTool\"},{\"id\":\"079e256c-d822-48f3-b7b5-851d435866a6\",\"type\":\"SaveTool\"}]},\"id\":\"b635b373-9a50-4b41-a692-a4a7857b2b8c\",\"type\":\"Toolbar\"},{\"attributes\":{},\"id\":\"b540d95f-90fc-4d94-8a76-89785cf611fc\",\"type\":\"BasicTickFormatter\"},{\"attributes\":{},\"id\":\"5adb8a38-852e-495c-881f-697e13bfcd34\",\"type\":\"LinearScale\"}],\"root_ids\":[\"d45656e0-a21c-44ce-8f21-f2e2030cff9d\"]},\"title\":\"Bokeh Application\",\"version\":\"0.12.10\"}};\n",
       "    var render_items = [{\"docid\":\"b689ffd4-5285-402f-89d7-d6fed09a9e90\",\"elementid\":\"039e7d4b-9cf5-49df-b8ed-987ae6566449\",\"modelid\":\"d45656e0-a21c-44ce-8f21-f2e2030cff9d\"}];\n",
       "\n",
       "    root.Bokeh.embed.embed_items(docs_json, render_items);\n",
       "  }\n",
       "\n",
       "  if (root.Bokeh !== undefined) {\n",
       "    embed_document(root);\n",
       "  } else {\n",
       "    var attempts = 0;\n",
       "    var timer = setInterval(function(root) {\n",
       "      if (root.Bokeh !== undefined) {\n",
       "        embed_document(root);\n",
       "        clearInterval(timer);\n",
       "      }\n",
       "      attempts++;\n",
       "      if (attempts > 100) {\n",
       "        console.log(\"Bokeh: ERROR: Unable to embed document because BokehJS library is missing\")\n",
       "        clearInterval(timer);\n",
       "      }\n",
       "    }, 10, root)\n",
       "  }\n",
       "})(window);"
      ],
      "application/vnd.bokehjs_exec.v0+json": ""
     },
     "metadata": {
      "application/vnd.bokehjs_exec.v0+json": {
       "id": "d45656e0-a21c-44ce-8f21-f2e2030cff9d"
      }
     },
     "output_type": "display_data"
    }
   ],
   "source": [
    "top_words = [k for k,v in word_counts_train.most_common(1000)]\n",
    "top_word_vecs = gensim_word_model[top_words]\n",
    "emb_scatter(top_word_vecs, top_words, N=20)"
   ]
  },
  {
   "cell_type": "code",
   "execution_count": 51,
   "metadata": {},
   "outputs": [
    {
     "name": "stdout",
     "output_type": "stream",
     "text": [
      "finding clusters\n",
      "fitting tsne\n"
     ]
    },
    {
     "data": {
      "text/html": [
       "\n",
       "<div class=\"bk-root\">\n",
       "    <div class=\"bk-plotdiv\" id=\"cfd51049-f8c0-400b-92d1-1e56ef5d2a42\"></div>\n",
       "</div>"
      ]
     },
     "metadata": {},
     "output_type": "display_data"
    },
    {
     "data": {
      "application/javascript": [
       "(function(root) {\n",
       "  function embed_document(root) {\n",
       "    var docs_json = {\"95af215d-7765-46f0-bb6e-3c5b90b91eb5\":{\"roots\":{\"references\":[{\"attributes\":{\"callback\":null},\"id\":\"a3f81b62-3b05-4984-91b2-22b66e9a27fa\",\"type\":\"DataRange1d\"},{\"attributes\":{},\"id\":\"7c3a2c20-1b41-43c0-b294-70bdd6945d80\",\"type\":\"ResetTool\"},{\"attributes\":{\"fill_color\":{\"field\":\"colors\"},\"line_color\":{\"field\":\"colors\"},\"size\":{\"units\":\"screen\",\"value\":8},\"x\":{\"field\":\"x1\"},\"y\":{\"field\":\"x2\"}},\"id\":\"edd6d8f8-8945-4c54-8a39-0aed378ed162\",\"type\":\"Circle\"},{\"attributes\":{},\"id\":\"23ae3227-6218-4bac-bd57-73f2b88ed812\",\"type\":\"SaveTool\"},{\"attributes\":{\"callback\":null},\"id\":\"6f97cc21-0fba-4314-ab5e-959add90cbb0\",\"type\":\"DataRange1d\"},{\"attributes\":{},\"id\":\"85867705-6e62-4155-a3e8-8ffebabf0ddc\",\"type\":\"LinearScale\"},{\"attributes\":{},\"id\":\"fc97065d-df73-4785-8b90-abb3bb0607f2\",\"type\":\"LinearScale\"},{\"attributes\":{\"plot\":{\"id\":\"47a2524a-4274-4891-ae2d-b30057470d79\",\"subtype\":\"Figure\",\"type\":\"Plot\"},\"ticker\":{\"id\":\"ec0a2566-7028-43b2-a018-3620b6372cea\",\"type\":\"BasicTicker\"}},\"id\":\"d4af07bb-b387-4ef1-bd07-36ccccd53978\",\"type\":\"Grid\"},{\"attributes\":{},\"id\":\"2c200b03-08c8-47c7-ab5a-11ff0e01d90f\",\"type\":\"WheelZoomTool\"},{\"attributes\":{\"plot\":null,\"text\":\"T-SNE for most common words\"},\"id\":\"1f55401c-b1e2-473e-ab02-47d93543bc7c\",\"type\":\"Title\"},{\"attributes\":{\"formatter\":{\"id\":\"474a62f3-1661-4d41-bad6-5dd934f3bad2\",\"type\":\"BasicTickFormatter\"},\"plot\":{\"id\":\"47a2524a-4274-4891-ae2d-b30057470d79\",\"subtype\":\"Figure\",\"type\":\"Plot\"},\"ticker\":{\"id\":\"96317b19-461d-41a0-97fa-e97ff5c49dbe\",\"type\":\"BasicTicker\"}},\"id\":\"f92dcad7-5f78-401c-9426-55b1f3d5d94c\",\"type\":\"LinearAxis\"},{\"attributes\":{\"plot\":{\"id\":\"47a2524a-4274-4891-ae2d-b30057470d79\",\"subtype\":\"Figure\",\"type\":\"Plot\"},\"source\":{\"id\":\"695c0f61-64dc-4eaf-be90-54186279a1eb\",\"type\":\"ColumnDataSource\"},\"text\":{\"field\":\"names\"},\"text_align\":\"center\",\"text_color\":{\"value\":\"#555555\"},\"text_font_size\":{\"value\":\"8pt\"},\"x\":{\"field\":\"x1\"},\"y\":{\"field\":\"x2\"},\"y_offset\":{\"value\":6}},\"id\":\"ed518da3-8153-42b3-a9f1-01563d5dcc80\",\"type\":\"LabelSet\"},{\"attributes\":{\"formatter\":{\"id\":\"cc84b257-00c1-4396-8d51-7cf51a914217\",\"type\":\"BasicTickFormatter\"},\"plot\":{\"id\":\"47a2524a-4274-4891-ae2d-b30057470d79\",\"subtype\":\"Figure\",\"type\":\"Plot\"},\"ticker\":{\"id\":\"ec0a2566-7028-43b2-a018-3620b6372cea\",\"type\":\"BasicTicker\"}},\"id\":\"6c915325-3acd-45e2-959c-e0be7fb233a9\",\"type\":\"LinearAxis\"},{\"attributes\":{\"fill_alpha\":{\"value\":0.1},\"fill_color\":{\"value\":\"#1f77b4\"},\"line_alpha\":{\"value\":0.1},\"line_color\":{\"value\":\"#1f77b4\"},\"size\":{\"units\":\"screen\",\"value\":8},\"x\":{\"field\":\"x1\"},\"y\":{\"field\":\"x2\"}},\"id\":\"f522ced5-9c39-4752-8621-ed74dd958bbf\",\"type\":\"Circle\"},{\"attributes\":{},\"id\":\"ec0a2566-7028-43b2-a018-3620b6372cea\",\"type\":\"BasicTicker\"},{\"attributes\":{\"source\":{\"id\":\"695c0f61-64dc-4eaf-be90-54186279a1eb\",\"type\":\"ColumnDataSource\"}},\"id\":\"3f6071de-db9e-48a5-aee7-255a2b57836b\",\"type\":\"CDSView\"},{\"attributes\":{},\"id\":\"96317b19-461d-41a0-97fa-e97ff5c49dbe\",\"type\":\"BasicTicker\"},{\"attributes\":{\"dimension\":1,\"plot\":{\"id\":\"47a2524a-4274-4891-ae2d-b30057470d79\",\"subtype\":\"Figure\",\"type\":\"Plot\"},\"ticker\":{\"id\":\"96317b19-461d-41a0-97fa-e97ff5c49dbe\",\"type\":\"BasicTicker\"}},\"id\":\"f4143049-c670-4c86-99d7-5786d8f1a50c\",\"type\":\"Grid\"},{\"attributes\":{\"active_drag\":\"auto\",\"active_inspect\":\"auto\",\"active_scroll\":\"auto\",\"active_tap\":\"auto\",\"tools\":[{\"id\":\"ab8db6fd-29df-41d9-8759-25dfdb5642e3\",\"type\":\"PanTool\"},{\"id\":\"2c200b03-08c8-47c7-ab5a-11ff0e01d90f\",\"type\":\"WheelZoomTool\"},{\"id\":\"7c3a2c20-1b41-43c0-b294-70bdd6945d80\",\"type\":\"ResetTool\"},{\"id\":\"23ae3227-6218-4bac-bd57-73f2b88ed812\",\"type\":\"SaveTool\"}]},\"id\":\"54932997-1bd4-4838-9a0e-6808d8dd6745\",\"type\":\"Toolbar\"},{\"attributes\":{\"data_source\":{\"id\":\"695c0f61-64dc-4eaf-be90-54186279a1eb\",\"type\":\"ColumnDataSource\"},\"glyph\":{\"id\":\"edd6d8f8-8945-4c54-8a39-0aed378ed162\",\"type\":\"Circle\"},\"hover_glyph\":null,\"muted_glyph\":null,\"nonselection_glyph\":{\"id\":\"f522ced5-9c39-4752-8621-ed74dd958bbf\",\"type\":\"Circle\"},\"selection_glyph\":null,\"view\":{\"id\":\"3f6071de-db9e-48a5-aee7-255a2b57836b\",\"type\":\"CDSView\"}},\"id\":\"645ecd70-e0c9-4c61-ac55-4c9d2d4b6df6\",\"type\":\"GlyphRenderer\"},{\"attributes\":{\"callback\":null,\"column_names\":[\"x1\",\"x2\",\"names\",\"colors\"],\"data\":{\"colors\":[\"#8c564b\",\"#ff9896\",\"#1f77b4\",\"#7f7f7f\",\"#2ca02c\",\"#c7c7c7\",\"#c49c94\",\"#f7b6d2\",\"#bcbd22\",\"#98df8a\",\"#9467bd\",\"#e377c2\",\"#aec7e8\",\"#c5b0d5\",\"#ffbb78\",\"#ff7f0e\",\"#d62728\"],\"names\":[\"NOUN\",\"PUNCT\",\"VERB\",\"PRON\",\"PROPN\",\"ADP\",\"DET\",\"ADJ\",\"AUX\",\"ADV\",\"CCONJ\",\"PART\",\"NUM\",\"SCONJ\",\"X\",\"INTJ\",\"SYM\"],\"x1\":{\"__ndarray__\":\"asGUwkhXucIkpdFCW8zuwlHhokJPxRzDWfbFQbfZd8L7tTTBRiWeQYHFOUL/fz6//uDCwgLHMMPSt03D5MAEQz6QEcI=\",\"dtype\":\"float32\",\"shape\":[17]},\"x2\":{\"__ndarray__\":\"tpQbw1Gdj0KZzonCRe7iwEmM6kKwLLrC/2gJw6gojMJOdrhC5mFGwrz560HIEzJDBeQfQ9klvEKy5yq/KGjcQdipMUE=\",\"dtype\":\"float32\",\"shape\":[17]}}},\"id\":\"695c0f61-64dc-4eaf-be90-54186279a1eb\",\"type\":\"ColumnDataSource\"},{\"attributes\":{},\"id\":\"cc84b257-00c1-4396-8d51-7cf51a914217\",\"type\":\"BasicTickFormatter\"},{\"attributes\":{\"below\":[{\"id\":\"6c915325-3acd-45e2-959c-e0be7fb233a9\",\"type\":\"LinearAxis\"}],\"left\":[{\"id\":\"f92dcad7-5f78-401c-9426-55b1f3d5d94c\",\"type\":\"LinearAxis\"}],\"renderers\":[{\"id\":\"6c915325-3acd-45e2-959c-e0be7fb233a9\",\"type\":\"LinearAxis\"},{\"id\":\"d4af07bb-b387-4ef1-bd07-36ccccd53978\",\"type\":\"Grid\"},{\"id\":\"f92dcad7-5f78-401c-9426-55b1f3d5d94c\",\"type\":\"LinearAxis\"},{\"id\":\"f4143049-c670-4c86-99d7-5786d8f1a50c\",\"type\":\"Grid\"},{\"id\":\"645ecd70-e0c9-4c61-ac55-4c9d2d4b6df6\",\"type\":\"GlyphRenderer\"},{\"id\":\"ed518da3-8153-42b3-a9f1-01563d5dcc80\",\"type\":\"LabelSet\"}],\"title\":{\"id\":\"1f55401c-b1e2-473e-ab02-47d93543bc7c\",\"type\":\"Title\"},\"toolbar\":{\"id\":\"54932997-1bd4-4838-9a0e-6808d8dd6745\",\"type\":\"Toolbar\"},\"toolbar_location\":\"above\",\"x_range\":{\"id\":\"6f97cc21-0fba-4314-ab5e-959add90cbb0\",\"type\":\"DataRange1d\"},\"x_scale\":{\"id\":\"85867705-6e62-4155-a3e8-8ffebabf0ddc\",\"type\":\"LinearScale\"},\"y_range\":{\"id\":\"a3f81b62-3b05-4984-91b2-22b66e9a27fa\",\"type\":\"DataRange1d\"},\"y_scale\":{\"id\":\"fc97065d-df73-4785-8b90-abb3bb0607f2\",\"type\":\"LinearScale\"}},\"id\":\"47a2524a-4274-4891-ae2d-b30057470d79\",\"subtype\":\"Figure\",\"type\":\"Plot\"},{\"attributes\":{},\"id\":\"ab8db6fd-29df-41d9-8759-25dfdb5642e3\",\"type\":\"PanTool\"},{\"attributes\":{},\"id\":\"474a62f3-1661-4d41-bad6-5dd934f3bad2\",\"type\":\"BasicTickFormatter\"}],\"root_ids\":[\"47a2524a-4274-4891-ae2d-b30057470d79\"]},\"title\":\"Bokeh Application\",\"version\":\"0.12.10\"}};\n",
       "    var render_items = [{\"docid\":\"95af215d-7765-46f0-bb6e-3c5b90b91eb5\",\"elementid\":\"cfd51049-f8c0-400b-92d1-1e56ef5d2a42\",\"modelid\":\"47a2524a-4274-4891-ae2d-b30057470d79\"}];\n",
       "\n",
       "    root.Bokeh.embed.embed_items(docs_json, render_items);\n",
       "  }\n",
       "\n",
       "  if (root.Bokeh !== undefined) {\n",
       "    embed_document(root);\n",
       "  } else {\n",
       "    var attempts = 0;\n",
       "    var timer = setInterval(function(root) {\n",
       "      if (root.Bokeh !== undefined) {\n",
       "        embed_document(root);\n",
       "        clearInterval(timer);\n",
       "      }\n",
       "      attempts++;\n",
       "      if (attempts > 100) {\n",
       "        console.log(\"Bokeh: ERROR: Unable to embed document because BokehJS library is missing\")\n",
       "        clearInterval(timer);\n",
       "      }\n",
       "    }, 10, root)\n",
       "  }\n",
       "})(window);"
      ],
      "application/vnd.bokehjs_exec.v0+json": ""
     },
     "metadata": {
      "application/vnd.bokehjs_exec.v0+json": {
       "id": "47a2524a-4274-4891-ae2d-b30057470d79"
      }
     },
     "output_type": "display_data"
    }
   ],
   "source": [
    "top_POS = [k for k,v in POS_counts_train.most_common(1000)]\n",
    "top_POS_vecs = gensim_POS_model[top_POS]\n",
    "emb_scatter(top_POS_vecs, top_POS, N=17)"
   ]
  },
  {
   "cell_type": "markdown",
   "metadata": {},
   "source": [
    "### b. Gensim Word2Vector trained on Wikipedia data:"
   ]
  },
  {
   "cell_type": "code",
   "execution_count": 52,
   "metadata": {
    "collapsed": true
   },
   "outputs": [],
   "source": [
    "# TODO: implement or delete this section."
   ]
  },
  {
   "cell_type": "markdown",
   "metadata": {},
   "source": [
    "### c. GloVe word embeddings from  spacy library(300d):"
   ]
  },
  {
   "cell_type": "code",
   "execution_count": 53,
   "metadata": {
    "collapsed": true
   },
   "outputs": [],
   "source": [
    "import spacy\n",
    "glove = spacy.load('en')\n",
    "\n",
    "spacy_word_model = {}\n",
    "for word in word_vocabulary:\n",
    "    spacy_word_model[word] = glove(word).vector\n",
    "\n",
    "spacy_POS_model = {}\n",
    "for POS_tag in pos_tag_vocabulary:\n",
    "    spacy_POS_model[POS_tag] = glove(POS_tag).vector"
   ]
  },
  {
   "cell_type": "code",
   "execution_count": 54,
   "metadata": {},
   "outputs": [
    {
     "name": "stdout",
     "output_type": "stream",
     "text": [
      "finding clusters\n",
      "fitting tsne\n"
     ]
    },
    {
     "data": {
      "text/html": [
       "\n",
       "<div class=\"bk-root\">\n",
       "    <div class=\"bk-plotdiv\" id=\"404c0861-2db6-4b1d-a6b9-bb33d25f4885\"></div>\n",
       "</div>"
      ]
     },
     "metadata": {},
     "output_type": "display_data"
    },
    {
     "data": {
      "application/javascript": [
       "(function(root) {\n",
       "  function embed_document(root) {\n",
       "    var docs_json = {\"4f58d4ad-4259-4c0e-bb14-b1c0f53237cd\":{\"roots\":{\"references\":[{\"attributes\":{\"plot\":{\"id\":\"41f91d06-551a-499a-897e-9c3ebf023d69\",\"subtype\":\"Figure\",\"type\":\"Plot\"},\"ticker\":{\"id\":\"772e24bd-1c2c-4d05-8f4c-5fbd13d8a686\",\"type\":\"BasicTicker\"}},\"id\":\"9dd14187-87be-4844-95d8-b1bc538354fb\",\"type\":\"Grid\"},{\"attributes\":{\"plot\":null,\"text\":\"T-SNE for most common words\"},\"id\":\"8725035c-13b5-4a37-8057-c04894f40f11\",\"type\":\"Title\"},{\"attributes\":{\"fill_alpha\":{\"value\":0.1},\"fill_color\":{\"value\":\"#1f77b4\"},\"line_alpha\":{\"value\":0.1},\"line_color\":{\"value\":\"#1f77b4\"},\"size\":{\"units\":\"screen\",\"value\":8},\"x\":{\"field\":\"x1\"},\"y\":{\"field\":\"x2\"}},\"id\":\"f324ac23-09d7-4f6a-a13e-d06190ebcfd3\",\"type\":\"Circle\"},{\"attributes\":{\"data_source\":{\"id\":\"bf8ca537-24d4-464f-8806-9794b0a04519\",\"type\":\"ColumnDataSource\"},\"glyph\":{\"id\":\"4235c86f-9edb-4c27-9c07-d74614656281\",\"type\":\"Circle\"},\"hover_glyph\":null,\"muted_glyph\":null,\"nonselection_glyph\":{\"id\":\"f324ac23-09d7-4f6a-a13e-d06190ebcfd3\",\"type\":\"Circle\"},\"selection_glyph\":null,\"view\":{\"id\":\"c705927e-dc93-4150-ac23-c7cfcc044457\",\"type\":\"CDSView\"}},\"id\":\"94eabcd6-bc01-4b15-ba02-3b79f1412f05\",\"type\":\"GlyphRenderer\"},{\"attributes\":{\"plot\":{\"id\":\"41f91d06-551a-499a-897e-9c3ebf023d69\",\"subtype\":\"Figure\",\"type\":\"Plot\"},\"source\":{\"id\":\"bf8ca537-24d4-464f-8806-9794b0a04519\",\"type\":\"ColumnDataSource\"},\"text\":{\"field\":\"names\"},\"text_align\":\"center\",\"text_color\":{\"value\":\"#555555\"},\"text_font_size\":{\"value\":\"8pt\"},\"x\":{\"field\":\"x1\"},\"y\":{\"field\":\"x2\"},\"y_offset\":{\"value\":6}},\"id\":\"ac468982-4501-45a2-8779-3018d954b21a\",\"type\":\"LabelSet\"},{\"attributes\":{},\"id\":\"a677af46-4ac5-454f-a234-ae887f5ba754\",\"type\":\"ResetTool\"},{\"attributes\":{},\"id\":\"4bb458af-fe53-4409-b70a-44f46e661e8a\",\"type\":\"WheelZoomTool\"},{\"attributes\":{\"below\":[{\"id\":\"fec535c3-a1bb-4a6e-a994-9de81e88ac96\",\"type\":\"LinearAxis\"}],\"left\":[{\"id\":\"aa320bac-711e-487e-ac28-6199ae106ccf\",\"type\":\"LinearAxis\"}],\"renderers\":[{\"id\":\"fec535c3-a1bb-4a6e-a994-9de81e88ac96\",\"type\":\"LinearAxis\"},{\"id\":\"9dd14187-87be-4844-95d8-b1bc538354fb\",\"type\":\"Grid\"},{\"id\":\"aa320bac-711e-487e-ac28-6199ae106ccf\",\"type\":\"LinearAxis\"},{\"id\":\"36eb1b2f-4cbc-4e8f-9915-158e04430aa7\",\"type\":\"Grid\"},{\"id\":\"94eabcd6-bc01-4b15-ba02-3b79f1412f05\",\"type\":\"GlyphRenderer\"},{\"id\":\"ac468982-4501-45a2-8779-3018d954b21a\",\"type\":\"LabelSet\"}],\"title\":{\"id\":\"8725035c-13b5-4a37-8057-c04894f40f11\",\"type\":\"Title\"},\"toolbar\":{\"id\":\"1d389c6a-4d2c-457a-b2d8-84a64d841de4\",\"type\":\"Toolbar\"},\"toolbar_location\":\"above\",\"x_range\":{\"id\":\"9be2737c-a622-4fbf-aceb-04164781250e\",\"type\":\"DataRange1d\"},\"x_scale\":{\"id\":\"36de5e51-4aad-4d7f-bd8b-21a7ea87df11\",\"type\":\"LinearScale\"},\"y_range\":{\"id\":\"43fcdced-3035-4358-8f0b-460f55957fd2\",\"type\":\"DataRange1d\"},\"y_scale\":{\"id\":\"ade41c00-6c70-49da-a235-2448adf2b049\",\"type\":\"LinearScale\"}},\"id\":\"41f91d06-551a-499a-897e-9c3ebf023d69\",\"subtype\":\"Figure\",\"type\":\"Plot\"},{\"attributes\":{\"fill_color\":{\"field\":\"colors\"},\"line_color\":{\"field\":\"colors\"},\"size\":{\"units\":\"screen\",\"value\":8},\"x\":{\"field\":\"x1\"},\"y\":{\"field\":\"x2\"}},\"id\":\"4235c86f-9edb-4c27-9c07-d74614656281\",\"type\":\"Circle\"},{\"attributes\":{\"active_drag\":\"auto\",\"active_inspect\":\"auto\",\"active_scroll\":\"auto\",\"active_tap\":\"auto\",\"tools\":[{\"id\":\"72f037a7-e91f-4914-9f2f-725e81971b78\",\"type\":\"PanTool\"},{\"id\":\"4bb458af-fe53-4409-b70a-44f46e661e8a\",\"type\":\"WheelZoomTool\"},{\"id\":\"a677af46-4ac5-454f-a234-ae887f5ba754\",\"type\":\"ResetTool\"},{\"id\":\"b233da9d-11a0-4d64-9e1d-6189a86848ca\",\"type\":\"SaveTool\"}]},\"id\":\"1d389c6a-4d2c-457a-b2d8-84a64d841de4\",\"type\":\"Toolbar\"},{\"attributes\":{\"callback\":null,\"column_names\":[\"x1\",\"x2\",\"names\",\"colors\"],\"data\":{\"colors\":[\"#bcbd22\",\"#7f7f7f\",\"#bcbd22\",\"#2ca02c\",\"#c7c7c7\",\"#7f7f7f\",\"#8c564b\",\"#2ca02c\",\"#2ca02c\",\"#8c564b\",\"#e377c2\",\"#2ca02c\",\"#7f7f7f\",\"#bcbd22\",\"#8c564b\",\"#c5b0d5\",\"#bcbd22\",\"#2ca02c\",\"#2ca02c\",\"#bcbd22\",\"#c5b0d5\",\"#c5b0d5\",\"#ff9896\",\"#e377c2\",\"#7f7f7f\",\"#7f7f7f\",\"#bcbd22\",\"#2ca02c\",\"#c49c94\",\"#bcbd22\",\"#bcbd22\",\"#8c564b\",\"#c49c94\",\"#dbdb8d\",\"#bcbd22\",\"#8c564b\",\"#c5b0d5\",\"#dbdb8d\",\"#2ca02c\",\"#2ca02c\",\"#ffbb78\",\"#c7c7c7\",\"#8c564b\",\"#c49c94\",\"#8c564b\",\"#c7c7c7\",\"#2ca02c\",\"#8c564b\",\"#7f7f7f\",\"#2ca02c\",\"#2ca02c\",\"#8c564b\",\"#ff9896\",\"#e377c2\",\"#dbdb8d\",\"#2ca02c\",\"#c7c7c7\",\"#c49c94\",\"#c5b0d5\",\"#8c564b\",\"#9edae5\",\"#7f7f7f\",\"#ffbb78\",\"#2ca02c\",\"#9467bd\",\"#d62728\",\"#8c564b\",\"#8c564b\",\"#c49c94\",\"#7f7f7f\",\"#c5b0d5\",\"#aec7e8\",\"#c5b0d5\",\"#dbdb8d\",\"#bcbd22\",\"#9edae5\",\"#8c564b\",\"#7f7f7f\",\"#bcbd22\",\"#c5b0d5\",\"#98df8a\",\"#7f7f7f\",\"#c5b0d5\",\"#8c564b\",\"#bcbd22\",\"#7f7f7f\",\"#8c564b\",\"#ff9896\",\"#ff7f0e\",\"#9edae5\",\"#ff7f0e\",\"#2ca02c\",\"#7f7f7f\",\"#bcbd22\",\"#dbdb8d\",\"#c49c94\",\"#e377c2\",\"#8c564b\",\"#7f7f7f\",\"#8c564b\",\"#c49c94\",\"#ffbb78\",\"#c5b0d5\",\"#bcbd22\",\"#c5b0d5\",\"#7f7f7f\",\"#aec7e8\",\"#8c564b\",\"#bcbd22\",\"#9467bd\",\"#2ca02c\",\"#c49c94\",\"#c49c94\",\"#aec7e8\",\"#c49c94\",\"#ffbb78\",\"#17becf\",\"#2ca02c\",\"#1f77b4\",\"#ff9896\",\"#9467bd\",\"#7f7f7f\",\"#c5b0d5\",\"#d62728\",\"#2ca02c\",\"#ffbb78\",\"#2ca02c\",\"#c5b0d5\",\"#8c564b\",\"#aec7e8\",\"#ffbb78\",\"#9467bd\",\"#ffbb78\",\"#8c564b\",\"#e377c2\",\"#2ca02c\",\"#dbdb8d\",\"#c5b0d5\",\"#9467bd\",\"#ffbb78\",\"#ffbb78\",\"#ff9896\",\"#c49c94\",\"#c5b0d5\",\"#9467bd\",\"#c5b0d5\",\"#c5b0d5\",\"#1f77b4\",\"#1f77b4\",\"#c49c94\",\"#ffbb78\",\"#dbdb8d\",\"#7f7f7f\",\"#9edae5\",\"#9467bd\",\"#ffbb78\",\"#c5b0d5\",\"#8c564b\",\"#9edae5\",\"#2ca02c\",\"#9edae5\",\"#98df8a\",\"#c5b0d5\",\"#c7c7c7\",\"#ffbb78\",\"#c49c94\",\"#1f77b4\",\"#2ca02c\",\"#ff9896\",\"#7f7f7f\",\"#c49c94\",\"#1f77b4\",\"#c49c94\",\"#2ca02c\",\"#aec7e8\",\"#8c564b\",\"#8c564b\",\"#c49c94\",\"#ff7f0e\",\"#9edae5\",\"#f7b6d2\",\"#aec7e8\",\"#ff7f0e\",\"#9edae5\",\"#bcbd22\",\"#bcbd22\",\"#8c564b\",\"#9edae5\",\"#c7c7c7\",\"#9edae5\",\"#c49c94\",\"#c5b0d5\",\"#8c564b\",\"#c5b0d5\",\"#c5b0d5\",\"#bcbd22\",\"#1f77b4\",\"#2ca02c\",\"#9edae5\",\"#c5b0d5\",\"#2ca02c\",\"#ff9896\",\"#2ca02c\",\"#17becf\",\"#9467bd\",\"#9edae5\",\"#f7b6d2\",\"#bcbd22\",\"#9edae5\",\"#c7c7c7\",\"#c5b0d5\",\"#2ca02c\",\"#2ca02c\",\"#c5b0d5\",\"#8c564b\",\"#c49c94\",\"#f7b6d2\",\"#ffbb78\",\"#7f7f7f\",\"#d62728\",\"#ff7f0e\",\"#c5b0d5\",\"#bcbd22\",\"#ff7f0e\",\"#ff9896\",\"#7f7f7f\",\"#7f7f7f\",\"#9edae5\",\"#1f77b4\",\"#c5b0d5\",\"#9edae5\",\"#7f7f7f\",\"#98df8a\",\"#c5b0d5\",\"#bcbd22\",\"#bcbd22\",\"#9edae5\",\"#2ca02c\",\"#c5b0d5\",\"#aec7e8\",\"#aec7e8\",\"#c5b0d5\",\"#9edae5\",\"#1f77b4\",\"#c5b0d5\",\"#ffbb78\",\"#2ca02c\",\"#aec7e8\",\"#2ca02c\",\"#ffbb78\",\"#ff9896\",\"#9edae5\",\"#17becf\",\"#9edae5\",\"#2ca02c\",\"#9edae5\",\"#f7b6d2\",\"#f7b6d2\",\"#d62728\",\"#bcbd22\",\"#bcbd22\",\"#c49c94\",\"#9edae5\",\"#9edae5\",\"#1f77b4\",\"#ffbb78\",\"#9edae5\",\"#ffbb78\",\"#d62728\",\"#9edae5\",\"#d62728\",\"#9edae5\",\"#9edae5\",\"#17becf\",\"#ff9896\",\"#2ca02c\",\"#2ca02c\",\"#d62728\",\"#ff9896\",\"#9edae5\",\"#ffbb78\",\"#c5b0d5\",\"#c5b0d5\",\"#aec7e8\",\"#17becf\",\"#1f77b4\",\"#9edae5\",\"#f7b6d2\",\"#1f77b4\",\"#ffbb78\",\"#c49c94\",\"#dbdb8d\",\"#e377c2\",\"#9467bd\",\"#98df8a\",\"#9edae5\",\"#ffbb78\",\"#17becf\",\"#c5b0d5\",\"#2ca02c\",\"#98df8a\",\"#aec7e8\",\"#ff7f0e\",\"#c49c94\",\"#e377c2\",\"#c7c7c7\",\"#2ca02c\",\"#c49c94\",\"#aec7e8\",\"#aec7e8\",\"#ff9896\",\"#c5b0d5\",\"#1f77b4\",\"#dbdb8d\",\"#1f77b4\",\"#7f7f7f\",\"#98df8a\",\"#1f77b4\",\"#2ca02c\",\"#98df8a\",\"#17becf\",\"#aec7e8\",\"#98df8a\",\"#9edae5\",\"#ff7f0e\",\"#aec7e8\",\"#ff7f0e\",\"#9edae5\",\"#aec7e8\",\"#9edae5\",\"#9edae5\",\"#ff7f0e\",\"#98df8a\",\"#9edae5\",\"#ffbb78\",\"#aec7e8\",\"#c49c94\",\"#ff9896\",\"#98df8a\",\"#2ca02c\",\"#c5b0d5\",\"#aec7e8\",\"#e377c2\",\"#9467bd\",\"#2ca02c\",\"#9edae5\",\"#ffbb78\",\"#ffbb78\",\"#9edae5\",\"#d62728\",\"#9467bd\",\"#d62728\",\"#ffbb78\",\"#aec7e8\",\"#ff7f0e\",\"#aec7e8\",\"#ffbb78\",\"#d62728\",\"#d62728\",\"#1f77b4\",\"#aec7e8\",\"#ff9896\",\"#aec7e8\",\"#ff9896\",\"#9467bd\",\"#c5b0d5\",\"#9edae5\",\"#17becf\",\"#ff9896\",\"#9467bd\",\"#ffbb78\",\"#c49c94\",\"#c49c94\",\"#1f77b4\",\"#9467bd\",\"#9edae5\",\"#2ca02c\",\"#bcbd22\",\"#9edae5\",\"#c5b0d5\",\"#9edae5\",\"#ff7f0e\",\"#ff9896\",\"#c49c94\",\"#7f7f7f\",\"#ffbb78\",\"#ffbb78\",\"#9edae5\",\"#1f77b4\",\"#ffbb78\",\"#1f77b4\",\"#ff7f0e\",\"#aec7e8\",\"#c49c94\",\"#9edae5\",\"#9467bd\",\"#ffbb78\",\"#d62728\",\"#ff7f0e\",\"#bcbd22\",\"#9edae5\",\"#9467bd\",\"#c49c94\",\"#c5b0d5\",\"#c5b0d5\",\"#c49c94\",\"#c49c94\",\"#dbdb8d\",\"#2ca02c\",\"#9467bd\",\"#1f77b4\",\"#2ca02c\",\"#9edae5\",\"#1f77b4\",\"#c49c94\",\"#ffbb78\",\"#ffbb78\",\"#7f7f7f\",\"#9467bd\",\"#7f7f7f\",\"#2ca02c\",\"#ffbb78\",\"#ff9896\",\"#7f7f7f\",\"#2ca02c\",\"#1f77b4\",\"#aec7e8\",\"#f7b6d2\",\"#f7b6d2\",\"#c49c94\",\"#9edae5\",\"#aec7e8\",\"#ff7f0e\",\"#c5b0d5\",\"#9edae5\",\"#dbdb8d\",\"#9edae5\",\"#1f77b4\",\"#f7b6d2\",\"#aec7e8\",\"#98df8a\",\"#9edae5\",\"#17becf\",\"#ff7f0e\",\"#9edae5\",\"#aec7e8\",\"#aec7e8\",\"#ff7f0e\",\"#9467bd\",\"#c5b0d5\",\"#9467bd\",\"#f7b6d2\",\"#ffbb78\",\"#f7b6d2\",\"#dbdb8d\",\"#f7b6d2\",\"#9edae5\",\"#1f77b4\",\"#aec7e8\",\"#98df8a\",\"#ff7f0e\",\"#9edae5\",\"#ff7f0e\",\"#ffbb78\",\"#9edae5\",\"#9edae5\",\"#9edae5\",\"#aec7e8\",\"#c49c94\",\"#bcbd22\",\"#bcbd22\",\"#c49c94\",\"#9edae5\",\"#9edae5\",\"#aec7e8\",\"#ffbb78\",\"#1f77b4\",\"#9edae5\",\"#ff7f0e\",\"#9edae5\",\"#d62728\",\"#9edae5\",\"#e377c2\",\"#9edae5\",\"#ffbb78\",\"#aec7e8\",\"#aec7e8\",\"#2ca02c\",\"#98df8a\",\"#ffbb78\",\"#9edae5\",\"#aec7e8\",\"#ffbb78\",\"#1f77b4\",\"#9467bd\",\"#ffbb78\",\"#1f77b4\",\"#d62728\",\"#1f77b4\",\"#2ca02c\",\"#c5b0d5\",\"#aec7e8\",\"#aec7e8\",\"#aec7e8\",\"#2ca02c\",\"#f7b6d2\",\"#9467bd\",\"#ff7f0e\",\"#c5b0d5\",\"#c5b0d5\",\"#d62728\",\"#1f77b4\",\"#ffbb78\",\"#9edae5\",\"#c49c94\",\"#1f77b4\",\"#ffbb78\",\"#1f77b4\",\"#bcbd22\",\"#aec7e8\",\"#aec7e8\",\"#9edae5\",\"#aec7e8\",\"#f7b6d2\",\"#98df8a\",\"#f7b6d2\",\"#c49c94\",\"#aec7e8\",\"#9edae5\",\"#9edae5\",\"#ff7f0e\",\"#ffbb78\",\"#ff7f0e\",\"#ffbb78\",\"#1f77b4\",\"#e377c2\",\"#ffbb78\",\"#2ca02c\",\"#c49c94\",\"#c5b0d5\",\"#9467bd\",\"#aec7e8\",\"#98df8a\",\"#ff7f0e\",\"#c49c94\",\"#ffbb78\",\"#e377c2\",\"#d62728\",\"#c7c7c7\",\"#c5b0d5\",\"#98df8a\",\"#98df8a\",\"#2ca02c\",\"#aec7e8\",\"#ff7f0e\",\"#98df8a\",\"#ffbb78\",\"#98df8a\",\"#ffbb78\",\"#c49c94\",\"#7f7f7f\",\"#aec7e8\",\"#98df8a\",\"#2ca02c\",\"#17becf\",\"#1f77b4\",\"#aec7e8\",\"#c49c94\",\"#aec7e8\",\"#aec7e8\",\"#98df8a\",\"#9edae5\",\"#9edae5\",\"#1f77b4\",\"#98df8a\",\"#aec7e8\",\"#ffbb78\",\"#1f77b4\",\"#7f7f7f\",\"#aec7e8\",\"#ff7f0e\",\"#ffbb78\",\"#98df8a\",\"#2ca02c\",\"#aec7e8\",\"#aec7e8\",\"#f7b6d2\",\"#ffbb78\",\"#c49c94\",\"#1f77b4\",\"#1f77b4\",\"#c49c94\",\"#2ca02c\",\"#f7b6d2\",\"#aec7e8\",\"#d62728\",\"#98df8a\",\"#17becf\",\"#ffbb78\",\"#ffbb78\",\"#ff9896\",\"#ffbb78\",\"#aec7e8\",\"#c5b0d5\",\"#17becf\",\"#17becf\",\"#9467bd\",\"#c5b0d5\",\"#aec7e8\",\"#aec7e8\",\"#9edae5\",\"#dbdb8d\",\"#9edae5\",\"#1f77b4\",\"#1f77b4\",\"#1f77b4\",\"#9467bd\",\"#98df8a\",\"#7f7f7f\",\"#aec7e8\",\"#9edae5\",\"#1f77b4\",\"#ff9896\",\"#c49c94\",\"#ffbb78\",\"#dbdb8d\",\"#dbdb8d\",\"#1f77b4\",\"#f7b6d2\",\"#c49c94\",\"#1f77b4\",\"#1f77b4\",\"#f7b6d2\",\"#c5b0d5\",\"#aec7e8\",\"#d62728\",\"#aec7e8\",\"#9edae5\",\"#c49c94\",\"#ffbb78\",\"#ffbb78\",\"#9edae5\",\"#d62728\",\"#1f77b4\",\"#ffbb78\",\"#ff9896\",\"#1f77b4\",\"#1f77b4\",\"#1f77b4\",\"#98df8a\",\"#7f7f7f\",\"#ff7f0e\",\"#9edae5\",\"#d62728\",\"#ffbb78\",\"#9edae5\",\"#ff7f0e\",\"#ffbb78\",\"#aec7e8\",\"#ffbb78\",\"#1f77b4\",\"#aec7e8\",\"#ffbb78\",\"#9467bd\",\"#c7c7c7\",\"#9467bd\",\"#8c564b\",\"#aec7e8\",\"#1f77b4\",\"#aec7e8\",\"#9edae5\",\"#9edae5\",\"#aec7e8\",\"#ffbb78\",\"#9467bd\",\"#9edae5\",\"#98df8a\",\"#ffbb78\",\"#aec7e8\",\"#1f77b4\",\"#98df8a\",\"#e377c2\",\"#2ca02c\",\"#aec7e8\",\"#ffbb78\",\"#2ca02c\",\"#9edae5\",\"#9edae5\",\"#f7b6d2\",\"#9edae5\",\"#e377c2\",\"#ff7f0e\",\"#17becf\",\"#1f77b4\",\"#1f77b4\",\"#aec7e8\",\"#ffbb78\",\"#aec7e8\",\"#ff7f0e\",\"#1f77b4\",\"#1f77b4\",\"#1f77b4\",\"#1f77b4\",\"#f7b6d2\",\"#f7b6d2\",\"#c5b0d5\",\"#aec7e8\",\"#c49c94\",\"#ffbb78\",\"#e377c2\",\"#1f77b4\",\"#f7b6d2\",\"#17becf\",\"#98df8a\",\"#17becf\",\"#c5b0d5\",\"#9edae5\",\"#ff7f0e\",\"#c5b0d5\",\"#9467bd\",\"#9edae5\",\"#ffbb78\",\"#e377c2\",\"#9edae5\",\"#e377c2\",\"#2ca02c\",\"#98df8a\",\"#17becf\",\"#aec7e8\",\"#17becf\",\"#2ca02c\",\"#ffbb78\",\"#ffbb78\",\"#c5b0d5\",\"#1f77b4\",\"#98df8a\",\"#1f77b4\",\"#9edae5\",\"#ffbb78\",\"#1f77b4\",\"#ff7f0e\",\"#1f77b4\",\"#9edae5\",\"#ffbb78\",\"#ffbb78\",\"#c5b0d5\",\"#9edae5\",\"#d62728\",\"#aec7e8\",\"#9edae5\",\"#d62728\",\"#aec7e8\",\"#17becf\",\"#ffbb78\",\"#98df8a\",\"#c5b0d5\",\"#9edae5\",\"#7f7f7f\",\"#17becf\",\"#17becf\",\"#17becf\",\"#17becf\",\"#9467bd\",\"#ff7f0e\",\"#ff7f0e\",\"#1f77b4\",\"#ffbb78\",\"#aec7e8\",\"#9edae5\",\"#17becf\",\"#c5b0d5\",\"#c49c94\",\"#98df8a\",\"#1f77b4\",\"#aec7e8\",\"#f7b6d2\",\"#ff9896\",\"#e377c2\",\"#aec7e8\",\"#aec7e8\",\"#98df8a\",\"#c5b0d5\",\"#bcbd22\",\"#9edae5\",\"#1f77b4\",\"#bcbd22\",\"#2ca02c\",\"#c49c94\",\"#c5b0d5\",\"#c5b0d5\",\"#ff7f0e\",\"#f7b6d2\",\"#f7b6d2\",\"#aec7e8\",\"#d62728\",\"#d62728\",\"#9edae5\",\"#9edae5\",\"#ff7f0e\",\"#1f77b4\",\"#ff7f0e\",\"#1f77b4\",\"#ffbb78\",\"#98df8a\",\"#ff7f0e\",\"#ffbb78\",\"#aec7e8\",\"#bcbd22\",\"#98df8a\",\"#ff7f0e\",\"#ff9896\",\"#ff9896\",\"#aec7e8\",\"#1f77b4\",\"#ffbb78\",\"#9467bd\",\"#aec7e8\",\"#ff7f0e\",\"#9467bd\",\"#aec7e8\",\"#1f77b4\",\"#17becf\",\"#ff9896\",\"#aec7e8\",\"#aec7e8\",\"#c5b0d5\",\"#f7b6d2\",\"#9467bd\",\"#ffbb78\",\"#17becf\",\"#2ca02c\",\"#aec7e8\",\"#1f77b4\",\"#98df8a\",\"#ffbb78\",\"#c49c94\",\"#ff7f0e\",\"#9edae5\",\"#ffbb78\",\"#1f77b4\",\"#1f77b4\",\"#9edae5\",\"#8c564b\",\"#f7b6d2\",\"#f7b6d2\",\"#9edae5\",\"#c49c94\",\"#aec7e8\",\"#f7b6d2\",\"#9edae5\",\"#aec7e8\",\"#ff7f0e\",\"#9edae5\",\"#ffbb78\",\"#ffbb78\",\"#9edae5\",\"#1f77b4\",\"#c5b0d5\",\"#aec7e8\",\"#9edae5\",\"#aec7e8\",\"#bcbd22\",\"#ff7f0e\",\"#aec7e8\",\"#9edae5\",\"#aec7e8\",\"#f7b6d2\",\"#17becf\",\"#aec7e8\",\"#ffbb78\",\"#ffbb78\",\"#1f77b4\",\"#f7b6d2\",\"#d62728\",\"#f7b6d2\",\"#9edae5\",\"#f7b6d2\",\"#c5b0d5\",\"#17becf\",\"#9467bd\",\"#ff7f0e\",\"#aec7e8\",\"#c5b0d5\",\"#aec7e8\",\"#bcbd22\",\"#9467bd\",\"#f7b6d2\",\"#9edae5\",\"#8c564b\",\"#9edae5\",\"#aec7e8\",\"#aec7e8\",\"#e377c2\",\"#aec7e8\",\"#aec7e8\",\"#ff7f0e\",\"#ffbb78\",\"#c5b0d5\",\"#aec7e8\",\"#ffbb78\",\"#ff7f0e\",\"#ffbb78\",\"#ffbb78\",\"#c49c94\",\"#1f77b4\",\"#9edae5\",\"#aec7e8\",\"#ff7f0e\",\"#ff7f0e\",\"#ffbb78\",\"#ff7f0e\",\"#ff7f0e\",\"#c5b0d5\",\"#ffbb78\",\"#9edae5\",\"#ff7f0e\",\"#f7b6d2\",\"#f7b6d2\",\"#98df8a\",\"#1f77b4\",\"#f7b6d2\",\"#9edae5\",\"#ffbb78\",\"#aec7e8\",\"#1f77b4\",\"#1f77b4\",\"#17becf\",\"#1f77b4\",\"#1f77b4\",\"#f7b6d2\",\"#9edae5\",\"#aec7e8\",\"#2ca02c\",\"#9467bd\",\"#1f77b4\",\"#aec7e8\",\"#c49c94\",\"#1f77b4\",\"#1f77b4\",\"#1f77b4\",\"#1f77b4\",\"#d62728\",\"#ffbb78\",\"#d62728\",\"#7f7f7f\",\"#9edae5\",\"#c49c94\",\"#1f77b4\",\"#f7b6d2\",\"#9edae5\",\"#c5b0d5\",\"#c5b0d5\",\"#ff7f0e\",\"#ffbb78\",\"#ff7f0e\",\"#aec7e8\",\"#e377c2\",\"#c49c94\",\"#17becf\",\"#1f77b4\",\"#98df8a\",\"#c5b0d5\",\"#ff7f0e\",\"#ff9896\",\"#ff7f0e\",\"#2ca02c\",\"#9edae5\",\"#c5b0d5\",\"#c5b0d5\",\"#9edae5\",\"#aec7e8\",\"#ff7f0e\",\"#e377c2\",\"#ff7f0e\",\"#1f77b4\",\"#aec7e8\",\"#9edae5\",\"#ffbb78\",\"#bcbd22\",\"#ff7f0e\",\"#ffbb78\",\"#1f77b4\",\"#1f77b4\",\"#ff7f0e\",\"#f7b6d2\",\"#1f77b4\",\"#d62728\",\"#1f77b4\",\"#98df8a\",\"#1f77b4\",\"#d62728\",\"#1f77b4\",\"#1f77b4\",\"#98df8a\",\"#aec7e8\",\"#d62728\",\"#ffbb78\",\"#ffbb78\",\"#ff7f0e\",\"#ff9896\"],\"names\":[\".\",\"the\",\",\",\"to\",\"and\",\"a\",\"I\",\"of\",\"in\",\"you\",\"is\",\"for\",\"that\",\"-\",\"it\",\"have\",\"?\",\"with\",\"on\",\"\\\"\",\"be\",\"are\",\"was\",\"'s\",\"this\",\"The\",\"!\",\"at\",\"not\",\"(\",\")\",\"my\",\"n't\",\"will\",\":\",\"i\",\"do\",\"would\",\"from\",\"as\",\"good\",\"or\",\"we\",\"there\",\"me\",\"but\",\"by\",\"they\",\"an\",\"if\",\"like\",\"your\",\"had\",\"has\",\"can\",\"up\",\"so\",\"just\",\"know\",\"he\",\"service\",\"all\",\"great\",\"out\",\"best\",\"one\",\"them\",\"our\",\"very\",\"what\",\"get\",\"place\",\"go\",\"could\",\"...\",\"time\",\"We\",\"some\",\"'m\",\"want\",\"been\",\"any\",\"need\",\"his\",\"/\",\"no\",\"It\",\"were\",\"Thanks\",\"food\",\"people\",\"about\",\"which\",\"$\",\"should\",\"now\",\"s\",\"who\",\"more\",\"They\",\"here\",\"new\",\"see\",\";\",\"think\",\"This\",\"use\",\"their\",\"'\",\"Please\",\"when\",\"too\",\"really\",\"work\",\"only\",\"much\",\"going\",\"how\",\"al\",\"did\",\"back\",\"What\",\"'ve\",\"two\",\"over\",\"other\",\"than\",\"take\",\"her\",\"way\",\"little\",\"well\",\"few\",\"You\",\"does\",\"If\",\"may\",\"help\",\"better\",\"Great\",\"nice\",\"said\",\"even\",\"make\",\"last\",\"am\",\"find\",\"Enron\",\"US\",\"also\",\"friendly\",\"'ll\",\"A\",\"area\",\"sure\",\"many\",\"give\",\"My\",\"today\",\"after\",\"group\",\"made\",\"call\",\"&\",\"free\",\"again\",\"Google\",\"into\",\"put\",\"these\",\"then\",\"Bush\",\"ever\",\"In\",\"love\",\"He\",\"him\",\"still\",\"years\",\"day\",\"Qaeda\",\"deal\",\"guys\",\"staff\",\"<\",\">\",\"its\",\"anything\",\"But\",\"year\",\"never\",\"look\",\"us\",\"Do\",\"recommend\",\"--\",\"Fallujah\",\"since\",\"anyone\",\"try\",\"where\",\"got\",\"around\",\"looking\",\"Best\",\"job\",\"PM\",\"------\",\"quality\",\"And\",\"send\",\"off\",\"because\",\"buy\",\"she\",\"always\",\"Vince\",\"able\",\"No\",\"713\",\"thanks\",\"eat\",\"!!!\",\"days\",\"took\",\"most\",\"every\",\"number\",\"London\",\"let\",\"space\",\"those\",\"discussed\",\"Thank\",\":)\",\"..\",\"system\",\"before\",\"come\",\"end\",\"site\",\"'re\",\"something\",\"President\",\"ask\",\"such\",\"through\",\"world\",\"between\",\"Islamic\",\"why\",\"school\",\"working\",\"house\",\"down\",\"phone\",\"Email\",\"PERFORMANCE\",\"01-Feb-02\",\"*\",\"**\",\"nt\",\"e-mail\",\"money\",\"John\",\"amazing\",\"someone\",\"local\",\"5\",\"opinion\",\"1\",\"%\",\"company\",\"using\",\"told\",\"By\",\"though\",\"10\",\"went\",\"email\",\"Good\",\"pay\",\"AM\",\"list\",\"getting\",\"Dow\",\"business\",\"P\",\"NASA\",\"helpful\",\"Very\",\"might\",\"makes\",\"next\",\"done\",\"war\",\"bad\",\"being\",\"seem\",\"against\",\"joined\",\"part\",\"weeks\",\"ago\",\"needs\",\"So\",\"under\",\"already\",\"message\",\"project\",\"called\",\"say\",\"E17\",\"must\",\"Iraq\",\"These\",\"tried\",\"February\",\"As\",\"used\",\"making\",\"week\",\"wanted\",\"price\",\"questions\",\"firm\",\"times\",\"shop\",\"man\",\"everything\",\"lot\",\"deals\",\"Hidden\",\"restaurant\",\"professional\",\"post\",\"away\",\"read\",\"found\",\"On\",\"join\",\"store\",\"looks\",\"pretty\",\"without\",\"city\",\"Sunni\",\"American\",\"country\",\"2\",\"fast\",\"24\",\"same\",\"support\",\"groups\",\"issue\",\"New\",\"21\",\"20\",\"Laden\",\"form\",\"thought\",\"order\",\"came\",\"Yes\",\"please\",\"dinner\",\"doing\",\"left\",\"fine\",\"old\",\"Not\",\"There\",\"David\",\"Well\",\"game\",\"below\",\"#\",\"car\",\"Are\",\"gas\",\"friends\",\"started\",\"Here\",\"Any\",\"quick\",\"happy\",\"page\",\"Nook\",\"different\",\"Chicago\",\"services\",\"search\",\"else\",\"thing\",\"course\",\"excellent\",\"One\",\"pictures\",\"....\",\"stuff\",\"forward\",\"far\",\"believe\",\"start\",\"certainly\",\"rather\",\"ca\",\"behind\",\"long\",\"D\",\"while\",\"section\",\"BBC\",\"later\",\"high\",\"possible\",\"Which\",\"enough\",\"each\",\"until\",\"terrorist\",\"set\",\"another\",\"among\",\"Muslim\",\"check\",\"War\",\"Bin\",\"probably\",\"experience\",\"team\",\"things\",\"wait\",\"girl\",\"wo\",\"month\",\"Mike\",\"Risk\",\"Call\",\"interested\",\"credit\",\"wondering\",\"issues\",\"life\",\"draft\",\"address\",\"results\",\"kind\",\"stay\",\"first\",\"Green\",\"awesome\",\"News\",\"Will\",\"Service\",\"art\",\"Winston\",\"friend\",\"pleased\",\"restaurants\",\"burger\",\"places\",\"busy\",\"computer\",\"camera\",\"customer\",\"care\",\"Highly\",\"[\",\"]\",\"actually\",\"operation\",\"information\",\"hand\",\"nuclear\",\"United\",\"power\",\"police\",\"town\",\"3\",\"term\",\"sounds\",\"market\",\"medical\",\"idea\",\"word\",\"whether\",\"involved\",\"Iraqi\",\"government\",\"question\",\"several\",\"Mississauga\",\"early\",\"small\",\"September\",\"11\",\"Clinton\",\"Of\",\"fall\",\"night\",\"weekend\",\"risk\",\"When\",\"Fax\",\"Hi\",\"suggestions\",\"copy\",\"feel\",\"20.000\",\"HPL\",\"big\",\"bar\",\"extremely\",\"Mark\",\"clean\",\"PPA\",\".?\",\"guaranty\",\"couple\",\"book\",\"name\",\"K\",\"Posted\",\"Wei\",\"often\",\"tragedy\",\"highway\",\"style\",\"prices\",\"rude\",\"employees\",\"fresh\",\"Microsoft\",\"Does\",\"own\",\"across\",\"yet\",\"Let\",\"online\",\"account\",\"worried\",\"hands\",\"However\",\"cool\",\"says\",\"three\",\"either\",\"become\",\"received\",\"enjoyed\",\"along\",\"respect\",\"Parts\",\"filed\",\"whole\",\"finished\",\"short\",\"once\",\"Most\",\"fact\",\"taken\",\"within\",\"according\",\"Bill\",\"point\",\"soon\",\"reason\",\"change\",\"added\",\"statement\",\"wife\",\"Hezbollah\",\"scheduled\",\"process\",\"light\",\"Abdul\",\"That\",\"attack\",\"forces\",\"radical\",\"seen\",\"during\",\"sound\",\"travel\",\"Monotheism\",\"Holy\",\"obviously\",\"Al\",\"Afghanistan\",\"especially\",\"After\",\"Street\",\"case\",\"6\",\"known\",\"coming\",\"wrong\",\"real\",\"worked\",\"Pakistani\",\"bet\",\"remember\",\"regarding\",\"trying\",\"daily\",\"Have\",\"enron\",\"ticket\",\"action\",\"Can\",\"morning\",\"Michael\",\"Elizabeth\",\"Sara\",\"sorry\",\"attached\",\"THE\",\"mind\",\"Web\",\"Debra\",\"Perlingiere\",\"Also\",\"extra\",\"Would\",\"'d\",\"Janette\",\"Elbertson\",\"highly\",\"December\",\"MMBTU\",\"Job\",\"offer\",\"room\",\"4\",\"wish\",\"capital\",\"longer\",\"top\",\"Indian\",\"paper\",\"16\",\"Sheridan\",\"01/24/2001\",\"gave\",\"Darrell\",\"Dr.\",\"Kam\",\"needed\",\"All\",\"data\",\"estate\",\"four\",\"Chinese\",\"home\",\"children\",\"Wonderful\",\"moon\",\"private\",\"White\",\"shuttle\",\"slow\",\"right\",\"Or\",\"lol\",\"How\",\"dog\",\"NZ\",\"vet\",\"family\",\"ice\",\"cream\",\"reasonable\",\"Excellent\",\"location\",\"recommended\",\"easy\",\"tmobile\",\"Mary\",\"heard\",\"Is\",\"To\",\"view\",\"important\",\"besides\",\"news\",\"energy\",\"Government\",\"connection\",\"wants\",\"Americans\",\"calling\",\"Friday\",\"Saddam\",\"share\",\"due\",\"level\",\"pages\",\"Paul\",\"VI\",\"SOUTER\",\"GINSBURG\",\"BREYER\",\"II\",\"agree\",\"hour\",\"however\",\"political\",\"seems\",\"UN\",\"Union\",\"keeping\",\"given\",\"giving\",\"move\",\"rate\",\"gifts\",\"mean\",\"hard\",\"charity\",\"worth\",\"knows\",\"research\",\"means\",\"Because\",\"gone\",\"having\",\"spot\",\"starting\",\"inside\",\"legitimate\",\"simple\",\"pull\",\"January\",\"opposed\",\"U.S.\",\"plot\",\"High\",\"Wycombe\",\"months\",\"Toronto\",\"everyone\",\"true\",\"key\",\"stop\",\"administration\",\"2001\",\"threat\",\"chance\",\"40\",\"plan\",\"playing\",\"white\",\"based\",\"refer\",\"king\",\"whatever\",\"thinking\",\"talking\",\"planning\",\"waiting\",\"Hello\",\"ideas\",\"details\",\"Lay\",\"additional\",\"ride\",\"class\",\"hoping\",\"play\",\"currently\",\"fixed\",\"Houston\",\"model\",\"Inc.\",\"asked\",\"comes\",\"pass\",\"advise\",\"Attached\",\"discuss\",\"+\",\"cell\",\"Wholesale\",\"@\",\"While\",\"Just\",\"understand\",\"leave\",\"regards\",\"Telephone\",\"Facsimile\",\"weather\",\"2000\",\"12\",\"web\",\"lunch\",\"Comets\",\"Tuesday\",\"matters\",\"EWS\",\"Legal\",\"Sent\",\"changes\",\"correct\",\"memo\",\"!!!!!!\",\"revised\",\"values\",\"felt\",\"Did\",\"person\",\"USA\",\"healthy\",\"plenty\",\"touch\",\"traders\",\"close\",\"favor\",\"Guaranty.doc\",\"meeting\",\"looked\",\"design\",\"problem\",\"run\",\"DPR\",\"live\",\"financial\",\"taking\",\"above\",\"visit\",\"Delhi\",\"arrested\",\"wonderful\",\"quite\",\"Systems\",\"water\",\"future\",\"Santiago\",\"China\",\"table\",\"it's\",\"Action\",\"Network\",\"website\",\"together\",\"boy\",\"Earth\",\"flight\",\"launch\",\"rockets\",\"rocket\",\"expensive\",\"Irish\",\"coffee\",\"Argentina\",\"prefer\",\"cost\",\"meal\",\"chain\",\"least\",\"websites\",\"fish\",\"bacon\",\"breakfast\",\"Air\",\"fixing\",\"charge\",\"MAD\",\"cheap\",\"San\",\"Francisco\",\"200\",\"Food\",\"nothing\",\"Kodak\",\"pause\",\"recording\",\"Fast\",\"statues\",\"fun\",\"enjoy\",\"tank\",\"!!\",\"wow\",\"Quality\",\"management\",\"She\",\"stock\",\"doubt\",\"show\",\"shows\",\"article\",\"sin\",\"States\",\"Iranian\",\"suspect\",\"proof\",\"willing\",\"Nations\",\"Many\",\"military\",\"frequently\",\"Falluja\",\"security\",\"fire\",\"troops\",\"clerics\",\"general\",\"leaders\",\"soldiers\",\"remain\",\"special\",\"treatment\",\"Shiites\",\"Court\",\"Rumsfeld\",\"divided\",\"D.C.\",\"Anthony\",\"decision\",\"actual\",\"vote\",\"KENNEDY\",\"SCALIA\",\"dissenting\",\"THOMAS\",\"ALITO\",\"B\",\"marriage\",\"update\",\"upon\",\"front\",\"Washington\",\"report\",\"quickly\",\"Secretary\",\"General\",\"Annan\",\"Darfur\",\"Two\",\"African\",\"300\",\"half\",\"situation\",\"basically\",\"Melinda\",\"Foundation\",\"value\",\"assume\",\"grow\",\"notes\",\"major\",\"shares\",\"guy\",\"happens\",\"mainly\",\"saying\",\"Syria\",\"indicated\",\"participate\",\"elections\",\"agreed\",\"media\",\"despite\",\"terrorism\",\"avoid\",\"bring\",\"organization\",\"force\",\"Arabs\",\"raises\",\"Iraqis\",\"AMS\",\"assault\",\"movement\",\"direct\",\"whom\",\"views\",\"militant\",\"Thursday\",\"Islam\",\"terrorists\",\"Dick\",\"Hussain\",\"22\",\"Ali\",\"confused\",\"Canada\",\"19\",\"Jihad\",\"Zarqawi\",\"allowed\",\"sign\",\"million\",\"modern\",\"original\",\"members\",\"met\"],\"x1\":{\"__ndarray__\":\"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\",\"dtype\":\"float32\",\"shape\":[1000]},\"x2\":{\"__ndarray__\":\"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\",\"dtype\":\"float32\",\"shape\":[1000]}}},\"id\":\"bf8ca537-24d4-464f-8806-9794b0a04519\",\"type\":\"ColumnDataSource\"},{\"attributes\":{},\"id\":\"b233da9d-11a0-4d64-9e1d-6189a86848ca\",\"type\":\"SaveTool\"},{\"attributes\":{\"callback\":null},\"id\":\"9be2737c-a622-4fbf-aceb-04164781250e\",\"type\":\"DataRange1d\"},{\"attributes\":{\"source\":{\"id\":\"bf8ca537-24d4-464f-8806-9794b0a04519\",\"type\":\"ColumnDataSource\"}},\"id\":\"c705927e-dc93-4150-ac23-c7cfcc044457\",\"type\":\"CDSView\"},{\"attributes\":{},\"id\":\"36de5e51-4aad-4d7f-bd8b-21a7ea87df11\",\"type\":\"LinearScale\"},{\"attributes\":{\"callback\":null},\"id\":\"43fcdced-3035-4358-8f0b-460f55957fd2\",\"type\":\"DataRange1d\"},{\"attributes\":{},\"id\":\"ade41c00-6c70-49da-a235-2448adf2b049\",\"type\":\"LinearScale\"},{\"attributes\":{\"formatter\":{\"id\":\"1c2299ef-557e-410b-82d4-81c319d4cad3\",\"type\":\"BasicTickFormatter\"},\"plot\":{\"id\":\"41f91d06-551a-499a-897e-9c3ebf023d69\",\"subtype\":\"Figure\",\"type\":\"Plot\"},\"ticker\":{\"id\":\"97816344-9d43-4e8d-b19f-79897dd51e16\",\"type\":\"BasicTicker\"}},\"id\":\"aa320bac-711e-487e-ac28-6199ae106ccf\",\"type\":\"LinearAxis\"},{\"attributes\":{},\"id\":\"772e24bd-1c2c-4d05-8f4c-5fbd13d8a686\",\"type\":\"BasicTicker\"},{\"attributes\":{\"formatter\":{\"id\":\"18f17e84-028e-49c5-a865-c1dd106b7ddc\",\"type\":\"BasicTickFormatter\"},\"plot\":{\"id\":\"41f91d06-551a-499a-897e-9c3ebf023d69\",\"subtype\":\"Figure\",\"type\":\"Plot\"},\"ticker\":{\"id\":\"772e24bd-1c2c-4d05-8f4c-5fbd13d8a686\",\"type\":\"BasicTicker\"}},\"id\":\"fec535c3-a1bb-4a6e-a994-9de81e88ac96\",\"type\":\"LinearAxis\"},{\"attributes\":{},\"id\":\"72f037a7-e91f-4914-9f2f-725e81971b78\",\"type\":\"PanTool\"},{\"attributes\":{\"dimension\":1,\"plot\":{\"id\":\"41f91d06-551a-499a-897e-9c3ebf023d69\",\"subtype\":\"Figure\",\"type\":\"Plot\"},\"ticker\":{\"id\":\"97816344-9d43-4e8d-b19f-79897dd51e16\",\"type\":\"BasicTicker\"}},\"id\":\"36eb1b2f-4cbc-4e8f-9915-158e04430aa7\",\"type\":\"Grid\"},{\"attributes\":{},\"id\":\"18f17e84-028e-49c5-a865-c1dd106b7ddc\",\"type\":\"BasicTickFormatter\"},{\"attributes\":{},\"id\":\"97816344-9d43-4e8d-b19f-79897dd51e16\",\"type\":\"BasicTicker\"},{\"attributes\":{},\"id\":\"1c2299ef-557e-410b-82d4-81c319d4cad3\",\"type\":\"BasicTickFormatter\"}],\"root_ids\":[\"41f91d06-551a-499a-897e-9c3ebf023d69\"]},\"title\":\"Bokeh Application\",\"version\":\"0.12.10\"}};\n",
       "    var render_items = [{\"docid\":\"4f58d4ad-4259-4c0e-bb14-b1c0f53237cd\",\"elementid\":\"404c0861-2db6-4b1d-a6b9-bb33d25f4885\",\"modelid\":\"41f91d06-551a-499a-897e-9c3ebf023d69\"}];\n",
       "\n",
       "    root.Bokeh.embed.embed_items(docs_json, render_items);\n",
       "  }\n",
       "\n",
       "  if (root.Bokeh !== undefined) {\n",
       "    embed_document(root);\n",
       "  } else {\n",
       "    var attempts = 0;\n",
       "    var timer = setInterval(function(root) {\n",
       "      if (root.Bokeh !== undefined) {\n",
       "        embed_document(root);\n",
       "        clearInterval(timer);\n",
       "      }\n",
       "      attempts++;\n",
       "      if (attempts > 100) {\n",
       "        console.log(\"Bokeh: ERROR: Unable to embed document because BokehJS library is missing\")\n",
       "        clearInterval(timer);\n",
       "      }\n",
       "    }, 10, root)\n",
       "  }\n",
       "})(window);"
      ],
      "application/vnd.bokehjs_exec.v0+json": ""
     },
     "metadata": {
      "application/vnd.bokehjs_exec.v0+json": {
       "id": "41f91d06-551a-499a-897e-9c3ebf023d69"
      }
     },
     "output_type": "display_data"
    }
   ],
   "source": [
    "most_common_words = word_counts_train.most_common(1000)\n",
    "most_common_words_vectors = []\n",
    "for word, count in most_common_words:\n",
    "    most_common_words_vectors.append(spacy_word_model[word])\n",
    "\n",
    "emb_scatter(most_common_words_vectors, [word for word, count in most_common_words], N=20)"
   ]
  },
  {
   "cell_type": "code",
   "execution_count": 55,
   "metadata": {},
   "outputs": [
    {
     "name": "stdout",
     "output_type": "stream",
     "text": [
      "finding clusters\n",
      "fitting tsne\n"
     ]
    },
    {
     "data": {
      "text/html": [
       "\n",
       "<div class=\"bk-root\">\n",
       "    <div class=\"bk-plotdiv\" id=\"edc44638-33a2-4b9d-8aee-d4ec6f1791ab\"></div>\n",
       "</div>"
      ]
     },
     "metadata": {},
     "output_type": "display_data"
    },
    {
     "data": {
      "application/javascript": [
       "(function(root) {\n",
       "  function embed_document(root) {\n",
       "    var docs_json = {\"ca6e24d7-6ea0-411c-a4a4-ec8d96f6c2a7\":{\"roots\":{\"references\":[{\"attributes\":{\"fill_color\":{\"field\":\"colors\"},\"line_color\":{\"field\":\"colors\"},\"size\":{\"units\":\"screen\",\"value\":8},\"x\":{\"field\":\"x1\"},\"y\":{\"field\":\"x2\"}},\"id\":\"669dabc2-7245-4be6-972f-ffcdc5533fa5\",\"type\":\"Circle\"},{\"attributes\":{},\"id\":\"d532a08f-08d2-4b8f-9006-77b8cc57dd11\",\"type\":\"LinearScale\"},{\"attributes\":{},\"id\":\"9310f860-0ba8-4d3c-b117-a629a7ef79ec\",\"type\":\"SaveTool\"},{\"attributes\":{},\"id\":\"cd77d1c1-39e8-4c78-aa34-4b5b41036f03\",\"type\":\"WheelZoomTool\"},{\"attributes\":{\"data_source\":{\"id\":\"724f7c7c-7952-4970-ad8d-c5f2bc4eb2fb\",\"type\":\"ColumnDataSource\"},\"glyph\":{\"id\":\"669dabc2-7245-4be6-972f-ffcdc5533fa5\",\"type\":\"Circle\"},\"hover_glyph\":null,\"muted_glyph\":null,\"nonselection_glyph\":{\"id\":\"cfa9b4d0-c37d-4bbd-8d57-fcedfe9457c7\",\"type\":\"Circle\"},\"selection_glyph\":null,\"view\":{\"id\":\"863be9db-e826-48fc-b3ce-69e88286918e\",\"type\":\"CDSView\"}},\"id\":\"ebbb4912-0e84-446b-a517-1c651d1ec02e\",\"type\":\"GlyphRenderer\"},{\"attributes\":{\"callback\":null,\"column_names\":[\"x1\",\"x2\",\"names\",\"colors\"],\"data\":{\"colors\":[\"#f7b6d2\",\"#d62728\",\"#1f77b4\",\"#2ca02c\",\"#7f7f7f\",\"#ffbb78\",\"#ff7f0e\",\"#9467bd\",\"#aec7e8\",\"#e377c2\",\"#ff9896\",\"#bcbd22\",\"#c49c94\",\"#98df8a\",\"#c5b0d5\",\"#c7c7c7\",\"#8c564b\"],\"names\":[\"PRON\",\"SCONJ\",\"PROPN\",\"VERB\",\"ADP\",\"PUNCT\",\"NOUN\",\"CCONJ\",\"ADV\",\"DET\",\"ADJ\",\"AUX\",\"PART\",\"NUM\",\"X\",\"SYM\",\"INTJ\"],\"x1\":{\"__ndarray__\":\"YCmeQy9IgUMWMyrDE1/2QoWOLkMrq7HDg19nQtEB4sLlOpLBm4mKws9E8UKIuFPDbGG8QwCRH8NBlM/Dg8X2QdyzmMM=\",\"dtype\":\"float32\",\"shape\":[17]},\"x2\":{\"__ndarray__\":\"70QQw9VtnENjncdDZFWdwrnS30IccHhDCxbjQ3rIqcPVJ19C9VcLw0jtkcPwv0s/5sasQmHpPUNl9s1BVqp7Q+WAQsM=\",\"dtype\":\"float32\",\"shape\":[17]}}},\"id\":\"724f7c7c-7952-4970-ad8d-c5f2bc4eb2fb\",\"type\":\"ColumnDataSource\"},{\"attributes\":{\"plot\":{\"id\":\"afc86c9c-ef6b-4291-b4d5-0eccc4f7c98f\",\"subtype\":\"Figure\",\"type\":\"Plot\"},\"ticker\":{\"id\":\"e04f0868-a002-43bd-b668-9b83d186de17\",\"type\":\"BasicTicker\"}},\"id\":\"4cdb978c-4aec-4954-b808-ac0520937ceb\",\"type\":\"Grid\"},{\"attributes\":{\"plot\":{\"id\":\"afc86c9c-ef6b-4291-b4d5-0eccc4f7c98f\",\"subtype\":\"Figure\",\"type\":\"Plot\"},\"source\":{\"id\":\"724f7c7c-7952-4970-ad8d-c5f2bc4eb2fb\",\"type\":\"ColumnDataSource\"},\"text\":{\"field\":\"names\"},\"text_align\":\"center\",\"text_color\":{\"value\":\"#555555\"},\"text_font_size\":{\"value\":\"8pt\"},\"x\":{\"field\":\"x1\"},\"y\":{\"field\":\"x2\"},\"y_offset\":{\"value\":6}},\"id\":\"eef4af0e-4a48-4f52-bf91-5de368d55b37\",\"type\":\"LabelSet\"},{\"attributes\":{\"below\":[{\"id\":\"bf897896-4207-4074-bdad-e6a14a22eff7\",\"type\":\"LinearAxis\"}],\"left\":[{\"id\":\"298cfd69-76bc-4f68-a2d3-a143e6b3420e\",\"type\":\"LinearAxis\"}],\"renderers\":[{\"id\":\"bf897896-4207-4074-bdad-e6a14a22eff7\",\"type\":\"LinearAxis\"},{\"id\":\"4cdb978c-4aec-4954-b808-ac0520937ceb\",\"type\":\"Grid\"},{\"id\":\"298cfd69-76bc-4f68-a2d3-a143e6b3420e\",\"type\":\"LinearAxis\"},{\"id\":\"7fb2b4d6-fc91-43e0-8a23-b8635d94a6d4\",\"type\":\"Grid\"},{\"id\":\"ebbb4912-0e84-446b-a517-1c651d1ec02e\",\"type\":\"GlyphRenderer\"},{\"id\":\"eef4af0e-4a48-4f52-bf91-5de368d55b37\",\"type\":\"LabelSet\"}],\"title\":{\"id\":\"b6a2530e-fcfa-4812-8eed-d983ac9e2af2\",\"type\":\"Title\"},\"toolbar\":{\"id\":\"726f3b83-c068-4744-929d-e25959a63d6a\",\"type\":\"Toolbar\"},\"toolbar_location\":\"above\",\"x_range\":{\"id\":\"ccb85f95-fdd5-49af-a52a-ac70983b0a09\",\"type\":\"DataRange1d\"},\"x_scale\":{\"id\":\"d532a08f-08d2-4b8f-9006-77b8cc57dd11\",\"type\":\"LinearScale\"},\"y_range\":{\"id\":\"f504e211-e67a-4aa7-b143-d728c9af5ca7\",\"type\":\"DataRange1d\"},\"y_scale\":{\"id\":\"925c0adc-f432-48a3-8449-724f7fb685fd\",\"type\":\"LinearScale\"}},\"id\":\"afc86c9c-ef6b-4291-b4d5-0eccc4f7c98f\",\"subtype\":\"Figure\",\"type\":\"Plot\"},{\"attributes\":{},\"id\":\"f9c0e5e0-4860-40cd-97ba-eb3ad2cc2c83\",\"type\":\"PanTool\"},{\"attributes\":{},\"id\":\"925c0adc-f432-48a3-8449-724f7fb685fd\",\"type\":\"LinearScale\"},{\"attributes\":{\"source\":{\"id\":\"724f7c7c-7952-4970-ad8d-c5f2bc4eb2fb\",\"type\":\"ColumnDataSource\"}},\"id\":\"863be9db-e826-48fc-b3ce-69e88286918e\",\"type\":\"CDSView\"},{\"attributes\":{\"callback\":null},\"id\":\"f504e211-e67a-4aa7-b143-d728c9af5ca7\",\"type\":\"DataRange1d\"},{\"attributes\":{\"callback\":null},\"id\":\"ccb85f95-fdd5-49af-a52a-ac70983b0a09\",\"type\":\"DataRange1d\"},{\"attributes\":{\"formatter\":{\"id\":\"d230008f-83d6-46f9-a039-1f497bf7e148\",\"type\":\"BasicTickFormatter\"},\"plot\":{\"id\":\"afc86c9c-ef6b-4291-b4d5-0eccc4f7c98f\",\"subtype\":\"Figure\",\"type\":\"Plot\"},\"ticker\":{\"id\":\"29d978e5-1d9e-461f-8b79-71f53f52feae\",\"type\":\"BasicTicker\"}},\"id\":\"298cfd69-76bc-4f68-a2d3-a143e6b3420e\",\"type\":\"LinearAxis\"},{\"attributes\":{},\"id\":\"d3256258-5aa1-4da9-886d-1c0fbfaf175d\",\"type\":\"BasicTickFormatter\"},{\"attributes\":{},\"id\":\"d230008f-83d6-46f9-a039-1f497bf7e148\",\"type\":\"BasicTickFormatter\"},{\"attributes\":{\"fill_alpha\":{\"value\":0.1},\"fill_color\":{\"value\":\"#1f77b4\"},\"line_alpha\":{\"value\":0.1},\"line_color\":{\"value\":\"#1f77b4\"},\"size\":{\"units\":\"screen\",\"value\":8},\"x\":{\"field\":\"x1\"},\"y\":{\"field\":\"x2\"}},\"id\":\"cfa9b4d0-c37d-4bbd-8d57-fcedfe9457c7\",\"type\":\"Circle\"},{\"attributes\":{},\"id\":\"94a32904-3a73-4f1e-9aa3-0ed0d91d48c8\",\"type\":\"ResetTool\"},{\"attributes\":{\"dimension\":1,\"plot\":{\"id\":\"afc86c9c-ef6b-4291-b4d5-0eccc4f7c98f\",\"subtype\":\"Figure\",\"type\":\"Plot\"},\"ticker\":{\"id\":\"29d978e5-1d9e-461f-8b79-71f53f52feae\",\"type\":\"BasicTicker\"}},\"id\":\"7fb2b4d6-fc91-43e0-8a23-b8635d94a6d4\",\"type\":\"Grid\"},{\"attributes\":{},\"id\":\"29d978e5-1d9e-461f-8b79-71f53f52feae\",\"type\":\"BasicTicker\"},{\"attributes\":{\"plot\":null,\"text\":\"T-SNE for most common words\"},\"id\":\"b6a2530e-fcfa-4812-8eed-d983ac9e2af2\",\"type\":\"Title\"},{\"attributes\":{},\"id\":\"e04f0868-a002-43bd-b668-9b83d186de17\",\"type\":\"BasicTicker\"},{\"attributes\":{\"active_drag\":\"auto\",\"active_inspect\":\"auto\",\"active_scroll\":\"auto\",\"active_tap\":\"auto\",\"tools\":[{\"id\":\"f9c0e5e0-4860-40cd-97ba-eb3ad2cc2c83\",\"type\":\"PanTool\"},{\"id\":\"cd77d1c1-39e8-4c78-aa34-4b5b41036f03\",\"type\":\"WheelZoomTool\"},{\"id\":\"94a32904-3a73-4f1e-9aa3-0ed0d91d48c8\",\"type\":\"ResetTool\"},{\"id\":\"9310f860-0ba8-4d3c-b117-a629a7ef79ec\",\"type\":\"SaveTool\"}]},\"id\":\"726f3b83-c068-4744-929d-e25959a63d6a\",\"type\":\"Toolbar\"},{\"attributes\":{\"formatter\":{\"id\":\"d3256258-5aa1-4da9-886d-1c0fbfaf175d\",\"type\":\"BasicTickFormatter\"},\"plot\":{\"id\":\"afc86c9c-ef6b-4291-b4d5-0eccc4f7c98f\",\"subtype\":\"Figure\",\"type\":\"Plot\"},\"ticker\":{\"id\":\"e04f0868-a002-43bd-b668-9b83d186de17\",\"type\":\"BasicTicker\"}},\"id\":\"bf897896-4207-4074-bdad-e6a14a22eff7\",\"type\":\"LinearAxis\"}],\"root_ids\":[\"afc86c9c-ef6b-4291-b4d5-0eccc4f7c98f\"]},\"title\":\"Bokeh Application\",\"version\":\"0.12.10\"}};\n",
       "    var render_items = [{\"docid\":\"ca6e24d7-6ea0-411c-a4a4-ec8d96f6c2a7\",\"elementid\":\"edc44638-33a2-4b9d-8aee-d4ec6f1791ab\",\"modelid\":\"afc86c9c-ef6b-4291-b4d5-0eccc4f7c98f\"}];\n",
       "\n",
       "    root.Bokeh.embed.embed_items(docs_json, render_items);\n",
       "  }\n",
       "\n",
       "  if (root.Bokeh !== undefined) {\n",
       "    embed_document(root);\n",
       "  } else {\n",
       "    var attempts = 0;\n",
       "    var timer = setInterval(function(root) {\n",
       "      if (root.Bokeh !== undefined) {\n",
       "        embed_document(root);\n",
       "        clearInterval(timer);\n",
       "      }\n",
       "      attempts++;\n",
       "      if (attempts > 100) {\n",
       "        console.log(\"Bokeh: ERROR: Unable to embed document because BokehJS library is missing\")\n",
       "        clearInterval(timer);\n",
       "      }\n",
       "    }, 10, root)\n",
       "  }\n",
       "})(window);"
      ],
      "application/vnd.bokehjs_exec.v0+json": ""
     },
     "metadata": {
      "application/vnd.bokehjs_exec.v0+json": {
       "id": "afc86c9c-ef6b-4291-b4d5-0eccc4f7c98f"
      }
     },
     "output_type": "display_data"
    }
   ],
   "source": [
    "pos_vectors = []\n",
    "for pos_tag in pos_tag_vocabulary:\n",
    "    pos_vectors.append(spacy_POS_model[pos_tag])\n",
    "emb_scatter(pos_vectors, list(pos_tag_vocabulary), N=17)"
   ]
  },
  {
   "cell_type": "markdown",
   "metadata": {},
   "source": [
    "### d. GloVe word embeddings from pre-trained word vectors(50d/100d):"
   ]
  },
  {
   "cell_type": "code",
   "execution_count": 58,
   "metadata": {
    "scrolled": false
   },
   "outputs": [
    {
     "data": {
      "text/plain": [
       "[(\"80's\", 2),\n",
       " ('Usamah', 2),\n",
       " ('212-902-3724', 2),\n",
       " ('212-428-1181', 2),\n",
       " ('hilary.ackermann@gs.com', 2),\n",
       " ('Ecogas', 3),\n",
       " ('Maffett', 2),\n",
       " ('IFERC', 3),\n",
       " ('Perlingiere', 5),\n",
       " ('Elbertson', 5),\n",
       " ('EB3326', 3),\n",
       " ('853-7906', 3),\n",
       " ('646-2600', 3),\n",
       " ('janette.elbertson@enron.com', 3),\n",
       " ('09/20/2000', 2),\n",
       " ('09/08/2000', 2),\n",
       " ('420,588', 2),\n",
       " ('!!!!!!', 4),\n",
       " ('*******************', 2),\n",
       " ('36349', 3),\n",
       " ('Haedicke', 2),\n",
       " ('02/28/2001', 2),\n",
       " ('blacklined', 3),\n",
       " ('EPMI', 2),\n",
       " ('.?', 6),\n",
       " ('GPSA', 3),\n",
       " ('Guaranty.doc', 4),\n",
       " ('CDWR', 2),\n",
       " ('Titman', 3),\n",
       " ('titman@mail.utexas.edu', 2),\n",
       " ('01/24/2001', 5),\n",
       " ('duffie@Stanford.EDU', 2),\n",
       " ('Arfsten', 2),\n",
       " (\"id's\", 2),\n",
       " ('01-Feb-02', 11),\n",
       " ('6,363,217', 2),\n",
       " ('1,993,045', 2),\n",
       " ('alt.animals', 2),\n",
       " ('alt.animals.cat', 3),\n",
       " ('..', 12),\n",
       " ('^^', 2),\n",
       " ('www.southbhamcats.org.uk', 2),\n",
       " ('n3td3v', 2),\n",
       " ('=-----', 2),\n",
       " ('732-657-3416', 3),\n",
       " (\"it's\", 4),\n",
       " ('Yahoo!', 2),\n",
       " ('(:', 2),\n",
       " ('hlep', 2),\n",
       " ('t2i', 2),\n",
       " ('ZebraKlub', 2),\n",
       " ('clownloach', 2),\n",
       " ('.!', 2),\n",
       " ('tmobile', 5)]"
      ]
     },
     "execution_count": 58,
     "metadata": {},
     "output_type": "execute_result"
    }
   ],
   "source": [
    "# you need to download the file(s) from https://github.com/stanfordnlp/GloVe\n",
    "file = open(\"GloveEmbeddings/glove.6B.50d.txt\")\n",
    "pre_trained_tokens = []\n",
    "for line in file:\n",
    "    pre_trained_tokens.append(line.split()[0])\n",
    "\n",
    "# ..but, aprox 800 out of 8800 are not found in the \n",
    "unknown_words = []\n",
    "for word in w2i.keys():\n",
    "    if w2i[word] != 0 and word.lower() not in pre_trained_tokens:\n",
    "        unknown_words.append((word,word_counts_train[word]))\n",
    "unknown_words"
   ]
  },
  {
   "cell_type": "markdown",
   "metadata": {},
   "source": [
    "### e. GloVe word embeddings trained from our corpus:"
   ]
  },
  {
   "cell_type": "code",
   "execution_count": 68,
   "metadata": {},
   "outputs": [
    {
     "name": "stdout",
     "output_type": "stream",
     "text": [
      "finding clusters\n",
      "fitting tsne\n"
     ]
    },
    {
     "data": {
      "text/html": [
       "\n",
       "<div class=\"bk-root\">\n",
       "    <div class=\"bk-plotdiv\" id=\"d680381a-c130-4d58-8942-ecf8f39dc363\"></div>\n",
       "</div>"
      ]
     },
     "metadata": {},
     "output_type": "display_data"
    },
    {
     "data": {
      "application/javascript": [
       "(function(root) {\n",
       "  function embed_document(root) {\n",
       "    var docs_json = {\"37c50d4f-ef0f-471f-9104-46d5a04a2d42\":{\"roots\":{\"references\":[{\"attributes\":{\"source\":{\"id\":\"a29775bd-4311-48b6-a58e-a46a5501a8c8\",\"type\":\"ColumnDataSource\"}},\"id\":\"1447ad67-cf97-4379-b6e1-0deb32c1f0f8\",\"type\":\"CDSView\"},{\"attributes\":{},\"id\":\"3e4e8d79-2a34-4e47-abe8-1f5765fcafa4\",\"type\":\"PanTool\"},{\"attributes\":{\"plot\":null,\"text\":\"T-SNE for most common words\"},\"id\":\"eed1d42e-34cc-4122-bc90-ba6bf2f63fc8\",\"type\":\"Title\"},{\"attributes\":{\"active_drag\":\"auto\",\"active_inspect\":\"auto\",\"active_scroll\":\"auto\",\"active_tap\":\"auto\",\"tools\":[{\"id\":\"3e4e8d79-2a34-4e47-abe8-1f5765fcafa4\",\"type\":\"PanTool\"},{\"id\":\"581402b9-34eb-41ab-a314-049ce8b0186e\",\"type\":\"WheelZoomTool\"},{\"id\":\"825bd3f9-5547-4299-b324-d3d7b151d2da\",\"type\":\"ResetTool\"},{\"id\":\"8b36973c-09f7-49c7-a630-63a3462b9dac\",\"type\":\"SaveTool\"}]},\"id\":\"dc9229e8-8a44-4a1c-b800-125f5b4fd532\",\"type\":\"Toolbar\"},{\"attributes\":{},\"id\":\"581402b9-34eb-41ab-a314-049ce8b0186e\",\"type\":\"WheelZoomTool\"},{\"attributes\":{},\"id\":\"825bd3f9-5547-4299-b324-d3d7b151d2da\",\"type\":\"ResetTool\"},{\"attributes\":{\"data_source\":{\"id\":\"a29775bd-4311-48b6-a58e-a46a5501a8c8\",\"type\":\"ColumnDataSource\"},\"glyph\":{\"id\":\"9a7fe7b8-5f5b-4cdc-bfe7-11c28e48c732\",\"type\":\"Circle\"},\"hover_glyph\":null,\"muted_glyph\":null,\"nonselection_glyph\":{\"id\":\"3dea23e2-458d-4e66-84e2-007f90d9fd58\",\"type\":\"Circle\"},\"selection_glyph\":null,\"view\":{\"id\":\"1447ad67-cf97-4379-b6e1-0deb32c1f0f8\",\"type\":\"CDSView\"}},\"id\":\"4f17af2a-d9a5-4149-8a8d-6c63093d0dbd\",\"type\":\"GlyphRenderer\"},{\"attributes\":{},\"id\":\"8b36973c-09f7-49c7-a630-63a3462b9dac\",\"type\":\"SaveTool\"},{\"attributes\":{\"below\":[{\"id\":\"46e4136e-378e-4e00-9782-67db33eee9f3\",\"type\":\"LinearAxis\"}],\"left\":[{\"id\":\"766886ac-9b1b-4b02-99a0-04f3d2567eb4\",\"type\":\"LinearAxis\"}],\"renderers\":[{\"id\":\"46e4136e-378e-4e00-9782-67db33eee9f3\",\"type\":\"LinearAxis\"},{\"id\":\"e0f3bff0-8bd1-46e9-afe3-90741f5267e3\",\"type\":\"Grid\"},{\"id\":\"766886ac-9b1b-4b02-99a0-04f3d2567eb4\",\"type\":\"LinearAxis\"},{\"id\":\"49540915-eaff-4cd4-9230-49af0666b57d\",\"type\":\"Grid\"},{\"id\":\"4f17af2a-d9a5-4149-8a8d-6c63093d0dbd\",\"type\":\"GlyphRenderer\"},{\"id\":\"09fe6d34-6288-4339-8a7d-312f0393eaab\",\"type\":\"LabelSet\"}],\"title\":{\"id\":\"eed1d42e-34cc-4122-bc90-ba6bf2f63fc8\",\"type\":\"Title\"},\"toolbar\":{\"id\":\"dc9229e8-8a44-4a1c-b800-125f5b4fd532\",\"type\":\"Toolbar\"},\"toolbar_location\":\"above\",\"x_range\":{\"id\":\"39fd8b1c-2a38-4304-a87e-cde6dfbb5cbc\",\"type\":\"DataRange1d\"},\"x_scale\":{\"id\":\"60260aba-e6b5-4471-b76b-aec5963ecd4f\",\"type\":\"LinearScale\"},\"y_range\":{\"id\":\"22388785-7d59-4d62-a12d-3163ad13aecf\",\"type\":\"DataRange1d\"},\"y_scale\":{\"id\":\"3d35576a-d971-4a01-873a-9045fd352966\",\"type\":\"LinearScale\"}},\"id\":\"abf759f2-9341-4a29-91ea-f5a2d7919155\",\"subtype\":\"Figure\",\"type\":\"Plot\"},{\"attributes\":{\"callback\":null},\"id\":\"22388785-7d59-4d62-a12d-3163ad13aecf\",\"type\":\"DataRange1d\"},{\"attributes\":{\"fill_color\":{\"field\":\"colors\"},\"line_color\":{\"field\":\"colors\"},\"size\":{\"units\":\"screen\",\"value\":8},\"x\":{\"field\":\"x1\"},\"y\":{\"field\":\"x2\"}},\"id\":\"9a7fe7b8-5f5b-4cdc-bfe7-11c28e48c732\",\"type\":\"Circle\"},{\"attributes\":{\"callback\":null},\"id\":\"39fd8b1c-2a38-4304-a87e-cde6dfbb5cbc\",\"type\":\"DataRange1d\"},{\"attributes\":{},\"id\":\"40bc89cd-1902-47e3-9faa-bdd71a3f4299\",\"type\":\"BasicTickFormatter\"},{\"attributes\":{},\"id\":\"60260aba-e6b5-4471-b76b-aec5963ecd4f\",\"type\":\"LinearScale\"},{\"attributes\":{},\"id\":\"ec3e3819-17be-48c9-a89b-b0df890e36d2\",\"type\":\"BasicTickFormatter\"},{\"attributes\":{},\"id\":\"3d35576a-d971-4a01-873a-9045fd352966\",\"type\":\"LinearScale\"},{\"attributes\":{\"plot\":{\"id\":\"abf759f2-9341-4a29-91ea-f5a2d7919155\",\"subtype\":\"Figure\",\"type\":\"Plot\"},\"ticker\":{\"id\":\"96a588fc-1d46-4618-979e-debe9fb4a230\",\"type\":\"BasicTicker\"}},\"id\":\"e0f3bff0-8bd1-46e9-afe3-90741f5267e3\",\"type\":\"Grid\"},{\"attributes\":{\"plot\":{\"id\":\"abf759f2-9341-4a29-91ea-f5a2d7919155\",\"subtype\":\"Figure\",\"type\":\"Plot\"},\"source\":{\"id\":\"a29775bd-4311-48b6-a58e-a46a5501a8c8\",\"type\":\"ColumnDataSource\"},\"text\":{\"field\":\"names\"},\"text_align\":\"center\",\"text_color\":{\"value\":\"#555555\"},\"text_font_size\":{\"value\":\"8pt\"},\"x\":{\"field\":\"x1\"},\"y\":{\"field\":\"x2\"},\"y_offset\":{\"value\":6}},\"id\":\"09fe6d34-6288-4339-8a7d-312f0393eaab\",\"type\":\"LabelSet\"},{\"attributes\":{\"formatter\":{\"id\":\"ec3e3819-17be-48c9-a89b-b0df890e36d2\",\"type\":\"BasicTickFormatter\"},\"plot\":{\"id\":\"abf759f2-9341-4a29-91ea-f5a2d7919155\",\"subtype\":\"Figure\",\"type\":\"Plot\"},\"ticker\":{\"id\":\"96a588fc-1d46-4618-979e-debe9fb4a230\",\"type\":\"BasicTicker\"}},\"id\":\"46e4136e-378e-4e00-9782-67db33eee9f3\",\"type\":\"LinearAxis\"},{\"attributes\":{},\"id\":\"96a588fc-1d46-4618-979e-debe9fb4a230\",\"type\":\"BasicTicker\"},{\"attributes\":{\"callback\":null,\"column_names\":[\"x1\",\"x2\",\"names\",\"colors\"],\"data\":{\"colors\":[\"#e377c2\",\"#ff7f0e\",\"#c7c7c7\",\"#c5b0d5\",\"#ff7f0e\",\"#ff7f0e\",\"#bcbd22\",\"#ff7f0e\",\"#ff7f0e\",\"#c5b0d5\",\"#9edae5\",\"#98df8a\",\"#ff9896\",\"#7f7f7f\",\"#ff9896\",\"#bcbd22\",\"#9edae5\",\"#98df8a\",\"#98df8a\",\"#9edae5\",\"#c5b0d5\",\"#ff9896\",\"#9edae5\",\"#9edae5\",\"#9edae5\",\"#9edae5\",\"#9edae5\",\"#98df8a\",\"#bcbd22\",\"#f7b6d2\",\"#f7b6d2\",\"#98df8a\",\"#bcbd22\",\"#bcbd22\",\"#f7b6d2\",\"#bcbd22\",\"#bcbd22\",\"#bcbd22\",\"#98df8a\",\"#98df8a\",\"#9edae5\",\"#98df8a\",\"#ff9896\",\"#ff9896\",\"#8c564b\",\"#ff9896\",\"#98df8a\",\"#ff9896\",\"#98df8a\",\"#ff9896\",\"#bcbd22\",\"#98df8a\",\"#bcbd22\",\"#98df8a\",\"#bcbd22\",\"#98df8a\",\"#ff9896\",\"#bcbd22\",\"#ff9896\",\"#ff9896\",\"#9edae5\",\"#98df8a\",\"#9edae5\",\"#98df8a\",\"#98df8a\",\"#98df8a\",\"#8c564b\",\"#98df8a\",\"#9edae5\",\"#ff9896\",\"#8c564b\",\"#9edae5\",\"#8c564b\",\"#bcbd22\",\"#9467bd\",\"#98df8a\",\"#9467bd\",\"#98df8a\",\"#bcbd22\",\"#bcbd22\",\"#bcbd22\",\"#9467bd\",\"#8c564b\",\"#98df8a\",\"#aec7e8\",\"#9467bd\",\"#9edae5\",\"#dbdb8d\",\"#9467bd\",\"#9edae5\",\"#98df8a\",\"#ffbb78\",\"#98df8a\",\"#7f7f7f\",\"#bcbd22\",\"#9467bd\",\"#9467bd\",\"#9467bd\",\"#ffbb78\",\"#9467bd\",\"#9467bd\",\"#ffbb78\",\"#8c564b\",\"#aec7e8\",\"#bcbd22\",\"#9edae5\",\"#8c564b\",\"#9467bd\",\"#ffbb78\",\"#1f77b4\",\"#9467bd\",\"#dbdb8d\",\"#1f77b4\",\"#9467bd\",\"#98df8a\",\"#9467bd\",\"#8c564b\",\"#1f77b4\",\"#7f7f7f\",\"#1f77b4\",\"#8c564b\",\"#9467bd\",\"#1f77b4\",\"#ffbb78\",\"#ffbb78\",\"#ffbb78\",\"#ffbb78\",\"#8c564b\",\"#c49c94\",\"#98df8a\",\"#9467bd\",\"#9467bd\",\"#ffbb78\",\"#1f77b4\",\"#1f77b4\",\"#1f77b4\",\"#1f77b4\",\"#8c564b\",\"#ffbb78\",\"#dbdb8d\",\"#9467bd\",\"#9467bd\",\"#1f77b4\",\"#8c564b\",\"#ffbb78\",\"#1f77b4\",\"#8c564b\",\"#aec7e8\",\"#ffbb78\",\"#9467bd\",\"#9467bd\",\"#1f77b4\",\"#dbdb8d\",\"#ffbb78\",\"#1f77b4\",\"#dbdb8d\",\"#8c564b\",\"#2ca02c\",\"#9467bd\",\"#ffbb78\",\"#ffbb78\",\"#ffbb78\",\"#9467bd\",\"#aec7e8\",\"#1f77b4\",\"#1f77b4\",\"#dbdb8d\",\"#ffbb78\",\"#9467bd\",\"#ffbb78\",\"#9467bd\",\"#dbdb8d\",\"#1f77b4\",\"#dbdb8d\",\"#9467bd\",\"#9467bd\",\"#8c564b\",\"#9467bd\",\"#ffbb78\",\"#9467bd\",\"#7f7f7f\",\"#9467bd\",\"#dbdb8d\",\"#ffbb78\",\"#aec7e8\",\"#aec7e8\",\"#ffbb78\",\"#1f77b4\",\"#9467bd\",\"#ffbb78\",\"#1f77b4\",\"#9467bd\",\"#8c564b\",\"#1f77b4\",\"#1f77b4\",\"#d62728\",\"#98df8a\",\"#9467bd\",\"#1f77b4\",\"#8c564b\",\"#1f77b4\",\"#1f77b4\",\"#ffbb78\",\"#9467bd\",\"#dbdb8d\",\"#9467bd\",\"#aec7e8\",\"#dbdb8d\",\"#9467bd\",\"#dbdb8d\",\"#8c564b\",\"#ffbb78\",\"#c49c94\",\"#c49c94\",\"#dbdb8d\",\"#dbdb8d\",\"#aec7e8\",\"#8c564b\",\"#9467bd\",\"#f7b6d2\",\"#dbdb8d\",\"#8c564b\",\"#2ca02c\",\"#ffbb78\",\"#dbdb8d\",\"#ffbb78\",\"#ffbb78\",\"#ffbb78\",\"#9467bd\",\"#1f77b4\",\"#d62728\",\"#ffbb78\",\"#9467bd\",\"#1f77b4\",\"#d62728\",\"#dbdb8d\",\"#ffbb78\",\"#dbdb8d\",\"#c49c94\",\"#98df8a\",\"#ffbb78\",\"#1f77b4\",\"#c49c94\",\"#aec7e8\",\"#c49c94\",\"#ffbb78\",\"#c49c94\",\"#ffbb78\",\"#ffbb78\",\"#d62728\",\"#1f77b4\",\"#ffbb78\",\"#c49c94\",\"#d62728\",\"#d62728\",\"#aec7e8\",\"#aec7e8\",\"#aec7e8\",\"#aec7e8\",\"#aec7e8\",\"#aec7e8\",\"#1f77b4\",\"#aec7e8\",\"#ffbb78\",\"#aec7e8\",\"#dbdb8d\",\"#c49c94\",\"#d62728\",\"#aec7e8\",\"#dbdb8d\",\"#aec7e8\",\"#d62728\",\"#ffbb78\",\"#ffbb78\",\"#2ca02c\",\"#d62728\",\"#1f77b4\",\"#d62728\",\"#c49c94\",\"#ffbb78\",\"#d62728\",\"#c49c94\",\"#aec7e8\",\"#ffbb78\",\"#c49c94\",\"#ffbb78\",\"#ffbb78\",\"#aec7e8\",\"#dbdb8d\",\"#dbdb8d\",\"#dbdb8d\",\"#1f77b4\",\"#ffbb78\",\"#ffbb78\",\"#d62728\",\"#ffbb78\",\"#d62728\",\"#d62728\",\"#1f77b4\",\"#d62728\",\"#dbdb8d\",\"#ffbb78\",\"#d62728\",\"#d62728\",\"#c49c94\",\"#c49c94\",\"#d62728\",\"#d62728\",\"#c49c94\",\"#ffbb78\",\"#dbdb8d\",\"#c49c94\",\"#9467bd\",\"#1f77b4\",\"#ffbb78\",\"#2ca02c\",\"#c49c94\",\"#ffbb78\",\"#1f77b4\",\"#c49c94\",\"#ffbb78\",\"#dbdb8d\",\"#8c564b\",\"#dbdb8d\",\"#2ca02c\",\"#ffbb78\",\"#d62728\",\"#ffbb78\",\"#ffbb78\",\"#dbdb8d\",\"#ffbb78\",\"#ffbb78\",\"#c49c94\",\"#ffbb78\",\"#dbdb8d\",\"#d62728\",\"#d62728\",\"#c49c94\",\"#9467bd\",\"#ffbb78\",\"#c49c94\",\"#2ca02c\",\"#1f77b4\",\"#2ca02c\",\"#d62728\",\"#ffbb78\",\"#d62728\",\"#aec7e8\",\"#ffbb78\",\"#d62728\",\"#dbdb8d\",\"#dbdb8d\",\"#ffbb78\",\"#ffbb78\",\"#d62728\",\"#d62728\",\"#17becf\",\"#dbdb8d\",\"#dbdb8d\",\"#17becf\",\"#ffbb78\",\"#1f77b4\",\"#2ca02c\",\"#2ca02c\",\"#dbdb8d\",\"#dbdb8d\",\"#c49c94\",\"#dbdb8d\",\"#c49c94\",\"#dbdb8d\",\"#d62728\",\"#2ca02c\",\"#dbdb8d\",\"#ffbb78\",\"#dbdb8d\",\"#d62728\",\"#dbdb8d\",\"#aec7e8\",\"#d62728\",\"#1f77b4\",\"#d62728\",\"#ffbb78\",\"#c49c94\",\"#ffbb78\",\"#2ca02c\",\"#dbdb8d\",\"#c49c94\",\"#c49c94\",\"#c49c94\",\"#d62728\",\"#9467bd\",\"#2ca02c\",\"#d62728\",\"#2ca02c\",\"#d62728\",\"#d62728\",\"#dbdb8d\",\"#ffbb78\",\"#d62728\",\"#d62728\",\"#d62728\",\"#c49c94\",\"#dbdb8d\",\"#c49c94\",\"#c49c94\",\"#1f77b4\",\"#d62728\",\"#1f77b4\",\"#ffbb78\",\"#d62728\",\"#aec7e8\",\"#c49c94\",\"#dbdb8d\",\"#d62728\",\"#2ca02c\",\"#ffbb78\",\"#d62728\",\"#2ca02c\",\"#c49c94\",\"#d62728\",\"#2ca02c\",\"#d62728\",\"#c49c94\",\"#d62728\",\"#d62728\",\"#d62728\",\"#c49c94\",\"#aec7e8\",\"#17becf\",\"#2ca02c\",\"#d62728\",\"#d62728\",\"#c49c94\",\"#c49c94\",\"#2ca02c\",\"#1f77b4\",\"#d62728\",\"#dbdb8d\",\"#aec7e8\",\"#2ca02c\",\"#1f77b4\",\"#2ca02c\",\"#1f77b4\",\"#c49c94\",\"#d62728\",\"#ffbb78\",\"#aec7e8\",\"#ffbb78\",\"#ffbb78\",\"#c49c94\",\"#2ca02c\",\"#17becf\",\"#d62728\",\"#aec7e8\",\"#2ca02c\",\"#aec7e8\",\"#d62728\",\"#aec7e8\",\"#d62728\",\"#c49c94\",\"#d62728\",\"#d62728\",\"#c49c94\",\"#dbdb8d\",\"#ffbb78\",\"#ffbb78\",\"#2ca02c\",\"#d62728\",\"#2ca02c\",\"#aec7e8\",\"#aec7e8\",\"#2ca02c\",\"#17becf\",\"#2ca02c\",\"#d62728\",\"#17becf\",\"#d62728\",\"#d62728\",\"#17becf\",\"#ffbb78\",\"#17becf\",\"#aec7e8\",\"#2ca02c\",\"#d62728\",\"#d62728\",\"#2ca02c\",\"#d62728\",\"#ffbb78\",\"#d62728\",\"#d62728\",\"#d62728\",\"#d62728\",\"#17becf\",\"#dbdb8d\",\"#ffbb78\",\"#d62728\",\"#d62728\",\"#d62728\",\"#2ca02c\",\"#aec7e8\",\"#ffbb78\",\"#2ca02c\",\"#c49c94\",\"#d62728\",\"#2ca02c\",\"#aec7e8\",\"#2ca02c\",\"#c49c94\",\"#ffbb78\",\"#2ca02c\",\"#17becf\",\"#17becf\",\"#d62728\",\"#d62728\",\"#17becf\",\"#17becf\",\"#dbdb8d\",\"#d62728\",\"#2ca02c\",\"#d62728\",\"#ffbb78\",\"#d62728\",\"#c49c94\",\"#aec7e8\",\"#17becf\",\"#dbdb8d\",\"#dbdb8d\",\"#ffbb78\",\"#d62728\",\"#17becf\",\"#2ca02c\",\"#2ca02c\",\"#dbdb8d\",\"#dbdb8d\",\"#d62728\",\"#2ca02c\",\"#2ca02c\",\"#d62728\",\"#2ca02c\",\"#c49c94\",\"#d62728\",\"#2ca02c\",\"#c49c94\",\"#d62728\",\"#dbdb8d\",\"#2ca02c\",\"#dbdb8d\",\"#d62728\",\"#d62728\",\"#c49c94\",\"#2ca02c\",\"#c49c94\",\"#c49c94\",\"#c49c94\",\"#c49c94\",\"#d62728\",\"#d62728\",\"#2ca02c\",\"#d62728\",\"#d62728\",\"#dbdb8d\",\"#ffbb78\",\"#c49c94\",\"#d62728\",\"#c49c94\",\"#dbdb8d\",\"#2ca02c\",\"#2ca02c\",\"#d62728\",\"#ffbb78\",\"#c49c94\",\"#dbdb8d\",\"#d62728\",\"#d62728\",\"#d62728\",\"#d62728\",\"#d62728\",\"#aec7e8\",\"#2ca02c\",\"#ffbb78\",\"#ffbb78\",\"#d62728\",\"#c49c94\",\"#d62728\",\"#2ca02c\",\"#d62728\",\"#2ca02c\",\"#17becf\",\"#17becf\",\"#2ca02c\",\"#d62728\",\"#2ca02c\",\"#2ca02c\",\"#aec7e8\",\"#ffbb78\",\"#17becf\",\"#2ca02c\",\"#2ca02c\",\"#d62728\",\"#d62728\",\"#c49c94\",\"#d62728\",\"#2ca02c\",\"#c49c94\",\"#d62728\",\"#c49c94\",\"#17becf\",\"#2ca02c\",\"#d62728\",\"#2ca02c\",\"#2ca02c\",\"#2ca02c\",\"#2ca02c\",\"#d62728\",\"#17becf\",\"#dbdb8d\",\"#2ca02c\",\"#d62728\",\"#d62728\",\"#2ca02c\",\"#aec7e8\",\"#17becf\",\"#17becf\",\"#2ca02c\",\"#d62728\",\"#2ca02c\",\"#c49c94\",\"#17becf\",\"#17becf\",\"#1f77b4\",\"#ffbb78\",\"#2ca02c\",\"#aec7e8\",\"#d62728\",\"#d62728\",\"#17becf\",\"#c49c94\",\"#d62728\",\"#2ca02c\",\"#d62728\",\"#d62728\",\"#d62728\",\"#d62728\",\"#17becf\",\"#aec7e8\",\"#2ca02c\",\"#17becf\",\"#2ca02c\",\"#2ca02c\",\"#c49c94\",\"#2ca02c\",\"#d62728\",\"#d62728\",\"#2ca02c\",\"#17becf\",\"#2ca02c\",\"#17becf\",\"#17becf\",\"#ffbb78\",\"#d62728\",\"#d62728\",\"#aec7e8\",\"#2ca02c\",\"#17becf\",\"#2ca02c\",\"#17becf\",\"#2ca02c\",\"#d62728\",\"#d62728\",\"#c49c94\",\"#d62728\",\"#17becf\",\"#17becf\",\"#2ca02c\",\"#17becf\",\"#2ca02c\",\"#2ca02c\",\"#c49c94\",\"#2ca02c\",\"#aec7e8\",\"#2ca02c\",\"#2ca02c\",\"#d62728\",\"#2ca02c\",\"#d62728\",\"#17becf\",\"#d62728\",\"#17becf\",\"#17becf\",\"#d62728\",\"#2ca02c\",\"#d62728\",\"#2ca02c\",\"#d62728\",\"#d62728\",\"#d62728\",\"#c49c94\",\"#d62728\",\"#17becf\",\"#17becf\",\"#aec7e8\",\"#dbdb8d\",\"#dbdb8d\",\"#2ca02c\",\"#d62728\",\"#c49c94\",\"#17becf\",\"#dbdb8d\",\"#d62728\",\"#2ca02c\",\"#17becf\",\"#17becf\",\"#d62728\",\"#2ca02c\",\"#17becf\",\"#c49c94\",\"#d62728\",\"#2ca02c\",\"#2ca02c\",\"#2ca02c\",\"#17becf\",\"#d62728\",\"#2ca02c\",\"#d62728\",\"#d62728\",\"#17becf\",\"#17becf\",\"#2ca02c\",\"#17becf\",\"#2ca02c\",\"#17becf\",\"#d62728\",\"#2ca02c\",\"#c49c94\",\"#d62728\",\"#c49c94\",\"#aec7e8\",\"#17becf\",\"#dbdb8d\",\"#dbdb8d\",\"#17becf\",\"#dbdb8d\",\"#d62728\",\"#2ca02c\",\"#c49c94\",\"#c49c94\",\"#17becf\",\"#d62728\",\"#d62728\",\"#c49c94\",\"#17becf\",\"#2ca02c\",\"#d62728\",\"#17becf\",\"#d62728\",\"#c49c94\",\"#d62728\",\"#2ca02c\",\"#2ca02c\",\"#2ca02c\",\"#2ca02c\",\"#17becf\",\"#17becf\",\"#17becf\",\"#d62728\",\"#17becf\",\"#17becf\",\"#d62728\",\"#17becf\",\"#c49c94\",\"#2ca02c\",\"#2ca02c\",\"#17becf\",\"#2ca02c\",\"#d62728\",\"#dbdb8d\",\"#c49c94\",\"#17becf\",\"#c49c94\",\"#2ca02c\",\"#dbdb8d\",\"#c49c94\",\"#17becf\",\"#17becf\",\"#aec7e8\",\"#17becf\",\"#17becf\",\"#2ca02c\",\"#c49c94\",\"#2ca02c\",\"#dbdb8d\",\"#aec7e8\",\"#aec7e8\",\"#17becf\",\"#17becf\",\"#17becf\",\"#d62728\",\"#c49c94\",\"#d62728\",\"#2ca02c\",\"#17becf\",\"#17becf\",\"#17becf\",\"#aec7e8\",\"#17becf\",\"#d62728\",\"#d62728\",\"#17becf\",\"#d62728\",\"#d62728\",\"#2ca02c\",\"#2ca02c\",\"#17becf\",\"#d62728\",\"#d62728\",\"#d62728\",\"#d62728\",\"#d62728\",\"#c49c94\",\"#d62728\",\"#17becf\",\"#17becf\",\"#2ca02c\",\"#d62728\",\"#2ca02c\",\"#2ca02c\",\"#17becf\",\"#d62728\",\"#d62728\",\"#2ca02c\",\"#d62728\",\"#2ca02c\",\"#17becf\",\"#2ca02c\",\"#17becf\",\"#2ca02c\",\"#aec7e8\",\"#d62728\",\"#d62728\",\"#d62728\",\"#2ca02c\",\"#d62728\",\"#aec7e8\",\"#17becf\",\"#17becf\",\"#d62728\",\"#2ca02c\",\"#d62728\",\"#d62728\",\"#d62728\",\"#2ca02c\",\"#17becf\",\"#17becf\",\"#17becf\",\"#17becf\",\"#17becf\",\"#d62728\",\"#2ca02c\",\"#c49c94\",\"#d62728\",\"#17becf\",\"#d62728\",\"#17becf\",\"#17becf\",\"#17becf\",\"#2ca02c\",\"#17becf\",\"#d62728\",\"#17becf\",\"#aec7e8\",\"#d62728\",\"#17becf\",\"#17becf\",\"#2ca02c\",\"#dbdb8d\",\"#2ca02c\",\"#17becf\",\"#2ca02c\",\"#2ca02c\",\"#d62728\",\"#d62728\",\"#2ca02c\",\"#2ca02c\",\"#2ca02c\",\"#17becf\",\"#17becf\",\"#2ca02c\",\"#d62728\",\"#17becf\",\"#2ca02c\",\"#2ca02c\",\"#2ca02c\",\"#2ca02c\",\"#d62728\",\"#17becf\",\"#17becf\",\"#17becf\",\"#17becf\",\"#2ca02c\",\"#17becf\",\"#17becf\",\"#2ca02c\",\"#17becf\",\"#17becf\",\"#17becf\",\"#d62728\",\"#17becf\",\"#17becf\",\"#17becf\",\"#17becf\",\"#d62728\",\"#2ca02c\",\"#2ca02c\",\"#17becf\",\"#17becf\",\"#d62728\",\"#d62728\",\"#17becf\",\"#17becf\",\"#17becf\",\"#17becf\",\"#2ca02c\",\"#17becf\",\"#2ca02c\",\"#2ca02c\",\"#d62728\",\"#d62728\",\"#d62728\",\"#17becf\",\"#17becf\",\"#17becf\",\"#17becf\",\"#2ca02c\",\"#d62728\",\"#17becf\",\"#2ca02c\",\"#17becf\",\"#17becf\",\"#17becf\",\"#17becf\",\"#d62728\",\"#17becf\",\"#17becf\",\"#17becf\",\"#d62728\",\"#17becf\",\"#17becf\",\"#2ca02c\",\"#d62728\",\"#17becf\",\"#2ca02c\",\"#17becf\",\"#17becf\",\"#2ca02c\",\"#17becf\",\"#17becf\",\"#2ca02c\",\"#17becf\",\"#2ca02c\",\"#d62728\",\"#2ca02c\",\"#c49c94\",\"#d62728\",\"#2ca02c\",\"#d62728\",\"#17becf\",\"#17becf\",\"#2ca02c\",\"#17becf\",\"#17becf\",\"#17becf\",\"#17becf\",\"#17becf\",\"#2ca02c\",\"#17becf\",\"#d62728\",\"#17becf\",\"#17becf\",\"#d62728\",\"#d62728\",\"#17becf\",\"#17becf\",\"#d62728\",\"#17becf\",\"#17becf\",\"#dbdb8d\",\"#dbdb8d\",\"#dbdb8d\",\"#17becf\",\"#d62728\",\"#dbdb8d\",\"#17becf\",\"#2ca02c\",\"#c49c94\",\"#d62728\",\"#17becf\",\"#17becf\",\"#d62728\",\"#17becf\",\"#2ca02c\"],\"names\":[\".\",\"the\",\",\",\"to\",\"and\",\"a\",\"I\",\"of\",\"in\",\"you\",\"is\",\"for\",\"that\",\"-\",\"it\",\"have\",\"?\",\"with\",\"on\",\"\\\"\",\"be\",\"are\",\"was\",\"'s\",\"this\",\"The\",\"!\",\"at\",\"not\",\"(\",\")\",\"my\",\"n't\",\"will\",\":\",\"i\",\"do\",\"would\",\"from\",\"as\",\"good\",\"or\",\"we\",\"there\",\"me\",\"but\",\"by\",\"they\",\"an\",\"if\",\"like\",\"your\",\"had\",\"has\",\"can\",\"up\",\"so\",\"just\",\"know\",\"he\",\"service\",\"all\",\"great\",\"out\",\"best\",\"one\",\"them\",\"our\",\"very\",\"what\",\"get\",\"place\",\"go\",\"could\",\"...\",\"time\",\"We\",\"some\",\"'m\",\"want\",\"been\",\"any\",\"need\",\"his\",\"/\",\"no\",\"It\",\"were\",\"Thanks\",\"food\",\"people\",\"about\",\"which\",\"$\",\"should\",\"now\",\"s\",\"who\",\"more\",\"They\",\"here\",\"new\",\"see\",\";\",\"think\",\"This\",\"use\",\"their\",\"'\",\"Please\",\"when\",\"too\",\"really\",\"work\",\"only\",\"much\",\"going\",\"how\",\"al\",\"did\",\"back\",\"What\",\"'ve\",\"two\",\"over\",\"other\",\"than\",\"take\",\"her\",\"way\",\"little\",\"well\",\"few\",\"You\",\"does\",\"If\",\"may\",\"help\",\"better\",\"Great\",\"nice\",\"said\",\"even\",\"make\",\"last\",\"am\",\"find\",\"Enron\",\"US\",\"also\",\"friendly\",\"'ll\",\"A\",\"area\",\"sure\",\"many\",\"give\",\"My\",\"today\",\"after\",\"group\",\"made\",\"call\",\"&\",\"free\",\"again\",\"Google\",\"into\",\"put\",\"these\",\"then\",\"Bush\",\"ever\",\"In\",\"love\",\"He\",\"him\",\"still\",\"years\",\"day\",\"Qaeda\",\"deal\",\"guys\",\"staff\",\"<\",\">\",\"its\",\"anything\",\"But\",\"year\",\"never\",\"look\",\"us\",\"Do\",\"recommend\",\"--\",\"Fallujah\",\"since\",\"anyone\",\"try\",\"where\",\"got\",\"around\",\"looking\",\"Best\",\"job\",\"PM\",\"------\",\"quality\",\"And\",\"send\",\"off\",\"because\",\"buy\",\"she\",\"always\",\"Vince\",\"able\",\"No\",\"713\",\"thanks\",\"eat\",\"!!!\",\"days\",\"took\",\"most\",\"every\",\"number\",\"London\",\"let\",\"space\",\"those\",\"discussed\",\"Thank\",\":)\",\"..\",\"system\",\"before\",\"come\",\"end\",\"site\",\"'re\",\"something\",\"President\",\"ask\",\"such\",\"through\",\"world\",\"between\",\"Islamic\",\"why\",\"school\",\"working\",\"house\",\"down\",\"phone\",\"Email\",\"PERFORMANCE\",\"01-Feb-02\",\"*\",\"**\",\"nt\",\"e-mail\",\"money\",\"John\",\"amazing\",\"someone\",\"local\",\"5\",\"opinion\",\"1\",\"%\",\"company\",\"using\",\"told\",\"By\",\"though\",\"10\",\"went\",\"email\",\"Good\",\"pay\",\"AM\",\"list\",\"getting\",\"Dow\",\"business\",\"P\",\"NASA\",\"helpful\",\"Very\",\"might\",\"makes\",\"next\",\"done\",\"war\",\"bad\",\"being\",\"seem\",\"against\",\"joined\",\"part\",\"weeks\",\"ago\",\"needs\",\"So\",\"under\",\"already\",\"message\",\"project\",\"called\",\"say\",\"E17\",\"must\",\"Iraq\",\"These\",\"tried\",\"February\",\"As\",\"used\",\"making\",\"week\",\"wanted\",\"price\",\"questions\",\"firm\",\"times\",\"shop\",\"man\",\"everything\",\"lot\",\"deals\",\"Hidden\",\"restaurant\",\"professional\",\"post\",\"away\",\"read\",\"found\",\"On\",\"join\",\"store\",\"looks\",\"pretty\",\"without\",\"city\",\"Sunni\",\"American\",\"country\",\"2\",\"fast\",\"24\",\"same\",\"support\",\"groups\",\"issue\",\"New\",\"21\",\"20\",\"Laden\",\"form\",\"thought\",\"order\",\"came\",\"Yes\",\"please\",\"dinner\",\"doing\",\"left\",\"fine\",\"old\",\"Not\",\"There\",\"David\",\"Well\",\"game\",\"below\",\"#\",\"car\",\"Are\",\"gas\",\"friends\",\"started\",\"Here\",\"Any\",\"quick\",\"happy\",\"page\",\"Nook\",\"different\",\"Chicago\",\"services\",\"search\",\"else\",\"thing\",\"course\",\"excellent\",\"One\",\"pictures\",\"....\",\"stuff\",\"forward\",\"far\",\"believe\",\"start\",\"certainly\",\"rather\",\"ca\",\"behind\",\"long\",\"D\",\"while\",\"section\",\"BBC\",\"later\",\"high\",\"possible\",\"Which\",\"enough\",\"each\",\"until\",\"terrorist\",\"set\",\"another\",\"among\",\"Muslim\",\"check\",\"War\",\"Bin\",\"probably\",\"experience\",\"team\",\"things\",\"wait\",\"girl\",\"wo\",\"month\",\"Mike\",\"Risk\",\"Call\",\"interested\",\"credit\",\"wondering\",\"issues\",\"life\",\"draft\",\"address\",\"results\",\"kind\",\"stay\",\"first\",\"Green\",\"awesome\",\"News\",\"Will\",\"Service\",\"art\",\"Winston\",\"friend\",\"pleased\",\"restaurants\",\"burger\",\"places\",\"busy\",\"computer\",\"camera\",\"customer\",\"care\",\"Highly\",\"[\",\"]\",\"actually\",\"operation\",\"information\",\"hand\",\"nuclear\",\"United\",\"power\",\"police\",\"town\",\"3\",\"term\",\"sounds\",\"market\",\"medical\",\"idea\",\"word\",\"whether\",\"involved\",\"Iraqi\",\"government\",\"question\",\"several\",\"Mississauga\",\"early\",\"small\",\"September\",\"11\",\"Clinton\",\"Of\",\"fall\",\"night\",\"weekend\",\"risk\",\"When\",\"Fax\",\"Hi\",\"suggestions\",\"copy\",\"feel\",\"20.000\",\"HPL\",\"big\",\"bar\",\"extremely\",\"Mark\",\"clean\",\"PPA\",\".?\",\"guaranty\",\"couple\",\"book\",\"name\",\"K\",\"Posted\",\"Wei\",\"often\",\"tragedy\",\"highway\",\"style\",\"prices\",\"rude\",\"employees\",\"fresh\",\"Microsoft\",\"Does\",\"own\",\"across\",\"yet\",\"Let\",\"online\",\"account\",\"worried\",\"hands\",\"However\",\"cool\",\"says\",\"three\",\"either\",\"become\",\"received\",\"enjoyed\",\"along\",\"respect\",\"Parts\",\"filed\",\"whole\",\"finished\",\"short\",\"once\",\"Most\",\"fact\",\"taken\",\"within\",\"according\",\"Bill\",\"point\",\"soon\",\"reason\",\"change\",\"added\",\"statement\",\"wife\",\"Hezbollah\",\"scheduled\",\"process\",\"light\",\"Abdul\",\"That\",\"attack\",\"forces\",\"radical\",\"seen\",\"during\",\"sound\",\"travel\",\"Monotheism\",\"Holy\",\"obviously\",\"Al\",\"Afghanistan\",\"especially\",\"After\",\"Street\",\"case\",\"6\",\"known\",\"coming\",\"wrong\",\"real\",\"worked\",\"Pakistani\",\"bet\",\"remember\",\"regarding\",\"trying\",\"daily\",\"Have\",\"enron\",\"ticket\",\"action\",\"Can\",\"morning\",\"Michael\",\"Elizabeth\",\"Sara\",\"sorry\",\"attached\",\"THE\",\"mind\",\"Web\",\"Debra\",\"Perlingiere\",\"Also\",\"extra\",\"Would\",\"'d\",\"Janette\",\"Elbertson\",\"highly\",\"December\",\"MMBTU\",\"Job\",\"offer\",\"room\",\"4\",\"wish\",\"capital\",\"longer\",\"top\",\"Indian\",\"paper\",\"16\",\"Sheridan\",\"01/24/2001\",\"gave\",\"Darrell\",\"Dr.\",\"Kam\",\"needed\",\"All\",\"data\",\"estate\",\"four\",\"Chinese\",\"home\",\"children\",\"Wonderful\",\"moon\",\"private\",\"White\",\"shuttle\",\"slow\",\"right\",\"Or\",\"lol\",\"How\",\"dog\",\"NZ\",\"vet\",\"family\",\"ice\",\"cream\",\"reasonable\",\"Excellent\",\"location\",\"recommended\",\"easy\",\"tmobile\",\"Mary\",\"heard\",\"Is\",\"To\",\"view\",\"important\",\"besides\",\"news\",\"energy\",\"Government\",\"connection\",\"wants\",\"Americans\",\"calling\",\"Friday\",\"Saddam\",\"share\",\"due\",\"level\",\"pages\",\"Paul\",\"VI\",\"SOUTER\",\"GINSBURG\",\"BREYER\",\"II\",\"agree\",\"hour\",\"however\",\"political\",\"seems\",\"UN\",\"Union\",\"keeping\",\"given\",\"giving\",\"move\",\"rate\",\"gifts\",\"mean\",\"hard\",\"charity\",\"worth\",\"knows\",\"research\",\"means\",\"Because\",\"gone\",\"having\",\"spot\",\"starting\",\"inside\",\"legitimate\",\"simple\",\"pull\",\"January\",\"opposed\",\"U.S.\",\"plot\",\"High\",\"Wycombe\",\"months\",\"Toronto\",\"everyone\",\"true\",\"key\",\"stop\",\"administration\",\"2001\",\"threat\",\"chance\",\"40\",\"plan\",\"playing\",\"white\",\"based\",\"refer\",\"king\",\"whatever\",\"thinking\",\"talking\",\"planning\",\"waiting\",\"Hello\",\"ideas\",\"details\",\"Lay\",\"additional\",\"ride\",\"class\",\"hoping\",\"play\",\"currently\",\"fixed\",\"Houston\",\"model\",\"Inc.\",\"asked\",\"comes\",\"pass\",\"advise\",\"Attached\",\"discuss\",\"+\",\"cell\",\"Wholesale\",\"@\",\"While\",\"Just\",\"understand\",\"leave\",\"regards\",\"Telephone\",\"Facsimile\",\"weather\",\"2000\",\"12\",\"web\",\"lunch\",\"Comets\",\"Tuesday\",\"matters\",\"EWS\",\"Legal\",\"Sent\",\"changes\",\"correct\",\"memo\",\"!!!!!!\",\"revised\",\"values\",\"felt\",\"Did\",\"person\",\"USA\",\"healthy\",\"plenty\",\"touch\",\"traders\",\"close\",\"favor\",\"Guaranty.doc\",\"meeting\",\"looked\",\"design\",\"problem\",\"run\",\"DPR\",\"live\",\"financial\",\"taking\",\"above\",\"visit\",\"Delhi\",\"arrested\",\"wonderful\",\"quite\",\"Systems\",\"water\",\"future\",\"Santiago\",\"China\",\"table\",\"it's\",\"Action\",\"Network\",\"website\",\"together\",\"boy\",\"Earth\",\"flight\",\"launch\",\"rockets\",\"rocket\",\"expensive\",\"Irish\",\"coffee\",\"Argentina\",\"prefer\",\"cost\",\"meal\",\"chain\",\"least\",\"websites\",\"fish\",\"bacon\",\"breakfast\",\"Air\",\"fixing\",\"charge\",\"MAD\",\"cheap\",\"San\",\"Francisco\",\"200\",\"Food\",\"nothing\",\"Kodak\",\"pause\",\"recording\",\"Fast\",\"statues\",\"fun\",\"enjoy\",\"tank\",\"!!\",\"wow\",\"Quality\",\"management\",\"She\",\"stock\",\"doubt\",\"show\",\"shows\",\"article\",\"sin\",\"States\",\"Iranian\",\"suspect\",\"proof\",\"willing\",\"Nations\",\"Many\",\"military\",\"frequently\",\"Falluja\",\"security\",\"fire\",\"troops\",\"clerics\",\"general\",\"leaders\",\"soldiers\",\"remain\",\"special\",\"treatment\",\"Shiites\",\"Court\",\"Rumsfeld\",\"divided\",\"D.C.\",\"Anthony\",\"decision\",\"actual\",\"vote\",\"KENNEDY\",\"SCALIA\",\"dissenting\",\"THOMAS\",\"ALITO\",\"B\",\"marriage\",\"update\",\"upon\",\"front\",\"Washington\",\"report\",\"quickly\",\"Secretary\",\"General\",\"Annan\",\"Darfur\",\"Two\",\"African\",\"300\",\"half\",\"situation\",\"basically\",\"Melinda\",\"Foundation\",\"value\",\"assume\",\"grow\",\"notes\",\"major\",\"shares\",\"guy\",\"happens\",\"mainly\",\"saying\",\"Syria\",\"indicated\",\"participate\",\"elections\",\"agreed\",\"media\",\"despite\",\"terrorism\",\"avoid\",\"bring\",\"organization\",\"force\",\"Arabs\",\"raises\",\"Iraqis\",\"AMS\",\"assault\",\"movement\",\"direct\",\"whom\",\"views\",\"militant\",\"Thursday\",\"Islam\",\"terrorists\",\"Dick\",\"Hussain\",\"22\",\"Ali\",\"confused\",\"Canada\",\"19\",\"Jihad\",\"Zarqawi\",\"allowed\",\"sign\",\"million\",\"modern\",\"original\",\"members\",\"met\"],\"x1\":{\"__ndarray__\":\"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\",\"dtype\":\"float32\",\"shape\":[1000]},\"x2\":{\"__ndarray__\":\"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\",\"dtype\":\"float32\",\"shape\":[1000]}}},\"id\":\"a29775bd-4311-48b6-a58e-a46a5501a8c8\",\"type\":\"ColumnDataSource\"},{\"attributes\":{\"formatter\":{\"id\":\"40bc89cd-1902-47e3-9faa-bdd71a3f4299\",\"type\":\"BasicTickFormatter\"},\"plot\":{\"id\":\"abf759f2-9341-4a29-91ea-f5a2d7919155\",\"subtype\":\"Figure\",\"type\":\"Plot\"},\"ticker\":{\"id\":\"81634e67-9bca-4319-9c4b-e5307ae8c30a\",\"type\":\"BasicTicker\"}},\"id\":\"766886ac-9b1b-4b02-99a0-04f3d2567eb4\",\"type\":\"LinearAxis\"},{\"attributes\":{},\"id\":\"81634e67-9bca-4319-9c4b-e5307ae8c30a\",\"type\":\"BasicTicker\"},{\"attributes\":{\"dimension\":1,\"plot\":{\"id\":\"abf759f2-9341-4a29-91ea-f5a2d7919155\",\"subtype\":\"Figure\",\"type\":\"Plot\"},\"ticker\":{\"id\":\"81634e67-9bca-4319-9c4b-e5307ae8c30a\",\"type\":\"BasicTicker\"}},\"id\":\"49540915-eaff-4cd4-9230-49af0666b57d\",\"type\":\"Grid\"},{\"attributes\":{\"fill_alpha\":{\"value\":0.1},\"fill_color\":{\"value\":\"#1f77b4\"},\"line_alpha\":{\"value\":0.1},\"line_color\":{\"value\":\"#1f77b4\"},\"size\":{\"units\":\"screen\",\"value\":8},\"x\":{\"field\":\"x1\"},\"y\":{\"field\":\"x2\"}},\"id\":\"3dea23e2-458d-4e66-84e2-007f90d9fd58\",\"type\":\"Circle\"}],\"root_ids\":[\"abf759f2-9341-4a29-91ea-f5a2d7919155\"]},\"title\":\"Bokeh Application\",\"version\":\"0.12.10\"}};\n",
       "    var render_items = [{\"docid\":\"37c50d4f-ef0f-471f-9104-46d5a04a2d42\",\"elementid\":\"d680381a-c130-4d58-8942-ecf8f39dc363\",\"modelid\":\"abf759f2-9341-4a29-91ea-f5a2d7919155\"}];\n",
       "\n",
       "    root.Bokeh.embed.embed_items(docs_json, render_items);\n",
       "  }\n",
       "\n",
       "  if (root.Bokeh !== undefined) {\n",
       "    embed_document(root);\n",
       "  } else {\n",
       "    var attempts = 0;\n",
       "    var timer = setInterval(function(root) {\n",
       "      if (root.Bokeh !== undefined) {\n",
       "        embed_document(root);\n",
       "        clearInterval(timer);\n",
       "      }\n",
       "      attempts++;\n",
       "      if (attempts > 100) {\n",
       "        console.log(\"Bokeh: ERROR: Unable to embed document because BokehJS library is missing\")\n",
       "        clearInterval(timer);\n",
       "      }\n",
       "    }, 10, root)\n",
       "  }\n",
       "})(window);"
      ],
      "application/vnd.bokehjs_exec.v0+json": ""
     },
     "metadata": {
      "application/vnd.bokehjs_exec.v0+json": {
       "id": "abf759f2-9341-4a29-91ea-f5a2d7919155"
      }
     },
     "output_type": "display_data"
    }
   ],
   "source": [
    "# Copy the \"text8\"  into the GloVe folder and run \"./demo.sh\". \n",
    "# Copy the \"vector.txt\" back to the notebook folder and run\n",
    "# the second part of this cell.\n",
    "\n",
    "# with open('text8', 'w+') as file:\n",
    "#     for sentence in gensim_word_sentences_train:\n",
    "#         for word in sentence:\n",
    "#             if w2i[word] == 0:\n",
    "#                 file.write(\"<UNK> \")\n",
    "#             else:\n",
    "#                 file.write(word + \" \")\n",
    "    \n",
    "\n",
    "trained_glove_word_model = {}\n",
    "\n",
    "with open('vectors.txt', 'r') as gloVe_corpus_file:\n",
    "    for line in gloVe_corpus_file:\n",
    "        l = line.split()\n",
    "        trained_glove_word_model[l.pop(0)] = l\n",
    "        \n",
    "        \n",
    "most_common_words = word_counts_train.most_common(1000)\n",
    "trained_word_vectors = []\n",
    "most_common_words = [ word for word, count in most_common_words]\n",
    "for word in most_common_words:\n",
    "    trained_word_vectors.append(trained_glove_word_model[i2w[w2i[word]]])\n",
    "emb_scatter(trained_word_vectors, most_common_words, N=20)"
   ]
  }
 ],
 "metadata": {
  "kernelspec": {
   "display_name": "Python 3",
   "language": "python",
   "name": "python3"
  },
  "language_info": {
   "codemirror_mode": {
    "name": "ipython",
    "version": 3
   },
   "file_extension": ".py",
   "mimetype": "text/x-python",
   "name": "python",
   "nbconvert_exporter": "python",
   "pygments_lexer": "ipython3",
   "version": "3.6.3"
  }
 },
 "nbformat": 4,
 "nbformat_minor": 2
}
