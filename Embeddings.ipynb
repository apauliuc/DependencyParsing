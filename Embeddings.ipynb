{
 "cells": [
  {
   "cell_type": "markdown",
   "metadata": {},
   "source": [
    "# Word and POS tags embeddings\n",
    "\n",
    "\n",
    "## Description\n",
    "In this notebook, we are trying to parse $*.conllu$ files and extract the word embeddings, as well as the POS tags emeddings.\n",
    "\n",
    "## Work to be done:\n",
    "1. Learn how to parse $*.conllu$ files\n",
    "2. Find a way to get all words and POS tags embeddings.\n",
    "3. Prepare data to be ready to be used by BiLSTM"
   ]
  },
  {
   "cell_type": "markdown",
   "metadata": {},
   "source": [
    "### 1.1 Read $*.conllu$ files"
   ]
  },
  {
   "cell_type": "markdown",
   "metadata": {},
   "source": [
    "#### Word class:"
   ]
  },
  {
   "cell_type": "code",
   "execution_count": 1,
   "metadata": {
    "collapsed": true
   },
   "outputs": [],
   "source": [
    "class Word:\n",
    "    \"\"\"Word class that maps all details for a word from a *.conllu file. \"\"\"\n",
    "    \n",
    "    def __init__(self, ID, FORM, LEMMA, UPOSTAG, XPOSTAG, FEATS, HEAD, DEPREL, DEPS, MISC):\n",
    "        self.ID = ID           # Word idx, int starting at 1 for each new sentence; or a range for multiword tokens\n",
    "        self.FORM = FORM       # Word form or punctuation symbol.\n",
    "        self.LEMMA  = LEMMA    # Lemma or stem of word form.\n",
    "        self.UPOSTAG = UPOSTAG # Universal part-of-speech tag.\n",
    "        self.XPOSTAG = XPOSTAG # Language-specific part-of-speech tag; underscore if not available.\n",
    "        self.FEATS = FEATS     # List of morphological features from the universal feature inventory\n",
    "        self.HEAD = HEAD       # Head of the current word, which is either a value of ID or zero (0).\n",
    "        self.DEPREL = DEPREL   # Univ. dep. rel to the HEAD (root iff HEAD = 0) or a defined lang-specific subtype\n",
    "        self.DEPS = DEPS       # Enhanced dependency graph in the form of a list of head-deprel pairs.\n",
    "        self.MISC = MISC       # Any other annotation.\n",
    "    \n",
    "    def __str__(self):\n",
    "        string = ''\n",
    "        \n",
    "        string += self.ID      if self.ID      != None else '_'\n",
    "        string += \" \"\n",
    "        string += self.FORM    if self.FORM    != None else '_'\n",
    "        string += \" \"\n",
    "        string += self.LEMMA   if self.LEMMA   != None else '_'\n",
    "        string += \" \"\n",
    "        string += self.UPOSTAG if self.UPOSTAG != None else '_'\n",
    "        string += \" \"\n",
    "        string += self.XPOSTAG if self.XPOSTAG != None else '_'\n",
    "        string += \" \"\n",
    "        string += self.FEATS   if self.FEATS   != None else '_'\n",
    "        string += \" \"\n",
    "        string += self.HEAD    if self.HEAD    != None else '_'\n",
    "        string += \" \"\n",
    "        string += self.DEPREL  if self.DEPREL  != None else '_'\n",
    "        string += \" \"\n",
    "        string += self.DEPS    if self.DEPS    != None else '_'\n",
    "        string += \" \"\n",
    "        string += self.MISC    if self.MISC    != None else '_'\n",
    "        \n",
    "        return string\n",
    "        \n",
    "    @staticmethod\n",
    "    def from_line(line):\n",
    "        tokens = line.split()\n",
    "        \n",
    "        assert len(tokens) == 10\n",
    "        \n",
    "        ID =      tokens[0] if tokens[0] != '_' else None\n",
    "        FORM =    tokens[1] if tokens[1] != '_' else None\n",
    "        LEMMA =   tokens[2] if tokens[2] != '_' else None\n",
    "        UPOSTAG = tokens[3] if tokens[3] != '_' else None\n",
    "        XPOSTAG = tokens[4] if tokens[4] != '_' else None\n",
    "        FEATS =   tokens[5] if tokens[5] != '_' else None\n",
    "        HEAD =    tokens[6] if tokens[6] != '_' else None\n",
    "        DEPREL=   tokens[7] if tokens[7] != '_' else None\n",
    "        DEPS =    tokens[8] if tokens[8] != '_' else None\n",
    "        MISC =    tokens[9] if tokens[9] != '_' else None\n",
    "        \n",
    "        return Word(ID, FORM, LEMMA, UPOSTAG, XPOSTAG, FEATS, HEAD, DEPREL, DEPS, MISC)\n",
    "        "
   ]
  },
  {
   "cell_type": "markdown",
   "metadata": {},
   "source": [
    "#### Test Word class:"
   ]
  },
  {
   "cell_type": "code",
   "execution_count": 2,
   "metadata": {},
   "outputs": [
    {
     "name": "stdout",
     "output_type": "stream",
     "text": [
      "4 proves prove VERB VBZ Mood=Ind|Number=Sing|Person=3|Tense=Pres|VerbForm=Fin 0 root 0:root _\n",
      "proves\n"
     ]
    }
   ],
   "source": [
    "test_text = \"4\tproves\tprove\tVERB\tVBZ\tMood=Ind|Number=Sing|Person=3|Tense=Pres|VerbForm=Fin\t0\troot\t0:root\t_\"\n",
    "test_word = Word.from_line(test_text)\n",
    "print(test_word)\n",
    "print(test_word.FORM)"
   ]
  },
  {
   "cell_type": "markdown",
   "metadata": {},
   "source": [
    "#### Sentence class:"
   ]
  },
  {
   "cell_type": "code",
   "execution_count": 3,
   "metadata": {
    "collapsed": true
   },
   "outputs": [],
   "source": [
    "class Sentence:\n",
    "    \"\"\"Sentence class that maps all details for a sentence from a *.conllu file. \"\"\"\n",
    "    \n",
    "    def __init__(self,newdoc_id, send_id, text, words):\n",
    "        self.newdoc_id = newdoc_id\n",
    "        self.send_id = send_id\n",
    "        self.text = text\n",
    "        self.words = words\n",
    "        \n",
    "    def __str__(self):\n",
    "        string = ''\n",
    "        if self.newdoc_id != None:\n",
    "            string += \"# newdoc id = \"\n",
    "            string += str(self.newdoc_id)\n",
    "            string += \"\\n\"\n",
    "        string += \"# send_id = \"\n",
    "        string += str(self.send_id)\n",
    "        string += \"\\n\"\n",
    "        string += \"# text = \"\n",
    "        string += str(self.text)\n",
    "        string += \"\\n\"\n",
    "        sentence_length = len(self.words)\n",
    "        for index, word in enumerate(self.words):\n",
    "            string += str(word)\n",
    "            if index < sentence_length - 1:\n",
    "                string += \"\\n\"\n",
    "        return string\n",
    "    \n",
    "        \n",
    "    @staticmethod\n",
    "    def from_lines(lines):\n",
    "        newdoc_id=''\n",
    "        send_id = ''\n",
    "        text=''\n",
    "        words = []\n",
    "\n",
    "        \n",
    "        for line in lines:\n",
    "            if line.startswith(\"#\"): #misc properties\n",
    "                prop = line.split(\"=\")[1]\n",
    "                if line.startswith(\"newdoc\", 2):\n",
    "                    newdoc_id = prop\n",
    "                    continue\n",
    "                if line.startswith(\"sent_id\", 2):\n",
    "                    send_id = prop\n",
    "                    continue\n",
    "                if line.startswith(\"text\", 2):\n",
    "                    text = prop\n",
    "                    continue\n",
    "                continue\n",
    "            else:# words\n",
    "                if line.split()[0].isdigit(): #index is an integer\n",
    "                    words.append(Word.from_line(line))\n",
    "\n",
    "        return Sentence(newdoc_id, send_id, text, words)"
   ]
  },
  {
   "cell_type": "markdown",
   "metadata": {},
   "source": [
    "#### Test Sentence class:"
   ]
  },
  {
   "cell_type": "code",
   "execution_count": 4,
   "metadata": {
    "scrolled": false
   },
   "outputs": [
    {
     "name": "stdout",
     "output_type": "stream",
     "text": [
      "# newdoc id = \n",
      "# send_id =  weblog-blogspot.com_gettingpolitical_20030906235000_ENG_20030906_235000-0003\n",
      "# text =  Today's incident proves that Sharon has lost his patience and his hope in peace.\n",
      "1 Today today NOUN NN Number=Sing 3 nmod:poss 3:nmod:poss SpaceAfter=No\n",
      "2 's 's PART POS _ 1 case 1:case _\n",
      "3 incident incident NOUN NN Number=Sing 4 nsubj 4:nsubj _\n",
      "4 proves prove VERB VBZ Mood=Ind|Number=Sing|Person=3|Tense=Pres|VerbForm=Fin 0 root 0:root _\n",
      "5 that that SCONJ IN _ 8 mark 8:mark _\n",
      "6 Sharon Sharon PROPN NNP Number=Sing 8 nsubj 8:nsubj _\n",
      "7 has have AUX VBZ Mood=Ind|Number=Sing|Person=3|Tense=Pres|VerbForm=Fin 8 aux 8:aux _\n",
      "8 lost lose VERB VBN Tense=Past|VerbForm=Part 4 ccomp 4:ccomp _\n",
      "9 his he PRON PRP$ Gender=Masc|Number=Sing|Person=3|Poss=Yes|PronType=Prs 10 nmod:poss 10:nmod:poss _\n",
      "10 patience patience NOUN NN Number=Sing 8 obj 8:obj _\n",
      "11 and and CCONJ CC _ 13 cc 13:cc _\n",
      "12 his he PRON PRP$ Gender=Masc|Number=Sing|Person=3|Poss=Yes|PronType=Prs 13 nmod:poss 13:nmod:poss _\n",
      "13 hope hope NOUN NN Number=Sing 10 conj 10:conj _\n",
      "14 in in ADP IN _ 15 case 15:case _\n",
      "15 peace peace NOUN NN Number=Sing 13 nmod 13:nmod SpaceAfter=No\n",
      "16 . . PUNCT . _ 4 punct 4:punct _ \n",
      "\n",
      " Today's incident proves that Sharon has lost his patience and his hope in peace. \n",
      "\n",
      "1 Today today NOUN NN Number=Sing 3 nmod:poss 3:nmod:poss SpaceAfter=No \n",
      "\n"
     ]
    }
   ],
   "source": [
    "lines = [\"# sent_id = weblog-blogspot.com_gettingpolitical_20030906235000_ENG_20030906_235000-0003\",\n",
    "\"# text = Today's incident proves that Sharon has lost his patience and his hope in peace.\",\n",
    "\"1\tToday\ttoday\tNOUN\tNN\tNumber=Sing\t3\tnmod:poss\t3:nmod:poss\tSpaceAfter=No\",\n",
    "\"2\t's\t's\tPART\tPOS\t_\t1\tcase\t1:case\t_\",\n",
    "\"3\tincident\tincident\tNOUN\tNN\tNumber=Sing\t4\tnsubj\t4:nsubj\t_\",\n",
    "\"4\tproves\tprove\tVERB\tVBZ\tMood=Ind|Number=Sing|Person=3|Tense=Pres|VerbForm=Fin\t0\troot\t0:root\t_\",\n",
    "\"5\tthat\tthat\tSCONJ\tIN\t_\t8\tmark\t8:mark\t_\",\n",
    "\"6\tSharon\tSharon\tPROPN\tNNP\tNumber=Sing\t8\tnsubj\t8:nsubj\t_\",\n",
    "\"7\thas\thave\tAUX\tVBZ\tMood=Ind|Number=Sing|Person=3|Tense=Pres|VerbForm=Fin\t8\taux\t8:aux\t_\",\n",
    "\"8\tlost\tlose\tVERB\tVBN\tTense=Past|VerbForm=Part\t4\tccomp\t4:ccomp\t_\",\n",
    "\"9\this\the\tPRON\tPRP$\tGender=Masc|Number=Sing|Person=3|Poss=Yes|PronType=Prs\t10\tnmod:poss\t10:nmod:poss\t_\",\n",
    "\"10\tpatience\tpatience\tNOUN\tNN\tNumber=Sing\t8\tobj\t8:obj\t_\",\n",
    "\"11\tand\tand\tCCONJ\tCC\t_\t13\tcc\t13:cc\t_\",\n",
    "\"12\this\the\tPRON\tPRP$\tGender=Masc|Number=Sing|Person=3|Poss=Yes|PronType=Prs\t13\tnmod:poss\t13:nmod:poss\t_\",\n",
    "\"13\thope\thope\tNOUN\tNN\tNumber=Sing\t10\tconj\t10:conj\t_\",\n",
    "\"14\tin\tin\tADP\tIN\t_\t15\tcase\t15:case\t_\",\n",
    "\"15\tpeace\tpeace\tNOUN\tNN\tNumber=Sing\t13\tnmod\t13:nmod\tSpaceAfter=No\",\n",
    "\"16\t.\t.\tPUNCT\t.\t_\t4\tpunct\t4:punct\t_\"]\n",
    "sentence = Sentence.from_lines(lines)\n",
    "print(str(sentence), \"\\n\")\n",
    "print(sentence.text, \"\\n\")\n",
    "print(sentence.words[0], \"\\n\")"
   ]
  },
  {
   "cell_type": "code",
   "execution_count": 5,
   "metadata": {
    "collapsed": true
   },
   "outputs": [],
   "source": [
    "en_path = \"Annotated training data/UD_English-master/\"\n",
    "en_dev_filename = \"en-ud-dev.conllu\"\n",
    "en_test_filename = \"en-ud-test.conllu\"\n",
    "en_train_filename = \"en-ud-train.conllu\"\n",
    "\n",
    "ro_path = \"Annotated training data/UD_Romanian-dev/\"\n",
    "ro_dev_filename = \"ro-ud-dev.conllu\"\n",
    "ro_test_filename = \"ro-ud-test.conllu\"\n",
    "ro_train_filename = \"ro-ud-train.conllu\"\n",
    "\n",
    "def read_sentences(path, filename):\n",
    "    sentences = []\n",
    "    sentence_lines = []\n",
    "    file = open(path + filename, 'r')\n",
    "    for line in file:\n",
    "        if line == '\\n':\n",
    "            sentences.append(Sentence.from_lines(sentence_lines))\n",
    "            sentence_lines = []\n",
    "        else:\n",
    "            sentence_lines.append(line)\n",
    "            \n",
    "    return sentences\n",
    "\n",
    "\n",
    "en_train_sentences = read_sentences(en_path,en_train_filename)\n",
    "en_dev_sentences = read_sentences(en_path,en_dev_filename)\n",
    "en_test_sentences = read_sentences(en_path,en_test_filename)\n",
    "\n",
    "ro_train_sentences = read_sentences(ro_path,ro_train_filename)\n",
    "ro_dev_sentences = read_sentences(ro_path,ro_dev_filename)\n",
    "ro_test_sentences = read_sentences(ro_path,ro_test_filename)\n",
    "\n",
    "assert len(en_dev_sentences) == 2002# there are 2002 sentences in the english development dataset.\n"
   ]
  },
  {
   "cell_type": "markdown",
   "metadata": {},
   "source": [
    "### 1.2 Write $*.conllu$ files"
   ]
  },
  {
   "cell_type": "code",
   "execution_count": 6,
   "metadata": {
    "collapsed": true
   },
   "outputs": [],
   "source": [
    "def write_sentences(sentences, path, filename):\n",
    "    with open(path + filename, 'w+') as file:\n",
    "        for sentence in sentences:\n",
    "            file.write(str(sentence) + \"\\n\")"
   ]
  },
  {
   "cell_type": "markdown",
   "metadata": {},
   "source": [
    "### 2. Extract words/POS tags and then extract embeddings"
   ]
  },
  {
   "cell_type": "markdown",
   "metadata": {},
   "source": [
    "#### Function for displaying embedded words using t-SNE:"
   ]
  },
  {
   "cell_type": "code",
   "execution_count": 45,
   "metadata": {},
   "outputs": [
    {
     "data": {
      "text/html": [
       "\n",
       "    <div class=\"bk-root\">\n",
       "        <a href=\"https://bokeh.pydata.org\" target=\"_blank\" class=\"bk-logo bk-logo-small bk-logo-notebook\"></a>\n",
       "        <span id=\"2473c6b0-fb3b-415d-931a-433b25d3efd6\">Loading BokehJS ...</span>\n",
       "    </div>"
      ]
     },
     "metadata": {},
     "output_type": "display_data"
    },
    {
     "data": {
      "application/javascript": [
       "\n",
       "(function(root) {\n",
       "  function now() {\n",
       "    return new Date();\n",
       "  }\n",
       "\n",
       "  var force = true;\n",
       "\n",
       "  if (typeof (root._bokeh_onload_callbacks) === \"undefined\" || force === true) {\n",
       "    root._bokeh_onload_callbacks = [];\n",
       "    root._bokeh_is_loading = undefined;\n",
       "  }\n",
       "\n",
       "  var JS_MIME_TYPE = 'application/javascript';\n",
       "  var HTML_MIME_TYPE = 'text/html';\n",
       "  var EXEC_MIME_TYPE = 'application/vnd.bokehjs_exec.v0+json';\n",
       "  var CLASS_NAME = 'output_bokeh rendered_html';\n",
       "\n",
       "  /**\n",
       "   * Render data to the DOM node\n",
       "   */\n",
       "  function render(props, node) {\n",
       "    var script = document.createElement(\"script\");\n",
       "    node.appendChild(script);\n",
       "  }\n",
       "\n",
       "  /**\n",
       "   * Handle when an output is cleared or removed\n",
       "   */\n",
       "  function handleClearOutput(event, handle) {\n",
       "    var cell = handle.cell;\n",
       "\n",
       "    var id = cell.output_area._bokeh_element_id;\n",
       "    var server_id = cell.output_area._bokeh_server_id;\n",
       "    // Clean up Bokeh references\n",
       "    if (id !== undefined) {\n",
       "      Bokeh.index[id].model.document.clear();\n",
       "      delete Bokeh.index[id];\n",
       "    }\n",
       "\n",
       "    if (server_id !== undefined) {\n",
       "      // Clean up Bokeh references\n",
       "      var cmd = \"from bokeh.io.state import curstate; print(curstate().uuid_to_server['\" + server_id + \"'].get_sessions()[0].document.roots[0]._id)\";\n",
       "      cell.notebook.kernel.execute(cmd, {\n",
       "        iopub: {\n",
       "          output: function(msg) {\n",
       "            var element_id = msg.content.text.trim();\n",
       "            Bokeh.index[element_id].model.document.clear();\n",
       "            delete Bokeh.index[element_id];\n",
       "          }\n",
       "        }\n",
       "      });\n",
       "      // Destroy server and session\n",
       "      var cmd = \"import bokeh.io.notebook as ion; ion.destroy_server('\" + server_id + \"')\";\n",
       "      cell.notebook.kernel.execute(cmd);\n",
       "    }\n",
       "  }\n",
       "\n",
       "  /**\n",
       "   * Handle when a new output is added\n",
       "   */\n",
       "  function handleAddOutput(event, handle) {\n",
       "    var output_area = handle.output_area;\n",
       "    var output = handle.output;\n",
       "\n",
       "    // limit handleAddOutput to display_data with EXEC_MIME_TYPE content only\n",
       "    if ((output.output_type != \"display_data\") || (!output.data.hasOwnProperty(EXEC_MIME_TYPE))) {\n",
       "      return\n",
       "    }\n",
       "\n",
       "    var toinsert = output_area.element.find(`.${CLASS_NAME.split(' ')[0]}`);\n",
       "\n",
       "    if (output.metadata[EXEC_MIME_TYPE][\"id\"] !== undefined) {\n",
       "      toinsert[0].firstChild.textContent = output.data[JS_MIME_TYPE];\n",
       "      // store reference to embed id on output_area\n",
       "      output_area._bokeh_element_id = output.metadata[EXEC_MIME_TYPE][\"id\"];\n",
       "    }\n",
       "    if (output.metadata[EXEC_MIME_TYPE][\"server_id\"] !== undefined) {\n",
       "      var bk_div = document.createElement(\"div\");\n",
       "      bk_div.innerHTML = output.data[HTML_MIME_TYPE];\n",
       "      var script_attrs = bk_div.children[0].attributes;\n",
       "      for (var i = 0; i < script_attrs.length; i++) {\n",
       "        toinsert[0].firstChild.setAttribute(script_attrs[i].name, script_attrs[i].value);\n",
       "      }\n",
       "      // store reference to server id on output_area\n",
       "      output_area._bokeh_server_id = output.metadata[EXEC_MIME_TYPE][\"server_id\"];\n",
       "    }\n",
       "  }\n",
       "\n",
       "  function register_renderer(events, OutputArea) {\n",
       "\n",
       "    function append_mime(data, metadata, element) {\n",
       "      // create a DOM node to render to\n",
       "      var toinsert = this.create_output_subarea(\n",
       "        metadata,\n",
       "        CLASS_NAME,\n",
       "        EXEC_MIME_TYPE\n",
       "      );\n",
       "      this.keyboard_manager.register_events(toinsert);\n",
       "      // Render to node\n",
       "      var props = {data: data, metadata: metadata[EXEC_MIME_TYPE]};\n",
       "      render(props, toinsert[0]);\n",
       "      element.append(toinsert);\n",
       "      return toinsert\n",
       "    }\n",
       "\n",
       "    /* Handle when an output is cleared or removed */\n",
       "    events.on('clear_output.CodeCell', handleClearOutput);\n",
       "    events.on('delete.Cell', handleClearOutput);\n",
       "\n",
       "    /* Handle when a new output is added */\n",
       "    events.on('output_added.OutputArea', handleAddOutput);\n",
       "\n",
       "    /**\n",
       "     * Register the mime type and append_mime function with output_area\n",
       "     */\n",
       "    OutputArea.prototype.register_mime_type(EXEC_MIME_TYPE, append_mime, {\n",
       "      /* Is output safe? */\n",
       "      safe: true,\n",
       "      /* Index of renderer in `output_area.display_order` */\n",
       "      index: 0\n",
       "    });\n",
       "  }\n",
       "\n",
       "  // register the mime type if in Jupyter Notebook environment and previously unregistered\n",
       "  if (root.Jupyter !== undefined) {\n",
       "    var events = require('base/js/events');\n",
       "    var OutputArea = require('notebook/js/outputarea').OutputArea;\n",
       "\n",
       "    if (OutputArea.prototype.mime_types().indexOf(EXEC_MIME_TYPE) == -1) {\n",
       "      register_renderer(events, OutputArea);\n",
       "    }\n",
       "  }\n",
       "\n",
       "  \n",
       "  if (typeof (root._bokeh_timeout) === \"undefined\" || force === true) {\n",
       "    root._bokeh_timeout = Date.now() + 5000;\n",
       "    root._bokeh_failed_load = false;\n",
       "  }\n",
       "\n",
       "  var NB_LOAD_WARNING = {'data': {'text/html':\n",
       "     \"<div style='background-color: #fdd'>\\n\"+\n",
       "     \"<p>\\n\"+\n",
       "     \"BokehJS does not appear to have successfully loaded. If loading BokehJS from CDN, this \\n\"+\n",
       "     \"may be due to a slow or bad network connection. Possible fixes:\\n\"+\n",
       "     \"</p>\\n\"+\n",
       "     \"<ul>\\n\"+\n",
       "     \"<li>re-rerun `output_notebook()` to attempt to load from CDN again, or</li>\\n\"+\n",
       "     \"<li>use INLINE resources instead, as so:</li>\\n\"+\n",
       "     \"</ul>\\n\"+\n",
       "     \"<code>\\n\"+\n",
       "     \"from bokeh.resources import INLINE\\n\"+\n",
       "     \"output_notebook(resources=INLINE)\\n\"+\n",
       "     \"</code>\\n\"+\n",
       "     \"</div>\"}};\n",
       "\n",
       "  function display_loaded() {\n",
       "    var el = document.getElementById(\"2473c6b0-fb3b-415d-931a-433b25d3efd6\");\n",
       "    if (el != null) {\n",
       "      el.textContent = \"BokehJS is loading...\";\n",
       "    }\n",
       "    if (root.Bokeh !== undefined) {\n",
       "      if (el != null) {\n",
       "        el.textContent = \"BokehJS \" + root.Bokeh.version + \" successfully loaded.\";\n",
       "      }\n",
       "    } else if (Date.now() < root._bokeh_timeout) {\n",
       "      setTimeout(display_loaded, 100)\n",
       "    }\n",
       "  }\n",
       "\n",
       "\n",
       "  function run_callbacks() {\n",
       "    try {\n",
       "      root._bokeh_onload_callbacks.forEach(function(callback) { callback() });\n",
       "    }\n",
       "    finally {\n",
       "      delete root._bokeh_onload_callbacks\n",
       "    }\n",
       "    console.info(\"Bokeh: all callbacks have finished\");\n",
       "  }\n",
       "\n",
       "  function load_libs(js_urls, callback) {\n",
       "    root._bokeh_onload_callbacks.push(callback);\n",
       "    if (root._bokeh_is_loading > 0) {\n",
       "      console.log(\"Bokeh: BokehJS is being loaded, scheduling callback at\", now());\n",
       "      return null;\n",
       "    }\n",
       "    if (js_urls == null || js_urls.length === 0) {\n",
       "      run_callbacks();\n",
       "      return null;\n",
       "    }\n",
       "    console.log(\"Bokeh: BokehJS not loaded, scheduling load and callback at\", now());\n",
       "    root._bokeh_is_loading = js_urls.length;\n",
       "    for (var i = 0; i < js_urls.length; i++) {\n",
       "      var url = js_urls[i];\n",
       "      var s = document.createElement('script');\n",
       "      s.src = url;\n",
       "      s.async = false;\n",
       "      s.onreadystatechange = s.onload = function() {\n",
       "        root._bokeh_is_loading--;\n",
       "        if (root._bokeh_is_loading === 0) {\n",
       "          console.log(\"Bokeh: all BokehJS libraries loaded\");\n",
       "          run_callbacks()\n",
       "        }\n",
       "      };\n",
       "      s.onerror = function() {\n",
       "        console.warn(\"failed to load library \" + url);\n",
       "      };\n",
       "      console.log(\"Bokeh: injecting script tag for BokehJS library: \", url);\n",
       "      document.getElementsByTagName(\"head\")[0].appendChild(s);\n",
       "    }\n",
       "  };var element = document.getElementById(\"2473c6b0-fb3b-415d-931a-433b25d3efd6\");\n",
       "  if (element == null) {\n",
       "    console.log(\"Bokeh: ERROR: autoload.js configured with elementid '2473c6b0-fb3b-415d-931a-433b25d3efd6' but no matching script tag was found. \")\n",
       "    return false;\n",
       "  }\n",
       "\n",
       "  var js_urls = [\"https://cdn.pydata.org/bokeh/release/bokeh-0.12.10.min.js\", \"https://cdn.pydata.org/bokeh/release/bokeh-widgets-0.12.10.min.js\", \"https://cdn.pydata.org/bokeh/release/bokeh-tables-0.12.10.min.js\", \"https://cdn.pydata.org/bokeh/release/bokeh-gl-0.12.10.min.js\"];\n",
       "\n",
       "  var inline_js = [\n",
       "    function(Bokeh) {\n",
       "      Bokeh.set_log_level(\"info\");\n",
       "    },\n",
       "    \n",
       "    function(Bokeh) {\n",
       "      \n",
       "    },\n",
       "    function(Bokeh) {\n",
       "      console.log(\"Bokeh: injecting CSS: https://cdn.pydata.org/bokeh/release/bokeh-0.12.10.min.css\");\n",
       "      Bokeh.embed.inject_css(\"https://cdn.pydata.org/bokeh/release/bokeh-0.12.10.min.css\");\n",
       "      console.log(\"Bokeh: injecting CSS: https://cdn.pydata.org/bokeh/release/bokeh-widgets-0.12.10.min.css\");\n",
       "      Bokeh.embed.inject_css(\"https://cdn.pydata.org/bokeh/release/bokeh-widgets-0.12.10.min.css\");\n",
       "      console.log(\"Bokeh: injecting CSS: https://cdn.pydata.org/bokeh/release/bokeh-tables-0.12.10.min.css\");\n",
       "      Bokeh.embed.inject_css(\"https://cdn.pydata.org/bokeh/release/bokeh-tables-0.12.10.min.css\");\n",
       "    }\n",
       "  ];\n",
       "\n",
       "  function run_inline_js() {\n",
       "    \n",
       "    if ((root.Bokeh !== undefined) || (force === true)) {\n",
       "      for (var i = 0; i < inline_js.length; i++) {\n",
       "        inline_js[i].call(root, root.Bokeh);\n",
       "      }if (force === true) {\n",
       "        display_loaded();\n",
       "      }} else if (Date.now() < root._bokeh_timeout) {\n",
       "      setTimeout(run_inline_js, 100);\n",
       "    } else if (!root._bokeh_failed_load) {\n",
       "      console.log(\"Bokeh: BokehJS failed to load within specified timeout.\");\n",
       "      root._bokeh_failed_load = true;\n",
       "    } else if (force !== true) {\n",
       "      var cell = $(document.getElementById(\"2473c6b0-fb3b-415d-931a-433b25d3efd6\")).parents('.cell').data().cell;\n",
       "      cell.output_area.append_execute_result(NB_LOAD_WARNING)\n",
       "    }\n",
       "\n",
       "  }\n",
       "\n",
       "  if (root._bokeh_is_loading === 0) {\n",
       "    console.log(\"Bokeh: BokehJS loaded, going straight to plotting\");\n",
       "    run_inline_js();\n",
       "  } else {\n",
       "    load_libs(js_urls, function() {\n",
       "      console.log(\"Bokeh: BokehJS plotting callback run at\", now());\n",
       "      run_inline_js();\n",
       "    });\n",
       "  }\n",
       "}(window));"
      ],
      "application/vnd.bokehjs_load.v0+json": "\n(function(root) {\n  function now() {\n    return new Date();\n  }\n\n  var force = true;\n\n  if (typeof (root._bokeh_onload_callbacks) === \"undefined\" || force === true) {\n    root._bokeh_onload_callbacks = [];\n    root._bokeh_is_loading = undefined;\n  }\n\n  \n\n  \n  if (typeof (root._bokeh_timeout) === \"undefined\" || force === true) {\n    root._bokeh_timeout = Date.now() + 5000;\n    root._bokeh_failed_load = false;\n  }\n\n  var NB_LOAD_WARNING = {'data': {'text/html':\n     \"<div style='background-color: #fdd'>\\n\"+\n     \"<p>\\n\"+\n     \"BokehJS does not appear to have successfully loaded. If loading BokehJS from CDN, this \\n\"+\n     \"may be due to a slow or bad network connection. Possible fixes:\\n\"+\n     \"</p>\\n\"+\n     \"<ul>\\n\"+\n     \"<li>re-rerun `output_notebook()` to attempt to load from CDN again, or</li>\\n\"+\n     \"<li>use INLINE resources instead, as so:</li>\\n\"+\n     \"</ul>\\n\"+\n     \"<code>\\n\"+\n     \"from bokeh.resources import INLINE\\n\"+\n     \"output_notebook(resources=INLINE)\\n\"+\n     \"</code>\\n\"+\n     \"</div>\"}};\n\n  function display_loaded() {\n    var el = document.getElementById(\"2473c6b0-fb3b-415d-931a-433b25d3efd6\");\n    if (el != null) {\n      el.textContent = \"BokehJS is loading...\";\n    }\n    if (root.Bokeh !== undefined) {\n      if (el != null) {\n        el.textContent = \"BokehJS \" + root.Bokeh.version + \" successfully loaded.\";\n      }\n    } else if (Date.now() < root._bokeh_timeout) {\n      setTimeout(display_loaded, 100)\n    }\n  }\n\n\n  function run_callbacks() {\n    try {\n      root._bokeh_onload_callbacks.forEach(function(callback) { callback() });\n    }\n    finally {\n      delete root._bokeh_onload_callbacks\n    }\n    console.info(\"Bokeh: all callbacks have finished\");\n  }\n\n  function load_libs(js_urls, callback) {\n    root._bokeh_onload_callbacks.push(callback);\n    if (root._bokeh_is_loading > 0) {\n      console.log(\"Bokeh: BokehJS is being loaded, scheduling callback at\", now());\n      return null;\n    }\n    if (js_urls == null || js_urls.length === 0) {\n      run_callbacks();\n      return null;\n    }\n    console.log(\"Bokeh: BokehJS not loaded, scheduling load and callback at\", now());\n    root._bokeh_is_loading = js_urls.length;\n    for (var i = 0; i < js_urls.length; i++) {\n      var url = js_urls[i];\n      var s = document.createElement('script');\n      s.src = url;\n      s.async = false;\n      s.onreadystatechange = s.onload = function() {\n        root._bokeh_is_loading--;\n        if (root._bokeh_is_loading === 0) {\n          console.log(\"Bokeh: all BokehJS libraries loaded\");\n          run_callbacks()\n        }\n      };\n      s.onerror = function() {\n        console.warn(\"failed to load library \" + url);\n      };\n      console.log(\"Bokeh: injecting script tag for BokehJS library: \", url);\n      document.getElementsByTagName(\"head\")[0].appendChild(s);\n    }\n  };var element = document.getElementById(\"2473c6b0-fb3b-415d-931a-433b25d3efd6\");\n  if (element == null) {\n    console.log(\"Bokeh: ERROR: autoload.js configured with elementid '2473c6b0-fb3b-415d-931a-433b25d3efd6' but no matching script tag was found. \")\n    return false;\n  }\n\n  var js_urls = [\"https://cdn.pydata.org/bokeh/release/bokeh-0.12.10.min.js\", \"https://cdn.pydata.org/bokeh/release/bokeh-widgets-0.12.10.min.js\", \"https://cdn.pydata.org/bokeh/release/bokeh-tables-0.12.10.min.js\", \"https://cdn.pydata.org/bokeh/release/bokeh-gl-0.12.10.min.js\"];\n\n  var inline_js = [\n    function(Bokeh) {\n      Bokeh.set_log_level(\"info\");\n    },\n    \n    function(Bokeh) {\n      \n    },\n    function(Bokeh) {\n      console.log(\"Bokeh: injecting CSS: https://cdn.pydata.org/bokeh/release/bokeh-0.12.10.min.css\");\n      Bokeh.embed.inject_css(\"https://cdn.pydata.org/bokeh/release/bokeh-0.12.10.min.css\");\n      console.log(\"Bokeh: injecting CSS: https://cdn.pydata.org/bokeh/release/bokeh-widgets-0.12.10.min.css\");\n      Bokeh.embed.inject_css(\"https://cdn.pydata.org/bokeh/release/bokeh-widgets-0.12.10.min.css\");\n      console.log(\"Bokeh: injecting CSS: https://cdn.pydata.org/bokeh/release/bokeh-tables-0.12.10.min.css\");\n      Bokeh.embed.inject_css(\"https://cdn.pydata.org/bokeh/release/bokeh-tables-0.12.10.min.css\");\n    }\n  ];\n\n  function run_inline_js() {\n    \n    if ((root.Bokeh !== undefined) || (force === true)) {\n      for (var i = 0; i < inline_js.length; i++) {\n        inline_js[i].call(root, root.Bokeh);\n      }if (force === true) {\n        display_loaded();\n      }} else if (Date.now() < root._bokeh_timeout) {\n      setTimeout(run_inline_js, 100);\n    } else if (!root._bokeh_failed_load) {\n      console.log(\"Bokeh: BokehJS failed to load within specified timeout.\");\n      root._bokeh_failed_load = true;\n    } else if (force !== true) {\n      var cell = $(document.getElementById(\"2473c6b0-fb3b-415d-931a-433b25d3efd6\")).parents('.cell').data().cell;\n      cell.output_area.append_execute_result(NB_LOAD_WARNING)\n    }\n\n  }\n\n  if (root._bokeh_is_loading === 0) {\n    console.log(\"Bokeh: BokehJS loaded, going straight to plotting\");\n    run_inline_js();\n  } else {\n    load_libs(js_urls, function() {\n      console.log(\"Bokeh: BokehJS plotting callback run at\", now());\n      run_inline_js();\n    });\n  }\n}(window));"
     },
     "metadata": {},
     "output_type": "display_data"
    }
   ],
   "source": [
    "#### Imports\n",
    "from sklearn.cluster import KMeans\n",
    "from sklearn.manifold import TSNE\n",
    "\n",
    "from bokeh.models import ColumnDataSource, LabelSet\n",
    "from bokeh.plotting import figure, show, output_file\n",
    "from bokeh.palettes import d3\n",
    "from bokeh.io import output_notebook\n",
    "output_notebook()\n",
    "\n",
    "def emb_scatter(data, names, N=20, perplexity=30.0):\n",
    "    \"\"\"\n",
    "    Function for plotting embeddings and words using TSNE.\n",
    "    TSNE finds a way to plot multidimensional data to a \n",
    "    bidimensional plane. It assures that data close in the \n",
    "    multidimensionalspace will also be close in budimensional \n",
    "    place, but not the other way around.\n",
    "    \"\"\"\n",
    "    ## try to find some clusters ##\n",
    "    print(\"finding clusters\")\n",
    "    kmeans = KMeans(n_clusters=N)\n",
    "    kmeans.fit(data)\n",
    "    klabels = kmeans.labels_\n",
    "\n",
    "    ## get a tsne fit ##\n",
    "    print(\"fitting tsne\")\n",
    "    tsne = TSNE(n_components=2, perplexity=perplexity)\n",
    "    emb_tsne = tsne.fit_transform(data)\n",
    "    \n",
    "    ## plot the tsne of the embeddings with bokeh ##\n",
    "    # source: https://github.com/oxford-cs-deepnlp-2017/practical-1\n",
    "    p = figure(tools=\"pan,wheel_zoom,reset,save\",\n",
    "               toolbar_location=\"above\",\n",
    "               title=\"T-SNE for most common words\")\n",
    "\n",
    "    # set colormap as a list\n",
    "    colormap = d3['Category20'][N]\n",
    "    colors = [colormap[i] for i in klabels]\n",
    "\n",
    "    source = ColumnDataSource(data=dict(x1=emb_tsne[:,0],\n",
    "                                        x2=emb_tsne[:,1],\n",
    "                                        names=names,\n",
    "                                        colors=colors))\n",
    "\n",
    "    p.scatter(x=\"x1\", y=\"x2\", size=8, source=source, color='colors')\n",
    "\n",
    "    labels = LabelSet(x=\"x1\", y=\"x2\", text=\"names\", y_offset=6,\n",
    "                      text_font_size=\"8pt\", text_color=\"#555555\",\n",
    "                      source=source, text_align='center')\n",
    "    p.add_layout(labels)\n",
    "\n",
    "    show(p)"
   ]
  },
  {
   "cell_type": "code",
   "execution_count": 7,
   "metadata": {
    "collapsed": true
   },
   "outputs": [],
   "source": [
    "import numpy as np\n",
    "import pickle\n",
    "from collections import defaultdict, Counter\n",
    "from random import random\n",
    "import matplotlib.pyplot as plt\n",
    "from gensim.models import Word2Vec"
   ]
  },
  {
   "cell_type": "code",
   "execution_count": 8,
   "metadata": {
    "collapsed": true
   },
   "outputs": [],
   "source": [
    "def get_Gensim_sentences(sentences):\n",
    "    \"\"\"\n",
    "    This function receives a list of Sencences and return \n",
    "    the word and POS sentences in the format Gensim needs, \n",
    "    as well as Counters for words, POS tags and dependency\n",
    "    relation labels.\n",
    "    Format: [['i', 'like', 'custard'],...]\n",
    "    All words are lower-cased\n",
    "    \"\"\"\n",
    "    gensim_word_sentences = []\n",
    "    word_counts = Counter()\n",
    "    gensim_POS_sentences = []\n",
    "    POS_counts = Counter()\n",
    "    label_counts = Counter()\n",
    "    for sentence in sentences:\n",
    "        gensim_word_sentence = []\n",
    "        gensim_POS_sentence = []\n",
    "        for word in sentence.words:\n",
    "            gensim_word_sentence.append(word.FORM.lower())\n",
    "            word_counts[word.FORM.lower()] += 1\n",
    "            gensim_POS_sentence.append(word.UPOSTAG.lower())\n",
    "            POS_counts[word.UPOSTAG.lower()] += 1\n",
    "            # some labels comprize multiple words(i.e: \"nsubj:poss\"), so we take only the first label\n",
    "            label_counts[word.DEPREL.split(\":\")[0].lower()] += 1      \n",
    "        gensim_word_sentences.append(gensim_word_sentence)\n",
    "        gensim_POS_sentences.append(gensim_POS_sentence)\n",
    "    return gensim_word_sentences, word_counts, gensim_POS_sentences, POS_counts, label_counts"
   ]
  },
  {
   "cell_type": "code",
   "execution_count": 9,
   "metadata": {
    "collapsed": true
   },
   "outputs": [],
   "source": [
    "gensim_word_sentences_train, word_counts_train, gensim_POS_sentences_train, POS_counts_train, label_counts_train = get_Gensim_sentences(en_test_sentences)\n",
    "gensim_word_sentences_dev, word_counts_dev, gensim_POS_sentences_dev, POS_counts_dev, label_counts_dev = get_Gensim_sentences(en_dev_sentences)\n",
    "gensim_word_sentences_test, word_counts_test, gensim_POS_sentences_test, POS_counts_test, label_counts_test = get_Gensim_sentences(en_test_sentences)\n",
    "\n",
    "\n",
    "w2i = defaultdict(lambda: len(w2i))\n",
    "i2w = dict()\n",
    "i2w[w2i[\"<UNK>\"]] = \"<UNK>\" # word with index 0 are the words that are unknown.\n",
    "for word in word_counts_train.keys():\n",
    "    if word_counts_train[word] > 1:\n",
    "        i2w[w2i[word]] = word # trick\n",
    "    else:\n",
    "        w2i[word] = 0  # all unknown words have index 0\n",
    "word_vocabulary = word_counts_train.keys()\n",
    "\n",
    "\n",
    "        \n",
    "t2i = defaultdict(lambda: len(t2i))\n",
    "i2t = dict()\n",
    "for tag in POS_counts_train.keys():\n",
    "    i2t[t2i[tag]] = tag # trick\n",
    "pos_tag_vocabulary = POS_counts_train.keys() \n",
    "\n",
    "\n",
    "        \n",
    "l2i = defaultdict(lambda: len(l2i))\n",
    "i2l = dict()\n",
    "for label in label_counts_train.keys():\n",
    "        i2l[l2i[label]] = label # trick\n",
    "\n"
   ]
  },
  {
   "cell_type": "markdown",
   "metadata": {},
   "source": [
    "### a. Gensim Word2Vector trained on our data:"
   ]
  },
  {
   "cell_type": "code",
   "execution_count": 112,
   "metadata": {
    "collapsed": true
   },
   "outputs": [],
   "source": [
    "gensim_word_model = Word2Vec([[i2w[w2i[word]] for word in sentence] for sentence in gensim_word_sentences_train], size=50, window=5, min_count=1, workers=4)\n",
    "gensim_POS_model = Word2Vec(gensim_POS_sentences_train, size=50, window=3, min_count=2, workers=4)"
   ]
  },
  {
   "cell_type": "code",
   "execution_count": 113,
   "metadata": {},
   "outputs": [],
   "source": [
    "top_words = [k for k,v in word_counts_train.most_common(1000)]\n",
    "top_word_vecs = gensim_word_model[top_words]\n",
    "emb_scatter(top_word_vecs, top_words, N=20)"
   ]
  },
  {
   "cell_type": "code",
   "execution_count": 114,
   "metadata": {},
   "outputs": [],
   "source": [
    "top_POS = [k for k,v in POS_counts_train.most_common(1000)]\n",
    "top_POS_vecs = gensim_POS_model[top_POS]\n",
    "emb_scatter(top_POS_vecs, top_POS, N=17)"
   ]
  },
  {
   "cell_type": "markdown",
   "metadata": {},
   "source": [
    "### b. Gensim Word2Vector trained on Wikipedia data:"
   ]
  },
  {
   "cell_type": "code",
   "execution_count": null,
   "metadata": {
    "collapsed": true
   },
   "outputs": [],
   "source": [
    "# TODO: implement or delete this section."
   ]
  },
  {
   "cell_type": "markdown",
   "metadata": {},
   "source": [
    "### c. GloVe word embeddings from  spacy library(300d):"
   ]
  },
  {
   "cell_type": "code",
   "execution_count": 61,
   "metadata": {
    "collapsed": true
   },
   "outputs": [],
   "source": [
    "import spacy\n",
    "glove = spacy.load('en')\n",
    "\n",
    "def get_spacy_word_model():\n",
    "    spacy_word_model = {}\n",
    "    unknown_representation = []\n",
    "    for word in word_vocabulary:\n",
    "        if w2i[word] == 0:\n",
    "            unknown_representation.append(glove(word).vector)\n",
    "        else:\n",
    "            spacy_word_model[word] = glove(word).vector\n",
    "    return defaultdict(lambda: np.sum(unknown_representation, axis=0)/len(unknown_representation), spacy_word_model)\n",
    "\n",
    "spacy_word_model = get_spacy_word_model()\n",
    "\n",
    "def get_spacy_pos_model():\n",
    "    \n",
    "    spacy_POS_model = {}\n",
    "    for POS_tag in pos_tag_vocabulary:\n",
    "        spacy_POS_model[POS_tag] = glove(POS_tag).vector\n",
    "    return spacy_POS_model\n",
    "\n",
    "spacy_POS_model=get_spacy_pos_model()"
   ]
  },
  {
   "cell_type": "code",
   "execution_count": 115,
   "metadata": {},
   "outputs": [],
   "source": [
    "most_common_words = word_counts_train.most_common(1000)\n",
    "most_common_words_vectors = []\n",
    "for word, count in most_common_words:\n",
    "    most_common_words_vectors.append(spacy_word_model[word])\n",
    "\n",
    "emb_scatter(most_common_words_vectors, [word for word, count in most_common_words], N=20)"
   ]
  },
  {
   "cell_type": "code",
   "execution_count": 116,
   "metadata": {},
   "outputs": [],
   "source": [
    "pos_vectors = []\n",
    "for pos_tag in pos_tag_vocabulary:\n",
    "    pos_vectors.append(spacy_POS_model[pos_tag])\n",
    "emb_scatter(pos_vectors, list(pos_tag_vocabulary), N=17)"
   ]
  },
  {
   "cell_type": "markdown",
   "metadata": {},
   "source": [
    "### d. GloVe word embeddings from pre-trained word vectors(50d/100d):"
   ]
  },
  {
   "cell_type": "code",
   "execution_count": 107,
   "metadata": {
    "scrolled": false
   },
   "outputs": [],
   "source": [
    "def get_glove_pre_trained_word_model():\n",
    "    # you need to download the file(s) from https://github.com/stanfordnlp/GloVe\n",
    "    file = open(\"GloveEmbeddings/glove.6B.50d.txt\")\n",
    "    pre_trained_tokens = {}\n",
    "    for line in file:\n",
    "        tokens = line.split()\n",
    "        pre_trained_tokens[tokens[0]] = tokens[1:]\n",
    "\n",
    "    # ~2005 found words appearing >1, ~2500 found words appearing =1, ~400 words not found\n",
    "    pre_trained_unknown_reprez = []\n",
    "    pre_trained_dict = {}\n",
    "\n",
    "    for word in w2i.keys():\n",
    "        if word.lower() in pre_trained_tokens.keys():\n",
    "            pre_trained_dict[word] = pre_trained_tokens[word]\n",
    "            if w2i[word] == 0:\n",
    "                pre_trained_unknown_reprez.append(pre_trained_tokens[word])\n",
    "        \n",
    "    unk_reprez = np.sum(np.array(pre_trained_unknown_reprez).astype(np.float),axis=0)/len(pre_trained_unknown_reprez)\n",
    "\n",
    "    return defaultdict(lambda: unk_reprez, pre_trained_dict)\n",
    "\n",
    "def get_glove_pre_trained_tag_model():\n",
    "    \"\"\"\n",
    "    PLOT TWIST: we get the pos tag embeddings from training \n",
    "    \"\"\"\n",
    "    model = {}\n",
    "    word2vect = Word2Vec(gensim_POS_sentences_train, size=50, window=3, min_count=2, workers=4)\n",
    "    for key in word2vect.wv.vocab.keys():\n",
    "        model[key] = word2vect.wv[key]\n",
    "    return model\n",
    "    \n",
    "    \n",
    "pre_trained_word_model = get_glove_pre_trained_word_model()\n",
    "pre_trained_POS_model = get_glove_pre_trained_tag_model()"
   ]
  },
  {
   "cell_type": "code",
   "execution_count": 108,
   "metadata": {},
   "outputs": [
    {
     "name": "stdout",
     "output_type": "stream",
     "text": [
      "finding clusters\n",
      "fitting tsne\n"
     ]
    },
    {
     "data": {
      "text/html": [
       "\n",
       "<div class=\"bk-root\">\n",
       "    <div class=\"bk-plotdiv\" id=\"7de76a83-4390-41a2-a8a5-6d139a0f7c78\"></div>\n",
       "</div>"
      ]
     },
     "metadata": {},
     "output_type": "display_data"
    },
    {
     "data": {
      "application/javascript": [
       "(function(root) {\n",
       "  function embed_document(root) {\n",
       "    var docs_json = {\"3e03f757-a77b-4bdf-83d3-3862a3390c22\":{\"roots\":{\"references\":[{\"attributes\":{},\"id\":\"5afd2d8b-51b2-42ed-a89f-27c969ca9526\",\"type\":\"LinearScale\"},{\"attributes\":{\"formatter\":{\"id\":\"1cfc1972-b1ea-4645-af1b-b7fec7ab6624\",\"type\":\"BasicTickFormatter\"},\"plot\":{\"id\":\"a2d20393-0c57-47e0-b831-8b71dbebc927\",\"subtype\":\"Figure\",\"type\":\"Plot\"},\"ticker\":{\"id\":\"c187d1c7-860d-4501-bb12-cefbbd22087b\",\"type\":\"BasicTicker\"}},\"id\":\"da490a57-0697-4960-9e37-e1958ac99c3c\",\"type\":\"LinearAxis\"},{\"attributes\":{},\"id\":\"6bf6f1ec-7c75-4816-b34b-a337c67be598\",\"type\":\"BasicTickFormatter\"},{\"attributes\":{\"callback\":null},\"id\":\"eafc733c-33e1-4227-a5ad-2045a1a00b30\",\"type\":\"DataRange1d\"},{\"attributes\":{},\"id\":\"3421cf08-fb6b-4ce2-bdf6-22bf7d318622\",\"type\":\"WheelZoomTool\"},{\"attributes\":{},\"id\":\"1cfc1972-b1ea-4645-af1b-b7fec7ab6624\",\"type\":\"BasicTickFormatter\"},{\"attributes\":{\"dimension\":1,\"plot\":{\"id\":\"a2d20393-0c57-47e0-b831-8b71dbebc927\",\"subtype\":\"Figure\",\"type\":\"Plot\"},\"ticker\":{\"id\":\"c187d1c7-860d-4501-bb12-cefbbd22087b\",\"type\":\"BasicTicker\"}},\"id\":\"b61d089f-82d8-45c9-99d1-545a93ec1ad8\",\"type\":\"Grid\"},{\"attributes\":{\"callback\":null,\"column_names\":[\"x1\",\"x2\",\"names\",\"colors\"],\"data\":{\"colors\":[\"#2ca02c\",\"#2ca02c\",\"#2ca02c\",\"#f7b6d2\",\"#2ca02c\",\"#aec7e8\",\"#bcbd22\",\"#2ca02c\",\"#aec7e8\",\"#bcbd22\",\"#2ca02c\",\"#2ca02c\",\"#2ca02c\",\"#2ca02c\",\"#aec7e8\",\"#2ca02c\",\"#bcbd22\",\"#2ca02c\",\"#aec7e8\",\"#d62728\",\"#2ca02c\",\"#2ca02c\",\"#2ca02c\",\"#aec7e8\",\"#bcbd22\",\"#aec7e8\",\"#bcbd22\",\"#c7c7c7\",\"#bcbd22\",\"#aec7e8\",\"#bcbd22\",\"#f7b6d2\",\"#f7b6d2\",\"#98df8a\",\"#98df8a\",\"#bcbd22\",\"#2ca02c\",\"#bcbd22\",\"#f7b6d2\",\"#d62728\",\"#d62728\",\"#f7b6d2\",\"#aec7e8\",\"#2ca02c\",\"#2ca02c\",\"#2ca02c\",\"#d62728\",\"#bcbd22\",\"#2ca02c\",\"#bcbd22\",\"#aec7e8\",\"#bcbd22\",\"#bcbd22\",\"#bcbd22\",\"#d62728\",\"#2ca02c\",\"#d62728\",\"#aec7e8\",\"#f7b6d2\",\"#9467bd\",\"#bcbd22\",\"#d62728\",\"#2ca02c\",\"#2ca02c\",\"#bcbd22\",\"#f7b6d2\",\"#1f77b4\",\"#bcbd22\",\"#bcbd22\",\"#d62728\",\"#f7b6d2\",\"#aec7e8\",\"#f7b6d2\",\"#1f77b4\",\"#f7b6d2\",\"#bcbd22\",\"#aec7e8\",\"#2ca02c\",\"#aec7e8\",\"#bcbd22\",\"#2ca02c\",\"#2ca02c\",\"#bcbd22\",\"#17becf\",\"#f7b6d2\",\"#98df8a\",\"#2ca02c\",\"#2ca02c\",\"#aec7e8\",\"#ff9896\",\"#ff9896\",\"#2ca02c\",\"#1f77b4\",\"#c7c7c7\",\"#2ca02c\",\"#8c564b\",\"#aec7e8\",\"#f7b6d2\",\"#bcbd22\",\"#2ca02c\",\"#2ca02c\",\"#98df8a\",\"#bcbd22\",\"#bcbd22\",\"#9edae5\",\"#2ca02c\",\"#f7b6d2\",\"#bcbd22\",\"#bcbd22\",\"#bcbd22\",\"#2ca02c\",\"#aec7e8\",\"#98df8a\",\"#bcbd22\",\"#bcbd22\",\"#2ca02c\",\"#f7b6d2\",\"#2ca02c\",\"#1f77b4\",\"#8c564b\",\"#aec7e8\",\"#2ca02c\",\"#d62728\",\"#2ca02c\",\"#bcbd22\",\"#f7b6d2\",\"#aec7e8\",\"#bcbd22\",\"#f7b6d2\",\"#2ca02c\",\"#d62728\",\"#f7b6d2\",\"#bcbd22\",\"#2ca02c\",\"#2ca02c\",\"#2ca02c\",\"#f7b6d2\",\"#d62728\",\"#2ca02c\",\"#d62728\",\"#2ca02c\",\"#aec7e8\",\"#9467bd\",\"#f7b6d2\",\"#bcbd22\",\"#ffbb78\",\"#bcbd22\",\"#ff9896\",\"#bcbd22\",\"#f7b6d2\",\"#d62728\",\"#c5b0d5\",\"#bcbd22\",\"#c5b0d5\",\"#d62728\",\"#bcbd22\",\"#aec7e8\",\"#2ca02c\",\"#bcbd22\",\"#e377c2\",\"#f7b6d2\",\"#aec7e8\",\"#d62728\",\"#9467bd\",\"#f7b6d2\",\"#2ca02c\",\"#bcbd22\",\"#ffbb78\",\"#2ca02c\",\"#2ca02c\",\"#aec7e8\",\"#1f77b4\",\"#d62728\",\"#1f77b4\",\"#ff9896\",\"#dbdb8d\",\"#f7b6d2\",\"#c5b0d5\",\"#aec7e8\",\"#9edae5\",\"#f7b6d2\",\"#bcbd22\",\"#ffbb78\",\"#c7c7c7\",\"#c49c94\",\"#c49c94\",\"#9467bd\",\"#bcbd22\",\"#aec7e8\",\"#f7b6d2\",\"#aec7e8\",\"#bcbd22\",\"#bcbd22\",\"#2ca02c\",\"#dbdb8d\",\"#f7b6d2\",\"#bcbd22\",\"#ff9896\",\"#bcbd22\",\"#c5b0d5\",\"#c5b0d5\",\"#ff7f0e\",\"#8c564b\",\"#bcbd22\",\"#9467bd\",\"#c5b0d5\",\"#98df8a\",\"#2ca02c\",\"#c49c94\",\"#aec7e8\",\"#d62728\",\"#bcbd22\",\"#f7b6d2\",\"#1f77b4\",\"#e377c2\",\"#f7b6d2\",\"#c49c94\",\"#17becf\",\"#c49c94\",\"#ff7f0e\",\"#aec7e8\",\"#aec7e8\",\"#8c564b\",\"#f7b6d2\",\"#d62728\",\"#bcbd22\",\"#bcbd22\",\"#f7b6d2\",\"#2ca02c\",\"#aec7e8\",\"#2ca02c\",\"#d62728\",\"#ffbb78\",\"#8c564b\",\"#8c564b\",\"#c49c94\",\"#c7c7c7\",\"#8c564b\",\"#17becf\",\"#aec7e8\",\"#9467bd\",\"#bcbd22\",\"#bcbd22\",\"#bcbd22\",\"#9467bd\",\"#ffbb78\",\"#2ca02c\",\"#c5b0d5\",\"#aec7e8\",\"#aec7e8\",\"#c5b0d5\",\"#8c564b\",\"#ff9896\",\"#ff7f0e\",\"#2ca02c\",\"#9edae5\",\"#ffbb78\",\"#2ca02c\",\"#f7b6d2\",\"#2ca02c\",\"#aec7e8\",\"#c7c7c7\",\"#c7c7c7\",\"#c49c94\",\"#c49c94\",\"#e377c2\",\"#aec7e8\",\"#f7b6d2\",\"#e377c2\",\"#bcbd22\",\"#ff9896\",\"#ff9896\",\"#98df8a\",\"#1f77b4\",\"#98df8a\",\"#98df8a\",\"#2ca02c\",\"#2ca02c\",\"#bcbd22\",\"#2ca02c\",\"#98df8a\",\"#c5b0d5\",\"#aec7e8\",\"#17becf\",\"#8c564b\",\"#e377c2\",\"#8c564b\",\"#bcbd22\",\"#8c564b\",\"#f7b6d2\",\"#8c564b\",\"#c5b0d5\",\"#bcbd22\",\"#98df8a\",\"#d62728\",\"#ff7f0e\",\"#1f77b4\",\"#ff7f0e\",\"#9467bd\",\"#bcbd22\",\"#2ca02c\",\"#d62728\",\"#aec7e8\",\"#17becf\",\"#2ca02c\",\"#d62728\",\"#d62728\",\"#f7b6d2\",\"#2ca02c\",\"#bcbd22\",\"#bcbd22\",\"#c5b0d5\",\"#aec7e8\",\"#ff9896\",\"#f7b6d2\",\"#e377c2\",\"#e377c2\",\"#2ca02c\",\"#aec7e8\",\"#aec7e8\",\"#1f77b4\",\"#ff9896\",\"#2ca02c\",\"#2ca02c\",\"#9467bd\",\"#c49c94\",\"#1f77b4\",\"#dbdb8d\",\"#2ca02c\",\"#bcbd22\",\"#f7b6d2\",\"#bcbd22\",\"#98df8a\",\"#2ca02c\",\"#2ca02c\",\"#c5b0d5\",\"#9467bd\",\"#ff9896\",\"#aec7e8\",\"#c5b0d5\",\"#9467bd\",\"#1f77b4\",\"#8c564b\",\"#17becf\",\"#d62728\",\"#f7b6d2\",\"#bcbd22\",\"#8c564b\",\"#d62728\",\"#c5b0d5\",\"#2ca02c\",\"#9467bd\",\"#ff9896\",\"#1f77b4\",\"#9edae5\",\"#ff9896\",\"#98df8a\",\"#98df8a\",\"#aec7e8\",\"#2ca02c\",\"#1f77b4\",\"#aec7e8\",\"#98df8a\",\"#98df8a\",\"#9edae5\",\"#9edae5\",\"#d62728\",\"#1f77b4\",\"#c5b0d5\",\"#aec7e8\",\"#aec7e8\",\"#bcbd22\",\"#aec7e8\",\"#d62728\",\"#aec7e8\",\"#c5b0d5\",\"#98df8a\",\"#ffbb78\",\"#c5b0d5\",\"#ff7f0e\",\"#d62728\",\"#d62728\",\"#aec7e8\",\"#aec7e8\",\"#f7b6d2\",\"#2ca02c\",\"#bcbd22\",\"#9467bd\",\"#e377c2\",\"#c49c94\",\"#d62728\",\"#ff7f0e\",\"#17becf\",\"#c5b0d5\",\"#17becf\",\"#8c564b\",\"#17becf\",\"#bcbd22\",\"#bcbd22\",\"#d62728\",\"#9467bd\",\"#c7c7c7\",\"#9467bd\",\"#9467bd\",\"#bcbd22\",\"#f7b6d2\",\"#2ca02c\",\"#aec7e8\",\"#bcbd22\",\"#2ca02c\",\"#1f77b4\",\"#aec7e8\",\"#dbdb8d\",\"#c5b0d5\",\"#2ca02c\",\"#c5b0d5\",\"#c5b0d5\",\"#9467bd\",\"#aec7e8\",\"#1f77b4\",\"#d62728\",\"#bcbd22\",\"#8c564b\",\"#2ca02c\",\"#dbdb8d\",\"#aec7e8\",\"#2ca02c\",\"#9edae5\",\"#9467bd\",\"#bcbd22\",\"#ff9896\",\"#aec7e8\",\"#ff7f0e\",\"#bcbd22\",\"#f7b6d2\",\"#d62728\",\"#bcbd22\",\"#aec7e8\",\"#e377c2\",\"#8c564b\",\"#c7c7c7\",\"#1f77b4\",\"#bcbd22\",\"#ff9896\",\"#d62728\",\"#aec7e8\",\"#bcbd22\",\"#9467bd\",\"#d62728\",\"#1f77b4\",\"#d62728\",\"#c5b0d5\",\"#e377c2\",\"#d62728\",\"#ff7f0e\",\"#9467bd\",\"#e377c2\",\"#1f77b4\",\"#17becf\",\"#c5b0d5\",\"#c5b0d5\",\"#9467bd\",\"#2ca02c\",\"#bcbd22\",\"#1f77b4\",\"#c7c7c7\",\"#c7c7c7\",\"#c7c7c7\",\"#c7c7c7\",\"#bcbd22\",\"#dbdb8d\",\"#f7b6d2\",\"#dbdb8d\",\"#ff9896\",\"#ffbb78\",\"#aec7e8\",\"#98df8a\",\"#1f77b4\",\"#2ca02c\",\"#ffbb78\",\"#2ca02c\",\"#1f77b4\",\"#aec7e8\",\"#9467bd\",\"#d62728\",\"#1f77b4\",\"#2ca02c\",\"#dbdb8d\",\"#1f77b4\",\"#bcbd22\",\"#2ca02c\",\"#c49c94\",\"#9467bd\",\"#aec7e8\",\"#c5b0d5\",\"#bcbd22\",\"#98df8a\",\"#98df8a\",\"#ffbb78\",\"#aec7e8\",\"#aec7e8\",\"#aec7e8\",\"#ff9896\",\"#f7b6d2\",\"#9467bd\",\"#1f77b4\",\"#aec7e8\",\"#e377c2\",\"#9467bd\",\"#9467bd\",\"#c49c94\",\"#c49c94\",\"#aec7e8\",\"#e377c2\",\"#c7c7c7\",\"#98df8a\",\"#c49c94\",\"#c5b0d5\",\"#c5b0d5\",\"#ff9896\",\"#c49c94\",\"#c7c7c7\",\"#8c564b\",\"#d62728\",\"#d62728\",\"#c49c94\",\"#ff9896\",\"#9467bd\",\"#ff9896\",\"#c7c7c7\",\"#2ca02c\",\"#c7c7c7\",\"#c5b0d5\",\"#f7b6d2\",\"#f7b6d2\",\"#ff9896\",\"#d62728\",\"#c7c7c7\",\"#d62728\",\"#8c564b\",\"#aec7e8\",\"#8c564b\",\"#9467bd\",\"#2ca02c\",\"#c5b0d5\",\"#1f77b4\",\"#2ca02c\",\"#9467bd\",\"#2ca02c\",\"#8c564b\",\"#1f77b4\",\"#f7b6d2\",\"#d62728\",\"#bcbd22\",\"#8c564b\",\"#aec7e8\",\"#2ca02c\",\"#2ca02c\",\"#aec7e8\",\"#d62728\",\"#2ca02c\",\"#1f77b4\",\"#2ca02c\",\"#ffbb78\",\"#98df8a\",\"#d62728\",\"#aec7e8\",\"#aec7e8\",\"#2ca02c\",\"#1f77b4\",\"#2ca02c\",\"#2ca02c\",\"#ffbb78\",\"#e377c2\",\"#f7b6d2\",\"#bcbd22\",\"#c5b0d5\",\"#aec7e8\",\"#1f77b4\",\"#1f77b4\",\"#8c564b\",\"#ffbb78\",\"#ffbb78\",\"#e377c2\",\"#aec7e8\",\"#9edae5\",\"#1f77b4\",\"#c5b0d5\",\"#9edae5\",\"#dbdb8d\",\"#dbdb8d\",\"#9edae5\",\"#2ca02c\",\"#aec7e8\",\"#d62728\",\"#bcbd22\",\"#c49c94\",\"#9edae5\",\"#dbdb8d\",\"#2ca02c\",\"#1f77b4\",\"#98df8a\",\"#2ca02c\",\"#f7b6d2\",\"#ffbb78\",\"#bcbd22\",\"#d62728\",\"#e377c2\",\"#9edae5\",\"#e377c2\",\"#c7c7c7\",\"#c7c7c7\",\"#e377c2\",\"#1f77b4\",\"#f7b6d2\",\"#2ca02c\",\"#8c564b\",\"#d62728\",\"#ff9896\",\"#c49c94\",\"#e377c2\",\"#e377c2\",\"#98df8a\",\"#c7c7c7\",\"#8c564b\",\"#1f77b4\",\"#c7c7c7\",\"#ff7f0e\",\"#bcbd22\",\"#f7b6d2\",\"#bcbd22\",\"#ff9896\",\"#17becf\",\"#c49c94\",\"#c7c7c7\",\"#8c564b\",\"#98df8a\",\"#bcbd22\",\"#d62728\",\"#2ca02c\",\"#aec7e8\",\"#9467bd\",\"#98df8a\",\"#e377c2\",\"#c7c7c7\",\"#aec7e8\",\"#e377c2\",\"#9467bd\",\"#e377c2\",\"#c49c94\",\"#f7b6d2\",\"#9467bd\",\"#8c564b\",\"#ffbb78\",\"#c7c7c7\",\"#9467bd\",\"#2ca02c\",\"#8c564b\",\"#ff7f0e\",\"#ff7f0e\",\"#17becf\",\"#c49c94\",\"#17becf\",\"#f7b6d2\",\"#c49c94\",\"#17becf\",\"#e377c2\",\"#e377c2\",\"#c7c7c7\",\"#c49c94\",\"#1f77b4\",\"#ffbb78\",\"#d62728\",\"#d62728\",\"#c7c7c7\",\"#e377c2\",\"#d62728\",\"#1f77b4\",\"#d62728\",\"#c7c7c7\",\"#dbdb8d\",\"#ff9896\",\"#dbdb8d\",\"#9467bd\",\"#f7b6d2\",\"#1f77b4\",\"#1f77b4\",\"#2ca02c\",\"#9edae5\",\"#8c564b\",\"#ffbb78\",\"#2ca02c\",\"#e377c2\",\"#9467bd\",\"#e377c2\",\"#e377c2\",\"#7f7f7f\",\"#7f7f7f\",\"#7f7f7f\",\"#e377c2\",\"#1f77b4\",\"#ffbb78\",\"#ffbb78\",\"#ff9896\",\"#ff9896\",\"#bcbd22\",\"#dbdb8d\",\"#ff9896\",\"#f7b6d2\",\"#ff9896\",\"#2ca02c\",\"#f7b6d2\",\"#8c564b\",\"#17becf\",\"#f7b6d2\",\"#ff9896\",\"#ff9896\",\"#bcbd22\",\"#ff7f0e\",\"#1f77b4\",\"#bcbd22\",\"#2ca02c\",\"#c5b0d5\",\"#c5b0d5\",\"#1f77b4\",\"#ff9896\",\"#c5b0d5\",\"#d62728\",\"#f7b6d2\",\"#98df8a\",\"#ff9896\",\"#ffbb78\",\"#1f77b4\",\"#c49c94\",\"#ff9896\",\"#aec7e8\",\"#e377c2\",\"#9467bd\",\"#d62728\",\"#c5b0d5\",\"#2ca02c\",\"#2ca02c\",\"#ffbb78\",\"#f7b6d2\",\"#aec7e8\",\"#1f77b4\",\"#f7b6d2\",\"#98df8a\",\"#ff9896\",\"#d62728\",\"#ff9896\",\"#c7c7c7\",\"#bcbd22\",\"#bcbd22\",\"#bcbd22\",\"#e377c2\",\"#bcbd22\",\"#ff9896\",\"#f7b6d2\",\"#c7c7c7\",\"#1f77b4\",\"#1f77b4\",\"#c5b0d5\",\"#2ca02c\",\"#2ca02c\",\"#d62728\",\"#aec7e8\",\"#f7b6d2\",\"#8c564b\",\"#8c564b\",\"#ff7f0e\",\"#ff9896\",\"#8c564b\",\"#ffbb78\",\"#d62728\",\"#f7b6d2\",\"#c7c7c7\",\"#ffbb78\",\"#98df8a\",\"#ff7f0e\",\"#c49c94\",\"#bcbd22\",\"#f7b6d2\",\"#98df8a\",\"#98df8a\",\"#e377c2\",\"#17becf\",\"#c7c7c7\",\"#c5b0d5\",\"#ffbb78\",\"#1f77b4\",\"#c5b0d5\",\"#c49c94\",\"#1f77b4\",\"#bcbd22\",\"#1f77b4\",\"#1f77b4\",\"#ffbb78\",\"#c7c7c7\",\"#8c564b\",\"#1f77b4\",\"#bcbd22\",\"#8c564b\",\"#d62728\",\"#9467bd\",\"#e377c2\",\"#d62728\",\"#aec7e8\",\"#d62728\",\"#8c564b\",\"#1f77b4\",\"#c7c7c7\",\"#ffbb78\",\"#d62728\",\"#ff7f0e\",\"#1f77b4\",\"#aec7e8\",\"#c49c94\",\"#2ca02c\",\"#8c564b\",\"#f7b6d2\",\"#c5b0d5\",\"#2ca02c\",\"#d62728\",\"#aec7e8\",\"#9467bd\",\"#dbdb8d\",\"#d62728\",\"#c5b0d5\",\"#1f77b4\",\"#e377c2\",\"#ff9896\",\"#c5b0d5\",\"#9467bd\",\"#aec7e8\",\"#2ca02c\",\"#d62728\",\"#c5b0d5\",\"#c49c94\",\"#ff7f0e\",\"#ff7f0e\",\"#ff7f0e\",\"#2ca02c\",\"#dbdb8d\",\"#ff7f0e\",\"#17becf\",\"#17becf\",\"#aec7e8\",\"#ff9896\",\"#c5b0d5\",\"#1f77b4\",\"#17becf\",\"#8c564b\",\"#17becf\",\"#2ca02c\",\"#9467bd\",\"#17becf\",\"#17becf\",\"#17becf\",\"#c49c94\",\"#c7c7c7\",\"#c7c7c7\",\"#c49c94\",\"#c5b0d5\",\"#1f77b4\",\"#17becf\",\"#ff7f0e\",\"#bcbd22\",\"#98df8a\",\"#17becf\",\"#17becf\",\"#8c564b\",\"#c7c7c7\",\"#d62728\",\"#c5b0d5\",\"#d62728\",\"#ff7f0e\",\"#c49c94\",\"#c7c7c7\",\"#ff9896\",\"#ff7f0e\",\"#8c564b\",\"#1f77b4\",\"#d62728\",\"#c7c7c7\",\"#9edae5\",\"#dbdb8d\",\"#1f77b4\",\"#1f77b4\",\"#ff9896\",\"#2ca02c\",\"#9edae5\",\"#c49c94\",\"#dbdb8d\",\"#dbdb8d\",\"#aec7e8\",\"#9467bd\",\"#9edae5\",\"#ff9896\",\"#dbdb8d\",\"#1f77b4\",\"#1f77b4\",\"#9edae5\",\"#ffbb78\",\"#2ca02c\",\"#e377c2\",\"#e377c2\",\"#ffbb78\",\"#1f77b4\",\"#1f77b4\",\"#e377c2\",\"#98df8a\",\"#7f7f7f\",\"#7f7f7f\",\"#e377c2\",\"#7f7f7f\",\"#1f77b4\",\"#9467bd\",\"#2ca02c\",\"#c5b0d5\",\"#f7b6d2\",\"#ffbb78\",\"#ffbb78\",\"#dbdb8d\",\"#ff9896\",\"#98df8a\",\"#aec7e8\",\"#1f77b4\",\"#bcbd22\",\"#e377c2\",\"#8c564b\",\"#1f77b4\",\"#2ca02c\",\"#9467bd\",\"#8c564b\",\"#c7c7c7\",\"#d62728\",\"#bcbd22\",\"#2ca02c\",\"#1f77b4\",\"#ffbb78\",\"#ffbb78\",\"#9edae5\",\"#ffbb78\",\"#ff9896\",\"#ff9896\",\"#ffbb78\",\"#aec7e8\",\"#dbdb8d\",\"#1f77b4\",\"#f7b6d2\",\"#ff9896\",\"#dbdb8d\",\"#9edae5\",\"#1f77b4\",\"#dbdb8d\",\"#c49c94\",\"#dbdb8d\",\"#c7c7c7\",\"#ff9896\",\"#1f77b4\",\"#2ca02c\",\"#2ca02c\",\"#1f77b4\",\"#9edae5\",\"#ffbb78\",\"#9edae5\",\"#dbdb8d\",\"#e377c2\",\"#e377c2\",\"#9edae5\",\"#98df8a\",\"#9edae5\",\"#c7c7c7\",\"#98df8a\",\"#bcbd22\",\"#9edae5\",\"#ff9896\",\"#9edae5\",\"#f7b6d2\",\"#f7b6d2\",\"#98df8a\",\"#ff9896\",\"#2ca02c\",\"#ff9896\",\"#f7b6d2\",\"#1f77b4\",\"#1f77b4\",\"#ffbb78\",\"#ffbb78\",\"#e377c2\",\"#f7b6d2\",\"#9467bd\",\"#c49c94\",\"#ffbb78\",\"#e377c2\",\"#d62728\",\"#1f77b4\",\"#17becf\",\"#ff9896\"],\"names\":[\".\",\"the\",\",\",\"to\",\"and\",\"a\",\"i\",\"of\",\"in\",\"you\",\"is\",\"it\",\"for\",\"that\",\"-\",\"have\",\"?\",\"with\",\"on\",\"\\\"\",\"are\",\"be\",\"this\",\"was\",\"we\",\"'s\",\"my\",\"!\",\"not\",\"at\",\"do\",\"they\",\"will\",\"(\",\")\",\"n't\",\"as\",\"if\",\"would\",\":\",\"good\",\"but\",\"from\",\"there\",\"or\",\"by\",\"great\",\"me\",\"an\",\"what\",\"he\",\"can\",\"your\",\"so\",\"like\",\"has\",\"best\",\"had\",\"up\",\"service\",\"just\",\"very\",\"all\",\"one\",\"know\",\"out\",\"no\",\"our\",\"get\",\"thanks\",\"go\",\"place\",\"them\",\"any\",\"could\",\"...\",\"time\",\"some\",\"his\",\"'m\",\"been\",\"which\",\"want\",\"food\",\"need\",\"/\",\"people\",\"were\",\"here\",\"new\",\"us\",\"now\",\"should\",\"please\",\"about\",\"$\",\"when\",\"who\",\"am\",\"well\",\"more\",\"s\",\"see\",\"how\",\"al\",\"these\",\"their\",\"did\",\"think\",\"does\",\"use\",\"two\",\";\",\"too\",\"really\",\"work\",\"'\",\"only\",\"call\",\"enron\",\"over\",\"also\",\"nice\",\"much\",\"even\",\"take\",\"after\",\"going\",\"back\",\"may\",\"her\",\"way\",\"'ve\",\"other\",\"many\",\"than\",\"make\",\"little\",\"few\",\"friendly\",\"today\",\"last\",\"email\",\"help\",\"better\",\"said\",\"sure\",\"group\",\"find\",\"give\",\"love\",\"into\",\"'ll\",\"area\",\"ever\",\"job\",\"then\",\"made\",\"look\",\"&\",\"free\",\"again\",\"quality\",\"google\",\"put\",\"most\",\"let\",\"bush\",\"still\",\"because\",\"day\",\"deal\",\"she\",\"recommend\",\"its\",\"war\",\"him\",\"where\",\"years\",\"qaeda\",\"got\",\"guys\",\"staff\",\"thank\",\"<\",\">\",\"e-mail\",\"anything\",\"since\",\"try\",\"year\",\"never\",\"looking\",\"--\",\"fallujah\",\"send\",\"anyone\",\"world\",\"why\",\"school\",\"around\",\"space\",\"buy\",\"always\",\"phone\",\"house\",\"pm\",\"highly\",\"------\",\"took\",\"amazing\",\"every\",\"off\",\"risk\",\"vince\",\"able\",\"713\",\"eat\",\"!!!\",\"system\",\"days\",\"before\",\"money\",\"come\",\"excellent\",\"someone\",\"ask\",\"fast\",\"number\",\"london\",\"those\",\"performance\",\"discussed\",\"price\",\"business\",\":)\",\"..\",\"nt\",\"restaurant\",\"end\",\"site\",\"'re\",\"something\",\"bad\",\"news\",\"president\",\"such\",\"through\",\"while\",\"times\",\"high\",\"company\",\"groups\",\"project\",\"between\",\"islamic\",\"told\",\"working\",\"down\",\"list\",\"first\",\"01-feb-02\",\"awesome\",\"*\",\"**\",\"chicago\",\"post\",\"away\",\"john\",\"done\",\"government\",\"local\",\"5\",\"opinion\",\"1\",\"%\",\"using\",\"called\",\"say\",\"though\",\"10\",\"white\",\"went\",\"dinner\",\"credit\",\"david\",\"pay\",\"getting\",\"services\",\"wanted\",\"dow\",\"green\",\"everything\",\"p\",\"professional\",\"nasa\",\"helpful\",\"camera\",\"search\",\"might\",\"found\",\"makes\",\"next\",\"store\",\"however\",\"looks\",\"pretty\",\"without\",\"being\",\"ca\",\"seem\",\"city\",\"against\",\"american\",\"stay\",\"d\",\"joined\",\"part\",\"weeks\",\"ago\",\"needs\",\"support\",\"under\",\"already\",\"message\",\"e17\",\"must\",\"iraq\",\"form\",\"thought\",\"tried\",\"yes\",\"february\",\"used\",\"making\",\"old\",\"fax\",\"action\",\"week\",\"attached\",\"web\",\"questions\",\"firm\",\"shop\",\"man\",\"clean\",\"lot\",\"deals\",\"wonderful\",\"hidden\",\"different\",\"read\",\"join\",\"believe\",\"sunni\",\"country\",\"2\",\"24\",\"until\",\"same\",\"issue\",\"another\",\"21\",\"20\",\"bin\",\"laden\",\"experience\",\"order\",\"street\",\"came\",\"team\",\"doing\",\"left\",\"fine\",\"game\",\"below\",\"#\",\"draft\",\"car\",\"gas\",\"kind\",\"friends\",\"started\",\"top\",\"quick\",\"name\",\"happy\",\"page\",\"friend\",\"nook\",\"art\",\"moon\",\"burger\",\"ice\",\"cream\",\"customer\",\"fresh\",\"else\",\"thing\",\"course\",\"pictures\",\"....\",\"online\",\"information\",\"stuff\",\"forward\",\"far\",\"start\",\"certainly\",\"power\",\"rather\",\"behind\",\"police\",\"town\",\"long\",\"along\",\"section\",\"bbc\",\"later\",\"possible\",\"sounds\",\"enough\",\"market\",\"each\",\"terrorist\",\"set\",\"among\",\"muslim\",\"check\",\"probably\",\"key\",\"four\",\"air\",\"things\",\"wait\",\"girl\",\"wo\",\"month\",\"mike\",\"management\",\"hi\",\"interested\",\"wondering\",\"issues\",\"life\",\"sent\",\"feel\",\"address\",\"big\",\"results\",\"extremely\",\"room\",\"mark\",\"fun\",\"systems\",\"posted\",\"winston\",\"pleased\",\"restaurants\",\"places\",\"busy\",\"computer\",\"family\",\"nothing\",\"care\",\"rude\",\"terrible\",\"[\",\"]\",\"actually\",\"operation\",\"hand\",\"nuclear\",\"united\",\"general\",\"friday\",\"3\",\"term\",\"once\",\"according\",\"medical\",\"idea\",\"scheduled\",\"media\",\"word\",\"whether\",\"involved\",\"iraqi\",\"question\",\"remember\",\"several\",\"mississauga\",\"travel\",\"early\",\"small\",\"obviously\",\"september\",\"11\",\"clinton\",\"fall\",\"night\",\"weekend\",\"capital\",\"hope\",\"daily\",\"suggestions\",\"morning\",\"sara\",\"copy\",\"telephone\",\"20.000\",\"hpl\",\"home\",\"debra\",\"perlingiere\",\"december\",\"mmbtu\",\"bar\",\"location\",\"indian\",\"ppa\",\".?\",\"guaranty\",\"couple\",\"book\",\"k\",\"delhi\",\"network\",\"chinese\",\"wei\",\"often\",\"tragedy\",\"highway\",\"slow\",\"right\",\"irish\",\"dog\",\"mad\",\"style\",\"prices\",\"worst\",\"employees\",\"microsoft\",\"own\",\"across\",\"yet\",\"important\",\"article\",\"besides\",\"account\",\"worried\",\"hands\",\"cool\",\"says\",\"energy\",\"three\",\"either\",\"become\",\"received\",\"enjoyed\",\"due\",\"respect\",\"parts\",\"filed\",\"b\",\"whole\",\"finished\",\"hour\",\"short\",\"fact\",\"taken\",\"within\",\"bill\",\"foundation\",\"move\",\"mean\",\"point\",\"soon\",\"reason\",\"change\",\"worth\",\"added\",\"statement\",\"wife\",\"starting\",\"hezbollah\",\"process\",\"light\",\"abdul\",\"attack\",\"forces\",\"radical\",\"seen\",\"during\",\"sound\",\"everyone\",\"monotheism\",\"holy\",\"afghanistan\",\"especially\",\"case\",\"6\",\"known\",\"coming\",\"administration\",\"wrong\",\"real\",\"worked\",\"pakistani\",\"king\",\"yeah\",\"bet\",\"houston\",\"regarding\",\"trying\",\"class\",\"ticket\",\"play\",\"currently\",\"facsimile\",\"michael\",\"elizabeth\",\"per\",\"sorry\",\"wholesale\",\"regards\",\"ok\",\"weather\",\"mind\",\"extra\",\"'d\",\"global\",\"cafeteria\",\"janette\",\"elbertson\",\"offer\",\"4\",\"wish\",\"plenty\",\"longer\",\"close\",\"paper\",\"16\",\"sheridan\",\"01/24/2001\",\"gave\",\"darrell\",\"mail\",\"dr.\",\"kam\",\"needed\",\"data\",\"estate\",\"visit\",\"it's\",\"website\",\"children\",\"private\",\"launch\",\"shuttle\",\"expensive\",\"lol\",\"chain\",\"stick\",\"nz\",\"cheap\",\"san\",\"francisco\",\"vet\",\"canon\",\"reasonable\",\"recommended\",\"easy\",\"fantastic\",\"tmobile\",\"mary\",\"heard\",\"view\",\"shows\",\"compare\",\"military\",\"states\",\"security\",\"connection\",\"wants\",\"americans\",\"calling\",\"special\",\"saddam\",\"share\",\"court\",\"level\",\"kennedy\",\"pages\",\"paul\",\"vi\",\"souter\",\"ginsburg\",\"breyer\",\"ii\",\"agree\",\"washington\",\"report\",\"state\",\"political\",\"seems\",\"un\",\"union\",\"keeping\",\"international\",\"given\",\"giving\",\"rate\",\"gifts\",\"hard\",\"charity\",\"major\",\"knows\",\"research\",\"means\",\"gone\",\"having\",\"spot\",\"inside\",\"legitimate\",\"party\",\"north\",\"simple\",\"pull\",\"january\",\"opposed\",\"u.s.\",\"plot\",\"wycombe\",\"canada\",\"months\",\"toronto\",\"internet\",\"true\",\"upper\",\"modern\",\"original\",\"met\",\"stop\",\"2001\",\"threat\",\"chance\",\"40\",\"plan\",\"playing\",\"based\",\"refer\",\"whatever\",\"thinking\",\"talking\",\"texas\",\"hopefully\",\"planning\",\"waiting\",\"hello\",\"ideas\",\"details\",\"lay\",\"events\",\"additional\",\"ride\",\"games\",\"hoping\",\"purchase\",\"fixed\",\"model\",\"economic\",\"inc.\",\"asked\",\"comes\",\"pass\",\"advise\",\"discuss\",\"+\",\"cell\",\"@\",\"understand\",\"leave\",\"2000\",\"12\",\"owner\",\"lunch\",\"comets\",\"center\",\"tuesday\",\"matters\",\"hunting\",\"ews\",\"legal\",\"maybe\",\"changes\",\"correct\",\"memo\",\"!!!!!!\",\"revised\",\"values\",\"felt\",\"delivery\",\"person\",\"id\",\"usa\",\"healthy\",\"open\",\"touch\",\"traders\",\"favor\",\"guaranty.doc\",\"meeting\",\"looked\",\"design\",\"problem\",\"run\",\"dpr\",\"live\",\"financial\",\"taking\",\"above\",\"animals\",\"music\",\"date\",\"link\",\"arrested\",\"quite\",\"water\",\"future\",\"santiago\",\"china\",\"table\",\"servers\",\"club\",\"together\",\"boy\",\"door\",\"space.com\",\"lunar\",\"earth\",\"flight\",\"both\",\"rockets\",\"rocket\",\"coffee\",\"tea\",\"argentina\",\"ireland\",\"red\",\"prefer\",\"shrimp\",\"cost\",\"meal\",\"least\",\"websites\",\"fish\",\"bacon\",\"breakfast\",\"ve\",\"okay\",\"fixing\",\"pos\",\"side\",\"charge\",\"taste\",\"compact\",\"absolutely\",\"200\",\"ounces\",\"cheapest\",\"kodak\",\"pause\",\"recording\",\"statues\",\"enjoy\",\"tank\",\"!!\",\"wow\",\"thai\",\"engine\",\"stock\",\"doubt\",\"show\",\"sin\",\"iranian\",\"suspect\",\"proof\",\"willing\",\"nations\",\"frequently\",\"slogans\",\"falluja\",\"fire\",\"troops\",\"saturday\",\"reuters\",\"clerics\",\"leaders\",\"soldiers\",\"remain\",\"treatment\",\"shiites\",\"rumsfeld\",\"divided\",\"d.c.\",\"anthony\",\"decision\",\"actual\",\"vote\",\"iii\",\"v\",\"scalia\",\"dissenting\",\"thomas\",\"alito\",\"marriage\",\"update\",\"upon\",\"front\",\"quickly\",\"secretary\",\"annan\",\"darfur\",\"african\",\"300\",\"half\",\"situation\",\"basically\",\"melinda\",\"value\",\"assume\",\"grow\",\"notes\",\"shares\",\"overpriced\",\"guy\",\"happens\",\"mainly\",\"otherwise\",\"saying\",\"prime\",\"syria\",\"indicated\",\"participate\",\"elections\",\"agreed\",\"despite\",\"terrorism\",\"avoid\",\"bring\",\"organization\",\"force\",\"arabs\",\"raises\",\"iraqis\",\"ams\",\"assault\",\"lest\",\"movement\",\"direct\",\"men\",\"whom\",\"views\",\"militant\",\"thursday\",\"islam\",\"terrorists\",\"dick\",\"harry\",\"hussain\",\"22\",\"ali\",\"confused\",\"19\",\"folks\",\"jihad\",\"development\",\"zarqawi\",\"allowed\",\"sign\",\"million\",\"members\",\"none\",\"responsible\",\"effort\",\"fair\",\"answer\",\"office\",\"wolfowitz\",\"richard\",\"instead\",\"links\",\"??\",\"pentagon\",\"bob\",\"eye\",\"neither\",\"lots\",\"cooperation\"],\"x1\":{\"__ndarray__\":\"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\",\"dtype\":\"float32\",\"shape\":[1000]},\"x2\":{\"__ndarray__\":\"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\",\"dtype\":\"float32\",\"shape\":[1000]}}},\"id\":\"e17923ba-a3a6-4de0-b517-2435a723d89c\",\"type\":\"ColumnDataSource\"},{\"attributes\":{\"source\":{\"id\":\"e17923ba-a3a6-4de0-b517-2435a723d89c\",\"type\":\"ColumnDataSource\"}},\"id\":\"0dc5be97-eb52-4bb9-8b92-a400594d8187\",\"type\":\"CDSView\"},{\"attributes\":{\"active_drag\":\"auto\",\"active_inspect\":\"auto\",\"active_scroll\":\"auto\",\"active_tap\":\"auto\",\"tools\":[{\"id\":\"97d2e92a-5686-421f-8799-1a1d68a741c7\",\"type\":\"PanTool\"},{\"id\":\"3421cf08-fb6b-4ce2-bdf6-22bf7d318622\",\"type\":\"WheelZoomTool\"},{\"id\":\"4682ae21-5020-44dc-bd80-9757bd34f0c2\",\"type\":\"ResetTool\"},{\"id\":\"74f354d1-3404-4b56-8b65-4fbf4ef0c337\",\"type\":\"SaveTool\"}]},\"id\":\"2dad4863-49a2-4ffa-ac62-61869b9aa340\",\"type\":\"Toolbar\"},{\"attributes\":{\"plot\":null,\"text\":\"T-SNE for most common words\"},\"id\":\"8a4b3596-9352-46c2-b0ce-3642ef1d5d5a\",\"type\":\"Title\"},{\"attributes\":{},\"id\":\"74f354d1-3404-4b56-8b65-4fbf4ef0c337\",\"type\":\"SaveTool\"},{\"attributes\":{\"fill_color\":{\"field\":\"colors\"},\"line_color\":{\"field\":\"colors\"},\"size\":{\"units\":\"screen\",\"value\":8},\"x\":{\"field\":\"x1\"},\"y\":{\"field\":\"x2\"}},\"id\":\"b295abff-9165-435d-a542-3147f4c710bb\",\"type\":\"Circle\"},{\"attributes\":{\"plot\":{\"id\":\"a2d20393-0c57-47e0-b831-8b71dbebc927\",\"subtype\":\"Figure\",\"type\":\"Plot\"},\"source\":{\"id\":\"e17923ba-a3a6-4de0-b517-2435a723d89c\",\"type\":\"ColumnDataSource\"},\"text\":{\"field\":\"names\"},\"text_align\":\"center\",\"text_color\":{\"value\":\"#555555\"},\"text_font_size\":{\"value\":\"8pt\"},\"x\":{\"field\":\"x1\"},\"y\":{\"field\":\"x2\"},\"y_offset\":{\"value\":6}},\"id\":\"cb29b6db-0996-415e-8ef5-ef7787bd1fa8\",\"type\":\"LabelSet\"},{\"attributes\":{\"data_source\":{\"id\":\"e17923ba-a3a6-4de0-b517-2435a723d89c\",\"type\":\"ColumnDataSource\"},\"glyph\":{\"id\":\"b295abff-9165-435d-a542-3147f4c710bb\",\"type\":\"Circle\"},\"hover_glyph\":null,\"muted_glyph\":null,\"nonselection_glyph\":{\"id\":\"6f882e82-1f47-422e-9f21-8506af65dec6\",\"type\":\"Circle\"},\"selection_glyph\":null,\"view\":{\"id\":\"0dc5be97-eb52-4bb9-8b92-a400594d8187\",\"type\":\"CDSView\"}},\"id\":\"fa099c30-efd7-4c49-8dbb-4d14dc1bc89a\",\"type\":\"GlyphRenderer\"},{\"attributes\":{},\"id\":\"4682ae21-5020-44dc-bd80-9757bd34f0c2\",\"type\":\"ResetTool\"},{\"attributes\":{\"fill_alpha\":{\"value\":0.1},\"fill_color\":{\"value\":\"#1f77b4\"},\"line_alpha\":{\"value\":0.1},\"line_color\":{\"value\":\"#1f77b4\"},\"size\":{\"units\":\"screen\",\"value\":8},\"x\":{\"field\":\"x1\"},\"y\":{\"field\":\"x2\"}},\"id\":\"6f882e82-1f47-422e-9f21-8506af65dec6\",\"type\":\"Circle\"},{\"attributes\":{},\"id\":\"c187d1c7-860d-4501-bb12-cefbbd22087b\",\"type\":\"BasicTicker\"},{\"attributes\":{},\"id\":\"97d2e92a-5686-421f-8799-1a1d68a741c7\",\"type\":\"PanTool\"},{\"attributes\":{},\"id\":\"30e5a584-ee2e-4d00-a9a2-ca1d489ea77f\",\"type\":\"BasicTicker\"},{\"attributes\":{\"plot\":{\"id\":\"a2d20393-0c57-47e0-b831-8b71dbebc927\",\"subtype\":\"Figure\",\"type\":\"Plot\"},\"ticker\":{\"id\":\"30e5a584-ee2e-4d00-a9a2-ca1d489ea77f\",\"type\":\"BasicTicker\"}},\"id\":\"86bc9ede-df88-48b4-bbbd-8427bc6edb13\",\"type\":\"Grid\"},{\"attributes\":{\"formatter\":{\"id\":\"6bf6f1ec-7c75-4816-b34b-a337c67be598\",\"type\":\"BasicTickFormatter\"},\"plot\":{\"id\":\"a2d20393-0c57-47e0-b831-8b71dbebc927\",\"subtype\":\"Figure\",\"type\":\"Plot\"},\"ticker\":{\"id\":\"30e5a584-ee2e-4d00-a9a2-ca1d489ea77f\",\"type\":\"BasicTicker\"}},\"id\":\"b648a333-0a04-41c8-b97b-d255521d51aa\",\"type\":\"LinearAxis\"},{\"attributes\":{\"callback\":null},\"id\":\"7fe0069c-684a-4d1d-b667-cdbcf0015134\",\"type\":\"DataRange1d\"},{\"attributes\":{\"below\":[{\"id\":\"b648a333-0a04-41c8-b97b-d255521d51aa\",\"type\":\"LinearAxis\"}],\"left\":[{\"id\":\"da490a57-0697-4960-9e37-e1958ac99c3c\",\"type\":\"LinearAxis\"}],\"renderers\":[{\"id\":\"b648a333-0a04-41c8-b97b-d255521d51aa\",\"type\":\"LinearAxis\"},{\"id\":\"86bc9ede-df88-48b4-bbbd-8427bc6edb13\",\"type\":\"Grid\"},{\"id\":\"da490a57-0697-4960-9e37-e1958ac99c3c\",\"type\":\"LinearAxis\"},{\"id\":\"b61d089f-82d8-45c9-99d1-545a93ec1ad8\",\"type\":\"Grid\"},{\"id\":\"fa099c30-efd7-4c49-8dbb-4d14dc1bc89a\",\"type\":\"GlyphRenderer\"},{\"id\":\"cb29b6db-0996-415e-8ef5-ef7787bd1fa8\",\"type\":\"LabelSet\"}],\"title\":{\"id\":\"8a4b3596-9352-46c2-b0ce-3642ef1d5d5a\",\"type\":\"Title\"},\"toolbar\":{\"id\":\"2dad4863-49a2-4ffa-ac62-61869b9aa340\",\"type\":\"Toolbar\"},\"toolbar_location\":\"above\",\"x_range\":{\"id\":\"eafc733c-33e1-4227-a5ad-2045a1a00b30\",\"type\":\"DataRange1d\"},\"x_scale\":{\"id\":\"5afd2d8b-51b2-42ed-a89f-27c969ca9526\",\"type\":\"LinearScale\"},\"y_range\":{\"id\":\"7fe0069c-684a-4d1d-b667-cdbcf0015134\",\"type\":\"DataRange1d\"},\"y_scale\":{\"id\":\"a5a7e90a-61b6-455a-a361-2bfa15d058de\",\"type\":\"LinearScale\"}},\"id\":\"a2d20393-0c57-47e0-b831-8b71dbebc927\",\"subtype\":\"Figure\",\"type\":\"Plot\"},{\"attributes\":{},\"id\":\"a5a7e90a-61b6-455a-a361-2bfa15d058de\",\"type\":\"LinearScale\"}],\"root_ids\":[\"a2d20393-0c57-47e0-b831-8b71dbebc927\"]},\"title\":\"Bokeh Application\",\"version\":\"0.12.10\"}};\n",
       "    var render_items = [{\"docid\":\"3e03f757-a77b-4bdf-83d3-3862a3390c22\",\"elementid\":\"7de76a83-4390-41a2-a8a5-6d139a0f7c78\",\"modelid\":\"a2d20393-0c57-47e0-b831-8b71dbebc927\"}];\n",
       "\n",
       "    root.Bokeh.embed.embed_items(docs_json, render_items);\n",
       "  }\n",
       "\n",
       "  if (root.Bokeh !== undefined) {\n",
       "    embed_document(root);\n",
       "  } else {\n",
       "    var attempts = 0;\n",
       "    var timer = setInterval(function(root) {\n",
       "      if (root.Bokeh !== undefined) {\n",
       "        embed_document(root);\n",
       "        clearInterval(timer);\n",
       "      }\n",
       "      attempts++;\n",
       "      if (attempts > 100) {\n",
       "        console.log(\"Bokeh: ERROR: Unable to embed document because BokehJS library is missing\")\n",
       "        clearInterval(timer);\n",
       "      }\n",
       "    }, 10, root)\n",
       "  }\n",
       "})(window);"
      ],
      "application/vnd.bokehjs_exec.v0+json": ""
     },
     "metadata": {
      "application/vnd.bokehjs_exec.v0+json": {
       "id": "a2d20393-0c57-47e0-b831-8b71dbebc927"
      }
     },
     "output_type": "display_data"
    }
   ],
   "source": [
    "word_vector = []\n",
    "word_list = []\n",
    "for word, count in word_counts_train.most_common(1000):\n",
    "    word_list.append(word)\n",
    "    word_vector.append(pre_trained_word_model[word])\n",
    "emb_scatter(word_vector, word_list, N=20)"
   ]
  },
  {
   "cell_type": "code",
   "execution_count": 110,
   "metadata": {},
   "outputs": [
    {
     "name": "stdout",
     "output_type": "stream",
     "text": [
      "finding clusters\n",
      "fitting tsne\n"
     ]
    },
    {
     "data": {
      "text/html": [
       "\n",
       "<div class=\"bk-root\">\n",
       "    <div class=\"bk-plotdiv\" id=\"4e321190-193a-45ed-bd27-353495110cc7\"></div>\n",
       "</div>"
      ]
     },
     "metadata": {},
     "output_type": "display_data"
    },
    {
     "data": {
      "application/javascript": [
       "(function(root) {\n",
       "  function embed_document(root) {\n",
       "    var docs_json = {\"0d26a51a-71fe-44b7-af0c-56829a179500\":{\"roots\":{\"references\":[{\"attributes\":{\"formatter\":{\"id\":\"c87c8231-c7ea-4e29-b387-a176fd16e49e\",\"type\":\"BasicTickFormatter\"},\"plot\":{\"id\":\"920f31c3-b080-4181-beaa-2f32255bce2a\",\"subtype\":\"Figure\",\"type\":\"Plot\"},\"ticker\":{\"id\":\"3becd33c-4253-4aac-afe8-d388218c16af\",\"type\":\"BasicTicker\"}},\"id\":\"f9735def-61db-4903-9754-1f81013108cb\",\"type\":\"LinearAxis\"},{\"attributes\":{},\"id\":\"f14b0e84-2e38-4719-bdbd-18491757d8cf\",\"type\":\"LinearScale\"},{\"attributes\":{},\"id\":\"3becd33c-4253-4aac-afe8-d388218c16af\",\"type\":\"BasicTicker\"},{\"attributes\":{\"plot\":{\"id\":\"920f31c3-b080-4181-beaa-2f32255bce2a\",\"subtype\":\"Figure\",\"type\":\"Plot\"},\"ticker\":{\"id\":\"07778ad4-0e3b-466e-8448-fb655bd40b7a\",\"type\":\"BasicTicker\"}},\"id\":\"4759327a-5da4-41ba-b59c-629fe5164681\",\"type\":\"Grid\"},{\"attributes\":{\"dimension\":1,\"plot\":{\"id\":\"920f31c3-b080-4181-beaa-2f32255bce2a\",\"subtype\":\"Figure\",\"type\":\"Plot\"},\"ticker\":{\"id\":\"3becd33c-4253-4aac-afe8-d388218c16af\",\"type\":\"BasicTicker\"}},\"id\":\"04d04b59-7aeb-4f96-a242-5221efa0effe\",\"type\":\"Grid\"},{\"attributes\":{\"plot\":null,\"text\":\"T-SNE for most common words\"},\"id\":\"549327dd-0ac4-4271-aa53-9c36b5c809e4\",\"type\":\"Title\"},{\"attributes\":{\"fill_color\":{\"field\":\"colors\"},\"line_color\":{\"field\":\"colors\"},\"size\":{\"units\":\"screen\",\"value\":8},\"x\":{\"field\":\"x1\"},\"y\":{\"field\":\"x2\"}},\"id\":\"e44326e2-7795-4ddc-8981-df36191b1438\",\"type\":\"Circle\"},{\"attributes\":{},\"id\":\"9f09a9c1-f4a1-4072-a489-636134ef4642\",\"type\":\"PanTool\"},{\"attributes\":{\"source\":{\"id\":\"ad0532d5-a42f-402a-ae43-1851b5eafd14\",\"type\":\"ColumnDataSource\"}},\"id\":\"056b0a6b-31a1-464c-8903-50395910adb8\",\"type\":\"CDSView\"},{\"attributes\":{\"callback\":null,\"column_names\":[\"x1\",\"x2\",\"names\",\"colors\"],\"data\":{\"colors\":[\"#8c564b\",\"#98df8a\",\"#c5b0d5\",\"#c7c7c7\",\"#ffbb78\",\"#ff9896\",\"#1f77b4\",\"#c49c94\",\"#9467bd\",\"#bcbd22\",\"#7f7f7f\",\"#ff7f0e\",\"#d62728\",\"#f7b6d2\",\"#aec7e8\",\"#e377c2\",\"#2ca02c\"],\"names\":[\"noun\",\"punct\",\"verb\",\"pron\",\"propn\",\"adp\",\"det\",\"adj\",\"aux\",\"adv\",\"cconj\",\"part\",\"num\",\"sconj\",\"x\",\"intj\",\"sym\"],\"x1\":{\"__ndarray__\":\"V3ctQ+Hao0IIT+NC0stDwtdFqMFoomtBaQ+NQqQiqMJFQAvDwXWaQgroJ0OB8hDC0chWQ8nTQsLbnDfDhZhJQhqfDcM=\",\"dtype\":\"float32\",\"shape\":[17]},\"x2\":{\"__ndarray__\":\"8K0BQ10mMMNp0vI/UxlTQyEU4UJTEIpBGepGQ7aCB0I+If9CGGG7QjmYusJwASXDqjigQafyacIk1A9B1L2awviGzMI=\",\"dtype\":\"float32\",\"shape\":[17]}}},\"id\":\"ad0532d5-a42f-402a-ae43-1851b5eafd14\",\"type\":\"ColumnDataSource\"},{\"attributes\":{\"callback\":null},\"id\":\"c878b18d-63b4-4049-8d96-b1555077a4f5\",\"type\":\"DataRange1d\"},{\"attributes\":{},\"id\":\"187e3e5c-f820-404c-8316-bca6efe7e19d\",\"type\":\"WheelZoomTool\"},{\"attributes\":{},\"id\":\"43b51577-e102-4271-8a34-2d253c6c62ce\",\"type\":\"ResetTool\"},{\"attributes\":{},\"id\":\"03fc3d20-0dc6-4f69-9fe6-48bf119e7057\",\"type\":\"SaveTool\"},{\"attributes\":{\"formatter\":{\"id\":\"6f6a268e-2769-4e29-961b-4f2633ced849\",\"type\":\"BasicTickFormatter\"},\"plot\":{\"id\":\"920f31c3-b080-4181-beaa-2f32255bce2a\",\"subtype\":\"Figure\",\"type\":\"Plot\"},\"ticker\":{\"id\":\"07778ad4-0e3b-466e-8448-fb655bd40b7a\",\"type\":\"BasicTicker\"}},\"id\":\"4df410e6-8df2-4ce5-96b1-025c1bd98b6c\",\"type\":\"LinearAxis\"},{\"attributes\":{\"below\":[{\"id\":\"4df410e6-8df2-4ce5-96b1-025c1bd98b6c\",\"type\":\"LinearAxis\"}],\"left\":[{\"id\":\"f9735def-61db-4903-9754-1f81013108cb\",\"type\":\"LinearAxis\"}],\"renderers\":[{\"id\":\"4df410e6-8df2-4ce5-96b1-025c1bd98b6c\",\"type\":\"LinearAxis\"},{\"id\":\"4759327a-5da4-41ba-b59c-629fe5164681\",\"type\":\"Grid\"},{\"id\":\"f9735def-61db-4903-9754-1f81013108cb\",\"type\":\"LinearAxis\"},{\"id\":\"04d04b59-7aeb-4f96-a242-5221efa0effe\",\"type\":\"Grid\"},{\"id\":\"ddcede7d-cd9e-4d3f-9266-31e8d15abc0b\",\"type\":\"GlyphRenderer\"},{\"id\":\"99bda7b1-c3dc-4b3c-8293-3feb1404ad3f\",\"type\":\"LabelSet\"}],\"title\":{\"id\":\"549327dd-0ac4-4271-aa53-9c36b5c809e4\",\"type\":\"Title\"},\"toolbar\":{\"id\":\"ae4a881c-7f3e-4687-8f42-b57e9fbd1f0f\",\"type\":\"Toolbar\"},\"toolbar_location\":\"above\",\"x_range\":{\"id\":\"aceee1d0-5c10-4454-89ff-f61858490aa8\",\"type\":\"DataRange1d\"},\"x_scale\":{\"id\":\"e65faa75-37a8-4154-9da2-ab4e31351a88\",\"type\":\"LinearScale\"},\"y_range\":{\"id\":\"c878b18d-63b4-4049-8d96-b1555077a4f5\",\"type\":\"DataRange1d\"},\"y_scale\":{\"id\":\"f14b0e84-2e38-4719-bdbd-18491757d8cf\",\"type\":\"LinearScale\"}},\"id\":\"920f31c3-b080-4181-beaa-2f32255bce2a\",\"subtype\":\"Figure\",\"type\":\"Plot\"},{\"attributes\":{\"data_source\":{\"id\":\"ad0532d5-a42f-402a-ae43-1851b5eafd14\",\"type\":\"ColumnDataSource\"},\"glyph\":{\"id\":\"e44326e2-7795-4ddc-8981-df36191b1438\",\"type\":\"Circle\"},\"hover_glyph\":null,\"muted_glyph\":null,\"nonselection_glyph\":{\"id\":\"db0d747d-89d1-44c6-988d-029487e21fea\",\"type\":\"Circle\"},\"selection_glyph\":null,\"view\":{\"id\":\"056b0a6b-31a1-464c-8903-50395910adb8\",\"type\":\"CDSView\"}},\"id\":\"ddcede7d-cd9e-4d3f-9266-31e8d15abc0b\",\"type\":\"GlyphRenderer\"},{\"attributes\":{\"fill_alpha\":{\"value\":0.1},\"fill_color\":{\"value\":\"#1f77b4\"},\"line_alpha\":{\"value\":0.1},\"line_color\":{\"value\":\"#1f77b4\"},\"size\":{\"units\":\"screen\",\"value\":8},\"x\":{\"field\":\"x1\"},\"y\":{\"field\":\"x2\"}},\"id\":\"db0d747d-89d1-44c6-988d-029487e21fea\",\"type\":\"Circle\"},{\"attributes\":{},\"id\":\"6f6a268e-2769-4e29-961b-4f2633ced849\",\"type\":\"BasicTickFormatter\"},{\"attributes\":{\"active_drag\":\"auto\",\"active_inspect\":\"auto\",\"active_scroll\":\"auto\",\"active_tap\":\"auto\",\"tools\":[{\"id\":\"9f09a9c1-f4a1-4072-a489-636134ef4642\",\"type\":\"PanTool\"},{\"id\":\"187e3e5c-f820-404c-8316-bca6efe7e19d\",\"type\":\"WheelZoomTool\"},{\"id\":\"43b51577-e102-4271-8a34-2d253c6c62ce\",\"type\":\"ResetTool\"},{\"id\":\"03fc3d20-0dc6-4f69-9fe6-48bf119e7057\",\"type\":\"SaveTool\"}]},\"id\":\"ae4a881c-7f3e-4687-8f42-b57e9fbd1f0f\",\"type\":\"Toolbar\"},{\"attributes\":{},\"id\":\"c87c8231-c7ea-4e29-b387-a176fd16e49e\",\"type\":\"BasicTickFormatter\"},{\"attributes\":{\"callback\":null},\"id\":\"aceee1d0-5c10-4454-89ff-f61858490aa8\",\"type\":\"DataRange1d\"},{\"attributes\":{},\"id\":\"e65faa75-37a8-4154-9da2-ab4e31351a88\",\"type\":\"LinearScale\"},{\"attributes\":{\"plot\":{\"id\":\"920f31c3-b080-4181-beaa-2f32255bce2a\",\"subtype\":\"Figure\",\"type\":\"Plot\"},\"source\":{\"id\":\"ad0532d5-a42f-402a-ae43-1851b5eafd14\",\"type\":\"ColumnDataSource\"},\"text\":{\"field\":\"names\"},\"text_align\":\"center\",\"text_color\":{\"value\":\"#555555\"},\"text_font_size\":{\"value\":\"8pt\"},\"x\":{\"field\":\"x1\"},\"y\":{\"field\":\"x2\"},\"y_offset\":{\"value\":6}},\"id\":\"99bda7b1-c3dc-4b3c-8293-3feb1404ad3f\",\"type\":\"LabelSet\"},{\"attributes\":{},\"id\":\"07778ad4-0e3b-466e-8448-fb655bd40b7a\",\"type\":\"BasicTicker\"}],\"root_ids\":[\"920f31c3-b080-4181-beaa-2f32255bce2a\"]},\"title\":\"Bokeh Application\",\"version\":\"0.12.10\"}};\n",
       "    var render_items = [{\"docid\":\"0d26a51a-71fe-44b7-af0c-56829a179500\",\"elementid\":\"4e321190-193a-45ed-bd27-353495110cc7\",\"modelid\":\"920f31c3-b080-4181-beaa-2f32255bce2a\"}];\n",
       "\n",
       "    root.Bokeh.embed.embed_items(docs_json, render_items);\n",
       "  }\n",
       "\n",
       "  if (root.Bokeh !== undefined) {\n",
       "    embed_document(root);\n",
       "  } else {\n",
       "    var attempts = 0;\n",
       "    var timer = setInterval(function(root) {\n",
       "      if (root.Bokeh !== undefined) {\n",
       "        embed_document(root);\n",
       "        clearInterval(timer);\n",
       "      }\n",
       "      attempts++;\n",
       "      if (attempts > 100) {\n",
       "        console.log(\"Bokeh: ERROR: Unable to embed document because BokehJS library is missing\")\n",
       "        clearInterval(timer);\n",
       "      }\n",
       "    }, 10, root)\n",
       "  }\n",
       "})(window);"
      ],
      "application/vnd.bokehjs_exec.v0+json": ""
     },
     "metadata": {
      "application/vnd.bokehjs_exec.v0+json": {
       "id": "920f31c3-b080-4181-beaa-2f32255bce2a"
      }
     },
     "output_type": "display_data"
    }
   ],
   "source": [
    "top_POS = [k for k,v in POS_counts_train.most_common(1000)]\n",
    "\n",
    "top_POS_vecs = []\n",
    "for pos in top_POS:\n",
    "    top_POS_vecs.append(pre_trained_POS_model[pos])\n",
    "emb_scatter(top_POS_vecs, top_POS, N=17)"
   ]
  },
  {
   "cell_type": "markdown",
   "metadata": {},
   "source": [
    "### e. GloVe word embeddings trained from our corpus:"
   ]
  },
  {
   "cell_type": "code",
   "execution_count": 35,
   "metadata": {},
   "outputs": [],
   "source": [
    "# Copy the \"text8\"  into the GloVe folder and run \"./demo.sh\". \n",
    "# Copy the \"vector.txt\" back to the notebook folder and run\n",
    "# the second part of this cell.\n",
    "\n",
    "\n",
    "\n",
    "# with open('text8', 'w+') as file:\n",
    "#     for sentence in gensim_word_sentences_train:\n",
    "#         for word in sentence:\n",
    "#             if w2i[word] == 0:\n",
    "#                 file.write(\"<UNK> \")\n",
    "#             else:\n",
    "#                 file.write(word + \" \")\n",
    "    \n",
    "    \n",
    "    \n",
    "    \n",
    "    \n",
    "    \n",
    "\n",
    "# trained_glove_word_model = {}\n",
    "\n",
    "# with open('vectors.txt', 'r') as gloVe_corpus_file:\n",
    "#     for line in gloVe_corpus_file:\n",
    "#         l = line.split()\n",
    "#         trained_glove_word_model[l.pop(0)] = l\n",
    "        \n",
    "        \n",
    "# most_common_words = word_counts_train.most_common(1000)\n",
    "# trained_word_vectors = []\n",
    "# most_common_words = [ word for word, count in most_common_words]\n",
    "# for word in most_common_words:\n",
    "#     trained_word_vectors.append(trained_glove_word_model[i2w[w2i[word]]])\n",
    "# emb_scatter(trained_word_vectors, most_common_words, N=20)"
   ]
  },
  {
   "cell_type": "markdown",
   "metadata": {},
   "source": [
    "### 3. Prepare data to be used by BiLSTM"
   ]
  },
  {
   "cell_type": "code",
   "execution_count": 111,
   "metadata": {
    "collapsed": true
   },
   "outputs": [],
   "source": [
    "def get_word_embeddings(word_model, i2t):\n",
    "    embeddings = []\n",
    "    for index in i2w.keys():\n",
    "        embeddings.append(word_model[i2w[index]])\n",
    "    return embeddings\n",
    "\n",
    "def get_tags_embeddings(tag_model, i2t):\n",
    "    embeddings = []\n",
    "    for index in i2t.keys():\n",
    "        embeddings.append(tag_model[i2t[index]])\n",
    "    return embeddings"
   ]
  }
 ],
 "metadata": {
  "kernelspec": {
   "display_name": "Python 3",
   "language": "python",
   "name": "python3"
  },
  "language_info": {
   "codemirror_mode": {
    "name": "ipython",
    "version": 3
   },
   "file_extension": ".py",
   "mimetype": "text/x-python",
   "name": "python",
   "nbconvert_exporter": "python",
   "pygments_lexer": "ipython3",
   "version": "3.6.3"
  }
 },
 "nbformat": 4,
 "nbformat_minor": 2
}
