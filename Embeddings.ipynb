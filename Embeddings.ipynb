{
 "cells": [
  {
   "cell_type": "markdown",
   "metadata": {},
   "source": [
    "# Word and POS tags embeddings\n",
    "\n",
    "\n",
    "## Description\n",
    "In this notebook, we are trying to parse $*.conllu$ files and extract the word embeddings, as well as the POS tags emeddings.\n",
    "\n",
    "## Work to be done:\n",
    "1. Learn how to parse $*.conllu$ files\n",
    "2. Find a way to get all words embeddings.\n",
    "3. Find a way to get all POS tags embeddings."
   ]
  },
  {
   "cell_type": "markdown",
   "metadata": {},
   "source": [
    "### 1. Read $*.conllu$ files"
   ]
  },
  {
   "cell_type": "markdown",
   "metadata": {},
   "source": [
    "#### Word class:"
   ]
  },
  {
   "cell_type": "code",
   "execution_count": 1,
   "metadata": {
    "collapsed": true
   },
   "outputs": [],
   "source": [
    "class Word:\n",
    "    \"\"\"Word class that maps all details for a word from a *.conllu file. \"\"\"\n",
    "    \n",
    "    def __init__(self, ID, FORM, LEMMA, UPOSTAG, XPOSTAG, FEATS, HEAD, DEPREL, DEPS, MISC):\n",
    "        self.ID = ID           # Word index, integer starting at 1 for each new sentence; may be a range for multiword tokens; may be a decimal number for empty nodes.\n",
    "        self.FORM = FORM       # Word form or punctuation symbol.\n",
    "        self.LEMMA  = LEMMA    # Lemma or stem of word form.\n",
    "        self.UPOSTAG = UPOSTAG # Universal part-of-speech tag.\n",
    "        self.XPOSTAG = XPOSTAG # Language-specific part-of-speech tag; underscore if not available.\n",
    "        self.FEATS = FEATS     # List of morphological features from the universal feature inventory or from a defined language-specific extension; underscore if not available.\n",
    "        self.HEAD = HEAD       # Head of the current word, which is either a value of ID or zero (0).\n",
    "        self.DEPREL = DEPREL   # Universal dependency relation to the HEAD (root iff HEAD = 0) or a defined language-specific subtype of one.\n",
    "        self.DEPS = DEPS       # Enhanced dependency graph in the form of a list of head-deprel pairs.\n",
    "        self.MISC = MISC       # Any other annotation.\n",
    "    \n",
    "    def __str__(self):\n",
    "        string = ''\n",
    "        \n",
    "        string += self.ID      if self.ID      != None else '_'\n",
    "        string += \" \"\n",
    "        string += self.FORM    if self.FORM    != None else '_'\n",
    "        string += \" \"\n",
    "        string += self.LEMMA   if self.LEMMA   != None else '_'\n",
    "        string += \" \"\n",
    "        string += self.UPOSTAG if self.UPOSTAG != None else '_'\n",
    "        string += \" \"\n",
    "        string += self.XPOSTAG if self.XPOSTAG != None else '_'\n",
    "        string += \" \"\n",
    "        string += self.FEATS   if self.FEATS   != None else '_'\n",
    "        string += \" \"\n",
    "        string += self.HEAD    if self.HEAD    != None else '_'\n",
    "        string += \" \"\n",
    "        string += self.DEPREL  if self.DEPREL  != None else '_'\n",
    "        string += \" \"\n",
    "        string += self.DEPS    if self.DEPS    != None else '_'\n",
    "        string += \" \"\n",
    "        string += self.MISC    if self.MISC    != None else '_'\n",
    "        \n",
    "        return string\n",
    "        \n",
    "    @staticmethod\n",
    "    def from_line(line):\n",
    "        tokens = line.split()\n",
    "        \n",
    "        assert len(tokens) == 10\n",
    "        \n",
    "        ID =      tokens[0] if tokens[0] != '_' else None\n",
    "        FORM =    tokens[1] if tokens[1] != '_' else None\n",
    "        LEMMA =   tokens[2] if tokens[2] != '_' else None\n",
    "        UPOSTAG = tokens[3] if tokens[3] != '_' else None\n",
    "        XPOSTAG = tokens[4] if tokens[4] != '_' else None\n",
    "        FEATS =   tokens[5] if tokens[5] != '_' else None\n",
    "        HEAD =    tokens[6] if tokens[6] != '_' else None\n",
    "        DEPREL=   tokens[7] if tokens[7] != '_' else None\n",
    "        DEPS =    tokens[8] if tokens[8] != '_' else None\n",
    "        MISC =    tokens[9] if tokens[9] != '_' else None\n",
    "        \n",
    "        return Word(ID, FORM, LEMMA, UPOSTAG, XPOSTAG, FEATS, HEAD, DEPREL, DEPS, MISC)\n",
    "        "
   ]
  },
  {
   "cell_type": "markdown",
   "metadata": {},
   "source": [
    "#### Test Word class:"
   ]
  },
  {
   "cell_type": "code",
   "execution_count": 2,
   "metadata": {},
   "outputs": [
    {
     "name": "stdout",
     "output_type": "stream",
     "text": [
      "4 proves prove VERB VBZ Mood=Ind|Number=Sing|Person=3|Tense=Pres|VerbForm=Fin 0 root 0:root _\n",
      "proves\n"
     ]
    }
   ],
   "source": [
    "test_text = \"4\tproves\tprove\tVERB\tVBZ\tMood=Ind|Number=Sing|Person=3|Tense=Pres|VerbForm=Fin\t0\troot\t0:root\t_\"\n",
    "test_word = Word.from_line(test_text)\n",
    "print(test_word)\n",
    "print(test_word.FORM)"
   ]
  },
  {
   "cell_type": "markdown",
   "metadata": {},
   "source": [
    "#### Sentence class:"
   ]
  },
  {
   "cell_type": "code",
   "execution_count": 3,
   "metadata": {
    "collapsed": true
   },
   "outputs": [],
   "source": [
    "class Sentence:\n",
    "    \"\"\"Sentence class that maps all details for a sentence from a *.conllu file. \"\"\"\n",
    "    \n",
    "    def __init__(self,newdoc_id, send_id, text, words):\n",
    "        self.newdoc_id = newdoc_id\n",
    "        self.send_id = send_id\n",
    "        self.text = text\n",
    "        self.words = words\n",
    "        \n",
    "    def __str__(self):\n",
    "        string = ''\n",
    "        if self.newdoc_id != None:\n",
    "            string += \"# newdoc id = \"\n",
    "            string += str(self.newdoc_id)\n",
    "            string += \"\\n\"\n",
    "        string += \"# send_id = \"\n",
    "        string += str(self.send_id)\n",
    "        string += \"\\n\"\n",
    "        string += \"# text = \"\n",
    "        string += str(self.text)\n",
    "        string += \"\\n\"\n",
    "        sentence_length = len(self.words)\n",
    "        for index, word in enumerate(self.words):\n",
    "            string += str(word)\n",
    "            if index < sentence_length - 1:\n",
    "                string += \"\\n\"\n",
    "        return string\n",
    "    \n",
    "        \n",
    "    @staticmethod\n",
    "    def from_lines(lines):\n",
    "        newdoc_id=''\n",
    "        send_id = ''\n",
    "        text=''\n",
    "        words = []\n",
    "\n",
    "        \n",
    "        for line in lines:\n",
    "            if line.startswith(\"#\"): #misc properties\n",
    "                prop = line.split(\"=\")[1]\n",
    "                if line.startswith(\"newdoc\", 2):\n",
    "                    newdoc_id = prop\n",
    "                    continue\n",
    "                if line.startswith(\"sent_id\", 2):\n",
    "                    send_id = prop\n",
    "                    continue\n",
    "                if line.startswith(\"text\", 2):\n",
    "                    text = prop\n",
    "                    continue\n",
    "                continue\n",
    "            else:   # words\n",
    "                words.append(Word.from_line(line))\n",
    "\n",
    "        return Sentence(newdoc_id, send_id, text, words)"
   ]
  },
  {
   "cell_type": "markdown",
   "metadata": {},
   "source": [
    "#### Test Sentence class:"
   ]
  },
  {
   "cell_type": "code",
   "execution_count": 4,
   "metadata": {
    "scrolled": false
   },
   "outputs": [
    {
     "name": "stdout",
     "output_type": "stream",
     "text": [
      "# newdoc id = \n",
      "# send_id =  weblog-blogspot.com_gettingpolitical_20030906235000_ENG_20030906_235000-0003\n",
      "# text =  Today's incident proves that Sharon has lost his patience and his hope in peace.\n",
      "1 Today today NOUN NN Number=Sing 3 nmod:poss 3:nmod:poss SpaceAfter=No\n",
      "2 's 's PART POS _ 1 case 1:case _\n",
      "3 incident incident NOUN NN Number=Sing 4 nsubj 4:nsubj _\n",
      "4 proves prove VERB VBZ Mood=Ind|Number=Sing|Person=3|Tense=Pres|VerbForm=Fin 0 root 0:root _\n",
      "5 that that SCONJ IN _ 8 mark 8:mark _\n",
      "6 Sharon Sharon PROPN NNP Number=Sing 8 nsubj 8:nsubj _\n",
      "7 has have AUX VBZ Mood=Ind|Number=Sing|Person=3|Tense=Pres|VerbForm=Fin 8 aux 8:aux _\n",
      "8 lost lose VERB VBN Tense=Past|VerbForm=Part 4 ccomp 4:ccomp _\n",
      "9 his he PRON PRP$ Gender=Masc|Number=Sing|Person=3|Poss=Yes|PronType=Prs 10 nmod:poss 10:nmod:poss _\n",
      "10 patience patience NOUN NN Number=Sing 8 obj 8:obj _\n",
      "11 and and CCONJ CC _ 13 cc 13:cc _\n",
      "12 his he PRON PRP$ Gender=Masc|Number=Sing|Person=3|Poss=Yes|PronType=Prs 13 nmod:poss 13:nmod:poss _\n",
      "13 hope hope NOUN NN Number=Sing 10 conj 10:conj _\n",
      "14 in in ADP IN _ 15 case 15:case _\n",
      "15 peace peace NOUN NN Number=Sing 13 nmod 13:nmod SpaceAfter=No\n",
      "16 . . PUNCT . _ 4 punct 4:punct _ \n",
      "\n",
      " Today's incident proves that Sharon has lost his patience and his hope in peace. \n",
      "\n",
      "1 Today today NOUN NN Number=Sing 3 nmod:poss 3:nmod:poss SpaceAfter=No \n",
      "\n"
     ]
    }
   ],
   "source": [
    "lines = [\"# sent_id = weblog-blogspot.com_gettingpolitical_20030906235000_ENG_20030906_235000-0003\",\n",
    "\"# text = Today's incident proves that Sharon has lost his patience and his hope in peace.\",\n",
    "\"1\tToday\ttoday\tNOUN\tNN\tNumber=Sing\t3\tnmod:poss\t3:nmod:poss\tSpaceAfter=No\",\n",
    "\"2\t's\t's\tPART\tPOS\t_\t1\tcase\t1:case\t_\",\n",
    "\"3\tincident\tincident\tNOUN\tNN\tNumber=Sing\t4\tnsubj\t4:nsubj\t_\",\n",
    "\"4\tproves\tprove\tVERB\tVBZ\tMood=Ind|Number=Sing|Person=3|Tense=Pres|VerbForm=Fin\t0\troot\t0:root\t_\",\n",
    "\"5\tthat\tthat\tSCONJ\tIN\t_\t8\tmark\t8:mark\t_\",\n",
    "\"6\tSharon\tSharon\tPROPN\tNNP\tNumber=Sing\t8\tnsubj\t8:nsubj\t_\",\n",
    "\"7\thas\thave\tAUX\tVBZ\tMood=Ind|Number=Sing|Person=3|Tense=Pres|VerbForm=Fin\t8\taux\t8:aux\t_\",\n",
    "\"8\tlost\tlose\tVERB\tVBN\tTense=Past|VerbForm=Part\t4\tccomp\t4:ccomp\t_\",\n",
    "\"9\this\the\tPRON\tPRP$\tGender=Masc|Number=Sing|Person=3|Poss=Yes|PronType=Prs\t10\tnmod:poss\t10:nmod:poss\t_\",\n",
    "\"10\tpatience\tpatience\tNOUN\tNN\tNumber=Sing\t8\tobj\t8:obj\t_\",\n",
    "\"11\tand\tand\tCCONJ\tCC\t_\t13\tcc\t13:cc\t_\",\n",
    "\"12\this\the\tPRON\tPRP$\tGender=Masc|Number=Sing|Person=3|Poss=Yes|PronType=Prs\t13\tnmod:poss\t13:nmod:poss\t_\",\n",
    "\"13\thope\thope\tNOUN\tNN\tNumber=Sing\t10\tconj\t10:conj\t_\",\n",
    "\"14\tin\tin\tADP\tIN\t_\t15\tcase\t15:case\t_\",\n",
    "\"15\tpeace\tpeace\tNOUN\tNN\tNumber=Sing\t13\tnmod\t13:nmod\tSpaceAfter=No\",\n",
    "\"16\t.\t.\tPUNCT\t.\t_\t4\tpunct\t4:punct\t_\"]\n",
    "sentence = Sentence.from_lines(lines)\n",
    "print(str(sentence), \"\\n\")\n",
    "print(sentence.text, \"\\n\")\n",
    "print(sentence.words[0], \"\\n\")"
   ]
  },
  {
   "cell_type": "code",
   "execution_count": 5,
   "metadata": {
    "collapsed": true
   },
   "outputs": [],
   "source": [
    "en_path = \"Annotated training data/UD_English-master/\"\n",
    "en_dev_filename = \"en-ud-dev.conllu\"\n",
    "en_test_filename = \"en-ud-test.conllu\"\n",
    "en_train_filename = \"en-ud-train.conllu\"\n",
    "\n",
    "ro_path = \"Annotated training data/UD_Romanian-dev/\"\n",
    "ro_dev_filename = \"ro-ud-dev.conllu\"\n",
    "ro_test_filename = \"ro-ud-test.conllu\"\n",
    "ro_train_filename = \"ro-ud-train.conllu\"\n",
    "\n",
    "def read_sentences(path, filename):\n",
    "    sentences = []\n",
    "    sentence_lines = []\n",
    "    file = open(path + filename, 'r')\n",
    "    for line in file:\n",
    "        if line == '\\n':\n",
    "            sentences.append(Sentence.from_lines(sentence_lines))\n",
    "            sentence_lines = []\n",
    "        else:\n",
    "            sentence_lines.append(line)\n",
    "            \n",
    "    return sentences\n",
    "\n",
    "\n",
    "en_train_sentences = read_sentences(en_path,en_train_filename)\n",
    "en_dev_sentences = read_sentences(en_path,en_dev_filename)\n",
    "en_test_sentences = read_sentences(en_path,en_test_filename)\n",
    "\n",
    "ro_train_sentences = read_sentences(ro_path,ro_train_filename)\n",
    "ro_dev_sentences = read_sentences(ro_path,ro_dev_filename)\n",
    "ro_test_sentences = read_sentences(ro_path,ro_test_filename)\n",
    "\n",
    "assert len(en_dev_sentences) == 2002# there are 2002 sentences in the english development dataset.\n"
   ]
  },
  {
   "cell_type": "markdown",
   "metadata": {},
   "source": [
    "### 2. Extract words/POS tags and then extract embeddings"
   ]
  },
  {
   "cell_type": "markdown",
   "metadata": {},
   "source": [
    "#### Imports"
   ]
  },
  {
   "cell_type": "code",
   "execution_count": 6,
   "metadata": {
    "collapsed": true
   },
   "outputs": [],
   "source": [
    "import numpy as np\n",
    "import pickle\n",
    "from collections import defaultdict, Counter\n",
    "from random import random\n",
    "import matplotlib.pyplot as plt\n",
    "from gensim.models import Word2Vec"
   ]
  },
  {
   "cell_type": "code",
   "execution_count": 7,
   "metadata": {
    "collapsed": true
   },
   "outputs": [],
   "source": [
    "def get_Gensim_sentences(sentences):\n",
    "    \"\"\"\n",
    "    This function receives a list of Sencences and return \n",
    "    the word and POS sentences in the format Gensim needs, \n",
    "    as well as Counters for both words and POS tags\n",
    "    Format: [['I', 'like', 'custard'],...]\n",
    "    \"\"\"\n",
    "    gensim_word_sentences = []\n",
    "    word_counts = Counter()\n",
    "    gensim_POS_sentences = []\n",
    "    POS_counts = Counter()\n",
    "    for sentence in sentences:\n",
    "        gensim_word_sentence = []\n",
    "        gensim_POS_sentence = []\n",
    "        for word in sentence.words:\n",
    "            gensim_word_sentence.append(word.FORM)\n",
    "            word_counts[word.FORM] += 1\n",
    "            gensim_POS_sentence.append(word.UPOSTAG)\n",
    "            POS_counts[word.UPOSTAG] += 1\n",
    "        gensim_word_sentences.append(gensim_word_sentence)\n",
    "        gensim_POS_sentences.append(gensim_POS_sentence)\n",
    "    return gensim_word_sentences, word_counts, gensim_POS_sentences, POS_counts"
   ]
  },
  {
   "cell_type": "code",
   "execution_count": 8,
   "metadata": {
    "collapsed": true
   },
   "outputs": [],
   "source": [
    "# Get word sentences, word count and word vocabulary\n",
    "gensim_word_sentences_train, word_counts_train, gensim_POS_sentences_train, POS_counts_train = get_Gensim_sentences(en_test_sentences)\n",
    "gensim_word_sentences_dev, word_counts_dev, gensim_POS_sentences_dev, POS_counts_dev = get_Gensim_sentences(en_dev_sentences)\n",
    "gensim_word_sentences_test, word_counts_test, gensim_POS_sentences_test, POS_counts_test = get_Gensim_sentences(en_test_sentences)\n",
    "\n",
    "gensim_word_sentences = []\n",
    "gensim_word_sentences.extend(gensim_word_sentences_train)\n",
    "gensim_word_sentences.extend(gensim_word_sentences_dev)\n",
    "gensim_word_sentences.extend(gensim_word_sentences_test)\n",
    "gensim_word_count = word_counts_train + word_counts_dev + word_counts_test\n",
    "\n",
    "word_vocabulary = gensim_word_count.keys()\n",
    "\n",
    "# Get POS tag sentences, POS tag count and POS tag vocabulary\n",
    "gensim_POS_sentences = []\n",
    "gensim_POS_sentences.extend(gensim_POS_sentences_train)\n",
    "gensim_POS_sentences.extend(gensim_POS_sentences_dev)\n",
    "gensim_POS_sentences.extend(gensim_POS_sentences_test)\n",
    "gensim_POS_count = POS_counts_train + POS_counts_dev + POS_counts_test\n",
    "\n",
    "pos_tag_vocabulary = gensim_POS_count.keys()"
   ]
  },
  {
   "cell_type": "markdown",
   "metadata": {},
   "source": [
    "### a. Gensim Word2Vector trained on our data:"
   ]
  },
  {
   "cell_type": "code",
   "execution_count": 9,
   "metadata": {
    "collapsed": true
   },
   "outputs": [],
   "source": [
    "gensim_word_model = Word2Vec(gensim_word_sentences, size=100, window=5, min_count=1, workers=4)\n",
    "gensim_POS_model = Word2Vec(gensim_POS_sentences, size=100, window=3, min_count=1, workers=4)"
   ]
  },
  {
   "cell_type": "code",
   "execution_count": 10,
   "metadata": {},
   "outputs": [
    {
     "data": {
      "text/html": [
       "\n",
       "    <div class=\"bk-root\">\n",
       "        <a href=\"https://bokeh.pydata.org\" target=\"_blank\" class=\"bk-logo bk-logo-small bk-logo-notebook\"></a>\n",
       "        <span id=\"c037b724-db92-4dbf-84c1-2d1a816622c5\">Loading BokehJS ...</span>\n",
       "    </div>"
      ]
     },
     "metadata": {},
     "output_type": "display_data"
    },
    {
     "data": {
      "application/javascript": [
       "\n",
       "(function(root) {\n",
       "  function now() {\n",
       "    return new Date();\n",
       "  }\n",
       "\n",
       "  var force = true;\n",
       "\n",
       "  if (typeof (root._bokeh_onload_callbacks) === \"undefined\" || force === true) {\n",
       "    root._bokeh_onload_callbacks = [];\n",
       "    root._bokeh_is_loading = undefined;\n",
       "  }\n",
       "\n",
       "  var JS_MIME_TYPE = 'application/javascript';\n",
       "  var HTML_MIME_TYPE = 'text/html';\n",
       "  var EXEC_MIME_TYPE = 'application/vnd.bokehjs_exec.v0+json';\n",
       "  var CLASS_NAME = 'output_bokeh rendered_html';\n",
       "\n",
       "  /**\n",
       "   * Render data to the DOM node\n",
       "   */\n",
       "  function render(props, node) {\n",
       "    var script = document.createElement(\"script\");\n",
       "    node.appendChild(script);\n",
       "  }\n",
       "\n",
       "  /**\n",
       "   * Handle when an output is cleared or removed\n",
       "   */\n",
       "  function handleClearOutput(event, handle) {\n",
       "    var cell = handle.cell;\n",
       "\n",
       "    var id = cell.output_area._bokeh_element_id;\n",
       "    var server_id = cell.output_area._bokeh_server_id;\n",
       "    // Clean up Bokeh references\n",
       "    if (id !== undefined) {\n",
       "      Bokeh.index[id].model.document.clear();\n",
       "      delete Bokeh.index[id];\n",
       "    }\n",
       "\n",
       "    if (server_id !== undefined) {\n",
       "      // Clean up Bokeh references\n",
       "      var cmd = \"from bokeh.io.state import curstate; print(curstate().uuid_to_server['\" + server_id + \"'].get_sessions()[0].document.roots[0]._id)\";\n",
       "      cell.notebook.kernel.execute(cmd, {\n",
       "        iopub: {\n",
       "          output: function(msg) {\n",
       "            var element_id = msg.content.text.trim();\n",
       "            Bokeh.index[element_id].model.document.clear();\n",
       "            delete Bokeh.index[element_id];\n",
       "          }\n",
       "        }\n",
       "      });\n",
       "      // Destroy server and session\n",
       "      var cmd = \"import bokeh.io.notebook as ion; ion.destroy_server('\" + server_id + \"')\";\n",
       "      cell.notebook.kernel.execute(cmd);\n",
       "    }\n",
       "  }\n",
       "\n",
       "  /**\n",
       "   * Handle when a new output is added\n",
       "   */\n",
       "  function handleAddOutput(event, handle) {\n",
       "    var output_area = handle.output_area;\n",
       "    var output = handle.output;\n",
       "\n",
       "    // limit handleAddOutput to display_data with EXEC_MIME_TYPE content only\n",
       "    if ((output.output_type != \"display_data\") || (!output.data.hasOwnProperty(EXEC_MIME_TYPE))) {\n",
       "      return\n",
       "    }\n",
       "\n",
       "    var toinsert = output_area.element.find(`.${CLASS_NAME.split(' ')[0]}`);\n",
       "\n",
       "    if (output.metadata[EXEC_MIME_TYPE][\"id\"] !== undefined) {\n",
       "      toinsert[0].firstChild.textContent = output.data[JS_MIME_TYPE];\n",
       "      // store reference to embed id on output_area\n",
       "      output_area._bokeh_element_id = output.metadata[EXEC_MIME_TYPE][\"id\"];\n",
       "    }\n",
       "    if (output.metadata[EXEC_MIME_TYPE][\"server_id\"] !== undefined) {\n",
       "      var bk_div = document.createElement(\"div\");\n",
       "      bk_div.innerHTML = output.data[HTML_MIME_TYPE];\n",
       "      var script_attrs = bk_div.children[0].attributes;\n",
       "      for (var i = 0; i < script_attrs.length; i++) {\n",
       "        toinsert[0].firstChild.setAttribute(script_attrs[i].name, script_attrs[i].value);\n",
       "      }\n",
       "      // store reference to server id on output_area\n",
       "      output_area._bokeh_server_id = output.metadata[EXEC_MIME_TYPE][\"server_id\"];\n",
       "    }\n",
       "  }\n",
       "\n",
       "  function register_renderer(events, OutputArea) {\n",
       "\n",
       "    function append_mime(data, metadata, element) {\n",
       "      // create a DOM node to render to\n",
       "      var toinsert = this.create_output_subarea(\n",
       "        metadata,\n",
       "        CLASS_NAME,\n",
       "        EXEC_MIME_TYPE\n",
       "      );\n",
       "      this.keyboard_manager.register_events(toinsert);\n",
       "      // Render to node\n",
       "      var props = {data: data, metadata: metadata[EXEC_MIME_TYPE]};\n",
       "      render(props, toinsert[0]);\n",
       "      element.append(toinsert);\n",
       "      return toinsert\n",
       "    }\n",
       "\n",
       "    /* Handle when an output is cleared or removed */\n",
       "    events.on('clear_output.CodeCell', handleClearOutput);\n",
       "    events.on('delete.Cell', handleClearOutput);\n",
       "\n",
       "    /* Handle when a new output is added */\n",
       "    events.on('output_added.OutputArea', handleAddOutput);\n",
       "\n",
       "    /**\n",
       "     * Register the mime type and append_mime function with output_area\n",
       "     */\n",
       "    OutputArea.prototype.register_mime_type(EXEC_MIME_TYPE, append_mime, {\n",
       "      /* Is output safe? */\n",
       "      safe: true,\n",
       "      /* Index of renderer in `output_area.display_order` */\n",
       "      index: 0\n",
       "    });\n",
       "  }\n",
       "\n",
       "  // register the mime type if in Jupyter Notebook environment and previously unregistered\n",
       "  if (root.Jupyter !== undefined) {\n",
       "    var events = require('base/js/events');\n",
       "    var OutputArea = require('notebook/js/outputarea').OutputArea;\n",
       "\n",
       "    if (OutputArea.prototype.mime_types().indexOf(EXEC_MIME_TYPE) == -1) {\n",
       "      register_renderer(events, OutputArea);\n",
       "    }\n",
       "  }\n",
       "\n",
       "  \n",
       "  if (typeof (root._bokeh_timeout) === \"undefined\" || force === true) {\n",
       "    root._bokeh_timeout = Date.now() + 5000;\n",
       "    root._bokeh_failed_load = false;\n",
       "  }\n",
       "\n",
       "  var NB_LOAD_WARNING = {'data': {'text/html':\n",
       "     \"<div style='background-color: #fdd'>\\n\"+\n",
       "     \"<p>\\n\"+\n",
       "     \"BokehJS does not appear to have successfully loaded. If loading BokehJS from CDN, this \\n\"+\n",
       "     \"may be due to a slow or bad network connection. Possible fixes:\\n\"+\n",
       "     \"</p>\\n\"+\n",
       "     \"<ul>\\n\"+\n",
       "     \"<li>re-rerun `output_notebook()` to attempt to load from CDN again, or</li>\\n\"+\n",
       "     \"<li>use INLINE resources instead, as so:</li>\\n\"+\n",
       "     \"</ul>\\n\"+\n",
       "     \"<code>\\n\"+\n",
       "     \"from bokeh.resources import INLINE\\n\"+\n",
       "     \"output_notebook(resources=INLINE)\\n\"+\n",
       "     \"</code>\\n\"+\n",
       "     \"</div>\"}};\n",
       "\n",
       "  function display_loaded() {\n",
       "    var el = document.getElementById(\"c037b724-db92-4dbf-84c1-2d1a816622c5\");\n",
       "    if (el != null) {\n",
       "      el.textContent = \"BokehJS is loading...\";\n",
       "    }\n",
       "    if (root.Bokeh !== undefined) {\n",
       "      if (el != null) {\n",
       "        el.textContent = \"BokehJS \" + root.Bokeh.version + \" successfully loaded.\";\n",
       "      }\n",
       "    } else if (Date.now() < root._bokeh_timeout) {\n",
       "      setTimeout(display_loaded, 100)\n",
       "    }\n",
       "  }\n",
       "\n",
       "\n",
       "  function run_callbacks() {\n",
       "    try {\n",
       "      root._bokeh_onload_callbacks.forEach(function(callback) { callback() });\n",
       "    }\n",
       "    finally {\n",
       "      delete root._bokeh_onload_callbacks\n",
       "    }\n",
       "    console.info(\"Bokeh: all callbacks have finished\");\n",
       "  }\n",
       "\n",
       "  function load_libs(js_urls, callback) {\n",
       "    root._bokeh_onload_callbacks.push(callback);\n",
       "    if (root._bokeh_is_loading > 0) {\n",
       "      console.log(\"Bokeh: BokehJS is being loaded, scheduling callback at\", now());\n",
       "      return null;\n",
       "    }\n",
       "    if (js_urls == null || js_urls.length === 0) {\n",
       "      run_callbacks();\n",
       "      return null;\n",
       "    }\n",
       "    console.log(\"Bokeh: BokehJS not loaded, scheduling load and callback at\", now());\n",
       "    root._bokeh_is_loading = js_urls.length;\n",
       "    for (var i = 0; i < js_urls.length; i++) {\n",
       "      var url = js_urls[i];\n",
       "      var s = document.createElement('script');\n",
       "      s.src = url;\n",
       "      s.async = false;\n",
       "      s.onreadystatechange = s.onload = function() {\n",
       "        root._bokeh_is_loading--;\n",
       "        if (root._bokeh_is_loading === 0) {\n",
       "          console.log(\"Bokeh: all BokehJS libraries loaded\");\n",
       "          run_callbacks()\n",
       "        }\n",
       "      };\n",
       "      s.onerror = function() {\n",
       "        console.warn(\"failed to load library \" + url);\n",
       "      };\n",
       "      console.log(\"Bokeh: injecting script tag for BokehJS library: \", url);\n",
       "      document.getElementsByTagName(\"head\")[0].appendChild(s);\n",
       "    }\n",
       "  };var element = document.getElementById(\"c037b724-db92-4dbf-84c1-2d1a816622c5\");\n",
       "  if (element == null) {\n",
       "    console.log(\"Bokeh: ERROR: autoload.js configured with elementid 'c037b724-db92-4dbf-84c1-2d1a816622c5' but no matching script tag was found. \")\n",
       "    return false;\n",
       "  }\n",
       "\n",
       "  var js_urls = [\"https://cdn.pydata.org/bokeh/release/bokeh-0.12.10.min.js\", \"https://cdn.pydata.org/bokeh/release/bokeh-widgets-0.12.10.min.js\", \"https://cdn.pydata.org/bokeh/release/bokeh-tables-0.12.10.min.js\", \"https://cdn.pydata.org/bokeh/release/bokeh-gl-0.12.10.min.js\"];\n",
       "\n",
       "  var inline_js = [\n",
       "    function(Bokeh) {\n",
       "      Bokeh.set_log_level(\"info\");\n",
       "    },\n",
       "    \n",
       "    function(Bokeh) {\n",
       "      \n",
       "    },\n",
       "    function(Bokeh) {\n",
       "      console.log(\"Bokeh: injecting CSS: https://cdn.pydata.org/bokeh/release/bokeh-0.12.10.min.css\");\n",
       "      Bokeh.embed.inject_css(\"https://cdn.pydata.org/bokeh/release/bokeh-0.12.10.min.css\");\n",
       "      console.log(\"Bokeh: injecting CSS: https://cdn.pydata.org/bokeh/release/bokeh-widgets-0.12.10.min.css\");\n",
       "      Bokeh.embed.inject_css(\"https://cdn.pydata.org/bokeh/release/bokeh-widgets-0.12.10.min.css\");\n",
       "      console.log(\"Bokeh: injecting CSS: https://cdn.pydata.org/bokeh/release/bokeh-tables-0.12.10.min.css\");\n",
       "      Bokeh.embed.inject_css(\"https://cdn.pydata.org/bokeh/release/bokeh-tables-0.12.10.min.css\");\n",
       "    }\n",
       "  ];\n",
       "\n",
       "  function run_inline_js() {\n",
       "    \n",
       "    if ((root.Bokeh !== undefined) || (force === true)) {\n",
       "      for (var i = 0; i < inline_js.length; i++) {\n",
       "        inline_js[i].call(root, root.Bokeh);\n",
       "      }if (force === true) {\n",
       "        display_loaded();\n",
       "      }} else if (Date.now() < root._bokeh_timeout) {\n",
       "      setTimeout(run_inline_js, 100);\n",
       "    } else if (!root._bokeh_failed_load) {\n",
       "      console.log(\"Bokeh: BokehJS failed to load within specified timeout.\");\n",
       "      root._bokeh_failed_load = true;\n",
       "    } else if (force !== true) {\n",
       "      var cell = $(document.getElementById(\"c037b724-db92-4dbf-84c1-2d1a816622c5\")).parents('.cell').data().cell;\n",
       "      cell.output_area.append_execute_result(NB_LOAD_WARNING)\n",
       "    }\n",
       "\n",
       "  }\n",
       "\n",
       "  if (root._bokeh_is_loading === 0) {\n",
       "    console.log(\"Bokeh: BokehJS loaded, going straight to plotting\");\n",
       "    run_inline_js();\n",
       "  } else {\n",
       "    load_libs(js_urls, function() {\n",
       "      console.log(\"Bokeh: BokehJS plotting callback run at\", now());\n",
       "      run_inline_js();\n",
       "    });\n",
       "  }\n",
       "}(window));"
      ],
      "application/vnd.bokehjs_load.v0+json": "\n(function(root) {\n  function now() {\n    return new Date();\n  }\n\n  var force = true;\n\n  if (typeof (root._bokeh_onload_callbacks) === \"undefined\" || force === true) {\n    root._bokeh_onload_callbacks = [];\n    root._bokeh_is_loading = undefined;\n  }\n\n  \n\n  \n  if (typeof (root._bokeh_timeout) === \"undefined\" || force === true) {\n    root._bokeh_timeout = Date.now() + 5000;\n    root._bokeh_failed_load = false;\n  }\n\n  var NB_LOAD_WARNING = {'data': {'text/html':\n     \"<div style='background-color: #fdd'>\\n\"+\n     \"<p>\\n\"+\n     \"BokehJS does not appear to have successfully loaded. If loading BokehJS from CDN, this \\n\"+\n     \"may be due to a slow or bad network connection. Possible fixes:\\n\"+\n     \"</p>\\n\"+\n     \"<ul>\\n\"+\n     \"<li>re-rerun `output_notebook()` to attempt to load from CDN again, or</li>\\n\"+\n     \"<li>use INLINE resources instead, as so:</li>\\n\"+\n     \"</ul>\\n\"+\n     \"<code>\\n\"+\n     \"from bokeh.resources import INLINE\\n\"+\n     \"output_notebook(resources=INLINE)\\n\"+\n     \"</code>\\n\"+\n     \"</div>\"}};\n\n  function display_loaded() {\n    var el = document.getElementById(\"c037b724-db92-4dbf-84c1-2d1a816622c5\");\n    if (el != null) {\n      el.textContent = \"BokehJS is loading...\";\n    }\n    if (root.Bokeh !== undefined) {\n      if (el != null) {\n        el.textContent = \"BokehJS \" + root.Bokeh.version + \" successfully loaded.\";\n      }\n    } else if (Date.now() < root._bokeh_timeout) {\n      setTimeout(display_loaded, 100)\n    }\n  }\n\n\n  function run_callbacks() {\n    try {\n      root._bokeh_onload_callbacks.forEach(function(callback) { callback() });\n    }\n    finally {\n      delete root._bokeh_onload_callbacks\n    }\n    console.info(\"Bokeh: all callbacks have finished\");\n  }\n\n  function load_libs(js_urls, callback) {\n    root._bokeh_onload_callbacks.push(callback);\n    if (root._bokeh_is_loading > 0) {\n      console.log(\"Bokeh: BokehJS is being loaded, scheduling callback at\", now());\n      return null;\n    }\n    if (js_urls == null || js_urls.length === 0) {\n      run_callbacks();\n      return null;\n    }\n    console.log(\"Bokeh: BokehJS not loaded, scheduling load and callback at\", now());\n    root._bokeh_is_loading = js_urls.length;\n    for (var i = 0; i < js_urls.length; i++) {\n      var url = js_urls[i];\n      var s = document.createElement('script');\n      s.src = url;\n      s.async = false;\n      s.onreadystatechange = s.onload = function() {\n        root._bokeh_is_loading--;\n        if (root._bokeh_is_loading === 0) {\n          console.log(\"Bokeh: all BokehJS libraries loaded\");\n          run_callbacks()\n        }\n      };\n      s.onerror = function() {\n        console.warn(\"failed to load library \" + url);\n      };\n      console.log(\"Bokeh: injecting script tag for BokehJS library: \", url);\n      document.getElementsByTagName(\"head\")[0].appendChild(s);\n    }\n  };var element = document.getElementById(\"c037b724-db92-4dbf-84c1-2d1a816622c5\");\n  if (element == null) {\n    console.log(\"Bokeh: ERROR: autoload.js configured with elementid 'c037b724-db92-4dbf-84c1-2d1a816622c5' but no matching script tag was found. \")\n    return false;\n  }\n\n  var js_urls = [\"https://cdn.pydata.org/bokeh/release/bokeh-0.12.10.min.js\", \"https://cdn.pydata.org/bokeh/release/bokeh-widgets-0.12.10.min.js\", \"https://cdn.pydata.org/bokeh/release/bokeh-tables-0.12.10.min.js\", \"https://cdn.pydata.org/bokeh/release/bokeh-gl-0.12.10.min.js\"];\n\n  var inline_js = [\n    function(Bokeh) {\n      Bokeh.set_log_level(\"info\");\n    },\n    \n    function(Bokeh) {\n      \n    },\n    function(Bokeh) {\n      console.log(\"Bokeh: injecting CSS: https://cdn.pydata.org/bokeh/release/bokeh-0.12.10.min.css\");\n      Bokeh.embed.inject_css(\"https://cdn.pydata.org/bokeh/release/bokeh-0.12.10.min.css\");\n      console.log(\"Bokeh: injecting CSS: https://cdn.pydata.org/bokeh/release/bokeh-widgets-0.12.10.min.css\");\n      Bokeh.embed.inject_css(\"https://cdn.pydata.org/bokeh/release/bokeh-widgets-0.12.10.min.css\");\n      console.log(\"Bokeh: injecting CSS: https://cdn.pydata.org/bokeh/release/bokeh-tables-0.12.10.min.css\");\n      Bokeh.embed.inject_css(\"https://cdn.pydata.org/bokeh/release/bokeh-tables-0.12.10.min.css\");\n    }\n  ];\n\n  function run_inline_js() {\n    \n    if ((root.Bokeh !== undefined) || (force === true)) {\n      for (var i = 0; i < inline_js.length; i++) {\n        inline_js[i].call(root, root.Bokeh);\n      }if (force === true) {\n        display_loaded();\n      }} else if (Date.now() < root._bokeh_timeout) {\n      setTimeout(run_inline_js, 100);\n    } else if (!root._bokeh_failed_load) {\n      console.log(\"Bokeh: BokehJS failed to load within specified timeout.\");\n      root._bokeh_failed_load = true;\n    } else if (force !== true) {\n      var cell = $(document.getElementById(\"c037b724-db92-4dbf-84c1-2d1a816622c5\")).parents('.cell').data().cell;\n      cell.output_area.append_execute_result(NB_LOAD_WARNING)\n    }\n\n  }\n\n  if (root._bokeh_is_loading === 0) {\n    console.log(\"Bokeh: BokehJS loaded, going straight to plotting\");\n    run_inline_js();\n  } else {\n    load_libs(js_urls, function() {\n      console.log(\"Bokeh: BokehJS plotting callback run at\", now());\n      run_inline_js();\n    });\n  }\n}(window));"
     },
     "metadata": {},
     "output_type": "display_data"
    }
   ],
   "source": [
    "from sklearn.cluster import KMeans\n",
    "from sklearn.manifold import TSNE\n",
    "\n",
    "from bokeh.models import ColumnDataSource, LabelSet\n",
    "from bokeh.plotting import figure, show, output_file\n",
    "from bokeh.palettes import d3\n",
    "from bokeh.io import output_notebook\n",
    "output_notebook()\n",
    "\n",
    "def emb_scatter(data, names, N=20, perplexity=30.0):\n",
    "    \"\"\"\n",
    "    Function for plotting embeddings and words using TSNE.\n",
    "    TSNE finds a way to plot multidimensional data to a \n",
    "    bidimensional plane. It assures that data close in the \n",
    "    multidimensionalspace will also be close in budimensional \n",
    "    place, but not the other way around.\n",
    "    \"\"\"\n",
    "    ## try to find some clusters ##\n",
    "    print(\"finding clusters\")\n",
    "    kmeans = KMeans(n_clusters=N)\n",
    "    kmeans.fit(data)\n",
    "    klabels = kmeans.labels_\n",
    "\n",
    "    ## get a tsne fit ##\n",
    "    print(\"fitting tsne\")\n",
    "    tsne = TSNE(n_components=2, perplexity=perplexity)\n",
    "    emb_tsne = tsne.fit_transform(data)\n",
    "    \n",
    "    ## plot the tsne of the embeddings with bokeh ##\n",
    "    # source: https://github.com/oxford-cs-deepnlp-2017/practical-1\n",
    "    p = figure(tools=\"pan,wheel_zoom,reset,save\",\n",
    "               toolbar_location=\"above\",\n",
    "               title=\"T-SNE for most common words\")\n",
    "\n",
    "    # set colormap as a list\n",
    "    colormap = d3['Category20'][N]\n",
    "    colors = [colormap[i] for i in klabels]\n",
    "\n",
    "    source = ColumnDataSource(data=dict(x1=emb_tsne[:,0],\n",
    "                                        x2=emb_tsne[:,1],\n",
    "                                        names=names,\n",
    "                                        colors=colors))\n",
    "\n",
    "    p.scatter(x=\"x1\", y=\"x2\", size=8, source=source, color='colors')\n",
    "\n",
    "    labels = LabelSet(x=\"x1\", y=\"x2\", text=\"names\", y_offset=6,\n",
    "                      text_font_size=\"8pt\", text_color=\"#555555\",\n",
    "                      source=source, text_align='center')\n",
    "    p.add_layout(labels)\n",
    "\n",
    "    show(p)"
   ]
  },
  {
   "cell_type": "code",
   "execution_count": 11,
   "metadata": {},
   "outputs": [
    {
     "name": "stdout",
     "output_type": "stream",
     "text": [
      "finding clusters\n",
      "fitting tsne\n"
     ]
    },
    {
     "data": {
      "text/html": [
       "\n",
       "<div class=\"bk-root\">\n",
       "    <div class=\"bk-plotdiv\" id=\"56964304-4811-4ba2-9706-c8b39ebca0a1\"></div>\n",
       "</div>"
      ]
     },
     "metadata": {},
     "output_type": "display_data"
    },
    {
     "data": {
      "application/javascript": [
       "(function(root) {\n",
       "  function embed_document(root) {\n",
       "    var docs_json = {\"2129fd5c-fbdb-4e58-9e7f-d01fbd7cd59a\":{\"roots\":{\"references\":[{\"attributes\":{},\"id\":\"13dd76f1-6dfa-4509-8f10-af247edd394a\",\"type\":\"LinearScale\"},{\"attributes\":{\"fill_color\":{\"field\":\"colors\"},\"line_color\":{\"field\":\"colors\"},\"size\":{\"units\":\"screen\",\"value\":8},\"x\":{\"field\":\"x1\"},\"y\":{\"field\":\"x2\"}},\"id\":\"5ba047f5-14af-4bd9-bdd3-33ebb0de08fc\",\"type\":\"Circle\"},{\"attributes\":{},\"id\":\"351ae01d-4dea-4d23-b5da-9be43a4f759c\",\"type\":\"BasicTickFormatter\"},{\"attributes\":{\"below\":[{\"id\":\"1bea51e4-8f88-466f-854e-8e5d8331d851\",\"type\":\"LinearAxis\"}],\"left\":[{\"id\":\"ccd99b3e-177e-4617-9ef4-f9bf07ad1879\",\"type\":\"LinearAxis\"}],\"renderers\":[{\"id\":\"1bea51e4-8f88-466f-854e-8e5d8331d851\",\"type\":\"LinearAxis\"},{\"id\":\"84ec3c48-69d6-4cab-bbcb-580d970f385d\",\"type\":\"Grid\"},{\"id\":\"ccd99b3e-177e-4617-9ef4-f9bf07ad1879\",\"type\":\"LinearAxis\"},{\"id\":\"969ed2df-3b06-4954-bfab-bcf2bdd3ca40\",\"type\":\"Grid\"},{\"id\":\"81b6ffc8-efb7-46e6-afbb-a2b5230ed274\",\"type\":\"GlyphRenderer\"},{\"id\":\"c0fa7939-5a52-4e83-a4da-aefd33bcf9f3\",\"type\":\"LabelSet\"}],\"title\":{\"id\":\"b7516def-b417-4c53-bc9c-83cf09047fb8\",\"type\":\"Title\"},\"toolbar\":{\"id\":\"393ce3eb-e59e-4518-b19c-4d92ef932776\",\"type\":\"Toolbar\"},\"toolbar_location\":\"above\",\"x_range\":{\"id\":\"a45ae34e-811f-45b7-997d-e468fd4e565c\",\"type\":\"DataRange1d\"},\"x_scale\":{\"id\":\"13dd76f1-6dfa-4509-8f10-af247edd394a\",\"type\":\"LinearScale\"},\"y_range\":{\"id\":\"140304b9-7286-40a9-b437-fb9d00fbc067\",\"type\":\"DataRange1d\"},\"y_scale\":{\"id\":\"cffa467d-d23a-4bc3-ada5-8281ac2eb453\",\"type\":\"LinearScale\"}},\"id\":\"6e31336b-8785-40bb-92ed-3b60c6813cb2\",\"subtype\":\"Figure\",\"type\":\"Plot\"},{\"attributes\":{},\"id\":\"09a95cf4-749e-4c3b-91b7-3616ff528d19\",\"type\":\"BasicTickFormatter\"},{\"attributes\":{\"data_source\":{\"id\":\"71a500b0-9a98-481c-a43f-b5cdced263cb\",\"type\":\"ColumnDataSource\"},\"glyph\":{\"id\":\"5ba047f5-14af-4bd9-bdd3-33ebb0de08fc\",\"type\":\"Circle\"},\"hover_glyph\":null,\"muted_glyph\":null,\"nonselection_glyph\":{\"id\":\"a7a7ba9a-c8f8-4074-baef-f53d47ba53be\",\"type\":\"Circle\"},\"selection_glyph\":null,\"view\":{\"id\":\"69c55fea-e31b-466c-b3c9-4b6fd9af834c\",\"type\":\"CDSView\"}},\"id\":\"81b6ffc8-efb7-46e6-afbb-a2b5230ed274\",\"type\":\"GlyphRenderer\"},{\"attributes\":{\"active_drag\":\"auto\",\"active_inspect\":\"auto\",\"active_scroll\":\"auto\",\"active_tap\":\"auto\",\"tools\":[{\"id\":\"89586a08-cbc4-459c-a6d2-94833236e9d2\",\"type\":\"PanTool\"},{\"id\":\"1d04a662-728f-4d2c-9b15-b6f59571c923\",\"type\":\"WheelZoomTool\"},{\"id\":\"f8023d80-059f-42d1-a875-364b3d30a948\",\"type\":\"ResetTool\"},{\"id\":\"a4f9b027-f276-4d07-9089-88a57c9b280c\",\"type\":\"SaveTool\"}]},\"id\":\"393ce3eb-e59e-4518-b19c-4d92ef932776\",\"type\":\"Toolbar\"},{\"attributes\":{\"plot\":null,\"text\":\"T-SNE for most common words\"},\"id\":\"b7516def-b417-4c53-bc9c-83cf09047fb8\",\"type\":\"Title\"},{\"attributes\":{\"callback\":null},\"id\":\"140304b9-7286-40a9-b437-fb9d00fbc067\",\"type\":\"DataRange1d\"},{\"attributes\":{\"plot\":{\"id\":\"6e31336b-8785-40bb-92ed-3b60c6813cb2\",\"subtype\":\"Figure\",\"type\":\"Plot\"},\"source\":{\"id\":\"71a500b0-9a98-481c-a43f-b5cdced263cb\",\"type\":\"ColumnDataSource\"},\"text\":{\"field\":\"names\"},\"text_align\":\"center\",\"text_color\":{\"value\":\"#555555\"},\"text_font_size\":{\"value\":\"8pt\"},\"x\":{\"field\":\"x1\"},\"y\":{\"field\":\"x2\"},\"y_offset\":{\"value\":6}},\"id\":\"c0fa7939-5a52-4e83-a4da-aefd33bcf9f3\",\"type\":\"LabelSet\"},{\"attributes\":{},\"id\":\"cffa467d-d23a-4bc3-ada5-8281ac2eb453\",\"type\":\"LinearScale\"},{\"attributes\":{\"formatter\":{\"id\":\"09a95cf4-749e-4c3b-91b7-3616ff528d19\",\"type\":\"BasicTickFormatter\"},\"plot\":{\"id\":\"6e31336b-8785-40bb-92ed-3b60c6813cb2\",\"subtype\":\"Figure\",\"type\":\"Plot\"},\"ticker\":{\"id\":\"e2636edc-59e8-4f2f-9d1b-6a67c865354c\",\"type\":\"BasicTicker\"}},\"id\":\"ccd99b3e-177e-4617-9ef4-f9bf07ad1879\",\"type\":\"LinearAxis\"},{\"attributes\":{},\"id\":\"e2636edc-59e8-4f2f-9d1b-6a67c865354c\",\"type\":\"BasicTicker\"},{\"attributes\":{\"formatter\":{\"id\":\"351ae01d-4dea-4d23-b5da-9be43a4f759c\",\"type\":\"BasicTickFormatter\"},\"plot\":{\"id\":\"6e31336b-8785-40bb-92ed-3b60c6813cb2\",\"subtype\":\"Figure\",\"type\":\"Plot\"},\"ticker\":{\"id\":\"f1b8cbf6-61e1-402c-96e3-2b506e85589a\",\"type\":\"BasicTicker\"}},\"id\":\"1bea51e4-8f88-466f-854e-8e5d8331d851\",\"type\":\"LinearAxis\"},{\"attributes\":{},\"id\":\"f1b8cbf6-61e1-402c-96e3-2b506e85589a\",\"type\":\"BasicTicker\"},{\"attributes\":{},\"id\":\"1d04a662-728f-4d2c-9b15-b6f59571c923\",\"type\":\"WheelZoomTool\"},{\"attributes\":{\"fill_alpha\":{\"value\":0.1},\"fill_color\":{\"value\":\"#1f77b4\"},\"line_alpha\":{\"value\":0.1},\"line_color\":{\"value\":\"#1f77b4\"},\"size\":{\"units\":\"screen\",\"value\":8},\"x\":{\"field\":\"x1\"},\"y\":{\"field\":\"x2\"}},\"id\":\"a7a7ba9a-c8f8-4074-baef-f53d47ba53be\",\"type\":\"Circle\"},{\"attributes\":{\"plot\":{\"id\":\"6e31336b-8785-40bb-92ed-3b60c6813cb2\",\"subtype\":\"Figure\",\"type\":\"Plot\"},\"ticker\":{\"id\":\"f1b8cbf6-61e1-402c-96e3-2b506e85589a\",\"type\":\"BasicTicker\"}},\"id\":\"84ec3c48-69d6-4cab-bbcb-580d970f385d\",\"type\":\"Grid\"},{\"attributes\":{\"dimension\":1,\"plot\":{\"id\":\"6e31336b-8785-40bb-92ed-3b60c6813cb2\",\"subtype\":\"Figure\",\"type\":\"Plot\"},\"ticker\":{\"id\":\"e2636edc-59e8-4f2f-9d1b-6a67c865354c\",\"type\":\"BasicTicker\"}},\"id\":\"969ed2df-3b06-4954-bfab-bcf2bdd3ca40\",\"type\":\"Grid\"},{\"attributes\":{},\"id\":\"89586a08-cbc4-459c-a6d2-94833236e9d2\",\"type\":\"PanTool\"},{\"attributes\":{\"callback\":null,\"column_names\":[\"x1\",\"x2\",\"names\",\"colors\"],\"data\":{\"colors\":[\"#c7c7c7\",\"#ff9896\",\"#ff9896\",\"#ff9896\",\"#ff9896\",\"#ff9896\",\"#dbdb8d\",\"#ff9896\",\"#ff9896\",\"#ffbb78\",\"#c5b0d5\",\"#c7c7c7\",\"#ffbb78\",\"#ff9896\",\"#c5b0d5\",\"#c5b0d5\",\"#7f7f7f\",\"#c7c7c7\",\"#ffbb78\",\"#dbdb8d\",\"#dbdb8d\",\"#dbdb8d\",\"#dbdb8d\",\"#aec7e8\",\"#ffbb78\",\"#c5b0d5\",\"#c5b0d5\",\"#c7c7c7\",\"#c5b0d5\",\"#dbdb8d\",\"#c7c7c7\",\"#c5b0d5\",\"#ffbb78\",\"#7f7f7f\",\"#7f7f7f\",\"#aec7e8\",\"#c5b0d5\",\"#dbdb8d\",\"#7f7f7f\",\"#c7c7c7\",\"#dbdb8d\",\"#aec7e8\",\"#c5b0d5\",\"#aec7e8\",\"#aec7e8\",\"#e377c2\",\"#7f7f7f\",\"#ffbb78\",\"#ffbb78\",\"#7f7f7f\",\"#c5b0d5\",\"#7f7f7f\",\"#dbdb8d\",\"#aec7e8\",\"#aec7e8\",\"#7f7f7f\",\"#e377c2\",\"#aec7e8\",\"#aec7e8\",\"#e377c2\",\"#e377c2\",\"#e377c2\",\"#e377c2\",\"#aec7e8\",\"#d62728\",\"#d62728\",\"#aec7e8\",\"#e377c2\",\"#d62728\",\"#e377c2\",\"#d62728\",\"#17becf\",\"#e377c2\",\"#7f7f7f\",\"#aec7e8\",\"#17becf\",\"#aec7e8\",\"#17becf\",\"#7f7f7f\",\"#aec7e8\",\"#d62728\",\"#e377c2\",\"#e377c2\",\"#17becf\",\"#e377c2\",\"#d62728\",\"#aec7e8\",\"#17becf\",\"#7f7f7f\",\"#f7b6d2\",\"#d62728\",\"#d62728\",\"#e377c2\",\"#e377c2\",\"#e377c2\",\"#e377c2\",\"#e377c2\",\"#d62728\",\"#17becf\",\"#d62728\",\"#e377c2\",\"#8c564b\",\"#8c564b\",\"#2ca02c\",\"#2ca02c\",\"#8c564b\",\"#17becf\",\"#d62728\",\"#d62728\",\"#e377c2\",\"#d62728\",\"#8c564b\",\"#17becf\",\"#d62728\",\"#8c564b\",\"#17becf\",\"#d62728\",\"#2ca02c\",\"#2ca02c\",\"#d62728\",\"#8c564b\",\"#9edae5\",\"#17becf\",\"#8c564b\",\"#9edae5\",\"#17becf\",\"#2ca02c\",\"#17becf\",\"#17becf\",\"#2ca02c\",\"#17becf\",\"#2ca02c\",\"#17becf\",\"#2ca02c\",\"#17becf\",\"#2ca02c\",\"#2ca02c\",\"#d62728\",\"#17becf\",\"#2ca02c\",\"#9edae5\",\"#17becf\",\"#8c564b\",\"#d62728\",\"#d62728\",\"#8c564b\",\"#2ca02c\",\"#9edae5\",\"#2ca02c\",\"#2ca02c\",\"#17becf\",\"#8c564b\",\"#17becf\",\"#8c564b\",\"#8c564b\",\"#2ca02c\",\"#17becf\",\"#8c564b\",\"#8c564b\",\"#8c564b\",\"#2ca02c\",\"#8c564b\",\"#9edae5\",\"#9edae5\",\"#2ca02c\",\"#9edae5\",\"#9edae5\",\"#2ca02c\",\"#8c564b\",\"#2ca02c\",\"#9edae5\",\"#2ca02c\",\"#8c564b\",\"#8c564b\",\"#d62728\",\"#9edae5\",\"#ff7f0e\",\"#9edae5\",\"#8c564b\",\"#2ca02c\",\"#9edae5\",\"#2ca02c\",\"#9edae5\",\"#f7b6d2\",\"#8c564b\",\"#8c564b\",\"#8c564b\",\"#17becf\",\"#8c564b\",\"#8c564b\",\"#9edae5\",\"#8c564b\",\"#17becf\",\"#9edae5\",\"#8c564b\",\"#ff7f0e\",\"#2ca02c\",\"#9edae5\",\"#2ca02c\",\"#9edae5\",\"#9edae5\",\"#8c564b\",\"#8c564b\",\"#f7b6d2\",\"#8c564b\",\"#8c564b\",\"#9edae5\",\"#9edae5\",\"#9edae5\",\"#f7b6d2\",\"#ff7f0e\",\"#9edae5\",\"#ff7f0e\",\"#9edae5\",\"#8c564b\",\"#8c564b\",\"#bcbd22\",\"#9edae5\",\"#9edae5\",\"#9edae5\",\"#9edae5\",\"#9edae5\",\"#8c564b\",\"#8c564b\",\"#ff7f0e\",\"#ff7f0e\",\"#ff7f0e\",\"#ff7f0e\",\"#9edae5\",\"#8c564b\",\"#f7b6d2\",\"#ff7f0e\",\"#f7b6d2\",\"#ff7f0e\",\"#8c564b\",\"#ff7f0e\",\"#8c564b\",\"#8c564b\",\"#f7b6d2\",\"#98df8a\",\"#1f77b4\",\"#ff7f0e\",\"#ff7f0e\",\"#8c564b\",\"#f7b6d2\",\"#2ca02c\",\"#ff7f0e\",\"#ff7f0e\",\"#ff7f0e\",\"#9edae5\",\"#f7b6d2\",\"#f7b6d2\",\"#9edae5\",\"#9edae5\",\"#ff7f0e\",\"#f7b6d2\",\"#ff7f0e\",\"#8c564b\",\"#9edae5\",\"#8c564b\",\"#f7b6d2\",\"#ff7f0e\",\"#98df8a\",\"#98df8a\",\"#ff7f0e\",\"#ff7f0e\",\"#9467bd\",\"#f7b6d2\",\"#f7b6d2\",\"#9edae5\",\"#8c564b\",\"#9edae5\",\"#ff7f0e\",\"#ff7f0e\",\"#ff7f0e\",\"#8c564b\",\"#f7b6d2\",\"#f7b6d2\",\"#9467bd\",\"#98df8a\",\"#1f77b4\",\"#ff7f0e\",\"#f7b6d2\",\"#98df8a\",\"#f7b6d2\",\"#9edae5\",\"#ff7f0e\",\"#98df8a\",\"#98df8a\",\"#98df8a\",\"#ff7f0e\",\"#98df8a\",\"#ff7f0e\",\"#f7b6d2\",\"#f7b6d2\",\"#f7b6d2\",\"#f7b6d2\",\"#9edae5\",\"#ff7f0e\",\"#c49c94\",\"#9edae5\",\"#9edae5\",\"#f7b6d2\",\"#f7b6d2\",\"#ff7f0e\",\"#ff7f0e\",\"#f7b6d2\",\"#98df8a\",\"#98df8a\",\"#f7b6d2\",\"#ff7f0e\",\"#9edae5\",\"#98df8a\",\"#98df8a\",\"#f7b6d2\",\"#ff7f0e\",\"#f7b6d2\",\"#c49c94\",\"#ff7f0e\",\"#ff7f0e\",\"#ff7f0e\",\"#9edae5\",\"#ff7f0e\",\"#ff7f0e\",\"#98df8a\",\"#98df8a\",\"#f7b6d2\",\"#ff7f0e\",\"#f7b6d2\",\"#c49c94\",\"#ff7f0e\",\"#98df8a\",\"#ff7f0e\",\"#f7b6d2\",\"#98df8a\",\"#ff7f0e\",\"#98df8a\",\"#ff7f0e\",\"#f7b6d2\",\"#ff7f0e\",\"#c49c94\",\"#98df8a\",\"#f7b6d2\",\"#9edae5\",\"#f7b6d2\",\"#f7b6d2\",\"#98df8a\",\"#98df8a\",\"#ff7f0e\",\"#ff7f0e\",\"#98df8a\",\"#98df8a\",\"#f7b6d2\",\"#98df8a\",\"#f7b6d2\",\"#f7b6d2\",\"#98df8a\",\"#f7b6d2\",\"#f7b6d2\",\"#f7b6d2\",\"#9467bd\",\"#c49c94\",\"#f7b6d2\",\"#98df8a\",\"#98df8a\",\"#f7b6d2\",\"#ff7f0e\",\"#98df8a\",\"#f7b6d2\",\"#ff7f0e\",\"#98df8a\",\"#f7b6d2\",\"#f7b6d2\",\"#c49c94\",\"#f7b6d2\",\"#1f77b4\",\"#f7b6d2\",\"#9467bd\",\"#bcbd22\",\"#f7b6d2\",\"#98df8a\",\"#f7b6d2\",\"#ff7f0e\",\"#9edae5\",\"#98df8a\",\"#98df8a\",\"#f7b6d2\",\"#98df8a\",\"#98df8a\",\"#c49c94\",\"#98df8a\",\"#c49c94\",\"#f7b6d2\",\"#98df8a\",\"#98df8a\",\"#98df8a\",\"#ff7f0e\",\"#c49c94\",\"#f7b6d2\",\"#c49c94\",\"#bcbd22\",\"#9edae5\",\"#98df8a\",\"#f7b6d2\",\"#bcbd22\",\"#9edae5\",\"#98df8a\",\"#c49c94\",\"#f7b6d2\",\"#98df8a\",\"#98df8a\",\"#98df8a\",\"#c49c94\",\"#bcbd22\",\"#98df8a\",\"#98df8a\",\"#f7b6d2\",\"#f7b6d2\",\"#98df8a\",\"#98df8a\",\"#ff7f0e\",\"#98df8a\",\"#bcbd22\",\"#98df8a\",\"#f7b6d2\",\"#f7b6d2\",\"#9467bd\",\"#c49c94\",\"#98df8a\",\"#98df8a\",\"#98df8a\",\"#98df8a\",\"#c49c94\",\"#f7b6d2\",\"#ff7f0e\",\"#98df8a\",\"#1f77b4\",\"#bcbd22\",\"#f7b6d2\",\"#bcbd22\",\"#ff7f0e\",\"#f7b6d2\",\"#f7b6d2\",\"#f7b6d2\",\"#98df8a\",\"#bcbd22\",\"#c49c94\",\"#c49c94\",\"#98df8a\",\"#f7b6d2\",\"#c49c94\",\"#c49c94\",\"#98df8a\",\"#c49c94\",\"#9edae5\",\"#98df8a\",\"#98df8a\",\"#98df8a\",\"#c49c94\",\"#bcbd22\",\"#98df8a\",\"#bcbd22\",\"#c49c94\",\"#9467bd\",\"#ff7f0e\",\"#f7b6d2\",\"#c49c94\",\"#f7b6d2\",\"#98df8a\",\"#98df8a\",\"#98df8a\",\"#c49c94\",\"#f7b6d2\",\"#98df8a\",\"#ff7f0e\",\"#ff7f0e\",\"#98df8a\",\"#c49c94\",\"#98df8a\",\"#98df8a\",\"#c49c94\",\"#bcbd22\",\"#c49c94\",\"#98df8a\",\"#f7b6d2\",\"#98df8a\",\"#c49c94\",\"#f7b6d2\",\"#bcbd22\",\"#c49c94\",\"#c49c94\",\"#98df8a\",\"#f7b6d2\",\"#98df8a\",\"#98df8a\",\"#c49c94\",\"#f7b6d2\",\"#c49c94\",\"#9467bd\",\"#ff7f0e\",\"#c49c94\",\"#98df8a\",\"#98df8a\",\"#98df8a\",\"#98df8a\",\"#bcbd22\",\"#c49c94\",\"#bcbd22\",\"#9467bd\",\"#ff7f0e\",\"#c49c94\",\"#98df8a\",\"#f7b6d2\",\"#c49c94\",\"#1f77b4\",\"#bcbd22\",\"#f7b6d2\",\"#c49c94\",\"#c49c94\",\"#98df8a\",\"#bcbd22\",\"#bcbd22\",\"#c49c94\",\"#c49c94\",\"#c49c94\",\"#9467bd\",\"#98df8a\",\"#bcbd22\",\"#c49c94\",\"#bcbd22\",\"#c49c94\",\"#98df8a\",\"#98df8a\",\"#c49c94\",\"#98df8a\",\"#bcbd22\",\"#9467bd\",\"#c49c94\",\"#98df8a\",\"#bcbd22\",\"#9467bd\",\"#98df8a\",\"#9467bd\",\"#bcbd22\",\"#98df8a\",\"#9467bd\",\"#98df8a\",\"#c49c94\",\"#1f77b4\",\"#c49c94\",\"#bcbd22\",\"#f7b6d2\",\"#98df8a\",\"#c49c94\",\"#c49c94\",\"#bcbd22\",\"#c49c94\",\"#c49c94\",\"#98df8a\",\"#98df8a\",\"#c49c94\",\"#bcbd22\",\"#c49c94\",\"#98df8a\",\"#9467bd\",\"#98df8a\",\"#c49c94\",\"#bcbd22\",\"#9467bd\",\"#9467bd\",\"#ff7f0e\",\"#f7b6d2\",\"#c49c94\",\"#1f77b4\",\"#bcbd22\",\"#c49c94\",\"#1f77b4\",\"#98df8a\",\"#c49c94\",\"#9467bd\",\"#c49c94\",\"#c49c94\",\"#98df8a\",\"#98df8a\",\"#c49c94\",\"#98df8a\",\"#9467bd\",\"#bcbd22\",\"#c49c94\",\"#c49c94\",\"#c49c94\",\"#bcbd22\",\"#1f77b4\",\"#9467bd\",\"#bcbd22\",\"#bcbd22\",\"#9467bd\",\"#c49c94\",\"#c49c94\",\"#bcbd22\",\"#c49c94\",\"#bcbd22\",\"#bcbd22\",\"#c49c94\",\"#c49c94\",\"#98df8a\",\"#9467bd\",\"#c49c94\",\"#c49c94\",\"#c49c94\",\"#9467bd\",\"#c49c94\",\"#98df8a\",\"#1f77b4\",\"#98df8a\",\"#c49c94\",\"#1f77b4\",\"#f7b6d2\",\"#98df8a\",\"#bcbd22\",\"#98df8a\",\"#98df8a\",\"#98df8a\",\"#9467bd\",\"#c49c94\",\"#bcbd22\",\"#9467bd\",\"#c49c94\",\"#98df8a\",\"#bcbd22\",\"#c49c94\",\"#98df8a\",\"#98df8a\",\"#bcbd22\",\"#c49c94\",\"#bcbd22\",\"#9467bd\",\"#c49c94\",\"#c49c94\",\"#9467bd\",\"#c49c94\",\"#bcbd22\",\"#c49c94\",\"#c49c94\",\"#c49c94\",\"#98df8a\",\"#bcbd22\",\"#f7b6d2\",\"#c49c94\",\"#9467bd\",\"#9467bd\",\"#9467bd\",\"#bcbd22\",\"#bcbd22\",\"#bcbd22\",\"#1f77b4\",\"#bcbd22\",\"#bcbd22\",\"#98df8a\",\"#bcbd22\",\"#bcbd22\",\"#98df8a\",\"#9edae5\",\"#98df8a\",\"#1f77b4\",\"#bcbd22\",\"#1f77b4\",\"#9467bd\",\"#c49c94\",\"#bcbd22\",\"#c49c94\",\"#9467bd\",\"#bcbd22\",\"#98df8a\",\"#c49c94\",\"#bcbd22\",\"#9467bd\",\"#c49c94\",\"#9467bd\",\"#9467bd\",\"#1f77b4\",\"#9467bd\",\"#c49c94\",\"#9467bd\",\"#9467bd\",\"#bcbd22\",\"#9467bd\",\"#9467bd\",\"#c49c94\",\"#bcbd22\",\"#bcbd22\",\"#c49c94\",\"#bcbd22\",\"#bcbd22\",\"#c49c94\",\"#98df8a\",\"#c49c94\",\"#bcbd22\",\"#c49c94\",\"#9467bd\",\"#98df8a\",\"#c49c94\",\"#c49c94\",\"#c49c94\",\"#bcbd22\",\"#bcbd22\",\"#9467bd\",\"#c49c94\",\"#98df8a\",\"#9467bd\",\"#9467bd\",\"#1f77b4\",\"#c49c94\",\"#9467bd\",\"#1f77b4\",\"#9467bd\",\"#bcbd22\",\"#bcbd22\",\"#1f77b4\",\"#9467bd\",\"#1f77b4\",\"#c49c94\",\"#c49c94\",\"#9467bd\",\"#bcbd22\",\"#98df8a\",\"#bcbd22\",\"#bcbd22\",\"#bcbd22\",\"#1f77b4\",\"#bcbd22\",\"#1f77b4\",\"#9467bd\",\"#bcbd22\",\"#9467bd\",\"#1f77b4\",\"#9467bd\",\"#9467bd\",\"#bcbd22\",\"#9467bd\",\"#1f77b4\",\"#9467bd\",\"#bcbd22\",\"#9467bd\",\"#bcbd22\",\"#bcbd22\",\"#bcbd22\",\"#bcbd22\",\"#c49c94\",\"#1f77b4\",\"#bcbd22\",\"#1f77b4\",\"#1f77b4\",\"#bcbd22\",\"#bcbd22\",\"#bcbd22\",\"#98df8a\",\"#9467bd\",\"#bcbd22\",\"#c49c94\",\"#9467bd\",\"#1f77b4\",\"#9467bd\",\"#1f77b4\",\"#bcbd22\",\"#1f77b4\",\"#1f77b4\",\"#9467bd\",\"#bcbd22\",\"#9467bd\",\"#1f77b4\",\"#9467bd\",\"#1f77b4\",\"#c49c94\",\"#bcbd22\",\"#bcbd22\",\"#9467bd\",\"#bcbd22\",\"#c49c94\",\"#1f77b4\",\"#bcbd22\",\"#c49c94\",\"#9467bd\",\"#bcbd22\",\"#1f77b4\",\"#9467bd\",\"#bcbd22\",\"#bcbd22\",\"#98df8a\",\"#1f77b4\",\"#c49c94\",\"#98df8a\",\"#9467bd\",\"#1f77b4\",\"#bcbd22\",\"#bcbd22\",\"#c49c94\",\"#1f77b4\",\"#9467bd\",\"#9467bd\",\"#c49c94\",\"#9467bd\",\"#bcbd22\",\"#c49c94\",\"#1f77b4\",\"#9467bd\",\"#9467bd\",\"#bcbd22\",\"#c49c94\",\"#9467bd\",\"#bcbd22\",\"#9467bd\",\"#9467bd\",\"#9467bd\",\"#bcbd22\",\"#bcbd22\",\"#c49c94\",\"#bcbd22\",\"#bcbd22\",\"#1f77b4\",\"#1f77b4\",\"#bcbd22\",\"#bcbd22\",\"#9467bd\",\"#bcbd22\",\"#bcbd22\",\"#bcbd22\",\"#c49c94\",\"#c49c94\",\"#c49c94\",\"#9467bd\",\"#bcbd22\",\"#bcbd22\",\"#bcbd22\",\"#9467bd\",\"#9467bd\",\"#bcbd22\",\"#bcbd22\",\"#1f77b4\",\"#bcbd22\",\"#bcbd22\",\"#c49c94\",\"#9467bd\",\"#9467bd\",\"#1f77b4\",\"#1f77b4\",\"#c49c94\",\"#1f77b4\",\"#1f77b4\",\"#1f77b4\",\"#9467bd\",\"#9467bd\",\"#9467bd\",\"#bcbd22\",\"#9467bd\",\"#1f77b4\",\"#9467bd\",\"#bcbd22\",\"#9467bd\",\"#1f77b4\",\"#98df8a\",\"#bcbd22\",\"#bcbd22\",\"#1f77b4\",\"#9467bd\",\"#1f77b4\",\"#98df8a\",\"#98df8a\",\"#bcbd22\",\"#9467bd\",\"#9467bd\",\"#bcbd22\",\"#98df8a\",\"#1f77b4\",\"#1f77b4\",\"#1f77b4\",\"#c49c94\",\"#1f77b4\",\"#9467bd\",\"#9467bd\",\"#1f77b4\",\"#98df8a\",\"#bcbd22\",\"#bcbd22\",\"#9467bd\",\"#bcbd22\",\"#bcbd22\",\"#bcbd22\",\"#c49c94\",\"#bcbd22\",\"#c49c94\",\"#1f77b4\",\"#bcbd22\",\"#bcbd22\",\"#bcbd22\",\"#bcbd22\",\"#9467bd\",\"#1f77b4\",\"#bcbd22\",\"#9467bd\",\"#9467bd\",\"#9467bd\",\"#bcbd22\",\"#1f77b4\",\"#bcbd22\",\"#9467bd\",\"#c49c94\",\"#98df8a\",\"#1f77b4\",\"#9467bd\",\"#9467bd\",\"#9467bd\",\"#9467bd\",\"#9467bd\",\"#bcbd22\",\"#bcbd22\",\"#c49c94\",\"#1f77b4\",\"#bcbd22\",\"#9467bd\",\"#98df8a\",\"#9467bd\",\"#bcbd22\",\"#1f77b4\",\"#1f77b4\",\"#bcbd22\",\"#9467bd\",\"#9467bd\",\"#9467bd\",\"#1f77b4\",\"#9467bd\",\"#9467bd\",\"#bcbd22\",\"#1f77b4\",\"#bcbd22\",\"#9467bd\",\"#c49c94\",\"#9467bd\",\"#c49c94\",\"#9467bd\",\"#bcbd22\",\"#c49c94\",\"#bcbd22\",\"#bcbd22\",\"#c49c94\",\"#9467bd\",\"#9467bd\",\"#1f77b4\",\"#1f77b4\",\"#1f77b4\",\"#1f77b4\",\"#1f77b4\",\"#1f77b4\",\"#bcbd22\",\"#bcbd22\",\"#bcbd22\",\"#1f77b4\",\"#1f77b4\",\"#bcbd22\",\"#1f77b4\",\"#9467bd\",\"#1f77b4\",\"#c49c94\",\"#c49c94\",\"#9467bd\",\"#1f77b4\",\"#9467bd\",\"#1f77b4\",\"#9467bd\",\"#1f77b4\",\"#9467bd\",\"#9467bd\",\"#c49c94\",\"#bcbd22\",\"#1f77b4\",\"#9467bd\",\"#9467bd\",\"#bcbd22\",\"#c49c94\",\"#c49c94\",\"#bcbd22\",\"#bcbd22\",\"#1f77b4\",\"#9467bd\",\"#1f77b4\",\"#9467bd\",\"#c49c94\",\"#9467bd\",\"#1f77b4\",\"#1f77b4\",\"#9467bd\",\"#1f77b4\",\"#9467bd\",\"#bcbd22\",\"#1f77b4\",\"#bcbd22\",\"#1f77b4\",\"#1f77b4\",\"#c49c94\",\"#9467bd\"],\"names\":[\".\",\"the\",\",\",\"to\",\"and\",\"a\",\"I\",\"of\",\"in\",\"is\",\"you\",\"for\",\"that\",\"-\",\"it\",\"have\",\"?\",\"with\",\"on\",\"\\\"\",\"are\",\"be\",\"was\",\"!\",\"'s\",\"The\",\"this\",\"at\",\"not\",\")\",\"(\",\"my\",\":\",\"i\",\"n't\",\"do\",\"will\",\"as\",\"they\",\"from\",\"or\",\"me\",\"but\",\"would\",\"there\",\"good\",\"can\",\"has\",\"by\",\"we\",\"your\",\"like\",\"an\",\"if\",\"all\",\"had\",\"know\",\"up\",\"so\",\"get\",\"just\",\"what\",\"very\",\"out\",\"great\",\"service\",\"...\",\"one\",\"best\",\"them\",\"place\",\"It\",\"been\",\"about\",\"he\",\"time\",\"were\",\"go\",\"our\",\"some\",\"We\",\"no\",\"any\",\"want\",\"could\",\"people\",\"his\",\"'m\",\"/\",\"Thanks\",\"food\",\"need\",\"s\",\"which\",\"their\",\"who\",\"now\",\"should\",\"They\",\"new\",\"more\",\"If\",\"This\",\"Great\",\"work\",\"am\",\"here\",\"other\",\"only\",\"$\",\"when\",\"You\",\"see\",\"than\",\"going\",\"did\",\"'\",\"take\",\"really\",\"how\",\"well\",\"think\",\"her\",\"Please\",\"What\",\"much\",\"back\",\"also\",\"said\",\"find\",\"A\",\"use\",\"over\",\"too\",\"make\",\"way\",\"'ve\",\"two\",\"may\",\"last\",\"He\",\"US\",\"help\",\"into\",\";\",\"In\",\"even\",\"friendly\",\"Google\",\"few\",\"al\",\"better\",\"does\",\"My\",\"day\",\"little\",\"many\",\"give\",\"him\",\"area\",\"after\",\"years\",\"--\",\"'ll\",\"because\",\"call\",\"staff\",\"Enron\",\"nice\",\"then\",\"love\",\"these\",\"where\",\"group\",\"&\",\"job\",\"again\",\"sure\",\"year\",\"made\",\"look\",\">\",\"recommend\",\"But\",\"still\",\"ever\",\"free\",\"<\",\"today\",\"around\",\"us\",\"..\",\"its\",\"looking\",\"always\",\"And\",\"most\",\"anyone\",\"Bush\",\"let\",\"deal\",\"she\",\"PM\",\"Do\",\"before\",\"put\",\"come\",\"those\",\"guys\",\"Best\",\"Fallujah\",\"since\",\"able\",\"never\",\"got\",\"please\",\"Thank\",\"try\",\"company\",\"say\",\"anything\",\"something\",\"off\",\"called\",\"Good\",\":)\",\"eat\",\"send\",\"such\",\"buy\",\"No\",\"Email\",\"site\",\"'re\",\"1\",\"Qaeda\",\"down\",\"every\",\"why\",\"There\",\"Vince\",\"price\",\"quality\",\"through\",\"world\",\"between\",\"first\",\"name\",\"right\",\"took\",\"house\",\"week\",\"AM\",\"phone\",\"!!!\",\"days\",\"next\",\"5\",\"Iraq\",\"space\",\"lot\",\"done\",\"end\",\"As\",\"used\",\"713\",\"Debra\",\"thanks\",\"information\",\"being\",\"President\",\"against\",\"ask\",\"2\",\"same\",\"London\",\"school\",\"attached\",\"Perlingiere\",\"questions\",\"------\",\"nt\",\"Very\",\"amazing\",\"ca\",\"local\",\"thought\",\"doing\",\"business\",\"How\",\"might\",\"money\",\"John\",\"war\",\"someone\",\"bad\",\"number\",\"under\",\"already\",\"message\",\"using\",\"New\",\"Islamic\",\"though\",\"10\",\"discussed\",\"working\",\"pay\",\"list\",\"shop\",\"Hidden\",\"NASA\",\"helpful\",\"professional\",\"post\",\"store\",\"country\",\"So\",\"project\",\"another\",\"told\",\"making\",\"old\",\"getting\",\"feel\",\"friends\",\"Service\",\"different\",\"restaurant\",\"thing\",\"makes\",\"far\",\"city\",\"American\",\"form\",\"probably\",\"clean\",\"Nook\",\"e-mail\",\"system\",\"else\",\"On\",\"looks\",\"Sunni\",\"part\",\"ago\",\"later\",\"needs\",\"%\",\"high\",\"must\",\"experience\",\"came\",\"things\",\"left\",\"email\",\"life\",\"car\",\"kind\",\"everything\",\"Here\",\"happy\",\"!!\",\"customer\",\"care\",\"actually\",\"....\",\"forward\",\"pretty\",\"nuclear\",\"opinion\",\"Hamas\",\"check\",\"These\",\"tried\",\"Yes\",\"went\",\"dinner\",\"fine\",\"big\",\"times\",\"man\",\"PERFORMANCE\",\"01-Feb-02\",\"*\",\"**\",\"services\",\"[\",\"]\",\"excellent\",\"found\",\"pictures\",\"Israel\",\"seem\",\"long\",\"fast\",\"Iraqi\",\"By\",\"small\",\"order\",\"Not\",\"#\",\"wanted\",\"address\",\"Any\",\"P\",\"website\",\"own\",\"away\",\"yet\",\"stuff\",\"start\",\"3\",\"joined\",\"weeks\",\"possible\",\"enough\",\"support\",\"process\",\"issue\",\"20\",\"real\",\"Well\",\"game\",\"Dow\",\"close\",\"quick\",\"Miramar\",\"family\",\"location\",\"employees\",\"fresh\",\"read\",\"join\",\"without\",\"while\",\"soon\",\"set\",\"Muslim\",\"That\",\"during\",\"several\",\"21\",\"based\",\"month\",\"copy\",\"Are\",\"person\",\"firm\",\"room\",\"stay\",\"couple\",\"file\",\"awesome\",\"News\",\"Posted\",\"Will\",\"home\",\"friend\",\"Highly\",\"search\",\"course\",\"One\",\"Let\",\"United\",\"rather\",\"D\",\"24\",\"short\",\"seems\",\"mean\",\"hard\",\"each\",\"until\",\"groups\",\"among\",\"E17\",\"travel\",\"February\",\"night\",\"When\",\"wondering\",\"available\",\"extremely\",\"offer\",\"started\",\"deals\",\"art\",\"meal\",\"Chicago\",\"fun\",\"believe\",\"police\",\"three\",\"received\",\"BBC\",\"term\",\"wife\",\"idea\",\"terrorist\",\"question\",\"months\",\"Laden\",\"September\",\"team\",\"wait\",\"wo\",\"below\",\"Just\",\"gas\",\"highly\",\"test\",\"top\",\"book\",\"All\",\"page\",\"private\",\"places\",\"dog\",\"San\",\"prices\",\"Is\",\"certainly\",\"wants\",\"town\",\"See\",\"within\",\"Which\",\"added\",\"light\",\"whether\",\"early\",\"Palestinian\",\"case\",\"regarding\",\"David\",\"interested\",\"credit\",\"draft\",\"results\",\"problem\",\"both\",\"pleased\",\"restaurants\",\"burger\",\"computer\",\"cheap\",\"nothing\",\"recommended\",\"easy\",\"account\",\"behind\",\"become\",\"respect\",\"whole\",\"section\",\"hour\",\"move\",\"shares\",\"having\",\"involved\",\"January\",\"seen\",\"War\",\"After\",\"worked\",\"girl\",\"weekend\",\"Mike\",\"Now\",\"Risk\",\"Fax\",\"Call\",\"Hi\",\"Can\",\"issues\",\"hope\",\"bar\",\"Job\",\".?\",\"meeting\",\"gave\",\"access\",\"taking\",\"link\",\"water\",\"busy\",\"camera\",\"Food\",\"Excellent\",\"across\",\"article\",\"However\",\"hand\",\"cool\",\"says\",\"enjoyed\",\"along\",\"once\",\"Most\",\"peace\",\"sounds\",\"market\",\"change\",\"government\",\"Bin\",\"wrong\",\"air\",\"following\",\"Have\",\"suggestions\",\"Houston\",\"contact\",\"regards\",\"'d\",\"Tuesday\",\"wish\",\"open\",\"Indian\",\"Green\",\"K\",\"line\",\"often\",\"Winston\",\"style\",\"pizza\",\"heard\",\"operation\",\"online\",\"weapons\",\"power\",\"either\",\"upon\",\"fact\",\"political\",\"according\",\"hear\",\"Bill\",\"value\",\"reason\",\"worth\",\"statement\",\"word\",\"attack\",\"forces\",\"radical\",\"U.S.\",\"Street\",\"11\",\"coming\",\"fall\",\"thinking\",\"talking\",\"risk\",\"trying\",\"Hope\",\"play\",\"7\",\"Inc.\",\"morning\",\"sent\",\"HPL\",\"THE\",\"web\",\"Also\",\"4\",\"guaranty\",\"looked\",\"Dr.\",\"needed\",\"data\",\"live\",\"four\",\"future\",\"children\",\"tell\",\"Argentina\",\"least\",\"favorite\",\"rude\",\"She\",\"Does\",\"To\",\"view\",\"hands\",\"news\",\"level\",\"vote\",\"filed\",\"front\",\"guy\",\"medical\",\"spot\",\"party\",\"Hezbollah\",\"direct\",\"Mississauga\",\"Holy\",\"especially\",\"Clinton\",\"6\",\"known\",\"fair\",\"Of\",\"administration\",\"lots\",\"remember\",\"ideas\",\"Phone\",\"asked\",\"Michael\",\"Attached\",\"20.000\",\"mind\",\"lunch\",\"changes\",\"December\",\"delivery\",\"touch\",\"Mark\",\"PPA\",\"paper\",\"16\",\"ready\",\"attention\",\"above\",\"story\",\"visit\",\"wonderful\",\"Wei\",\"together\",\"tragedy\",\"highway\",\"atmosphere\",\"pleasant\",\"lol\",\"cost\",\"face\",\"Francisco\",\"cream\",\"reasonable\",\"Go\",\"eggs\",\"show\",\"calling\",\"Friday\",\"remain\",\"announced\",\"given\",\"point\",\"research\",\"means\",\"gone\",\"inside\",\"scheduled\",\"simple\",\"Abdul\",\"main\",\"men\",\"sound\",\"everyone\",\"Al\",\"Afghanistan\",\"answer\",\"World\",\"chance\",\"summer\",\"details\",\"daily\",\"ride\",\"action\",\"comes\",\"sorry\",\"discuss\",\"+\",\"ENA\",\"2000\",\"extra\",\"Center\",\"Would\",\"revised\",\"Our\",\"longer\",\"Your\",\"wedding\",\"For\",\"response\",\"type\",\"named\",\"Groups\",\"cats\",\"arrested\",\"beautiful\",\"Wonderful\",\"flight\",\"White\",\"launch\",\"expensive\",\"slow\",\"etc\",\"fish\",\"breakfast\",\"photography\",\"charge\",\"Why\",\"200\",\"ice\",\"Microsoft\",\"Mary\",\"stock\",\"important\",\"besides\",\"worried\",\"Iran\",\"States\",\"troops\",\"Saddam\",\"share\",\"due\",\"Parts\",\"finished\",\"Washington\",\"quickly\",\"however\",\"taken\",\"Union\",\"situation\",\"giving\",\"grow\",\"major\",\"happens\",\"saying\",\"countries\",\"bring\",\"opposed\",\"whom\",\"militant\",\"Monotheism\",\"true\",\"sign\",\"obviously\",\"members\",\"stop\",\"office\",\"2001\",\"plan\",\"Pakistani\",\"whatever\",\"bet\",\"enron\",\"ticket\",\"hoping\",\"purchase\",\"agreement\",\"Elizabeth\",\"Sara\",\"13\",\"review\",\"leave\",\"weather\",\"Web\",\"Janette\",\"Elbertson\",\"ok\",\"MMBTU\",\"Did\",\"Texas\",\"including\",\"capital\",\"environment\",\"Sheridan\",\"01/24/2001\",\"Department\",\"Darrell\",\"Kam\",\"anywhere\",\"financial\",\"estate\",\"Nice\",\"alt.animals.cat\",\"quite\",\"Chinese\",\"North\",\"painting\",\"street\",\"moon\",\"sector\",\"House\",\"shuttle\",\"rockets\",\"rocket\",\"past\",\"Or\",\"five\",\"ve\",\"Air\",\"owner\",\"NZ\",\"Bay\",\"vet\",\"meat\",\"fantastic\",\"keep\",\"tmobile\",\"Israeli\",\"cat\",\"Abbas\",\"via\",\"shows\",\"energy\",\"proof\",\"connection\",\"military\",\"Americans\",\"frequently\",\"killed\",\"fire\",\"general\",\"leaders\",\"soldiers\",\"Court\",\"decision\",\"VI\",\"agree\",\"update\",\"State\",\"UN\",\"rate\",\"gifts\",\"charity\",\"knows\",\"starting\",\"Palestinians\",\"trust\",\"pull\",\"Iraqis\",\"High\",\"Toronto\",\"19\",\"Jihad\",\"key\",\"oil\",\"companies\",\"40\",\"white\",\"hair\",\"1999\",\"possibly\",\"refer\",\"somewhere\",\"waiting\",\"Hello\",\"Today\",\"additional\",\"class\",\"currently\",\"model\",\"pass\",\"per\",\"position\",\"meet\",\"return\",\"cell\",\"@\",\"First\",\"While\",\"understand\",\"August\",\"kids\",\"correct\",\"felt\",\"drink\",\"USA\",\"healthy\",\"options\",\"favor\",\"amount\",\"run\",\"large\",\"8\",\"Delhi\",\"Systems\",\"talk\",\"China\",\"table\",\"People\",\"it's\",\"Action\",\"boy\",\"coffee\",\"prefer\",\"m\",\"chain\",\"bacon\",\"okay\",\"video\",\"fixing\",\"gift\",\"near\",\"corner\"],\"x1\":{\"__ndarray__\":\"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\",\"dtype\":\"float32\",\"shape\":[1000]},\"x2\":{\"__ndarray__\":\"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\",\"dtype\":\"float32\",\"shape\":[1000]}}},\"id\":\"71a500b0-9a98-481c-a43f-b5cdced263cb\",\"type\":\"ColumnDataSource\"},{\"attributes\":{},\"id\":\"f8023d80-059f-42d1-a875-364b3d30a948\",\"type\":\"ResetTool\"},{\"attributes\":{},\"id\":\"a4f9b027-f276-4d07-9089-88a57c9b280c\",\"type\":\"SaveTool\"},{\"attributes\":{\"callback\":null},\"id\":\"a45ae34e-811f-45b7-997d-e468fd4e565c\",\"type\":\"DataRange1d\"},{\"attributes\":{\"source\":{\"id\":\"71a500b0-9a98-481c-a43f-b5cdced263cb\",\"type\":\"ColumnDataSource\"}},\"id\":\"69c55fea-e31b-466c-b3c9-4b6fd9af834c\",\"type\":\"CDSView\"}],\"root_ids\":[\"6e31336b-8785-40bb-92ed-3b60c6813cb2\"]},\"title\":\"Bokeh Application\",\"version\":\"0.12.10\"}};\n",
       "    var render_items = [{\"docid\":\"2129fd5c-fbdb-4e58-9e7f-d01fbd7cd59a\",\"elementid\":\"56964304-4811-4ba2-9706-c8b39ebca0a1\",\"modelid\":\"6e31336b-8785-40bb-92ed-3b60c6813cb2\"}];\n",
       "\n",
       "    root.Bokeh.embed.embed_items(docs_json, render_items);\n",
       "  }\n",
       "\n",
       "  if (root.Bokeh !== undefined) {\n",
       "    embed_document(root);\n",
       "  } else {\n",
       "    var attempts = 0;\n",
       "    var timer = setInterval(function(root) {\n",
       "      if (root.Bokeh !== undefined) {\n",
       "        embed_document(root);\n",
       "        clearInterval(timer);\n",
       "      }\n",
       "      attempts++;\n",
       "      if (attempts > 100) {\n",
       "        console.log(\"Bokeh: ERROR: Unable to embed document because BokehJS library is missing\")\n",
       "        clearInterval(timer);\n",
       "      }\n",
       "    }, 10, root)\n",
       "  }\n",
       "})(window);"
      ],
      "application/vnd.bokehjs_exec.v0+json": ""
     },
     "metadata": {
      "application/vnd.bokehjs_exec.v0+json": {
       "id": "6e31336b-8785-40bb-92ed-3b60c6813cb2"
      }
     },
     "output_type": "display_data"
    }
   ],
   "source": [
    "top_words = [k for k,v in gensim_word_count.most_common(1000)]\n",
    "top_word_vecs = gensim_word_model[top_words]\n",
    "emb_scatter(top_word_vecs, top_words, N=20)"
   ]
  },
  {
   "cell_type": "code",
   "execution_count": 12,
   "metadata": {},
   "outputs": [
    {
     "name": "stdout",
     "output_type": "stream",
     "text": [
      "finding clusters\n",
      "fitting tsne\n"
     ]
    },
    {
     "data": {
      "text/html": [
       "\n",
       "<div class=\"bk-root\">\n",
       "    <div class=\"bk-plotdiv\" id=\"914ffffc-efb9-4273-87ed-6350e3d35cb2\"></div>\n",
       "</div>"
      ]
     },
     "metadata": {},
     "output_type": "display_data"
    },
    {
     "data": {
      "application/javascript": [
       "(function(root) {\n",
       "  function embed_document(root) {\n",
       "    var docs_json = {\"5f8c3683-8af6-4f1e-be11-d8c16fe5973e\":{\"roots\":{\"references\":[{\"attributes\":{},\"id\":\"258be452-192b-429a-81e1-dbdaa928887b\",\"type\":\"LinearScale\"},{\"attributes\":{},\"id\":\"d15b706f-db8b-48ea-a35e-e47917386133\",\"type\":\"BasicTickFormatter\"},{\"attributes\":{\"below\":[{\"id\":\"ae34978a-d2e0-4112-bb69-1296e5d48921\",\"type\":\"LinearAxis\"}],\"left\":[{\"id\":\"4c805e65-3fae-4a65-9d17-95df292da99a\",\"type\":\"LinearAxis\"}],\"renderers\":[{\"id\":\"ae34978a-d2e0-4112-bb69-1296e5d48921\",\"type\":\"LinearAxis\"},{\"id\":\"d73af264-6954-4836-8eb7-215ae4f09f2d\",\"type\":\"Grid\"},{\"id\":\"4c805e65-3fae-4a65-9d17-95df292da99a\",\"type\":\"LinearAxis\"},{\"id\":\"fb609007-103a-40ac-bbcd-5a56ad00bf54\",\"type\":\"Grid\"},{\"id\":\"a4b0d1c1-335d-4eac-b830-1f1b685cdd57\",\"type\":\"GlyphRenderer\"},{\"id\":\"adf567f0-ee0e-4740-97cf-3e33d5155286\",\"type\":\"LabelSet\"}],\"title\":{\"id\":\"f194712a-dbb4-46e3-9146-98050dde4495\",\"type\":\"Title\"},\"toolbar\":{\"id\":\"333aa1d5-469e-4ef1-865e-a8f7414a6444\",\"type\":\"Toolbar\"},\"toolbar_location\":\"above\",\"x_range\":{\"id\":\"1c62c5b8-4e47-40aa-b7b3-f47c520a2cb7\",\"type\":\"DataRange1d\"},\"x_scale\":{\"id\":\"0d703285-6077-4894-bf57-5185794244d3\",\"type\":\"LinearScale\"},\"y_range\":{\"id\":\"ebb27681-a440-40ec-81da-b92048b987ea\",\"type\":\"DataRange1d\"},\"y_scale\":{\"id\":\"258be452-192b-429a-81e1-dbdaa928887b\",\"type\":\"LinearScale\"}},\"id\":\"20711119-4580-4472-a721-f8618eb5e9ac\",\"subtype\":\"Figure\",\"type\":\"Plot\"},{\"attributes\":{},\"id\":\"826ec311-a2d9-4542-b2e4-ceca3ca12a12\",\"type\":\"BasicTickFormatter\"},{\"attributes\":{\"callback\":null},\"id\":\"1c62c5b8-4e47-40aa-b7b3-f47c520a2cb7\",\"type\":\"DataRange1d\"},{\"attributes\":{},\"id\":\"b0f6b2e4-06e6-4a5a-a686-645a28de65cc\",\"type\":\"BasicTicker\"},{\"attributes\":{\"plot\":null,\"text\":\"T-SNE for most common words\"},\"id\":\"f194712a-dbb4-46e3-9146-98050dde4495\",\"type\":\"Title\"},{\"attributes\":{},\"id\":\"ff8ffe7b-1443-489e-b12c-28db2e6d4a82\",\"type\":\"PanTool\"},{\"attributes\":{\"data_source\":{\"id\":\"2be4e965-5d70-4b11-b0f9-12d5e67d5906\",\"type\":\"ColumnDataSource\"},\"glyph\":{\"id\":\"dae15220-fde1-4369-bd09-f064e31d609b\",\"type\":\"Circle\"},\"hover_glyph\":null,\"muted_glyph\":null,\"nonselection_glyph\":{\"id\":\"bc4253fb-f6c0-415b-ae3c-44667f843b2c\",\"type\":\"Circle\"},\"selection_glyph\":null,\"view\":{\"id\":\"fc1aa82f-706b-4ee1-a178-65fbab1c9987\",\"type\":\"CDSView\"}},\"id\":\"a4b0d1c1-335d-4eac-b830-1f1b685cdd57\",\"type\":\"GlyphRenderer\"},{\"attributes\":{\"callback\":null,\"column_names\":[\"x1\",\"x2\",\"names\",\"colors\"],\"data\":{\"colors\":[\"#ff7f0e\",\"#ff9896\",\"#8c564b\",\"#1f77b4\",\"#c49c94\",\"#ffbb78\",\"#e377c2\",\"#f7b6d2\",\"#7f7f7f\",\"#bcbd22\",\"#9467bd\",\"#c7c7c7\",\"#d62728\",\"#98df8a\",\"#2ca02c\",\"#c5b0d5\",\"#aec7e8\"],\"names\":[\"NOUN\",\"PUNCT\",\"VERB\",\"PRON\",\"ADP\",\"PROPN\",\"DET\",\"ADJ\",\"AUX\",\"ADV\",\"CCONJ\",\"PART\",\"NUM\",\"SCONJ\",\"X\",\"INTJ\",\"SYM\"],\"x1\":{\"__ndarray__\":\"FSQHwcRA4UAAb+8+fqP7PzXGQsH0gqy/qOTLwCF5+r+nuQ3BzJ2FP3TvVsBcJtvAweHCQC96iEAEJWfBwYlAwQ1qqsA=\",\"dtype\":\"float32\",\"shape\":[17]},\"x2\":{\"__ndarray__\":\"63QhwqhxAMJpKgnCSbjnwduhDsJMssXBUfqfwfUSIsIKQfXBkJ2Zwe9v8MG0Z83BZIDFwTg9GcKAQ+7BI6y9wfbFDcI=\",\"dtype\":\"float32\",\"shape\":[17]}}},\"id\":\"2be4e965-5d70-4b11-b0f9-12d5e67d5906\",\"type\":\"ColumnDataSource\"},{\"attributes\":{},\"id\":\"639cf3f1-98d2-4d38-9d8f-094e1e9cf85f\",\"type\":\"BasicTicker\"},{\"attributes\":{\"formatter\":{\"id\":\"d15b706f-db8b-48ea-a35e-e47917386133\",\"type\":\"BasicTickFormatter\"},\"plot\":{\"id\":\"20711119-4580-4472-a721-f8618eb5e9ac\",\"subtype\":\"Figure\",\"type\":\"Plot\"},\"ticker\":{\"id\":\"b0f6b2e4-06e6-4a5a-a686-645a28de65cc\",\"type\":\"BasicTicker\"}},\"id\":\"4c805e65-3fae-4a65-9d17-95df292da99a\",\"type\":\"LinearAxis\"},{\"attributes\":{\"dimension\":1,\"plot\":{\"id\":\"20711119-4580-4472-a721-f8618eb5e9ac\",\"subtype\":\"Figure\",\"type\":\"Plot\"},\"ticker\":{\"id\":\"b0f6b2e4-06e6-4a5a-a686-645a28de65cc\",\"type\":\"BasicTicker\"}},\"id\":\"fb609007-103a-40ac-bbcd-5a56ad00bf54\",\"type\":\"Grid\"},{\"attributes\":{\"formatter\":{\"id\":\"826ec311-a2d9-4542-b2e4-ceca3ca12a12\",\"type\":\"BasicTickFormatter\"},\"plot\":{\"id\":\"20711119-4580-4472-a721-f8618eb5e9ac\",\"subtype\":\"Figure\",\"type\":\"Plot\"},\"ticker\":{\"id\":\"639cf3f1-98d2-4d38-9d8f-094e1e9cf85f\",\"type\":\"BasicTicker\"}},\"id\":\"ae34978a-d2e0-4112-bb69-1296e5d48921\",\"type\":\"LinearAxis\"},{\"attributes\":{\"plot\":{\"id\":\"20711119-4580-4472-a721-f8618eb5e9ac\",\"subtype\":\"Figure\",\"type\":\"Plot\"},\"source\":{\"id\":\"2be4e965-5d70-4b11-b0f9-12d5e67d5906\",\"type\":\"ColumnDataSource\"},\"text\":{\"field\":\"names\"},\"text_align\":\"center\",\"text_color\":{\"value\":\"#555555\"},\"text_font_size\":{\"value\":\"8pt\"},\"x\":{\"field\":\"x1\"},\"y\":{\"field\":\"x2\"},\"y_offset\":{\"value\":6}},\"id\":\"adf567f0-ee0e-4740-97cf-3e33d5155286\",\"type\":\"LabelSet\"},{\"attributes\":{\"callback\":null},\"id\":\"ebb27681-a440-40ec-81da-b92048b987ea\",\"type\":\"DataRange1d\"},{\"attributes\":{\"fill_color\":{\"field\":\"colors\"},\"line_color\":{\"field\":\"colors\"},\"size\":{\"units\":\"screen\",\"value\":8},\"x\":{\"field\":\"x1\"},\"y\":{\"field\":\"x2\"}},\"id\":\"dae15220-fde1-4369-bd09-f064e31d609b\",\"type\":\"Circle\"},{\"attributes\":{\"fill_alpha\":{\"value\":0.1},\"fill_color\":{\"value\":\"#1f77b4\"},\"line_alpha\":{\"value\":0.1},\"line_color\":{\"value\":\"#1f77b4\"},\"size\":{\"units\":\"screen\",\"value\":8},\"x\":{\"field\":\"x1\"},\"y\":{\"field\":\"x2\"}},\"id\":\"bc4253fb-f6c0-415b-ae3c-44667f843b2c\",\"type\":\"Circle\"},{\"attributes\":{\"plot\":{\"id\":\"20711119-4580-4472-a721-f8618eb5e9ac\",\"subtype\":\"Figure\",\"type\":\"Plot\"},\"ticker\":{\"id\":\"639cf3f1-98d2-4d38-9d8f-094e1e9cf85f\",\"type\":\"BasicTicker\"}},\"id\":\"d73af264-6954-4836-8eb7-215ae4f09f2d\",\"type\":\"Grid\"},{\"attributes\":{},\"id\":\"a87c3888-b20b-4bad-a484-2b1cb58f297d\",\"type\":\"SaveTool\"},{\"attributes\":{\"active_drag\":\"auto\",\"active_inspect\":\"auto\",\"active_scroll\":\"auto\",\"active_tap\":\"auto\",\"tools\":[{\"id\":\"ff8ffe7b-1443-489e-b12c-28db2e6d4a82\",\"type\":\"PanTool\"},{\"id\":\"c27c6bce-d9d8-43ae-88ac-b82ac8effa85\",\"type\":\"WheelZoomTool\"},{\"id\":\"934dca91-b631-4f73-ba34-3fd96fb63815\",\"type\":\"ResetTool\"},{\"id\":\"a87c3888-b20b-4bad-a484-2b1cb58f297d\",\"type\":\"SaveTool\"}]},\"id\":\"333aa1d5-469e-4ef1-865e-a8f7414a6444\",\"type\":\"Toolbar\"},{\"attributes\":{},\"id\":\"934dca91-b631-4f73-ba34-3fd96fb63815\",\"type\":\"ResetTool\"},{\"attributes\":{},\"id\":\"c27c6bce-d9d8-43ae-88ac-b82ac8effa85\",\"type\":\"WheelZoomTool\"},{\"attributes\":{\"source\":{\"id\":\"2be4e965-5d70-4b11-b0f9-12d5e67d5906\",\"type\":\"ColumnDataSource\"}},\"id\":\"fc1aa82f-706b-4ee1-a178-65fbab1c9987\",\"type\":\"CDSView\"},{\"attributes\":{},\"id\":\"0d703285-6077-4894-bf57-5185794244d3\",\"type\":\"LinearScale\"}],\"root_ids\":[\"20711119-4580-4472-a721-f8618eb5e9ac\"]},\"title\":\"Bokeh Application\",\"version\":\"0.12.10\"}};\n",
       "    var render_items = [{\"docid\":\"5f8c3683-8af6-4f1e-be11-d8c16fe5973e\",\"elementid\":\"914ffffc-efb9-4273-87ed-6350e3d35cb2\",\"modelid\":\"20711119-4580-4472-a721-f8618eb5e9ac\"}];\n",
       "\n",
       "    root.Bokeh.embed.embed_items(docs_json, render_items);\n",
       "  }\n",
       "\n",
       "  if (root.Bokeh !== undefined) {\n",
       "    embed_document(root);\n",
       "  } else {\n",
       "    var attempts = 0;\n",
       "    var timer = setInterval(function(root) {\n",
       "      if (root.Bokeh !== undefined) {\n",
       "        embed_document(root);\n",
       "        clearInterval(timer);\n",
       "      }\n",
       "      attempts++;\n",
       "      if (attempts > 100) {\n",
       "        console.log(\"Bokeh: ERROR: Unable to embed document because BokehJS library is missing\")\n",
       "        clearInterval(timer);\n",
       "      }\n",
       "    }, 10, root)\n",
       "  }\n",
       "})(window);"
      ],
      "application/vnd.bokehjs_exec.v0+json": ""
     },
     "metadata": {
      "application/vnd.bokehjs_exec.v0+json": {
       "id": "20711119-4580-4472-a721-f8618eb5e9ac"
      }
     },
     "output_type": "display_data"
    }
   ],
   "source": [
    "top_POS = [k for k,v in gensim_POS_count.most_common(1000)]\n",
    "top_POS_vecs = gensim_POS_model[top_POS]\n",
    "emb_scatter(top_POS_vecs, top_POS, N=17)"
   ]
  },
  {
   "cell_type": "markdown",
   "metadata": {},
   "source": [
    "### b. Gensim Word2Vector trained on Wikipedia data:"
   ]
  },
  {
   "cell_type": "code",
   "execution_count": null,
   "metadata": {
    "collapsed": true
   },
   "outputs": [],
   "source": []
  },
  {
   "cell_type": "markdown",
   "metadata": {},
   "source": [
    "### c. GloVe word embeddings from  spacy library(300d):"
   ]
  },
  {
   "cell_type": "code",
   "execution_count": 27,
   "metadata": {},
   "outputs": [],
   "source": [
    "import spacy\n",
    "glove = spacy.load('en')\n",
    "\n",
    "word_embeddings_dict = {}\n",
    "for word in word_vocabulary:\n",
    "    word_embeddings_dict[word] = glove(word).vector\n",
    "\n",
    "POS_embeddings_dict = {}\n",
    "for POS_tag in pos_tag_vocabulary:\n",
    "    POS_embeddings_dict[POS_tag] = glove(POS_tag).vector"
   ]
  },
  {
   "cell_type": "code",
   "execution_count": 53,
   "metadata": {},
   "outputs": [
    {
     "name": "stdout",
     "output_type": "stream",
     "text": [
      "finding clusters\n",
      "fitting tsne\n"
     ]
    },
    {
     "data": {
      "text/html": [
       "\n",
       "<div class=\"bk-root\">\n",
       "    <div class=\"bk-plotdiv\" id=\"73b62178-4c5c-4e7e-9d6e-d2cdc448bdab\"></div>\n",
       "</div>"
      ]
     },
     "metadata": {},
     "output_type": "display_data"
    },
    {
     "data": {
      "application/javascript": [
       "(function(root) {\n",
       "  function embed_document(root) {\n",
       "    var docs_json = {\"7ef8969e-8954-4aaa-9840-830fe099e232\":{\"roots\":{\"references\":[{\"attributes\":{},\"id\":\"8db844be-0b62-4152-88d6-0cb04772cd6f\",\"type\":\"BasicTickFormatter\"},{\"attributes\":{},\"id\":\"e82fb3cf-f524-47b1-ac09-62ebacc57a2d\",\"type\":\"BasicTicker\"},{\"attributes\":{},\"id\":\"8c4a1630-3e11-4912-8e37-f46fa5195f51\",\"type\":\"LinearScale\"},{\"attributes\":{},\"id\":\"ba651fec-28f9-4f26-9bdb-44ac5b33cdbb\",\"type\":\"ResetTool\"},{\"attributes\":{},\"id\":\"397795b8-4a96-4e5e-b400-609469939725\",\"type\":\"BasicTickFormatter\"},{\"attributes\":{\"active_drag\":\"auto\",\"active_inspect\":\"auto\",\"active_scroll\":\"auto\",\"active_tap\":\"auto\",\"tools\":[{\"id\":\"1845f655-def4-4495-80ed-d47c6cd1158f\",\"type\":\"PanTool\"},{\"id\":\"f5518475-6ede-450e-97fe-6541e22a97c6\",\"type\":\"WheelZoomTool\"},{\"id\":\"ba651fec-28f9-4f26-9bdb-44ac5b33cdbb\",\"type\":\"ResetTool\"},{\"id\":\"cfca21b7-df2b-4820-af24-a5fec7b0e693\",\"type\":\"SaveTool\"}]},\"id\":\"6cb61295-5bee-4b27-95a9-2aee5a46cbdc\",\"type\":\"Toolbar\"},{\"attributes\":{\"dimension\":1,\"plot\":{\"id\":\"35924cca-a341-4ecc-8475-c434e18de686\",\"subtype\":\"Figure\",\"type\":\"Plot\"},\"ticker\":{\"id\":\"e82fb3cf-f524-47b1-ac09-62ebacc57a2d\",\"type\":\"BasicTicker\"}},\"id\":\"6475abd3-43fc-49ae-a088-7fa530fccc54\",\"type\":\"Grid\"},{\"attributes\":{\"plot\":null,\"text\":\"T-SNE for most common words\"},\"id\":\"16233282-dad2-4fc8-81f2-a02c8d54401b\",\"type\":\"Title\"},{\"attributes\":{},\"id\":\"cfca21b7-df2b-4820-af24-a5fec7b0e693\",\"type\":\"SaveTool\"},{\"attributes\":{\"fill_alpha\":{\"value\":0.1},\"fill_color\":{\"value\":\"#1f77b4\"},\"line_alpha\":{\"value\":0.1},\"line_color\":{\"value\":\"#1f77b4\"},\"size\":{\"units\":\"screen\",\"value\":8},\"x\":{\"field\":\"x1\"},\"y\":{\"field\":\"x2\"}},\"id\":\"8698680c-7223-40d4-bad9-c50eba3df75a\",\"type\":\"Circle\"},{\"attributes\":{\"plot\":{\"id\":\"35924cca-a341-4ecc-8475-c434e18de686\",\"subtype\":\"Figure\",\"type\":\"Plot\"},\"ticker\":{\"id\":\"f7007086-13a9-4830-a84f-9b435e148252\",\"type\":\"BasicTicker\"}},\"id\":\"47dcaada-fec0-43b3-9623-136a59fd3d4b\",\"type\":\"Grid\"},{\"attributes\":{},\"id\":\"f7007086-13a9-4830-a84f-9b435e148252\",\"type\":\"BasicTicker\"},{\"attributes\":{\"callback\":null},\"id\":\"d4ddff1c-6c49-4649-a683-862176505cd2\",\"type\":\"DataRange1d\"},{\"attributes\":{\"data_source\":{\"id\":\"2c9dea58-06cd-4707-9bb1-d9f2e0e83d6b\",\"type\":\"ColumnDataSource\"},\"glyph\":{\"id\":\"8c529a39-bae8-4f96-bb0f-864ea099e08b\",\"type\":\"Circle\"},\"hover_glyph\":null,\"muted_glyph\":null,\"nonselection_glyph\":{\"id\":\"8698680c-7223-40d4-bad9-c50eba3df75a\",\"type\":\"Circle\"},\"selection_glyph\":null,\"view\":{\"id\":\"fa2a632e-76f6-40a8-be18-efddfa7f11ac\",\"type\":\"CDSView\"}},\"id\":\"ebd1cf00-789a-4c49-8843-49d7338925ff\",\"type\":\"GlyphRenderer\"},{\"attributes\":{\"formatter\":{\"id\":\"397795b8-4a96-4e5e-b400-609469939725\",\"type\":\"BasicTickFormatter\"},\"plot\":{\"id\":\"35924cca-a341-4ecc-8475-c434e18de686\",\"subtype\":\"Figure\",\"type\":\"Plot\"},\"ticker\":{\"id\":\"e82fb3cf-f524-47b1-ac09-62ebacc57a2d\",\"type\":\"BasicTicker\"}},\"id\":\"46473f8f-517a-4c34-ac37-2a4e62977a3f\",\"type\":\"LinearAxis\"},{\"attributes\":{\"plot\":{\"id\":\"35924cca-a341-4ecc-8475-c434e18de686\",\"subtype\":\"Figure\",\"type\":\"Plot\"},\"source\":{\"id\":\"2c9dea58-06cd-4707-9bb1-d9f2e0e83d6b\",\"type\":\"ColumnDataSource\"},\"text\":{\"field\":\"names\"},\"text_align\":\"center\",\"text_color\":{\"value\":\"#555555\"},\"text_font_size\":{\"value\":\"8pt\"},\"x\":{\"field\":\"x1\"},\"y\":{\"field\":\"x2\"},\"y_offset\":{\"value\":6}},\"id\":\"6b83c1bc-9a8e-4434-b22c-a990202dcdc2\",\"type\":\"LabelSet\"},{\"attributes\":{\"source\":{\"id\":\"2c9dea58-06cd-4707-9bb1-d9f2e0e83d6b\",\"type\":\"ColumnDataSource\"}},\"id\":\"fa2a632e-76f6-40a8-be18-efddfa7f11ac\",\"type\":\"CDSView\"},{\"attributes\":{\"callback\":null},\"id\":\"a596cc99-80d7-40ec-b361-d39bbb9d342d\",\"type\":\"DataRange1d\"},{\"attributes\":{\"below\":[{\"id\":\"a46d61ba-e2ce-4b5e-8861-9e03ebd803fe\",\"type\":\"LinearAxis\"}],\"left\":[{\"id\":\"46473f8f-517a-4c34-ac37-2a4e62977a3f\",\"type\":\"LinearAxis\"}],\"renderers\":[{\"id\":\"a46d61ba-e2ce-4b5e-8861-9e03ebd803fe\",\"type\":\"LinearAxis\"},{\"id\":\"47dcaada-fec0-43b3-9623-136a59fd3d4b\",\"type\":\"Grid\"},{\"id\":\"46473f8f-517a-4c34-ac37-2a4e62977a3f\",\"type\":\"LinearAxis\"},{\"id\":\"6475abd3-43fc-49ae-a088-7fa530fccc54\",\"type\":\"Grid\"},{\"id\":\"ebd1cf00-789a-4c49-8843-49d7338925ff\",\"type\":\"GlyphRenderer\"},{\"id\":\"6b83c1bc-9a8e-4434-b22c-a990202dcdc2\",\"type\":\"LabelSet\"}],\"title\":{\"id\":\"16233282-dad2-4fc8-81f2-a02c8d54401b\",\"type\":\"Title\"},\"toolbar\":{\"id\":\"6cb61295-5bee-4b27-95a9-2aee5a46cbdc\",\"type\":\"Toolbar\"},\"toolbar_location\":\"above\",\"x_range\":{\"id\":\"d4ddff1c-6c49-4649-a683-862176505cd2\",\"type\":\"DataRange1d\"},\"x_scale\":{\"id\":\"8c4a1630-3e11-4912-8e37-f46fa5195f51\",\"type\":\"LinearScale\"},\"y_range\":{\"id\":\"a596cc99-80d7-40ec-b361-d39bbb9d342d\",\"type\":\"DataRange1d\"},\"y_scale\":{\"id\":\"befd7d98-8b14-4bc8-8dac-6727752074cb\",\"type\":\"LinearScale\"}},\"id\":\"35924cca-a341-4ecc-8475-c434e18de686\",\"subtype\":\"Figure\",\"type\":\"Plot\"},{\"attributes\":{},\"id\":\"f5518475-6ede-450e-97fe-6541e22a97c6\",\"type\":\"WheelZoomTool\"},{\"attributes\":{\"callback\":null,\"column_names\":[\"x1\",\"x2\",\"names\",\"colors\"],\"data\":{\"colors\":[\"#ff9896\",\"#1f77b4\",\"#ff9896\",\"#c49c94\",\"#7f7f7f\",\"#1f77b4\",\"#f7b6d2\",\"#c49c94\",\"#c49c94\",\"#dbdb8d\",\"#f7b6d2\",\"#c49c94\",\"#c49c94\",\"#ff9896\",\"#f7b6d2\",\"#9467bd\",\"#ff9896\",\"#c49c94\",\"#c49c94\",\"#ff9896\",\"#9467bd\",\"#9467bd\",\"#8c564b\",\"#ff9896\",\"#dbdb8d\",\"#1f77b4\",\"#1f77b4\",\"#c49c94\",\"#c5b0d5\",\"#ff9896\",\"#ff9896\",\"#1f77b4\",\"#ff9896\",\"#f7b6d2\",\"#c5b0d5\",\"#9467bd\",\"#ff9896\",\"#c49c94\",\"#f7b6d2\",\"#c49c94\",\"#7f7f7f\",\"#f7b6d2\",\"#7f7f7f\",\"#ff9896\",\"#c5b0d5\",\"#2ca02c\",\"#ff9896\",\"#dbdb8d\",\"#c49c94\",\"#f7b6d2\",\"#1f77b4\",\"#c49c94\",\"#1f77b4\",\"#c49c94\",\"#1f77b4\",\"#8c564b\",\"#9467bd\",\"#c49c94\",\"#7f7f7f\",\"#9467bd\",\"#c5b0d5\",\"#ff9896\",\"#c5b0d5\",\"#c49c94\",\"#2ca02c\",\"#e377c2\",\"#ff9896\",\"#aec7e8\",\"#c5b0d5\",\"#f7b6d2\",\"#e377c2\",\"#f7b6d2\",\"#8c564b\",\"#c49c94\",\"#f7b6d2\",\"#e377c2\",\"#8c564b\",\"#9467bd\",\"#1f77b4\",\"#1f77b4\",\"#f7b6d2\",\"#1f77b4\",\"#1f77b4\",\"#9467bd\",\"#ff9896\",\"#98df8a\",\"#1f77b4\",\"#ff9896\",\"#ff9896\",\"#17becf\",\"#e377c2\",\"#9467bd\",\"#ff9896\",\"#ff9896\",\"#1f77b4\",\"#ff9896\",\"#c5b0d5\",\"#ff9896\",\"#f7b6d2\",\"#2ca02c\",\"#ff9896\",\"#c49c94\",\"#1f77b4\",\"#c7c7c7\",\"#ff7f0e\",\"#9467bd\",\"#c5b0d5\",\"#2ca02c\",\"#c5b0d5\",\"#ff9896\",\"#7f7f7f\",\"#f7b6d2\",\"#9467bd\",\"#c49c94\",\"#ffbb78\",\"#8c564b\",\"#ff9896\",\"#9467bd\",\"#c5b0d5\",\"#7f7f7f\",\"#c5b0d5\",\"#9467bd\",\"#f7b6d2\",\"#7f7f7f\",\"#ff9896\",\"#2ca02c\",\"#c5b0d5\",\"#c5b0d5\",\"#8c564b\",\"#9467bd\",\"#1f77b4\",\"#ff7f0e\",\"#c49c94\",\"#c5b0d5\",\"#9467bd\",\"#9edae5\",\"#ff9896\",\"#aec7e8\",\"#ff9896\",\"#2ca02c\",\"#f7b6d2\",\"#d62728\",\"#ff7f0e\",\"#c49c94\",\"#ff9896\",\"#c49c94\",\"#c5b0d5\",\"#2ca02c\",\"#d62728\",\"#2ca02c\",\"#d62728\",\"#c5b0d5\",\"#dbdb8d\",\"#1f77b4\",\"#e377c2\",\"#2ca02c\",\"#2ca02c\",\"#9467bd\",\"#f7b6d2\",\"#e377c2\",\"#c49c94\",\"#98df8a\",\"#ff9896\",\"#ff9896\",\"#c49c94\",\"#9467bd\",\"#e377c2\",\"#d62728\",\"#2ca02c\",\"#c5b0d5\",\"#ff7f0e\",\"#1f77b4\",\"#7f7f7f\",\"#e377c2\",\"#7f7f7f\",\"#e377c2\",\"#c5b0d5\",\"#2ca02c\",\"#e377c2\",\"#8c564b\",\"#9467bd\",\"#ff9896\",\"#9467bd\",\"#7f7f7f\",\"#c5b0d5\",\"#c5b0d5\",\"#2ca02c\",\"#ff9896\",\"#e377c2\",\"#c49c94\",\"#f7b6d2\",\"#ff9896\",\"#1f77b4\",\"#ffbb78\",\"#c5b0d5\",\"#7f7f7f\",\"#ff9896\",\"#e377c2\",\"#d62728\",\"#9467bd\",\"#ff7f0e\",\"#f7b6d2\",\"#bcbd22\",\"#9467bd\",\"#c49c94\",\"#8c564b\",\"#9467bd\",\"#1f77b4\",\"#98df8a\",\"#c5b0d5\",\"#d62728\",\"#c49c94\",\"#2ca02c\",\"#c5b0d5\",\"#8c564b\",\"#9467bd\",\"#9467bd\",\"#9467bd\",\"#e377c2\",\"#9467bd\",\"#e377c2\",\"#e377c2\",\"#c49c94\",\"#8c564b\",\"#c7c7c7\",\"#ff9896\",\"#9467bd\",\"#9467bd\",\"#2ca02c\",\"#9467bd\",\"#1f77b4\",\"#bcbd22\",\"#e377c2\",\"#9467bd\",\"#aec7e8\",\"#bcbd22\",\"#c49c94\",\"#1f77b4\",\"#7f7f7f\",\"#7f7f7f\",\"#bcbd22\",\"#e377c2\",\"#9edae5\",\"#c49c94\",\"#ff7f0e\",\"#c49c94\",\"#c5b0d5\",\"#ff7f0e\",\"#2ca02c\",\"#8c564b\",\"#e377c2\",\"#9edae5\",\"#9467bd\",\"#e377c2\",\"#ff9896\",\"#98df8a\",\"#2ca02c\",\"#aec7e8\",\"#d62728\",\"#e377c2\",\"#e377c2\",\"#8c564b\",\"#ff7f0e\",\"#c49c94\",\"#8c564b\",\"#aec7e8\",\"#d62728\",\"#98df8a\",\"#e377c2\",\"#ffbb78\",\"#d62728\",\"#c49c94\",\"#9467bd\",\"#aec7e8\",\"#2ca02c\",\"#d62728\",\"#e377c2\",\"#8c564b\",\"#7f7f7f\",\"#98df8a\",\"#ff9896\",\"#c5b0d5\",\"#7f7f7f\",\"#2ca02c\",\"#ff9896\",\"#2ca02c\",\"#8c564b\",\"#ffbb78\",\"#e377c2\",\"#7f7f7f\",\"#ff9896\",\"#e377c2\",\"#d62728\",\"#e377c2\",\"#e377c2\",\"#2ca02c\",\"#e377c2\",\"#c49c94\",\"#c5b0d5\",\"#9edae5\",\"#ffbb78\",\"#c7c7c7\",\"#c7c7c7\",\"#c49c94\",\"#aec7e8\",\"#8c564b\",\"#ffbb78\",\"#ff7f0e\",\"#ff7f0e\",\"#e377c2\",\"#c7c7c7\",\"#d62728\",\"#2ca02c\",\"#2ca02c\",\"#ff7f0e\",\"#ff7f0e\",\"#e377c2\",\"#7f7f7f\",\"#e377c2\",\"#1f77b4\",\"#8c564b\",\"#ffbb78\",\"#2ca02c\",\"#ffbb78\",\"#9467bd\",\"#98df8a\",\"#bcbd22\",\"#2ca02c\",\"#e377c2\",\"#e377c2\",\"#dbdb8d\",\"#c5b0d5\",\"#e377c2\",\"#c7c7c7\",\"#ff7f0e\",\"#c5b0d5\",\"#2ca02c\",\"#c7c7c7\",\"#e377c2\",\"#e377c2\",\"#c5b0d5\",\"#c49c94\",\"#dbdb8d\",\"#c7c7c7\",\"#9edae5\",\"#c5b0d5\",\"#c5b0d5\",\"#dbdb8d\",\"#e377c2\",\"#2ca02c\",\"#ff9896\",\"#ff7f0e\",\"#8c564b\",\"#98df8a\",\"#8c564b\",\"#e377c2\",\"#e377c2\",\"#e377c2\",\"#9edae5\",\"#e377c2\",\"#7f7f7f\",\"#2ca02c\",\"#ff9896\",\"#e377c2\",\"#ff7f0e\",\"#c5b0d5\",\"#ff9896\",\"#c5b0d5\",\"#2ca02c\",\"#2ca02c\",\"#e377c2\",\"#d62728\",\"#ff7f0e\",\"#1f77b4\",\"#8c564b\",\"#7f7f7f\",\"#8c564b\",\"#e377c2\",\"#2ca02c\",\"#2ca02c\",\"#98df8a\",\"#ff7f0e\",\"#bcbd22\",\"#ff9896\",\"#ff9896\",\"#ff9896\",\"#98df8a\",\"#ff9896\",\"#ff9896\",\"#2ca02c\",\"#8c564b\",\"#98df8a\",\"#d62728\",\"#9467bd\",\"#2ca02c\",\"#2ca02c\",\"#c7c7c7\",\"#c49c94\",\"#2ca02c\",\"#ff7f0e\",\"#7f7f7f\",\"#ff9896\",\"#8c564b\",\"#ff7f0e\",\"#1f77b4\",\"#bcbd22\",\"#9edae5\",\"#2ca02c\",\"#c5b0d5\",\"#7f7f7f\",\"#e377c2\",\"#9467bd\",\"#aec7e8\",\"#8c564b\",\"#98df8a\",\"#2ca02c\",\"#c5b0d5\",\"#ff7f0e\",\"#ff7f0e\",\"#ff7f0e\",\"#aec7e8\",\"#2ca02c\",\"#7f7f7f\",\"#e377c2\",\"#d62728\",\"#2ca02c\",\"#2ca02c\",\"#d62728\",\"#e377c2\",\"#e377c2\",\"#98df8a\",\"#2ca02c\",\"#9467bd\",\"#9467bd\",\"#c49c94\",\"#c49c94\",\"#c5b0d5\",\"#8c564b\",\"#c7c7c7\",\"#1f77b4\",\"#c49c94\",\"#2ca02c\",\"#aec7e8\",\"#8c564b\",\"#e377c2\",\"#ff7f0e\",\"#9467bd\",\"#ff7f0e\",\"#9edae5\",\"#ff7f0e\",\"#9467bd\",\"#9edae5\",\"#ff7f0e\",\"#2ca02c\",\"#bcbd22\",\"#8c564b\",\"#ff9896\",\"#9edae5\",\"#ff7f0e\",\"#7f7f7f\",\"#ff7f0e\",\"#9edae5\",\"#aec7e8\",\"#9467bd\",\"#d62728\",\"#c5b0d5\",\"#c7c7c7\",\"#aec7e8\",\"#2ca02c\",\"#dbdb8d\",\"#9467bd\",\"#2ca02c\",\"#1f77b4\",\"#c49c94\",\"#98df8a\",\"#c49c94\",\"#d62728\",\"#ff7f0e\",\"#d62728\",\"#e377c2\",\"#7f7f7f\",\"#ffbb78\",\"#2ca02c\",\"#c5b0d5\",\"#ff7f0e\",\"#8c564b\",\"#98df8a\",\"#e377c2\",\"#e377c2\",\"#d62728\",\"#9edae5\",\"#9467bd\",\"#98df8a\",\"#aec7e8\",\"#8c564b\",\"#d62728\",\"#9edae5\",\"#e377c2\",\"#9edae5\",\"#9edae5\",\"#ff7f0e\",\"#98df8a\",\"#c7c7c7\",\"#d62728\",\"#ff7f0e\",\"#9467bd\",\"#ff9896\",\"#c49c94\",\"#7f7f7f\",\"#e377c2\",\"#c5b0d5\",\"#ff7f0e\",\"#9edae5\",\"#e377c2\",\"#1f77b4\",\"#e377c2\",\"#2ca02c\",\"#98df8a\",\"#e377c2\",\"#c7c7c7\",\"#98df8a\",\"#dbdb8d\",\"#c5b0d5\",\"#dbdb8d\",\"#e377c2\",\"#9467bd\",\"#c49c94\",\"#ff9896\",\"#8c564b\",\"#9edae5\",\"#c49c94\",\"#c5b0d5\",\"#c7c7c7\",\"#9edae5\",\"#ffbb78\",\"#d62728\",\"#8c564b\",\"#e377c2\",\"#ff7f0e\",\"#98df8a\",\"#e377c2\",\"#1f77b4\",\"#8c564b\",\"#98df8a\",\"#9edae5\",\"#e377c2\",\"#2ca02c\",\"#e377c2\",\"#8c564b\",\"#2ca02c\",\"#ff7f0e\",\"#c49c94\",\"#9467bd\",\"#ff7f0e\",\"#2ca02c\",\"#e377c2\",\"#ff7f0e\",\"#ff7f0e\",\"#98df8a\",\"#ffbb78\",\"#8c564b\",\"#d62728\",\"#8c564b\",\"#bcbd22\",\"#c49c94\",\"#8c564b\",\"#e377c2\",\"#ff7f0e\",\"#d62728\",\"#7f7f7f\",\"#bcbd22\",\"#bcbd22\",\"#ff7f0e\",\"#7f7f7f\",\"#ff9896\",\"#98df8a\",\"#ff7f0e\",\"#e377c2\",\"#bcbd22\",\"#ff9896\",\"#ffbb78\",\"#8c564b\",\"#ff7f0e\",\"#ffbb78\",\"#ff7f0e\",\"#e377c2\",\"#2ca02c\",\"#e377c2\",\"#bcbd22\",\"#c7c7c7\",\"#c49c94\",\"#9edae5\",\"#7f7f7f\",\"#ff7f0e\",\"#2ca02c\",\"#dbdb8d\",\"#8c564b\",\"#c49c94\",\"#c5b0d5\",\"#ff9896\",\"#e377c2\",\"#dbdb8d\",\"#e377c2\",\"#ff7f0e\",\"#e377c2\",\"#bcbd22\",\"#2ca02c\",\"#e377c2\",\"#ffbb78\",\"#9467bd\",\"#98df8a\",\"#d62728\",\"#ff7f0e\",\"#98df8a\",\"#ff9896\",\"#d62728\",\"#ff7f0e\",\"#2ca02c\",\"#c7c7c7\",\"#c7c7c7\",\"#bcbd22\",\"#e377c2\",\"#c5b0d5\",\"#d62728\",\"#9edae5\",\"#9edae5\",\"#8c564b\",\"#e377c2\",\"#2ca02c\",\"#98df8a\",\"#e377c2\",\"#7f7f7f\",\"#c49c94\",\"#ff7f0e\",\"#2ca02c\",\"#ffbb78\",\"#9467bd\",\"#d62728\",\"#e377c2\",\"#e377c2\",\"#2ca02c\",\"#e377c2\",\"#9edae5\",\"#ff7f0e\",\"#98df8a\",\"#2ca02c\",\"#d62728\",\"#bcbd22\",\"#aec7e8\",\"#ffbb78\",\"#ff7f0e\",\"#ffbb78\",\"#ffbb78\",\"#ff7f0e\",\"#ffbb78\",\"#bcbd22\",\"#ff7f0e\",\"#aec7e8\",\"#bcbd22\",\"#e377c2\",\"#8c564b\",\"#d62728\",\"#1f77b4\",\"#e377c2\",\"#7f7f7f\",\"#aec7e8\",\"#9edae5\",\"#8c564b\",\"#d62728\",\"#8c564b\",\"#98df8a\",\"#9467bd\",\"#aec7e8\",\"#9edae5\",\"#98df8a\",\"#9467bd\",\"#d62728\",\"#ff9896\",\"#2ca02c\",\"#2ca02c\",\"#f7b6d2\",\"#dbdb8d\",\"#c49c94\",\"#ff7f0e\",\"#98df8a\",\"#9edae5\",\"#9edae5\",\"#ff7f0e\",\"#8c564b\",\"#9edae5\",\"#ff7f0e\",\"#2ca02c\",\"#ff7f0e\",\"#e377c2\",\"#d62728\",\"#2ca02c\",\"#d62728\",\"#c7c7c7\",\"#c5b0d5\",\"#d62728\",\"#aec7e8\",\"#8c564b\",\"#2ca02c\",\"#c49c94\",\"#e377c2\",\"#98df8a\",\"#9467bd\",\"#98df8a\",\"#bcbd22\",\"#8c564b\",\"#d62728\",\"#8c564b\",\"#aec7e8\",\"#9edae5\",\"#e377c2\",\"#98df8a\",\"#d62728\",\"#e377c2\",\"#ff7f0e\",\"#d62728\",\"#d62728\",\"#e377c2\",\"#aec7e8\",\"#2ca02c\",\"#e377c2\",\"#c49c94\",\"#e377c2\",\"#ff7f0e\",\"#2ca02c\",\"#bcbd22\",\"#c5b0d5\",\"#ff7f0e\",\"#e377c2\",\"#9edae5\",\"#2ca02c\",\"#7f7f7f\",\"#ff7f0e\",\"#ff7f0e\",\"#bcbd22\",\"#9edae5\",\"#2ca02c\",\"#9467bd\",\"#98df8a\",\"#ff7f0e\",\"#ffbb78\",\"#d62728\",\"#9467bd\",\"#8c564b\",\"#8c564b\",\"#ff7f0e\",\"#e377c2\",\"#dbdb8d\",\"#8c564b\",\"#c49c94\",\"#8c564b\",\"#2ca02c\",\"#d62728\",\"#2ca02c\",\"#98df8a\",\"#9edae5\",\"#e377c2\",\"#d62728\",\"#d62728\",\"#ff7f0e\",\"#bcbd22\",\"#e377c2\",\"#e377c2\",\"#98df8a\",\"#c5b0d5\",\"#ff7f0e\",\"#e377c2\",\"#dbdb8d\",\"#2ca02c\",\"#9467bd\",\"#ff9896\",\"#d62728\",\"#aec7e8\",\"#2ca02c\",\"#bcbd22\",\"#ff9896\",\"#8c564b\",\"#1f77b4\",\"#c5b0d5\",\"#1f77b4\",\"#e377c2\",\"#c49c94\",\"#ff7f0e\",\"#ff7f0e\",\"#8c564b\",\"#17becf\",\"#98df8a\",\"#8c564b\",\"#2ca02c\",\"#c7c7c7\",\"#e377c2\",\"#c7c7c7\",\"#ff7f0e\",\"#2ca02c\",\"#2ca02c\",\"#9edae5\",\"#ff7f0e\",\"#ff7f0e\",\"#9edae5\",\"#ff7f0e\",\"#7f7f7f\",\"#aec7e8\",\"#e377c2\",\"#d62728\",\"#d62728\",\"#e377c2\",\"#2ca02c\",\"#c49c94\",\"#8c564b\",\"#d62728\",\"#17becf\",\"#98df8a\",\"#d62728\",\"#ff7f0e\",\"#2ca02c\",\"#17becf\",\"#8c564b\",\"#d62728\",\"#c5b0d5\",\"#c5b0d5\",\"#8c564b\",\"#bcbd22\",\"#e377c2\",\"#ffbb78\",\"#9467bd\",\"#2ca02c\",\"#dbdb8d\",\"#ffbb78\",\"#98df8a\",\"#9467bd\",\"#8c564b\",\"#ff9896\",\"#2ca02c\",\"#bcbd22\",\"#2ca02c\",\"#ff7f0e\",\"#c5b0d5\",\"#98df8a\",\"#9467bd\",\"#e377c2\",\"#aec7e8\",\"#ff7f0e\",\"#c7c7c7\",\"#ff9896\",\"#9edae5\",\"#ff7f0e\",\"#e377c2\",\"#ffbb78\",\"#ff7f0e\",\"#e377c2\",\"#d62728\",\"#d62728\",\"#aec7e8\",\"#ff7f0e\",\"#9467bd\",\"#ff7f0e\",\"#e377c2\",\"#d62728\",\"#bcbd22\",\"#2ca02c\",\"#c7c7c7\",\"#8c564b\",\"#d62728\",\"#ffbb78\",\"#9edae5\",\"#9edae5\",\"#d62728\",\"#aec7e8\",\"#bcbd22\",\"#d62728\",\"#d62728\",\"#c5b0d5\",\"#2ca02c\",\"#e377c2\",\"#c7c7c7\",\"#9edae5\",\"#c5b0d5\",\"#c7c7c7\",\"#c7c7c7\",\"#ffbb78\",\"#e377c2\",\"#9edae5\",\"#e377c2\",\"#d62728\",\"#ff7f0e\",\"#98df8a\",\"#e377c2\",\"#9edae5\",\"#7f7f7f\",\"#aec7e8\",\"#9467bd\",\"#bcbd22\",\"#e377c2\",\"#d62728\",\"#d62728\",\"#ff7f0e\",\"#e377c2\",\"#2ca02c\",\"#9467bd\",\"#9edae5\",\"#c7c7c7\",\"#9edae5\",\"#d62728\",\"#c49c94\",\"#dbdb8d\",\"#e377c2\",\"#9edae5\",\"#e377c2\",\"#9edae5\",\"#17becf\",\"#c5b0d5\",\"#8c564b\",\"#ff7f0e\",\"#2ca02c\",\"#98df8a\",\"#98df8a\",\"#bcbd22\",\"#e377c2\",\"#d62728\",\"#9467bd\",\"#ff7f0e\",\"#bcbd22\",\"#d62728\",\"#e377c2\",\"#98df8a\",\"#e377c2\",\"#dbdb8d\",\"#ffbb78\",\"#17becf\",\"#ff7f0e\",\"#9467bd\",\"#17becf\",\"#c7c7c7\",\"#d62728\",\"#aec7e8\",\"#d62728\",\"#2ca02c\",\"#e377c2\",\"#98df8a\",\"#aec7e8\",\"#2ca02c\",\"#ff7f0e\",\"#aec7e8\",\"#c5b0d5\",\"#ff7f0e\",\"#c5b0d5\",\"#ffbb78\",\"#7f7f7f\",\"#bcbd22\",\"#2ca02c\",\"#9edae5\",\"#c5b0d5\",\"#9edae5\",\"#ff7f0e\",\"#c49c94\",\"#ff7f0e\",\"#9467bd\",\"#ff7f0e\",\"#e377c2\",\"#ff9896\",\"#7f7f7f\",\"#c49c94\",\"#9467bd\",\"#d62728\",\"#98df8a\",\"#2ca02c\",\"#8c564b\",\"#ff7f0e\",\"#d62728\",\"#2ca02c\",\"#98df8a\",\"#ff7f0e\",\"#e377c2\",\"#ff7f0e\",\"#2ca02c\",\"#aec7e8\",\"#d62728\",\"#17becf\",\"#ff7f0e\",\"#d62728\",\"#e377c2\",\"#17becf\",\"#f7b6d2\",\"#bcbd22\",\"#9edae5\",\"#e377c2\",\"#9467bd\",\"#ff9896\",\"#ff7f0e\",\"#e377c2\",\"#2ca02c\",\"#9edae5\",\"#ffbb78\",\"#e377c2\",\"#c49c94\",\"#e377c2\",\"#f7b6d2\",\"#c5b0d5\",\"#e377c2\",\"#9edae5\",\"#ff7f0e\",\"#ffbb78\",\"#8c564b\",\"#7f7f7f\",\"#e377c2\",\"#9467bd\",\"#ff7f0e\",\"#ff7f0e\",\"#bcbd22\",\"#bcbd22\",\"#e377c2\",\"#98df8a\",\"#e377c2\",\"#bcbd22\",\"#e377c2\",\"#8c564b\",\"#ff7f0e\",\"#bcbd22\",\"#bcbd22\",\"#2ca02c\",\"#c7c7c7\",\"#bcbd22\",\"#98df8a\",\"#d62728\",\"#d62728\",\"#d62728\",\"#d62728\",\"#bcbd22\",\"#ffbb78\",\"#aec7e8\",\"#c5b0d5\",\"#c49c94\",\"#2ca02c\",\"#8c564b\",\"#98df8a\",\"#98df8a\",\"#e377c2\",\"#e377c2\",\"#ff7f0e\",\"#d62728\",\"#98df8a\",\"#98df8a\",\"#e377c2\",\"#d62728\",\"#aec7e8\",\"#d62728\",\"#d62728\",\"#e377c2\",\"#8c564b\",\"#aec7e8\",\"#2ca02c\",\"#8c564b\",\"#2ca02c\",\"#e377c2\",\"#c5b0d5\",\"#98df8a\",\"#98df8a\",\"#ffbb78\",\"#e377c2\",\"#ff9896\",\"#ffbb78\",\"#d62728\",\"#9edae5\",\"#d62728\",\"#9467bd\",\"#e377c2\",\"#8c564b\",\"#9467bd\",\"#ff7f0e\",\"#bcbd22\",\"#98df8a\",\"#d62728\",\"#c7c7c7\",\"#bcbd22\",\"#bcbd22\",\"#2ca02c\",\"#aec7e8\",\"#e377c2\",\"#17becf\",\"#98df8a\",\"#9467bd\",\"#bcbd22\",\"#dbdb8d\",\"#d62728\",\"#c7c7c7\",\"#7f7f7f\",\"#8c564b\",\"#c5b0d5\",\"#98df8a\",\"#ff7f0e\",\"#ff9896\",\"#98df8a\",\"#2ca02c\",\"#ff9896\",\"#9edae5\",\"#ffbb78\",\"#98df8a\",\"#e377c2\",\"#c49c94\",\"#bcbd22\",\"#c5b0d5\",\"#bcbd22\",\"#c5b0d5\",\"#ff7f0e\",\"#ffbb78\",\"#8c564b\",\"#bcbd22\",\"#bcbd22\",\"#9edae5\",\"#9edae5\",\"#bcbd22\",\"#2ca02c\",\"#c7c7c7\",\"#ff7f0e\",\"#d62728\",\"#aec7e8\",\"#2ca02c\",\"#2ca02c\",\"#bcbd22\",\"#bcbd22\",\"#2ca02c\",\"#98df8a\",\"#bcbd22\",\"#2ca02c\",\"#ff9896\",\"#c7c7c7\",\"#e377c2\",\"#98df8a\",\"#98df8a\",\"#c49c94\",\"#e377c2\",\"#8c564b\",\"#c5b0d5\",\"#98df8a\",\"#9467bd\",\"#c7c7c7\",\"#e377c2\",\"#2ca02c\",\"#9467bd\",\"#bcbd22\",\"#bcbd22\",\"#9467bd\",\"#98df8a\",\"#98df8a\",\"#7f7f7f\",\"#e377c2\",\"#e377c2\",\"#c5b0d5\",\"#c7c7c7\",\"#2ca02c\",\"#bcbd22\",\"#c5b0d5\",\"#ff7f0e\",\"#98df8a\",\"#c49c94\",\"#c7c7c7\",\"#e377c2\",\"#e377c2\",\"#2ca02c\",\"#2ca02c\",\"#d62728\",\"#bcbd22\",\"#e377c2\",\"#9edae5\",\"#98df8a\",\"#c7c7c7\",\"#2ca02c\",\"#e377c2\",\"#98df8a\",\"#98df8a\",\"#2ca02c\",\"#e377c2\",\"#17becf\",\"#bcbd22\",\"#ff7f0e\",\"#c49c94\",\"#e377c2\",\"#c7c7c7\",\"#c5b0d5\",\"#2ca02c\",\"#9edae5\",\"#bcbd22\",\"#9467bd\",\"#2ca02c\",\"#d62728\",\"#9edae5\",\"#d62728\",\"#17becf\",\"#dbdb8d\",\"#c7c7c7\",\"#e377c2\",\"#98df8a\",\"#d62728\",\"#d62728\",\"#d62728\",\"#d62728\",\"#e377c2\",\"#98df8a\",\"#2ca02c\",\"#2ca02c\",\"#9edae5\",\"#bcbd22\",\"#c5b0d5\",\"#ff9896\",\"#d62728\",\"#d62728\",\"#9467bd\",\"#e377c2\",\"#8c564b\",\"#c5b0d5\",\"#2ca02c\",\"#c7c7c7\",\"#d62728\",\"#bcbd22\",\"#e377c2\",\"#e377c2\",\"#ff9896\",\"#c49c94\",\"#ffbb78\",\"#ff7f0e\",\"#ff7f0e\",\"#9467bd\",\"#e377c2\",\"#ff7f0e\",\"#2ca02c\",\"#ff9896\",\"#c49c94\",\"#98df8a\",\"#c7c7c7\",\"#e377c2\",\"#bcbd22\",\"#d62728\",\"#e377c2\",\"#98df8a\",\"#2ca02c\",\"#e377c2\",\"#2ca02c\",\"#e377c2\",\"#2ca02c\",\"#ff7f0e\",\"#e377c2\",\"#e377c2\",\"#ff7f0e\",\"#d62728\",\"#9467bd\",\"#aec7e8\",\"#9467bd\",\"#ff9896\",\"#1f77b4\",\"#c7c7c7\",\"#bcbd22\",\"#ff7f0e\",\"#e377c2\",\"#d62728\",\"#bcbd22\",\"#17becf\",\"#d62728\",\"#2ca02c\",\"#8c564b\",\"#bcbd22\",\"#2ca02c\",\"#98df8a\",\"#c49c94\",\"#ffbb78\",\"#e377c2\",\"#e377c2\",\"#e377c2\",\"#bcbd22\",\"#9467bd\",\"#dbdb8d\",\"#e377c2\",\"#9467bd\",\"#ff7f0e\",\"#d62728\",\"#d62728\",\"#9edae5\",\"#7f7f7f\",\"#ffbb78\",\"#c7c7c7\",\"#9edae5\",\"#9467bd\",\"#d62728\",\"#c7c7c7\",\"#98df8a\",\"#ffbb78\",\"#f7b6d2\",\"#c49c94\",\"#ff7f0e\",\"#8c564b\",\"#ff7f0e\",\"#ffbb78\",\"#ff7f0e\",\"#ff7f0e\",\"#9467bd\",\"#c5b0d5\",\"#2ca02c\",\"#9467bd\",\"#9467bd\",\"#e377c2\",\"#9edae5\",\"#ff9896\",\"#9edae5\",\"#7f7f7f\",\"#bcbd22\",\"#2ca02c\",\"#9467bd\",\"#c5b0d5\",\"#ff7f0e\",\"#d62728\",\"#f7b6d2\",\"#98df8a\",\"#8c564b\",\"#ffbb78\",\"#8c564b\",\"#d62728\",\"#c7c7c7\",\"#2ca02c\",\"#8c564b\",\"#bcbd22\",\"#2ca02c\",\"#ff9896\",\"#e377c2\",\"#c49c94\",\"#ff7f0e\",\"#9edae5\",\"#e377c2\",\"#2ca02c\",\"#c7c7c7\",\"#d62728\",\"#2ca02c\",\"#e377c2\",\"#ffbb78\",\"#ff7f0e\",\"#ff7f0e\",\"#9edae5\",\"#17becf\",\"#c7c7c7\",\"#8c564b\",\"#8c564b\",\"#8c564b\",\"#d62728\",\"#2ca02c\",\"#d62728\",\"#d62728\",\"#ffbb78\",\"#d62728\",\"#d62728\",\"#bcbd22\",\"#e377c2\",\"#bcbd22\",\"#9467bd\",\"#dbdb8d\",\"#d62728\",\"#c7c7c7\",\"#d62728\",\"#d62728\",\"#aec7e8\",\"#d62728\",\"#ff9896\",\"#9467bd\",\"#9467bd\",\"#98df8a\",\"#c5b0d5\",\"#9467bd\",\"#2ca02c\",\"#d62728\",\"#2ca02c\",\"#8c564b\",\"#8c564b\",\"#c49c94\",\"#c49c94\",\"#e377c2\",\"#2ca02c\",\"#9467bd\",\"#ffbb78\",\"#8c564b\",\"#ff7f0e\",\"#d62728\",\"#98df8a\",\"#e377c2\",\"#e377c2\",\"#d62728\",\"#98df8a\",\"#bcbd22\",\"#bcbd22\",\"#aec7e8\",\"#aec7e8\",\"#8c564b\",\"#aec7e8\",\"#8c564b\",\"#8c564b\",\"#d62728\",\"#aec7e8\",\"#e377c2\",\"#ff9896\",\"#d62728\",\"#8c564b\",\"#aec7e8\",\"#d62728\",\"#8c564b\",\"#e377c2\",\"#d62728\",\"#9edae5\",\"#7f7f7f\",\"#ff9896\",\"#8c564b\",\"#d62728\",\"#c7c7c7\",\"#d62728\",\"#ffbb78\",\"#98df8a\",\"#8c564b\",\"#e377c2\",\"#d62728\",\"#ff7f0e\",\"#d62728\",\"#98df8a\",\"#98df8a\",\"#98df8a\",\"#7f7f7f\",\"#e377c2\",\"#ff7f0e\",\"#e377c2\",\"#d62728\",\"#8c564b\",\"#bcbd22\",\"#ff7f0e\",\"#8c564b\",\"#d62728\",\"#ff7f0e\",\"#d62728\",\"#e377c2\",\"#e377c2\",\"#9edae5\",\"#9467bd\",\"#2ca02c\",\"#d62728\",\"#17becf\",\"#2ca02c\",\"#17becf\",\"#2ca02c\",\"#ff7f0e\",\"#bcbd22\",\"#d62728\",\"#bcbd22\",\"#c7c7c7\",\"#ff9896\",\"#98df8a\",\"#ffbb78\",\"#ff7f0e\",\"#c7c7c7\",\"#bcbd22\",\"#bcbd22\",\"#aec7e8\",\"#aec7e8\",\"#ff9896\",\"#d62728\",\"#2ca02c\",\"#9edae5\",\"#c7c7c7\",\"#9467bd\",\"#e377c2\",\"#8c564b\",\"#9467bd\",\"#e377c2\",\"#c5b0d5\",\"#7f7f7f\",\"#bcbd22\",\"#e377c2\",\"#e377c2\",\"#e377c2\",\"#8c564b\",\"#9467bd\",\"#e377c2\",\"#aec7e8\",\"#ff7f0e\",\"#8c564b\",\"#98df8a\",\"#bcbd22\",\"#d62728\",\"#aec7e8\",\"#bcbd22\",\"#e377c2\",\"#8c564b\",\"#c5b0d5\",\"#bcbd22\",\"#bcbd22\",\"#d62728\",\"#dbdb8d\",\"#ff7f0e\",\"#8c564b\",\"#d62728\",\"#2ca02c\",\"#98df8a\",\"#ff7f0e\",\"#ff7f0e\",\"#17becf\",\"#17becf\",\"#d62728\",\"#9467bd\",\"#c7c7c7\",\"#bcbd22\",\"#dbdb8d\",\"#9edae5\",\"#9467bd\",\"#9edae5\",\"#98df8a\",\"#ff7f0e\",\"#d62728\",\"#8c564b\",\"#e377c2\",\"#aec7e8\",\"#98df8a\",\"#aec7e8\",\"#1f77b4\",\"#9edae5\",\"#e377c2\",\"#17becf\",\"#98df8a\",\"#98df8a\",\"#ff7f0e\",\"#9467bd\",\"#c7c7c7\",\"#bcbd22\",\"#c7c7c7\",\"#bcbd22\",\"#ff7f0e\",\"#d62728\",\"#ffbb78\",\"#c5b0d5\",\"#d62728\",\"#e377c2\",\"#9467bd\",\"#ff7f0e\",\"#dbdb8d\",\"#9467bd\",\"#bcbd22\",\"#98df8a\",\"#e377c2\",\"#c7c7c7\",\"#ff7f0e\",\"#ff9896\",\"#7f7f7f\",\"#d62728\",\"#c7c7c7\",\"#2ca02c\",\"#9467bd\",\"#ff7f0e\",\"#dbdb8d\",\"#8c564b\",\"#c49c94\",\"#ff7f0e\",\"#1f77b4\",\"#98df8a\",\"#ffbb78\",\"#7f7f7f\",\"#98df8a\",\"#98df8a\",\"#ff9896\",\"#8c564b\",\"#e377c2\",\"#9467bd\",\"#9edae5\",\"#2ca02c\",\"#bcbd22\",\"#e377c2\",\"#c5b0d5\",\"#98df8a\",\"#98df8a\",\"#98df8a\",\"#bcbd22\",\"#ff7f0e\",\"#bcbd22\",\"#7f7f7f\",\"#c7c7c7\",\"#e377c2\",\"#c5b0d5\",\"#e377c2\",\"#c7c7c7\",\"#aec7e8\",\"#e377c2\",\"#8c564b\",\"#bcbd22\",\"#bcbd22\",\"#c7c7c7\",\"#ff9896\",\"#9467bd\",\"#7f7f7f\",\"#8c564b\",\"#ff9896\",\"#c7c7c7\",\"#9467bd\",\"#9467bd\",\"#e377c2\",\"#9467bd\",\"#2ca02c\",\"#e377c2\",\"#8c564b\",\"#c7c7c7\",\"#8c564b\",\"#2ca02c\",\"#e377c2\",\"#ff7f0e\",\"#c49c94\",\"#7f7f7f\",\"#d62728\",\"#98df8a\",\"#e377c2\",\"#c7c7c7\",\"#9edae5\",\"#17becf\",\"#d62728\",\"#9edae5\",\"#ff7f0e\",\"#d62728\",\"#ff7f0e\",\"#9edae5\",\"#c49c94\",\"#e377c2\",\"#9edae5\",\"#8c564b\",\"#bcbd22\",\"#ffbb78\",\"#d62728\",\"#bcbd22\",\"#ff7f0e\",\"#8c564b\",\"#e377c2\",\"#98df8a\",\"#8c564b\",\"#17becf\",\"#c5b0d5\",\"#8c564b\",\"#98df8a\",\"#98df8a\",\"#dbdb8d\",\"#98df8a\",\"#2ca02c\",\"#e377c2\",\"#e377c2\",\"#8c564b\",\"#c5b0d5\",\"#98df8a\",\"#c5b0d5\",\"#ffbb78\",\"#d62728\",\"#aec7e8\",\"#bcbd22\",\"#bcbd22\",\"#17becf\",\"#ffbb78\",\"#d62728\",\"#e377c2\",\"#bcbd22\",\"#e377c2\",\"#2ca02c\",\"#9467bd\",\"#17becf\",\"#d62728\",\"#aec7e8\",\"#aec7e8\",\"#c5b0d5\",\"#e377c2\",\"#bcbd22\",\"#d62728\",\"#e377c2\",\"#aec7e8\",\"#2ca02c\",\"#2ca02c\",\"#8c564b\",\"#ffbb78\",\"#d62728\",\"#98df8a\",\"#aec7e8\",\"#98df8a\",\"#e377c2\",\"#c5b0d5\",\"#e377c2\",\"#ffbb78\",\"#c7c7c7\",\"#e377c2\",\"#2ca02c\",\"#e377c2\",\"#ff7f0e\",\"#ff7f0e\",\"#9edae5\",\"#ffbb78\",\"#bcbd22\",\"#9edae5\",\"#bcbd22\",\"#c7c7c7\",\"#d62728\",\"#9edae5\",\"#bcbd22\",\"#9edae5\",\"#2ca02c\",\"#8c564b\",\"#ff7f0e\",\"#98df8a\",\"#e377c2\",\"#e377c2\",\"#e377c2\",\"#e377c2\",\"#7f7f7f\",\"#9467bd\",\"#e377c2\",\"#d62728\",\"#8c564b\",\"#17becf\",\"#d62728\",\"#2ca02c\",\"#dbdb8d\",\"#9edae5\",\"#9467bd\",\"#2ca02c\",\"#9467bd\",\"#2ca02c\",\"#9467bd\",\"#d62728\",\"#bcbd22\",\"#f7b6d2\",\"#8c564b\",\"#d62728\",\"#bcbd22\",\"#e377c2\",\"#ff9896\",\"#d62728\",\"#bcbd22\",\"#ffbb78\",\"#9edae5\",\"#2ca02c\",\"#9edae5\",\"#8c564b\",\"#9edae5\",\"#9edae5\",\"#1f77b4\",\"#bcbd22\",\"#2ca02c\",\"#c5b0d5\",\"#bcbd22\",\"#bcbd22\",\"#ffbb78\",\"#c7c7c7\",\"#d62728\",\"#bcbd22\",\"#d62728\",\"#98df8a\",\"#ff7f0e\",\"#ff7f0e\",\"#d62728\",\"#98df8a\",\"#aec7e8\",\"#c5b0d5\",\"#e377c2\",\"#e377c2\",\"#98df8a\",\"#7f7f7f\",\"#9edae5\",\"#bcbd22\",\"#e377c2\",\"#ff7f0e\",\"#d62728\",\"#9467bd\",\"#c7c7c7\",\"#bcbd22\",\"#e377c2\",\"#2ca02c\",\"#9467bd\",\"#bcbd22\",\"#ff9896\",\"#c49c94\",\"#c49c94\",\"#bcbd22\",\"#d62728\",\"#bcbd22\",\"#ff7f0e\",\"#2ca02c\",\"#9edae5\",\"#2ca02c\",\"#2ca02c\",\"#98df8a\",\"#2ca02c\",\"#98df8a\",\"#ff7f0e\",\"#e377c2\",\"#9edae5\",\"#bcbd22\",\"#c7c7c7\",\"#bcbd22\",\"#2ca02c\",\"#bcbd22\",\"#2ca02c\",\"#e377c2\",\"#2ca02c\",\"#e377c2\",\"#e377c2\",\"#e377c2\",\"#9467bd\",\"#ff7f0e\",\"#dbdb8d\",\"#e377c2\",\"#8c564b\",\"#e377c2\",\"#e377c2\",\"#ff7f0e\",\"#ff9896\",\"#aec7e8\",\"#e377c2\",\"#98df8a\",\"#e377c2\",\"#d62728\",\"#9467bd\",\"#ff9896\",\"#2ca02c\",\"#e377c2\",\"#ff7f0e\",\"#9467bd\",\"#bcbd22\",\"#ff7f0e\",\"#c5b0d5\",\"#98df8a\",\"#bcbd22\",\"#bcbd22\",\"#d62728\",\"#8c564b\",\"#e377c2\",\"#9467bd\",\"#2ca02c\",\"#c5b0d5\",\"#ff7f0e\",\"#98df8a\",\"#e377c2\",\"#2ca02c\",\"#ffbb78\",\"#9edae5\",\"#e377c2\",\"#d62728\",\"#98df8a\",\"#ff7f0e\",\"#8c564b\",\"#9467bd\",\"#ff7f0e\",\"#ff7f0e\",\"#9467bd\",\"#8c564b\",\"#e377c2\",\"#d62728\",\"#9edae5\",\"#9467bd\",\"#8c564b\",\"#8c564b\",\"#2ca02c\",\"#c7c7c7\",\"#ffbb78\",\"#ff7f0e\",\"#8c564b\",\"#2ca02c\",\"#c7c7c7\",\"#e377c2\",\"#98df8a\",\"#98df8a\",\"#bcbd22\",\"#98df8a\",\"#17becf\",\"#8c564b\",\"#c7c7c7\",\"#d62728\",\"#dbdb8d\",\"#c49c94\",\"#bcbd22\",\"#2ca02c\",\"#c7c7c7\",\"#ff7f0e\",\"#98df8a\",\"#d62728\",\"#dbdb8d\",\"#e377c2\",\"#2ca02c\",\"#2ca02c\",\"#2ca02c\",\"#9edae5\",\"#9467bd\",\"#9edae5\",\"#c5b0d5\",\"#2ca02c\",\"#e377c2\",\"#ff7f0e\",\"#9edae5\",\"#2ca02c\",\"#d62728\",\"#dbdb8d\",\"#8c564b\",\"#2ca02c\",\"#ff7f0e\",\"#bcbd22\",\"#9edae5\",\"#d62728\",\"#8c564b\",\"#e377c2\",\"#98df8a\",\"#e377c2\",\"#d62728\",\"#bcbd22\",\"#bcbd22\",\"#8c564b\",\"#bcbd22\",\"#d62728\",\"#d62728\",\"#bcbd22\",\"#e377c2\",\"#e377c2\",\"#bcbd22\",\"#8c564b\",\"#ff7f0e\",\"#d62728\",\"#e377c2\",\"#c49c94\",\"#8c564b\",\"#c5b0d5\",\"#e377c2\",\"#e377c2\",\"#2ca02c\",\"#ff7f0e\",\"#e377c2\",\"#e377c2\",\"#8c564b\",\"#e377c2\",\"#98df8a\",\"#98df8a\",\"#d62728\",\"#17becf\",\"#98df8a\",\"#8c564b\",\"#e377c2\",\"#2ca02c\",\"#17becf\",\"#98df8a\",\"#ffbb78\",\"#c49c94\",\"#ffbb78\",\"#bcbd22\",\"#aec7e8\",\"#e377c2\",\"#e377c2\",\"#d62728\",\"#ff7f0e\",\"#d62728\",\"#aec7e8\",\"#17becf\",\"#e377c2\",\"#c5b0d5\",\"#c5b0d5\",\"#bcbd22\",\"#e377c2\",\"#ffbb78\",\"#8c564b\",\"#aec7e8\",\"#ffbb78\",\"#e377c2\",\"#2ca02c\",\"#ff7f0e\",\"#e377c2\",\"#d62728\",\"#d62728\",\"#98df8a\",\"#9edae5\",\"#ffbb78\",\"#98df8a\",\"#8c564b\",\"#e377c2\",\"#98df8a\",\"#bcbd22\",\"#8c564b\",\"#c5b0d5\",\"#9edae5\",\"#ff7f0e\",\"#ff7f0e\",\"#9467bd\",\"#e377c2\",\"#2ca02c\",\"#2ca02c\",\"#d62728\",\"#8c564b\",\"#98df8a\",\"#9edae5\",\"#e377c2\",\"#8c564b\",\"#bcbd22\",\"#d62728\",\"#d62728\",\"#bcbd22\",\"#bcbd22\",\"#d62728\",\"#aec7e8\",\"#c49c94\",\"#bcbd22\",\"#ff9896\",\"#d62728\",\"#d62728\",\"#d62728\",\"#bcbd22\",\"#bcbd22\",\"#bcbd22\",\"#9edae5\",\"#d62728\",\"#8c564b\",\"#9467bd\",\"#ff7f0e\",\"#c7c7c7\",\"#ffbb78\",\"#8c564b\",\"#e377c2\",\"#ff7f0e\",\"#d62728\",\"#d62728\",\"#c7c7c7\",\"#9467bd\",\"#8c564b\",\"#c7c7c7\",\"#98df8a\",\"#c7c7c7\",\"#2ca02c\",\"#c7c7c7\",\"#ff7f0e\",\"#bcbd22\",\"#d62728\",\"#c7c7c7\",\"#ff7f0e\",\"#98df8a\",\"#aec7e8\",\"#d62728\",\"#9edae5\",\"#bcbd22\",\"#9edae5\",\"#e377c2\",\"#98df8a\",\"#98df8a\",\"#ffbb78\",\"#e377c2\",\"#d62728\",\"#c5b0d5\",\"#e377c2\",\"#e377c2\",\"#8c564b\",\"#d62728\",\"#17becf\",\"#d62728\",\"#d62728\",\"#98df8a\",\"#2ca02c\",\"#ff7f0e\",\"#ff7f0e\",\"#c49c94\",\"#9467bd\",\"#8c564b\",\"#98df8a\",\"#dbdb8d\",\"#7f7f7f\",\"#ff7f0e\",\"#98df8a\",\"#e377c2\",\"#e377c2\",\"#ffbb78\",\"#d62728\",\"#ff7f0e\",\"#c7c7c7\",\"#d62728\",\"#bcbd22\",\"#c7c7c7\",\"#aec7e8\",\"#aec7e8\",\"#bcbd22\",\"#ff9896\",\"#bcbd22\",\"#8c564b\",\"#bcbd22\",\"#d62728\",\"#ff7f0e\",\"#2ca02c\",\"#ffbb78\",\"#9edae5\",\"#ff7f0e\",\"#98df8a\",\"#9edae5\",\"#e377c2\",\"#d62728\",\"#c5b0d5\",\"#d62728\",\"#ff7f0e\",\"#d62728\",\"#ff7f0e\",\"#8c564b\",\"#d62728\",\"#bcbd22\",\"#7f7f7f\",\"#aec7e8\",\"#bcbd22\",\"#e377c2\",\"#8c564b\",\"#e377c2\",\"#98df8a\",\"#d62728\",\"#98df8a\",\"#9edae5\",\"#bcbd22\",\"#d62728\",\"#17becf\",\"#8c564b\",\"#e377c2\",\"#98df8a\",\"#8c564b\",\"#bcbd22\",\"#c5b0d5\",\"#ffbb78\",\"#d62728\",\"#7f7f7f\",\"#c7c7c7\",\"#ff9896\",\"#d62728\",\"#dbdb8d\",\"#d62728\",\"#c5b0d5\",\"#aec7e8\",\"#9edae5\",\"#7f7f7f\",\"#e377c2\",\"#9edae5\",\"#d62728\",\"#7f7f7f\",\"#f7b6d2\",\"#bcbd22\",\"#aec7e8\",\"#bcbd22\",\"#bcbd22\",\"#aec7e8\",\"#ff9896\",\"#17becf\",\"#ffbb78\",\"#98df8a\",\"#d62728\",\"#c7c7c7\",\"#ffbb78\",\"#c49c94\",\"#ff7f0e\",\"#17becf\",\"#c7c7c7\",\"#aec7e8\",\"#d62728\",\"#9edae5\",\"#98df8a\",\"#aec7e8\",\"#aec7e8\",\"#8c564b\",\"#ff7f0e\",\"#aec7e8\",\"#ff7f0e\",\"#ffbb78\",\"#aec7e8\",\"#ff9896\",\"#aec7e8\",\"#c49c94\",\"#aec7e8\",\"#d62728\",\"#d62728\",\"#bcbd22\",\"#8c564b\",\"#bcbd22\",\"#2ca02c\",\"#ff9896\",\"#8c564b\",\"#9467bd\",\"#c5b0d5\",\"#9467bd\",\"#ff7f0e\",\"#2ca02c\",\"#ffbb78\",\"#ffbb78\",\"#2ca02c\",\"#d62728\",\"#98df8a\",\"#ff7f0e\",\"#d62728\",\"#aec7e8\",\"#d62728\",\"#98df8a\",\"#98df8a\",\"#bcbd22\",\"#d62728\",\"#c7c7c7\",\"#bcbd22\",\"#c7c7c7\",\"#ff7f0e\",\"#e377c2\",\"#ff9896\",\"#c49c94\",\"#9edae5\",\"#ffbb78\",\"#e377c2\",\"#e377c2\",\"#bcbd22\",\"#c7c7c7\",\"#bcbd22\",\"#9467bd\",\"#9467bd\",\"#e377c2\",\"#d62728\",\"#8c564b\",\"#d62728\",\"#7f7f7f\",\"#ff7f0e\",\"#2ca02c\",\"#2ca02c\",\"#e377c2\",\"#d62728\",\"#7f7f7f\",\"#bcbd22\",\"#2ca02c\",\"#ff9896\",\"#aec7e8\",\"#aec7e8\",\"#aec7e8\",\"#9edae5\",\"#e377c2\",\"#aec7e8\",\"#9467bd\",\"#98df8a\",\"#9edae5\",\"#bcbd22\",\"#d62728\",\"#c7c7c7\",\"#e377c2\",\"#98df8a\",\"#98df8a\",\"#bcbd22\",\"#17becf\",\"#aec7e8\",\"#ff9896\",\"#2ca02c\",\"#f7b6d2\",\"#bcbd22\",\"#9edae5\",\"#d62728\",\"#e377c2\",\"#bcbd22\",\"#8c564b\",\"#ffbb78\",\"#17becf\",\"#bcbd22\",\"#ffbb78\",\"#98df8a\",\"#2ca02c\",\"#e377c2\",\"#bcbd22\",\"#2ca02c\",\"#e377c2\",\"#ff9896\",\"#9edae5\",\"#ffbb78\",\"#c7c7c7\",\"#8c564b\",\"#ffbb78\",\"#9edae5\",\"#8c564b\",\"#d62728\",\"#d62728\",\"#9edae5\",\"#ff7f0e\",\"#98df8a\",\"#ffbb78\",\"#c49c94\",\"#c7c7c7\",\"#bcbd22\",\"#ff9896\",\"#bcbd22\",\"#aec7e8\",\"#17becf\",\"#17becf\",\"#bcbd22\",\"#98df8a\",\"#9edae5\",\"#c7c7c7\",\"#bcbd22\",\"#dbdb8d\",\"#9edae5\",\"#bcbd22\",\"#bcbd22\",\"#bcbd22\",\"#e377c2\",\"#c5b0d5\",\"#e377c2\",\"#ffbb78\",\"#dbdb8d\",\"#bcbd22\",\"#9edae5\",\"#bcbd22\",\"#aec7e8\",\"#c5b0d5\",\"#bcbd22\",\"#2ca02c\",\"#98df8a\",\"#7f7f7f\",\"#17becf\",\"#dbdb8d\",\"#98df8a\",\"#dbdb8d\",\"#ffbb78\",\"#aec7e8\",\"#ffbb78\",\"#7f7f7f\",\"#bcbd22\",\"#e377c2\",\"#d62728\",\"#1f77b4\",\"#e377c2\",\"#bcbd22\",\"#98df8a\",\"#2ca02c\",\"#bcbd22\",\"#2ca02c\",\"#d62728\",\"#8c564b\",\"#2ca02c\",\"#98df8a\",\"#e377c2\",\"#c49c94\",\"#8c564b\",\"#ff7f0e\",\"#9edae5\",\"#1f77b4\",\"#d62728\",\"#c5b0d5\",\"#dbdb8d\",\"#e377c2\",\"#bcbd22\",\"#9edae5\",\"#e377c2\",\"#8c564b\",\"#9467bd\",\"#d62728\",\"#98df8a\",\"#e377c2\",\"#98df8a\",\"#2ca02c\",\"#9467bd\",\"#ff7f0e\",\"#ff9896\",\"#2ca02c\",\"#ff7f0e\",\"#ff9896\",\"#98df8a\",\"#ff7f0e\",\"#7f7f7f\",\"#9edae5\",\"#98df8a\",\"#2ca02c\",\"#e377c2\",\"#ffbb78\",\"#8c564b\",\"#bcbd22\",\"#bcbd22\",\"#9edae5\",\"#9edae5\",\"#bcbd22\",\"#98df8a\",\"#d62728\",\"#ff7f0e\",\"#8c564b\",\"#8c564b\",\"#8c564b\",\"#e377c2\",\"#98df8a\",\"#ff7f0e\",\"#d62728\",\"#d62728\",\"#9edae5\",\"#ff9896\",\"#bcbd22\",\"#d62728\",\"#bcbd22\",\"#98df8a\",\"#2ca02c\",\"#c7c7c7\",\"#e377c2\",\"#98df8a\",\"#e377c2\",\"#ff7f0e\",\"#e377c2\",\"#c7c7c7\",\"#d62728\",\"#c7c7c7\",\"#98df8a\",\"#98df8a\",\"#9edae5\",\"#9467bd\",\"#bcbd22\",\"#98df8a\",\"#98df8a\",\"#2ca02c\",\"#8c564b\",\"#c7c7c7\",\"#d62728\",\"#ff7f0e\",\"#e377c2\",\"#9467bd\",\"#c7c7c7\",\"#e377c2\",\"#bcbd22\",\"#bcbd22\",\"#9edae5\",\"#8c564b\",\"#dbdb8d\",\"#ffbb78\",\"#9edae5\",\"#ff7f0e\",\"#9edae5\",\"#ff9896\",\"#bcbd22\",\"#98df8a\",\"#8c564b\",\"#9467bd\",\"#ff7f0e\",\"#9edae5\",\"#aec7e8\",\"#17becf\",\"#bcbd22\",\"#aec7e8\",\"#bcbd22\",\"#17becf\",\"#ff7f0e\",\"#ff7f0e\",\"#d62728\",\"#bcbd22\",\"#9edae5\",\"#8c564b\",\"#7f7f7f\",\"#9edae5\",\"#bcbd22\",\"#bcbd22\",\"#ff7f0e\",\"#9edae5\",\"#9edae5\",\"#8c564b\",\"#7f7f7f\",\"#8c564b\",\"#ff7f0e\",\"#9edae5\",\"#d62728\",\"#9edae5\",\"#8c564b\",\"#98df8a\",\"#9edae5\",\"#9467bd\",\"#dbdb8d\",\"#9edae5\",\"#17becf\",\"#d62728\",\"#9467bd\",\"#bcbd22\",\"#bcbd22\",\"#d62728\",\"#aec7e8\",\"#2ca02c\",\"#98df8a\",\"#2ca02c\",\"#98df8a\",\"#98df8a\",\"#ffbb78\",\"#e377c2\",\"#ff7f0e\",\"#ff7f0e\",\"#ff7f0e\",\"#9467bd\",\"#ff7f0e\",\"#9edae5\",\"#d62728\",\"#ff7f0e\",\"#c7c7c7\",\"#8c564b\",\"#2ca02c\",\"#bcbd22\",\"#ff9896\",\"#ff7f0e\",\"#c7c7c7\",\"#d62728\",\"#bcbd22\",\"#9edae5\",\"#bcbd22\",\"#c5b0d5\",\"#2ca02c\",\"#e377c2\",\"#e377c2\",\"#9467bd\",\"#8c564b\",\"#d62728\",\"#e377c2\",\"#9edae5\",\"#e377c2\",\"#ff7f0e\",\"#2ca02c\",\"#7f7f7f\",\"#dbdb8d\",\"#17becf\",\"#2ca02c\",\"#e377c2\",\"#98df8a\",\"#c7c7c7\",\"#2ca02c\",\"#bcbd22\",\"#1f77b4\",\"#8c564b\",\"#9edae5\",\"#98df8a\",\"#c7c7c7\",\"#9edae5\",\"#8c564b\",\"#8c564b\",\"#17becf\",\"#8c564b\",\"#d62728\",\"#e377c2\",\"#d62728\",\"#e377c2\",\"#e377c2\",\"#dbdb8d\",\"#e377c2\",\"#e377c2\",\"#c5b0d5\",\"#e377c2\",\"#2ca02c\",\"#9edae5\",\"#9edae5\",\"#d62728\",\"#8c564b\",\"#9edae5\",\"#9edae5\",\"#e377c2\",\"#bcbd22\",\"#ff7f0e\",\"#98df8a\",\"#2ca02c\",\"#2ca02c\",\"#ff7f0e\",\"#e377c2\",\"#17becf\",\"#98df8a\",\"#c7c7c7\",\"#d62728\",\"#ff7f0e\",\"#dbdb8d\",\"#e377c2\",\"#98df8a\",\"#dbdb8d\",\"#d62728\",\"#98df8a\",\"#98df8a\",\"#98df8a\",\"#bcbd22\",\"#ff9896\",\"#bcbd22\",\"#bcbd22\",\"#98df8a\",\"#d62728\",\"#e377c2\",\"#98df8a\",\"#c5b0d5\",\"#ffbb78\",\"#7f7f7f\",\"#2ca02c\",\"#c7c7c7\",\"#e377c2\",\"#2ca02c\",\"#8c564b\",\"#bcbd22\",\"#c7c7c7\",\"#ff9896\",\"#c7c7c7\",\"#2ca02c\",\"#98df8a\",\"#ff9896\",\"#bcbd22\",\"#ff9896\",\"#bcbd22\",\"#98df8a\",\"#e377c2\",\"#aec7e8\",\"#c5b0d5\",\"#e377c2\",\"#e377c2\",\"#bcbd22\",\"#e377c2\",\"#9467bd\",\"#9edae5\",\"#ff7f0e\",\"#e377c2\",\"#bcbd22\",\"#98df8a\",\"#98df8a\",\"#c7c7c7\",\"#bcbd22\",\"#d62728\",\"#e377c2\",\"#bcbd22\",\"#d62728\",\"#d62728\",\"#2ca02c\",\"#98df8a\",\"#e377c2\",\"#e377c2\",\"#e377c2\",\"#98df8a\",\"#ff7f0e\",\"#2ca02c\",\"#e377c2\",\"#d62728\",\"#9edae5\",\"#c5b0d5\",\"#ff7f0e\",\"#98df8a\",\"#8c564b\",\"#e377c2\",\"#98df8a\",\"#9edae5\",\"#ffbb78\",\"#e377c2\",\"#9467bd\",\"#8c564b\",\"#9467bd\",\"#e377c2\",\"#8c564b\",\"#98df8a\",\"#ff7f0e\",\"#ffbb78\",\"#e377c2\",\"#ffbb78\",\"#9edae5\",\"#c7c7c7\",\"#bcbd22\",\"#9edae5\",\"#98df8a\",\"#8c564b\",\"#bcbd22\",\"#aec7e8\",\"#ffbb78\",\"#bcbd22\",\"#ff7f0e\",\"#2ca02c\",\"#9467bd\",\"#e377c2\",\"#dbdb8d\",\"#9edae5\",\"#ff7f0e\",\"#c7c7c7\",\"#e377c2\",\"#c5b0d5\",\"#ff7f0e\",\"#dbdb8d\",\"#2ca02c\",\"#ff7f0e\",\"#c49c94\",\"#9467bd\",\"#ffbb78\",\"#9edae5\",\"#ff7f0e\",\"#9edae5\",\"#e377c2\",\"#ff7f0e\",\"#2ca02c\",\"#98df8a\",\"#2ca02c\",\"#2ca02c\",\"#2ca02c\",\"#98df8a\",\"#9edae5\",\"#c5b0d5\",\"#c7c7c7\",\"#bcbd22\",\"#d62728\",\"#8c564b\",\"#bcbd22\",\"#bcbd22\",\"#d62728\",\"#bcbd22\",\"#e377c2\",\"#bcbd22\",\"#ff7f0e\",\"#e377c2\",\"#8c564b\",\"#2ca02c\",\"#9467bd\",\"#aec7e8\",\"#d62728\",\"#d62728\",\"#d62728\",\"#ff9896\",\"#c5b0d5\",\"#98df8a\",\"#8c564b\",\"#98df8a\",\"#ffbb78\",\"#1f77b4\",\"#bcbd22\",\"#c7c7c7\",\"#98df8a\",\"#c7c7c7\",\"#98df8a\",\"#e377c2\",\"#98df8a\",\"#9edae5\",\"#e377c2\",\"#8c564b\",\"#98df8a\",\"#98df8a\",\"#ffbb78\",\"#d62728\",\"#bcbd22\",\"#bcbd22\",\"#98df8a\",\"#dbdb8d\",\"#d62728\",\"#e377c2\",\"#8c564b\",\"#e377c2\",\"#ffbb78\",\"#bcbd22\",\"#9467bd\",\"#2ca02c\",\"#c7c7c7\",\"#e377c2\",\"#ff7f0e\",\"#d62728\",\"#9467bd\",\"#e377c2\",\"#c7c7c7\",\"#d62728\",\"#8c564b\",\"#98df8a\",\"#9467bd\",\"#ff7f0e\",\"#ffbb78\",\"#ff7f0e\",\"#c5b0d5\",\"#98df8a\",\"#d62728\",\"#17becf\",\"#c7c7c7\",\"#ff7f0e\",\"#c7c7c7\",\"#e377c2\",\"#9edae5\",\"#ffbb78\",\"#8c564b\",\"#98df8a\",\"#9467bd\",\"#bcbd22\",\"#ff7f0e\",\"#9467bd\",\"#e377c2\",\"#2ca02c\",\"#2ca02c\",\"#2ca02c\",\"#ff7f0e\",\"#bcbd22\",\"#9467bd\",\"#ff7f0e\",\"#bcbd22\",\"#2ca02c\",\"#98df8a\",\"#e377c2\",\"#aec7e8\",\"#d62728\",\"#e377c2\",\"#8c564b\",\"#c5b0d5\",\"#2ca02c\",\"#bcbd22\",\"#bcbd22\",\"#bcbd22\",\"#98df8a\",\"#e377c2\",\"#aec7e8\",\"#c49c94\",\"#bcbd22\",\"#ff7f0e\",\"#8c564b\",\"#d62728\",\"#ff7f0e\",\"#e377c2\",\"#bcbd22\",\"#d62728\",\"#98df8a\",\"#98df8a\",\"#ff7f0e\",\"#9edae5\",\"#ffbb78\",\"#bcbd22\",\"#ffbb78\",\"#c7c7c7\",\"#f7b6d2\",\"#9467bd\",\"#d62728\",\"#9edae5\",\"#ff7f0e\",\"#2ca02c\",\"#98df8a\",\"#d62728\",\"#17becf\",\"#bcbd22\",\"#e377c2\",\"#8c564b\",\"#d62728\",\"#e377c2\",\"#2ca02c\",\"#ffbb78\",\"#ff9896\",\"#ffbb78\",\"#ff7f0e\",\"#bcbd22\",\"#2ca02c\",\"#ffbb78\",\"#9467bd\",\"#8c564b\",\"#bcbd22\",\"#d62728\",\"#c7c7c7\",\"#9467bd\",\"#98df8a\",\"#9467bd\",\"#98df8a\",\"#ff7f0e\",\"#d62728\",\"#bcbd22\",\"#2ca02c\",\"#d62728\",\"#7f7f7f\",\"#98df8a\",\"#c49c94\",\"#c7c7c7\",\"#7f7f7f\",\"#e377c2\",\"#ffbb78\",\"#98df8a\",\"#bcbd22\",\"#2ca02c\",\"#d62728\",\"#c7c7c7\",\"#bcbd22\",\"#8c564b\",\"#e377c2\",\"#bcbd22\",\"#ffbb78\",\"#8c564b\",\"#9edae5\",\"#e377c2\",\"#c5b0d5\",\"#2ca02c\",\"#c5b0d5\",\"#ff7f0e\",\"#8c564b\",\"#e377c2\",\"#c49c94\",\"#98df8a\",\"#98df8a\",\"#9467bd\",\"#9467bd\",\"#c5b0d5\",\"#e377c2\",\"#e377c2\",\"#9edae5\",\"#c49c94\",\"#d62728\",\"#7f7f7f\",\"#9467bd\",\"#2ca02c\",\"#e377c2\",\"#98df8a\",\"#8c564b\",\"#98df8a\",\"#98df8a\",\"#7f7f7f\",\"#98df8a\",\"#ff7f0e\",\"#ff7f0e\",\"#e377c2\",\"#98df8a\",\"#9467bd\",\"#2ca02c\",\"#98df8a\",\"#7f7f7f\",\"#ff7f0e\",\"#bcbd22\",\"#2ca02c\",\"#7f7f7f\",\"#ff7f0e\",\"#9edae5\",\"#9467bd\",\"#c5b0d5\",\"#9edae5\",\"#1f77b4\",\"#bcbd22\",\"#9edae5\",\"#d62728\",\"#d62728\",\"#bcbd22\",\"#dbdb8d\",\"#2ca02c\",\"#9467bd\",\"#e377c2\",\"#9edae5\",\"#9467bd\",\"#dbdb8d\",\"#e377c2\",\"#c7c7c7\",\"#8c564b\",\"#98df8a\",\"#bcbd22\",\"#2ca02c\",\"#8c564b\",\"#e377c2\",\"#9467bd\",\"#dbdb8d\",\"#2ca02c\",\"#2ca02c\",\"#c5b0d5\",\"#9467bd\",\"#9467bd\",\"#2ca02c\",\"#e377c2\",\"#ff7f0e\",\"#c7c7c7\",\"#c7c7c7\",\"#bcbd22\",\"#e377c2\",\"#c7c7c7\",\"#8c564b\",\"#d62728\",\"#d62728\",\"#e377c2\",\"#ff7f0e\",\"#7f7f7f\",\"#8c564b\",\"#e377c2\",\"#2ca02c\",\"#d62728\",\"#bcbd22\",\"#9edae5\",\"#c49c94\",\"#bcbd22\",\"#bcbd22\",\"#e377c2\",\"#2ca02c\",\"#7f7f7f\",\"#8c564b\",\"#ff7f0e\",\"#8c564b\",\"#7f7f7f\",\"#c7c7c7\",\"#9467bd\",\"#ff7f0e\",\"#98df8a\",\"#ffbb78\",\"#2ca02c\",\"#bcbd22\",\"#e377c2\",\"#dbdb8d\",\"#c7c7c7\",\"#98df8a\",\"#bcbd22\",\"#9467bd\",\"#98df8a\",\"#98df8a\",\"#98df8a\",\"#c5b0d5\",\"#ffbb78\",\"#2ca02c\",\"#98df8a\",\"#ff7f0e\",\"#e377c2\",\"#2ca02c\",\"#bcbd22\",\"#7f7f7f\",\"#bcbd22\",\"#7f7f7f\",\"#2ca02c\",\"#8c564b\",\"#ff7f0e\",\"#2ca02c\",\"#8c564b\",\"#9467bd\",\"#2ca02c\",\"#2ca02c\",\"#ff9896\",\"#9edae5\",\"#17becf\",\"#bcbd22\",\"#17becf\",\"#17becf\"],\"names\":[\".\",\"the\",\",\",\"to\",\"and\",\"a\",\"I\",\"of\",\"in\",\"is\",\"you\",\"for\",\"that\",\"-\",\"it\",\"have\",\"?\",\"with\",\"on\",\"\\\"\",\"are\",\"be\",\"was\",\"!\",\"'s\",\"The\",\"this\",\"at\",\"not\",\")\",\"(\",\"my\",\":\",\"i\",\"n't\",\"do\",\"will\",\"as\",\"they\",\"from\",\"or\",\"me\",\"but\",\"would\",\"there\",\"good\",\"can\",\"has\",\"by\",\"we\",\"your\",\"like\",\"an\",\"if\",\"all\",\"had\",\"know\",\"up\",\"so\",\"get\",\"just\",\"what\",\"very\",\"out\",\"great\",\"service\",\"...\",\"one\",\"best\",\"them\",\"place\",\"It\",\"been\",\"about\",\"he\",\"time\",\"were\",\"go\",\"our\",\"some\",\"We\",\"no\",\"any\",\"want\",\"could\",\"people\",\"his\",\"'m\",\"/\",\"Thanks\",\"food\",\"need\",\"s\",\"which\",\"their\",\"who\",\"now\",\"should\",\"They\",\"new\",\"more\",\"If\",\"This\",\"Great\",\"work\",\"am\",\"here\",\"other\",\"only\",\"$\",\"when\",\"You\",\"see\",\"than\",\"going\",\"did\",\"'\",\"take\",\"really\",\"how\",\"well\",\"think\",\"her\",\"Please\",\"What\",\"much\",\"back\",\"also\",\"said\",\"find\",\"A\",\"use\",\"over\",\"too\",\"make\",\"way\",\"'ve\",\"two\",\"may\",\"last\",\"He\",\"US\",\"help\",\"into\",\";\",\"In\",\"even\",\"friendly\",\"Google\",\"few\",\"al\",\"better\",\"does\",\"My\",\"day\",\"little\",\"many\",\"give\",\"him\",\"area\",\"after\",\"years\",\"--\",\"'ll\",\"because\",\"call\",\"staff\",\"Enron\",\"nice\",\"then\",\"love\",\"these\",\"where\",\"group\",\"&\",\"job\",\"again\",\"sure\",\"year\",\"made\",\"look\",\">\",\"recommend\",\"But\",\"still\",\"ever\",\"free\",\"<\",\"today\",\"around\",\"us\",\"..\",\"its\",\"looking\",\"always\",\"And\",\"most\",\"anyone\",\"Bush\",\"let\",\"deal\",\"she\",\"PM\",\"Do\",\"before\",\"put\",\"come\",\"those\",\"guys\",\"Best\",\"Fallujah\",\"since\",\"able\",\"never\",\"got\",\"please\",\"Thank\",\"try\",\"company\",\"say\",\"anything\",\"something\",\"off\",\"called\",\"Good\",\":)\",\"eat\",\"send\",\"such\",\"buy\",\"No\",\"Email\",\"site\",\"'re\",\"1\",\"Qaeda\",\"down\",\"every\",\"why\",\"There\",\"Vince\",\"price\",\"quality\",\"through\",\"world\",\"between\",\"first\",\"name\",\"right\",\"took\",\"house\",\"week\",\"AM\",\"phone\",\"!!!\",\"days\",\"next\",\"5\",\"Iraq\",\"space\",\"lot\",\"done\",\"end\",\"As\",\"used\",\"713\",\"Debra\",\"thanks\",\"information\",\"being\",\"President\",\"against\",\"ask\",\"2\",\"same\",\"London\",\"school\",\"attached\",\"Perlingiere\",\"questions\",\"------\",\"nt\",\"Very\",\"amazing\",\"ca\",\"local\",\"thought\",\"doing\",\"business\",\"How\",\"might\",\"money\",\"John\",\"war\",\"someone\",\"bad\",\"number\",\"under\",\"already\",\"message\",\"using\",\"New\",\"Islamic\",\"though\",\"10\",\"discussed\",\"working\",\"pay\",\"list\",\"shop\",\"Hidden\",\"NASA\",\"helpful\",\"professional\",\"post\",\"store\",\"country\",\"So\",\"project\",\"another\",\"told\",\"making\",\"old\",\"getting\",\"feel\",\"friends\",\"Service\",\"different\",\"restaurant\",\"thing\",\"makes\",\"far\",\"city\",\"American\",\"form\",\"probably\",\"clean\",\"Nook\",\"e-mail\",\"system\",\"else\",\"On\",\"looks\",\"Sunni\",\"part\",\"ago\",\"later\",\"needs\",\"%\",\"high\",\"must\",\"experience\",\"came\",\"things\",\"left\",\"email\",\"life\",\"car\",\"kind\",\"everything\",\"Here\",\"happy\",\"!!\",\"customer\",\"care\",\"actually\",\"....\",\"forward\",\"pretty\",\"nuclear\",\"opinion\",\"Hamas\",\"check\",\"These\",\"tried\",\"Yes\",\"went\",\"dinner\",\"fine\",\"big\",\"times\",\"man\",\"PERFORMANCE\",\"01-Feb-02\",\"*\",\"**\",\"services\",\"[\",\"]\",\"excellent\",\"found\",\"pictures\",\"Israel\",\"seem\",\"long\",\"fast\",\"Iraqi\",\"By\",\"small\",\"order\",\"Not\",\"#\",\"wanted\",\"address\",\"Any\",\"P\",\"website\",\"own\",\"away\",\"yet\",\"stuff\",\"start\",\"3\",\"joined\",\"weeks\",\"possible\",\"enough\",\"support\",\"process\",\"issue\",\"20\",\"real\",\"Well\",\"game\",\"Dow\",\"close\",\"quick\",\"Miramar\",\"family\",\"location\",\"employees\",\"fresh\",\"read\",\"join\",\"without\",\"while\",\"soon\",\"set\",\"Muslim\",\"That\",\"during\",\"several\",\"21\",\"based\",\"month\",\"copy\",\"Are\",\"person\",\"firm\",\"room\",\"stay\",\"couple\",\"file\",\"awesome\",\"News\",\"Posted\",\"Will\",\"home\",\"friend\",\"Highly\",\"search\",\"course\",\"One\",\"Let\",\"United\",\"rather\",\"D\",\"24\",\"short\",\"seems\",\"mean\",\"hard\",\"each\",\"until\",\"groups\",\"among\",\"E17\",\"travel\",\"February\",\"night\",\"When\",\"wondering\",\"available\",\"extremely\",\"offer\",\"started\",\"deals\",\"art\",\"meal\",\"Chicago\",\"fun\",\"believe\",\"police\",\"three\",\"received\",\"BBC\",\"term\",\"wife\",\"idea\",\"terrorist\",\"question\",\"months\",\"Laden\",\"September\",\"team\",\"wait\",\"wo\",\"below\",\"Just\",\"gas\",\"highly\",\"test\",\"top\",\"book\",\"All\",\"page\",\"private\",\"places\",\"dog\",\"San\",\"prices\",\"Is\",\"certainly\",\"wants\",\"town\",\"See\",\"within\",\"Which\",\"added\",\"light\",\"whether\",\"early\",\"Palestinian\",\"case\",\"regarding\",\"David\",\"interested\",\"credit\",\"draft\",\"results\",\"problem\",\"both\",\"pleased\",\"restaurants\",\"burger\",\"computer\",\"cheap\",\"nothing\",\"recommended\",\"easy\",\"account\",\"behind\",\"become\",\"respect\",\"whole\",\"section\",\"hour\",\"move\",\"shares\",\"having\",\"involved\",\"January\",\"seen\",\"War\",\"After\",\"worked\",\"girl\",\"weekend\",\"Mike\",\"Now\",\"Risk\",\"Fax\",\"Call\",\"Hi\",\"Can\",\"issues\",\"hope\",\"bar\",\"Job\",\".?\",\"meeting\",\"gave\",\"access\",\"taking\",\"link\",\"water\",\"busy\",\"camera\",\"Food\",\"Excellent\",\"across\",\"article\",\"However\",\"hand\",\"cool\",\"says\",\"enjoyed\",\"along\",\"once\",\"Most\",\"peace\",\"sounds\",\"market\",\"change\",\"government\",\"Bin\",\"wrong\",\"air\",\"following\",\"Have\",\"suggestions\",\"Houston\",\"contact\",\"regards\",\"'d\",\"Tuesday\",\"wish\",\"open\",\"Indian\",\"Green\",\"K\",\"line\",\"often\",\"Winston\",\"style\",\"pizza\",\"heard\",\"operation\",\"online\",\"weapons\",\"power\",\"either\",\"upon\",\"fact\",\"political\",\"according\",\"hear\",\"Bill\",\"value\",\"reason\",\"worth\",\"statement\",\"word\",\"attack\",\"forces\",\"radical\",\"U.S.\",\"Street\",\"11\",\"coming\",\"fall\",\"thinking\",\"talking\",\"risk\",\"trying\",\"Hope\",\"play\",\"7\",\"Inc.\",\"morning\",\"sent\",\"HPL\",\"THE\",\"web\",\"Also\",\"4\",\"guaranty\",\"looked\",\"Dr.\",\"needed\",\"data\",\"live\",\"four\",\"future\",\"children\",\"tell\",\"Argentina\",\"least\",\"favorite\",\"rude\",\"She\",\"Does\",\"To\",\"view\",\"hands\",\"news\",\"level\",\"vote\",\"filed\",\"front\",\"guy\",\"medical\",\"spot\",\"party\",\"Hezbollah\",\"direct\",\"Mississauga\",\"Holy\",\"especially\",\"Clinton\",\"6\",\"known\",\"fair\",\"Of\",\"administration\",\"lots\",\"remember\",\"ideas\",\"Phone\",\"asked\",\"Michael\",\"Attached\",\"20.000\",\"mind\",\"lunch\",\"changes\",\"December\",\"delivery\",\"touch\",\"Mark\",\"PPA\",\"paper\",\"16\",\"ready\",\"attention\",\"above\",\"story\",\"visit\",\"wonderful\",\"Wei\",\"together\",\"tragedy\",\"highway\",\"atmosphere\",\"pleasant\",\"lol\",\"cost\",\"face\",\"Francisco\",\"cream\",\"reasonable\",\"Go\",\"eggs\",\"show\",\"calling\",\"Friday\",\"remain\",\"announced\",\"given\",\"point\",\"research\",\"means\",\"gone\",\"inside\",\"scheduled\",\"simple\",\"Abdul\",\"main\",\"men\",\"sound\",\"everyone\",\"Al\",\"Afghanistan\",\"answer\",\"World\",\"chance\",\"summer\",\"details\",\"daily\",\"ride\",\"action\",\"comes\",\"sorry\",\"discuss\",\"+\",\"ENA\",\"2000\",\"extra\",\"Center\",\"Would\",\"revised\",\"Our\",\"longer\",\"Your\",\"wedding\",\"For\",\"response\",\"type\",\"named\",\"Groups\",\"cats\",\"arrested\",\"beautiful\",\"Wonderful\",\"flight\",\"White\",\"launch\",\"expensive\",\"slow\",\"etc\",\"fish\",\"breakfast\",\"photography\",\"charge\",\"Why\",\"200\",\"ice\",\"Microsoft\",\"Mary\",\"stock\",\"important\",\"besides\",\"worried\",\"Iran\",\"States\",\"troops\",\"Saddam\",\"share\",\"due\",\"Parts\",\"finished\",\"Washington\",\"quickly\",\"however\",\"taken\",\"Union\",\"situation\",\"giving\",\"grow\",\"major\",\"happens\",\"saying\",\"countries\",\"bring\",\"opposed\",\"whom\",\"militant\",\"Monotheism\",\"true\",\"sign\",\"obviously\",\"members\",\"stop\",\"office\",\"2001\",\"plan\",\"Pakistani\",\"whatever\",\"bet\",\"enron\",\"ticket\",\"hoping\",\"purchase\",\"agreement\",\"Elizabeth\",\"Sara\",\"13\",\"review\",\"leave\",\"weather\",\"Web\",\"Janette\",\"Elbertson\",\"ok\",\"MMBTU\",\"Did\",\"Texas\",\"including\",\"capital\",\"environment\",\"Sheridan\",\"01/24/2001\",\"Department\",\"Darrell\",\"Kam\",\"anywhere\",\"financial\",\"estate\",\"Nice\",\"alt.animals.cat\",\"quite\",\"Chinese\",\"North\",\"painting\",\"street\",\"moon\",\"sector\",\"House\",\"shuttle\",\"rockets\",\"rocket\",\"past\",\"Or\",\"five\",\"ve\",\"Air\",\"owner\",\"NZ\",\"Bay\",\"vet\",\"meat\",\"fantastic\",\"keep\",\"tmobile\",\"Israeli\",\"cat\",\"Abbas\",\"via\",\"shows\",\"energy\",\"proof\",\"connection\",\"military\",\"Americans\",\"frequently\",\"killed\",\"fire\",\"general\",\"leaders\",\"soldiers\",\"Court\",\"decision\",\"VI\",\"agree\",\"update\",\"State\",\"UN\",\"rate\",\"gifts\",\"charity\",\"knows\",\"starting\",\"Palestinians\",\"trust\",\"pull\",\"Iraqis\",\"High\",\"Toronto\",\"19\",\"Jihad\",\"key\",\"oil\",\"companies\",\"40\",\"white\",\"hair\",\"1999\",\"possibly\",\"refer\",\"somewhere\",\"waiting\",\"Hello\",\"Today\",\"additional\",\"class\",\"currently\",\"model\",\"pass\",\"per\",\"position\",\"meet\",\"return\",\"cell\",\"@\",\"First\",\"While\",\"understand\",\"August\",\"kids\",\"correct\",\"felt\",\"drink\",\"USA\",\"healthy\",\"options\",\"favor\",\"amount\",\"run\",\"large\",\"8\",\"Delhi\",\"Systems\",\"talk\",\"China\",\"table\",\"People\",\"it's\",\"Action\",\"boy\",\"coffee\",\"prefer\",\"m\",\"chain\",\"bacon\",\"okay\",\"video\",\"fixing\",\"gift\",\"near\",\"corner\",\"myself\",\"maybe\",\"date\",\"matter\",\"trip\",\"recording\",\"moved\",\"Fast\",\"agent\",\"enjoy\",\"park\",\"tank\",\"Quality\",\"Place\",\"management\",\"complaints\",\"pain\",\"Firefox\",\"CPA\",\"located\",\"turn\",\"Government\",\"Article\",\"willing\",\"Arab\",\"Rumsfeld\",\"pages\",\"Paul\",\"SOUTER\",\"GINSBURG\",\"BREYER\",\"II\",\"keeping\",\"300\",\"basically\",\"Because\",\"legitimate\",\"indicated\",\"elections\",\"media\",\"resistance\",\"organization\",\"assault\",\"Sadr\",\"others\",\"words\",\"plot\",\"Tom\",\"22\",\"Wycombe\",\"Arafat\",\"internet\",\"allowed\",\"million\",\"black\",\"met\",\"responsible\",\"threat\",\"instead\",\"attacks\",\"links\",\"playing\",\"king\",\"b/c\",\"planning\",\"Jeff\",\"luck\",\"Lay\",\"break\",\"industry\",\"fixed\",\"thank\",\"advise\",\"Team\",\"numbers\",\"Monday\",\"Wholesale\",\"Telephone\",\"Facsimile\",\"cold\",\"12\",\"E-mail\",\"Comets\",\"comments\",\"add\",\"Office\",\"matters\",\"EWS\",\"Legal\",\"Maybe\",\"Sent\",\"late\",\"investors\",\"memo\",\"!!!!!!\",\"values\",\"official\",\"shall\",\"plenty\",\"opening\",\"traders\",\"letter\",\"With\",\"Agreement\",\"recently\",\"Guaranty.doc\",\"directly\",\"design\",\"building\",\"provided\",\"DPR\",\"Price\",\"surprise\",\"star\",\"Fun\",\"human\",\"Santiago\",\"field\",\"Korea\",\"2005\",\"single\",\"specific\",\"Network\",\"Earth\",\"unique\",\"plans\",\"Space\",\"upper\",\":-)\",\"Irish\",\"state\",\"websites\",\"sausages\",\"ta\",\"music\",\"decided\",\"usually\",\"supplies\",\"Get\",\"MAD\",\"source\",\"super\",\"Take\",\"Restaurant\",\"Kodak\",\"pause\",\"statues\",\"reasons\",\"wow\",\"product\",\"daughter\",\"definitely\",\"Electric\",\"delicious\",\"City\",\"totally\",\"drive\",\"minutes\",\"outside\",\"Clean\",\"selection\",\"payment\",\"public\",\"former\",\"Mozilla\",\"Phillip\",\"engine\",\"doubt\",\"ones\",\"Iranian\",\"Many\",\"security\",\"clerics\",\"talks\",\"special\",\"treatment\",\"Shiites\",\"Anthony\",\"report\",\"At\",\"violence\",\"African\",\"clearly\",\"international\",\"half\",\"Foundation\",\"assume\",\"dead\",\"Syria\",\"conflict\",\"Allawi\",\"Arabs\",\"raises\",\"Shiite\",\"movement\",\"views\",\"Thursday\",\"Ali\",\"Mohammed\",\"Canada\",\"development\",\"citizens\",\"modern\",\"original\",\"effort\",\"Wolfowitz\",\"Even\",\"??\",\"Pentagon\",\"George\",\"Look\",\"direction\",\"happened\",\"hopefully\",\"reliable\",\"South\",\"America\",\"Credit\",\"conversation\",\"proposal\",\"---\",\"unless\",\"blowing\",\"sleep\",\"exchange\",\"provide\",\"board\",\"sample\",\"standard\",\"d\",\"AT\",\"agreements\",\"Global\",\"trouble\",\"Internet\",\"ID\",\"program\",\"reports\",\"current\",\"status\",\"green\",\"tomorrow\",\"present\",\"size\",\"event\",\"mail\",\"voice\",\"Martin\",\"miss\",\"2002\",\"appreciate\",\"u\",\"An\",\"International\",\"Download\",\"bomb\",\"language\",\"Katrina\",\"River\",\"Orleans\",\"Gulf\",\"giant\",\"visited\",\"Selah\",\"cute\",\"animals\",\"although\",\"visiting\",\"example\",\"door\",\"loss\",\"Moon\",\"develop\",\"stops\",\"glass\",\"shut\",\"step\",\"Iguazu\",\"Ireland\",\"chicago\",\"Where\",\"eating\",\"Awesome\",\"mold\",\"sell\",\"France\",\"French\",\"airlines\",\"training\",\"yourself\",\"onto\",\"box\",\"turned\",\"taste\",\"writing\",\"cover\",\"control\",\"forget\",\"twice\",\"Cheap\",\"Try\",\"walk\",\"self\",\"birthday\",\"cheapest\",\"card\",\"Out\",\"Ice\",\"young\",\"fill\",\"incredibly\",\"repair\",\"Canon\",\"YOU\",\"women\",\"cooked\",\"closing\",\"walked\",\"Hop\",\"Thai\",\"knowledgeable\",\"helped\",\"Pizza\",\"regular\",\"!!!!\",\"road\",\"Like\",\"dress\",\"bit\",\"leader\",\"huge\",\"West\",\"Noida\",\"full\",\"anybody\",\"staying\",\"sin\",\"wonder\",\"suspect\",\"Nations\",\"Falluja\",\"issued\",\"committed\",\"divided\",\"D.C.\",\"actual\",\"KENNEDY\",\"SCALIA\",\"dissenting\",\"THOMAS\",\"ALITO\",\"B\",\"marriage\",\"Post\",\"suppose\",\"lives\",\"Secretary\",\"General\",\"Annan\",\"Darfur\",\"Two\",\"Melinda\",\"less\",\"die\",\"justify\",\"notes\",\"mainly\",\"participate\",\"upcoming\",\"Lebanon\",\"serious\",\"promised\",\"agreed\",\"Over\",\"despite\",\"terrorism\",\"recent\",\"avoid\",\"running\",\"considered\",\"force\",\"AMS\",\"risks\",\"yesterday\",\"choice\",\"Islam\",\"terrorists\",\"Dick\",\"Hussain\",\"28\",\"25\",\"confused\",\"30\",\"followed\",\"pledged\",\"Zarqawi\",\"15\",\"none\",\"Should\",\"Richard\",\"spoke\",\"50\",\"Bob\",\"knew\",\"defense\",\"Pakistan\",\"base\",\"yeah\",\"r\",\"beat\",\"Goldman\",\"Sachs\",\"Gary\",\"acting\",\"events\",\"launched\",\"conference\",\"Ralph\",\"fix\",\"California\",\"pies\",\"games\",\"tickets\",\"Further\",\"USD\",\"range\",\"correlation\",\"Ecogas\",\"talked\",\"Hall\",\"release\",\"dated\",\"PX\",\"request\",\"Davis\",\"presentation\",\"fax\",\"assistant\",\"reach\",\"blank\",\"Paragraph\",\"Securities\",\"similar\",\"Daren\",\"OK\",\"rest\",\"LS\",\"Teco\",\"Tap\",\"IFERC\",\"???\",\"weekends\",\"hunting\",\"cafeteria\",\"Administrative\",\"Coordinator\",\"EB3326\",\"853-7906\",\"646-2600\",\"janette.elbertson@enron.com\",\"April\",\"low\",\"bottom\",\"26th\",\"reflect\",\"difference\",\"showed\",\"deliver\",\"sender\",\"immediately\",\"nor\",\"Attorney\",\"law\",\"talent\",\"opportunity\",\"married\",\"Give\",\"series\",\"36349\",\"track\",\"blacklined\",\"guaranties\",\"Power\",\"GPSA\",\"9\",\"Road\",\"info\",\"checked\",\"ahead\",\"Titman\",\"University\",\"Duffie\",\"Has\",\"count\",\"listed\",\"Chris\",\"fit\",\"files\",\"shoot\",\"forum\",\"Regards\",\"Animals\",\"Ian\",\"include\",\"Key\",\"School\",\"goes\",\"pet\",\"receive\",\"rat\",\"systems\",\"study\",\"Hurricane\",\"released\",\"mouth\",\"90\",\"addresses\",\"732-657-3416\",\"His\",\"artist\",\"bass\",\"Media\",\"servers\",\"ways\",\"campaign\",\"build\",\"GREAT\",\"Space.com\",\"Lunar\",\"Kistler\",\"benefit\",\"LTS\",\"moving\",\"sooner\",\"Griffin\",\"crew\",\"Visit\",\"judge\",\"provides\",\"wear\",\"Tea\",\"thumbs\",\"land\",\"Red\",\"shrimp\",\"Who\",\"n\",\"iPhone\",\"Hank\",\"likely\",\"Make\",\"cut\",\"works\",\"switched\",\"pa\",\"stick\",\"Their\",\"bucks\",\"considering\",\"Was\",\"speakers\",\"customs\",\":D\",\"changed\",\"USB\",\"allow\",\"slogan\",\"certain\",\"Camera\",\"pacman\",\"absolutely\",\"legs\",\"ounces\",\"pints\",\"Zealand\",\"tip\",\"Cream\",\"VERY\",\"Top\",\"vacation\",\"alone\",\"warranty\",\"Raleigh\",\"150\",\"gallon\",\"upgraded\",\"Coast\",\"Tire\",\"Horrible\",\"worst\",\"Keep\",\"Absolutely\",\"charged\",\"Worst\",\"Fantastic\",\"treat\",\"expect\",\"hotel\",\"hesitate\",\"terrible\",\"beer\",\"loved\",\"TERRIBLE\",\"disappointed\",\"inexpensive\",\"salon\",\"massage\",\"From\",\"sort\",\"Wednesday\",\"girls\",\"error\",\"Traci\",\"counterparty\",\"GISB\",\"November\",\"transit\",\"discount\",\"HANO\",\"beach\",\"male\",\"toward\",\"maker\",\"blog\",\"fought\",\"Compare\",\"sharing\",\"Gmail\",\"Council\",\"lack\",\"demanded\",\"wealth\",\"lines\",\"delivered\",\"Times\",\"completely\",\"expressed\",\"steps\",\"hours\",\"continues\",\"officials\",\"usual\",\"foundation\",\"policy\",\"overpriced\",\"otherwise\",\"organizations\",\"easily\",\"fighting\",\"Daniel\",\"80's\",\"Party\",\"Association\",\"Scholars\",\"leaving\",\"Zaman\",\"occupation\",\"Najaf\",\"participation\",\"national\",\"blow\",\"Muslims\",\"Harry\",\"26\",\"23\",\"earlier\",\"airline\",\"Group\",\"Germany\",\"terror\",\"5,000\",\"strong\",\"violent\",\"minded\",\"wearing\",\"Baghdad\",\"hundreds\",\"Four\",\"theories\",\"evidence\",\"initially\",\"battle\",\"picking\",\"Prime\",\"rescue\",\"exciting\",\"tonight\",\"jacket\",\"blast\",\"saturday\",\"lying\",\"Someone\",\"relationship\",\"E.\",\"Dear\",\"Mr.\",\"mine\",\"FYI\",\"alternative\",\"potential\",\"hurt\",\"mention\",\"folks\",\"lesson\",\"transaction\",\"addition\",\"basis\",\"AND\",\"handle\",\"approval\",\"EB\",\"executed\",\"Services\",\"Smith\",\"corporate\",\"includes\",\"subject\",\"follow\",\"appropriate\",\"sit\",\"crazy\",\"spend\",\"Robert\",\"UP\",\"IT\",\"sold\",\"Sat\",\"Master\",\"version\",\"Could\",\"March\",\"Wall\",\"seeing\",\"storage\",\"effective\",\"pad\",\"confirmed\",\"spreadsheet\",\"29th\",\"neither\",\"Location\",\"individual\",\"almost\",\"E\",\"Energy\",\"concerning\",\"Senior\",\"ISO\",\"England\",\"Frank\",\"thoughts\",\"resume\",\"feedback\",\"Kevin\",\"reviews\",\"650\",\"successfully\",\"interest\",\"background\",\"books\",\"Hey\",\"head\",\"F\",\"activity\",\"format\",\"Greg\",\"assist\",\"Animal\",\"Webmaster\",\"discussion\",\"complete\",\"happen\",\"Technology\",\"franz371...@gmail.com\",\"FOR\",\"OF\",\"Reply\",\"India\",\"Development\",\"demand\",\"memorial\",\"database\",\"essential\",\"economic\",\"decisions\",\"global\",\"allies\",\"fight\",\"photographer\",\"animal\",\"R\",\"British\",\"Museum\",\"mathematical\",\"Photo\",\"creative\",\"community\",\"interesting\",\"concern\",\"advice\",\"description\",\"write\",\"drop\",\"offers\",\"bus\",\"blown\",\"architecture\",\"budget\",\"stage\",\"greater\",\"100\",\"ton\",\"stars\",\"bed\",\"Santa\",\"watch\",\"Yahoo!\",\"particular\",\"variety\",\"smoke\",\"re\",\"Brain\",\"notch\",\"alike\",\"costs\",\"Auckland\",\"Burger\",\"King\",\"voted\",\"luggage\",\"continue\",\"compact\",\"exactly\",\"heat\",\"nights\",\"weight\",\"irish\",\"finding\",\"cow\",\"movie\",\"Mexico\",\"fries\",\"rice\",\"concerned\",\"imagine\",\"statue\",\"server\",\"afford\",\"intended\",\"canon\",\"May\",\"side\",\"extend\",\"kept\",\"stayed\",\"sweet\",\"Friendly\",\"watching\",\"curry\",\"closed\",\"Amazing\",\"East\",\"telephone\",\"flowers\",\"teeth\",\"Nothing\",\"customers\",\"Rooms\",\"impressed\",\"superb\",\"Miami\",\"gets\",\"TO\",\"Love\",\"commercial\",\"Bad\",\"airport\",\"projects\",\"Garden\",\"feels\",\"property\",\"convenient\",\"delete\",\"successful\",\"material\",\"relax\",\"mall\",\"BEST\",\"efficient\",\"winter\",\"arm\",\"sushi\",\"clear\",\"Natasha\",\"listens\",\"replaced\",\"chronic\",\"guide\",\"Family\",\"tasty\",\"Sharon\",\"lost\",\"execution\",\"cartoons\",\"hymn\",\"Ben\",\"X\",\"Gas\",\"forwarded\",\"Analyst\",\"Venus\",\"Rahu\",\"Housing\",\"housing\",\"storm\",\"Eurostar\",\"stolen\",\"cup\",\"Fiji\",\"blood\",\"Into\",\"expanded\",\"anyways\",\"flag\",\"toolbar\",\"nasty\",\"map\",\"diplomacy\",\"pressure\",\"pointed\",\"hostage\",\"crowds\",\"slogans\",\"Saturday\",\"Reuters\",\"guards\",\"dedicated\",\"protection\",\"aggressive\",\"Sunnis\",\"fundamentalists\",\"joining\",\"v\",\"concurring\",\"C\",\"III\",\"bedroom\",\"crisis\",\"Kofi\",\"aid\",\"Buffett\",\"85\",\"Gates\",\"fortune\",\"significantly\",\"essentially\",\"Berkshire\",\"century\",\"donating\",\"compared\",\"ten\",\"dying\",\"death\",\"prime\",\"hose\",\"donation\",\"MSM\",\"Europe\",\"forms\",\"north\",\"entering\",\"conditions\",\"begun\",\"freedom\",\"civilians\",\"York\",\"bombed\",\"thus\",\"mortal\",\"beware\",\"repeat\",\"Remember\",\"majority\",\"basic\",\"illegal\",\"Army\",\"foiled\",\"fascists\",\"associate\",\"fascism\",\"suspected\",\"Waheed\",\"Abdullah\",\"Khan\",\"Amin\",\"Tariq\",\"Brian\",\"17\",\"Lest\",\"Ahmad\",\"Ont.\",\"Kingston\",\"Mohamed\",\"Steven\",\"Vikash\",\"Chand\",\"Shakur\",\"fascist\",\"Tawhid\",\"declared\",\"announce\",\"pledge\",\"Afghan\",\"worrying\",\"picked\",\"consolidation\",\"result\",\"Usamah\",\"Taliban\",\"Saudi\",\"guess\",\"influenced\",\"Egyptian\",\"extremists\",\"Jordanian\",\"distinctive\",\"Protestant\",\"practice\",\"Prophet\",\"Muhammad\",\"German\",\"train\",\"findings\",\"9/11\",\"Cheney\",\"counter-terrorism\",\"Clarke\",\"crackpot\",\"reality\",\"hijackers\",\"bases\",\"dealing\",\"eye\",\"CIA\",\"elsewhere\",\"cabinet\",\"cooperation\",\"excited\",\"Minister\",\"Nawaz\",\"Sharif\",\"Musharraf\",\"elements\",\"protective\",\"soil\",\"figure\",\"na\",\"kick\",\"retarded\",\"dogs\",\"requires\",\"a&m\",\"hook\",\"layoffs\",\"economy\",\"sale\",\"financing\",\"Ken\",\"route\",\"Hilary\",\"Ackermann\",\"Management\",\"Advisory\",\"212-902-3724\",\"212-428-1181\",\"E-Mail\",\"hilary.ackermann@gs.com\",\"Louise\",\"sorted\",\"Margin\",\"Morgan\",\"press\",\"equivalent\",\"driving\",\"tonite\",\"dose\",\"bills\",\"hell\",\"possibility\",\"Cotton\",\"anyway\",\"PSE\",\"swap\",\"CPI\",\"reserve\",\"implied\",\"PHB\",\"Hagler\",\"Bailly\",\"202\",\"Maffett\",\"lawsuit\",\"related\",\"goal\",\"papers\",\"Becky\",\"invoices\",\"PC\",\"A.\",\"Corp.\",\"Sanders\",\"drawn\",\"penny\",\"levels\",\"proposed\",\"Project\",\"separately\",\"remaining\",\"TX\",\"Currently\",\"Corporate\",\"b\",\"Susan\",\"blanks\",\"Inc\",\"perhaps\",\"212\",\"afternoon\",\"whenever\",\"role\",\"13th\",\"LSK\",\"IC\",\"WE\",\"LOVE\",\"80\",\"Ram\",\"Tackett\",\"281\",\"Sat.\",\"Compaq\",\"bringing\",\"girlfriends\",\"LJ\",\"Stacey\",\"sending\",\"dp\",\"template\",\"Contracts\",\"Net\",\"12:30\",\"Cafeteria\",\"condo\",\"vegetables\",\"09/20/2000\",\"'68\",\"fallen\",\"rally\",\"'73\",\"bear\",\"predicting\",\"250\",\"greatest\",\"09/08/2000\",\"Per\",\"420,588\",\"Anita\",\"Wilson\",\"Storage\",\"reduced\",\"friday\",\"normal\",\"*******************\",\"contained\",\"destroy\",\"kindly\",\"notify\",\"package\",\"comprehensive\",\"hearing\",\"trading\",\"natural\",\"TVA\",\"calls\",\"shape\",\"Haedicke\",\"02/28/2001\",\"EPMI\",\"obligations\",\"banks\",\"REDLINE\",\"Hain\",\"Regulatory\",\"Counsel\",\"CDWR\",\"increase\",\"bond\",\"latest\",\"IN\",\"titman@mail.utexas.edu\",\"consulting\",\"arrangement\",\"contract\",\"Business\",\"Bryan\",\"duffie@Stanford.EDU\",\"respond\",\"attach\",\"_____________________________________________\",\"CA\",\"spoken\",\"Kaminski\",\"Arfsten\",\"concept\",\"worthy\",\"ideal\",\"cash\",\"KK\",\"Unfortunately\",\"Talk\",\"accurate\",\"id's\",\"6,363,217\",\"0\",\"1,993,045\",\"noon\",\"airplane\",\"33\",\"amp\",\"tubes\",\"gay\",\"Deb\",\"Detroit\",\"Twinkle\",\"sky\",\"scenes\",\"alt.animals\",\"History\",\"Games\",\"18\",\"^^\",\"secure\",\"www.southbhamcats.org.uk\",\"PS\",\"chief\",\"Dar\",\"nature\",\"Manchester\",\"devoted\",\"loving\",\"Beavers\",\"Inhibitory\",\"controlling\",\"implications\",\"cortical\",\"network\",\"Worldwatch\",\"powerful\",\"destruction\",\"\\u2014\",\"degree\",\"rising\",\"n3td3v\",\"saw\",\"searching\",\"content\",\"written\",\"Hu\",\"Jintao\",\"boredom\",\"disease\",\"animations\",\"mailing\",\"Along\",\"Uncensored\",\"Usenet\",\"=-----\",\"Newsgroup\",\"100,000\",\"Newsgroups\",\"Servers\",\"Catalog\",\"feathers\",\"sheep\",\"Retail\",\"Store\",\"exhibits\",\"minimum\",\"Dinner\",\"Club\",\"Money\",\"exhibition\",\"perfectly\",\"calligraphy\",\"leading\",\"dreams\",\"Art\",\"counter\",\"Search\",\"2014\",\"finally\",\"Ruth\",\"useful\",\"closures\",\"Otherwise\",\"Peters\",\"asks\",\"students\",\"stands\",\"carrying\",\"fifty\",\"killing\",\"Finally\",\"Transportation\",\"transportation\",\"Walter\",\"Both\",\"vision\",\"Exploration\",\"astronauts\",\"sleek\",\"Saturn\",\"dangerous\",\"Columbia\",\"derived\",\"solid\",\"boosters\",\"vehicle\",\"towards\",\"rose\",\"wall\",\"speech\",\"Every\",\"Zsa\",\"Only\",\"begins\",\"spam\",\"Mail\",\"delhi\",\"kolkatta\",\"fried\",\"explain\",\"Apple\",\"foods\",\"snow\",\"areas\",\"necessary\",\"varnish\",\"picture\",\"(:\",\"common\",\"scale\",\".....\",\"pancakes\",\"trace\",\"Yeah\",\"mazzoni\",\"deli\",\"italian\",\"phila\",\"dancing\",\"appreciated\",\"Room\",\"Name\",\"carnival\",\"Candy\",\"Stick\",\"trivia\",\"Monkey\",\"champagne\",\"served\",\"experienced\",\"noticed\",\"pre-order\",\"cruises\",\"estimate\",\"POS\",\"Philadelphia\",\"pos\",\"bigger\",\"Bose\",\"USPS\",\"Side\",\"suburbs\",\"previous\",\"National\",\"duty\",\"bottles\",\"age\",\"hold\",\"equipment\",\"Royal\",\"NCL\",\"Epic\",\"terms\",\"ports\",\"beef\",\"Come\",\"Compact\",\"videos\",\"colors\",\"artistic\",\"returned\",\"Indochina\",\"Vietnam\",\"frog\",\"calcium\",\"supplement\",\"san\",\"francisco\",\"Treasure\",\"Island\",\"hind\",\"hlep\",\"drinks\",\"catering\",\"pint\",\"measure\",\"fluid\",\"larger\",\"Script\",\"bands\",\"surprised\",\"suggest\",\"rain\",\"waterproof\",\"10.2\",\"Megapixels\",\"AF\",\"5x\",\"OPTICAL\",\"LENS\",\"buffer\",\"memory\",\"Nacho\",\"Libre\",\"blouse\",\"wrote\",\"Okay\",\"sundae\",\"Invercargill\",\"Hackney\",\"brick\",\"bland\",\"int\",\"attended\",\"AWAY\",\"acquired\",\"donatello\",\"marble\",\"Michelangelo\",\"david\",\"wasted\",\"clothes\",\"hibachi\",\"cook\",\"brings\",\"t2i\",\"Philippines\",\"Seoul\",\"compare\",\"Seattle\",\"Groupon\",\"ZebraKlub\",\"500\",\"perfect\",\"adults\",\"casual\",\"sites\",\"cichlids\",\"stocking\",\"option\",\"clownloach\",\"inch\",\"clown\",\"loach\",\"wash\",\"library\",\"Sam\",\"club\",\"Got\",\"relaxed\",\"red\",\"Doctor\",\".!\",\"permit\",\"Allentown\",\"Landscaping\",\"Recommend\",\"bartender\",\"Promotion\",\"straight\",\"safe\",\"facility\",\"communication\",\"ARE\",\"paid\",\"Sanctuary\",\"knowledge\",\"professionalism\",\"flexibility\",\"attitude\",\"polite\",\"THERE\",\"IS\",\"Computers\",\"impressive\",\"appointment\",\"dryers\",\"Fresh\",\"unic\",\"Way\",\"NO\",\"refused\",\"clinic\",\"miles\",\"Allen\",\"therapist\",\"tasted\",\"eaten\",\"Futures\",\"Called\",\"Farrell\",\"contractor\",\"HIGHLY\",\"apartment\",\"pharmacy\",\"keeps\",\"installation\",\"truth\",\"sometimes\",\"insurance\",\"grateful\",\"fab\",\"item\",\"Eric\",\"sprayed\",\"menu\",\"center\",\"kitchen\",\"Atmosphere\",\"satellite\",\"photographers\",\"Last\",\"warm\",\"hire\",\"bagel\",\"Bagels\",\"donuts\",\"Rich\",\"Seth\",\"tissue\",\"helps\",\"neck\",\"shoulders\",\"gives\",\"Muqtada\",\"dollars\",\"pockets\",\"cities\",\"Defense\",\"\\u2019s\",\"Laughter\",\"Applause\",\"boys\",\"Darin\",\"rock\",\"parts\",\"suddenly\",\"kidding\",\"plus\",\"confidential\",\"NiMo\",\"herein\",\"FREE\",\"informed\",\"Coach\",\"Associate\",\"$$$\",\"Calgary\",\"transmittal\",\"attachments\",\"<<\",\"File\",\">>\",\"Renee\",\"audiobooks\",\"fiction\",\"2003\",\"btw\",\"egg\",\"affliction\",\"Cat\",\"son\",\"airfare\",\"period\",\"plant\",\"village\",\"Greater\",\"residents\",\"units\",\"Mahmoud\",\"Bank\",\"Gaza\",\"teacher\",\"Anyone\",\"Del\",\"Frisco\",\"female\",\"empanadas\",\"boat\",\"cruise\",\"island\",\"morcillas\",\"wifi\",\"blue\",\"hamster\",\"Jo\",\"rush\",\"particularly\",\"blogger\",\"observations\",\"linked\",\"privacy\",\"wonders\",\"excerpt\",\"creating\",\"magazine\",\"begin\",\"denied\",\"prove\",\"incident\",\"reported\",\"deaths\",\"strike\",\"protecting\",\"nationalism\",\"ruling\",\"involvement\",\"VII\",\"V\",\"miniscule\",\"relationships\",\"excluded\",\"NY\",\"48\",\"pledging\",\"PR\",\"display\",\"unchanged\",\"react\",\"education\",\"adds\",\"essay\",\"protest\",\"Lebanese\",\"strength\",\"properly\",\"murder\",\"acts\",\"obvious\",\"satisfy\",\"throughout\",\"lead\",\"threatening\",\"mass\",\"boycott\",\"communique\",\"population\",\"appeal\",\"enormous\",\"principles\",\"foreign\",\"initial\",\"reluctant\",\"tensions\",\"executive\",\"hence\",\"Muhammed\",\"Usman\",\"Birmingham\",\"born\",\"Patel\",\"Forest\",\"James\",\"Avenue\",\"sheikh\",\"bin\",\"witness\",\"trial\",\"alleged\",\"personal\",\"extremist\",\"1998\",\"Egypt\",\"Jordan\",\"Samarra\",\"smaller\",\"ultimately\",\"mistakes\",\"stopped\",\"maps\",\"focusing\",\"Neither\",\"Captain\",\"Imperial\",\"officers\",\"Special\",\"operations\",\"army\",\"facilities\",\"matt\",\"cocker\",\"flew\",\"offices\",\"discussions\",\"Following\",\"J.\",\"M\",\"Thought\",\"materials\",\"sets\",\"Harvey\",\"election\",\"learned\",\"desk\",\"calculating\",\"DM\",\"consider\",\"double\",\"Vincent\",\"Consultant\",\"dial\",\"Doug\",\"prepare\",\"receipt\",\"ENRON@enronXgate\",\"Steve\",\"stated\",\"concerns\",\"confirm\",\"extract\",\"reviewing\",\"master\",\"previously\",\"sections\",\"Vice\",\"Derivatives\",\"GOOD\",\"album\",\"Nov\",\"patience\",\"record\",\"turning\",\"conducted\",\"corrections\",\"proceed\",\"Information\",\"reply\",\"relate\",\"client\",\"toxic\",\"exceptional\",\"elementary\",\"outfit\",\"Curry\",\"cancel\",\"wrap\",\"Contract\",\"acceptable\",\"participants\",\"seller\",\"03/23/2001\",\"Portland\",\"court\",\"faxed\",\"Perhaps\",\"preliminary\",\"Finance\",\"Administration\",\"Buy\",\"problems\",\"reference\",\"11:21\",\"Once\",\"Lavo\",\"bridge\",\"established\",\"Kristen\",\"tab\",\"responsibility\",\"Ed\",\"Christmas\",\"individuals\",\"tracks\",\"reel\",\"stereo\",\"dating\",\"Morning\",\"reading\",\"alt.animals.ethics.vegetarian\",\"Me\",\"HAVE\",\"Kim\",\"17th\",\"browse\",\"deadly\",\"blasts\",\"Ahmed\",\"Diaries\",\"Everything\",\"portion\",\"purchased\",\"Cindy\",\"companion\",\"communicative\",\"mesmerizing\",\"~\",\"CGoehring\",\"pattern\",\"Medicine\",\"central\",\"timing\",\"Be\",\"failed\",\"Institute\",\"Mississippi\",\"Online\",\"reveal\",\"users\",\"Choose\",\"opinions\",\"note\",\"Jason\",\"W.\",\"bilateral\",\"Asia\",\"Hopefully\",\"goals\",\"Before\",\"Different\",\"NOW\",\"goat\",\"selling\",\"products\",\"List\",\"total\",\"S.\",\"Modern\",\"Press\",\"volunteered\",\"host\",\"Netscape\",\"evaluating\",\"drove\",\"cliff\",\"accident\",\"kinda\",\"tight\",\"heavily\",\"tie\",\"developed\",\"decade\",\"Although\",\"cousins\",\"shuttles\",\"replace\",\"differ\",\"slightly\",\"cargo\",\"alcohol\",\"fat\",\"Until\",\"Joe\",\"Then\",\"spread\",\"wise\",\"tea\",\"answers\",\"grilled\",\"resorts\",\"supplements\",\"yes\",\"sports\",\"resort\",\"film\",\"rubber\",\"stores\",\"burn\",\"secret\",\"chips\",\"yep\",\"boyfriend\",\"Link\",\"various\",\"Plus\",\"bunch\",\"bird\",\"pick\",\"personally\",\"mac\",\"w\",\"Delivery\",\"hav\",\"Donald\",\"Taco\",\"Bell\",\"'S\",\"hahaha\",\"carry\",\"frame\",\"net\",\"stand\",\"depends\",\"mode\",\"Argentinian\",\"respected\",\"articles\",\"System\",\"weird\",\"incorporated\",\"image\",\"throw\",\"creates\",\"romantic\",\"random\",\"surprisingly\",\"save\",\"pray\",\"physical\",\"therapy\",\"feed\",\"Mexican\",\"Italian\",\"G\",\"pub\",\"american\",\"sized\",\"Cinema\",\"UK\",\"software\",\"sense\",\"FIRST\",\"posted\",\"category\",\"second\",\"McDonald\",\"Robin\",\"idk\",\"ur\",\"DD\",\"Rd\",\"onion\",\"yellow\",\"ASAP\",\"gotten\",\"notice\",\"grown\",\"Obviously\",\"Square\",\"quote\",\"bowl\",\"ingredients\",\"listing\",\"square\",\"Grill\",\"battery\",\"Sounds\",\"Cheapest\",\"holidays\",\"Use\",\"Ask\",\"states\",\"rates\",\"sorts\",\"cheaply\",\"Looking\",\"gal\",\"species\",\"pool\",\"dollar\",\"quiet\",\"Express\",\"Too\",\"Everyone\",\"Usually\",\"timely\",\"owned\",\"bother\",\"impossible\",\"survived\",\"forgive\",\"awful\",\"steep\",\"?!\",\"auto\",\"AWESOME\",\"Market\",\"Men\",\"Boys\"],\"x1\":{\"__ndarray__\":\"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\",\"dtype\":\"float32\",\"shape\":[3000]},\"x2\":{\"__ndarray__\":\"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\",\"dtype\":\"float32\",\"shape\":[3000]}}},\"id\":\"2c9dea58-06cd-4707-9bb1-d9f2e0e83d6b\",\"type\":\"ColumnDataSource\"},{\"attributes\":{\"formatter\":{\"id\":\"8db844be-0b62-4152-88d6-0cb04772cd6f\",\"type\":\"BasicTickFormatter\"},\"plot\":{\"id\":\"35924cca-a341-4ecc-8475-c434e18de686\",\"subtype\":\"Figure\",\"type\":\"Plot\"},\"ticker\":{\"id\":\"f7007086-13a9-4830-a84f-9b435e148252\",\"type\":\"BasicTicker\"}},\"id\":\"a46d61ba-e2ce-4b5e-8861-9e03ebd803fe\",\"type\":\"LinearAxis\"},{\"attributes\":{},\"id\":\"1845f655-def4-4495-80ed-d47c6cd1158f\",\"type\":\"PanTool\"},{\"attributes\":{},\"id\":\"befd7d98-8b14-4bc8-8dac-6727752074cb\",\"type\":\"LinearScale\"},{\"attributes\":{\"fill_color\":{\"field\":\"colors\"},\"line_color\":{\"field\":\"colors\"},\"size\":{\"units\":\"screen\",\"value\":8},\"x\":{\"field\":\"x1\"},\"y\":{\"field\":\"x2\"}},\"id\":\"8c529a39-bae8-4f96-bb0f-864ea099e08b\",\"type\":\"Circle\"}],\"root_ids\":[\"35924cca-a341-4ecc-8475-c434e18de686\"]},\"title\":\"Bokeh Application\",\"version\":\"0.12.10\"}};\n",
       "    var render_items = [{\"docid\":\"7ef8969e-8954-4aaa-9840-830fe099e232\",\"elementid\":\"73b62178-4c5c-4e7e-9d6e-d2cdc448bdab\",\"modelid\":\"35924cca-a341-4ecc-8475-c434e18de686\"}];\n",
       "\n",
       "    root.Bokeh.embed.embed_items(docs_json, render_items);\n",
       "  }\n",
       "\n",
       "  if (root.Bokeh !== undefined) {\n",
       "    embed_document(root);\n",
       "  } else {\n",
       "    var attempts = 0;\n",
       "    var timer = setInterval(function(root) {\n",
       "      if (root.Bokeh !== undefined) {\n",
       "        embed_document(root);\n",
       "        clearInterval(timer);\n",
       "      }\n",
       "      attempts++;\n",
       "      if (attempts > 100) {\n",
       "        console.log(\"Bokeh: ERROR: Unable to embed document because BokehJS library is missing\")\n",
       "        clearInterval(timer);\n",
       "      }\n",
       "    }, 10, root)\n",
       "  }\n",
       "})(window);"
      ],
      "application/vnd.bokehjs_exec.v0+json": ""
     },
     "metadata": {
      "application/vnd.bokehjs_exec.v0+json": {
       "id": "35924cca-a341-4ecc-8475-c434e18de686"
      }
     },
     "output_type": "display_data"
    }
   ],
   "source": [
    "most_common_words = gensim_word_count.most_common(3000)\n",
    "most_common_words_vectors = []\n",
    "for word, count in most_common_words:\n",
    "    most_common_words_vectors.append(word_embeddings_dict[word])\n",
    "\n",
    "emb_scatter(most_common_words_vectors, [word for word, count in most_common_words], N=20)"
   ]
  },
  {
   "cell_type": "code",
   "execution_count": 61,
   "metadata": {},
   "outputs": [
    {
     "name": "stdout",
     "output_type": "stream",
     "text": [
      "finding clusters\n",
      "fitting tsne\n"
     ]
    },
    {
     "data": {
      "text/html": [
       "\n",
       "<div class=\"bk-root\">\n",
       "    <div class=\"bk-plotdiv\" id=\"4065902d-d4c8-4e9b-bb53-009e137a946d\"></div>\n",
       "</div>"
      ]
     },
     "metadata": {},
     "output_type": "display_data"
    },
    {
     "data": {
      "application/javascript": [
       "(function(root) {\n",
       "  function embed_document(root) {\n",
       "    var docs_json = {\"36323e20-b0d5-4141-933c-6fe43da3b617\":{\"roots\":{\"references\":[{\"attributes\":{\"plot\":null,\"text\":\"T-SNE for most common words\"},\"id\":\"6bb2206b-a8f9-41f9-a143-074ddac227b0\",\"type\":\"Title\"},{\"attributes\":{\"plot\":{\"id\":\"736c5f24-4d17-41bb-8d31-55953f399d29\",\"subtype\":\"Figure\",\"type\":\"Plot\"},\"source\":{\"id\":\"4f59ead8-09b9-4d13-a30b-61ca11ddc4a5\",\"type\":\"ColumnDataSource\"},\"text\":{\"field\":\"names\"},\"text_align\":\"center\",\"text_color\":{\"value\":\"#555555\"},\"text_font_size\":{\"value\":\"8pt\"},\"x\":{\"field\":\"x1\"},\"y\":{\"field\":\"x2\"},\"y_offset\":{\"value\":6}},\"id\":\"0e794ded-e486-4599-ad92-4232d53c2e06\",\"type\":\"LabelSet\"},{\"attributes\":{},\"id\":\"9aa06db9-b216-4ab5-90d3-694f5255fbd4\",\"type\":\"BasicTicker\"},{\"attributes\":{\"fill_alpha\":{\"value\":0.1},\"fill_color\":{\"value\":\"#1f77b4\"},\"line_alpha\":{\"value\":0.1},\"line_color\":{\"value\":\"#1f77b4\"},\"size\":{\"units\":\"screen\",\"value\":8},\"x\":{\"field\":\"x1\"},\"y\":{\"field\":\"x2\"}},\"id\":\"40c52726-d908-4795-b535-82cf9fc67d0d\",\"type\":\"Circle\"},{\"attributes\":{\"plot\":{\"id\":\"736c5f24-4d17-41bb-8d31-55953f399d29\",\"subtype\":\"Figure\",\"type\":\"Plot\"},\"ticker\":{\"id\":\"9aa06db9-b216-4ab5-90d3-694f5255fbd4\",\"type\":\"BasicTicker\"}},\"id\":\"9dd6d260-f5f2-4cfe-87fd-8ed636ea9089\",\"type\":\"Grid\"},{\"attributes\":{},\"id\":\"6690a5e9-3fb8-45d9-b6c9-f00fa1700261\",\"type\":\"ResetTool\"},{\"attributes\":{\"active_drag\":\"auto\",\"active_inspect\":\"auto\",\"active_scroll\":\"auto\",\"active_tap\":\"auto\",\"tools\":[{\"id\":\"e0197507-bcc0-43ee-a941-5b1ca0e957ca\",\"type\":\"PanTool\"},{\"id\":\"236ddcb7-39be-4103-940a-c9bfb88f9caf\",\"type\":\"WheelZoomTool\"},{\"id\":\"6690a5e9-3fb8-45d9-b6c9-f00fa1700261\",\"type\":\"ResetTool\"},{\"id\":\"70e665f1-a40e-48dc-8710-ade229f4fe80\",\"type\":\"SaveTool\"}]},\"id\":\"8f5a014d-afb4-4ef8-84f8-a162289ba8e9\",\"type\":\"Toolbar\"},{\"attributes\":{\"dimension\":1,\"plot\":{\"id\":\"736c5f24-4d17-41bb-8d31-55953f399d29\",\"subtype\":\"Figure\",\"type\":\"Plot\"},\"ticker\":{\"id\":\"485152f1-a85e-4241-8cea-2b972f80ac34\",\"type\":\"BasicTicker\"}},\"id\":\"b34c6f9e-632c-4124-8fdb-d8ed083899db\",\"type\":\"Grid\"},{\"attributes\":{\"data_source\":{\"id\":\"4f59ead8-09b9-4d13-a30b-61ca11ddc4a5\",\"type\":\"ColumnDataSource\"},\"glyph\":{\"id\":\"895a27b3-a703-462e-8f7a-715c4bbc3e4c\",\"type\":\"Circle\"},\"hover_glyph\":null,\"muted_glyph\":null,\"nonselection_glyph\":{\"id\":\"40c52726-d908-4795-b535-82cf9fc67d0d\",\"type\":\"Circle\"},\"selection_glyph\":null,\"view\":{\"id\":\"38f7cf9f-b95b-4d62-b2ce-fcdcd8304649\",\"type\":\"CDSView\"}},\"id\":\"1fee91c2-c702-4ac5-89a6-c2ec3f7495c6\",\"type\":\"GlyphRenderer\"},{\"attributes\":{},\"id\":\"c1785fa7-15d7-404a-9d94-fac908f00816\",\"type\":\"LinearScale\"},{\"attributes\":{\"formatter\":{\"id\":\"02f2d994-a011-4642-9ebc-3847331804b8\",\"type\":\"BasicTickFormatter\"},\"plot\":{\"id\":\"736c5f24-4d17-41bb-8d31-55953f399d29\",\"subtype\":\"Figure\",\"type\":\"Plot\"},\"ticker\":{\"id\":\"9aa06db9-b216-4ab5-90d3-694f5255fbd4\",\"type\":\"BasicTicker\"}},\"id\":\"ba223f92-7146-4206-a452-95faee913d69\",\"type\":\"LinearAxis\"},{\"attributes\":{},\"id\":\"70e665f1-a40e-48dc-8710-ade229f4fe80\",\"type\":\"SaveTool\"},{\"attributes\":{\"callback\":null},\"id\":\"a5f7b454-3570-4d10-be47-29c1147e7e72\",\"type\":\"DataRange1d\"},{\"attributes\":{\"formatter\":{\"id\":\"620dc757-9e5b-475a-ab81-1352dce0c92b\",\"type\":\"BasicTickFormatter\"},\"plot\":{\"id\":\"736c5f24-4d17-41bb-8d31-55953f399d29\",\"subtype\":\"Figure\",\"type\":\"Plot\"},\"ticker\":{\"id\":\"485152f1-a85e-4241-8cea-2b972f80ac34\",\"type\":\"BasicTicker\"}},\"id\":\"6fea95f2-cd10-432a-8cc5-fd6b1ba4d248\",\"type\":\"LinearAxis\"},{\"attributes\":{},\"id\":\"ef849a47-7620-49ed-8dfe-9d05051d7f2d\",\"type\":\"LinearScale\"},{\"attributes\":{},\"id\":\"236ddcb7-39be-4103-940a-c9bfb88f9caf\",\"type\":\"WheelZoomTool\"},{\"attributes\":{},\"id\":\"485152f1-a85e-4241-8cea-2b972f80ac34\",\"type\":\"BasicTicker\"},{\"attributes\":{\"callback\":null},\"id\":\"db0e28f3-63ce-4b29-bd7e-1129b2e60fa7\",\"type\":\"DataRange1d\"},{\"attributes\":{\"callback\":null,\"column_names\":[\"x1\",\"x2\",\"names\",\"colors\"],\"data\":{\"colors\":[\"#2ca02c\",\"#98df8a\",\"#c5b0d5\",\"#8c564b\",\"#aec7e8\",\"#c49c94\",\"#e377c2\",\"#ff9896\",\"#7f7f7f\",\"#f7b6d2\",\"#c7c7c7\",\"#9467bd\",\"#ffbb78\",\"#ff7f0e\",\"#d62728\",\"#bcbd22\",\"#1f77b4\"],\"names\":[\"PRON\",\"SCONJ\",\"PROPN\",\"VERB\",\"ADP\",\"PUNCT\",\"NOUN\",\"CCONJ\",\"ADV\",\"DET\",\"ADJ\",\"AUX\",\"PART\",\"NUM\",\"X\",\"SYM\",\"INTJ\"],\"x1\":{\"__ndarray__\":\"1NOWQ1ywskMciBfEDhZdQ+LrUEHw9fFDlXmJwlsZq8PWQZ3D5lwORA3cOcNSOjlDn3YBxNCbaULrbhnE1JeHwcaqf8M=\",\"dtype\":\"float32\",\"shape\":[17]},\"x2\":{\"__ndarray__\":\"2KMLw0+A3kNz0fbCkgUgQzQNEkRUB8jDmYuDQ4kv5kM87YZCPR2bQvtCFsSs1CHEjU/lww8MrcP1/WdDfJY9wu6EeMM=\",\"dtype\":\"float32\",\"shape\":[17]}}},\"id\":\"4f59ead8-09b9-4d13-a30b-61ca11ddc4a5\",\"type\":\"ColumnDataSource\"},{\"attributes\":{\"below\":[{\"id\":\"ba223f92-7146-4206-a452-95faee913d69\",\"type\":\"LinearAxis\"}],\"left\":[{\"id\":\"6fea95f2-cd10-432a-8cc5-fd6b1ba4d248\",\"type\":\"LinearAxis\"}],\"renderers\":[{\"id\":\"ba223f92-7146-4206-a452-95faee913d69\",\"type\":\"LinearAxis\"},{\"id\":\"9dd6d260-f5f2-4cfe-87fd-8ed636ea9089\",\"type\":\"Grid\"},{\"id\":\"6fea95f2-cd10-432a-8cc5-fd6b1ba4d248\",\"type\":\"LinearAxis\"},{\"id\":\"b34c6f9e-632c-4124-8fdb-d8ed083899db\",\"type\":\"Grid\"},{\"id\":\"1fee91c2-c702-4ac5-89a6-c2ec3f7495c6\",\"type\":\"GlyphRenderer\"},{\"id\":\"0e794ded-e486-4599-ad92-4232d53c2e06\",\"type\":\"LabelSet\"}],\"title\":{\"id\":\"6bb2206b-a8f9-41f9-a143-074ddac227b0\",\"type\":\"Title\"},\"toolbar\":{\"id\":\"8f5a014d-afb4-4ef8-84f8-a162289ba8e9\",\"type\":\"Toolbar\"},\"toolbar_location\":\"above\",\"x_range\":{\"id\":\"db0e28f3-63ce-4b29-bd7e-1129b2e60fa7\",\"type\":\"DataRange1d\"},\"x_scale\":{\"id\":\"c1785fa7-15d7-404a-9d94-fac908f00816\",\"type\":\"LinearScale\"},\"y_range\":{\"id\":\"a5f7b454-3570-4d10-be47-29c1147e7e72\",\"type\":\"DataRange1d\"},\"y_scale\":{\"id\":\"ef849a47-7620-49ed-8dfe-9d05051d7f2d\",\"type\":\"LinearScale\"}},\"id\":\"736c5f24-4d17-41bb-8d31-55953f399d29\",\"subtype\":\"Figure\",\"type\":\"Plot\"},{\"attributes\":{\"fill_color\":{\"field\":\"colors\"},\"line_color\":{\"field\":\"colors\"},\"size\":{\"units\":\"screen\",\"value\":8},\"x\":{\"field\":\"x1\"},\"y\":{\"field\":\"x2\"}},\"id\":\"895a27b3-a703-462e-8f7a-715c4bbc3e4c\",\"type\":\"Circle\"},{\"attributes\":{},\"id\":\"620dc757-9e5b-475a-ab81-1352dce0c92b\",\"type\":\"BasicTickFormatter\"},{\"attributes\":{},\"id\":\"02f2d994-a011-4642-9ebc-3847331804b8\",\"type\":\"BasicTickFormatter\"},{\"attributes\":{},\"id\":\"e0197507-bcc0-43ee-a941-5b1ca0e957ca\",\"type\":\"PanTool\"},{\"attributes\":{\"source\":{\"id\":\"4f59ead8-09b9-4d13-a30b-61ca11ddc4a5\",\"type\":\"ColumnDataSource\"}},\"id\":\"38f7cf9f-b95b-4d62-b2ce-fcdcd8304649\",\"type\":\"CDSView\"}],\"root_ids\":[\"736c5f24-4d17-41bb-8d31-55953f399d29\"]},\"title\":\"Bokeh Application\",\"version\":\"0.12.10\"}};\n",
       "    var render_items = [{\"docid\":\"36323e20-b0d5-4141-933c-6fe43da3b617\",\"elementid\":\"4065902d-d4c8-4e9b-bb53-009e137a946d\",\"modelid\":\"736c5f24-4d17-41bb-8d31-55953f399d29\"}];\n",
       "\n",
       "    root.Bokeh.embed.embed_items(docs_json, render_items);\n",
       "  }\n",
       "\n",
       "  if (root.Bokeh !== undefined) {\n",
       "    embed_document(root);\n",
       "  } else {\n",
       "    var attempts = 0;\n",
       "    var timer = setInterval(function(root) {\n",
       "      if (root.Bokeh !== undefined) {\n",
       "        embed_document(root);\n",
       "        clearInterval(timer);\n",
       "      }\n",
       "      attempts++;\n",
       "      if (attempts > 100) {\n",
       "        console.log(\"Bokeh: ERROR: Unable to embed document because BokehJS library is missing\")\n",
       "        clearInterval(timer);\n",
       "      }\n",
       "    }, 10, root)\n",
       "  }\n",
       "})(window);"
      ],
      "application/vnd.bokehjs_exec.v0+json": ""
     },
     "metadata": {
      "application/vnd.bokehjs_exec.v0+json": {
       "id": "736c5f24-4d17-41bb-8d31-55953f399d29"
      }
     },
     "output_type": "display_data"
    }
   ],
   "source": [
    "pos_vectors = []\n",
    "for pos_tag in pos_tag_vocabulary:\n",
    "    pos_vectors.append(POS_embeddings_dict[pos_tag])\n",
    "emb_scatter(pos_vectors, list(pos_tag_vocabulary), N=17)"
   ]
  },
  {
   "cell_type": "markdown",
   "metadata": {},
   "source": [
    "### d. GloVe word embeddings from pre-trained word vectors(50d/100d):"
   ]
  },
  {
   "cell_type": "code",
   "execution_count": 73,
   "metadata": {
    "scrolled": false
   },
   "outputs": [],
   "source": [
    "# you need to download the file(s) from https://github.com/stanfordnlp/GloVe\n",
    "file = open(\"GloveEmbeddings/glove.6B.50d.txt\")\n",
    "tokens = []\n",
    "for line in file:\n",
    "    tokens.append(line.split()[0])\n",
    "    \n",
    "unknown_words = []\n",
    "for word in word_vocabulary:\n",
    "    if word.lower() not in tokens:\n",
    "        unknown_words.append(word)"
   ]
  },
  {
   "cell_type": "markdown",
   "metadata": {},
   "source": [
    "### e. GloVe word embeddings from pre-trained word vectors(50d/100d):\n"
   ]
  }
 ],
 "metadata": {
  "kernelspec": {
   "display_name": "Python 3",
   "language": "python",
   "name": "python3"
  },
  "language_info": {
   "codemirror_mode": {
    "name": "ipython",
    "version": 3
   },
   "file_extension": ".py",
   "mimetype": "text/x-python",
   "name": "python",
   "nbconvert_exporter": "python",
   "pygments_lexer": "ipython3",
   "version": "3.6.3"
  }
 },
 "nbformat": 4,
 "nbformat_minor": 2
}
