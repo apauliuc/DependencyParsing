{
 "cells": [
  {
   "cell_type": "markdown",
   "metadata": {},
   "source": [
    "# Word and POS tags embeddings\n",
    "\n",
    "\n",
    "## Description\n",
    "In this notebook, we are trying to parse $*.conllu$ files and extract the word embeddings, as well as the POS tags emeddings.\n",
    "\n",
    "## Work to be done:\n",
    "1. Learn how to parse $*.conllu$ files\n",
    "2. Find a way to get all words and POS tags embeddings.\n",
    "3. Prepare data to be ready to be used by BiLSTM"
   ]
  },
  {
   "cell_type": "markdown",
   "metadata": {},
   "source": [
    "### 1.1 Read $*.conllu$ files"
   ]
  },
  {
   "cell_type": "markdown",
   "metadata": {},
   "source": [
    "#### Word class:"
   ]
  },
  {
   "cell_type": "code",
   "execution_count": 23,
   "metadata": {
    "collapsed": true
   },
   "outputs": [],
   "source": [
    "class Word:\n",
    "    \"\"\"Word class that maps all details for a word from a *.conllu file. \"\"\"\n",
    "    \n",
    "    def __init__(self, ID, FORM, LEMMA, UPOSTAG, XPOSTAG, FEATS, HEAD, DEPREL, DEPS, MISC):\n",
    "        self.ID = ID           # Word idx, int starting at 1 for each new sentence; or a range for multiword tokens\n",
    "        self.FORM = FORM       # Word form or punctuation symbol.\n",
    "        self.LEMMA  = LEMMA    # Lemma or stem of word form.\n",
    "        self.UPOSTAG = UPOSTAG # Universal part-of-speech tag.\n",
    "        self.XPOSTAG = XPOSTAG # Language-specific part-of-speech tag; underscore if not available.\n",
    "        self.FEATS = FEATS     # List of morphological features from the universal feature inventory\n",
    "        self.HEAD = HEAD       # Head of the current word, which is either a value of ID or zero (0).\n",
    "        self.DEPREL = DEPREL   # Univ. dep. rel to the HEAD (root iff HEAD = 0) or a defined lang-specific subtype\n",
    "        self.DEPS = DEPS       # Enhanced dependency graph in the form of a list of head-deprel pairs.\n",
    "        self.MISC = MISC       # Any other annotation.\n",
    "    \n",
    "    def __str__(self):\n",
    "        string = ''\n",
    "        \n",
    "        string += self.ID      if self.ID      != None else '_'\n",
    "        string += \" \"\n",
    "        string += self.FORM    if self.FORM    != None else '_'\n",
    "        string += \" \"\n",
    "        string += self.LEMMA   if self.LEMMA   != None else '_'\n",
    "        string += \" \"\n",
    "        string += self.UPOSTAG if self.UPOSTAG != None else '_'\n",
    "        string += \" \"\n",
    "        string += self.XPOSTAG if self.XPOSTAG != None else '_'\n",
    "        string += \" \"\n",
    "        string += self.FEATS   if self.FEATS   != None else '_'\n",
    "        string += \" \"\n",
    "        string += self.HEAD    if self.HEAD    != None else '_'\n",
    "        string += \" \"\n",
    "        string += self.DEPREL  if self.DEPREL  != None else '_'\n",
    "        string += \" \"\n",
    "        string += self.DEPS    if self.DEPS    != None else '_'\n",
    "        string += \" \"\n",
    "        string += self.MISC    if self.MISC    != None else '_'\n",
    "        \n",
    "        return string\n",
    "        \n",
    "    @staticmethod\n",
    "    def from_line(line):\n",
    "        tokens = line.split()\n",
    "        \n",
    "        assert len(tokens) == 10\n",
    "        \n",
    "        ID =      tokens[0] if tokens[0] != '_' else None\n",
    "        FORM =    tokens[1] if tokens[1] != '_' else None\n",
    "        LEMMA =   tokens[2] if tokens[2] != '_' else None\n",
    "        UPOSTAG = tokens[3] if tokens[3] != '_' else None\n",
    "        XPOSTAG = tokens[4] if tokens[4] != '_' else None\n",
    "        FEATS =   tokens[5] if tokens[5] != '_' else None\n",
    "        HEAD =    tokens[6] if tokens[6] != '_' else None\n",
    "        DEPREL=   tokens[7] if tokens[7] != '_' else None\n",
    "        DEPS =    tokens[8] if tokens[8] != '_' else None\n",
    "        MISC =    tokens[9] if tokens[9] != '_' else None\n",
    "        \n",
    "        return Word(ID, FORM, LEMMA, UPOSTAG, XPOSTAG, FEATS, HEAD, DEPREL, DEPS, MISC)\n",
    "        "
   ]
  },
  {
   "cell_type": "markdown",
   "metadata": {},
   "source": [
    "#### Test Word class:"
   ]
  },
  {
   "cell_type": "code",
   "execution_count": 24,
   "metadata": {},
   "outputs": [
    {
     "name": "stdout",
     "output_type": "stream",
     "text": [
      "4 proves prove VERB VBZ Mood=Ind|Number=Sing|Person=3|Tense=Pres|VerbForm=Fin 0 root 0:root _\n",
      "proves\n"
     ]
    }
   ],
   "source": [
    "test_text = \"4\tproves\tprove\tVERB\tVBZ\tMood=Ind|Number=Sing|Person=3|Tense=Pres|VerbForm=Fin\t0\troot\t0:root\t_\"\n",
    "test_word = Word.from_line(test_text)\n",
    "print(test_word)\n",
    "print(test_word.FORM)"
   ]
  },
  {
   "cell_type": "markdown",
   "metadata": {},
   "source": [
    "#### Sentence class:"
   ]
  },
  {
   "cell_type": "code",
   "execution_count": 25,
   "metadata": {
    "collapsed": true
   },
   "outputs": [],
   "source": [
    "class Sentence:\n",
    "    \"\"\"Sentence class that maps all details for a sentence from a *.conllu file. \"\"\"\n",
    "    \n",
    "    def __init__(self,newdoc_id, send_id, text, words):\n",
    "        self.newdoc_id = newdoc_id\n",
    "        self.send_id = send_id\n",
    "        self.text = text\n",
    "        self.words = words\n",
    "        \n",
    "    def __str__(self):\n",
    "        string = ''\n",
    "        if self.newdoc_id != None:\n",
    "            string += \"# newdoc id = \"\n",
    "            string += str(self.newdoc_id)\n",
    "            string += \"\\n\"\n",
    "        string += \"# send_id = \"\n",
    "        string += str(self.send_id)\n",
    "        string += \"\\n\"\n",
    "        string += \"# text = \"\n",
    "        string += str(self.text)\n",
    "        string += \"\\n\"\n",
    "        sentence_length = len(self.words)\n",
    "        for index, word in enumerate(self.words):\n",
    "            string += str(word)\n",
    "            if index < sentence_length - 1:\n",
    "                string += \"\\n\"\n",
    "        return string\n",
    "    \n",
    "        \n",
    "    @staticmethod\n",
    "    def from_lines(lines):\n",
    "        newdoc_id=''\n",
    "        send_id = ''\n",
    "        text=''\n",
    "        words = []\n",
    "\n",
    "        \n",
    "        for line in lines:\n",
    "            if line.startswith(\"#\"): #misc properties\n",
    "                prop = line.split(\"=\")[1]\n",
    "                if line.startswith(\"newdoc\", 2):\n",
    "                    newdoc_id = prop\n",
    "                    continue\n",
    "                if line.startswith(\"sent_id\", 2):\n",
    "                    send_id = prop\n",
    "                    continue\n",
    "                if line.startswith(\"text\", 2):\n",
    "                    text = prop\n",
    "                    continue\n",
    "                continue\n",
    "            else:# words\n",
    "                if line.split()[0].isdigit(): #index is an integer\n",
    "                    words.append(Word.from_line(line))\n",
    "\n",
    "        return Sentence(newdoc_id, send_id, text, words)"
   ]
  },
  {
   "cell_type": "markdown",
   "metadata": {},
   "source": [
    "#### Test Sentence class:"
   ]
  },
  {
   "cell_type": "code",
   "execution_count": 26,
   "metadata": {
    "scrolled": false
   },
   "outputs": [
    {
     "name": "stdout",
     "output_type": "stream",
     "text": [
      "# newdoc id = \n",
      "# send_id =  weblog-blogspot.com_gettingpolitical_20030906235000_ENG_20030906_235000-0003\n",
      "# text =  Today's incident proves that Sharon has lost his patience and his hope in peace.\n",
      "1 Today today NOUN NN Number=Sing 3 nmod:poss 3:nmod:poss SpaceAfter=No\n",
      "2 's 's PART POS _ 1 case 1:case _\n",
      "3 incident incident NOUN NN Number=Sing 4 nsubj 4:nsubj _\n",
      "4 proves prove VERB VBZ Mood=Ind|Number=Sing|Person=3|Tense=Pres|VerbForm=Fin 0 root 0:root _\n",
      "5 that that SCONJ IN _ 8 mark 8:mark _\n",
      "6 Sharon Sharon PROPN NNP Number=Sing 8 nsubj 8:nsubj _\n",
      "7 has have AUX VBZ Mood=Ind|Number=Sing|Person=3|Tense=Pres|VerbForm=Fin 8 aux 8:aux _\n",
      "8 lost lose VERB VBN Tense=Past|VerbForm=Part 4 ccomp 4:ccomp _\n",
      "9 his he PRON PRP$ Gender=Masc|Number=Sing|Person=3|Poss=Yes|PronType=Prs 10 nmod:poss 10:nmod:poss _\n",
      "10 patience patience NOUN NN Number=Sing 8 obj 8:obj _\n",
      "11 and and CCONJ CC _ 13 cc 13:cc _\n",
      "12 his he PRON PRP$ Gender=Masc|Number=Sing|Person=3|Poss=Yes|PronType=Prs 13 nmod:poss 13:nmod:poss _\n",
      "13 hope hope NOUN NN Number=Sing 10 conj 10:conj _\n",
      "14 in in ADP IN _ 15 case 15:case _\n",
      "15 peace peace NOUN NN Number=Sing 13 nmod 13:nmod SpaceAfter=No\n",
      "16 . . PUNCT . _ 4 punct 4:punct _ \n",
      "\n",
      " Today's incident proves that Sharon has lost his patience and his hope in peace. \n",
      "\n",
      "1 Today today NOUN NN Number=Sing 3 nmod:poss 3:nmod:poss SpaceAfter=No \n",
      "\n"
     ]
    }
   ],
   "source": [
    "lines = [\"# sent_id = weblog-blogspot.com_gettingpolitical_20030906235000_ENG_20030906_235000-0003\",\n",
    "\"# text = Today's incident proves that Sharon has lost his patience and his hope in peace.\",\n",
    "\"1\tToday\ttoday\tNOUN\tNN\tNumber=Sing\t3\tnmod:poss\t3:nmod:poss\tSpaceAfter=No\",\n",
    "\"2\t's\t's\tPART\tPOS\t_\t1\tcase\t1:case\t_\",\n",
    "\"3\tincident\tincident\tNOUN\tNN\tNumber=Sing\t4\tnsubj\t4:nsubj\t_\",\n",
    "\"4\tproves\tprove\tVERB\tVBZ\tMood=Ind|Number=Sing|Person=3|Tense=Pres|VerbForm=Fin\t0\troot\t0:root\t_\",\n",
    "\"5\tthat\tthat\tSCONJ\tIN\t_\t8\tmark\t8:mark\t_\",\n",
    "\"6\tSharon\tSharon\tPROPN\tNNP\tNumber=Sing\t8\tnsubj\t8:nsubj\t_\",\n",
    "\"7\thas\thave\tAUX\tVBZ\tMood=Ind|Number=Sing|Person=3|Tense=Pres|VerbForm=Fin\t8\taux\t8:aux\t_\",\n",
    "\"8\tlost\tlose\tVERB\tVBN\tTense=Past|VerbForm=Part\t4\tccomp\t4:ccomp\t_\",\n",
    "\"9\this\the\tPRON\tPRP$\tGender=Masc|Number=Sing|Person=3|Poss=Yes|PronType=Prs\t10\tnmod:poss\t10:nmod:poss\t_\",\n",
    "\"10\tpatience\tpatience\tNOUN\tNN\tNumber=Sing\t8\tobj\t8:obj\t_\",\n",
    "\"11\tand\tand\tCCONJ\tCC\t_\t13\tcc\t13:cc\t_\",\n",
    "\"12\this\the\tPRON\tPRP$\tGender=Masc|Number=Sing|Person=3|Poss=Yes|PronType=Prs\t13\tnmod:poss\t13:nmod:poss\t_\",\n",
    "\"13\thope\thope\tNOUN\tNN\tNumber=Sing\t10\tconj\t10:conj\t_\",\n",
    "\"14\tin\tin\tADP\tIN\t_\t15\tcase\t15:case\t_\",\n",
    "\"15\tpeace\tpeace\tNOUN\tNN\tNumber=Sing\t13\tnmod\t13:nmod\tSpaceAfter=No\",\n",
    "\"16\t.\t.\tPUNCT\t.\t_\t4\tpunct\t4:punct\t_\"]\n",
    "sentence = Sentence.from_lines(lines)\n",
    "print(str(sentence), \"\\n\")\n",
    "print(sentence.text, \"\\n\")\n",
    "print(sentence.words[0], \"\\n\")"
   ]
  },
  {
   "cell_type": "code",
   "execution_count": 27,
   "metadata": {
    "collapsed": true
   },
   "outputs": [],
   "source": [
    "en_path = \"Annotated training data/UD_English-master/\"\n",
    "en_dev_filename = \"en-ud-dev.conllu\"\n",
    "en_test_filename = \"en-ud-test.conllu\"\n",
    "en_train_filename = \"en-ud-train.conllu\"\n",
    "\n",
    "ro_path = \"Annotated training data/UD_Romanian-dev/\"\n",
    "ro_dev_filename = \"ro-ud-dev.conllu\"\n",
    "ro_test_filename = \"ro-ud-test.conllu\"\n",
    "ro_train_filename = \"ro-ud-train.conllu\"\n",
    "\n",
    "def read_sentences(path, filename):\n",
    "    sentences = []\n",
    "    sentence_lines = []\n",
    "    file = open(path + filename, 'r')\n",
    "    for line in file:\n",
    "        if line == '\\n':\n",
    "            sentences.append(Sentence.from_lines(sentence_lines))\n",
    "            sentence_lines = []\n",
    "        else:\n",
    "            sentence_lines.append(line)\n",
    "            \n",
    "    return sentences\n",
    "\n",
    "\n",
    "en_train_sentences = read_sentences(en_path,en_train_filename)\n",
    "en_dev_sentences = read_sentences(en_path,en_dev_filename)\n",
    "en_test_sentences = read_sentences(en_path,en_test_filename)\n",
    "\n",
    "ro_train_sentences = read_sentences(ro_path,ro_train_filename)\n",
    "ro_dev_sentences = read_sentences(ro_path,ro_dev_filename)\n",
    "ro_test_sentences = read_sentences(ro_path,ro_test_filename)\n",
    "\n",
    "assert len(en_dev_sentences) == 2002# there are 2002 sentences in the english development dataset.\n"
   ]
  },
  {
   "cell_type": "markdown",
   "metadata": {},
   "source": [
    "### 1.2 Write $*.conllu$ files"
   ]
  },
  {
   "cell_type": "code",
   "execution_count": 28,
   "metadata": {
    "collapsed": true
   },
   "outputs": [],
   "source": [
    "def write_sentences(sentences, path, filename):\n",
    "    with open(path + filename, 'w+') as file:\n",
    "        for sentence in sentences:\n",
    "            file.write(str(sentence) + \"\\n\")"
   ]
  },
  {
   "cell_type": "markdown",
   "metadata": {},
   "source": [
    "### 2. Extract words/POS tags and then extract embeddings"
   ]
  },
  {
   "cell_type": "markdown",
   "metadata": {},
   "source": [
    "#### Function for displaying embedded words using t-SNE:"
   ]
  },
  {
   "cell_type": "code",
   "execution_count": 29,
   "metadata": {},
   "outputs": [
    {
     "data": {
      "text/html": [
       "\n",
       "    <div class=\"bk-root\">\n",
       "        <a href=\"https://bokeh.pydata.org\" target=\"_blank\" class=\"bk-logo bk-logo-small bk-logo-notebook\"></a>\n",
       "        <span id=\"a32986c9-5ea7-4eef-a034-cc587696e3fa\">Loading BokehJS ...</span>\n",
       "    </div>"
      ]
     },
     "metadata": {},
     "output_type": "display_data"
    },
    {
     "data": {
      "application/javascript": [
       "\n",
       "(function(root) {\n",
       "  function now() {\n",
       "    return new Date();\n",
       "  }\n",
       "\n",
       "  var force = true;\n",
       "\n",
       "  if (typeof (root._bokeh_onload_callbacks) === \"undefined\" || force === true) {\n",
       "    root._bokeh_onload_callbacks = [];\n",
       "    root._bokeh_is_loading = undefined;\n",
       "  }\n",
       "\n",
       "  var JS_MIME_TYPE = 'application/javascript';\n",
       "  var HTML_MIME_TYPE = 'text/html';\n",
       "  var EXEC_MIME_TYPE = 'application/vnd.bokehjs_exec.v0+json';\n",
       "  var CLASS_NAME = 'output_bokeh rendered_html';\n",
       "\n",
       "  /**\n",
       "   * Render data to the DOM node\n",
       "   */\n",
       "  function render(props, node) {\n",
       "    var script = document.createElement(\"script\");\n",
       "    node.appendChild(script);\n",
       "  }\n",
       "\n",
       "  /**\n",
       "   * Handle when an output is cleared or removed\n",
       "   */\n",
       "  function handleClearOutput(event, handle) {\n",
       "    var cell = handle.cell;\n",
       "\n",
       "    var id = cell.output_area._bokeh_element_id;\n",
       "    var server_id = cell.output_area._bokeh_server_id;\n",
       "    // Clean up Bokeh references\n",
       "    if (id !== undefined) {\n",
       "      Bokeh.index[id].model.document.clear();\n",
       "      delete Bokeh.index[id];\n",
       "    }\n",
       "\n",
       "    if (server_id !== undefined) {\n",
       "      // Clean up Bokeh references\n",
       "      var cmd = \"from bokeh.io.state import curstate; print(curstate().uuid_to_server['\" + server_id + \"'].get_sessions()[0].document.roots[0]._id)\";\n",
       "      cell.notebook.kernel.execute(cmd, {\n",
       "        iopub: {\n",
       "          output: function(msg) {\n",
       "            var element_id = msg.content.text.trim();\n",
       "            Bokeh.index[element_id].model.document.clear();\n",
       "            delete Bokeh.index[element_id];\n",
       "          }\n",
       "        }\n",
       "      });\n",
       "      // Destroy server and session\n",
       "      var cmd = \"import bokeh.io.notebook as ion; ion.destroy_server('\" + server_id + \"')\";\n",
       "      cell.notebook.kernel.execute(cmd);\n",
       "    }\n",
       "  }\n",
       "\n",
       "  /**\n",
       "   * Handle when a new output is added\n",
       "   */\n",
       "  function handleAddOutput(event, handle) {\n",
       "    var output_area = handle.output_area;\n",
       "    var output = handle.output;\n",
       "\n",
       "    // limit handleAddOutput to display_data with EXEC_MIME_TYPE content only\n",
       "    if ((output.output_type != \"display_data\") || (!output.data.hasOwnProperty(EXEC_MIME_TYPE))) {\n",
       "      return\n",
       "    }\n",
       "\n",
       "    var toinsert = output_area.element.find(`.${CLASS_NAME.split(' ')[0]}`);\n",
       "\n",
       "    if (output.metadata[EXEC_MIME_TYPE][\"id\"] !== undefined) {\n",
       "      toinsert[0].firstChild.textContent = output.data[JS_MIME_TYPE];\n",
       "      // store reference to embed id on output_area\n",
       "      output_area._bokeh_element_id = output.metadata[EXEC_MIME_TYPE][\"id\"];\n",
       "    }\n",
       "    if (output.metadata[EXEC_MIME_TYPE][\"server_id\"] !== undefined) {\n",
       "      var bk_div = document.createElement(\"div\");\n",
       "      bk_div.innerHTML = output.data[HTML_MIME_TYPE];\n",
       "      var script_attrs = bk_div.children[0].attributes;\n",
       "      for (var i = 0; i < script_attrs.length; i++) {\n",
       "        toinsert[0].firstChild.setAttribute(script_attrs[i].name, script_attrs[i].value);\n",
       "      }\n",
       "      // store reference to server id on output_area\n",
       "      output_area._bokeh_server_id = output.metadata[EXEC_MIME_TYPE][\"server_id\"];\n",
       "    }\n",
       "  }\n",
       "\n",
       "  function register_renderer(events, OutputArea) {\n",
       "\n",
       "    function append_mime(data, metadata, element) {\n",
       "      // create a DOM node to render to\n",
       "      var toinsert = this.create_output_subarea(\n",
       "        metadata,\n",
       "        CLASS_NAME,\n",
       "        EXEC_MIME_TYPE\n",
       "      );\n",
       "      this.keyboard_manager.register_events(toinsert);\n",
       "      // Render to node\n",
       "      var props = {data: data, metadata: metadata[EXEC_MIME_TYPE]};\n",
       "      render(props, toinsert[0]);\n",
       "      element.append(toinsert);\n",
       "      return toinsert\n",
       "    }\n",
       "\n",
       "    /* Handle when an output is cleared or removed */\n",
       "    events.on('clear_output.CodeCell', handleClearOutput);\n",
       "    events.on('delete.Cell', handleClearOutput);\n",
       "\n",
       "    /* Handle when a new output is added */\n",
       "    events.on('output_added.OutputArea', handleAddOutput);\n",
       "\n",
       "    /**\n",
       "     * Register the mime type and append_mime function with output_area\n",
       "     */\n",
       "    OutputArea.prototype.register_mime_type(EXEC_MIME_TYPE, append_mime, {\n",
       "      /* Is output safe? */\n",
       "      safe: true,\n",
       "      /* Index of renderer in `output_area.display_order` */\n",
       "      index: 0\n",
       "    });\n",
       "  }\n",
       "\n",
       "  // register the mime type if in Jupyter Notebook environment and previously unregistered\n",
       "  if (root.Jupyter !== undefined) {\n",
       "    var events = require('base/js/events');\n",
       "    var OutputArea = require('notebook/js/outputarea').OutputArea;\n",
       "\n",
       "    if (OutputArea.prototype.mime_types().indexOf(EXEC_MIME_TYPE) == -1) {\n",
       "      register_renderer(events, OutputArea);\n",
       "    }\n",
       "  }\n",
       "\n",
       "  \n",
       "  if (typeof (root._bokeh_timeout) === \"undefined\" || force === true) {\n",
       "    root._bokeh_timeout = Date.now() + 5000;\n",
       "    root._bokeh_failed_load = false;\n",
       "  }\n",
       "\n",
       "  var NB_LOAD_WARNING = {'data': {'text/html':\n",
       "     \"<div style='background-color: #fdd'>\\n\"+\n",
       "     \"<p>\\n\"+\n",
       "     \"BokehJS does not appear to have successfully loaded. If loading BokehJS from CDN, this \\n\"+\n",
       "     \"may be due to a slow or bad network connection. Possible fixes:\\n\"+\n",
       "     \"</p>\\n\"+\n",
       "     \"<ul>\\n\"+\n",
       "     \"<li>re-rerun `output_notebook()` to attempt to load from CDN again, or</li>\\n\"+\n",
       "     \"<li>use INLINE resources instead, as so:</li>\\n\"+\n",
       "     \"</ul>\\n\"+\n",
       "     \"<code>\\n\"+\n",
       "     \"from bokeh.resources import INLINE\\n\"+\n",
       "     \"output_notebook(resources=INLINE)\\n\"+\n",
       "     \"</code>\\n\"+\n",
       "     \"</div>\"}};\n",
       "\n",
       "  function display_loaded() {\n",
       "    var el = document.getElementById(\"a32986c9-5ea7-4eef-a034-cc587696e3fa\");\n",
       "    if (el != null) {\n",
       "      el.textContent = \"BokehJS is loading...\";\n",
       "    }\n",
       "    if (root.Bokeh !== undefined) {\n",
       "      if (el != null) {\n",
       "        el.textContent = \"BokehJS \" + root.Bokeh.version + \" successfully loaded.\";\n",
       "      }\n",
       "    } else if (Date.now() < root._bokeh_timeout) {\n",
       "      setTimeout(display_loaded, 100)\n",
       "    }\n",
       "  }\n",
       "\n",
       "\n",
       "  function run_callbacks() {\n",
       "    try {\n",
       "      root._bokeh_onload_callbacks.forEach(function(callback) { callback() });\n",
       "    }\n",
       "    finally {\n",
       "      delete root._bokeh_onload_callbacks\n",
       "    }\n",
       "    console.info(\"Bokeh: all callbacks have finished\");\n",
       "  }\n",
       "\n",
       "  function load_libs(js_urls, callback) {\n",
       "    root._bokeh_onload_callbacks.push(callback);\n",
       "    if (root._bokeh_is_loading > 0) {\n",
       "      console.log(\"Bokeh: BokehJS is being loaded, scheduling callback at\", now());\n",
       "      return null;\n",
       "    }\n",
       "    if (js_urls == null || js_urls.length === 0) {\n",
       "      run_callbacks();\n",
       "      return null;\n",
       "    }\n",
       "    console.log(\"Bokeh: BokehJS not loaded, scheduling load and callback at\", now());\n",
       "    root._bokeh_is_loading = js_urls.length;\n",
       "    for (var i = 0; i < js_urls.length; i++) {\n",
       "      var url = js_urls[i];\n",
       "      var s = document.createElement('script');\n",
       "      s.src = url;\n",
       "      s.async = false;\n",
       "      s.onreadystatechange = s.onload = function() {\n",
       "        root._bokeh_is_loading--;\n",
       "        if (root._bokeh_is_loading === 0) {\n",
       "          console.log(\"Bokeh: all BokehJS libraries loaded\");\n",
       "          run_callbacks()\n",
       "        }\n",
       "      };\n",
       "      s.onerror = function() {\n",
       "        console.warn(\"failed to load library \" + url);\n",
       "      };\n",
       "      console.log(\"Bokeh: injecting script tag for BokehJS library: \", url);\n",
       "      document.getElementsByTagName(\"head\")[0].appendChild(s);\n",
       "    }\n",
       "  };var element = document.getElementById(\"a32986c9-5ea7-4eef-a034-cc587696e3fa\");\n",
       "  if (element == null) {\n",
       "    console.log(\"Bokeh: ERROR: autoload.js configured with elementid 'a32986c9-5ea7-4eef-a034-cc587696e3fa' but no matching script tag was found. \")\n",
       "    return false;\n",
       "  }\n",
       "\n",
       "  var js_urls = [\"https://cdn.pydata.org/bokeh/release/bokeh-0.12.10.min.js\", \"https://cdn.pydata.org/bokeh/release/bokeh-widgets-0.12.10.min.js\", \"https://cdn.pydata.org/bokeh/release/bokeh-tables-0.12.10.min.js\", \"https://cdn.pydata.org/bokeh/release/bokeh-gl-0.12.10.min.js\"];\n",
       "\n",
       "  var inline_js = [\n",
       "    function(Bokeh) {\n",
       "      Bokeh.set_log_level(\"info\");\n",
       "    },\n",
       "    \n",
       "    function(Bokeh) {\n",
       "      \n",
       "    },\n",
       "    function(Bokeh) {\n",
       "      console.log(\"Bokeh: injecting CSS: https://cdn.pydata.org/bokeh/release/bokeh-0.12.10.min.css\");\n",
       "      Bokeh.embed.inject_css(\"https://cdn.pydata.org/bokeh/release/bokeh-0.12.10.min.css\");\n",
       "      console.log(\"Bokeh: injecting CSS: https://cdn.pydata.org/bokeh/release/bokeh-widgets-0.12.10.min.css\");\n",
       "      Bokeh.embed.inject_css(\"https://cdn.pydata.org/bokeh/release/bokeh-widgets-0.12.10.min.css\");\n",
       "      console.log(\"Bokeh: injecting CSS: https://cdn.pydata.org/bokeh/release/bokeh-tables-0.12.10.min.css\");\n",
       "      Bokeh.embed.inject_css(\"https://cdn.pydata.org/bokeh/release/bokeh-tables-0.12.10.min.css\");\n",
       "    }\n",
       "  ];\n",
       "\n",
       "  function run_inline_js() {\n",
       "    \n",
       "    if ((root.Bokeh !== undefined) || (force === true)) {\n",
       "      for (var i = 0; i < inline_js.length; i++) {\n",
       "        inline_js[i].call(root, root.Bokeh);\n",
       "      }if (force === true) {\n",
       "        display_loaded();\n",
       "      }} else if (Date.now() < root._bokeh_timeout) {\n",
       "      setTimeout(run_inline_js, 100);\n",
       "    } else if (!root._bokeh_failed_load) {\n",
       "      console.log(\"Bokeh: BokehJS failed to load within specified timeout.\");\n",
       "      root._bokeh_failed_load = true;\n",
       "    } else if (force !== true) {\n",
       "      var cell = $(document.getElementById(\"a32986c9-5ea7-4eef-a034-cc587696e3fa\")).parents('.cell').data().cell;\n",
       "      cell.output_area.append_execute_result(NB_LOAD_WARNING)\n",
       "    }\n",
       "\n",
       "  }\n",
       "\n",
       "  if (root._bokeh_is_loading === 0) {\n",
       "    console.log(\"Bokeh: BokehJS loaded, going straight to plotting\");\n",
       "    run_inline_js();\n",
       "  } else {\n",
       "    load_libs(js_urls, function() {\n",
       "      console.log(\"Bokeh: BokehJS plotting callback run at\", now());\n",
       "      run_inline_js();\n",
       "    });\n",
       "  }\n",
       "}(window));"
      ],
      "application/vnd.bokehjs_load.v0+json": "\n(function(root) {\n  function now() {\n    return new Date();\n  }\n\n  var force = true;\n\n  if (typeof (root._bokeh_onload_callbacks) === \"undefined\" || force === true) {\n    root._bokeh_onload_callbacks = [];\n    root._bokeh_is_loading = undefined;\n  }\n\n  \n\n  \n  if (typeof (root._bokeh_timeout) === \"undefined\" || force === true) {\n    root._bokeh_timeout = Date.now() + 5000;\n    root._bokeh_failed_load = false;\n  }\n\n  var NB_LOAD_WARNING = {'data': {'text/html':\n     \"<div style='background-color: #fdd'>\\n\"+\n     \"<p>\\n\"+\n     \"BokehJS does not appear to have successfully loaded. If loading BokehJS from CDN, this \\n\"+\n     \"may be due to a slow or bad network connection. Possible fixes:\\n\"+\n     \"</p>\\n\"+\n     \"<ul>\\n\"+\n     \"<li>re-rerun `output_notebook()` to attempt to load from CDN again, or</li>\\n\"+\n     \"<li>use INLINE resources instead, as so:</li>\\n\"+\n     \"</ul>\\n\"+\n     \"<code>\\n\"+\n     \"from bokeh.resources import INLINE\\n\"+\n     \"output_notebook(resources=INLINE)\\n\"+\n     \"</code>\\n\"+\n     \"</div>\"}};\n\n  function display_loaded() {\n    var el = document.getElementById(\"a32986c9-5ea7-4eef-a034-cc587696e3fa\");\n    if (el != null) {\n      el.textContent = \"BokehJS is loading...\";\n    }\n    if (root.Bokeh !== undefined) {\n      if (el != null) {\n        el.textContent = \"BokehJS \" + root.Bokeh.version + \" successfully loaded.\";\n      }\n    } else if (Date.now() < root._bokeh_timeout) {\n      setTimeout(display_loaded, 100)\n    }\n  }\n\n\n  function run_callbacks() {\n    try {\n      root._bokeh_onload_callbacks.forEach(function(callback) { callback() });\n    }\n    finally {\n      delete root._bokeh_onload_callbacks\n    }\n    console.info(\"Bokeh: all callbacks have finished\");\n  }\n\n  function load_libs(js_urls, callback) {\n    root._bokeh_onload_callbacks.push(callback);\n    if (root._bokeh_is_loading > 0) {\n      console.log(\"Bokeh: BokehJS is being loaded, scheduling callback at\", now());\n      return null;\n    }\n    if (js_urls == null || js_urls.length === 0) {\n      run_callbacks();\n      return null;\n    }\n    console.log(\"Bokeh: BokehJS not loaded, scheduling load and callback at\", now());\n    root._bokeh_is_loading = js_urls.length;\n    for (var i = 0; i < js_urls.length; i++) {\n      var url = js_urls[i];\n      var s = document.createElement('script');\n      s.src = url;\n      s.async = false;\n      s.onreadystatechange = s.onload = function() {\n        root._bokeh_is_loading--;\n        if (root._bokeh_is_loading === 0) {\n          console.log(\"Bokeh: all BokehJS libraries loaded\");\n          run_callbacks()\n        }\n      };\n      s.onerror = function() {\n        console.warn(\"failed to load library \" + url);\n      };\n      console.log(\"Bokeh: injecting script tag for BokehJS library: \", url);\n      document.getElementsByTagName(\"head\")[0].appendChild(s);\n    }\n  };var element = document.getElementById(\"a32986c9-5ea7-4eef-a034-cc587696e3fa\");\n  if (element == null) {\n    console.log(\"Bokeh: ERROR: autoload.js configured with elementid 'a32986c9-5ea7-4eef-a034-cc587696e3fa' but no matching script tag was found. \")\n    return false;\n  }\n\n  var js_urls = [\"https://cdn.pydata.org/bokeh/release/bokeh-0.12.10.min.js\", \"https://cdn.pydata.org/bokeh/release/bokeh-widgets-0.12.10.min.js\", \"https://cdn.pydata.org/bokeh/release/bokeh-tables-0.12.10.min.js\", \"https://cdn.pydata.org/bokeh/release/bokeh-gl-0.12.10.min.js\"];\n\n  var inline_js = [\n    function(Bokeh) {\n      Bokeh.set_log_level(\"info\");\n    },\n    \n    function(Bokeh) {\n      \n    },\n    function(Bokeh) {\n      console.log(\"Bokeh: injecting CSS: https://cdn.pydata.org/bokeh/release/bokeh-0.12.10.min.css\");\n      Bokeh.embed.inject_css(\"https://cdn.pydata.org/bokeh/release/bokeh-0.12.10.min.css\");\n      console.log(\"Bokeh: injecting CSS: https://cdn.pydata.org/bokeh/release/bokeh-widgets-0.12.10.min.css\");\n      Bokeh.embed.inject_css(\"https://cdn.pydata.org/bokeh/release/bokeh-widgets-0.12.10.min.css\");\n      console.log(\"Bokeh: injecting CSS: https://cdn.pydata.org/bokeh/release/bokeh-tables-0.12.10.min.css\");\n      Bokeh.embed.inject_css(\"https://cdn.pydata.org/bokeh/release/bokeh-tables-0.12.10.min.css\");\n    }\n  ];\n\n  function run_inline_js() {\n    \n    if ((root.Bokeh !== undefined) || (force === true)) {\n      for (var i = 0; i < inline_js.length; i++) {\n        inline_js[i].call(root, root.Bokeh);\n      }if (force === true) {\n        display_loaded();\n      }} else if (Date.now() < root._bokeh_timeout) {\n      setTimeout(run_inline_js, 100);\n    } else if (!root._bokeh_failed_load) {\n      console.log(\"Bokeh: BokehJS failed to load within specified timeout.\");\n      root._bokeh_failed_load = true;\n    } else if (force !== true) {\n      var cell = $(document.getElementById(\"a32986c9-5ea7-4eef-a034-cc587696e3fa\")).parents('.cell').data().cell;\n      cell.output_area.append_execute_result(NB_LOAD_WARNING)\n    }\n\n  }\n\n  if (root._bokeh_is_loading === 0) {\n    console.log(\"Bokeh: BokehJS loaded, going straight to plotting\");\n    run_inline_js();\n  } else {\n    load_libs(js_urls, function() {\n      console.log(\"Bokeh: BokehJS plotting callback run at\", now());\n      run_inline_js();\n    });\n  }\n}(window));"
     },
     "metadata": {},
     "output_type": "display_data"
    }
   ],
   "source": [
    "#### Imports\n",
    "from sklearn.cluster import KMeans\n",
    "from sklearn.manifold import TSNE\n",
    "\n",
    "from bokeh.models import ColumnDataSource, LabelSet\n",
    "from bokeh.plotting import figure, show, output_file\n",
    "from bokeh.palettes import d3\n",
    "from bokeh.io import output_notebook\n",
    "output_notebook()\n",
    "\n",
    "def emb_scatter(data, names, N=20, perplexity=30.0):\n",
    "    \"\"\"\n",
    "    Function for plotting embeddings and words using TSNE.\n",
    "    TSNE finds a way to plot multidimensional data to a \n",
    "    bidimensional plane. It assures that data close in the \n",
    "    multidimensionalspace will also be close in budimensional \n",
    "    place, but not the other way around.\n",
    "    \"\"\"\n",
    "    ## try to find some clusters ##\n",
    "    print(\"finding clusters\")\n",
    "    kmeans = KMeans(n_clusters=N)\n",
    "    kmeans.fit(data)\n",
    "    klabels = kmeans.labels_\n",
    "\n",
    "    ## get a tsne fit ##\n",
    "    print(\"fitting tsne\")\n",
    "    tsne = TSNE(n_components=2, perplexity=perplexity)\n",
    "    emb_tsne = tsne.fit_transform(data)\n",
    "    \n",
    "    ## plot the tsne of the embeddings with bokeh ##\n",
    "    # source: https://github.com/oxford-cs-deepnlp-2017/practical-1\n",
    "    p = figure(tools=\"pan,wheel_zoom,reset,save\",\n",
    "               toolbar_location=\"above\",\n",
    "               title=\"T-SNE for most common words\")\n",
    "\n",
    "    # set colormap as a list\n",
    "    colormap = d3['Category20'][N]\n",
    "    colors = [colormap[i] for i in klabels]\n",
    "\n",
    "    source = ColumnDataSource(data=dict(x1=emb_tsne[:,0],\n",
    "                                        x2=emb_tsne[:,1],\n",
    "                                        names=names,\n",
    "                                        colors=colors))\n",
    "\n",
    "    p.scatter(x=\"x1\", y=\"x2\", size=8, source=source, color='colors')\n",
    "\n",
    "    labels = LabelSet(x=\"x1\", y=\"x2\", text=\"names\", y_offset=6,\n",
    "                      text_font_size=\"8pt\", text_color=\"#555555\",\n",
    "                      source=source, text_align='center')\n",
    "    p.add_layout(labels)\n",
    "\n",
    "    show(p)"
   ]
  },
  {
   "cell_type": "code",
   "execution_count": 30,
   "metadata": {
    "collapsed": true
   },
   "outputs": [],
   "source": [
    "import numpy as np\n",
    "import pickle\n",
    "from collections import defaultdict, Counter\n",
    "from random import random\n",
    "import matplotlib.pyplot as plt\n",
    "from gensim.models import Word2Vec"
   ]
  },
  {
   "cell_type": "code",
   "execution_count": 31,
   "metadata": {
    "collapsed": true
   },
   "outputs": [],
   "source": [
    "def get_Gensim_sentences(sentences):\n",
    "    \"\"\"\n",
    "    This function receives a list of Sencences and return \n",
    "    the word and POS sentences in the format Gensim needs, \n",
    "    as well as Counters for words, POS tags and dependency\n",
    "    relation labels.\n",
    "    Format: [['i', 'like', 'custard'],...]\n",
    "    All words are lower-cased\n",
    "    \"\"\"\n",
    "    gensim_word_sentences = []\n",
    "    word_counts = Counter()\n",
    "    gensim_POS_sentences = []\n",
    "    POS_counts = Counter()\n",
    "    label_counts = Counter()\n",
    "    for sentence in sentences:\n",
    "        gensim_word_sentence = []\n",
    "        gensim_POS_sentence = []\n",
    "        for word in sentence.words:\n",
    "            gensim_word_sentence.append(word.FORM.lower())\n",
    "            word_counts[word.FORM.lower()] += 1\n",
    "            gensim_POS_sentence.append(word.UPOSTAG.lower())\n",
    "            POS_counts[word.UPOSTAG.lower()] += 1\n",
    "            # some labels comprize multiple words(i.e: \"nsubj:poss\"), so we take only the first label\n",
    "            label_counts[word.DEPREL.split(\":\")[0].lower()] += 1      \n",
    "        gensim_word_sentences.append(gensim_word_sentence)\n",
    "        gensim_POS_sentences.append(gensim_POS_sentence)\n",
    "    return gensim_word_sentences, word_counts, gensim_POS_sentences, POS_counts, label_counts"
   ]
  },
  {
   "cell_type": "code",
   "execution_count": 32,
   "metadata": {
    "collapsed": true
   },
   "outputs": [],
   "source": [
    "gensim_word_sentences_train, word_counts_train, gensim_POS_sentences_train, POS_counts_train, label_counts_train = get_Gensim_sentences(en_test_sentences)\n",
    "gensim_word_sentences_dev, word_counts_dev, gensim_POS_sentences_dev, POS_counts_dev, label_counts_dev = get_Gensim_sentences(en_dev_sentences)\n",
    "gensim_word_sentences_test, word_counts_test, gensim_POS_sentences_test, POS_counts_test, label_counts_test = get_Gensim_sentences(en_test_sentences)\n",
    "\n",
    "\n",
    "w2i = defaultdict(lambda: len(w2i))\n",
    "i2w = dict()\n",
    "i2w[w2i[\"<UNK>\"]] = \"<UNK>\" # word with index 0 are the words that are unknown.\n",
    "for word in word_counts_train.keys():\n",
    "    if word_counts_train[word] > 1:\n",
    "        i2w[w2i[word]] = word # trick\n",
    "    else:\n",
    "        w2i[word] = 0  # all unknown words have index 0\n",
    "word_vocabulary = word_counts_train.keys()\n",
    "\n",
    "\n",
    "        \n",
    "t2i = defaultdict(lambda: len(t2i))\n",
    "i2t = dict()\n",
    "for tag in POS_counts_train.keys():\n",
    "    i2t[t2i[tag]] = tag # trick\n",
    "pos_tag_vocabulary = POS_counts_train.keys() \n",
    "\n",
    "\n",
    "        \n",
    "l2i = defaultdict(lambda: len(l2i))\n",
    "i2l = dict()\n",
    "for label in label_counts_train.keys():\n",
    "        i2l[l2i[label]] = label # trick\n",
    "\n"
   ]
  },
  {
   "cell_type": "markdown",
   "metadata": {},
   "source": [
    "### a. Gensim Word2Vector trained on our data:"
   ]
  },
  {
   "cell_type": "code",
   "execution_count": 33,
   "metadata": {
    "collapsed": true
   },
   "outputs": [],
   "source": [
    "# gensim_word_model = Word2Vec([[i2w[w2i[word]] for word in sentence] for sentence in gensim_word_sentences_train], size=50, window=5, min_count=1, workers=4)\n",
    "# gensim_POS_model = Word2Vec(gensim_POS_sentences_train, size=50, window=3, min_count=2, workers=4)"
   ]
  },
  {
   "cell_type": "code",
   "execution_count": 34,
   "metadata": {},
   "outputs": [],
   "source": [
    "# top_words = [k for k,v in word_counts_train.most_common(1000)]\n",
    "# top_word_vecs = gensim_word_model[top_words]\n",
    "# emb_scatter(top_word_vecs, top_words, N=20)"
   ]
  },
  {
   "cell_type": "code",
   "execution_count": 35,
   "metadata": {},
   "outputs": [],
   "source": [
    "# top_POS = [k for k,v in POS_counts_train.most_common(1000)]\n",
    "# top_POS_vecs = gensim_POS_model[top_POS]\n",
    "# emb_scatter(top_POS_vecs, top_POS, N=17)"
   ]
  },
  {
   "cell_type": "markdown",
   "metadata": {},
   "source": [
    "### b. Gensim Word2Vector trained on Wikipedia data:"
   ]
  },
  {
   "cell_type": "code",
   "execution_count": 36,
   "metadata": {
    "collapsed": true
   },
   "outputs": [],
   "source": [
    "# TODO: implement or delete this section."
   ]
  },
  {
   "cell_type": "markdown",
   "metadata": {},
   "source": [
    "### c. GloVe word embeddings from  spacy library(300d):"
   ]
  },
  {
   "cell_type": "code",
   "execution_count": 37,
   "metadata": {
    "collapsed": true
   },
   "outputs": [],
   "source": [
    "# import spacy\n",
    "# glove = spacy.load('en')\n",
    "\n",
    "# def get_spacy_word_model():\n",
    "#     spacy_word_model = {}\n",
    "#     unknown_representation = []\n",
    "#     for word in word_vocabulary:\n",
    "#         if w2i[word] == 0:\n",
    "#             unknown_representation.append(glove(word).vector)\n",
    "#         else:\n",
    "#             spacy_word_model[word] = glove(word).vector\n",
    "#     return defaultdict(lambda: np.sum(unknown_representation, axis=0)/len(unknown_representation), spacy_word_model)\n",
    "\n",
    "# spacy_word_model = get_spacy_word_model()\n",
    "\n",
    "# def get_spacy_pos_model():\n",
    "    \n",
    "#     spacy_POS_model = {}\n",
    "#     for POS_tag in pos_tag_vocabulary:\n",
    "#         spacy_POS_model[POS_tag] = glove(POS_tag).vector\n",
    "#     return spacy_POS_model\n",
    "\n",
    "# spacy_POS_model=get_spacy_pos_model()"
   ]
  },
  {
   "cell_type": "code",
   "execution_count": 38,
   "metadata": {},
   "outputs": [],
   "source": [
    "# most_common_words = word_counts_train.most_common(1000)\n",
    "# most_common_words_vectors = []\n",
    "# for word, count in most_common_words:\n",
    "#     most_common_words_vectors.append(spacy_word_model[word])\n",
    "\n",
    "# emb_scatter(most_common_words_vectors, [word for word, count in most_common_words], N=20)"
   ]
  },
  {
   "cell_type": "code",
   "execution_count": 39,
   "metadata": {},
   "outputs": [],
   "source": [
    "# pos_vectors = []\n",
    "# for pos_tag in pos_tag_vocabulary:\n",
    "#     pos_vectors.append(spacy_POS_model[pos_tag])\n",
    "# emb_scatter(pos_vectors, list(pos_tag_vocabulary), N=17)"
   ]
  },
  {
   "cell_type": "markdown",
   "metadata": {},
   "source": [
    "### d. GloVe word embeddings from pre-trained word vectors(50d/100d):"
   ]
  },
  {
   "cell_type": "code",
   "execution_count": 74,
   "metadata": {
    "scrolled": false
   },
   "outputs": [],
   "source": [
    "# def get_glove_pre_trained_word_model():\n",
    "#     # you need to download the file(s) from https://github.com/stanfordnlp/GloVe\n",
    "#     file = open(\"GloveEmbeddings/glove.6B.50d.txt\")\n",
    "#     pre_trained_tokens = {}\n",
    "#     for line in file:\n",
    "#         tokens = line.split()\n",
    "#         pre_trained_tokens[tokens[0]] = tokens[1:]\n",
    "\n",
    "#     # ~2005 found words appearing >1, ~2500 found words appearing =1, ~400 words not found\n",
    "#     pre_trained_unknown_reprez = []\n",
    "#     pre_trained_dict = {}\n",
    "\n",
    "#     for word in w2i.keys():\n",
    "#         if word.lower() in pre_trained_tokens.keys():\n",
    "#             pre_trained_dict[word] = pre_trained_tokens[word]\n",
    "#             if w2i[word] == 0:\n",
    "#                 pre_trained_unknown_reprez.append(pre_trained_tokens[word])\n",
    "        \n",
    "#     unk_reprez = np.sum(np.array(pre_trained_unknown_reprez).astype(np.float),axis=0)/len(pre_trained_unknown_reprez)\n",
    "\n",
    "#     return defaultdict(lambda: unk_reprez, pre_trained_dict)\n",
    "\n",
    "def get_glove_pre_trained_word_model():\n",
    "    file = open(\"glove50d.txt\")\n",
    "    pre_trained_tokens = {}\n",
    "    for line in file:\n",
    "        tokens = line.split()\n",
    "        if tokens[0] != \"<UNK>\":\n",
    "            pre_trained_tokens[tokens[0]] = tokens[1:]\n",
    "        else:\n",
    "            unknown_reprez = tokens[1:]\n",
    "    return defaultdict(lambda:unknown_reprez, pre_trained_tokens)\n",
    "\n",
    "\n",
    "def get_glove_pre_trained_tag_model():\n",
    "    \"\"\"\n",
    "    PLOT TWIST: we get the pos tag embeddings from training \n",
    "    \"\"\"\n",
    "    model = {}\n",
    "    word2vect = Word2Vec(gensim_POS_sentences_train, size=50, window=3, min_count=2, workers=4)\n",
    "    for key in word2vect.wv.vocab.keys():\n",
    "        model[key] = word2vect.wv[key]\n",
    "    return model\n",
    "    \n",
    "    \n",
    "pre_trained_word_model = get_glove_pre_trained_word_model()\n",
    "pre_trained_POS_model = get_glove_pre_trained_tag_model()"
   ]
  },
  {
   "cell_type": "code",
   "execution_count": 79,
   "metadata": {},
   "outputs": [
    {
     "data": {
      "text/plain": [
       "4549"
      ]
     },
     "execution_count": 79,
     "metadata": {},
     "output_type": "execute_result"
    }
   ],
   "source": [
    "len(pre_trained_word_model.keys())"
   ]
  },
  {
   "cell_type": "code",
   "execution_count": 78,
   "metadata": {},
   "outputs": [
    {
     "name": "stdout",
     "output_type": "stream",
     "text": [
      "finding clusters\n",
      "fitting tsne\n"
     ]
    },
    {
     "data": {
      "text/html": [
       "\n",
       "<div class=\"bk-root\">\n",
       "    <div class=\"bk-plotdiv\" id=\"2107463c-96c4-41a0-a5e4-5a95693a9c8b\"></div>\n",
       "</div>"
      ]
     },
     "metadata": {},
     "output_type": "display_data"
    },
    {
     "data": {
      "application/javascript": [
       "(function(root) {\n",
       "  function embed_document(root) {\n",
       "    var docs_json = {\"6743c1d5-fb7b-4032-b69e-1e1f69f40c35\":{\"roots\":{\"references\":[{\"attributes\":{},\"id\":\"dc45c5e3-3074-4664-8aec-0255c005c546\",\"type\":\"BasicTickFormatter\"},{\"attributes\":{\"fill_color\":{\"field\":\"colors\"},\"line_color\":{\"field\":\"colors\"},\"size\":{\"units\":\"screen\",\"value\":8},\"x\":{\"field\":\"x1\"},\"y\":{\"field\":\"x2\"}},\"id\":\"8ad3bd2b-4405-4c08-90e8-a5873c342809\",\"type\":\"Circle\"},{\"attributes\":{},\"id\":\"083d14e3-e48d-433d-8c0e-31ffd1a815ec\",\"type\":\"BasicTicker\"},{\"attributes\":{},\"id\":\"f3f98000-4077-4783-ade6-204c41703315\",\"type\":\"LinearScale\"},{\"attributes\":{\"below\":[{\"id\":\"19121971-1860-4eb3-a7f6-9ca9ba95ddde\",\"type\":\"LinearAxis\"}],\"left\":[{\"id\":\"7209ec3e-51c8-43c7-b7de-2d534b4c0c57\",\"type\":\"LinearAxis\"}],\"renderers\":[{\"id\":\"19121971-1860-4eb3-a7f6-9ca9ba95ddde\",\"type\":\"LinearAxis\"},{\"id\":\"fd4d3b09-c93d-4b56-9a91-95bb946e7717\",\"type\":\"Grid\"},{\"id\":\"7209ec3e-51c8-43c7-b7de-2d534b4c0c57\",\"type\":\"LinearAxis\"},{\"id\":\"77f29ce2-139d-4d5f-8216-22d9961bdccb\",\"type\":\"Grid\"},{\"id\":\"b7ef87d9-a938-4ff1-8cd2-52d64341c760\",\"type\":\"GlyphRenderer\"},{\"id\":\"7da0aa1d-db68-4cd8-9b06-423bed22da42\",\"type\":\"LabelSet\"}],\"title\":{\"id\":\"dbcab2f4-f18a-43ae-a397-67625aeaec68\",\"type\":\"Title\"},\"toolbar\":{\"id\":\"9c671ecc-ea4f-453e-bdaa-115e386f35de\",\"type\":\"Toolbar\"},\"toolbar_location\":\"above\",\"x_range\":{\"id\":\"f5792401-b2df-453b-9a4b-bedc67fbd4d1\",\"type\":\"DataRange1d\"},\"x_scale\":{\"id\":\"f3f98000-4077-4783-ade6-204c41703315\",\"type\":\"LinearScale\"},\"y_range\":{\"id\":\"99dbcf63-6bfe-49fe-b1cd-09fab16006e4\",\"type\":\"DataRange1d\"},\"y_scale\":{\"id\":\"775244bf-a710-43ae-bcd4-f4985492689b\",\"type\":\"LinearScale\"}},\"id\":\"48caa1ed-85a7-4c88-92ef-0ef786f76a40\",\"subtype\":\"Figure\",\"type\":\"Plot\"},{\"attributes\":{},\"id\":\"bb47a159-7a4b-47c9-8e6f-79781fa3accf\",\"type\":\"WheelZoomTool\"},{\"attributes\":{\"callback\":null},\"id\":\"99dbcf63-6bfe-49fe-b1cd-09fab16006e4\",\"type\":\"DataRange1d\"},{\"attributes\":{\"active_drag\":\"auto\",\"active_inspect\":\"auto\",\"active_scroll\":\"auto\",\"active_tap\":\"auto\",\"tools\":[{\"id\":\"b456548b-c96d-414b-9a8a-2891be876811\",\"type\":\"PanTool\"},{\"id\":\"bb47a159-7a4b-47c9-8e6f-79781fa3accf\",\"type\":\"WheelZoomTool\"},{\"id\":\"4e560f14-d4c6-4115-a38b-81066e685fc7\",\"type\":\"ResetTool\"},{\"id\":\"68157698-5acb-418f-9732-1d7e2d098e69\",\"type\":\"SaveTool\"}]},\"id\":\"9c671ecc-ea4f-453e-bdaa-115e386f35de\",\"type\":\"Toolbar\"},{\"attributes\":{},\"id\":\"4e560f14-d4c6-4115-a38b-81066e685fc7\",\"type\":\"ResetTool\"},{\"attributes\":{},\"id\":\"497d14a0-aabb-466d-b915-35b98b6ad824\",\"type\":\"BasicTicker\"},{\"attributes\":{\"formatter\":{\"id\":\"dc45c5e3-3074-4664-8aec-0255c005c546\",\"type\":\"BasicTickFormatter\"},\"plot\":{\"id\":\"48caa1ed-85a7-4c88-92ef-0ef786f76a40\",\"subtype\":\"Figure\",\"type\":\"Plot\"},\"ticker\":{\"id\":\"497d14a0-aabb-466d-b915-35b98b6ad824\",\"type\":\"BasicTicker\"}},\"id\":\"19121971-1860-4eb3-a7f6-9ca9ba95ddde\",\"type\":\"LinearAxis\"},{\"attributes\":{\"fill_alpha\":{\"value\":0.1},\"fill_color\":{\"value\":\"#1f77b4\"},\"line_alpha\":{\"value\":0.1},\"line_color\":{\"value\":\"#1f77b4\"},\"size\":{\"units\":\"screen\",\"value\":8},\"x\":{\"field\":\"x1\"},\"y\":{\"field\":\"x2\"}},\"id\":\"0a88588c-468a-4080-b47f-361d91370b9c\",\"type\":\"Circle\"},{\"attributes\":{\"data_source\":{\"id\":\"bdf2bc39-0b66-41f5-9aed-30f2e7a28f52\",\"type\":\"ColumnDataSource\"},\"glyph\":{\"id\":\"8ad3bd2b-4405-4c08-90e8-a5873c342809\",\"type\":\"Circle\"},\"hover_glyph\":null,\"muted_glyph\":null,\"nonselection_glyph\":{\"id\":\"0a88588c-468a-4080-b47f-361d91370b9c\",\"type\":\"Circle\"},\"selection_glyph\":null,\"view\":{\"id\":\"68dd02a7-50e6-45c1-894e-40be07922553\",\"type\":\"CDSView\"}},\"id\":\"b7ef87d9-a938-4ff1-8cd2-52d64341c760\",\"type\":\"GlyphRenderer\"},{\"attributes\":{\"source\":{\"id\":\"bdf2bc39-0b66-41f5-9aed-30f2e7a28f52\",\"type\":\"ColumnDataSource\"}},\"id\":\"68dd02a7-50e6-45c1-894e-40be07922553\",\"type\":\"CDSView\"},{\"attributes\":{\"plot\":{\"id\":\"48caa1ed-85a7-4c88-92ef-0ef786f76a40\",\"subtype\":\"Figure\",\"type\":\"Plot\"},\"source\":{\"id\":\"bdf2bc39-0b66-41f5-9aed-30f2e7a28f52\",\"type\":\"ColumnDataSource\"},\"text\":{\"field\":\"names\"},\"text_align\":\"center\",\"text_color\":{\"value\":\"#555555\"},\"text_font_size\":{\"value\":\"8pt\"},\"x\":{\"field\":\"x1\"},\"y\":{\"field\":\"x2\"},\"y_offset\":{\"value\":6}},\"id\":\"7da0aa1d-db68-4cd8-9b06-423bed22da42\",\"type\":\"LabelSet\"},{\"attributes\":{\"dimension\":1,\"plot\":{\"id\":\"48caa1ed-85a7-4c88-92ef-0ef786f76a40\",\"subtype\":\"Figure\",\"type\":\"Plot\"},\"ticker\":{\"id\":\"083d14e3-e48d-433d-8c0e-31ffd1a815ec\",\"type\":\"BasicTicker\"}},\"id\":\"77f29ce2-139d-4d5f-8216-22d9961bdccb\",\"type\":\"Grid\"},{\"attributes\":{},\"id\":\"8c8e583f-ab3c-45e3-8843-5bcd54d3ee44\",\"type\":\"BasicTickFormatter\"},{\"attributes\":{\"callback\":null,\"column_names\":[\"x1\",\"x2\",\"names\",\"colors\"],\"data\":{\"colors\":[\"#c5b0d5\",\"#ff7f0e\",\"#c5b0d5\",\"#c5b0d5\",\"#c5b0d5\",\"#ff9896\",\"#7f7f7f\",\"#c5b0d5\",\"#dbdb8d\",\"#7f7f7f\",\"#ff7f0e\",\"#c5b0d5\",\"#c5b0d5\",\"#c5b0d5\",\"#ff9896\",\"#c5b0d5\",\"#7f7f7f\",\"#c5b0d5\",\"#1f77b4\",\"#7f7f7f\",\"#c5b0d5\",\"#c5b0d5\",\"#c5b0d5\",\"#1f77b4\",\"#17becf\",\"#ff9896\",\"#7f7f7f\",\"#f7b6d2\",\"#17becf\",\"#dbdb8d\",\"#17becf\",\"#c5b0d5\",\"#17becf\",\"#c7c7c7\",\"#c7c7c7\",\"#17becf\",\"#c5b0d5\",\"#17becf\",\"#17becf\",\"#c5b0d5\",\"#7f7f7f\",\"#c5b0d5\",\"#dbdb8d\",\"#c5b0d5\",\"#c5b0d5\",\"#c5b0d5\",\"#ff7f0e\",\"#7f7f7f\",\"#ff7f0e\",\"#7f7f7f\",\"#ff9896\",\"#17becf\",\"#17becf\",\"#7f7f7f\",\"#7f7f7f\",\"#c5b0d5\",\"#e377c2\",\"#c5b0d5\",\"#ff9896\",\"#aec7e8\",\"#ff9896\",\"#7f7f7f\",\"#c5b0d5\",\"#c5b0d5\",\"#7f7f7f\",\"#ff9896\",\"#9edae5\",\"#17becf\",\"#17becf\",\"#ff9896\",\"#17becf\",\"#ff9896\",\"#17becf\",\"#9edae5\",\"#17becf\",\"#7f7f7f\",\"#ff9896\",\"#c5b0d5\",\"#ff9896\",\"#7f7f7f\",\"#c5b0d5\",\"#c5b0d5\",\"#17becf\",\"#9467bd\",\"#17becf\",\"#f7b6d2\",\"#c5b0d5\",\"#c5b0d5\",\"#c5b0d5\",\"#ff7f0e\",\"#2ca02c\",\"#c5b0d5\",\"#17becf\",\"#17becf\",\"#c5b0d5\",\"#98df8a\",\"#ff9896\",\"#ff9896\",\"#7f7f7f\",\"#c5b0d5\",\"#c5b0d5\",\"#f7b6d2\",\"#17becf\",\"#17becf\",\"#c49c94\",\"#c5b0d5\",\"#c5b0d5\",\"#17becf\",\"#7f7f7f\",\"#17becf\",\"#ff7f0e\",\"#c5b0d5\",\"#c7c7c7\",\"#7f7f7f\",\"#7f7f7f\",\"#ff7f0e\",\"#17becf\",\"#c5b0d5\",\"#17becf\",\"#98df8a\",\"#1f77b4\",\"#c5b0d5\",\"#7f7f7f\",\"#c5b0d5\",\"#c5b0d5\",\"#17becf\",\"#1f77b4\",\"#17becf\",\"#ff9896\",\"#c5b0d5\",\"#ff9896\",\"#17becf\",\"#7f7f7f\",\"#c5b0d5\",\"#c5b0d5\",\"#c5b0d5\",\"#17becf\",\"#7f7f7f\",\"#c5b0d5\",\"#ff7f0e\",\"#c5b0d5\",\"#1f77b4\",\"#aec7e8\",\"#17becf\",\"#17becf\",\"#2ca02c\",\"#17becf\",\"#ff7f0e\",\"#17becf\",\"#17becf\",\"#7f7f7f\",\"#ff9896\",\"#17becf\",\"#dbdb8d\",\"#c5b0d5\",\"#17becf\",\"#ff9896\",\"#c5b0d5\",\"#7f7f7f\",\"#8c564b\",\"#ff9896\",\"#1f77b4\",\"#ff7f0e\",\"#aec7e8\",\"#ff9896\",\"#c5b0d5\",\"#17becf\",\"#2ca02c\",\"#c5b0d5\",\"#c5b0d5\",\"#1f77b4\",\"#2ca02c\",\"#ff9896\",\"#9edae5\",\"#ff7f0e\",\"#d62728\",\"#ff9896\",\"#dbdb8d\",\"#c5b0d5\",\"#c49c94\",\"#ff9896\",\"#7f7f7f\",\"#2ca02c\",\"#7f7f7f\",\"#f7b6d2\",\"#f7b6d2\",\"#aec7e8\",\"#7f7f7f\",\"#1f77b4\",\"#17becf\",\"#1f77b4\",\"#7f7f7f\",\"#ff9896\",\"#c5b0d5\",\"#c49c94\",\"#17becf\",\"#17becf\",\"#e377c2\",\"#7f7f7f\",\"#dbdb8d\",\"#dbdb8d\",\"#ff7f0e\",\"#98df8a\",\"#7f7f7f\",\"#aec7e8\",\"#2ca02c\",\"#c7c7c7\",\"#ff7f0e\",\"#f7b6d2\",\"#1f77b4\",\"#7f7f7f\",\"#c5b0d5\",\"#ff9896\",\"#9edae5\",\"#8c564b\",\"#17becf\",\"#ffbb78\",\"#9467bd\",\"#f7b6d2\",\"#ff7f0e\",\"#1f77b4\",\"#1f77b4\",\"#98df8a\",\"#17becf\",\"#ff7f0e\",\"#7f7f7f\",\"#17becf\",\"#ff9896\",\"#c5b0d5\",\"#dbdb8d\",\"#c5b0d5\",\"#e377c2\",\"#2ca02c\",\"#98df8a\",\"#98df8a\",\"#ffbb78\",\"#8c564b\",\"#98df8a\",\"#9467bd\",\"#1f77b4\",\"#aec7e8\",\"#7f7f7f\",\"#7f7f7f\",\"#7f7f7f\",\"#aec7e8\",\"#2ca02c\",\"#ff7f0e\",\"#dbdb8d\",\"#c5b0d5\",\"#c5b0d5\",\"#dbdb8d\",\"#98df8a\",\"#c5b0d5\",\"#ff7f0e\",\"#dbdb8d\",\"#c49c94\",\"#2ca02c\",\"#ff7f0e\",\"#ff9896\",\"#c5b0d5\",\"#1f77b4\",\"#8c564b\",\"#7f7f7f\",\"#f7b6d2\",\"#ffbb78\",\"#8c564b\",\"#1f77b4\",\"#ff9896\",\"#8c564b\",\"#17becf\",\"#2ca02c\",\"#ff7f0e\",\"#c7c7c7\",\"#9edae5\",\"#c7c7c7\",\"#c7c7c7\",\"#ff7f0e\",\"#ff7f0e\",\"#17becf\",\"#c5b0d5\",\"#c7c7c7\",\"#ff9896\",\"#ff9896\",\"#9467bd\",\"#98df8a\",\"#8c564b\",\"#98df8a\",\"#17becf\",\"#aec7e8\",\"#17becf\",\"#98df8a\",\"#ff9896\",\"#7f7f7f\",\"#f7b6d2\",\"#e377c2\",\"#aec7e8\",\"#9edae5\",\"#aec7e8\",\"#aec7e8\",\"#17becf\",\"#c5b0d5\",\"#9edae5\",\"#1f77b4\",\"#9467bd\",\"#c5b0d5\",\"#7f7f7f\",\"#7f7f7f\",\"#9edae5\",\"#c5b0d5\",\"#17becf\",\"#7f7f7f\",\"#dbdb8d\",\"#1f77b4\",\"#ff7f0e\",\"#17becf\",\"#8c564b\",\"#8c564b\",\"#ff7f0e\",\"#1f77b4\",\"#1f77b4\",\"#17becf\",\"#2ca02c\",\"#c5b0d5\",\"#c5b0d5\",\"#aec7e8\",\"#ffbb78\",\"#17becf\",\"#c49c94\",\"#ff7f0e\",\"#7f7f7f\",\"#ff9896\",\"#7f7f7f\",\"#1f77b4\",\"#ff7f0e\",\"#c5b0d5\",\"#ff9896\",\"#aec7e8\",\"#9edae5\",\"#1f77b4\",\"#ff7f0e\",\"#aec7e8\",\"#9edae5\",\"#98df8a\",\"#9467bd\",\"#ff9896\",\"#ff9896\",\"#7f7f7f\",\"#98df8a\",\"#7f7f7f\",\"#ff9896\",\"#c5b0d5\",\"#aec7e8\",\"#2ca02c\",\"#17becf\",\"#c49c94\",\"#2ca02c\",\"#c7c7c7\",\"#c7c7c7\",\"#1f77b4\",\"#c5b0d5\",\"#2ca02c\",\"#ff9896\",\"#c7c7c7\",\"#c7c7c7\",\"#c49c94\",\"#c49c94\",\"#9edae5\",\"#9edae5\",\"#dbdb8d\",\"#1f77b4\",\"#e377c2\",\"#7f7f7f\",\"#ff9896\",\"#9467bd\",\"#e377c2\",\"#dbdb8d\",\"#c7c7c7\",\"#2ca02c\",\"#ff9896\",\"#98df8a\",\"#7f7f7f\",\"#7f7f7f\",\"#1f77b4\",\"#ff9896\",\"#17becf\",\"#ff7f0e\",\"#7f7f7f\",\"#aec7e8\",\"#8c564b\",\"#f7b6d2\",\"#ff7f0e\",\"#8c564b\",\"#9467bd\",\"#9467bd\",\"#9467bd\",\"#98df8a\",\"#9467bd\",\"#7f7f7f\",\"#7f7f7f\",\"#ff9896\",\"#aec7e8\",\"#f7b6d2\",\"#aec7e8\",\"#aec7e8\",\"#7f7f7f\",\"#ff9896\",\"#c5b0d5\",\"#1f77b4\",\"#7f7f7f\",\"#ff7f0e\",\"#9edae5\",\"#ff9896\",\"#d62728\",\"#dbdb8d\",\"#ff9896\",\"#dbdb8d\",\"#dbdb8d\",\"#aec7e8\",\"#1f77b4\",\"#9edae5\",\"#7f7f7f\",\"#17becf\",\"#98df8a\",\"#c5b0d5\",\"#c49c94\",\"#ff9896\",\"#c5b0d5\",\"#c49c94\",\"#aec7e8\",\"#c5b0d5\",\"#2ca02c\",\"#c5b0d5\",\"#d62728\",\"#7f7f7f\",\"#17becf\",\"#ff9896\",\"#17becf\",\"#1f77b4\",\"#8c564b\",\"#98df8a\",\"#f7b6d2\",\"#9edae5\",\"#7f7f7f\",\"#2ca02c\",\"#c5b0d5\",\"#1f77b4\",\"#7f7f7f\",\"#2ca02c\",\"#ff9896\",\"#1f77b4\",\"#9edae5\",\"#ff9896\",\"#8c564b\",\"#7f7f7f\",\"#ff7f0e\",\"#aec7e8\",\"#8c564b\",\"#7f7f7f\",\"#9467bd\",\"#dbdb8d\",\"#ff9896\",\"#aec7e8\",\"#c5b0d5\",\"#7f7f7f\",\"#9edae5\",\"#7f7f7f\",\"#7f7f7f\",\"#f7b6d2\",\"#f7b6d2\",\"#7f7f7f\",\"#d62728\",\"#ff9896\",\"#d62728\",\"#2ca02c\",\"#2ca02c\",\"#1f77b4\",\"#c7c7c7\",\"#9edae5\",\"#ff9896\",\"#2ca02c\",\"#ff7f0e\",\"#9edae5\",\"#1f77b4\",\"#aec7e8\",\"#7f7f7f\",\"#9edae5\",\"#c5b0d5\",\"#c49c94\",\"#9edae5\",\"#7f7f7f\",\"#c5b0d5\",\"#ffbb78\",\"#aec7e8\",\"#1f77b4\",\"#dbdb8d\",\"#7f7f7f\",\"#1f77b4\",\"#c7c7c7\",\"#2ca02c\",\"#1f77b4\",\"#1f77b4\",\"#1f77b4\",\"#dbdb8d\",\"#17becf\",\"#aec7e8\",\"#9edae5\",\"#1f77b4\",\"#8c564b\",\"#aec7e8\",\"#aec7e8\",\"#ffbb78\",\"#ffbb78\",\"#ff9896\",\"#8c564b\",\"#8c564b\",\"#1f77b4\",\"#ffbb78\",\"#9467bd\",\"#dbdb8d\",\"#ff7f0e\",\"#ffbb78\",\"#8c564b\",\"#ffbb78\",\"#ff9896\",\"#aec7e8\",\"#f7b6d2\",\"#c49c94\",\"#aec7e8\",\"#ff7f0e\",\"#8c564b\",\"#c5b0d5\",\"#7f7f7f\",\"#dbdb8d\",\"#9edae5\",\"#ff9896\",\"#8c564b\",\"#9467bd\",\"#7f7f7f\",\"#ff7f0e\",\"#98df8a\",\"#1f77b4\",\"#98df8a\",\"#aec7e8\",\"#ff7f0e\",\"#dbdb8d\",\"#9edae5\",\"#ff7f0e\",\"#aec7e8\",\"#ff7f0e\",\"#98df8a\",\"#17becf\",\"#ff9896\",\"#9467bd\",\"#7f7f7f\",\"#98df8a\",\"#c5b0d5\",\"#c5b0d5\",\"#ff7f0e\",\"#1f77b4\",\"#ff7f0e\",\"#1f77b4\",\"#9edae5\",\"#dbdb8d\",\"#2ca02c\",\"#c7c7c7\",\"#7f7f7f\",\"#e377c2\",\"#1f77b4\",\"#ff9896\",\"#9edae5\",\"#c5b0d5\",\"#dbdb8d\",\"#2ca02c\",\"#8c564b\",\"#17becf\",\"#9edae5\",\"#ff9896\",\"#1f77b4\",\"#9edae5\",\"#9edae5\",\"#98df8a\",\"#c5b0d5\",\"#2ca02c\",\"#8c564b\",\"#1f77b4\",\"#c49c94\",\"#9edae5\",\"#ff7f0e\",\"#c49c94\",\"#d62728\",\"#d62728\",\"#c49c94\",\"#c5b0d5\",\"#1f77b4\",\"#ff7f0e\",\"#7f7f7f\",\"#ffbb78\",\"#c49c94\",\"#c49c94\",\"#c5b0d5\",\"#9edae5\",\"#c7c7c7\",\"#ff7f0e\",\"#ff9896\",\"#2ca02c\",\"#7f7f7f\",\"#9edae5\",\"#ff7f0e\",\"#c49c94\",\"#8c564b\",\"#7f7f7f\",\"#98df8a\",\"#8c564b\",\"#9edae5\",\"#17becf\",\"#ff7f0e\",\"#98df8a\",\"#e377c2\",\"#ff7f0e\",\"#ffbb78\",\"#8c564b\",\"#8c564b\",\"#c7c7c7\",\"#7f7f7f\",\"#98df8a\",\"#9edae5\",\"#7f7f7f\",\"#1f77b4\",\"#7f7f7f\",\"#ff9896\",\"#7f7f7f\",\"#98df8a\",\"#9467bd\",\"#ffbb78\",\"#8c564b\",\"#98df8a\",\"#c7c7c7\",\"#17becf\",\"#7f7f7f\",\"#9edae5\",\"#ff9896\",\"#aec7e8\",\"#c7c7c7\",\"#8c564b\",\"#8c564b\",\"#ff9896\",\"#8c564b\",\"#aec7e8\",\"#8c564b\",\"#ffbb78\",\"#17becf\",\"#aec7e8\",\"#98df8a\",\"#2ca02c\",\"#8c564b\",\"#aec7e8\",\"#c5b0d5\",\"#ff7f0e\",\"#d62728\",\"#d62728\",\"#9467bd\",\"#ffbb78\",\"#9467bd\",\"#ff9896\",\"#ffbb78\",\"#9467bd\",\"#dbdb8d\",\"#8c564b\",\"#ffbb78\",\"#8c564b\",\"#9edae5\",\"#2ca02c\",\"#17becf\",\"#7f7f7f\",\"#8c564b\",\"#8c564b\",\"#7f7f7f\",\"#9edae5\",\"#ff7f0e\",\"#9edae5\",\"#d62728\",\"#2ca02c\",\"#2ca02c\",\"#aec7e8\",\"#17becf\",\"#c5b0d5\",\"#2ca02c\",\"#ff7f0e\",\"#c49c94\",\"#98df8a\",\"#2ca02c\",\"#dbdb8d\",\"#8c564b\",\"#aec7e8\",\"#8c564b\",\"#8c564b\",\"#bcbd22\",\"#bcbd22\",\"#bcbd22\",\"#8c564b\",\"#17becf\",\"#2ca02c\",\"#2ca02c\",\"#2ca02c\",\"#2ca02c\",\"#7f7f7f\",\"#2ca02c\",\"#2ca02c\",\"#9edae5\",\"#2ca02c\",\"#9edae5\",\"#9edae5\",\"#98df8a\",\"#9467bd\",\"#17becf\",\"#8c564b\",\"#ff7f0e\",\"#7f7f7f\",\"#ff7f0e\",\"#9edae5\",\"#ff9896\",\"#c5b0d5\",\"#ff9896\",\"#ff9896\",\"#9edae5\",\"#2ca02c\",\"#dbdb8d\",\"#9edae5\",\"#ff9896\",\"#1f77b4\",\"#2ca02c\",\"#2ca02c\",\"#9edae5\",\"#ffbb78\",\"#2ca02c\",\"#1f77b4\",\"#8c564b\",\"#aec7e8\",\"#7f7f7f\",\"#dbdb8d\",\"#ff7f0e\",\"#ff7f0e\",\"#2ca02c\",\"#17becf\",\"#1f77b4\",\"#9edae5\",\"#17becf\",\"#c7c7c7\",\"#2ca02c\",\"#e377c2\",\"#ff7f0e\",\"#8c564b\",\"#17becf\",\"#7f7f7f\",\"#7f7f7f\",\"#dbdb8d\",\"#17becf\",\"#2ca02c\",\"#ff9896\",\"#f7b6d2\",\"#9edae5\",\"#9edae5\",\"#ff9896\",\"#ff7f0e\",\"#ff7f0e\",\"#ff9896\",\"#e377c2\",\"#17becf\",\"#98df8a\",\"#98df8a\",\"#ff7f0e\",\"#2ca02c\",\"#98df8a\",\"#2ca02c\",\"#9edae5\",\"#ff9896\",\"#17becf\",\"#2ca02c\",\"#f7b6d2\",\"#aec7e8\",\"#f7b6d2\",\"#7f7f7f\",\"#17becf\",\"#1f77b4\",\"#c7c7c7\",\"#8c564b\",\"#9467bd\",\"#ffbb78\",\"#dbdb8d\",\"#1f77b4\",\"#9edae5\",\"#ff7f0e\",\"#ffbb78\",\"#9edae5\",\"#7f7f7f\",\"#9edae5\",\"#9edae5\",\"#aec7e8\",\"#8c564b\",\"#1f77b4\",\"#9edae5\",\"#7f7f7f\",\"#98df8a\",\"#9edae5\",\"#aec7e8\",\"#8c564b\",\"#9edae5\",\"#ff9896\",\"#ff9896\",\"#98df8a\",\"#9edae5\",\"#8c564b\",\"#2ca02c\",\"#ff9896\",\"#ff7f0e\",\"#9edae5\",\"#ff9896\",\"#ffbb78\",\"#c5b0d5\",\"#98df8a\",\"#ff9896\",\"#dbdb8d\",\"#c5b0d5\",\"#ff7f0e\",\"#1f77b4\",\"#aec7e8\",\"#c49c94\",\"#7f7f7f\",\"#dbdb8d\",\"#9edae5\",\"#8c564b\",\"#2ca02c\",\"#ff9896\",\"#aec7e8\",\"#e377c2\",\"#c5b0d5\",\"#ff9896\",\"#ff9896\",\"#ffbb78\",\"#ff7f0e\",\"#ff7f0e\",\"#1f77b4\",\"#c5b0d5\",\"#d62728\",\"#d62728\",\"#9467bd\",\"#9467bd\",\"#1f77b4\",\"#1f77b4\",\"#ff9896\",\"#17becf\",\"#9467bd\",\"#98df8a\",\"#9467bd\",\"#c5b0d5\",\"#aec7e8\",\"#9467bd\",\"#9467bd\",\"#9467bd\",\"#f7b6d2\",\"#7f7f7f\",\"#9edae5\",\"#f7b6d2\",\"#ff9896\",\"#9edae5\",\"#9467bd\",\"#ff7f0e\",\"#7f7f7f\",\"#dbdb8d\",\"#9467bd\",\"#9467bd\",\"#98df8a\",\"#9edae5\",\"#ff7f0e\",\"#8c564b\",\"#17becf\",\"#d62728\",\"#f7b6d2\",\"#f7b6d2\",\"#2ca02c\",\"#ff7f0e\",\"#98df8a\",\"#9edae5\",\"#ff7f0e\",\"#f7b6d2\",\"#c49c94\",\"#c49c94\",\"#9edae5\",\"#17becf\",\"#2ca02c\",\"#c5b0d5\",\"#c49c94\",\"#ffbb78\",\"#d62728\",\"#d62728\",\"#1f77b4\",\"#aec7e8\",\"#c49c94\",\"#2ca02c\",\"#d62728\",\"#c5b0d5\",\"#9edae5\",\"#c49c94\",\"#2ca02c\",\"#dbdb8d\",\"#8c564b\",\"#8c564b\",\"#2ca02c\",\"#9edae5\",\"#2ca02c\",\"#8c564b\",\"#c7c7c7\",\"#bcbd22\",\"#bcbd22\",\"#8c564b\",\"#bcbd22\",\"#9edae5\",\"#aec7e8\",\"#9edae5\",\"#ff9896\",\"#ff9896\",\"#2ca02c\",\"#2ca02c\",\"#c49c94\",\"#2ca02c\",\"#dbdb8d\",\"#ff9896\",\"#9edae5\",\"#7f7f7f\",\"#8c564b\",\"#98df8a\",\"#9edae5\",\"#c5b0d5\",\"#aec7e8\",\"#98df8a\",\"#ffbb78\",\"#7f7f7f\",\"#7f7f7f\",\"#ff7f0e\",\"#9edae5\",\"#2ca02c\",\"#2ca02c\",\"#c49c94\",\"#2ca02c\",\"#2ca02c\",\"#2ca02c\",\"#2ca02c\",\"#1f77b4\",\"#c49c94\",\"#9edae5\",\"#17becf\",\"#2ca02c\",\"#d62728\",\"#c49c94\",\"#9edae5\",\"#c49c94\",\"#ffbb78\",\"#d62728\",\"#7f7f7f\",\"#ff7f0e\",\"#9edae5\",\"#c5b0d5\",\"#c5b0d5\",\"#9edae5\",\"#c49c94\",\"#1f77b4\",\"#c49c94\",\"#c49c94\",\"#8c564b\",\"#8c564b\",\"#c49c94\",\"#c7c7c7\",\"#c49c94\",\"#7f7f7f\",\"#c7c7c7\",\"#7f7f7f\",\"#c49c94\",\"#ff7f0e\",\"#c49c94\",\"#17becf\",\"#9edae5\",\"#98df8a\",\"#2ca02c\",\"#c5b0d5\",\"#9edae5\",\"#9edae5\",\"#9edae5\",\"#9edae5\",\"#2ca02c\",\"#8c564b\",\"#8c564b\",\"#ff9896\",\"#aec7e8\",\"#f7b6d2\",\"#2ca02c\",\"#8c564b\",\"#ff9896\",\"#9edae5\",\"#9467bd\",\"#2ca02c\"],\"names\":[\".\",\"the\",\",\",\"to\",\"and\",\"a\",\"i\",\"of\",\"in\",\"you\",\"is\",\"it\",\"for\",\"that\",\"-\",\"have\",\"?\",\"with\",\"on\",\"\\\"\",\"are\",\"be\",\"this\",\"was\",\"we\",\"'s\",\"my\",\"!\",\"not\",\"at\",\"do\",\"they\",\"will\",\"(\",\")\",\"n't\",\"as\",\"if\",\"would\",\":\",\"good\",\"but\",\"from\",\"there\",\"or\",\"by\",\"great\",\"me\",\"an\",\"what\",\"he\",\"can\",\"your\",\"so\",\"like\",\"has\",\"best\",\"had\",\"up\",\"service\",\"just\",\"very\",\"all\",\"one\",\"know\",\"out\",\"no\",\"our\",\"get\",\"thanks\",\"go\",\"place\",\"them\",\"any\",\"could\",\"...\",\"time\",\"some\",\"his\",\"'m\",\"been\",\"which\",\"want\",\"food\",\"need\",\"/\",\"people\",\"were\",\"here\",\"new\",\"us\",\"now\",\"should\",\"please\",\"about\",\"$\",\"when\",\"who\",\"am\",\"well\",\"more\",\"s\",\"see\",\"how\",\"al\",\"these\",\"their\",\"did\",\"think\",\"does\",\"use\",\"two\",\";\",\"too\",\"really\",\"work\",\"'\",\"only\",\"call\",\"enron\",\"over\",\"also\",\"nice\",\"much\",\"even\",\"take\",\"after\",\"going\",\"back\",\"may\",\"her\",\"way\",\"'ve\",\"other\",\"many\",\"than\",\"make\",\"little\",\"few\",\"friendly\",\"today\",\"last\",\"email\",\"help\",\"better\",\"said\",\"sure\",\"group\",\"find\",\"give\",\"love\",\"into\",\"'ll\",\"area\",\"ever\",\"job\",\"then\",\"made\",\"look\",\"&\",\"free\",\"again\",\"quality\",\"google\",\"put\",\"most\",\"let\",\"bush\",\"still\",\"because\",\"day\",\"deal\",\"she\",\"recommend\",\"its\",\"war\",\"him\",\"where\",\"years\",\"qaeda\",\"got\",\"guys\",\"staff\",\"thank\",\"<\",\">\",\"e-mail\",\"anything\",\"since\",\"try\",\"year\",\"never\",\"looking\",\"--\",\"fallujah\",\"send\",\"anyone\",\"world\",\"why\",\"school\",\"around\",\"space\",\"buy\",\"always\",\"phone\",\"house\",\"pm\",\"highly\",\"------\",\"took\",\"amazing\",\"every\",\"off\",\"risk\",\"vince\",\"able\",\"713\",\"eat\",\"!!!\",\"system\",\"days\",\"before\",\"money\",\"come\",\"excellent\",\"someone\",\"ask\",\"fast\",\"number\",\"london\",\"those\",\"performance\",\"discussed\",\"price\",\"business\",\":)\",\"..\",\"nt\",\"restaurant\",\"end\",\"site\",\"'re\",\"something\",\"bad\",\"news\",\"president\",\"such\",\"through\",\"while\",\"times\",\"high\",\"company\",\"groups\",\"project\",\"between\",\"islamic\",\"told\",\"working\",\"down\",\"list\",\"first\",\"01-feb-02\",\"awesome\",\"*\",\"**\",\"chicago\",\"post\",\"away\",\"john\",\"done\",\"government\",\"local\",\"5\",\"opinion\",\"1\",\"%\",\"using\",\"called\",\"say\",\"though\",\"10\",\"white\",\"went\",\"dinner\",\"credit\",\"david\",\"pay\",\"getting\",\"services\",\"wanted\",\"dow\",\"green\",\"everything\",\"p\",\"professional\",\"nasa\",\"helpful\",\"camera\",\"search\",\"might\",\"found\",\"makes\",\"next\",\"store\",\"however\",\"looks\",\"pretty\",\"without\",\"being\",\"ca\",\"seem\",\"city\",\"against\",\"american\",\"stay\",\"d\",\"joined\",\"part\",\"weeks\",\"ago\",\"needs\",\"support\",\"under\",\"already\",\"message\",\"e17\",\"must\",\"iraq\",\"form\",\"thought\",\"tried\",\"yes\",\"february\",\"used\",\"making\",\"old\",\"fax\",\"action\",\"week\",\"attached\",\"web\",\"questions\",\"firm\",\"shop\",\"man\",\"clean\",\"lot\",\"deals\",\"wonderful\",\"hidden\",\"different\",\"read\",\"join\",\"believe\",\"sunni\",\"country\",\"2\",\"24\",\"until\",\"same\",\"issue\",\"another\",\"21\",\"20\",\"bin\",\"laden\",\"experience\",\"order\",\"street\",\"came\",\"team\",\"doing\",\"left\",\"fine\",\"game\",\"below\",\"#\",\"draft\",\"car\",\"gas\",\"kind\",\"friends\",\"started\",\"top\",\"quick\",\"name\",\"happy\",\"page\",\"friend\",\"nook\",\"art\",\"moon\",\"burger\",\"ice\",\"cream\",\"customer\",\"fresh\",\"else\",\"thing\",\"course\",\"pictures\",\"....\",\"online\",\"information\",\"stuff\",\"forward\",\"far\",\"start\",\"certainly\",\"power\",\"rather\",\"behind\",\"police\",\"town\",\"long\",\"along\",\"section\",\"bbc\",\"later\",\"possible\",\"sounds\",\"enough\",\"market\",\"each\",\"terrorist\",\"set\",\"among\",\"muslim\",\"check\",\"probably\",\"key\",\"four\",\"air\",\"things\",\"wait\",\"girl\",\"wo\",\"month\",\"mike\",\"management\",\"hi\",\"interested\",\"wondering\",\"issues\",\"life\",\"sent\",\"feel\",\"address\",\"big\",\"results\",\"extremely\",\"room\",\"mark\",\"fun\",\"systems\",\"posted\",\"winston\",\"pleased\",\"restaurants\",\"places\",\"busy\",\"computer\",\"family\",\"nothing\",\"care\",\"rude\",\"terrible\",\"[\",\"]\",\"actually\",\"operation\",\"hand\",\"nuclear\",\"united\",\"general\",\"friday\",\"3\",\"term\",\"once\",\"according\",\"medical\",\"idea\",\"scheduled\",\"media\",\"word\",\"whether\",\"involved\",\"iraqi\",\"question\",\"remember\",\"several\",\"mississauga\",\"travel\",\"early\",\"small\",\"obviously\",\"september\",\"11\",\"clinton\",\"fall\",\"night\",\"weekend\",\"capital\",\"hope\",\"daily\",\"suggestions\",\"morning\",\"sara\",\"copy\",\"telephone\",\"20.000\",\"hpl\",\"home\",\"debra\",\"perlingiere\",\"december\",\"mmbtu\",\"bar\",\"location\",\"indian\",\"ppa\",\".?\",\"guaranty\",\"couple\",\"book\",\"k\",\"delhi\",\"network\",\"chinese\",\"wei\",\"often\",\"tragedy\",\"highway\",\"slow\",\"right\",\"irish\",\"dog\",\"mad\",\"style\",\"prices\",\"worst\",\"employees\",\"microsoft\",\"own\",\"across\",\"yet\",\"important\",\"article\",\"besides\",\"account\",\"worried\",\"hands\",\"cool\",\"says\",\"energy\",\"three\",\"either\",\"become\",\"received\",\"enjoyed\",\"due\",\"respect\",\"parts\",\"filed\",\"b\",\"whole\",\"finished\",\"hour\",\"short\",\"fact\",\"taken\",\"within\",\"bill\",\"foundation\",\"move\",\"mean\",\"point\",\"soon\",\"reason\",\"change\",\"worth\",\"added\",\"statement\",\"wife\",\"starting\",\"hezbollah\",\"process\",\"light\",\"abdul\",\"attack\",\"forces\",\"radical\",\"seen\",\"during\",\"sound\",\"everyone\",\"monotheism\",\"holy\",\"afghanistan\",\"especially\",\"case\",\"6\",\"known\",\"coming\",\"administration\",\"wrong\",\"real\",\"worked\",\"pakistani\",\"king\",\"yeah\",\"bet\",\"houston\",\"regarding\",\"trying\",\"class\",\"ticket\",\"play\",\"currently\",\"facsimile\",\"michael\",\"elizabeth\",\"per\",\"sorry\",\"wholesale\",\"regards\",\"ok\",\"weather\",\"mind\",\"extra\",\"'d\",\"global\",\"cafeteria\",\"janette\",\"elbertson\",\"offer\",\"4\",\"wish\",\"plenty\",\"longer\",\"close\",\"paper\",\"16\",\"sheridan\",\"01/24/2001\",\"gave\",\"darrell\",\"mail\",\"dr.\",\"kam\",\"needed\",\"data\",\"estate\",\"visit\",\"it's\",\"website\",\"children\",\"private\",\"launch\",\"shuttle\",\"expensive\",\"lol\",\"chain\",\"stick\",\"nz\",\"cheap\",\"san\",\"francisco\",\"vet\",\"canon\",\"reasonable\",\"recommended\",\"easy\",\"fantastic\",\"tmobile\",\"mary\",\"heard\",\"view\",\"shows\",\"compare\",\"military\",\"states\",\"security\",\"connection\",\"wants\",\"americans\",\"calling\",\"special\",\"saddam\",\"share\",\"court\",\"level\",\"kennedy\",\"pages\",\"paul\",\"vi\",\"souter\",\"ginsburg\",\"breyer\",\"ii\",\"agree\",\"washington\",\"report\",\"state\",\"political\",\"seems\",\"un\",\"union\",\"keeping\",\"international\",\"given\",\"giving\",\"rate\",\"gifts\",\"hard\",\"charity\",\"major\",\"knows\",\"research\",\"means\",\"gone\",\"having\",\"spot\",\"inside\",\"legitimate\",\"party\",\"north\",\"simple\",\"pull\",\"january\",\"opposed\",\"u.s.\",\"plot\",\"wycombe\",\"canada\",\"months\",\"toronto\",\"internet\",\"true\",\"upper\",\"modern\",\"original\",\"met\",\"stop\",\"2001\",\"threat\",\"chance\",\"40\",\"plan\",\"playing\",\"based\",\"refer\",\"whatever\",\"thinking\",\"talking\",\"texas\",\"hopefully\",\"planning\",\"waiting\",\"hello\",\"ideas\",\"details\",\"lay\",\"events\",\"additional\",\"ride\",\"games\",\"hoping\",\"purchase\",\"fixed\",\"model\",\"economic\",\"inc.\",\"asked\",\"comes\",\"pass\",\"advise\",\"discuss\",\"+\",\"cell\",\"@\",\"understand\",\"leave\",\"2000\",\"12\",\"owner\",\"lunch\",\"comets\",\"center\",\"tuesday\",\"matters\",\"hunting\",\"ews\",\"legal\",\"maybe\",\"changes\",\"correct\",\"memo\",\"!!!!!!\",\"revised\",\"values\",\"felt\",\"delivery\",\"person\",\"id\",\"usa\",\"healthy\",\"open\",\"touch\",\"traders\",\"favor\",\"guaranty.doc\",\"meeting\",\"looked\",\"design\",\"problem\",\"run\",\"dpr\",\"live\",\"financial\",\"taking\",\"above\",\"animals\",\"music\",\"date\",\"link\",\"arrested\",\"quite\",\"water\",\"future\",\"santiago\",\"china\",\"table\",\"servers\",\"club\",\"together\",\"boy\",\"door\",\"space.com\",\"lunar\",\"earth\",\"flight\",\"both\",\"rockets\",\"rocket\",\"coffee\",\"tea\",\"argentina\",\"ireland\",\"red\",\"prefer\",\"shrimp\",\"cost\",\"meal\",\"least\",\"websites\",\"fish\",\"bacon\",\"breakfast\",\"ve\",\"okay\",\"fixing\",\"pos\",\"side\",\"charge\",\"taste\",\"compact\",\"absolutely\",\"200\",\"ounces\",\"cheapest\",\"kodak\",\"pause\",\"recording\",\"statues\",\"enjoy\",\"tank\",\"!!\",\"wow\",\"thai\",\"engine\",\"stock\",\"doubt\",\"show\",\"sin\",\"iranian\",\"suspect\",\"proof\",\"willing\",\"nations\",\"frequently\",\"slogans\",\"falluja\",\"fire\",\"troops\",\"saturday\",\"reuters\",\"clerics\",\"leaders\",\"soldiers\",\"remain\",\"treatment\",\"shiites\",\"rumsfeld\",\"divided\",\"d.c.\",\"anthony\",\"decision\",\"actual\",\"vote\",\"iii\",\"v\",\"scalia\",\"dissenting\",\"thomas\",\"alito\",\"marriage\",\"update\",\"upon\",\"front\",\"quickly\",\"secretary\",\"annan\",\"darfur\",\"african\",\"300\",\"half\",\"situation\",\"basically\",\"melinda\",\"value\",\"assume\",\"grow\",\"notes\",\"shares\",\"overpriced\",\"guy\",\"happens\",\"mainly\",\"otherwise\",\"saying\",\"prime\",\"syria\",\"indicated\",\"participate\",\"elections\",\"agreed\",\"despite\",\"terrorism\",\"avoid\",\"bring\",\"organization\",\"force\",\"arabs\",\"raises\",\"iraqis\",\"ams\",\"assault\",\"lest\",\"movement\",\"direct\",\"men\",\"whom\",\"views\",\"militant\",\"thursday\",\"islam\",\"terrorists\",\"dick\",\"harry\",\"hussain\",\"22\",\"ali\",\"confused\",\"19\",\"folks\",\"jihad\",\"development\",\"zarqawi\",\"allowed\",\"sign\",\"million\",\"members\",\"none\",\"responsible\",\"effort\",\"fair\",\"answer\",\"office\",\"wolfowitz\",\"richard\",\"instead\",\"links\",\"??\",\"pentagon\",\"bob\",\"eye\",\"neither\",\"lots\",\"cooperation\"],\"x1\":{\"__ndarray__\":\"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\",\"dtype\":\"float32\",\"shape\":[1000]},\"x2\":{\"__ndarray__\":\"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\",\"dtype\":\"float32\",\"shape\":[1000]}}},\"id\":\"bdf2bc39-0b66-41f5-9aed-30f2e7a28f52\",\"type\":\"ColumnDataSource\"},{\"attributes\":{},\"id\":\"775244bf-a710-43ae-bcd4-f4985492689b\",\"type\":\"LinearScale\"},{\"attributes\":{\"callback\":null},\"id\":\"f5792401-b2df-453b-9a4b-bedc67fbd4d1\",\"type\":\"DataRange1d\"},{\"attributes\":{\"formatter\":{\"id\":\"8c8e583f-ab3c-45e3-8843-5bcd54d3ee44\",\"type\":\"BasicTickFormatter\"},\"plot\":{\"id\":\"48caa1ed-85a7-4c88-92ef-0ef786f76a40\",\"subtype\":\"Figure\",\"type\":\"Plot\"},\"ticker\":{\"id\":\"083d14e3-e48d-433d-8c0e-31ffd1a815ec\",\"type\":\"BasicTicker\"}},\"id\":\"7209ec3e-51c8-43c7-b7de-2d534b4c0c57\",\"type\":\"LinearAxis\"},{\"attributes\":{},\"id\":\"68157698-5acb-418f-9732-1d7e2d098e69\",\"type\":\"SaveTool\"},{\"attributes\":{\"plot\":null,\"text\":\"T-SNE for most common words\"},\"id\":\"dbcab2f4-f18a-43ae-a397-67625aeaec68\",\"type\":\"Title\"},{\"attributes\":{},\"id\":\"b456548b-c96d-414b-9a8a-2891be876811\",\"type\":\"PanTool\"},{\"attributes\":{\"plot\":{\"id\":\"48caa1ed-85a7-4c88-92ef-0ef786f76a40\",\"subtype\":\"Figure\",\"type\":\"Plot\"},\"ticker\":{\"id\":\"497d14a0-aabb-466d-b915-35b98b6ad824\",\"type\":\"BasicTicker\"}},\"id\":\"fd4d3b09-c93d-4b56-9a91-95bb946e7717\",\"type\":\"Grid\"}],\"root_ids\":[\"48caa1ed-85a7-4c88-92ef-0ef786f76a40\"]},\"title\":\"Bokeh Application\",\"version\":\"0.12.10\"}};\n",
       "    var render_items = [{\"docid\":\"6743c1d5-fb7b-4032-b69e-1e1f69f40c35\",\"elementid\":\"2107463c-96c4-41a0-a5e4-5a95693a9c8b\",\"modelid\":\"48caa1ed-85a7-4c88-92ef-0ef786f76a40\"}];\n",
       "\n",
       "    root.Bokeh.embed.embed_items(docs_json, render_items);\n",
       "  }\n",
       "\n",
       "  if (root.Bokeh !== undefined) {\n",
       "    embed_document(root);\n",
       "  } else {\n",
       "    var attempts = 0;\n",
       "    var timer = setInterval(function(root) {\n",
       "      if (root.Bokeh !== undefined) {\n",
       "        embed_document(root);\n",
       "        clearInterval(timer);\n",
       "      }\n",
       "      attempts++;\n",
       "      if (attempts > 100) {\n",
       "        console.log(\"Bokeh: ERROR: Unable to embed document because BokehJS library is missing\")\n",
       "        clearInterval(timer);\n",
       "      }\n",
       "    }, 10, root)\n",
       "  }\n",
       "})(window);"
      ],
      "application/vnd.bokehjs_exec.v0+json": ""
     },
     "metadata": {
      "application/vnd.bokehjs_exec.v0+json": {
       "id": "48caa1ed-85a7-4c88-92ef-0ef786f76a40"
      }
     },
     "output_type": "display_data"
    }
   ],
   "source": [
    "word_vector = []\n",
    "word_list = []\n",
    "for word, count in word_counts_train.most_common(1000):\n",
    "    word_list.append(word)\n",
    "    word_vector.append(pre_trained_word_model[word])\n",
    "emb_scatter(word_vector, word_list, N=20)"
   ]
  },
  {
   "cell_type": "code",
   "execution_count": 42,
   "metadata": {},
   "outputs": [
    {
     "name": "stdout",
     "output_type": "stream",
     "text": [
      "finding clusters\n",
      "fitting tsne\n"
     ]
    },
    {
     "data": {
      "text/html": [
       "\n",
       "<div class=\"bk-root\">\n",
       "    <div class=\"bk-plotdiv\" id=\"a6f0c938-01b6-4169-b170-9f3ec806b55b\"></div>\n",
       "</div>"
      ]
     },
     "metadata": {},
     "output_type": "display_data"
    },
    {
     "data": {
      "application/javascript": [
       "(function(root) {\n",
       "  function embed_document(root) {\n",
       "    var docs_json = {\"71e0af13-b174-41d0-8c8d-3f5f6dbf3abd\":{\"roots\":{\"references\":[{\"attributes\":{\"formatter\":{\"id\":\"b77a1a7b-e089-48f4-a618-1aeaabe8764a\",\"type\":\"BasicTickFormatter\"},\"plot\":{\"id\":\"3f0cd4f9-0ede-4160-95ed-36307e5eaf46\",\"subtype\":\"Figure\",\"type\":\"Plot\"},\"ticker\":{\"id\":\"c83b1576-67ef-4456-b5e1-7c190fe53d63\",\"type\":\"BasicTicker\"}},\"id\":\"8de9a117-2621-4298-96d3-3708864b19bf\",\"type\":\"LinearAxis\"},{\"attributes\":{},\"id\":\"c83b1576-67ef-4456-b5e1-7c190fe53d63\",\"type\":\"BasicTicker\"},{\"attributes\":{\"source\":{\"id\":\"9c7c605d-7b31-41bf-bd6f-275f020bed95\",\"type\":\"ColumnDataSource\"}},\"id\":\"7540f42e-f5ed-422d-bb4d-5f92d8a897b7\",\"type\":\"CDSView\"},{\"attributes\":{\"dimension\":1,\"plot\":{\"id\":\"3f0cd4f9-0ede-4160-95ed-36307e5eaf46\",\"subtype\":\"Figure\",\"type\":\"Plot\"},\"ticker\":{\"id\":\"c83b1576-67ef-4456-b5e1-7c190fe53d63\",\"type\":\"BasicTicker\"}},\"id\":\"70a914f6-db90-4ef0-9e76-c01c85c10424\",\"type\":\"Grid\"},{\"attributes\":{\"data_source\":{\"id\":\"9c7c605d-7b31-41bf-bd6f-275f020bed95\",\"type\":\"ColumnDataSource\"},\"glyph\":{\"id\":\"2d48b246-acad-47c0-8dec-0ea36d9900f1\",\"type\":\"Circle\"},\"hover_glyph\":null,\"muted_glyph\":null,\"nonselection_glyph\":{\"id\":\"c734e9d5-e62c-4e6a-ac9f-e198d6ab2fdb\",\"type\":\"Circle\"},\"selection_glyph\":null,\"view\":{\"id\":\"7540f42e-f5ed-422d-bb4d-5f92d8a897b7\",\"type\":\"CDSView\"}},\"id\":\"c5ce18c8-5b1d-477e-bd23-fc085cf92199\",\"type\":\"GlyphRenderer\"},{\"attributes\":{\"fill_alpha\":{\"value\":0.1},\"fill_color\":{\"value\":\"#1f77b4\"},\"line_alpha\":{\"value\":0.1},\"line_color\":{\"value\":\"#1f77b4\"},\"size\":{\"units\":\"screen\",\"value\":8},\"x\":{\"field\":\"x1\"},\"y\":{\"field\":\"x2\"}},\"id\":\"c734e9d5-e62c-4e6a-ac9f-e198d6ab2fdb\",\"type\":\"Circle\"},{\"attributes\":{\"below\":[{\"id\":\"72f6b032-1b7b-49fb-821f-82334efb58b6\",\"type\":\"LinearAxis\"}],\"left\":[{\"id\":\"8de9a117-2621-4298-96d3-3708864b19bf\",\"type\":\"LinearAxis\"}],\"renderers\":[{\"id\":\"72f6b032-1b7b-49fb-821f-82334efb58b6\",\"type\":\"LinearAxis\"},{\"id\":\"e708a37e-6428-46e6-9010-6f0b82e07b47\",\"type\":\"Grid\"},{\"id\":\"8de9a117-2621-4298-96d3-3708864b19bf\",\"type\":\"LinearAxis\"},{\"id\":\"70a914f6-db90-4ef0-9e76-c01c85c10424\",\"type\":\"Grid\"},{\"id\":\"c5ce18c8-5b1d-477e-bd23-fc085cf92199\",\"type\":\"GlyphRenderer\"},{\"id\":\"1eeda0e2-af79-4408-96c4-a1c4fa16bec2\",\"type\":\"LabelSet\"}],\"title\":{\"id\":\"1b638d3c-6460-447c-acbd-28a3589895de\",\"type\":\"Title\"},\"toolbar\":{\"id\":\"4dcd6ec0-6c34-456e-9b1f-ee7d6cd60158\",\"type\":\"Toolbar\"},\"toolbar_location\":\"above\",\"x_range\":{\"id\":\"e320d455-36f4-4891-bf8d-f549e3fd7c77\",\"type\":\"DataRange1d\"},\"x_scale\":{\"id\":\"274c8ca9-8895-44fb-8f82-b67bf2a12853\",\"type\":\"LinearScale\"},\"y_range\":{\"id\":\"cfcb83f6-4e38-4cc6-b12d-b8ac3cb779a4\",\"type\":\"DataRange1d\"},\"y_scale\":{\"id\":\"6d4d4e97-cc51-4c72-99ef-ece117777bc5\",\"type\":\"LinearScale\"}},\"id\":\"3f0cd4f9-0ede-4160-95ed-36307e5eaf46\",\"subtype\":\"Figure\",\"type\":\"Plot\"},{\"attributes\":{},\"id\":\"b77a1a7b-e089-48f4-a618-1aeaabe8764a\",\"type\":\"BasicTickFormatter\"},{\"attributes\":{\"callback\":null,\"column_names\":[\"x1\",\"x2\",\"names\",\"colors\"],\"data\":{\"colors\":[\"#7f7f7f\",\"#98df8a\",\"#c5b0d5\",\"#c49c94\",\"#ffbb78\",\"#1f77b4\",\"#bcbd22\",\"#8c564b\",\"#e377c2\",\"#ff7f0e\",\"#c7c7c7\",\"#d62728\",\"#aec7e8\",\"#f7b6d2\",\"#ff9896\",\"#9467bd\",\"#2ca02c\"],\"names\":[\"noun\",\"punct\",\"verb\",\"pron\",\"propn\",\"adp\",\"det\",\"adj\",\"aux\",\"adv\",\"cconj\",\"part\",\"num\",\"sconj\",\"x\",\"intj\",\"sym\"],\"x1\":{\"__ndarray__\":\"BsoHQ6+T7EIofs3CrE89wyLzZUO4hJfChiJdQ3hm7kIpVtA/4AftQplXPsPUDZXCpCmJwCejsEEUQ/nCYz2kQeI0l0E=\",\"dtype\":\"float32\",\"shape\":[17]},\"x2\":{\"__ndarray__\":\"42NOw4Ikq0H1zwZDAZg3QqKPisLmvZhBNAmKQgATFUMSMEVDUZS0wgo5msLVQbLCwLl7w41B/cGrFkHDqCMPw4MznkI=\",\"dtype\":\"float32\",\"shape\":[17]}}},\"id\":\"9c7c605d-7b31-41bf-bd6f-275f020bed95\",\"type\":\"ColumnDataSource\"},{\"attributes\":{\"plot\":{\"id\":\"3f0cd4f9-0ede-4160-95ed-36307e5eaf46\",\"subtype\":\"Figure\",\"type\":\"Plot\"},\"source\":{\"id\":\"9c7c605d-7b31-41bf-bd6f-275f020bed95\",\"type\":\"ColumnDataSource\"},\"text\":{\"field\":\"names\"},\"text_align\":\"center\",\"text_color\":{\"value\":\"#555555\"},\"text_font_size\":{\"value\":\"8pt\"},\"x\":{\"field\":\"x1\"},\"y\":{\"field\":\"x2\"},\"y_offset\":{\"value\":6}},\"id\":\"1eeda0e2-af79-4408-96c4-a1c4fa16bec2\",\"type\":\"LabelSet\"},{\"attributes\":{\"fill_color\":{\"field\":\"colors\"},\"line_color\":{\"field\":\"colors\"},\"size\":{\"units\":\"screen\",\"value\":8},\"x\":{\"field\":\"x1\"},\"y\":{\"field\":\"x2\"}},\"id\":\"2d48b246-acad-47c0-8dec-0ea36d9900f1\",\"type\":\"Circle\"},{\"attributes\":{\"callback\":null},\"id\":\"e320d455-36f4-4891-bf8d-f549e3fd7c77\",\"type\":\"DataRange1d\"},{\"attributes\":{},\"id\":\"2e4dd3a8-362b-4ac8-ba25-ee4890131749\",\"type\":\"BasicTickFormatter\"},{\"attributes\":{},\"id\":\"23a57ef9-c248-43b2-972a-06ef69af87d2\",\"type\":\"PanTool\"},{\"attributes\":{},\"id\":\"2aeb8eed-1737-4470-b015-62b255a4b889\",\"type\":\"SaveTool\"},{\"attributes\":{},\"id\":\"ca3e2cea-5ee8-4639-9d82-55dc65123d99\",\"type\":\"WheelZoomTool\"},{\"attributes\":{},\"id\":\"8d785658-917b-41cf-a4ef-76dcb71178c4\",\"type\":\"ResetTool\"},{\"attributes\":{\"plot\":null,\"text\":\"T-SNE for most common words\"},\"id\":\"1b638d3c-6460-447c-acbd-28a3589895de\",\"type\":\"Title\"},{\"attributes\":{},\"id\":\"274c8ca9-8895-44fb-8f82-b67bf2a12853\",\"type\":\"LinearScale\"},{\"attributes\":{\"active_drag\":\"auto\",\"active_inspect\":\"auto\",\"active_scroll\":\"auto\",\"active_tap\":\"auto\",\"tools\":[{\"id\":\"23a57ef9-c248-43b2-972a-06ef69af87d2\",\"type\":\"PanTool\"},{\"id\":\"ca3e2cea-5ee8-4639-9d82-55dc65123d99\",\"type\":\"WheelZoomTool\"},{\"id\":\"8d785658-917b-41cf-a4ef-76dcb71178c4\",\"type\":\"ResetTool\"},{\"id\":\"2aeb8eed-1737-4470-b015-62b255a4b889\",\"type\":\"SaveTool\"}]},\"id\":\"4dcd6ec0-6c34-456e-9b1f-ee7d6cd60158\",\"type\":\"Toolbar\"},{\"attributes\":{\"callback\":null},\"id\":\"cfcb83f6-4e38-4cc6-b12d-b8ac3cb779a4\",\"type\":\"DataRange1d\"},{\"attributes\":{},\"id\":\"6d4d4e97-cc51-4c72-99ef-ece117777bc5\",\"type\":\"LinearScale\"},{\"attributes\":{\"plot\":{\"id\":\"3f0cd4f9-0ede-4160-95ed-36307e5eaf46\",\"subtype\":\"Figure\",\"type\":\"Plot\"},\"ticker\":{\"id\":\"d8f0a3be-816e-44ab-a0d8-91ceb6db9b9a\",\"type\":\"BasicTicker\"}},\"id\":\"e708a37e-6428-46e6-9010-6f0b82e07b47\",\"type\":\"Grid\"},{\"attributes\":{\"formatter\":{\"id\":\"2e4dd3a8-362b-4ac8-ba25-ee4890131749\",\"type\":\"BasicTickFormatter\"},\"plot\":{\"id\":\"3f0cd4f9-0ede-4160-95ed-36307e5eaf46\",\"subtype\":\"Figure\",\"type\":\"Plot\"},\"ticker\":{\"id\":\"d8f0a3be-816e-44ab-a0d8-91ceb6db9b9a\",\"type\":\"BasicTicker\"}},\"id\":\"72f6b032-1b7b-49fb-821f-82334efb58b6\",\"type\":\"LinearAxis\"},{\"attributes\":{},\"id\":\"d8f0a3be-816e-44ab-a0d8-91ceb6db9b9a\",\"type\":\"BasicTicker\"}],\"root_ids\":[\"3f0cd4f9-0ede-4160-95ed-36307e5eaf46\"]},\"title\":\"Bokeh Application\",\"version\":\"0.12.10\"}};\n",
       "    var render_items = [{\"docid\":\"71e0af13-b174-41d0-8c8d-3f5f6dbf3abd\",\"elementid\":\"a6f0c938-01b6-4169-b170-9f3ec806b55b\",\"modelid\":\"3f0cd4f9-0ede-4160-95ed-36307e5eaf46\"}];\n",
       "\n",
       "    root.Bokeh.embed.embed_items(docs_json, render_items);\n",
       "  }\n",
       "\n",
       "  if (root.Bokeh !== undefined) {\n",
       "    embed_document(root);\n",
       "  } else {\n",
       "    var attempts = 0;\n",
       "    var timer = setInterval(function(root) {\n",
       "      if (root.Bokeh !== undefined) {\n",
       "        embed_document(root);\n",
       "        clearInterval(timer);\n",
       "      }\n",
       "      attempts++;\n",
       "      if (attempts > 100) {\n",
       "        console.log(\"Bokeh: ERROR: Unable to embed document because BokehJS library is missing\")\n",
       "        clearInterval(timer);\n",
       "      }\n",
       "    }, 10, root)\n",
       "  }\n",
       "})(window);"
      ],
      "application/vnd.bokehjs_exec.v0+json": ""
     },
     "metadata": {
      "application/vnd.bokehjs_exec.v0+json": {
       "id": "3f0cd4f9-0ede-4160-95ed-36307e5eaf46"
      }
     },
     "output_type": "display_data"
    }
   ],
   "source": [
    "top_POS = [k for k,v in POS_counts_train.most_common(1000)]\n",
    "\n",
    "top_POS_vecs = []\n",
    "for pos in top_POS:\n",
    "    top_POS_vecs.append(pre_trained_POS_model[pos])\n",
    "emb_scatter(top_POS_vecs, top_POS, N=17)"
   ]
  },
  {
   "cell_type": "markdown",
   "metadata": {},
   "source": [
    "### e. GloVe word embeddings trained from our corpus:"
   ]
  },
  {
   "cell_type": "code",
   "execution_count": 43,
   "metadata": {
    "collapsed": true
   },
   "outputs": [],
   "source": [
    "# Copy the \"text8\"  into the GloVe folder and run \"./demo.sh\". \n",
    "# Copy the \"vector.txt\" back to the notebook folder and run\n",
    "# the second part of this cell.\n",
    "\n",
    "\n",
    "\n",
    "# with open('text8', 'w+') as file:\n",
    "#     for sentence in gensim_word_sentences_train:\n",
    "#         for word in sentence:\n",
    "#             if w2i[word] == 0:\n",
    "#                 file.write(\"<UNK> \")\n",
    "#             else:\n",
    "#                 file.write(word + \" \")\n",
    "    \n",
    "    \n",
    "    \n",
    "    \n",
    "    \n",
    "    \n",
    "\n",
    "# trained_glove_word_model = {}\n",
    "\n",
    "# with open('vectors.txt', 'r') as gloVe_corpus_file:\n",
    "#     for line in gloVe_corpus_file:\n",
    "#         l = line.split()\n",
    "#         trained_glove_word_model[l.pop(0)] = l\n",
    "        \n",
    "        \n",
    "# most_common_words = word_counts_train.most_common(1000)\n",
    "# trained_word_vectors = []\n",
    "# most_common_words = [ word for word, count in most_common_words]\n",
    "# for word in most_common_words:\n",
    "#     trained_word_vectors.append(trained_glove_word_model[i2w[w2i[word]]])\n",
    "# emb_scatter(trained_word_vectors, most_common_words, N=20)"
   ]
  },
  {
   "cell_type": "markdown",
   "metadata": {},
   "source": [
    "### 3. Prepare data to be used by BiLSTM"
   ]
  },
  {
   "cell_type": "code",
   "execution_count": 44,
   "metadata": {
    "collapsed": true
   },
   "outputs": [],
   "source": [
    "def get_word_embeddings(word_model, i2t):\n",
    "    embeddings = []\n",
    "    for index in i2w.keys():\n",
    "        embeddings.append(word_model[i2w[index]])\n",
    "    return embeddings\n",
    "\n",
    "def get_tags_embeddings(tag_model, i2t):\n",
    "    embeddings = []\n",
    "    for index in i2t.keys():\n",
    "        embeddings.append(tag_model[i2t[index]])\n",
    "    return embeddings"
   ]
  }
 ],
 "metadata": {
  "kernelspec": {
   "display_name": "Python 3",
   "language": "python",
   "name": "python3"
  },
  "language_info": {
   "codemirror_mode": {
    "name": "ipython",
    "version": 3
   },
   "file_extension": ".py",
   "mimetype": "text/x-python",
   "name": "python",
   "nbconvert_exporter": "python",
   "pygments_lexer": "ipython3",
   "version": "3.6.3"
  }
 },
 "nbformat": 4,
 "nbformat_minor": 2
}
