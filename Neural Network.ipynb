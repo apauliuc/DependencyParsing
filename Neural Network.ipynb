{
 "cells": [
  {
   "cell_type": "code",
   "execution_count": 1,
   "metadata": {},
   "outputs": [],
   "source": [
    "import numpy as np\n",
    "import pandas as pd\n",
    "import torch\n",
    "from torch import nn\n",
    "from torch.autograd import Variable"
   ]
  },
  {
   "cell_type": "markdown",
   "metadata": {},
   "source": [
    "### LSTM definition"
   ]
  },
  {
   "cell_type": "code",
   "execution_count": 2,
   "metadata": {},
   "outputs": [],
   "source": [
    "class LSTM_Net(nn.Module):\n",
    "    def __init__(self, input_size, hidden_size, num_layers,\n",
    "                 vocab_size, pos_size, embed_dim, word_embeddings, pos_embeddings):\n",
    "        super(LSTM_Net, self).__init__()\n",
    "        \n",
    "        self.hidden_size = hidden_size\n",
    "        self.num_layers = num_layers\n",
    "        \n",
    "        self.embeddings_word = nn.Embedding(vocab_size, embed_dim)\n",
    "        self.embeddings_word.weight = nn.Parameter(word_embeddings)\n",
    "        self.embeddings_word.requires_grad = False\n",
    "        \n",
    "        self.embeddings_pos = nn.Embedding(pos_size, embed_dim)\n",
    "        self.embeddings_pos.weight = nn.Parameter(pos_embeddings)\n",
    "        self.embeddings_pos.requires_grad = False\n",
    "        \n",
    "        self.lstm = nn.lstm(\n",
    "            input_size = input_size,\n",
    "            hidden_size = hidden_size,\n",
    "            num_layers = num_layers,\n",
    "            batch_first = True,\n",
    "            bidirectional = True\n",
    "        )\n",
    "        \n",
    "        # more layers for MLP and OUTPUT\n",
    "        \n",
    "    def forward(self, x, x_pos):\n",
    "        sent_embed = torch.cat((self.embeddings_word(x), self.embeddings_pos(x_pos)), 1)\n",
    "        h0 = Variable(torch.zeros(self.num_layers, len(x), self.hidden_size))\n",
    "        x, h = self.lstm(sent_embed)\n",
    "        \n",
    "        # do further processing in MLP"
   ]
  },
  {
   "cell_type": "markdown",
   "metadata": {},
   "source": [
    "### Load embeddings and training data"
   ]
  },
  {
   "cell_type": "code",
   "execution_count": 4,
   "metadata": {},
   "outputs": [],
   "source": [
    "# def load_glove_embeddings(path, w2i, embedding_dim=50):\n",
    "#     with open(path) as f:\n",
    "#         embeddings = np.zeros(len(w2i), embedding_dim)\n",
    "#         for line in f.readline():\n",
    "#             values = line.split()\n",
    "#             word = values[0]\n",
    "#             idx = w2i.get(word)\n",
    "#             if idx:\n",
    "#                 vec = np.array(values[1:], dtype='float32')\n",
    "#                 embeddings[idx] = vec\n",
    "#         return torch.from_numpy(embeddings).float()"
   ]
  },
  {
   "cell_type": "code",
   "execution_count": null,
   "metadata": {},
   "outputs": [],
   "source": []
  },
  {
   "cell_type": "markdown",
   "metadata": {},
   "source": [
    "### Initialise neural network"
   ]
  },
  {
   "cell_type": "code",
   "execution_count": null,
   "metadata": {},
   "outputs": [],
   "source": [
    "model = LSTM_Net(input_size=100, hidden_size=100, num_layers=3, vocab_size=0, pos_size=0,\n",
    "                 embed_dim=50, word_embeddings=embeddings_w, pos_embeddings=embeddings_w)\n",
    "params = filter(lambda p: p.requires_grad, model.parameters())\n",
    "optimizer = torch.optim.SGD(parameters, lr=0.001)\n",
    "# criterion = ..."
   ]
  },
  {
   "cell_type": "markdown",
   "metadata": {},
   "source": [
    "### Training time"
   ]
  },
  {
   "cell_type": "code",
   "execution_count": null,
   "metadata": {},
   "outputs": [],
   "source": []
  }
 ],
 "metadata": {
  "kernelspec": {
   "display_name": "Python 3",
   "language": "python",
   "name": "python3"
  },
  "language_info": {
   "codemirror_mode": {
    "name": "ipython",
    "version": 3
   },
   "file_extension": ".py",
   "mimetype": "text/x-python",
   "name": "python",
   "nbconvert_exporter": "python",
   "pygments_lexer": "ipython3",
   "version": "3.6.3"
  }
 },
 "nbformat": 4,
 "nbformat_minor": 2
}
