{
 "cells": [
  {
   "cell_type": "code",
   "execution_count": 2,
   "metadata": {
    "collapsed": true
   },
   "outputs": [],
   "source": [
    "import torch\n",
    "import torch.autograd as autograd\n",
    "import torch.nn as nn\n",
    "import torch.nn.functional as F\n",
    "import torch.optim as optim\n",
    "import numpy as np\n"
   ]
  },
  {
   "cell_type": "code",
   "execution_count": 8,
   "metadata": {},
   "outputs": [
    {
     "data": {
      "text/plain": [
       "\n(0 ,.,.) = \n\nColumns 0 to 8 \n   1.4717 -0.6250  0.5966  0.6286 -0.6191  0.5931 -0.2042  1.0451 -0.4072\n -2.1775  0.6535  0.9036  0.4037  1.1621  0.6863  0.2129  0.4617  1.5569\n  1.4975 -0.3368 -0.4115  1.2643 -1.7431 -0.9515 -2.5281  1.2661 -0.4625\n\nColumns 9 to 17 \n   0.5154 -0.4233 -0.1289 -0.8457  0.8366 -0.6705 -1.4227 -1.4943  0.8017\n -0.8658  0.7074 -0.2764  0.8495  1.2614 -1.1320 -1.3539  0.2862 -0.7748\n  0.6311  0.9004  0.1901  1.8551 -1.4127 -0.6078  0.8515  0.1965  0.2383\n\nColumns 18 to 19 \n  -1.4641  1.4096\n  2.1011  1.5397\n -0.0927  0.4792\n\n(1 ,.,.) = \n\nColumns 0 to 8 \n   0.5065 -0.5522 -0.7278 -1.5794  1.6324  0.3974 -0.4250 -0.4989 -0.4237\n  1.1908 -0.7966 -0.6417  0.1836  2.1564 -0.3567 -0.6212  0.7097  0.4180\n -0.7611  0.6444  1.4147 -1.3511  0.7813  0.4428  0.2547 -0.0658 -1.1572\n\nColumns 9 to 17 \n  -1.6672 -0.3506  0.7188 -0.0009 -0.3292 -0.1581  0.5562 -0.4260  1.2286\n -0.8728 -0.1224  0.8468 -0.5165 -0.9588 -0.1454  0.1308  0.5756 -0.4734\n  0.0965  0.8232  1.3893 -1.6613  1.2629  0.1715  0.0142 -1.9725 -1.2796\n\nColumns 18 to 19 \n  -0.3005  0.8025\n  0.5284 -1.0123\n -0.0945 -1.1778\n[torch.FloatTensor of size 2x3x20]"
      ]
     },
     "execution_count": 8,
     "metadata": {},
     "output_type": "execute_result"
    }
   ],
   "source": [
    "torch.randn(2, 3, 20)"
   ]
  }
 ],
 "metadata": {
  "kernelspec": {
   "display_name": "Python 2",
   "language": "python",
   "name": "python2"
  },
  "language_info": {
   "codemirror_mode": {
    "name": "ipython",
    "version": 2
   },
   "file_extension": ".py",
   "mimetype": "text/x-python",
   "name": "python",
   "nbconvert_exporter": "python",
   "pygments_lexer": "ipython2",
   "version": "2.7.6"
  }
 },
 "nbformat": 4,
 "nbformat_minor": 0
}
